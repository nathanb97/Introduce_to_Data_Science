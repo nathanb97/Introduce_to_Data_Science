{
 "cells": [
  {
   "cell_type": "markdown",
   "metadata": {},
   "source": [
    "IA & Data science (3i026) -- 2018-2019\n",
    "--------\n",
    "*&copy; Equipe pédagogique: Manon Ansart, Vincent Guigue, Marie-Jeanne Lesot, Christophe Marsala, Olivier Schwander.*\n"
   ]
  },
  {
   "cell_type": "markdown",
   "metadata": {},
   "source": [
    "# TD-TME03: programmation du perceptron\n",
    "\n",
    "Dans ce TP, nous allons principalement programmer un perceptron, en nous restreignant au cas binaire où les données sont étiquetées $+1$ ou $-1$ (comme les séances précédentes)."
   ]
  },
  {
   "cell_type": "markdown",
   "metadata": {},
   "source": [
    "<font size=\"+1\" color=\"RED\">**[Q]**</font> **Indiquer dans la boîte ci-dessous vos noms et prénoms :**"
   ]
  },
  {
   "cell_type": "code",
   "execution_count": null,
   "metadata": {},
   "outputs": [],
   "source": [
    "Sahli Oussama\n",
    "Brami Nathan"
   ]
  },
  {
   "cell_type": "markdown",
   "metadata": {},
   "source": [
    "*Double-cliquer ici et insérer les noms et prénoms de votre binôme*"
   ]
  },
  {
   "cell_type": "markdown",
   "metadata": {},
   "source": [
    "<font color=\"RED\" size=\"+1\">**[Q]**</font> **Renommer ce fichier ipython**\n",
    "\n",
    "Tout en haut de cette page, cliquer sur <tt>tme-03</tt> et rajouter à la suite de <tt>tme-03</tt> les noms des membres du binômes séparés par un tiret."
   ]
  },
  {
   "cell_type": "markdown",
   "metadata": {},
   "source": [
    "<font color=\"RED\" size=\"+1\">IMPORTANT: soumission de votre fichier final</font>\n",
    "\n",
    "**Nom à donner au fichier à poster** : *tme-03-Nom1_Nom2.ipynb* \n",
    "- *Nom1* et *Nom2* : noms des membres du binôme\n",
    "- ne pas compresser ou faire une archive: il faut rendre le fichier ipython tel quel, éventuellement, si vous avez d'autres fichiers vous les rendez séparément.\n",
    "\n",
    "**Echancier pour la soumission de votre compte-rendu:**\n",
    "- le compte-rendu d'une séance doit être remis obligatoirement <font color=\"RED\">** à la fin de la séance**</font>. C'est ce compte-rendu qui donne la note de base de la séance.\n",
    "- vous pouvez éventuellement compléter votre compte-rendu  pour obtenir des points bonus, dans ce cas, vous devez soumettre votre complément avant le début de la semaine suivante.\n",
    "\n",
    "** Sur la page Moodle de remise du travail <font color=\"RED\">ne pas oublier d'envoyer le compte rendu</font>** à la fin de la séance, la soumission de la version complémentaire post-séance se fera sur une page différente."
   ]
  },
  {
   "cell_type": "markdown",
   "metadata": {},
   "source": [
    "## Création d'une librairie\n",
    "\n",
    "Afin de pouvoir réutiliser les classes et fonctions écrites dans les séances de TDTME précédentes, on va construire une librairie qu'il suffira d'importer.\n",
    "\n",
    "Récupérer l'archive iads.tgz et la désarchiver de telle sorte que le répertoire iads soit un répertoire frère du répertoire tme03.\n",
    "\n",
    "Ainsi, vous devrez avoir l'arborescence suivante dans votre répertoire $HOME:\n",
    "\n",
    "    - 3i026/\n",
    "        - tme01/\n",
    "            - tme01.ipynb\n",
    "        - tme02/\n",
    "            - tme02.ipynb\n",
    "        - tme03/\n",
    "            - tme03.ipynb\n",
    "        - iads/\n",
    "            - Classifiers.py\n",
    "            - LabeledSet.py\n",
    "            - utils.py\n",
    "          \n",
    "\n",
    "**Important** :\n",
    "- ce fichier tme03.ipynb doit toujours rester dans le répertorie tme03/\n",
    "- pour ouvrir les fichiers py qui se trouvent dans le répertoire iads/ il est nécessaire d'utiliser un éditeur de texte comme emacs, gedit, idle,...\n",
    "\n",
    "\n",
    "<font color=\"RED\" size=\"+1\">**[Q]**</font> **Ouvrir et compléter les fichiers Classifiers.py et utils.py**\n",
    "\n",
    "Pour compléter ces fichiers, reprendre le code écrit dans le TDTME précédent pour compléter toute les parties indiquées <tt>#TODO</tt>.\n",
    "- dans utils.py, il faut compléter la fonction createGaussianDataset\n",
    "- dans Classifiers.py, il faut compléter le code des classifiers"
   ]
  },
  {
   "cell_type": "markdown",
   "metadata": {},
   "source": [
    "Une fois ces fichiers complétés, la librairie <tt>iads</tt> peut être importée dans ce notebook."
   ]
  },
  {
   "cell_type": "code",
   "execution_count": 1,
   "metadata": {},
   "outputs": [],
   "source": [
    "import numpy as np\n",
    "import pandas as pd\n",
    "import matplotlib.pyplot as plt\n",
    "%matplotlib inline  \n",
    "\n"
   ]
  },
  {
   "cell_type": "markdown",
   "metadata": {},
   "source": [
    "La commande <tt>help</tt> permet d'avoir des informations sur le contenu d'une librairie importée:"
   ]
  },
  {
   "cell_type": "code",
   "execution_count": 19,
   "metadata": {},
   "outputs": [],
   "source": [
    "class LabeledSet:  \n",
    "    \"\"\" Classe pour représenter un ensemble d'exemples (base d'apprentissage)\n",
    "        Variables d'instance :\n",
    "            - input_dimension (int) : dimension de la description d'un exemple (x)\n",
    "            - nb_examples (int) : nombre d'exemples dans l'ensemble\n",
    "    \"\"\"\n",
    "    \n",
    "    def __init__(self, input_dimension):\n",
    "        \"\"\" Constructeur de LabeledSet\n",
    "            Argument: \n",
    "                - intput_dimension (int) : dimension de x\n",
    "            Hypothèse : input_dimension > 0\n",
    "        \"\"\"\n",
    "        self.input_dimension = input_dimension\n",
    "        self.nb_examples = 0\n",
    "    \n",
    "    def addExample(self,vector,label):\n",
    "        \"\"\" Ajout d'un exemple dans l'ensemble\n",
    "            Argument: \n",
    "                - vector ()\n",
    "                - label (int) : classe de l'exemple (+1 ou -1)\n",
    "            \n",
    "        \"\"\"\n",
    "        if (self.nb_examples == 0):\n",
    "            self.x = np.array([vector])\n",
    "            self.y = np.array([label])\n",
    "        else:\n",
    "            self.x = np.vstack((self.x, vector))  \n",
    "            self.y = np.vstack((self.y, label))\n",
    "        \n",
    "        self.nb_examples = self.nb_examples + 1   \n",
    "    \n",
    "    def getInputDimension(self):\n",
    "        \"\"\" Renvoie la dimension de l'espace d'entrée\n",
    "        \"\"\"\n",
    "        return self.input_dimension\n",
    "    \n",
    "    def size(self):\n",
    "        \"\"\" Renvoie le nombre d'exemples dans l'ensemble\n",
    "        \"\"\"\n",
    "        return self.nb_examples\n",
    "    \n",
    "    def getX(self, i):\n",
    "        \"\"\" Renvoie la description du i-eme exemple (x_i)\n",
    "        \"\"\"\n",
    "        return self.x[i]             \n",
    "    \n",
    "    #\n",
    "    def getY(self, i):\n",
    "        \"\"\" Renvoie la classe de du i-eme exemple (y_i)\n",
    "        \"\"\"\n",
    "        return(self.y[i])"
   ]
  },
  {
   "cell_type": "code",
   "execution_count": 139,
   "metadata": {},
   "outputs": [
    {
     "name": "stdout",
     "output_type": "stream",
     "text": [
      "[[0 1]\n",
      " [2 3]]\n",
      "<__main__.LabeledSet object at 0x000001EDBA0C9AC8>\n"
     ]
    }
   ],
   "source": [
    "# Exemple d'utilisation de LabeledSet\n",
    "\n",
    "une_base = LabeledSet(2)        # définition d'une base pour contenir des exemples en 2D\n",
    "une_base.addExample([0, 1],1)   # ajout de l'exemple (0, 1) de classe +#1\n",
    "#print(une_base.getX(0))\n",
    "une_base.addExample([2, 3],1)   # ajout de l'exemple (2, 3) de classe +#1\n",
    "#print(une_base.getX(1))\n",
    "une_base.addExample([1, 2],-1)  # ajout de l'exemple (1, 2) de classe -1#\n",
    "#print(une_base.getX(2))\n",
    "une_base.addExample([2, 2],-1)  # ajout de l'exemple (2, 2) de classe -1\n",
    "#print(une_base.getX(3))\n",
    "\n",
    "S_pos = une_base.x[np.where(une_base.y == 1),:][0]\n",
    "print(S_pos)\n",
    "#print(une_base.x) # affiche tous les points sans leur classe\n",
    "#print(une_base.x[np.where(une_base.y==1)])\n",
    "#print(np.where(une_base.y==1))\n",
    "print(une_base)"
   ]
  },
  {
   "cell_type": "code",
   "execution_count": 142,
   "metadata": {},
   "outputs": [
    {
     "name": "stdout",
     "output_type": "stream",
     "text": [
      "[0 1] [1]\n",
      "[2 3] [1]\n",
      "[1 2] [-1]\n",
      "[2 2] [-1]\n"
     ]
    }
   ],
   "source": [
    "def affiche_base(objetLabelSet):\n",
    "    #lse exemples de l'objet labeldset sont stocké dans sa variable x\n",
    "    nb_exemples=objetLabelSet.size()\n",
    "    for i in range(0,nb_exemples):\n",
    "        ex_i=objetLabelSet.getX(i)\n",
    "        print(ex_i,objetLabelSet.getY(i))\n",
    "     \n",
    "\n",
    "affiche_base(une_base)"
   ]
  },
  {
   "cell_type": "code",
   "execution_count": 22,
   "metadata": {},
   "outputs": [],
   "source": [
    "import matplotlib.pyplot as plt\n",
    "%matplotlib inline \n",
    "\n",
    "def plot2DSet(set):\n",
    "    \"\"\" LabeledSet -> NoneType\n",
    "        Hypothèse: set est de dimension 2\n",
    "        affiche une représentation graphique du LabeledSet\n",
    "        remarque: l'ordre des labels dans set peut être quelconque\n",
    "    \"\"\"\n",
    "    S_pos = set.x[np.where(set.y == 1),:][0]      # tous les exemples de label +1\n",
    "    #print(S_pos)\n",
    "    S_neg = set.x[np.where(set.y == -1),:][0]     # tous les exemples de label -1\n",
    "    plt.scatter(S_pos[:,0],S_pos[:,1],marker='o') # 'o' pour la classe +1\n",
    "    plt.scatter(S_neg[:,0],S_neg[:,1],marker='x') # 'x' pour la classe -1\n",
    "    \n",
    "# Par exemple :len(data)\n",
    "#plot2DSet(une_base)"
   ]
  },
  {
   "cell_type": "code",
   "execution_count": 23,
   "metadata": {},
   "outputs": [],
   "source": [
    "def createGaussianDataset(positive_center,positive_sigma,negative_center,negative_sigma,nb_points):\n",
    "    #on doit générer 10 point négatif et 10 point positifs\n",
    "    #on doit les générer autour de leur centre respectifs\n",
    "    #retourne un ensemble de point associé à une moyenne et une covariance\n",
    "    #+ la covariance est grande + lespace de valeurs est grand\n",
    "    points_pos=np.random.multivariate_normal(positive_center, positive_sigma,nb_points) #jobtient un ensemble d'exemple positif de dim 2\n",
    "    points_neg=np.random.multivariate_normal(negative_center,negative_sigma, nb_points)\n",
    "    #est ce uq les points généré sont de dim 2?\n",
    "    \n",
    "    une_base = LabeledSet(2)        # définition d'une base pour contenir des exemples en 2D\n",
    "    \n",
    "    #j'ajoute les points positifs à ma base \n",
    "    for i in range(0,len(points_pos)):\n",
    "        une_base.addExample(points_pos[i],1)   # ajout de l'exemple de classe +1\n",
    "    \n",
    "    #JAJOUTE LES POINTS NÉGAtifs\n",
    "    for i in range(0,len(points_neg)):\n",
    "        une_base.addExample(points_neg[i],-1)   # ajout de l'exemple de classe +1\n",
    "        \n",
    "    #je retourne mon objet LabeledSet qui m'a servit à stocker mes couples d'exemples \n",
    "    return une_base"
   ]
  },
  {
   "cell_type": "code",
   "execution_count": 24,
   "metadata": {},
   "outputs": [
    {
     "name": "stdout",
     "output_type": "stream",
     "text": [
      "Taille de la base jouet générée : 20 exemples\n"
     ]
    }
   ],
   "source": [
    "# Exemple d'utilisation:\n",
    "\n",
    "\n",
    "#the_set = createGaussianDataset(np.array([1,1]),np.array([[1,0],[0,1]]),np.array([-1,-1]),np.array([[1,0],[0,1]]),10)\n",
    "the_set = createGaussianDataset(np.array([1,1]),np.array([[0.01,0],[0,0.001]]),np.array([4,4]),np.array([[0.1,0],[0,0.01]]),10)\n",
    "# remarque: \n",
    "\"la variance est une mesure de la dispersion des valeurs d'un échantillion autour de la moyenne.\"\n",
    "\"Elle représente la moynne des carrés des écart à la moyenne.\"\n",
    "\"Si la variance est faible , alors les valeurs sont très centré autour de la moyenne\"\n",
    "\"Si la variance est grande, les valeurs seront très espacés\"\n",
    "\"L'écart type renseigne sur la dispersion des valeurs de la série par rapport à la moyenn.\"\n",
    "\"+ l'écart type est petit , + les valeurs sont regroupé autour de la moyenne , et inversement\"\n",
    "\n",
    "#Explication des veleur insérer dans la matrice 2*2\n",
    "#\"on a  une matrice 2*2 --> |variance_x ecart_type_x   |\"\n",
    "#                          \"|ecart_type_y variance_y   |\"\n",
    "\n",
    "\n",
    "\"Remarque importante --> dans la matrice 2*2 de covarince , on a 4 parametres : (variance de x(abcisse),ecart type associé au x,\"\n",
    "\"variance de y(ordonne),ecart type associé à y)\"\n",
    "\"Si on augmente la variance de x ,alors les point seront tres disperesé autour de la moyenne sur laxe des x\"\n",
    "\"Si on augmente lecart type de x alors les points seront tres dispereser autour de la moyenne sur laxe des x \"\n",
    "\"Si on augmente la variance de y alors les points seront tres dispereser autour de la moyenne sur laxe des y \"\n",
    "\"Si on augmente lecart type de y alors les points seront tres dispereser autour de la moyenne sur laxe des y\"\n",
    "    \n",
    "\"chaque point est repréenté par deux cordonnées(x ,y), ainsi si on s'amuse à modifier les valeurs associé à variance_x\"\n",
    "\"et à variance_y , on obtiendra le comportement décrit ci dessus\"\n",
    "\n",
    "print(\"Taille de la base jouet générée :\", the_set.size(), \"exemples\")\n",
    "\n",
    "# Affichage :\n",
    "#plot2DSet(the_set)"
   ]
  },
  {
   "cell_type": "code",
   "execution_count": 25,
   "metadata": {},
   "outputs": [],
   "source": [
    "class Classifier:\n",
    "    \"\"\" Classe pour représenter un classifieur\n",
    "        Attention: cette classe est une classe abstraite, elle ne peut pas être\n",
    "        instanciée.\n",
    "    \"\"\"\n",
    "    \n",
    "    def __init__(self, input_dimension):\n",
    "        \"\"\" Constructeur de Classifier\n",
    "            Argument:\n",
    "                - intput_dimension (int) : dimension d'entrée des exemples\n",
    "            Hypothèse : input_dimension > 0\n",
    "        \"\"\"\n",
    "        raise NotImplementedError(\"Please Implement this method\")\n",
    "        \n",
    "    def predict(self, x):\n",
    "        \"\"\" rend la prediction sur x (-1 ou +1)\n",
    "        \"\"\"\n",
    "        raise NotImplementedError(\"Please Implement this method\")\n",
    "\n",
    "    def train(self, labeledSet):\n",
    "        \"\"\" Permet d'entrainer le modele sur l'ensemble donné  #cest lapprentissage\n",
    "        \"\"\"\n",
    "        \n",
    "        raise NotImplementedError(\"Please Implement this method\")\n",
    "    \n",
    "    def accuracy(self, dataset):\n",
    "        \"\"\" Permet de calculer la qualité du système \n",
    "        \"\"\"\n",
    "        #TODO !!!!\n",
    "        #on a un ensemble d'exemple dans le dataset , chacun de ces exemples sont associié à des classes --> \n",
    "        #ce sont les résultats attendues\n",
    "        #predict renvoie un score positif si cest positif , et négatif sinon\n",
    "        # pedict va faire une prédiction sur la classe de chacun des exemples contenue dans le dataset\n",
    "        #on fera une moyenne sur l'ensemble de ses prédiction qui ont étét juste\n",
    "        #dataset = ensemble dexemple de dim 2\n",
    "        #print(dataset.size())\n",
    "        total=dataset.size() #nombre d'exemple evalués\n",
    "        classe_ok=0 # si la prediction est correct sur la classe attendu , alors on incrémente de 1\n",
    "        for i in range (0,dataset.size()):\n",
    "            exemple_courant=dataset.getX(i)\n",
    "            classe_de_exemple_courant=dataset.getY(i)\n",
    "            score=self.predict(exemple_courant)\n",
    "            #print(\"score et classe\")\n",
    "           # print(score,classe_de_exemple_courant)\n",
    "            if(score>0):\n",
    "                res=1\n",
    "            else:\n",
    "                res=-1\n",
    "            #comparaison de la prédiction avec le résultat attendue \n",
    "            if(res==classe_de_exemple_courant):\n",
    "                classe_ok=classe_ok+1\n",
    "        \n",
    "        return (classe_ok*100)/total # pourcentage de classe correct predit "
   ]
  },
  {
   "cell_type": "code",
   "execution_count": 50,
   "metadata": {},
   "outputs": [],
   "source": [
    "class ClassifierRandom(Classifier):\n",
    "    \"\"\" Classe pour représenter un classifieur linéaire aléatoire\n",
    "        Cette classe hérite de la classe Classifier\n",
    "    \"\"\"\n",
    "    \n",
    "    #TODO: définir le constructeur, et les méthodes predict et train\n",
    "    \n",
    "    def __init__(self, input_dimension):\n",
    "        \"\"\" Constructeur de LabeledSet\n",
    "            Argument: \n",
    "                - intput_dimension (int) : dimension de x\n",
    "            Hypothèse : input_dimension > 0\n",
    "        \"\"\"\n",
    "        self.input_dimension = input_dimension\n",
    "        v = np.random.rand(input_dimension)     # vecteur aléatoire à input_dimension dimensions\n",
    "        self.w = (2* v - 1) / np.linalg.norm(v) # on normalise par la norme de v # comme ca w est compris entre -1 et 1 # w est notre vecteur directeur , c'est à partirde lui quon se base pour savoir si un point appartient à une classe ou à une autre\n",
    "       \n",
    "        \n",
    "    def train(self, labeledSet):\n",
    "        \"\"\" Permet d'entrainer le modele sur l'ensemble donné  #cest lapprentissage\n",
    "        \"\"\"\n",
    "        print(\"Pas d'apprentissage pour ce classifieur\")\n",
    "        \n",
    "    def predict(self, x):\n",
    "        \"\"\" rend la prediction sur x (-1 ou +1)\n",
    "        \"\"\"\n",
    "        #on calcule le produit scalaire de w avec x(lexemple contenu dans le dataset)\n",
    "        \n",
    "        produit_scalaire=np.dot(self.w,x)\n",
    "        return produit_scalaire\n",
    "\n",
    "        "
   ]
  },
  {
   "cell_type": "code",
   "execution_count": 51,
   "metadata": {},
   "outputs": [
    {
     "name": "stdout",
     "output_type": "stream",
     "text": [
      "50.0\n"
     ]
    }
   ],
   "source": [
    "un_classifieur = ClassifierRandom(2)\n",
    "\n",
    "#génération de 100 point aléatoire de dimensions 2 car le classifieur est de dim 2\n",
    "\n",
    "mon_dataset= LabeledSet(2)  # définition d'une base pour contenir des exemples en 2D\n",
    "for i in range(0,50):\n",
    "    mon_dataset.addExample(np.random.randint(1,3,2),1)   # ajout de l'exemple # je met que des point positif de classe 1\n",
    "\n",
    "for i in range(0,50):\n",
    "    mon_dataset.addExample(np.random.randint(4,6,2),-1)   # ajout de l'exemple # je met que des point positif de classe -1\n",
    "#affiche_base(mon_dataset)\n",
    "pourcentage_ok=un_classifieur.accuracy(mon_dataset)\n",
    "#pourc=un_classifieur.accuracy(the_set)\n",
    "print(pourcentage_ok)\n",
    "\n",
    "#resulatat : 50 , quand la classe cest -1 il se trompe \n",
    "\n",
    "# + step est grand et + plus la ligne tracé est droite\n",
    "\n",
    "def plot_frontiere(set,classifier,step=10):\n",
    "    \"\"\" LabeledSet * Classifier * int -> NoneType\n",
    "        Remarque: le 3e argument est optionnel et donne la \"résolution\" du tracé\n",
    "        affiche la frontière de décision associée au classifieur\n",
    "    \"\"\"\n",
    "    mmax=set.x.max(0) #l'exemple contenu dans le dataset quii contient les valeurs max\n",
    "    mmin=set.x.min(0)\n",
    "    x1grid,x2grid=np.meshgrid(np.linspace(mmin[0],mmax[0],step),np.linspace(mmin[1],mmax[1],step))\n",
    "    grid=np.hstack((x1grid.reshape(x1grid.size,1),x2grid.reshape(x2grid.size,1)))\n",
    "    \n",
    "    # calcul de la prediction pour chaque point de la grille\n",
    "    res=np.array([classifier.predict(grid[i,:]) for i in range(len(grid)) ])\n",
    "    res=res.reshape(x1grid.shape)\n",
    "    # tracer des frontieres\n",
    "    plt.contourf(x1grid,x2grid,res,colors=[\"red\",\"cyan\"],levels=[-1000,0,1000])"
   ]
  },
  {
   "cell_type": "code",
   "execution_count": 52,
   "metadata": {},
   "outputs": [],
   "source": [
    "classifieur_random=ClassifierRandom(2)\n",
    "\n",
    "#plot_frontiere(the_set,classifieur_random)\n",
    "#plot2DSet(the_set)"
   ]
  },
  {
   "cell_type": "markdown",
   "metadata": {},
   "source": [
    "Dans les boîtes suivantes, on utilise ces librairies avec les exemples vus en TDTME-02."
   ]
  },
  {
   "cell_type": "code",
   "execution_count": 29,
   "metadata": {},
   "outputs": [],
   "source": [
    "import math\n",
    "class ClassifierKNN(Classifier):\n",
    "    #TODO\n",
    "    def __init__(self, input_dimension,nb_voisins):\n",
    "        \"\"\" Constructeur de LabeledSet\n",
    "            Argument: \n",
    "                - intput_dimension (int) : dimension de x\n",
    "            Hypothèse : input_dimension > 0\n",
    "        \"\"\"\n",
    "        self.input_dimension = input_dimension\n",
    "        self.nb_voisins=nb_voisins\n",
    "    \n",
    "    def train(self, labeledSet):\n",
    "        \"\"\" Permet d'entrainer le modele sur l'ensemble donné  #cest lapprentissage\n",
    "        \"\"\"\n",
    "        self.dataset=labeledSet  #base de point , on mémorise le LabeledSet constitué d'exemples\n",
    "        \n",
    "    def predict(self, x):\n",
    "        \"\"\" rend la prediction sur x (-1 ou +1)\n",
    "        \"\"\"\n",
    "       #x est un exemple contenue dans le dataset\n",
    "       # on doit prédire la classe associé à cet exemple (1 ou -1)\n",
    "       # on a mémorisé le dataset dans une variable , en appelant la methode train\n",
    "        # on calcule les k distances les plus petites qui le séparent de k voisins parmis lensemble des voisins\n",
    "        #on récupere les classes associé à ces k voisins\n",
    "        #on fait la moyenne entre ces k vakeur --> et on obtient la valeur de la classe prédit pour notre exemple courant\n",
    "        \n",
    "        # je cherhce donc k exemples\n",
    "        #je calules tous les distances , je trie le tableau de distance obtenue , et je ne garde que les trois +petites\n",
    "        #jassocie ces distance aux k voisins , et la je peux recup leur classe \n",
    "        #je fais un dictionnaire ou la distance et la classe associé à l'exemple seront stocké, ca m'évitera daller cherhcer les valeurs de ces classes\n",
    "         \n",
    "        #récuperer les cordonnées de x car x peut avoir plusieurs dimensiosn\n",
    "        #ATTENTION:\n",
    "        # pas besopin de faire un dico , car argsort renvoir les indice des plus petite valeurs\n",
    "        #jai juste à calcuuler la liste des distances \n",
    "        coords_x=x #liste des coordonnées\n",
    "        distances=[]\n",
    "        #coords_p=[]\n",
    "        for i in range(0,self.dataset.size()):       \n",
    "            s=0 \n",
    "            \n",
    "            #je constitue la liste de coordonées du point courant\n",
    "            #faire attention a ne pas faire une comparaison avec soi meme\n",
    "            coords_p=self.dataset.getX(i)\n",
    "            #print(coords_p,coords_x)\n",
    "            #calcule la somme des coordonnées\n",
    "            for j in range(0,len(coords_p)):\n",
    "                #print(coords_x[i],coords_p[i])\n",
    "                #print(s)\n",
    "                s=s+((coords_x[j]-coords_p[j])**2)\n",
    "                #print(s)\n",
    "            s=math.sqrt(s)\n",
    "            distances.append(s)\n",
    "            \n",
    "        # la j'ai toute mes distances\n",
    "        index = np.argsort(distances) #indices des elements minum --> ordre croissant\n",
    "        k_voisins=[] # je recup mes k voisins\n",
    "        for i in range(0,self.nb_voisins):\n",
    "            k_voisins.append(index[i])\n",
    "            \n",
    "        classes=[] # je recup les cllasses associés à ces distance \n",
    "        for i in range(0,len(k_voisins)):\n",
    "            classes.append(self.dataset.getY(k_voisins[i]))\n",
    "        \n",
    "        somme_classes=0\n",
    "        for i in range(0,len(classes)):\n",
    "            somme_classes=somme_classes+classes[i]\n",
    "           \n",
    "        return somme_classes/len(somme_classes) # somme des classes associés au k + proche voisins/nbvoisins"
   ]
  },
  {
   "cell_type": "code",
   "execution_count": 30,
   "metadata": {},
   "outputs": [],
   "source": [
    "# Exemple d'utilisation :\n",
    "knn = ClassifierKNN(2,1)\n",
    "knn.train(the_set)\n",
    "\n",
    "#plot_frontiere(the_set,knn,20)\n",
    "#plot2DSet(the_set) "
   ]
  },
  {
   "cell_type": "code",
   "execution_count": 31,
   "metadata": {},
   "outputs": [
    {
     "name": "stdout",
     "output_type": "stream",
     "text": [
      "Exemple 0\n",
      "\tdescription :  [0 1]\n",
      "\tlabel :  [1]\n",
      "Exemple 1\n",
      "\tdescription :  [2 3]\n",
      "\tlabel :  [1]\n",
      "Exemple 2\n",
      "\tdescription :  [1 2]\n",
      "\tlabel :  [-1]\n",
      "Exemple 3\n",
      "\tdescription :  [2 2]\n",
      "\tlabel :  [-1]\n"
     ]
    }
   ],
   "source": [
    "# Exemple d'utilisation de LabeledSet\n",
    "\n",
    "une_base = LabeledSet(2)        # définition d'une base pour contenir des exemples en 2D\n",
    "\n",
    "une_base.addExample([0, 1],1)   # ajout de l'exemple (0, 1) de classe +1\n",
    "une_base.addExample([2, 3],1)   # ajout de l'exemple (2, 3) de classe +1\n",
    "une_base.addExample([1, 2],-1)  # ajout de l'exemple (1, 2) de classe -1\n",
    "une_base.addExample([2, 2],-1)  # ajout de l'exemple (2, 2) de classe -1\n",
    "\n",
    "# Fonction pour afficher le LabeledSet\n",
    "def affiche_base(LS):\n",
    "    \"\"\" LabeledSet\n",
    "        affiche le contenu de LS\n",
    "    \"\"\"\n",
    "    for i in range(0,LS.size()):\n",
    "        print(\"Exemple \"+str(i))\n",
    "        print(\"\\tdescription : \",LS.getX(i))\n",
    "        print(\"\\tlabel : \",LS.getY(i))\n",
    "    return\n",
    "\n",
    "# Affichage de la base\n",
    "affiche_base(une_base)"
   ]
  },
  {
   "cell_type": "code",
   "execution_count": 34,
   "metadata": {},
   "outputs": [
    {
     "name": "stdout",
     "output_type": "stream",
     "text": [
      "Taille de la base jouet générée : 20 exemples\n"
     ]
    },
    {
     "data": {
      "image/png": "[encoded data removed]",
      "text/plain": [
       "<Figure size 432x288 with 1 Axes>"
      ]
     },
     "metadata": {
      "needs_background": "light"
     },
     "output_type": "display_data"
    }
   ],
   "source": [
    "# Exemple d'utilisation de utils\n",
    "#rappel : une gaussienne est représentée par la fonction exp(-x^2), elle a la forme d'une courbe en clauche\n",
    "#elle sert à représenter les notions de moyenne,variance et ecart types\n",
    "\n",
    "#avec une variance + petite autour de chaque axe(x et y), on obtient des points centrer autour de la moeynne associé\n",
    "#à chacune des deux gaussienne\n",
    "the_set = createGaussianDataset(np.array([1,1]),np.array([[0.1,0],[0,0.1]]),np.array([-1,-1]),np.array([[0.1,0],[0,0.1]]),10)\n",
    "\n",
    "print(\"Taille de la base jouet générée :\", the_set.size(), \"exemples\")\n",
    "\n",
    "# Affichage :\n",
    "plot2DSet(the_set)\n"
   ]
  },
  {
   "cell_type": "code",
   "execution_count": 36,
   "metadata": {},
   "outputs": [
    {
     "data": {
      "image/png": "[encoded data removed]",
      "text/plain": [
       "<Figure size 432x288 with 1 Axes>"
      ]
     },
     "metadata": {
      "needs_background": "light"
     },
     "output_type": "display_data"
    }
   ],
   "source": [
    "# Exemple d'utilisation de Classifiers pour créer un knn:\n",
    "\n",
    "knn = ClassifierKNN(2,3)\n",
    "\n",
    "knn.train(the_set)\n",
    "\n",
    "plot_frontiere(the_set,knn)\n",
    "plot2DSet(the_set)"
   ]
  },
  {
   "cell_type": "markdown",
   "metadata": {},
   "source": [
    "<font color=\"RED\" size=\"+2\">**Très important**</font>: tout le reste du travail à faire dans ce TDTME ne doit être fait que dans le notebook. Il ne faut plus modifier les fichiers de la librairie.\n",
    "\n",
    "Le compte-rendu de cette séance ne comportera que le fichier notebook.\n"
   ]
  },
  {
   "cell_type": "markdown",
   "metadata": {},
   "source": [
    "Perceptron aléatoire\n",
    "====\n",
    "\n",
    "La classe <tt>ClassifierPerceptronRandom</tt> suivante hérite de la classe `Classifier`. Elle implémente un modèle de perceptron aléatoire qui modélise un hyperplan $f_w(x)=\\langle w ; x \\rangle$ tel que $w$ est tiré aléatoirement lors de la création.\n",
    "\n",
    "\n",
    "\n"
   ]
  },
  {
   "cell_type": "code",
   "execution_count": 42,
   "metadata": {},
   "outputs": [
    {
     "name": "stdout",
     "output_type": "stream",
     "text": [
      "[0.86821758 0.27709512]\n",
      "0.9113635211702131\n",
      "[ 0.80805862 -0.48916787]\n"
     ]
    }
   ],
   "source": [
    "v = np.random.rand(2)     # vecteur aléatoire à input_dimension dimensions\n",
    "w = (2* v - 1) / np.linalg.norm(v) # on normalise par la norme de facon à obtenir un w toujours entre -1 et 1\n",
    "print(v)\n",
    "print(np.linalg.norm(v))\n",
    "print(w)"
   ]
  },
  {
   "cell_type": "code",
   "execution_count": 46,
   "metadata": {},
   "outputs": [],
   "source": [
    "class ClassifierPerceptronRandom(Classifier):\n",
    "    def __init__(self, input_dimension):\n",
    "        \"\"\" Argument:\n",
    "                - input_dimension (int) : dimension d'entrée des exemples\n",
    "            Hypothèse : input_dimension > 0\n",
    "        \"\"\"\n",
    "        v = np.random.rand(input_dimension)     # vecteur aléatoire à input_dimension dimensions\n",
    "        self.w = (2* v - 1) / np.linalg.norm(v) # on normalise par la norme de v\n",
    "\n",
    "    def predict(self, x):\n",
    "        \"\"\" rend la prediction sur x (-1 ou +1)\n",
    "        \"\"\"\n",
    "        z = np.dot(x, self.w)\n",
    "        return z\n",
    "        \n",
    "    def train(self,labeledSet):\n",
    "        \"\"\" Permet d'entrainer le modele sur l'ensemble donné\n",
    "        \"\"\"        \n",
    "        print(\"No training needed\")"
   ]
  },
  {
   "cell_type": "markdown",
   "metadata": {},
   "source": [
    "<font color=\"RED\" size=\"+1\">**[Q]**</font> Tester ce modèle de perceptron sur un jeu de données aléatoire.\n"
   ]
  },
  {
   "cell_type": "code",
   "execution_count": 47,
   "metadata": {},
   "outputs": [
    {
     "data": {
      "image/png": "[encoded data removed]",
      "text/plain": [
       "<Figure size 432x288 with 1 Axes>"
      ]
     },
     "metadata": {
      "needs_background": "light"
     },
     "output_type": "display_data"
    }
   ],
   "source": [
    "# Exemple de création et d'utilisation d'un Perceptron aléatoire:\n",
    "\n",
    "perceptron_random = ClassifierPerceptronRandom(2)\n",
    "\n",
    "plot_frontiere(the_set,perceptron_random)\n",
    "plot2DSet(the_set)"
   ]
  },
  {
   "cell_type": "markdown",
   "metadata": {},
   "source": [
    "Perceptron de Rosenblatt\n",
    "==="
   ]
  },
  {
   "cell_type": "markdown",
   "metadata": {},
   "source": [
    "<font color=\"RED\" size=\"+1\">**[Q]**</font> En héritant de la classe `Classifier`, écrire la classe <tt>ClassifierPerceptron</tt> qui implémente l'algorithme du Perceptron de Rosenblatt vu en cours.\n",
    "\n",
    "La fonction `train` fera une itération sur l'ensemble des données de l'apprentissage. Les points d'apprentissage seront tirés dans un ordre aléatoire.\n",
    "\n"
   ]
  },
  {
   "cell_type": "code",
   "execution_count": 55,
   "metadata": {},
   "outputs": [],
   "source": [
    "# La methode d'entrainement du Perceptron de Rosenblatt est la suivvante:\n",
    "#Pour cahque point du Dataset , on predit la classe de ce point\n",
    "#ensuite on incrémente le vecteur de poid w de cette facon:\n",
    "#w=w+a(Yt-Y)X\n",
    "# où a est le pas(epsilon) , Yt sortit attentue , Y est la sortit observé, X est Entree\n",
    "#dans notres cas les Y seront les classe associé à notre dataset, X sont les vecteur associés à nos points\n",
    "#w est le vecteur directeur(de poid), qui nous sert de référence pour savoir à quel classe appartient un point"
   ]
  },
  {
   "cell_type": "code",
   "execution_count": 56,
   "metadata": {},
   "outputs": [],
   "source": [
    "#lagorythme du perceptron peut etre vu comme une ameliration du classifieur lineaire aletoire de la semaine passé\n",
    "#car pour chaque point mal classé, il adapte le vecteur w (la frontière de décision est réhausser)"
   ]
  },
  {
   "cell_type": "code",
   "execution_count": 73,
   "metadata": {},
   "outputs": [],
   "source": [
    "class ClassifierPerceptron(Classifier):\n",
    "    \"\"\" Perceptron de Rosenblatt\n",
    "    \"\"\"\n",
    "    def __init__(self,input_dimension,learning_rate):\n",
    "        \"\"\" Argument:\n",
    "                - intput_dimension (int) : dimension d'entrée des exemples\n",
    "                - learning_rate :\n",
    "            Hypothèse : input_dimension > 0\n",
    "        \"\"\"\n",
    "        self.input_dimension=input_dimension\n",
    "        self.learning_rate=learning_rate #pas utilisé\n",
    "        v = np.random.rand(input_dimension)     # vecteur aléatoire à input_dimension dimensions\n",
    "        self.w = (2* v - 1) / np.linalg.norm(v) # on normalise par la norme de v # comme ca w est compris entre -1 et 1 # w est notre vecteur directeur , c'est à partirde lui quon se base pour s\n",
    "       \n",
    "\n",
    "    def predict(self,x):\n",
    "        \"\"\" rend la prediction sur x (-1 ou +1)\n",
    "        \"\"\"\n",
    "        produit_scalaire=np.dot(self.w,x)\n",
    "        return produit_scalaire\n",
    "        \n",
    "\n",
    "    \n",
    "    def train(self,labeledSet):\n",
    "        \"\"\" Permet d'entrainer le modele sur l'ensemble donné \n",
    "        \"\"\"\n",
    "        for i in range(0,labeledSet.size()):\n",
    "            x=labeledSet.getX(i)\n",
    "            score=self.predict(x)\n",
    "            classe_attendue=labeledSet.getY(i)[0]\n",
    "            if(score>0):\n",
    "                classe_observe=1\n",
    "            else:\n",
    "                classe_observe=-1\n",
    "            self.w=self.w+(self.learning_rate*(classe_attendue-classe_observe)*x)\n",
    "            \n",
    " \n",
    "\n"
   ]
  },
  {
   "cell_type": "code",
   "execution_count": 74,
   "metadata": {},
   "outputs": [
    {
     "data": {
      "image/png": "[encoded data removed]",
      "text/plain": [
       "<Figure size 432x288 with 1 Axes>"
      ]
     },
     "metadata": {
      "needs_background": "light"
     },
     "output_type": "display_data"
    }
   ],
   "source": [
    "pe=ClassifierPerceptron(2,0.05)\n",
    "pe.train(the_set)\n",
    "plot_frontiere(the_set,pe)\n",
    "plot2DSet(the_set)"
   ]
  },
  {
   "cell_type": "markdown",
   "metadata": {},
   "source": [
    "<font color=\"RED\" size=\"+1\">**[Q]**</font> Tester le perceptron de la manière suivante:\n",
    "- Apprendre pendant N itérations\n",
    "- Afficher l'accuracy du modèle à chaque itération\n",
    "- Vérifier que l'accuracy baisse\n",
    "- Dessiner la frontière obtenue"
   ]
  },
  {
   "cell_type": "code",
   "execution_count": 85,
   "metadata": {},
   "outputs": [
    {
     "name": "stdout",
     "output_type": "stream",
     "text": [
      "accuracy: 50.0\n",
      "accuracy: 50.0\n",
      "accuracy: 50.0\n",
      "accuracy: 50.0\n",
      "accuracy: 50.0\n",
      "accuracy: 50.0\n",
      "accuracy: 50.0\n",
      "accuracy: 50.0\n",
      "accuracy: 50.0\n",
      "accuracy: 50.0\n",
      "accuracy: 50.0\n",
      "accuracy: 50.0\n",
      "accuracy: 50.0\n",
      "accuracy: 50.0\n",
      "accuracy: 50.0\n",
      "accuracy: 50.0\n",
      "accuracy: 50.0\n",
      "accuracy: 50.0\n",
      "accuracy: 50.0\n",
      "accuracy: 50.0\n"
     ]
    },
    {
     "data": {
      "image/png": "[encoded data removed]",
      "text/plain": [
       "<Figure size 432x288 with 1 Axes>"
      ]
     },
     "metadata": {
      "needs_background": "light"
     },
     "output_type": "display_data"
    }
   ],
   "source": [
    "N=20\n",
    "new_set = createGaussianDataset(np.array([1,1]),np.array([[0.1,0],[0,0.1]]),np.array([4,4]),np.array([[0.1,0],[0,0.1]]),10)\n",
    "for i in range(0,N):\n",
    "    pe.train(new_set)\n",
    "    print(\"accuracy:\",pe.accuracy(new_set))\n",
    "    \n",
    "\n",
    "plot_frontiere(new_set,pe)\n",
    "plot2DSet(new_set)\n",
    "\n",
    "\n"
   ]
  },
  {
   "cell_type": "code",
   "execution_count": 117,
   "metadata": {},
   "outputs": [],
   "source": [
    "# Bizare mon accuracy ne baisse pas \n",
    "# je pense que l'accuracy était censé baissé à cause de la variation du vecteur w\n",
    "#les cordonnées du vecteur de poids w changent à chaque ittérations , du coup la frontiere de decisons se modifie ,\n",
    "#et le classifieur a + de mal à prédire la classe exacte de l'exemple considéré"
   ]
  },
  {
   "cell_type": "markdown",
   "metadata": {},
   "source": [
    "<font color=\"RED\" size=\"+1\">**[Q]**</font> Expérimentations\n",
    "\n",
    "- Générer deux ensembles de train et de test\n",
    "- Dessiner la courbe de performance en fonction de l'itération sur les ensembles de train et de test\n",
    "    * Que se passe-t-il en fonction du pas (epsilon) d'apprentissage ? \n",
    "    * Que se passe-t-il quand le nombre d'exemples en apprentissage est faible ? \n"
   ]
  },
  {
   "cell_type": "code",
   "execution_count": 121,
   "metadata": {},
   "outputs": [],
   "source": [
    "perce=ClassifierPerceptron(2,0.01)\n",
    "train1 = createGaussianDataset(np.array([1,1]),np.array([[0.1,0],[0,0.1]]),np.array([4,4]),np.array([[0.1,0],[0,0.1]]),100)\n",
    "train2 = createGaussianDataset(np.array([1,1]),np.array([[0.1,0],[0,0.1]]),np.array([4,4]),np.array([[0.1,0],[0,0.1]]),100)\n",
    "test1 = createGaussianDataset(np.array([1,1]),np.array([[0.1,0],[0,0.1]]),np.array([1,4]),np.array([[0.1,0],[0,0.1]]),100)\n",
    "test2 = createGaussianDataset(np.array([1,1]),np.array([[0.1,0],[0,0.1]]),np.array([4,1]),np.array([[0.1,0],[0,0.1]]),100)\n",
    "\n",
    "#on calcule laccuracy sur chacun de ces ensemble de points"
   ]
  },
  {
   "cell_type": "code",
   "execution_count": 124,
   "metadata": {},
   "outputs": [
    {
     "data": {
      "image/png": "[encoded data removed]",
      "text/plain": [
       "<Figure size 432x288 with 1 Axes>"
      ]
     },
     "metadata": {
      "needs_background": "light"
     },
     "output_type": "display_data"
    }
   ],
   "source": [
    "perfs=[]\n",
    "k=[]\n",
    "\n",
    "perce.train(train1)                  #--> 1 er ensemble entrainé\n",
    "pourcentage=perce.accuracy(train1)\n",
    "perfs.append(pourcentage)\n",
    "k.append(0)\n",
    "\n",
    "perce.train(train2)\n",
    "pourcentage=perce.accuracy(train2)\n",
    "perfs.append(pourcentage)\n",
    "k.append(1)\n",
    "\n",
    "pourcentage=perce.accuracy(test1)    # --> 1 er ensemble de test\n",
    "perfs.append(pourcentage)\n",
    "k.append(2)\n",
    "\n",
    "\n",
    "pourcentage=perce.accuracy(test2)\n",
    "perfs.append(pourcentage)\n",
    "k.append(3)\n",
    "\n",
    "plt.plot(k,perfs)\n",
    "plt.show()\n",
    "\n",
    "\n",
    "\n",
    "#On remarque que lorsque on a un ensemble faible de point , l'accuracy a tendance à stagner\n",
    "#Tandis que lorsque on élargie le domaine de point du Dataset , on obtient une accuracy qui dimunue lorsque on teste l'accuracy\n",
    "#sur des exemples de tests.\n",
    "#L'accuracy obtenu sur des exemple d'entrainement est plus grande que celleobtenue sur des exemples de test\n",
    "# Lorsque on augmente la valeur du pas, l'accuracy stagne pour chacun des ensemble, c-à-d quon obtient une accuracy\n",
    "#identique pour chaque ensemble"
   ]
  },
  {
   "cell_type": "markdown",
   "metadata": {},
   "source": [
    "<font color=\"RED\" size=\"+1\">**[Q]**</font> **Données XOR**\n",
    "\n",
    "Ecrire la fpnction `createXOR` qui, étant donné un nombre de points $n$ et une variance $var$, permet de générer une base de données contenant:\n",
    "- deux gaussiennes centrées en (0,0) et (1,1) correspondant à $n$ exemples positifs\n",
    "- deux gaussiennes centrées en (1,0) et (0,1) correspondant à $n$ exemples négatifs\n",
    "\n",
    "Dans la suite, on appelle XOR une base de données créée par cette fonction.\n",
    "\n",
    "\n",
    "Que se passe-t-il quand on apprend un perceptron  ? Quel est le problème ? "
   ]
  },
  {
   "cell_type": "code",
   "execution_count": 147,
   "metadata": {},
   "outputs": [],
   "source": [
    "def createXOR(nb_points,var):\n",
    "    #on concatene chacun des ensemble pour fournir une base de données contenant ces 4 ensembles\n",
    "    ens1 = createGaussianDataset(np.array([0,0]),np.array([[var,0],[0,var]]),np.array([1,1]),np.array([[var,0],[0,var]]),nb_points)\n",
    "    ens2 = createGaussianDataset(np.array([0,0]),np.array([[var,0],[0,var]]),np.array([1,1]),np.array([[var,0],[0,var]]),nb_points)\n",
    "    ens3 = createGaussianDataset(np.array([1,0]),np.array([[var,0],[0,var]]),np.array([0,1]),np.array([[var,0],[0,var]]),nb_points)\n",
    "    ens4 = createGaussianDataset(np.array([1,0]),np.array([[var,0],[0,var]]),np.array([0,1]),np.array([[var,0],[0,var]]),nb_points)\n",
    "    une_base = LabeledSet(2)        # définition d'une base pour contenir des exemples en 2D\n",
    "    \n",
    "    #j'ajoute les points positifs à ma base \n",
    "    for i in range(0,ens1.size()):\n",
    "        une_base.addExample(ens1.getX(i),ens1.getY(i)[0])   # ajout de l'exemple de chaque dataset generer au dessus\n",
    "        une_base.addExample(ens2.getX(i),ens2.getY(i)[0]) \n",
    "        une_base.addExample(ens3.getX(i),ens3.getY(i)[0]) \n",
    "        une_base.addExample(ens4.getX(i),ens4.getY(i)[0]) \n",
    "    \n",
    "    return une_base  #contient chaque exemple des 4 dataset cré plus haut \n",
    "\n",
    "\n"
   ]
  },
  {
   "cell_type": "code",
   "execution_count": 146,
   "metadata": {},
   "outputs": [
    {
     "data": {
      "image/png": "[encoded data removed]",
      "text/plain": [
       "<Figure size 432x288 with 1 Axes>"
      ]
     },
     "metadata": {
      "needs_background": "light"
     },
     "output_type": "display_data"
    }
   ],
   "source": [
    "xor=createXOR(100,0.01)\n",
    "plot2DSet(xor)"
   ]
  },
  {
   "cell_type": "markdown",
   "metadata": {},
   "source": [
    "Kernel Trick\n",
    "--------------"
   ]
  },
  {
   "cell_type": "markdown",
   "metadata": {},
   "source": [
    "Nous allons projeter (manuellement) les données 2D dans un espace de plus grande dimension. Voici un exemple de projection qui transforme un vecteur $(x_1,x_2)$ en un vecteur $(x_1,x_2,1)$"
   ]
  },
  {
   "cell_type": "code",
   "execution_count": 151,
   "metadata": {},
   "outputs": [
    {
     "data": {
      "text/plain": [
       "array([1.2320511, 0.8334695, 1.       ])"
      ]
     },
     "execution_count": 151,
     "metadata": {},
     "output_type": "execute_result"
    }
   ],
   "source": [
    "class KernelBias:\n",
    "    def transform(self,x):\n",
    "        y=np.asarray([x[0],x[1],1])\n",
    "        return y\n",
    "\n",
    "k=KernelBias()\n",
    "k.transform(the_set.getX(1))\n"
   ]
  },
  {
   "cell_type": "markdown",
   "metadata": {},
   "source": [
    "<font color=\"RED\" size=\"+1\">**[Q]**</font> Implémenter la classe ClassifierPerceptronKernel qui prend un Kernel en paramètre, et calcule le perceptron sur la version \"kernélisée\" des données. Tester ce perceptron sur le dataset 1 (2 gaussiennes) et le dataset XOR."
   ]
  },
  {
   "cell_type": "code",
   "execution_count": 178,
   "metadata": {},
   "outputs": [],
   "source": [
    "#lidee cest de calculer le produit scalaire dans un espace de plus grande dimensions\n",
    "#l'astuce du noyean est une méthode qui permet d'utiliser un classifieur linéaire pour résoudre un probleme non lineaire\n",
    "#L'idée est de transformer l'espace de représentation des données d'entrées en un espace de plus grande dimension, où un \n",
    "#classifieur linéaire peut être utilisé et obtenir de bonnes performances. "
   ]
  },
  {
   "cell_type": "code",
   "execution_count": 233,
   "metadata": {},
   "outputs": [],
   "source": [
    "class ClassifierPerceptronKernel(Classifier):\n",
    "    def __init__(self,dimension_kernel,learning_rate,kernel):\n",
    "        \"\"\" Argument:\n",
    "                - intput_dimension (int) : dimension d'entrée des exemples\n",
    "                - learning_rate :\n",
    "            Hypothèse : input_dimension > 0\n",
    "        \"\"\"\n",
    "        self.dimension_kernel=dimension_kernel\n",
    "        self.learning_rate=learning_rate\n",
    "        self.kernel=kernel\n",
    "        v = np.random.rand(dimension_kernel)     # vecteur aléatoire à input_dimension dimensions\n",
    "        self.w = (2* v - 1) / np.linalg.norm(v) \n",
    "        #print(\"mon premier w\",self.w)\n",
    "        \n",
    "    def predict(self,x):\n",
    "        \"\"\" rend la prediction sur x (-1 ou +1)\n",
    "        \"\"\"\n",
    "        #print(\"w:\",self.kernel.transform(self.w))\n",
    "        #print(\"exemple:\",self.kernel.transform(x))\n",
    "        produit_scalaire=np.dot(self.kernel.transform(self.w),self.kernel.transform(x))\n",
    "        return produit_scalaire\n",
    "\n",
    "    \n",
    "    def train(self,labeledSet):\n",
    "        \"\"\" Permet d'entrainer le modele sur l'ensemble donné\n",
    "        \"\"\"\n",
    "        self.labeledSet=labeledSet\n",
    "        for i in range (0,self.labeledSet.size()):\n",
    "            x=self.labeledSet.getX(i)\n",
    "            classe_attendue=self.labeledSet.getY(i)[0]\n",
    "            score=self.predict(x)\n",
    "            if(score>0):\n",
    "                classe_observe=1\n",
    "            else:\n",
    "                classe_observe=-1\n",
    "            self.w=self.w+(self.learning_rate*(classe_attendue-classe_observe)*x)\n",
    "       "
   ]
  },
  {
   "cell_type": "code",
   "execution_count": 234,
   "metadata": {},
   "outputs": [
    {
     "data": {
      "image/png": "[encoded data removed]",
      "text/plain": [
       "<Figure size 432x288 with 1 Axes>"
      ]
     },
     "metadata": {
      "needs_background": "light"
     },
     "output_type": "display_data"
    }
   ],
   "source": [
    "ker=KernelBias()\n",
    "perceptronk=ClassifierPerceptronKernel(2,0.0001,k)\n",
    "dtSet = createGaussianDataset(np.array([0,0]),np.array([[0.01,0],[0,0.01]]),np.array([1,1]),np.array([[0.01,0],[0,0.01]]),10)\n",
    "#affiche_base(dtSet)\n",
    "#plot_frontiere(dtSet,perceptronk)\n",
    "#plot2DSet(dtSet)\n",
    "xor=createXOR(40,0.01)\n",
    "plot_frontiere(xor,perceptronk)\n",
    "plot2DSet(xor)"
   ]
  },
  {
   "cell_type": "markdown",
   "metadata": {},
   "source": [
    "<font color=\"RED\" size=\"+1\">**[Q]**</font> Implémenter le kernel : $(x_1,x_2) \\rightarrow (1,x_1,x_2,x_1*x_1,x_2*x_2,x_1*x_2)$. Entrainer le perceptron correspondant sur le XOR. Que constatez-vous ? Donnez une explication (explication donnée en cours lors de la prochaine séance)"
   ]
  },
  {
   "cell_type": "code",
   "execution_count": 235,
   "metadata": {},
   "outputs": [
    {
     "data": {
      "image/png": "[encoded data removed]",
      "text/plain": [
       "<Figure size 432x288 with 1 Axes>"
      ]
     },
     "metadata": {
      "needs_background": "light"
     },
     "output_type": "display_data"
    }
   ],
   "source": [
    "class KernelPoly:\n",
    "    def transform(self,x):\n",
    "        y=np.asarray([1,x[0],x[1],x[0]*x[0],x[1]*x[1],x[0]*x[1]])\n",
    "        return y\n",
    "\n",
    "N=100\n",
    "k=KernelPoly()\n",
    "perceptron_k=ClassifierPerceptronKernel(2,0.001,k)\n",
    "mon_xor=createXOR(10,0.01)\n",
    "perceptron_k.train(mon_xor)\n",
    "plot_frontiere(mon_xor,perceptron_k)\n",
    "plot2DSet(mon_xor)\n",
    "\n",
    "##TESTER SUR XOR ET DESSINER LA FRONTIèRE DE DECISION\n"
   ]
  },
  {
   "cell_type": "markdown",
   "metadata": {},
   "source": [
    "Expérimentations sur des datasets réels\n",
    "-------\n",
    "\n"
   ]
  },
  {
   "cell_type": "markdown",
   "metadata": {
    "collapsed": true
   },
   "source": [
    "A partir de datasets trouvés sur le web, réaliser un ensemble d'expérimentations permettant de comparer les 3 classifiers (knn, perceptron de Rosenblatt et version kernélisée) que vous avez implémentés.\n",
    "\n",
    "Par exemple, vous pouvez utiliser les datasets suivants:\n",
    "- https://archive.ics.uci.edu/ml/datasets/Breast+Cancer+Coimbra\n",
    "- https://www.kaggle.com/uciml/indian-liver-patient-records\n",
    "- voir sur les données ouvertes de Paris : https://opendata.paris.fr/explore/?sort=modified\n",
    "\n",
    "Afin d'utiliser de tels jeux de données, il sera certainement nécessaire que vous réalisiez un prétraitement afin de pouvoir utiliser vos implémentations."
   ]
  },
  {
   "cell_type": "code",
   "execution_count": null,
   "metadata": {},
   "outputs": [],
   "source": []
  }
 ],
 "metadata": {
  "kernelspec": {
   "display_name": "Python 3",
   "language": "python",
   "name": "python3"
  },
  "language_info": {
   "codemirror_mode": {
    "name": "ipython",
    "version": 3
   },
   "file_extension": ".py",
   "mimetype": "text/x-python",
   "name": "python",
   "nbconvert_exporter": "python",
   "pygments_lexer": "ipython3",
   "version": "3.7.1"
  }
 },
 "nbformat": 4,
 "nbformat_minor": 1
}
