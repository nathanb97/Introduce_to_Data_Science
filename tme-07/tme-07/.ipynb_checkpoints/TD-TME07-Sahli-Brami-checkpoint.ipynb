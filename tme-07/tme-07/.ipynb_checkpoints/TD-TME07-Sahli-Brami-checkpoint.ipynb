{
 "cells": [
  {
   "cell_type": "markdown",
   "metadata": {},
   "source": [
    "IA & Data science (3i026) -- 2018-2019\n",
    "--------\n",
    "*&copy; Equipe pédagogique: Manon Ansart, Vincent Guigue, Marie-Jeanne Lesot, Christophe Marsala, Olivier Schwander.*"
   ]
  },
  {
   "cell_type": "markdown",
   "metadata": {},
   "source": [
    "# TD-TME07: algorithmes d'apprentissage non-supervisé"
   ]
  },
  {
   "cell_type": "markdown",
   "metadata": {},
   "source": [
    "L'objectif de cette séance est d'implémenter des algorithmes d'apprentissage non-supervisé (cf. cours 8), en particulier, l'algorithme de classification hiérarchique."
   ]
  },
  {
   "cell_type": "markdown",
   "metadata": {},
   "source": [
    "<font size=\"+1\" color=\"RED\">**[Q]**</font> **Indiquer dans la boîte ci-dessous vos noms et prénoms :**"
   ]
  },
  {
   "cell_type": "code",
   "execution_count": 1,
   "metadata": {},
   "outputs": [],
   "source": [
    "#Sahli Oussama\n",
    "#Brami Nathan"
   ]
  },
  {
   "cell_type": "markdown",
   "metadata": {},
   "source": [
    "*Double-cliquer ici et insérer les noms et prénoms de votre binôme*"
   ]
  },
  {
   "cell_type": "markdown",
   "metadata": {},
   "source": [
    "<font color=\"RED\" size=\"+1\">**[Q]**</font> **Renommer ce fichier ipython**\n",
    "\n",
    "Tout en haut de cette page, cliquer sur <tt>TD-TME07</tt> et rajouter à la suite de <tt>TD-TME07</tt> les noms des membres du binômes séparés par un tiret."
   ]
  },
  {
   "cell_type": "markdown",
   "metadata": {},
   "source": [
    "\n",
    "## Préparation"
   ]
  },
  {
   "cell_type": "markdown",
   "metadata": {},
   "source": [
    "L'archive récupérée avec ce fichier contient aussi le répertoire <code>data</code> qui contient les bases pour expérimenter vos fonctions."
   ]
  },
  {
   "cell_type": "markdown",
   "metadata": {},
   "source": [
    "Avant de commencer, exécuter le bloc suivant afin de pouvoir initialiser des variables utiles :"
   ]
  },
  {
   "cell_type": "code",
   "execution_count": 2,
   "metadata": {},
   "outputs": [],
   "source": [
    "import numpy as np\n",
    "import pandas as pd\n",
    "from datetime import datetime as dt\n",
    "import matplotlib.pyplot as plt\n",
    "%matplotlib inline  "
   ]
  },
  {
   "cell_type": "markdown",
   "metadata": {},
   "source": [
    "## Travail à réaliser"
   ]
  },
  {
   "cell_type": "markdown",
   "metadata": {},
   "source": [
    "Le travail à faire se décompose en 2 phases :\n",
    "- dans un premier temps, le travail porte sur la base d'apprentissage <code>base-2D.csv</code> qui contient des exemples décrits dans $R^2$. Ainsi, il est plus aisé de visualiser les résultats des fonctions à écrire ;\n",
    "- dans un second temps, les fonctions écrites dans la phase précédente sont à utiliser avec la base d'apprentissage \"base-Paris.csv\".\n",
    "\n",
    "**Attention**: vos fonctions doivent **dès leur création** pouvoir s'appliquer **quelle que soit la dimension** des exemples traités."
   ]
  },
  {
   "cell_type": "markdown",
   "metadata": {},
   "source": [
    "## Phase 1: implémentation des fonctions de base"
   ]
  },
  {
   "cell_type": "markdown",
   "metadata": {},
   "source": [
    "### Chargement du fichier \"base_2D.csv\""
   ]
  },
  {
   "cell_type": "markdown",
   "metadata": {},
   "source": [
    "La lecture d'un fichier CSV par <code>pd.read()</code> fournit un <code>DataFrame</code> que vous avez appris à manipuler dans les séances précédentes."
   ]
  },
  {
   "cell_type": "code",
   "execution_count": 3,
   "metadata": {},
   "outputs": [
    {
     "name": "stdout",
     "output_type": "stream",
     "text": [
      "Il y a 14 exemples dans la base.\n",
      "<class 'pandas.core.frame.DataFrame'>\n",
      "RangeIndex: 14 entries, 0 to 13\n",
      "Data columns (total 2 columns):\n",
      "X    14 non-null float64\n",
      "Y    14 non-null float64\n",
      "dtypes: float64(2)\n",
      "memory usage: 304.0 bytes\n"
     ]
    }
   ],
   "source": [
    "# Par exemple:\n",
    "data_2D = pd.read_csv(\"data/base-2D.csv\")\n",
    "print(\"Il y a\", len(data_2D), \"exemples dans la base.\")\n",
    "data_2D.info()"
   ]
  },
  {
   "cell_type": "code",
   "execution_count": 4,
   "metadata": {},
   "outputs": [
    {
     "name": "stderr",
     "output_type": "stream",
     "text": [
      "C:\\ProgramData\\Anaconda3\\lib\\site-packages\\ipykernel_launcher.py:1: FutureWarning: Method .as_matrix will be removed in a future version. Use .values instead.\n",
      "  \"\"\"Entry point for launching an IPython kernel.\n"
     ]
    },
    {
     "data": {
      "text/plain": [
       "array([[0. , 4. ],\n",
       "       [1. , 3.5],\n",
       "       [1. , 1. ],\n",
       "       [2. , 1. ],\n",
       "       [2. , 2. ],\n",
       "       [4. , 4. ],\n",
       "       [4. , 5. ],\n",
       "       [4. , 6. ],\n",
       "       [4.5, 1. ],\n",
       "       [4.5, 6. ],\n",
       "       [5. , 1. ],\n",
       "       [5. , 5. ],\n",
       "       [6. , 2. ],\n",
       "       [7. , 4. ]])"
      ]
     },
     "execution_count": 4,
     "metadata": {},
     "output_type": "execute_result"
    }
   ],
   "source": [
    "M_data2D= data_2D.as_matrix()  \n",
    "M_data2D"
   ]
  },
  {
   "cell_type": "code",
   "execution_count": 5,
   "metadata": {},
   "outputs": [
    {
     "data": {
      "text/plain": [
       "array([0. , 1. , 1. , 2. , 2. , 4. , 4. , 4. , 4.5, 4.5, 5. , 5. , 6. ,\n",
       "       7. ])"
      ]
     },
     "execution_count": 5,
     "metadata": {},
     "output_type": "execute_result"
    }
   ],
   "source": [
    "M_data2D[0: , 0] "
   ]
  },
  {
   "cell_type": "markdown",
   "metadata": {},
   "source": [
    "<font size=\"+1\" color=\"RED\">**[Q]**</font> Exécuter le code suivant qui permet de réaliser une représentation graphique de cette base d'apprentissage.\n"
   ]
  },
  {
   "cell_type": "code",
   "execution_count": 6,
   "metadata": {},
   "outputs": [
    {
     "name": "stderr",
     "output_type": "stream",
     "text": [
      "C:\\ProgramData\\Anaconda3\\lib\\site-packages\\ipykernel_launcher.py:1: FutureWarning: Method .as_matrix will be removed in a future version. Use .values instead.\n",
      "  \"\"\"Entry point for launching an IPython kernel.\n"
     ]
    },
    {
     "data": {
      "text/plain": [
       "<matplotlib.collections.PathCollection at 0x1b8599e7dd8>"
      ]
     },
     "execution_count": 6,
     "metadata": {},
     "output_type": "execute_result"
    },
    {
     "data": {
      "image/png": "[encoded data removed]",
      "text/plain": [
       "<Figure size 432x288 with 1 Axes>"
      ]
     },
     "metadata": {
      "needs_background": "light"
     },
     "output_type": "display_data"
    }
   ],
   "source": [
    "M_data2D= data_2D.as_matrix()      # conversion du DataFrame en matrice pour la commande suivante\n",
    "colonne_X= M_data2D[0: , 0]        # récupération des valeurs de la première colonne\n",
    "colonne_Y= M_data2D[0: , 1]        # récupération des valeurs de la deuxième colonne\n",
    "plt.scatter(colonne_X, colonne_Y)  # affichage des points"
   ]
  },
  {
   "cell_type": "markdown",
   "metadata": {},
   "source": [
    "## Fonctions préliminaires"
   ]
  },
  {
   "cell_type": "markdown",
   "metadata": {},
   "source": [
    "### Normalisation des données"
   ]
  },
  {
   "cell_type": "markdown",
   "metadata": {},
   "source": [
    "<font size=\"+1\" color=\"RED\">**[Q]**</font> Ecrire la fonction <code>normalisation</code> qui prend en argument un <code>DataFrame</code> et rend la matrice obtenue en normalisant chaque colonne de ce <code>DataFrame</code> en appliquant la normalisation vue en cours.\n"
   ]
  },
  {
   "cell_type": "code",
   "execution_count": 7,
   "metadata": {},
   "outputs": [],
   "source": [
    "import math\n",
    "\n",
    "def normalisation(Dataf):\n",
    "    M_Dataf=Dataf.as_matrix()\n",
    "    \n",
    "    for j in range(0,len(M_Dataf[0])):\n",
    "        colonne=M_Dataf[0: , j]\n",
    "        maxx=colonne.max()\n",
    "        minn=colonne.min()\n",
    "        for i in range(0,len(colonne)):\n",
    "            M_Dataf[i][j]=(M_Dataf[i][j]-minn)/(maxx-minn)\n",
    "            \n",
    "    return M_Dataf\n",
    "        \n"
   ]
  },
  {
   "cell_type": "code",
   "execution_count": 8,
   "metadata": {},
   "outputs": [
    {
     "name": "stderr",
     "output_type": "stream",
     "text": [
      "C:\\ProgramData\\Anaconda3\\lib\\site-packages\\ipykernel_launcher.py:4: FutureWarning: Method .as_matrix will be removed in a future version. Use .values instead.\n",
      "  after removing the cwd from sys.path.\n"
     ]
    }
   ],
   "source": [
    "Norma=normalisation(data_2D)"
   ]
  },
  {
   "cell_type": "markdown",
   "metadata": {},
   "source": [
    "**[Q]** Normaliser les données de la base-2D et afficher leur représentation graphique: vérifier que le tracé est le même que celui obtenu avant la normalisation (aux valeurs des axes près)."
   ]
  },
  {
   "cell_type": "code",
   "execution_count": 9,
   "metadata": {},
   "outputs": [
    {
     "data": {
      "text/plain": [
       "<matplotlib.collections.PathCollection at 0x1b859a8ba90>"
      ]
     },
     "execution_count": 9,
     "metadata": {},
     "output_type": "execute_result"
    },
    {
     "data": {
      "image/png": "[encoded data removed]",
      "text/plain": [
       "<Figure size 432x288 with 1 Axes>"
      ]
     },
     "metadata": {
      "needs_background": "light"
     },
     "output_type": "display_data"
    }
   ],
   "source": [
    "colonne_X= Norma[0: , 0]        # récupération des valeurs de la première colonne\n",
    "colonne_Y= Norma[0: , 1]        # récupération des valeurs de la deuxième colonne\n",
    "plt.scatter(colonne_X, colonne_Y)  # affichage des points"
   ]
  },
  {
   "cell_type": "markdown",
   "metadata": {},
   "source": [
    "### Distances entre exemples"
   ]
  },
  {
   "cell_type": "markdown",
   "metadata": {},
   "source": [
    "<font size=\"+1\" color=\"RED\">**[Q]**</font> Ecrire la fonction <code>dist_euclidienne_vect</code> qui prend en argument deux exemples sous la forme de vecteurs et rend leur distance euclidienne. "
   ]
  },
  {
   "cell_type": "code",
   "execution_count": 10,
   "metadata": {},
   "outputs": [],
   "source": [
    "def dist_euclidienne_vect(Ex1,Ex2):\n",
    "    if(len(Ex1)!=len(Ex2)):\n",
    "        return None\n",
    "    \n",
    "    s=0\n",
    "    for i in range(0,len(Ex1)):\n",
    "        s=s+pow(Ex1[i]-Ex2[i],2)\n",
    "    \n",
    "    return pow(s,1/2)\n",
    "    \n",
    "    "
   ]
  },
  {
   "cell_type": "code",
   "execution_count": 11,
   "metadata": {},
   "outputs": [
    {
     "name": "stdout",
     "output_type": "stream",
     "text": [
      "v1 :  [0.  0.6] \n",
      "v2 :  [0.14285714 0.5       ]\n",
      "distance euclidienne entre v1 et v2 :  0.17437936593905287\n"
     ]
    }
   ],
   "source": [
    "# Exemple d'utilisation sur les 2 premiers exemples de la base:\n",
    "v1= M_data2D[0,:]\n",
    "v2= M_data2D[1,:]\n",
    "print(\"v1 : \",v1, \"\\nv2 : \",v2)\n",
    "\n",
    "print(\"distance euclidienne entre v1 et v2 : \", dist_euclidienne_vect(v1,v2))"
   ]
  },
  {
   "cell_type": "markdown",
   "metadata": {},
   "source": [
    "<font size=\"+1\" color=\"RED\">**[Q]**</font> Ecrire la fonction <code>dist_manhattan_vect</code> qui prend en argument deux exemples et rend leur distance de Manhattan. "
   ]
  },
  {
   "cell_type": "code",
   "execution_count": 12,
   "metadata": {},
   "outputs": [],
   "source": [
    "def dist_manhattan_vect(Ex1,Ex2):\n",
    "    if(len(Ex1)!=len(Ex2)):\n",
    "        return None\n",
    "    \n",
    "    s=0\n",
    "    for i in range(0,len(Ex1)):\n",
    "        s=s+abs(Ex1[i]-Ex2[i])\n",
    "        \n",
    "    return s\n",
    "    \n",
    "    \n",
    "    "
   ]
  },
  {
   "cell_type": "code",
   "execution_count": 13,
   "metadata": {},
   "outputs": [
    {
     "name": "stdout",
     "output_type": "stream",
     "text": [
      "v1 :  [0.  0.6] \n",
      "v2 :  [0.14285714 0.5       ]\n",
      "distance de Manhattan entre v1 et v2 :  0.24285714285714283\n"
     ]
    }
   ],
   "source": [
    "# Exemple d'utilisation sur les 2 premiers exemples de la base:\n",
    "v1= M_data2D[0,:]\n",
    "v2= M_data2D[1,:]\n",
    "print(\"v1 : \",v1, \"\\nv2 : \",v2)\n",
    "\n",
    "print(\"distance de Manhattan entre v1 et v2 : \", dist_manhattan_vect(v1,v2))"
   ]
  },
  {
   "cell_type": "markdown",
   "metadata": {},
   "source": [
    "**[Q]** Ecrire la fonction dist_vect qui prend en argument une chaîne de caractères (soit la chaîne \"euclidienne\", soit \"manhattan\") ainsi que deux vecteurs et qui rend leur distance soit euclidienne, soit de Manhattan selon le cas."
   ]
  },
  {
   "cell_type": "code",
   "execution_count": 14,
   "metadata": {},
   "outputs": [],
   "source": [
    "def dist_vect(chaine,v1,v2):\n",
    "    if(chaine=='euclidienne'):\n",
    "        return dist_euclidienne_vect(v1,v2)\n",
    "    elif(chaine=='manhattan'):\n",
    "        return dist_manhattan_vect(v1,v2)\n",
    "    else:\n",
    "        return None\n",
    "    "
   ]
  },
  {
   "cell_type": "code",
   "execution_count": 15,
   "metadata": {},
   "outputs": [
    {
     "name": "stdout",
     "output_type": "stream",
     "text": [
      "v1 :  [0.  0.6] \n",
      "v2 :  [0.14285714 0.5       ]\n",
      "distance  euclidienne  entre v1 et v2 :\t 0.17437936593905287\n",
      "distance  manhattan  entre v1 et v2 :\t 0.24285714285714283\n"
     ]
    }
   ],
   "source": [
    "\n",
    "v1= M_data2D[0,:]\n",
    "v2= M_data2D[1,:]\n",
    "print(\"v1 : \",v1, \"\\nv2 : \",v2)\n",
    "\n",
    "for nom in [\"euclidienne\", \"manhattan\"] :\n",
    "    print(\"distance \", nom, \" entre v1 et v2 :\\t\", dist_vect(nom,v1,v2))"
   ]
  },
  {
   "cell_type": "markdown",
   "metadata": {},
   "source": [
    "### Calcul de centroides"
   ]
  },
  {
   "cell_type": "markdown",
   "metadata": {},
   "source": [
    "<font size=\"+1\" color=\"RED\">**[Q]**</font> Ecrire la fonction <code>centroide</code> qui, étant donné une matrice représentant plusieurs exemples rend le centroide (calculé en faisant la moyenne de chaque composante des vecteurs de la matrice).\n",
    "On fait l'hypothèse que la matrice contient toujours au moins un exemple."
   ]
  },
  {
   "cell_type": "code",
   "execution_count": 16,
   "metadata": {},
   "outputs": [
    {
     "name": "stderr",
     "output_type": "stream",
     "text": [
      "C:\\ProgramData\\Anaconda3\\lib\\site-packages\\ipykernel_launcher.py:4: FutureWarning: Method .as_matrix will be removed in a future version. Use .values instead.\n",
      "  after removing the cwd from sys.path.\n"
     ]
    }
   ],
   "source": [
    "M_data2D= normalisation(data_2D)"
   ]
  },
  {
   "cell_type": "code",
   "execution_count": 17,
   "metadata": {},
   "outputs": [
    {
     "data": {
      "text/plain": [
       "array([[0.        , 0.6       ],\n",
       "       [0.14285714, 0.5       ],\n",
       "       [0.14285714, 0.        ],\n",
       "       [0.28571429, 0.        ],\n",
       "       [0.28571429, 0.2       ],\n",
       "       [0.57142857, 0.6       ],\n",
       "       [0.57142857, 0.8       ],\n",
       "       [0.57142857, 1.        ],\n",
       "       [0.64285714, 0.        ],\n",
       "       [0.64285714, 1.        ],\n",
       "       [0.71428571, 0.        ],\n",
       "       [0.71428571, 0.8       ],\n",
       "       [0.85714286, 0.2       ],\n",
       "       [1.        , 0.6       ]])"
      ]
     },
     "execution_count": 17,
     "metadata": {},
     "output_type": "execute_result"
    }
   ],
   "source": [
    "M_data2D\n"
   ]
  },
  {
   "cell_type": "code",
   "execution_count": 18,
   "metadata": {},
   "outputs": [
    {
     "data": {
      "text/plain": [
       "(14, 2)"
      ]
     },
     "execution_count": 18,
     "metadata": {},
     "output_type": "execute_result"
    }
   ],
   "source": [
    "M_data2D.shape"
   ]
  },
  {
   "cell_type": "code",
   "execution_count": 19,
   "metadata": {},
   "outputs": [
    {
     "data": {
      "text/plain": [
       "array([0.51020408, 0.45      ])"
      ]
     },
     "execution_count": 19,
     "metadata": {},
     "output_type": "execute_result"
    }
   ],
   "source": [
    "M_data2D.mean(axis=0)"
   ]
  },
  {
   "cell_type": "code",
   "execution_count": 20,
   "metadata": {},
   "outputs": [
    {
     "data": {
      "text/plain": [
       "numpy.ndarray"
      ]
     },
     "execution_count": 20,
     "metadata": {},
     "output_type": "execute_result"
    }
   ],
   "source": [
    "type(M_data2D.mean(axis=0))\n"
   ]
  },
  {
   "cell_type": "code",
   "execution_count": 21,
   "metadata": {},
   "outputs": [
    {
     "name": "stdout",
     "output_type": "stream",
     "text": [
      "<class 'numpy.float64'>\n",
      "[3. 1.]\n"
     ]
    }
   ],
   "source": [
    "tab=np.array([1.0,0.6])\n",
    "y = np.array([3,1])\n",
    "print(type(y.mean(axis=0)))\n",
    "\n",
    "\n",
    "if(isinstance(y.mean(axis=0), float)):\n",
    "    print((np.array([y])).mean(axis=0))\n",
    "   "
   ]
  },
  {
   "cell_type": "code",
   "execution_count": 22,
   "metadata": {},
   "outputs": [
    {
     "name": "stdout",
     "output_type": "stream",
     "text": [
      "[3 1]\n"
     ]
    },
    {
     "data": {
      "text/plain": [
       "array([3., 1.])"
      ]
     },
     "execution_count": 22,
     "metadata": {},
     "output_type": "execute_result"
    }
   ],
   "source": [
    "y=np.array([3,1])\n",
    "print(y)\n",
    "t=(np.array([y])).mean(axis=0)\n",
    "t"
   ]
  },
  {
   "cell_type": "code",
   "execution_count": 23,
   "metadata": {},
   "outputs": [],
   "source": [
    "def centroide(M):\n",
    "    c=M.mean(axis=0)\n",
    "    if(isinstance(c, float)):\n",
    "        t=(np.array([M])).mean(axis=0)\n",
    "        return t\n",
    "    \n",
    "    return c\n",
    "    "
   ]
  },
  {
   "cell_type": "code",
   "execution_count": 24,
   "metadata": {},
   "outputs": [
    {
     "data": {
      "text/plain": [
       "array([1. , 2.5])"
      ]
     },
     "execution_count": 24,
     "metadata": {},
     "output_type": "execute_result"
    }
   ],
   "source": [
    "centroide(np.array([[1,3],[1,2]]))"
   ]
  },
  {
   "cell_type": "code",
   "execution_count": 25,
   "metadata": {},
   "outputs": [
    {
     "data": {
      "text/plain": [
       "array([1., 3.])"
      ]
     },
     "execution_count": 25,
     "metadata": {},
     "output_type": "execute_result"
    }
   ],
   "source": [
    "centroide(np.array([1,3]))"
   ]
  },
  {
   "cell_type": "code",
   "execution_count": 26,
   "metadata": {},
   "outputs": [
    {
     "data": {
      "text/plain": [
       "array([[0.        , 0.6       ],\n",
       "       [0.14285714, 0.5       ],\n",
       "       [0.14285714, 0.        ],\n",
       "       [0.28571429, 0.        ],\n",
       "       [0.28571429, 0.2       ],\n",
       "       [0.57142857, 0.6       ],\n",
       "       [0.57142857, 0.8       ],\n",
       "       [0.57142857, 1.        ],\n",
       "       [0.64285714, 0.        ],\n",
       "       [0.64285714, 1.        ],\n",
       "       [0.71428571, 0.        ],\n",
       "       [0.71428571, 0.8       ],\n",
       "       [0.85714286, 0.2       ],\n",
       "       [1.        , 0.6       ]])"
      ]
     },
     "execution_count": 26,
     "metadata": {},
     "output_type": "execute_result"
    }
   ],
   "source": [
    "M_data2D"
   ]
  },
  {
   "cell_type": "code",
   "execution_count": 27,
   "metadata": {},
   "outputs": [
    {
     "data": {
      "text/plain": [
       "array([0.51020408, 0.45      ])"
      ]
     },
     "execution_count": 27,
     "metadata": {},
     "output_type": "execute_result"
    }
   ],
   "source": [
    "centroide(M_data2D)"
   ]
  },
  {
   "cell_type": "markdown",
   "metadata": {},
   "source": [
    "### Distances entre groupes d'exemples\n"
   ]
  },
  {
   "cell_type": "markdown",
   "metadata": {},
   "source": [
    "La distance entre deux groupes d'exemples correspond à la distance entre leurs centroïdes (approche \"centroid linkage\").\n",
    "\n",
    "<font size=\"+1\" color=\"RED\">**[Q]**</font> Ecrire la fonction <code>dist_groupes</code> qui prend en argument une chaîne de caractères (soit \"euclidienne\", soit \"manhattan\") ainsi que deux groupes de vecteurs et qui rend leur distance soit euclidienne, soit de Manhattan selon le cas.\n"
   ]
  },
  {
   "cell_type": "code",
   "execution_count": 28,
   "metadata": {},
   "outputs": [],
   "source": [
    "def dist_groupes(chaine,g1,g2):\n",
    "    return  dist_vect(chaine,centroide(g1),centroide(g2))\n",
    "    "
   ]
  },
  {
   "cell_type": "code",
   "execution_count": 29,
   "metadata": {},
   "outputs": [
    {
     "data": {
      "text/plain": [
       "0.586345478713841"
      ]
     },
     "execution_count": 29,
     "metadata": {},
     "output_type": "execute_result"
    }
   ],
   "source": [
    "# par exemple :\n",
    "dist_groupes(\"euclidienne\", M_data2D[0:4], M_data2D[5:13])"
   ]
  },
  {
   "cell_type": "markdown",
   "metadata": {},
   "source": [
    "## L'algorithme de classification hiérarchique"
   ]
  },
  {
   "cell_type": "markdown",
   "metadata": {},
   "source": [
    "Dans la suite de cet exercice, une partition (qui est un groupe de clusters) est représentée par une structure de données de type dictionnaire (<code>dict()</code> en python) :\n",
    "- la clé est un numéro de cluster (sous la forme d'un entier naturel) ;\n",
    "- la valeur associée est une matrice contenant les exemples qui sont dans le cluster correspondant.\n",
    "\n",
    "On appelle \"partition\" un tel dictionnaire.\n"
   ]
  },
  {
   "cell_type": "markdown",
   "metadata": {},
   "source": [
    "<font size=\"+1\" color=\"RED\">**[Q]**</font> Ecrire la fonction <code>initialise</code> qui, étant donné une matrice M d'exemples, rend un dictionnaire contenant autant d'entrées que d'exemples dans M. Dans ce dictionnaire, une clé est numéro d'exemple (un entier compris entre 0 et n-1, le nombre d'exemples) et la valeur associée est une matrice d'exemples contenant un exemple de M."
   ]
  },
  {
   "cell_type": "code",
   "execution_count": 30,
   "metadata": {},
   "outputs": [],
   "source": [
    "def initialise(M):\n",
    "    d=dict()\n",
    "    for i in range (0,len(M)):\n",
    "        d[i]=M[i]\n",
    "    return d\n",
    "\n"
   ]
  },
  {
   "cell_type": "code",
   "execution_count": 31,
   "metadata": {},
   "outputs": [
    {
     "data": {
      "text/plain": [
       "{0: array([0. , 0.6]),\n",
       " 1: array([0.14285714, 0.5       ]),\n",
       " 2: array([0.14285714, 0.        ]),\n",
       " 3: array([0.28571429, 0.        ]),\n",
       " 4: array([0.28571429, 0.2       ]),\n",
       " 5: array([0.57142857, 0.6       ]),\n",
       " 6: array([0.57142857, 0.8       ]),\n",
       " 7: array([0.57142857, 1.        ]),\n",
       " 8: array([0.64285714, 0.        ]),\n",
       " 9: array([0.64285714, 1.        ]),\n",
       " 10: array([0.71428571, 0.        ]),\n",
       " 11: array([0.71428571, 0.8       ]),\n",
       " 12: array([0.85714286, 0.2       ]),\n",
       " 13: array([1. , 0.6])}"
      ]
     },
     "execution_count": 31,
     "metadata": {},
     "output_type": "execute_result"
    }
   ],
   "source": [
    "# Par exemple:\n",
    "depart = initialise(M_data2D)\n",
    "# cette partition contient autant de clusters que d'exemples: on a un cluster par exemple.\n",
    "depart "
   ]
  },
  {
   "cell_type": "markdown",
   "metadata": {},
   "source": [
    "### Variante 1: chaînage par centroides"
   ]
  },
  {
   "cell_type": "markdown",
   "metadata": {},
   "source": [
    "On souhaite implémenter ici l'algorithme de classification hiérarchique basé sur l'utilisation d'un chaînage par centroides (approche \"centroid linkage\").\n",
    "\n",
    "On commence par implémenter une fonction qui, étant donné une partition, permet de regrouper les 2 clusters les plus proches. Ces 2 clusters sont alors fusionnés pour n'en former qu'un seul qui est ajouté à la partition, alors que les 2 clusters initiaux sont retirés de la partition.\n",
    "On fait l'hypothèse que la partition initiale contient au moins 2 groupes.\n",
    "\n",
    "<font size=\"+1\" color=\"RED\">**[Q]**</font> Ecrire la fonction <code>fusionne</code> qui prend en argument un nom de distance (\"euclidienne\" ou \"manhattan\") et une partition C0 et qui rend 4 valeurs :\n",
    "- la partition C1 obtenue après fusion des 2 clusters les plus proches ;\n",
    "- les clés des 2 clusters de C0 qui ont été fusionnés et qui ont donc aussi été retirés de C1 ;\n",
    "- la distance qui séparait ces 2 clusters, calculée selon le nom de distance donné."
   ]
  },
  {
   "cell_type": "code",
   "execution_count": 32,
   "metadata": {},
   "outputs": [
    {
     "name": "stdout",
     "output_type": "stream",
     "text": [
      "d initial :\n",
      "{0: array([2, 1]), 1: array([3, 2]), 2: array([5, 6]), 3: array([4, 5])}\n",
      "d mi:\n",
      "{0: array([2, 1]), 1: array([3, 2]), 2: array([5, 6]), 3: array([4, 5]), 4: array([4, 8])}\n",
      "d final\n",
      "{2: array([5, 6]), 3: array([4, 5]), 4: array([4, 8]), 5: array([8, 8])}\n"
     ]
    }
   ],
   "source": [
    "d=dict()\n",
    "d[0]=np.array([2,1])\n",
    "d[1]=np.array([3,2])\n",
    "d[2]=np.array([5,6])\n",
    "d[3]=np.array([4,5])\n",
    "print('d initial :')\n",
    "print(d)\n",
    "\n",
    "\n",
    "ens = []\n",
    "for k in d.keys() :\n",
    "    ens.append(k)\n",
    "np.array(ens)\n",
    "\n",
    "d[(np.array(ens)).max()+1]=np.array([4,8])\n",
    "print('d mi:')\n",
    "print(d)\n",
    "ens = []\n",
    "for k in d.keys() :\n",
    "    ens.append(k)\n",
    "np.array(ens)\n",
    "d[(np.array(ens)).max()+1]=np.array([8,8])\n",
    "del d[0]\n",
    "del d[1]\n",
    "print('d final')\n",
    "print(d)\n"
   ]
  },
  {
   "cell_type": "code",
   "execution_count": 33,
   "metadata": {},
   "outputs": [
    {
     "data": {
      "text/plain": [
       "False"
      ]
     },
     "execution_count": 33,
     "metadata": {},
     "output_type": "execute_result"
    }
   ],
   "source": [
    "t=np.array([3,2,5,4,8,2])\n",
    "np.all(t<=1)"
   ]
  },
  {
   "cell_type": "code",
   "execution_count": 34,
   "metadata": {},
   "outputs": [
    {
     "data": {
      "text/plain": [
       "True"
      ]
     },
     "execution_count": 34,
     "metadata": {},
     "output_type": "execute_result"
    }
   ],
   "source": [
    "l=[3,5,2,4,8,9]\n",
    "np.any(np.array(l)<3)"
   ]
  },
  {
   "cell_type": "code",
   "execution_count": 35,
   "metadata": {},
   "outputs": [
    {
     "data": {
      "text/plain": [
       "array([2, 5, 4, 8, 2])"
      ]
     },
     "execution_count": 35,
     "metadata": {},
     "output_type": "execute_result"
    }
   ],
   "source": [
    "t=np.delete(t,0)\n",
    "t"
   ]
  },
  {
   "cell_type": "code",
   "execution_count": 36,
   "metadata": {},
   "outputs": [
    {
     "data": {
      "text/plain": [
       "array([[1, 2, 3],\n",
       "       [2, 3, 4],\n",
       "       [5, 8, 6]])"
      ]
     },
     "execution_count": 36,
     "metadata": {},
     "output_type": "execute_result"
    }
   ],
   "source": [
    "a = np.array([1, 2, 3])\n",
    "b = np.array([2, 3, 4])\n",
    "c=np.array([5,8,6])\n",
    "t=np.vstack((a,b))\n",
    "np.vstack((t,c))"
   ]
  },
  {
   "cell_type": "code",
   "execution_count": 37,
   "metadata": {},
   "outputs": [],
   "source": [
    "def fusionne(chaine,C0):\n",
    "    \n",
    "    minn=1000000000000000000;\n",
    "    \n",
    "    for i in C0.keys():\n",
    "        for j in C0.keys():\n",
    "            \n",
    "            if(i!=j):\n",
    "                dist=dist_groupes(chaine,C0[i],C0[j])\n",
    "                if(dist<minn):\n",
    "                    minn=dist\n",
    "                    a=i\n",
    "                    b=j\n",
    "                    \n",
    "\n",
    "    ens = []\n",
    "    for k in C0.keys() :\n",
    "        ens.append(k)\n",
    "   \n",
    "    \n",
    "    C0[(np.array(ens)).max()+1]=np.vstack(([C0[a],C0[b]]))\n",
    "   \n",
    "    \n",
    "    del C0[a]\n",
    "    del C0[b]\n",
    "    \n",
    "    print('Fusion de  ',a,'  et  ',b,'  pour une distance de',minn)\n",
    "    return (C0,a,b,minn)\n",
    "    \n",
    "    \n",
    "    "
   ]
  },
  {
   "cell_type": "code",
   "execution_count": 38,
   "metadata": {},
   "outputs": [
    {
     "name": "stdout",
     "output_type": "stream",
     "text": [
      "Fusion de   8   et   10   pour une distance de 0.0714285714285714\n"
     ]
    },
    {
     "data": {
      "text/plain": [
       "({0: array([0. , 0.6]),\n",
       "  1: array([0.14285714, 0.5       ]),\n",
       "  2: array([0.14285714, 0.        ]),\n",
       "  3: array([0.28571429, 0.        ]),\n",
       "  4: array([0.28571429, 0.2       ]),\n",
       "  5: array([0.57142857, 0.6       ]),\n",
       "  6: array([0.57142857, 0.8       ]),\n",
       "  7: array([0.57142857, 1.        ]),\n",
       "  9: array([0.64285714, 1.        ]),\n",
       "  11: array([0.71428571, 0.8       ]),\n",
       "  12: array([0.85714286, 0.2       ]),\n",
       "  13: array([1. , 0.6]),\n",
       "  14: array([[0.64285714, 0.        ],\n",
       "         [0.71428571, 0.        ]])},\n",
       " 8,\n",
       " 10,\n",
       " 0.0714285714285714)"
      ]
     },
     "execution_count": 38,
     "metadata": {},
     "output_type": "execute_result"
    }
   ],
   "source": [
    "# Par exemple:\n",
    "depart = initialise(M_data2D)\n",
    "fusionne(\"euclidienne\",depart)  "
   ]
  },
  {
   "cell_type": "markdown",
   "metadata": {},
   "source": [
    "### Construction de dendrogramme"
   ]
  },
  {
   "cell_type": "markdown",
   "metadata": {},
   "source": [
    "Le dendrogramme permet de visualiser les fusions de clusters réalisés tout au long du déroulement de l'algorithme de clustering hiérarchique.\n",
    "\n",
    "Pour construire un dendrogramme, il est nécessaire de construire la matrice suivante (que l'on appelle <code>M_Fusion</code> dans ce qui suit): pour chaque ligne, cette matrice contient 4 colonnes :\n",
    "- les 2 premières colonnes contiennent les clés des groupes fusionnés ;\n",
    "- la 3e colonne contient la distance qui séparait ces 2 groupes ;\n",
    "- la 4e colonne contient la valeur 2 (c'est une valeur sans importance pour nous).\n",
    " "
   ]
  },
  {
   "cell_type": "code",
   "execution_count": 39,
   "metadata": {},
   "outputs": [
    {
     "name": "stdout",
     "output_type": "stream",
     "text": [
      "Fusion de   8   et   10   pour une distance de 0.0714285714285714\n",
      "Fusion de   7   et   9   pour une distance de 0.07142857142857151\n",
      "Fusion de   2   et   3   pour une distance de 0.14285714285714285\n",
      "Fusion de   6   et   11   pour une distance de 0.1428571428571429\n",
      "Fusion de   0   et   1   pour une distance de 0.17437936593905287\n",
      "Fusion de   15   et   17   pour une distance de 0.20316375219039837\n",
      "Fusion de   4   et   16   pour une distance de 0.21237241067597867\n",
      "Fusion de   12   et   14   pour une distance de 0.26811891970176366\n",
      "Fusion de   5   et   19   pour une distance de 0.3047456282855976\n",
      "Fusion de   13   et   22   pour une distance de 0.4542857142857144\n",
      "Fusion de   20   et   21   pour une distance de 0.5000000000000001\n",
      "Fusion de   18   et   24   pour une distance de 0.638139657302555\n",
      "Fusion de   23   et   25   pour une distance de 0.6796842379114776\n",
      "\n",
      "La matrice M_Fusion obtenue :\n",
      " [[ 8.         10.          0.07142857  2.        ]\n",
      " [ 7.          9.          0.07142857  2.        ]\n",
      " [ 2.          3.          0.14285714  2.        ]\n",
      " [ 6.         11.          0.14285714  2.        ]\n",
      " [ 0.          1.          0.17437937  2.        ]\n",
      " [15.         17.          0.20316375  2.        ]\n",
      " [ 4.         16.          0.21237241  2.        ]\n",
      " [12.         14.          0.26811892  2.        ]\n",
      " [ 5.         19.          0.30474563  2.        ]\n",
      " [13.         22.          0.45428571  2.        ]\n",
      " [20.         21.          0.5         2.        ]\n",
      " [18.         24.          0.63813966  2.        ]\n",
      " [23.         25.          0.67968424  2.        ]]\n"
     ]
    }
   ],
   "source": [
    "# Exemple de construction de la matrice M_Fusion en utilisant les fonctions écrites\n",
    "# dans les questions précédentes\n",
    "\n",
    "# initialisation \n",
    "courant = initialise(M_data2D)       # clustering courant, au départ:s données data_2D normalisées\n",
    "M_Fusion = []                        # initialisation\n",
    "while len(courant) >=2:              # tant qu'il y a 2 groupes à fusionner\n",
    "    new,k1,k2,dist_min = fusionne('euclidienne',courant)\n",
    "    if(len(M_Fusion)==0):\n",
    "        M_Fusion = [k1,k2,dist_min,2]\n",
    "    else:\n",
    "        M_Fusion = np.vstack( [M_Fusion,[k1,k2,dist_min,2] ])\n",
    "    courant = new\n",
    "    \n",
    "print('\\nLa matrice M_Fusion obtenue :\\n',M_Fusion)"
   ]
  },
  {
   "cell_type": "markdown",
   "metadata": {},
   "source": [
    "Une fois la matrice <code>M_Fusion</code> construite, le tracé d'un histogramme s'effectue avec le code suivant :"
   ]
  },
  {
   "cell_type": "code",
   "execution_count": 40,
   "metadata": {},
   "outputs": [
    {
     "data": {
      "image/png": "[encoded data removed]",
      "text/plain": [
       "<Figure size 2160x1080 with 1 Axes>"
      ]
     },
     "metadata": {
      "needs_background": "light"
     },
     "output_type": "display_data"
    }
   ],
   "source": [
    "import scipy.cluster.hierarchy\n",
    "\n",
    "# Paramètre de la fenêtre d'affichage: \n",
    "plt.figure(figsize=(30, 15)) # taille : largeur x hauteur\n",
    "plt.title('Dendrogramme', fontsize=25)    \n",
    "plt.xlabel('Exemple', fontsize=25)\n",
    "plt.ylabel('Distance', fontsize=25)\n",
    "\n",
    "# Construction du dendrogramme à partir de la matrice M_Fusion:\n",
    "scipy.cluster.hierarchy.dendrogram(\n",
    "    M_Fusion,\n",
    "    leaf_font_size=18.,  # taille des caractères de l'axe des X\n",
    ")\n",
    "\n",
    "# Affichage du résultat obtenu:\n",
    "plt.show()"
   ]
  },
  {
   "cell_type": "markdown",
   "metadata": {},
   "source": [
    "<font size=\"+1\" color=\"RED\">**[Q]**</font> Ecrire la fonction <code>clustering_hierarchique</code> qui, pour une base d'apprentissage et un nom de distance donné, permet de réaliser un clustering hiérarchique et de tracer le dendrogramme obtenu.\n",
    "\n",
    "La fonction rend la matrice <code>M_Fusion</code> construite."
   ]
  },
  {
   "cell_type": "code",
   "execution_count": 41,
   "metadata": {},
   "outputs": [],
   "source": [
    "def clustering_hierarchique(B,chaine):\n",
    "    data_2D = pd.read_csv(B)\n",
    "    M_data2D=normalisation(data_2D)\n",
    "   \n",
    "    courant = initialise(M_data2D)       # clustering courant, au départ:s données data_2D normalisées\n",
    "    M_Fusion = []                        # initialisation\n",
    "    while len(courant) >=2:              # tant qu'il y a 2 groupes à fusionner\n",
    "        new,k1,k2,dist_min = fusionne(chaine,courant)\n",
    "        if(len(M_Fusion)==0):\n",
    "            M_Fusion = [k1,k2,dist_min,2]\n",
    "        else:\n",
    "            M_Fusion = np.vstack( [M_Fusion,[k1,k2,dist_min,2] ])\n",
    "        courant = new\n",
    "    \n",
    "    print('\\nLa matrice M_Fusion obtenue :\\n',M_Fusion)\n",
    "    # Paramètre de la fenêtre d'affichage: \n",
    "    plt.figure(figsize=(30, 15)) # taille : largeur x hauteur\n",
    "    plt.title('Dendrogramme', fontsize=25)    \n",
    "    plt.xlabel('Exemple', fontsize=25)\n",
    "    plt.ylabel('Distance', fontsize=25)\n",
    "\n",
    "    # Construction du dendrogramme à partir de la matrice M_Fusion:\n",
    "    scipy.cluster.hierarchy.dendrogram(\n",
    "        M_Fusion,\n",
    "        leaf_font_size=18.,  # taille des caractères de l'axe des X\n",
    "    )\n",
    "\n",
    "    # Affichage du résultat obtenu:\n",
    "    plt.show()\n",
    "    \n",
    "    "
   ]
  },
  {
   "cell_type": "markdown",
   "metadata": {},
   "source": [
    "### Comparaison de distances"
   ]
  },
  {
   "cell_type": "markdown",
   "metadata": {},
   "source": [
    "<font size=\"+1\" color=\"RED\">**[Q]**</font> Réaliser un clustering en utilisant la distance de Manhattan. Comparer les résultats obtenus avec cette distance avec ceux obtenus avec la distance euclidienne. Est-ce que l'utilisation de cette distance vous semble pertinent?"
   ]
  },
  {
   "cell_type": "code",
   "execution_count": 42,
   "metadata": {},
   "outputs": [
    {
     "name": "stderr",
     "output_type": "stream",
     "text": [
      "C:\\ProgramData\\Anaconda3\\lib\\site-packages\\ipykernel_launcher.py:4: FutureWarning: Method .as_matrix will be removed in a future version. Use .values instead.\n",
      "  after removing the cwd from sys.path.\n"
     ]
    },
    {
     "name": "stdout",
     "output_type": "stream",
     "text": [
      "Fusion de   8   et   10   pour une distance de 0.0714285714285714\n",
      "Fusion de   7   et   9   pour une distance de 0.07142857142857151\n",
      "Fusion de   2   et   3   pour une distance de 0.14285714285714285\n",
      "Fusion de   6   et   11   pour une distance de 0.1428571428571429\n",
      "Fusion de   15   et   17   pour une distance de 0.23571428571428554\n",
      "Fusion de   0   et   1   pour une distance de 0.24285714285714283\n",
      "Fusion de   4   et   16   pour une distance de 0.27142857142857146\n",
      "Fusion de   5   et   18   pour une distance de 0.35357142857142854\n",
      "Fusion de   12   et   14   pour une distance de 0.3785714285714285\n",
      "Fusion de   20   et   22   pour une distance de 0.5000000000000001\n",
      "Fusion de   13   et   21   pour une distance de 0.6257142857142859\n",
      "Fusion de   19   et   24   pour une distance de 0.857142857142857\n",
      "Fusion de   23   et   25   pour une distance de 0.7095238095238097\n",
      "\n",
      "La matrice M_Fusion obtenue :\n",
      " [[ 8.         10.          0.07142857  2.        ]\n",
      " [ 7.          9.          0.07142857  2.        ]\n",
      " [ 2.          3.          0.14285714  2.        ]\n",
      " [ 6.         11.          0.14285714  2.        ]\n",
      " [15.         17.          0.23571429  2.        ]\n",
      " [ 0.          1.          0.24285714  2.        ]\n",
      " [ 4.         16.          0.27142857  2.        ]\n",
      " [ 5.         18.          0.35357143  2.        ]\n",
      " [12.         14.          0.37857143  2.        ]\n",
      " [20.         22.          0.5         2.        ]\n",
      " [13.         21.          0.62571429  2.        ]\n",
      " [19.         24.          0.85714286  2.        ]\n",
      " [23.         25.          0.70952381  2.        ]]\n"
     ]
    },
    {
     "data": {
      "image/png": "[encoded data removed]",
      "text/plain": [
       "<Figure size 2160x1080 with 1 Axes>"
      ]
     },
     "metadata": {
      "needs_background": "light"
     },
     "output_type": "display_data"
    }
   ],
   "source": [
    "clustering_hierarchique(\"data/base-2D.csv\",\"manhattan\")"
   ]
  },
  {
   "cell_type": "raw",
   "metadata": {},
   "source": [
    "On a autant de fusion en utilisant un clustering hierarchique avec un calcul de distance de manhattan.\n",
    "j'ai l'inmpression qu'on obtient le même dendogramme sauf la partit gauche (celle qui se situe à gauche de la fusion des groupes 0 et 1) de l'un correspond à la partie de droite de l'autre.\n",
    "L'utilisation de cette distance ne me semble pas pertinente car les infos obtenues ne nous apportent pas de renseignments supplémentaires.\n"
   ]
  },
  {
   "cell_type": "markdown",
   "metadata": {},
   "source": [
    "### Variante 2: chaînage complet (maximum des distances)"
   ]
  },
  {
   "cell_type": "markdown",
   "metadata": {},
   "source": [
    "On considère maintenant l'approche \"complete linkage\". \n",
    "\n",
    "<font size=\"+1\" color=\"RED\">**[Q]**</font> Ecrire la fonction <code>dist_max_groupes</code> qui, étant donné deux clusters, calcule leur distance ainsi définie. Cette fonction prend 3 arguments: un nom de distance à utiliser (\"euclidienne\" ou \"manhattan\") et deux clusters.\n",
    "On fait l'hypothèse que les 2 clusters contiennent au moins un exemple.\n"
   ]
  },
  {
   "cell_type": "code",
   "execution_count": null,
   "metadata": {},
   "outputs": [],
   "source": []
  },
  {
   "cell_type": "code",
   "execution_count": 43,
   "metadata": {},
   "outputs": [],
   "source": [
    "def dist_max_groupes(chaine,c1,c2):\n",
    "    \n",
    "    if(isinstance(c1[0], float)):\n",
    "        c1=(np.array([c1]))\n",
    "        \n",
    "    if(isinstance(c2[0], float)):\n",
    "        c2=(np.array([c2]))\n",
    "    \n",
    "    maxx=-1000\n",
    "    for i in range(0,len(c1)):\n",
    "        for j in range(0,len(c2)):\n",
    "            dist=dist_vect(chaine,c1[i],c2[j])\n",
    "            if(dist>maxx):\n",
    "                maxx=dist\n",
    "    return maxx        "
   ]
  },
  {
   "cell_type": "code",
   "execution_count": 44,
   "metadata": {},
   "outputs": [
    {
     "data": {
      "text/plain": [
       "array([[3, 2]])"
      ]
     },
     "execution_count": 44,
     "metadata": {},
     "output_type": "execute_result"
    }
   ],
   "source": [
    "t=np.array([3,2])\n",
    "t\n",
    "t=np.array([t])\n",
    "t"
   ]
  },
  {
   "cell_type": "code",
   "execution_count": 45,
   "metadata": {},
   "outputs": [
    {
     "data": {
      "text/plain": [
       "2.0"
      ]
     },
     "execution_count": 45,
     "metadata": {},
     "output_type": "execute_result"
    }
   ],
   "source": [
    "dist_max_groupes(\"euclidienne\",np.array([1.,2.]),np.array([3.,2.]))"
   ]
  },
  {
   "cell_type": "code",
   "execution_count": 46,
   "metadata": {},
   "outputs": [
    {
     "data": {
      "text/plain": [
       "1.118033988749895"
      ]
     },
     "execution_count": 46,
     "metadata": {},
     "output_type": "execute_result"
    }
   ],
   "source": [
    "dist_max_groupes(\"euclidienne\", M_data2D[0:5], M_data2D[6:13])"
   ]
  },
  {
   "cell_type": "markdown",
   "metadata": {},
   "source": [
    "La distance <code>dist_max_groupes</code> est utilisée lors d'un clustering hiérarchique basé sur un chaînage complet.\n",
    "\n",
    "<font size=\"+1\" color=\"RED\">**[Q]**</font> Implémenter une variante du clustering hiérarchique qui utilise cette distance."
   ]
  },
  {
   "cell_type": "code",
   "execution_count": 47,
   "metadata": {},
   "outputs": [],
   "source": [
    "def fusionneComplet(chaine,C0):\n",
    "    \n",
    "    minn=1000000000000000000;\n",
    "    \n",
    "    for i in C0.keys():\n",
    "        for j in C0.keys():\n",
    "            \n",
    "            if(i!=j):\n",
    "            \n",
    "                dist=dist_max_groupes(chaine,C0[i],C0[j])  \n",
    "                if(dist<minn):\n",
    "                    minn=dist\n",
    "                    a=i\n",
    "                    b=j\n",
    "                    \n",
    "\n",
    "    ens = []\n",
    "    for k in C0.keys() :\n",
    "        ens.append(k)\n",
    "   \n",
    "    \n",
    "    C0[(np.array(ens)).max()+1]=np.vstack(([C0[a],C0[b]]))\n",
    "   \n",
    "    \n",
    "    del C0[a]\n",
    "    del C0[b]\n",
    "    \n",
    "    print('Fusion de  ',a,'  et  ',b,'  pour une distance de',minn)\n",
    "    return (C0,a,b,minn)\n",
    "    "
   ]
  },
  {
   "cell_type": "code",
   "execution_count": 48,
   "metadata": {},
   "outputs": [],
   "source": [
    "def clustering_hierarchique_Complet(B,chaine):\n",
    "    data_2D = pd.read_csv(B)\n",
    "    M_data2D=normalisation(data_2D)\n",
    "   \n",
    "    courant = initialise(M_data2D)       # clustering courant, au départ:s données data_2D normalisées\n",
    "    M_Fusion = []                        # initialisation\n",
    "    while len(courant) >=2:              # tant qu'il y a 2 groupes à fusionner\n",
    "        new,k1,k2,dist_min = fusionneComplet(chaine,courant)\n",
    "        if(len(M_Fusion)==0):\n",
    "            M_Fusion = [k1,k2,dist_min,2]\n",
    "        else:\n",
    "            M_Fusion = np.vstack( [M_Fusion,[k1,k2,dist_min,2] ])\n",
    "        courant = new\n",
    "    \n",
    "    print('\\nLa matrice M_Fusion obtenue :\\n',M_Fusion)\n",
    "    # Paramètre de la fenêtre d'affichage: \n",
    "    plt.figure(figsize=(30, 15)) # taille : largeur x hauteur\n",
    "    plt.title('Dendrogramme', fontsize=25)    \n",
    "    plt.xlabel('Exemple', fontsize=25)\n",
    "    plt.ylabel('Distance', fontsize=25)\n",
    "\n",
    "    # Construction du dendrogramme à partir de la matrice M_Fusion:\n",
    "    scipy.cluster.hierarchy.dendrogram(\n",
    "        M_Fusion,\n",
    "        leaf_font_size=18.,  # taille des caractères de l'axe des X\n",
    "    )\n",
    "\n",
    "    # Affichage du résultat obtenu:\n",
    "    plt.show()\n",
    "    "
   ]
  },
  {
   "cell_type": "code",
   "execution_count": 49,
   "metadata": {},
   "outputs": [
    {
     "name": "stderr",
     "output_type": "stream",
     "text": [
      "C:\\ProgramData\\Anaconda3\\lib\\site-packages\\ipykernel_launcher.py:4: FutureWarning: Method .as_matrix will be removed in a future version. Use .values instead.\n",
      "  after removing the cwd from sys.path.\n"
     ]
    },
    {
     "name": "stdout",
     "output_type": "stream",
     "text": [
      "Fusion de   8   et   10   pour une distance de 0.0714285714285714\n",
      "Fusion de   7   et   9   pour une distance de 0.07142857142857151\n",
      "Fusion de   2   et   3   pour une distance de 0.14285714285714285\n",
      "Fusion de   6   et   11   pour une distance de 0.1428571428571429\n",
      "Fusion de   0   et   1   pour une distance de 0.17437936593905287\n",
      "Fusion de   15   et   17   pour une distance de 0.2457807219155036\n",
      "Fusion de   4   et   16   pour une distance de 0.24578072191550362\n",
      "Fusion de   12   et   14   pour une distance de 0.2931183504097598\n",
      "Fusion de   5   et   19   pour une distance de 0.40632750438079696\n",
      "Fusion de   13   et   22   pour une distance de 0.5862367008195198\n",
      "Fusion de   18   et   20   pour une distance de 0.6645544771207432\n",
      "Fusion de   21   et   24   pour une distance de 0.945882591842677\n",
      "Fusion de   23   et   25   pour une distance de 1.118033988749895\n",
      "\n",
      "La matrice M_Fusion obtenue :\n",
      " [[ 8.         10.          0.07142857  2.        ]\n",
      " [ 7.          9.          0.07142857  2.        ]\n",
      " [ 2.          3.          0.14285714  2.        ]\n",
      " [ 6.         11.          0.14285714  2.        ]\n",
      " [ 0.          1.          0.17437937  2.        ]\n",
      " [15.         17.          0.24578072  2.        ]\n",
      " [ 4.         16.          0.24578072  2.        ]\n",
      " [12.         14.          0.29311835  2.        ]\n",
      " [ 5.         19.          0.4063275   2.        ]\n",
      " [13.         22.          0.5862367   2.        ]\n",
      " [18.         20.          0.66455448  2.        ]\n",
      " [21.         24.          0.94588259  2.        ]\n",
      " [23.         25.          1.11803399  2.        ]]\n"
     ]
    },
    {
     "data": {
      "image/png": "[encoded data removed]",
      "text/plain": [
       "<Figure size 2160x1080 with 1 Axes>"
      ]
     },
     "metadata": {
      "needs_background": "light"
     },
     "output_type": "display_data"
    }
   ],
   "source": [
    "clustering_hierarchique_Complet(\"data/base-2D.csv\",\"euclidienne\")"
   ]
  },
  {
   "cell_type": "markdown",
   "metadata": {},
   "source": [
    "Les fusion entre les groupes se font entre des distances plus grandes"
   ]
  },
  {
   "cell_type": "markdown",
   "metadata": {},
   "source": [
    "## Phase 2 : application à des données réelles"
   ]
  },
  {
   "cell_type": "markdown",
   "metadata": {},
   "source": [
    "### Données: traitement des déchets de la ville de Paris"
   ]
  },
  {
   "cell_type": "markdown",
   "metadata": {},
   "source": [
    "Récupérer les données concernant le traitement des déchets de la ville de Paris :\n",
    "http://opendata.paris.fr/explore/dataset/tonnages_des_dechets_bacs_jaunes/table/\n",
    "\n",
    "**Attention**: il faut certainement préparer cette base afin de pouvoir appliquer l'algorithme de clustering: en particulier, certaines colonnes (Granularité, Total...) ne sont pas à utilisables dans le calcul des distances, il faut donc les éliminer. Il faut aussi prévoir de conserver le nom de l'arrondissement afin de pouvoir à la fin analyser le résultat du clustering.\n",
    "\n",
    "Sauvegarder ces données, prêtes à être traitées par l'algorithme de clustering, au format CSV dans le répertoire <pre>data/</pre> sous le nom <pre>base-Paris.csv</pre>\n",
    "\n",
    "<font size=\"+1\" color=\"RED\">**[Q]**</font> Etudier cette base et les clusters qui peuvent être mis en évidence.\n"
   ]
  },
  {
   "cell_type": "code",
   "execution_count": 200,
   "metadata": {},
   "outputs": [],
   "source": [
    "#pour remplacer les virgules des chiffres par des points , et ca me change mon separateur , le ; devient ,\n",
    "\n",
    "import csv\n",
    " \n",
    "fichier = open('data/e.csv','r+')\n",
    "fichiercsv = csv.reader(fichier, delimiter=';')\n",
    "out = open(\"data/base-Paris.csv\", \"w+\")\n",
    "outw = csv.writer(out)\n",
    "listecsv = []\n",
    "for ligne in fichiercsv:\n",
    "    for i in range(0,len(ligne)):\n",
    "        ligne[i] = ligne[i].replace(\",\",\".\")\n",
    "    listecsv.append(ligne)\n",
    "outw.writerows(listecsv)   #La sauvegarde se fait apres modification. :mrgreen: \n",
    "out.close()   \n",
    "fichier.close()"
   ]
  },
  {
   "cell_type": "code",
   "execution_count": 201,
   "metadata": {},
   "outputs": [],
   "source": [
    "data_Paris = pd.read_csv(\"data/base-Paris.csv\")"
   ]
  },
  {
   "cell_type": "code",
   "execution_count": 202,
   "metadata": {},
   "outputs": [
    {
     "data": {
      "text/html": [
       "<div>\n",
       "<style scoped>\n",
       "    .dataframe tbody tr th:only-of-type {\n",
       "        vertical-align: middle;\n",
       "    }\n",
       "\n",
       "    .dataframe tbody tr th {\n",
       "        vertical-align: top;\n",
       "    }\n",
       "\n",
       "    .dataframe thead th {\n",
       "        text-align: right;\n",
       "    }\n",
       "</style>\n",
       "<table border=\"1\" class=\"dataframe\">\n",
       "  <thead>\n",
       "    <tr style=\"text-align: right;\">\n",
       "      <th></th>\n",
       "      <th>Granularite</th>\n",
       "      <th>janv-11</th>\n",
       "      <th>fevr-11</th>\n",
       "      <th>mars-11</th>\n",
       "      <th>avr-11</th>\n",
       "      <th>mai-11</th>\n",
       "      <th>juin-11</th>\n",
       "      <th>juil-11</th>\n",
       "      <th>août-11</th>\n",
       "      <th>sept-11</th>\n",
       "      <th>oct-11</th>\n",
       "      <th>nov-11</th>\n",
       "      <th>déc-11</th>\n",
       "      <th>Total arrondissement 2011</th>\n",
       "    </tr>\n",
       "  </thead>\n",
       "  <tbody>\n",
       "    <tr>\n",
       "      <th>0</th>\n",
       "      <td>75007</td>\n",
       "      <td>288.1</td>\n",
       "      <td>249.1</td>\n",
       "      <td>303.7</td>\n",
       "      <td>255.8</td>\n",
       "      <td>287.8</td>\n",
       "      <td>288.4</td>\n",
       "      <td>249.6</td>\n",
       "      <td>185.6</td>\n",
       "      <td>281.3</td>\n",
       "      <td>284.3</td>\n",
       "      <td>296.4</td>\n",
       "      <td>301.1</td>\n",
       "      <td>NaN</td>\n",
       "    </tr>\n",
       "    <tr>\n",
       "      <th>1</th>\n",
       "      <td>75013</td>\n",
       "      <td>596.5</td>\n",
       "      <td>540.2</td>\n",
       "      <td>618.5</td>\n",
       "      <td>558.6</td>\n",
       "      <td>595.9</td>\n",
       "      <td>581.7</td>\n",
       "      <td>539.2</td>\n",
       "      <td>490.5</td>\n",
       "      <td>597.8</td>\n",
       "      <td>575.7</td>\n",
       "      <td>580.5</td>\n",
       "      <td>601.4</td>\n",
       "      <td>NaN</td>\n",
       "    </tr>\n",
       "    <tr>\n",
       "      <th>2</th>\n",
       "      <td>75014</td>\n",
       "      <td>464.0</td>\n",
       "      <td>404.9</td>\n",
       "      <td>465.3</td>\n",
       "      <td>420.2</td>\n",
       "      <td>405.3</td>\n",
       "      <td>446.0</td>\n",
       "      <td>412.9</td>\n",
       "      <td>348.7</td>\n",
       "      <td>449.3</td>\n",
       "      <td>446.3</td>\n",
       "      <td>453.1</td>\n",
       "      <td>484.3</td>\n",
       "      <td>NaN</td>\n",
       "    </tr>\n",
       "    <tr>\n",
       "      <th>3</th>\n",
       "      <td>75015</td>\n",
       "      <td>903.1</td>\n",
       "      <td>801.4</td>\n",
       "      <td>937.5</td>\n",
       "      <td>835.5</td>\n",
       "      <td>876.8</td>\n",
       "      <td>888.6</td>\n",
       "      <td>628.8</td>\n",
       "      <td>674.8</td>\n",
       "      <td>913.3</td>\n",
       "      <td>878.7</td>\n",
       "      <td>895.7</td>\n",
       "      <td>935.8</td>\n",
       "      <td>NaN</td>\n",
       "    </tr>\n",
       "    <tr>\n",
       "      <th>4</th>\n",
       "      <td>75017</td>\n",
       "      <td>451.1</td>\n",
       "      <td>412.4</td>\n",
       "      <td>491.6</td>\n",
       "      <td>422.7</td>\n",
       "      <td>363.6</td>\n",
       "      <td>446.4</td>\n",
       "      <td>409.5</td>\n",
       "      <td>332.3</td>\n",
       "      <td>416.4</td>\n",
       "      <td>451.5</td>\n",
       "      <td>475.1</td>\n",
       "      <td>513.5</td>\n",
       "      <td>NaN</td>\n",
       "    </tr>\n",
       "  </tbody>\n",
       "</table>\n",
       "</div>"
      ],
      "text/plain": [
       "  Granularite  janv-11  fevr-11  mars-11  avr-11  mai-11  juin-11  juil-11  \\\n",
       "0       75007    288.1    249.1    303.7   255.8   287.8    288.4    249.6   \n",
       "1       75013    596.5    540.2    618.5   558.6   595.9    581.7    539.2   \n",
       "2       75014    464.0    404.9    465.3   420.2   405.3    446.0    412.9   \n",
       "3       75015    903.1    801.4    937.5   835.5   876.8    888.6    628.8   \n",
       "4       75017    451.1    412.4    491.6   422.7   363.6    446.4    409.5   \n",
       "\n",
       "   août-11  sept-11  oct-11  nov-11  déc-11  Total arrondissement 2011  \n",
       "0    185.6    281.3   284.3   296.4   301.1                        NaN  \n",
       "1    490.5    597.8   575.7   580.5   601.4                        NaN  \n",
       "2    348.7    449.3   446.3   453.1   484.3                        NaN  \n",
       "3    674.8    913.3   878.7   895.7   935.8                        NaN  \n",
       "4    332.3    416.4   451.5   475.1   513.5                        NaN  "
      ]
     },
     "execution_count": 202,
     "metadata": {},
     "output_type": "execute_result"
    }
   ],
   "source": [
    "data_Paris.head(5)"
   ]
  },
  {
   "cell_type": "code",
   "execution_count": 203,
   "metadata": {},
   "outputs": [],
   "source": [
    "#a ne reproduire qu'une seul fois\n",
    "\n",
    "data_Paris.__delitem__('Granularite') \n",
    "data_Paris.__delitem__('Total arrondissement 2011') \n"
   ]
  },
  {
   "cell_type": "code",
   "execution_count": 204,
   "metadata": {},
   "outputs": [
    {
     "data": {
      "text/html": [
       "<div>\n",
       "<style scoped>\n",
       "    .dataframe tbody tr th:only-of-type {\n",
       "        vertical-align: middle;\n",
       "    }\n",
       "\n",
       "    .dataframe tbody tr th {\n",
       "        vertical-align: top;\n",
       "    }\n",
       "\n",
       "    .dataframe thead th {\n",
       "        text-align: right;\n",
       "    }\n",
       "</style>\n",
       "<table border=\"1\" class=\"dataframe\">\n",
       "  <thead>\n",
       "    <tr style=\"text-align: right;\">\n",
       "      <th></th>\n",
       "      <th>janv-11</th>\n",
       "      <th>fevr-11</th>\n",
       "      <th>mars-11</th>\n",
       "      <th>avr-11</th>\n",
       "      <th>mai-11</th>\n",
       "      <th>juin-11</th>\n",
       "      <th>juil-11</th>\n",
       "      <th>août-11</th>\n",
       "      <th>sept-11</th>\n",
       "      <th>oct-11</th>\n",
       "      <th>nov-11</th>\n",
       "      <th>déc-11</th>\n",
       "    </tr>\n",
       "  </thead>\n",
       "  <tbody>\n",
       "    <tr>\n",
       "      <th>0</th>\n",
       "      <td>288.1</td>\n",
       "      <td>249.1</td>\n",
       "      <td>303.7</td>\n",
       "      <td>255.8</td>\n",
       "      <td>287.8</td>\n",
       "      <td>288.4</td>\n",
       "      <td>249.6</td>\n",
       "      <td>185.6</td>\n",
       "      <td>281.3</td>\n",
       "      <td>284.3</td>\n",
       "      <td>296.4</td>\n",
       "      <td>301.1</td>\n",
       "    </tr>\n",
       "    <tr>\n",
       "      <th>1</th>\n",
       "      <td>596.5</td>\n",
       "      <td>540.2</td>\n",
       "      <td>618.5</td>\n",
       "      <td>558.6</td>\n",
       "      <td>595.9</td>\n",
       "      <td>581.7</td>\n",
       "      <td>539.2</td>\n",
       "      <td>490.5</td>\n",
       "      <td>597.8</td>\n",
       "      <td>575.7</td>\n",
       "      <td>580.5</td>\n",
       "      <td>601.4</td>\n",
       "    </tr>\n",
       "    <tr>\n",
       "      <th>2</th>\n",
       "      <td>464.0</td>\n",
       "      <td>404.9</td>\n",
       "      <td>465.3</td>\n",
       "      <td>420.2</td>\n",
       "      <td>405.3</td>\n",
       "      <td>446.0</td>\n",
       "      <td>412.9</td>\n",
       "      <td>348.7</td>\n",
       "      <td>449.3</td>\n",
       "      <td>446.3</td>\n",
       "      <td>453.1</td>\n",
       "      <td>484.3</td>\n",
       "    </tr>\n",
       "    <tr>\n",
       "      <th>3</th>\n",
       "      <td>903.1</td>\n",
       "      <td>801.4</td>\n",
       "      <td>937.5</td>\n",
       "      <td>835.5</td>\n",
       "      <td>876.8</td>\n",
       "      <td>888.6</td>\n",
       "      <td>628.8</td>\n",
       "      <td>674.8</td>\n",
       "      <td>913.3</td>\n",
       "      <td>878.7</td>\n",
       "      <td>895.7</td>\n",
       "      <td>935.8</td>\n",
       "    </tr>\n",
       "    <tr>\n",
       "      <th>4</th>\n",
       "      <td>451.1</td>\n",
       "      <td>412.4</td>\n",
       "      <td>491.6</td>\n",
       "      <td>422.7</td>\n",
       "      <td>363.6</td>\n",
       "      <td>446.4</td>\n",
       "      <td>409.5</td>\n",
       "      <td>332.3</td>\n",
       "      <td>416.4</td>\n",
       "      <td>451.5</td>\n",
       "      <td>475.1</td>\n",
       "      <td>513.5</td>\n",
       "    </tr>\n",
       "  </tbody>\n",
       "</table>\n",
       "</div>"
      ],
      "text/plain": [
       "   janv-11  fevr-11  mars-11  avr-11  mai-11  juin-11  juil-11  août-11  \\\n",
       "0    288.1    249.1    303.7   255.8   287.8    288.4    249.6    185.6   \n",
       "1    596.5    540.2    618.5   558.6   595.9    581.7    539.2    490.5   \n",
       "2    464.0    404.9    465.3   420.2   405.3    446.0    412.9    348.7   \n",
       "3    903.1    801.4    937.5   835.5   876.8    888.6    628.8    674.8   \n",
       "4    451.1    412.4    491.6   422.7   363.6    446.4    409.5    332.3   \n",
       "\n",
       "   sept-11  oct-11  nov-11  déc-11  \n",
       "0    281.3   284.3   296.4   301.1  \n",
       "1    597.8   575.7   580.5   601.4  \n",
       "2    449.3   446.3   453.1   484.3  \n",
       "3    913.3   878.7   895.7   935.8  \n",
       "4    416.4   451.5   475.1   513.5  "
      ]
     },
     "execution_count": 204,
     "metadata": {},
     "output_type": "execute_result"
    }
   ],
   "source": [
    "data_Paris.head(5)"
   ]
  },
  {
   "cell_type": "code",
   "execution_count": 205,
   "metadata": {},
   "outputs": [
    {
     "name": "stdout",
     "output_type": "stream",
     "text": [
      "<class 'pandas.core.frame.DataFrame'>\n",
      "RangeIndex: 21 entries, 0 to 20\n",
      "Data columns (total 12 columns):\n",
      "janv-11    21 non-null float64\n",
      "fevr-11    21 non-null float64\n",
      "mars-11    21 non-null float64\n",
      "avr-11     21 non-null float64\n",
      "mai-11     21 non-null float64\n",
      "juin-11    21 non-null float64\n",
      "juil-11    21 non-null float64\n",
      "août-11    21 non-null float64\n",
      "sept-11    21 non-null float64\n",
      "oct-11     21 non-null float64\n",
      "nov-11     21 non-null float64\n",
      "déc-11     21 non-null float64\n",
      "dtypes: float64(12)\n",
      "memory usage: 2.0 KB\n"
     ]
    }
   ],
   "source": [
    "data_Paris.info()"
   ]
  },
  {
   "cell_type": "code",
   "execution_count": 206,
   "metadata": {},
   "outputs": [
    {
     "data": {
      "text/plain": [
       "janv-11    False\n",
       "fevr-11    False\n",
       "mars-11    False\n",
       "avr-11     False\n",
       "mai-11     False\n",
       "juin-11    False\n",
       "juil-11    False\n",
       "août-11    False\n",
       "sept-11    False\n",
       "oct-11     False\n",
       "nov-11     False\n",
       "déc-11     False\n",
       "dtype: bool"
      ]
     },
     "execution_count": 206,
     "metadata": {},
     "output_type": "execute_result"
    }
   ],
   "source": [
    "data_Paris.dtypes.eq(object)"
   ]
  },
  {
   "cell_type": "code",
   "execution_count": null,
   "metadata": {},
   "outputs": [],
   "source": []
  },
  {
   "cell_type": "code",
   "execution_count": 207,
   "metadata": {},
   "outputs": [
    {
     "name": "stdout",
     "output_type": "stream",
     "text": [
      "<class 'pandas.core.frame.DataFrame'>\n",
      "RangeIndex: 21 entries, 0 to 20\n",
      "Data columns (total 12 columns):\n",
      "janv-11    21 non-null float64\n",
      "fevr-11    21 non-null float64\n",
      "mars-11    21 non-null float64\n",
      "avr-11     21 non-null float64\n",
      "mai-11     21 non-null float64\n",
      "juin-11    21 non-null float64\n",
      "juil-11    21 non-null float64\n",
      "août-11    21 non-null float64\n",
      "sept-11    21 non-null float64\n",
      "oct-11     21 non-null float64\n",
      "nov-11     21 non-null float64\n",
      "déc-11     21 non-null float64\n",
      "dtypes: float64(12)\n",
      "memory usage: 2.0 KB\n"
     ]
    }
   ],
   "source": [
    "#il fallait changer les types en Flaot\n",
    "\n",
    "cols = data_Paris.columns[data_Paris.dtypes.eq(object)]\n",
    "\n",
    "data_Paris[cols] = data_Paris[cols].apply(pd.to_numeric, errors='coerce')\n",
    "data_Paris.info()"
   ]
  },
  {
   "cell_type": "markdown",
   "metadata": {},
   "source": [
    "**[Q]** Préparer un rapport d'analyse (c'est-à-dire, compléter votre notebook en rajoutant à la suite tout un ensemble d'expérimentations et de résultats obtenus sur la base) réalisé sur cette base qui mette en évidence les clusters existants à différents niveaux de distance, et en utilisant différentes distances.\n"
   ]
  },
  {
   "cell_type": "code",
   "execution_count": 213,
   "metadata": {},
   "outputs": [],
   "source": [
    "#Faire attention dans le fichier csv initiale il y a des espaces sur les grand chifffre , et du coup ça donnenes valeur NAN, penser a enlever ces espaces\n",
    "\n",
    "#normalisation(data_Paris)\n",
    "\n"
   ]
  },
  {
   "cell_type": "code",
   "execution_count": 214,
   "metadata": {},
   "outputs": [],
   "source": [
    "#ma base d'apprentissage va etre directement mon dataframe que jaurai un peu arrangé"
   ]
  },
  {
   "cell_type": "code",
   "execution_count": 215,
   "metadata": {},
   "outputs": [],
   "source": [
    "def clustering_hierarchique(B,chaine):\n",
    "    #la diff ici cest que B est directement un datafram et pas un fichier comme en haut\n",
    "    M_data2D=normalisation(B)\n",
    "   \n",
    "    courant = initialise(M_data2D)       # clustering courant, au départ:s données data_2D normalisées\n",
    "    M_Fusion = []                        # initialisation\n",
    "    while len(courant) >=2:              # tant qu'il y a 2 groupes à fusionner\n",
    "        new,k1,k2,dist_min = fusionne(chaine,courant)\n",
    "        if(len(M_Fusion)==0):\n",
    "            M_Fusion = [k1,k2,dist_min,2]\n",
    "        else:\n",
    "            M_Fusion = np.vstack( [M_Fusion,[k1,k2,dist_min,2] ])\n",
    "        courant = new\n",
    "    \n",
    "    print('\\nLa matrice M_Fusion obtenue :\\n',M_Fusion)\n",
    "    # Paramètre de la fenêtre d'affichage: \n",
    "    plt.figure(figsize=(30, 15)) # taille : largeur x hauteur\n",
    "    plt.title('Dendrogramme', fontsize=25)    \n",
    "    plt.xlabel('Exemple', fontsize=25)\n",
    "    plt.ylabel('Distance', fontsize=25)\n",
    "\n",
    "    # Construction du dendrogramme à partir de la matrice M_Fusion:\n",
    "    scipy.cluster.hierarchy.dendrogram(\n",
    "        M_Fusion,\n",
    "        leaf_font_size=18.,  # taille des caractères de l'axe des X\n",
    "    )\n",
    "\n",
    "    # Affichage du résultat obtenu:\n",
    "    plt.show()"
   ]
  },
  {
   "cell_type": "code",
   "execution_count": 217,
   "metadata": {},
   "outputs": [
    {
     "name": "stderr",
     "output_type": "stream",
     "text": [
      "C:\\ProgramData\\Anaconda3\\lib\\site-packages\\ipykernel_launcher.py:4: FutureWarning: Method .as_matrix will be removed in a future version. Use .values instead.\n",
      "  after removing the cwd from sys.path.\n"
     ]
    },
    {
     "name": "stdout",
     "output_type": "stream",
     "text": [
      "Fusion de   0   et   17   pour une distance de 0.006893662525242475\n",
      "Fusion de   7   et   8   pour une distance de 0.008003004042686746\n",
      "Fusion de   16   et   19   pour une distance de 0.010368796637369745\n",
      "Fusion de   2   et   4   pour une distance de 0.010687341105052482\n",
      "Fusion de   20   et   23   pour une distance de 0.011099098533460135\n",
      "Fusion de   15   et   25   pour une distance de 0.014115272111066677\n",
      "Fusion de   5   et   24   pour une distance de 0.014832018445079075\n",
      "Fusion de   18   et   27   pour une distance de 0.01759959534049886\n",
      "Fusion de   9   et   26   pour une distance de 0.018840772268808086\n",
      "Fusion de   10   et   28   pour une distance de 0.019979776170479444\n",
      "Fusion de   6   et   12   pour une distance de 0.02782031038635054\n",
      "Fusion de   14   et   22   pour une distance de 0.029949339454461245\n",
      "Fusion de   1   et   11   pour une distance de 0.0316851068029653\n",
      "Fusion de   21   et   29   pour une distance de 0.033209104961795216\n",
      "Fusion de   30   et   31   pour une distance de 0.04944556058048119\n",
      "Fusion de   32   et   34   pour une distance de 0.0596816577730366\n",
      "Fusion de   33   et   35   pour une distance de 0.08951694262339599\n",
      "Fusion de   36   et   37   pour une distance de 0.1369288713480746\n",
      "Fusion de   3   et   38   pour une distance de 0.2719706442985253\n",
      "Fusion de   13   et   39   pour une distance de 3.324142841897724\n",
      "\n",
      "La matrice M_Fusion obtenue :\n",
      " [[0.00000000e+00 1.70000000e+01 6.89366253e-03 2.00000000e+00]\n",
      " [7.00000000e+00 8.00000000e+00 8.00300404e-03 2.00000000e+00]\n",
      " [1.60000000e+01 1.90000000e+01 1.03687966e-02 2.00000000e+00]\n",
      " [2.00000000e+00 4.00000000e+00 1.06873411e-02 2.00000000e+00]\n",
      " [2.00000000e+01 2.30000000e+01 1.10990985e-02 2.00000000e+00]\n",
      " [1.50000000e+01 2.50000000e+01 1.41152721e-02 2.00000000e+00]\n",
      " [5.00000000e+00 2.40000000e+01 1.48320184e-02 2.00000000e+00]\n",
      " [1.80000000e+01 2.70000000e+01 1.75995953e-02 2.00000000e+00]\n",
      " [9.00000000e+00 2.60000000e+01 1.88407723e-02 2.00000000e+00]\n",
      " [1.00000000e+01 2.80000000e+01 1.99797762e-02 2.00000000e+00]\n",
      " [6.00000000e+00 1.20000000e+01 2.78203104e-02 2.00000000e+00]\n",
      " [1.40000000e+01 2.20000000e+01 2.99493395e-02 2.00000000e+00]\n",
      " [1.00000000e+00 1.10000000e+01 3.16851068e-02 2.00000000e+00]\n",
      " [2.10000000e+01 2.90000000e+01 3.32091050e-02 2.00000000e+00]\n",
      " [3.00000000e+01 3.10000000e+01 4.94455606e-02 2.00000000e+00]\n",
      " [3.20000000e+01 3.40000000e+01 5.96816578e-02 2.00000000e+00]\n",
      " [3.30000000e+01 3.50000000e+01 8.95169426e-02 2.00000000e+00]\n",
      " [3.60000000e+01 3.70000000e+01 1.36928871e-01 2.00000000e+00]\n",
      " [3.00000000e+00 3.80000000e+01 2.71970644e-01 2.00000000e+00]\n",
      " [1.30000000e+01 3.90000000e+01 3.32414284e+00 2.00000000e+00]]\n"
     ]
    },
    {
     "data": {
      "image/png": "[encoded data removed]",
      "text/plain": [
       "<Figure size 2160x1080 with 1 Axes>"
      ]
     },
     "metadata": {
      "needs_background": "light"
     },
     "output_type": "display_data"
    }
   ],
   "source": [
    "clustering_hierarchique(data_Paris,\"euclidienne\")"
   ]
  },
  {
   "cell_type": "code",
   "execution_count": 218,
   "metadata": {},
   "outputs": [],
   "source": [
    "def clustering_hierarchique_Complet(B,chaine):\n",
    "    #la diff ici cest que B est directement un datafram et pas un fichier comme en haut\n",
    "    M_data2D=normalisation(B)\n",
    "   \n",
    "    courant = initialise(M_data2D)       # clustering courant, au départ:s données data_2D normalisées\n",
    "    M_Fusion = []                        # initialisation\n",
    "    while len(courant) >=2:              # tant qu'il y a 2 groupes à fusionner\n",
    "        new,k1,k2,dist_min = fusionneComplet(chaine,courant)\n",
    "        if(len(M_Fusion)==0):\n",
    "            M_Fusion = [k1,k2,dist_min,2]\n",
    "        else:\n",
    "            M_Fusion = np.vstack( [M_Fusion,[k1,k2,dist_min,2] ])\n",
    "        courant = new\n",
    "    \n",
    "    print('\\nLa matrice M_Fusion obtenue :\\n',M_Fusion)\n",
    "    # Paramètre de la fenêtre d'affichage: \n",
    "    plt.figure(figsize=(30, 15)) # taille : largeur x hauteur\n",
    "    plt.title('Dendrogramme', fontsize=25)    \n",
    "    plt.xlabel('Exemple', fontsize=25)\n",
    "    plt.ylabel('Distance', fontsize=25)\n",
    "\n",
    "    # Construction du dendrogramme à partir de la matrice M_Fusion:\n",
    "    scipy.cluster.hierarchy.dendrogram(\n",
    "        M_Fusion,\n",
    "        leaf_font_size=18.,  # taille des caractères de l'axe des X\n",
    "    )\n",
    "\n",
    "    # Affichage du résultat obtenu:\n",
    "    plt.show()"
   ]
  },
  {
   "cell_type": "code",
   "execution_count": 219,
   "metadata": {},
   "outputs": [
    {
     "name": "stderr",
     "output_type": "stream",
     "text": [
      "C:\\ProgramData\\Anaconda3\\lib\\site-packages\\ipykernel_launcher.py:4: FutureWarning: Method .as_matrix will be removed in a future version. Use .values instead.\n",
      "  after removing the cwd from sys.path.\n"
     ]
    },
    {
     "name": "stdout",
     "output_type": "stream",
     "text": [
      "Fusion de   0   et   17   pour une distance de 0.006893662525242475\n",
      "Fusion de   7   et   8   pour une distance de 0.008003004042686746\n",
      "Fusion de   16   et   19   pour une distance de 0.010368796637369745\n",
      "Fusion de   2   et   4   pour une distance de 0.010687341105052482\n",
      "Fusion de   15   et   20   pour une distance de 0.01143470863592969\n",
      "Fusion de   5   et   18   pour une distance de 0.016062397751345648\n",
      "Fusion de   9   et   25   pour une distance de 0.018595101379437377\n",
      "Fusion de   10   et   26   pour une distance de 0.02285946235277469\n",
      "Fusion de   24   et   28   pour une distance de 0.02470436511528874\n",
      "Fusion de   23   et   27   pour une distance de 0.025359788509298962\n",
      "Fusion de   6   et   12   pour une distance de 0.02782031038635054\n",
      "Fusion de   1   et   11   pour une distance de 0.0316851068029653\n",
      "Fusion de   14   et   22   pour une distance de 0.03324844312766536\n",
      "Fusion de   21   et   30   pour une distance de 0.04372888792130511\n",
      "Fusion de   29   et   31   pour une distance de 0.07356712411052431\n",
      "Fusion de   33   et   34   pour une distance de 0.10408759699682697\n",
      "Fusion de   3   et   32   pour une distance de 0.14155268381452027\n",
      "Fusion de   35   et   36   pour une distance de 0.20617952895024788\n",
      "Fusion de   37   et   38   pour une distance de 0.39782376562522087\n",
      "Fusion de   13   et   39   pour une distance de 3.4641016151377544\n",
      "\n",
      "La matrice M_Fusion obtenue :\n",
      " [[0.00000000e+00 1.70000000e+01 6.89366253e-03 2.00000000e+00]\n",
      " [7.00000000e+00 8.00000000e+00 8.00300404e-03 2.00000000e+00]\n",
      " [1.60000000e+01 1.90000000e+01 1.03687966e-02 2.00000000e+00]\n",
      " [2.00000000e+00 4.00000000e+00 1.06873411e-02 2.00000000e+00]\n",
      " [1.50000000e+01 2.00000000e+01 1.14347086e-02 2.00000000e+00]\n",
      " [5.00000000e+00 1.80000000e+01 1.60623978e-02 2.00000000e+00]\n",
      " [9.00000000e+00 2.50000000e+01 1.85951014e-02 2.00000000e+00]\n",
      " [1.00000000e+01 2.60000000e+01 2.28594624e-02 2.00000000e+00]\n",
      " [2.40000000e+01 2.80000000e+01 2.47043651e-02 2.00000000e+00]\n",
      " [2.30000000e+01 2.70000000e+01 2.53597885e-02 2.00000000e+00]\n",
      " [6.00000000e+00 1.20000000e+01 2.78203104e-02 2.00000000e+00]\n",
      " [1.00000000e+00 1.10000000e+01 3.16851068e-02 2.00000000e+00]\n",
      " [1.40000000e+01 2.20000000e+01 3.32484431e-02 2.00000000e+00]\n",
      " [2.10000000e+01 3.00000000e+01 4.37288879e-02 2.00000000e+00]\n",
      " [2.90000000e+01 3.10000000e+01 7.35671241e-02 2.00000000e+00]\n",
      " [3.30000000e+01 3.40000000e+01 1.04087597e-01 2.00000000e+00]\n",
      " [3.00000000e+00 3.20000000e+01 1.41552684e-01 2.00000000e+00]\n",
      " [3.50000000e+01 3.60000000e+01 2.06179529e-01 2.00000000e+00]\n",
      " [3.70000000e+01 3.80000000e+01 3.97823766e-01 2.00000000e+00]\n",
      " [1.30000000e+01 3.90000000e+01 3.46410162e+00 2.00000000e+00]]\n"
     ]
    },
    {
     "data": {
      "image/png": "[encoded data removed]",
      "text/plain": [
       "<Figure size 2160x1080 with 1 Axes>"
      ]
     },
     "metadata": {
      "needs_background": "light"
     },
     "output_type": "display_data"
    }
   ],
   "source": [
    "clustering_hierarchique_Complet(data_Paris,\"euclidienne\")"
   ]
  },
  {
   "cell_type": "code",
   "execution_count": 221,
   "metadata": {},
   "outputs": [
    {
     "name": "stderr",
     "output_type": "stream",
     "text": [
      "C:\\ProgramData\\Anaconda3\\lib\\site-packages\\ipykernel_launcher.py:4: FutureWarning: Method .as_matrix will be removed in a future version. Use .values instead.\n",
      "  after removing the cwd from sys.path.\n"
     ]
    },
    {
     "name": "stdout",
     "output_type": "stream",
     "text": [
      "Fusion de   0   et   17   pour une distance de 0.017850262958727978\n",
      "Fusion de   7   et   8   pour une distance de 0.022899325617181505\n",
      "Fusion de   2   et   4   pour une distance de 0.029258854915304083\n",
      "Fusion de   16   et   20   pour une distance de 0.030798454929620182\n",
      "Fusion de   19   et   24   pour une distance de 0.03997193048029791\n",
      "Fusion de   9   et   15   pour une distance de 0.040709885143239595\n",
      "Fusion de   5   et   18   pour une distance de 0.04713142677577453\n",
      "Fusion de   23   et   27   pour une distance de 0.06058391615199386\n",
      "Fusion de   10   et   28   pour une distance de 0.07526066596468792\n",
      "Fusion de   25   et   26   pour une distance de 0.0807404132662116\n",
      "Fusion de   6   et   12   pour une distance de 0.08997474151853327\n",
      "Fusion de   1   et   11   pour une distance de 0.10052440417568534\n",
      "Fusion de   14   et   22   pour une distance de 0.11422342245261731\n",
      "Fusion de   21   et   30   pour une distance de 0.1480395498266481\n",
      "Fusion de   29   et   31   pour une distance de 0.2507757438616506\n",
      "Fusion de   33   et   34   pour une distance de 0.3596365955314167\n",
      "Fusion de   3   et   32   pour une distance de 0.4805034469052072\n",
      "Fusion de   35   et   36   pour une distance de 0.7129836295836737\n",
      "Fusion de   37   et   38   pour une distance de 1.3755139605402282\n",
      "Fusion de   13   et   39   pour une distance de 12.0\n",
      "\n",
      "La matrice M_Fusion obtenue :\n",
      " [[0.00000000e+00 1.70000000e+01 1.78502630e-02 2.00000000e+00]\n",
      " [7.00000000e+00 8.00000000e+00 2.28993256e-02 2.00000000e+00]\n",
      " [2.00000000e+00 4.00000000e+00 2.92588549e-02 2.00000000e+00]\n",
      " [1.60000000e+01 2.00000000e+01 3.07984549e-02 2.00000000e+00]\n",
      " [1.90000000e+01 2.40000000e+01 3.99719305e-02 2.00000000e+00]\n",
      " [9.00000000e+00 1.50000000e+01 4.07098851e-02 2.00000000e+00]\n",
      " [5.00000000e+00 1.80000000e+01 4.71314268e-02 2.00000000e+00]\n",
      " [2.30000000e+01 2.70000000e+01 6.05839162e-02 2.00000000e+00]\n",
      " [1.00000000e+01 2.80000000e+01 7.52606660e-02 2.00000000e+00]\n",
      " [2.50000000e+01 2.60000000e+01 8.07404133e-02 2.00000000e+00]\n",
      " [6.00000000e+00 1.20000000e+01 8.99747415e-02 2.00000000e+00]\n",
      " [1.00000000e+00 1.10000000e+01 1.00524404e-01 2.00000000e+00]\n",
      " [1.40000000e+01 2.20000000e+01 1.14223422e-01 2.00000000e+00]\n",
      " [2.10000000e+01 3.00000000e+01 1.48039550e-01 2.00000000e+00]\n",
      " [2.90000000e+01 3.10000000e+01 2.50775744e-01 2.00000000e+00]\n",
      " [3.30000000e+01 3.40000000e+01 3.59636596e-01 2.00000000e+00]\n",
      " [3.00000000e+00 3.20000000e+01 4.80503447e-01 2.00000000e+00]\n",
      " [3.50000000e+01 3.60000000e+01 7.12983630e-01 2.00000000e+00]\n",
      " [3.70000000e+01 3.80000000e+01 1.37551396e+00 2.00000000e+00]\n",
      " [1.30000000e+01 3.90000000e+01 1.20000000e+01 2.00000000e+00]]\n"
     ]
    },
    {
     "data": {
      "image/png": "[encoded data removed]",
      "text/plain": [
       "<Figure size 2160x1080 with 1 Axes>"
      ]
     },
     "metadata": {
      "needs_background": "light"
     },
     "output_type": "display_data"
    }
   ],
   "source": [
    "clustering_hierarchique_Complet(data_Paris,\"manhattan\")"
   ]
  },
  {
   "cell_type": "code",
   "execution_count": 222,
   "metadata": {},
   "outputs": [
    {
     "name": "stderr",
     "output_type": "stream",
     "text": [
      "C:\\ProgramData\\Anaconda3\\lib\\site-packages\\ipykernel_launcher.py:4: FutureWarning: Method .as_matrix will be removed in a future version. Use .values instead.\n",
      "  after removing the cwd from sys.path.\n"
     ]
    },
    {
     "name": "stdout",
     "output_type": "stream",
     "text": [
      "Fusion de   0   et   17   pour une distance de 0.017850262958727978\n",
      "Fusion de   7   et   8   pour une distance de 0.022899325617181505\n",
      "Fusion de   2   et   4   pour une distance de 0.029258854915304083\n",
      "Fusion de   16   et   20   pour une distance de 0.030798454929620182\n",
      "Fusion de   19   et   24   pour une distance de 0.03135913151285184\n",
      "Fusion de   5   et   23   pour une distance de 0.03864525328557437\n",
      "Fusion de   9   et   15   pour une distance de 0.040709885143239595\n",
      "Fusion de   18   et   26   pour une distance de 0.0490444209706585\n",
      "Fusion de   25   et   27   pour une distance de 0.05416065121747077\n",
      "Fusion de   10   et   28   pour une distance de 0.06353721487698982\n",
      "Fusion de   6   et   12   pour une distance de 0.08997474151853327\n",
      "Fusion de   1   et   11   pour une distance de 0.10052440417568534\n",
      "Fusion de   14   et   22   pour une distance de 0.10329981276190292\n",
      "Fusion de   21   et   29   pour une distance de 0.1120160613317545\n",
      "Fusion de   30   et   31   pour une distance de 0.16997978927383314\n",
      "Fusion de   33   et   34   pour une distance de 0.2064010953668718\n",
      "Fusion de   32   et   35   pour une distance de 0.30907201633489173\n",
      "Fusion de   36   et   37   pour une distance de 0.47417512551505847\n",
      "Fusion de   3   et   38   pour une distance de 0.937557381961332\n",
      "Fusion de   13   et   39   pour une distance de 11.515165552323037\n",
      "\n",
      "La matrice M_Fusion obtenue :\n",
      " [[0.00000000e+00 1.70000000e+01 1.78502630e-02 2.00000000e+00]\n",
      " [7.00000000e+00 8.00000000e+00 2.28993256e-02 2.00000000e+00]\n",
      " [2.00000000e+00 4.00000000e+00 2.92588549e-02 2.00000000e+00]\n",
      " [1.60000000e+01 2.00000000e+01 3.07984549e-02 2.00000000e+00]\n",
      " [1.90000000e+01 2.40000000e+01 3.13591315e-02 2.00000000e+00]\n",
      " [5.00000000e+00 2.30000000e+01 3.86452533e-02 2.00000000e+00]\n",
      " [9.00000000e+00 1.50000000e+01 4.07098851e-02 2.00000000e+00]\n",
      " [1.80000000e+01 2.60000000e+01 4.90444210e-02 2.00000000e+00]\n",
      " [2.50000000e+01 2.70000000e+01 5.41606512e-02 2.00000000e+00]\n",
      " [1.00000000e+01 2.80000000e+01 6.35372149e-02 2.00000000e+00]\n",
      " [6.00000000e+00 1.20000000e+01 8.99747415e-02 2.00000000e+00]\n",
      " [1.00000000e+00 1.10000000e+01 1.00524404e-01 2.00000000e+00]\n",
      " [1.40000000e+01 2.20000000e+01 1.03299813e-01 2.00000000e+00]\n",
      " [2.10000000e+01 2.90000000e+01 1.12016061e-01 2.00000000e+00]\n",
      " [3.00000000e+01 3.10000000e+01 1.69979789e-01 2.00000000e+00]\n",
      " [3.30000000e+01 3.40000000e+01 2.06401095e-01 2.00000000e+00]\n",
      " [3.20000000e+01 3.50000000e+01 3.09072016e-01 2.00000000e+00]\n",
      " [3.60000000e+01 3.70000000e+01 4.74175126e-01 2.00000000e+00]\n",
      " [3.00000000e+00 3.80000000e+01 9.37557382e-01 2.00000000e+00]\n",
      " [1.30000000e+01 3.90000000e+01 1.15151656e+01 2.00000000e+00]]\n"
     ]
    },
    {
     "data": {
      "image/png": "[encoded data removed]",
      "text/plain": [
       "<Figure size 2160x1080 with 1 Axes>"
      ]
     },
     "metadata": {
      "needs_background": "light"
     },
     "output_type": "display_data"
    }
   ],
   "source": [
    "clustering_hierarchique(data_Paris,\"manhattan\")"
   ]
  },
  {
   "cell_type": "markdown",
   "metadata": {},
   "source": [
    "## Questions de cours (à faire chez vous, sur papier)\n",
    "\n",
    "Pour vous entraîner sans machine...\n",
    "\n",
    "<font color=\"RED\" size=\"+1\">**[Q]**</font> Montrer que la distance de Manhattan est bien une mesure de distance.\n",
    "\n",
    "<font color=\"RED\" size=\"+1\">**[Q]**</font> Dans le cours, 4 approches possibles ont été données afin de calculer la distance entre 2 groupes :\n",
    "- l'approche du chaînage minimum est appelée \"simple linkage\"\n",
    "- l'approche du chaînage maximum, est appelée \"complete linkage\"\n",
    "- l'approche du chaînage moyenne est appelée \"average linkage\"\n",
    "- l'approche du par centre de gravité est appelée \"centroid linkage\"\n",
    "\n",
    "On considère une mesure de distance $d$. Soit $A =\\{a_1,a_2,...,a_{|A|}\\}$ et $B =\\{b_1,b_2,...,b_{|B|}\\}$ deux groupes d'exemples. Donner l'expression de la distance entre $A$ et $B$ pour chacune des approches.\n",
    "\n",
    "\n",
    "<font color=\"RED\" size=\"+1\">**[Q]**</font> En utilisant la distance euclidienne et l'approche \"centroid linkage\", appliquer, \"à la main\", l'algorithme de clustering hiérarchique, méthode par agglomération, sur les données fournies sur le transparent 10 du cours 2 (coin haut gauche). Dans cette page, les données correspondent à 9 points dans un espace 2D: $X_1 \\times X_2$. Le point 1 est le point de coordonnées $(-0.5, -1.0)$, etc. \n",
    "Construire le dendrogramme correspondant.\n",
    "\n",
    "rem : dans la page du cours, les 3 premiers clusters construits sont donnés.\n",
    "\n",
    "\n",
    "<font color=\"RED\" size=\"+1\">**[Q]**</font> *(examen 2018)*\n",
    "On considère la base d'apprentissage de $[0,10]\\times [0,10]$ contenant les 7 exemples suivants: $\\mathcal{X}=\\{(1,2)$, $(1,4)$, $(3,4)$, $(3,5)$, $(6,2)$, $(6,5)$, $(8,3)\\}$ (remarque: cette base est déjà normalisée).\n",
    "En détaillant les étapes et en expliquant les calculs réalisés et les regroupements effectués, appliquer sur $\\mathcal{X}$ l'algorithme de classification hiérarchique, version ascendante, en utilisant l'approche ``centroid linkage'' et la distance euclidienne.  Donner le dendrogramme obtenu.\n",
    "<font color=\"RED\" size=\"+1\">**[Q]**</font> Si on rajoute l'exemple $(5,5)$ dans $\\mathcal{X}$ de la question précédente, sans ré-appliquer l'algorithme donner, en les justifiant, les modifications apportées au dendrogramme précédent par l'ajout de cet exemple."
   ]
  },
  {
   "cell_type": "code",
   "execution_count": null,
   "metadata": {},
   "outputs": [],
   "source": []
  },
  {
   "cell_type": "code",
   "execution_count": null,
   "metadata": {},
   "outputs": [],
   "source": []
  }
 ],
 "metadata": {
  "kernelspec": {
   "display_name": "Python 3",
   "language": "python",
   "name": "python3"
  },
  "language_info": {
   "codemirror_mode": {
    "name": "ipython",
    "version": 3
   },
   "file_extension": ".py",
   "mimetype": "text/x-python",
   "name": "python",
   "nbconvert_exporter": "python",
   "pygments_lexer": "ipython3",
   "version": "3.7.1"
  }
 },
 "nbformat": 4,
 "nbformat_minor": 1
}
