{
 "cells": [
  {
   "cell_type": "markdown",
   "metadata": {},
   "source": [
    "IA & Data science (3i026) -- 2018-2019\n",
    "--------\n",
    "*&copy; Equipe pédagogique: Manon Ansart, Vincent Guigue, Marie-Jeanne Lesot, Christophe Marsala, Olivier Schwander.*"
   ]
  },
  {
   "cell_type": "code",
   "execution_count": 1,
   "metadata": {},
   "outputs": [
    {
     "ename": "NameError",
     "evalue": "name 'scikit' is not defined",
     "output_type": "error",
     "traceback": [
      "\u001b[0;31m---------------------------------------------------------------------------\u001b[0m",
      "\u001b[0;31mNameError\u001b[0m                                 Traceback (most recent call last)",
      "\u001b[0;32m<ipython-input-1-1ad1d3e67088>\u001b[0m in \u001b[0;36m<module>\u001b[0;34m\u001b[0m\n\u001b[0;32m----> 1\u001b[0;31m \u001b[0mhelp\u001b[0m\u001b[0;34m(\u001b[0m\u001b[0mscikit\u001b[0m\u001b[0;34m.\u001b[0m\u001b[0mlearn\u001b[0m\u001b[0;34m)\u001b[0m\u001b[0;34m\u001b[0m\u001b[0;34m\u001b[0m\u001b[0m\n\u001b[0m",
      "\u001b[0;31mNameError\u001b[0m: name 'scikit' is not defined"
     ]
    }
   ],
   "source": [
    "help(scikit.learn)"
   ]
  },
  {
   "cell_type": "markdown",
   "metadata": {},
   "source": [
    "# TD-TME05: les arbres de décision\n",
    "\n",
    "L'objectif de ce TP est d'implémenter un algorithme d'apprentissage supervisé, l'algorithme de construction d'arbres de décision vu en cours.\n",
    "\n",
    "Dans un premier temps, nous allons nous restreindre à un cas binaire où les classes sont étiquetées $+1$ ou $-1$. De plus, nous allons ne considérer que le cas où les attributs sont tous numériques et on ne construit que des arbres avec des noeuds binaires (ie. qui ne contiennent que 2 branches sortantes)."
   ]
  },
  {
   "cell_type": "markdown",
   "metadata": {},
   "source": [
    "<font size=\"+1\" color=\"RED\">**[Q]**</font> **Indiquer dans la boîte ci-dessous vos noms et prénoms :**"
   ]
  },
  {
   "cell_type": "markdown",
   "metadata": {},
   "source": [
    "*Double-cliquer ici et insérer les noms et prénoms de votre binôme*\n",
    "#Sahli Oussama\n",
    "#Brami Nathan\n"
   ]
  },
  {
   "cell_type": "markdown",
   "metadata": {},
   "source": [
    "<font color=\"RED\" size=\"+1\">**[Q]**</font> **Renommer ce fichier ipython**\n",
    "\n",
    "Tout en haut de cette page, cliquer sur <tt>tme-05</tt> et rajouter à la suite de <tt>tme-05</tt> les noms des membres du binômes séparés par un tiret."
   ]
  },
  {
   "cell_type": "markdown",
   "metadata": {},
   "source": [
    "<font color=\"RED\" size=\"+1\">IMPORTANT: soumission de votre fichier final</font>\n",
    "\n",
    "**Nom à donner au fichier à poster** : *tme-05-Nom1_Nom2.ipynb* \n",
    "- *Nom1* et *Nom2* : noms des membres du binôme\n",
    "- ne pas compresser ou faire une archive: il faut rendre le notebook tel quel, éventuellement, si vous avez d'autres fichiers vous les rendez séparément.\n",
    "\n",
    "**Echancier pour la soumission de votre compte-rendu:**\n",
    "- le compte-rendu d'une séance doit être remis obligatoirement <font color=\"RED\">** à la fin de la séance**</font>. C'est ce compte-rendu qui donne la note de base de la séance.\n",
    "- vous pouvez éventuellement compléter votre compte-rendu  pour obtenir des points bonus, dans ce cas, vous devez soumettre votre complément avant le début de la semaine suivante.\n",
    "\n",
    "** Sur la page Moodle de remise du travail <font color=\"RED\">ne pas oublier d'envoyer le compte rendu</font>** à la fin de la séance, la soumission de la version complémentaire post-séance se fera sur une page différente."
   ]
  },
  {
   "cell_type": "markdown",
   "metadata": {},
   "source": [
    "## Mise à jour de votre librairie IADS\n",
    "\n",
    "Comme lors des séances précédentes, vous devez utiliser les fonctions de la librairie IADS.\n",
    "\n",
    "<font color=\"RED\" size=\"+1\">**[Q]**</font> **Ouvrir et compléter les fichiers Classifiers.py et utils.py**\n",
    "\n",
    "Rajouter dans la librairie les fonctions et classes et que vous avez écrites lors de la séance précédente. \n",
    "\n",
    "**Rappel**: dans un premier temps, vous devez écrire les classes et fonctions demandées dans le notebook de la séance de TDTME en cours. Lors de la séance suivante, vous rajouterez tout cela, une fois que vous l'aurez bien testé, dans vos fichiers de la librairie IADS.\n",
    "\n"
   ]
  },
  {
   "cell_type": "code",
   "execution_count": 133,
   "metadata": {},
   "outputs": [],
   "source": [
    "import numpy as np\n",
    "import pandas as pd\n",
    "import matplotlib.pyplot as plt\n",
    "%matplotlib inline  \n",
    "\n",
    "# La ligne suivante permet de préciser le chemin d'accès à la librairie iads\n",
    "import sys\n",
    "sys.path.append('../')\n",
    "\n",
    "# Importation de la librairie iads\n",
    "import iads as iads\n",
    "\n",
    "# importation de LabeledSet\n",
    "from iads import LabeledSet as ls\n",
    "\n",
    "# importation de Classifiers\n",
    "from iads import Classifiers as cl\n",
    "\n",
    "# importation de utils\n",
    "from iads import utils as ut"
   ]
  },
  {
   "cell_type": "markdown",
   "metadata": {},
   "source": [
    "### Génération de données Jouet\n",
    "\n",
    "<font color=\"RED\" size=\"+1\">**[Q]**</font>  Dans un premier temps, pour mettre au point les fonctions, générer une base jouet assez petite (par exemple, 10 exemples de chaque classe)."
   ]
  },
  {
   "cell_type": "code",
   "execution_count": 134,
   "metadata": {},
   "outputs": [],
   "source": [
    "def genereDonne(nb_point,dim):\n",
    "    ens_set=ls.LabeledSet(dim)\n",
    "    for i in range (0,nb_point):\n",
    "        v = np.random.rand(dim)    \n",
    "        w= (2* v - 1) / np.linalg.norm(v)\n",
    "        v2 = np.random.rand(dim)    \n",
    "        w2= (2* v2 - 1) / np.linalg.norm(v)\n",
    "        \n",
    "        ens_set.addExample(w,1) \n",
    "        ens_set.addExample(w2,-1) \n",
    "    return ens_set\n",
    "    "
   ]
  },
  {
   "cell_type": "code",
   "execution_count": 135,
   "metadata": {},
   "outputs": [
    {
     "data": {
      "text/plain": [
       "array([[-0.73100421,  0.44750648],\n",
       "       [ 0.08627417,  0.87047664],\n",
       "       [-0.80884067, -0.00464595],\n",
       "       [ 0.40302492,  0.53409288],\n",
       "       [ 0.68369123,  0.63019791],\n",
       "       [ 0.51935457, -0.25123464],\n",
       "       [ 0.44030742, -0.81856248],\n",
       "       [-3.74461303, -2.65602643],\n",
       "       [-1.21304496,  0.62111606],\n",
       "       [-1.80219665, -1.2780272 ]])"
      ]
     },
     "execution_count": 135,
     "metadata": {},
     "output_type": "execute_result"
    }
   ],
   "source": [
    "the_set = genereDonne(10,2)# définition d'un LabeledSet avec la fonction précédente\n",
    "\n",
    "S= the_set.x[np.where(the_set.y == 1),:]\n",
    "S[0]"
   ]
  },
  {
   "cell_type": "code",
   "execution_count": 136,
   "metadata": {},
   "outputs": [
    {
     "data": {
      "image/png": "[encoded data removed]",
      "text/plain": [
       "<Figure size 432x288 with 1 Axes>"
      ]
     },
     "metadata": {
      "needs_background": "light"
     },
     "output_type": "display_data"
    }
   ],
   "source": [
    "# Affichage du dataset généré\n",
    "ut.plot2DSet(the_set)"
   ]
  },
  {
   "cell_type": "markdown",
   "metadata": {},
   "source": [
    "<font color=\"RED\" size=\"+1\">**[Q]**</font> Ecrire la fonction <code>classe_majoritaire()</code> qui, étant donné un LabeledSet rend la classe majoritaire dans l'ensemble (celle qui est possédée par le plus grand nombre d'exemples donc...). En cas d'égalité, cette fonction rend la classe +1."
   ]
  },
  {
   "cell_type": "code",
   "execution_count": 137,
   "metadata": {},
   "outputs": [],
   "source": [
    "def classe_majoritaire(labeledset):\n",
    "    score1=0\n",
    "    score2=0\n",
    "    for i in range(0,labeledset.size()):\n",
    "        if(labeledset.getY(i)==1):\n",
    "            score1+=1\n",
    "        else:\n",
    "            score2+=1\n",
    "            \n",
    "    if(score1>score2):\n",
    "        return 1\n",
    "    elif(score2>score1):\n",
    "        return -1\n",
    "    \n",
    "    return 1\n",
    "    \n",
    "\n",
    "\n",
    "\n",
    "\n"
   ]
  },
  {
   "cell_type": "code",
   "execution_count": 138,
   "metadata": {},
   "outputs": [
    {
     "data": {
      "text/plain": [
       "1"
      ]
     },
     "execution_count": 138,
     "metadata": {},
     "output_type": "execute_result"
    }
   ],
   "source": [
    "classe_majoritaire(the_set)"
   ]
  },
  {
   "cell_type": "markdown",
   "metadata": {},
   "source": [
    "## Arbres de décision\n",
    "\n",
    "Dans cette étape, on réalise l'implémentation de l'algorithme de construction d'un arbre de décision."
   ]
  },
  {
   "cell_type": "markdown",
   "metadata": {},
   "source": [
    "### Entropie et gain d'information\n",
    "\n",
    "On note $\\{c_1, c_2,..., c_k\\}$, l'ensemble des classes possibles.\n",
    "\n",
    "Dans le cours, la mesure de désordre présentée utilise, pour toute valeur $c$ de la classe le ratio $\\frac{|Y(c)|}{|Y|}$ qui correspond à la probabilité de la classe $c$ parmi $Y$.\n",
    "On note dans ce qui suit $p_1$ la probabilité de la classe $c_1$ parmi $Y$, etc. \n",
    "\n",
    "Ainsi, on a $P=(p_1, p_2,..., p_k)$ la distribution de probabilités sur les classes ainsi définies.\n",
    "\n",
    "L'**entropie de Shannon** de la distribution $P$ est donnée par:\n",
    "\n",
    "$ H_S(P) = -\\sum_{i=1}^{k} p_i \\log_k(p_i)$\n",
    "\n",
    "Le logarithme utilisé est le logarithme en base $k$ afin d'obtenir une valeur normalisée de l'entropie. \n",
    "\n",
    "*Remarque:* avec les notations vues en cours, on a $D(Y) = H_S(P)$.\n",
    "\n",
    "Pour ce qui suit, une *distribution de probabilités* est représentée par une **liste** Python $P=[p_1,...,p_k]$ de valeurs réelles telle que\n",
    "* pour tout $i=1,..., k$ : $0 \\leq p_i \\leq 1$\n",
    "* $\\sum_{i=1}^{k}p_i = 1$\n"
   ]
  },
  {
   "cell_type": "markdown",
   "metadata": {},
   "source": [
    "<font color=\"RED\" size=\"+1\">**[Q]**</font> Ecrire la fonction <code>shannon()</code> qui, étant donné une distribution de probabilités $P$, rend la valeur de $H_S(P)$, l'entropie de Shannon de $P$."
   ]
  },
  {
   "cell_type": "code",
   "execution_count": 139,
   "metadata": {},
   "outputs": [],
   "source": [
    "import math\n",
    "\n",
    "def shannon(P):     #attention log(0) ne marche pas\n",
    "    k=len(P)\n",
    "    s=0\n",
    "    for i in range(0,k):\n",
    "        if((P[i]!=0) and (k!=0)):\n",
    "            if((math.log(P[i])!=0) and (math.log(k)!=0)):\n",
    "                s=s+(P[i]*(math.log(P[i])/math.log(k)))\n",
    "        \n",
    "    return -s    "
   ]
  },
  {
   "cell_type": "code",
   "execution_count": 140,
   "metadata": {},
   "outputs": [
    {
     "name": "stdout",
     "output_type": "stream",
     "text": [
      "P=[1,0] :  0\n",
      "P=[0.25, 0.25, 0.25, 0.25] :  1.0\n",
      "P=[0.7, 0.1, 0.2, 0.0] :  0.5783898247235197\n",
      "P=[1.0/3, 2.0/3] :  0.9182958340544896\n"
     ]
    }
   ],
   "source": [
    "# Exemples d'utilisation:\n",
    "print(\"P=[1,0] : \", shannon([1, 0]))\n",
    "print(\"P=[0.25, 0.25, 0.25, 0.25] : \", shannon([0.25, 0.25, 0.25, 0.25]))\n",
    "print(\"P=[0.7, 0.1, 0.2, 0.0] : \", shannon([0.7, 0.1, 0.2, 0.0]))\n",
    "print(\"P=[1.0/3, 2.0/3] : \", shannon([1.0/3, 2.0/3]))"
   ]
  },
  {
   "cell_type": "markdown",
   "metadata": {},
   "source": [
    "<font color=\"RED\" size=\"+1\">**[Q]**</font> Tracer, à l'aide de la fonction plot, la courbe donnant la valeur de <code>shannon([p, 1-p])</code> en fonction de <code>p</code>."
   ]
  },
  {
   "cell_type": "code",
   "execution_count": 141,
   "metadata": {},
   "outputs": [],
   "source": [
    "import matplotlib.pyplot as plt"
   ]
  },
  {
   "cell_type": "code",
   "execution_count": 142,
   "metadata": {},
   "outputs": [
    {
     "name": "stdout",
     "output_type": "stream",
     "text": [
      "[0, 0.4689955935892812, 0.7219280948873623, 0.8812908992306927, 0.9709505944546686, 1.0, 0.9709505944546686, 0.8812908992306927, 0.7219280948873625, 0.46899559358928156, 6.0443533557040756e-15]\n"
     ]
    },
    {
     "data": {
      "text/plain": [
       "[<matplotlib.lines.Line2D at 0x1aa26c160b8>]"
      ]
     },
     "execution_count": 142,
     "metadata": {},
     "output_type": "execute_result"
    },
    {
     "data": {
      "image/png": "[encoded data removed]",
      "text/plain": [
       "<Figure size 432x288 with 1 Axes>"
      ]
     },
     "metadata": {
      "needs_background": "light"
     },
     "output_type": "display_data"
    }
   ],
   "source": [
    "tab=[]\n",
    "ind=[]\n",
    "p=0\n",
    "while(p<=1):\n",
    "    s=shannon([p,1-p])\n",
    "    tab.append(s)\n",
    "    ind.append(p)\n",
    "    p=p+0.1\n",
    "    \n",
    "print(tab)\n",
    "plt.plot(ind,tab)\n"
   ]
  },
  {
   "cell_type": "markdown",
   "metadata": {},
   "source": [
    "<font color=\"RED\" size=\"+1\">**[Q]**</font> A l'aide de la fonction <code>shannon()</code>, écrire la fonction <code>entropie()</code> qui prend un LabeledSet en argument et renvoie l'entropie de la distribution des classes dans cet ensemble."
   ]
  },
  {
   "cell_type": "code",
   "execution_count": 143,
   "metadata": {},
   "outputs": [],
   "source": [
    "def entropie(labeledset):    #the set -->[0.5,0.5] \n",
    "    s1=0 #nb element de la classe1\n",
    "    s2=0 #nb element de la classe-1\n",
    "    total=labeledset.size()\n",
    "    for i in range(0,labeledset.size()):\n",
    "        if(labeledset.getY(i)==1):\n",
    "            s1+=1\n",
    "        else:\n",
    "            s2+=1\n",
    "    p1=0\n",
    "    p2=0\n",
    "    \n",
    "    if((s1!=0) and (total!=0)):\n",
    "        p1=s1/total\n",
    "    if((s2!=0) and (total!=0)):\n",
    "        p2=s2/total\n",
    "\n",
    "    tab=[p1,p2]\n",
    "    return shannon(tab)\n",
    "    \n",
    "        "
   ]
  },
  {
   "cell_type": "code",
   "execution_count": 144,
   "metadata": {},
   "outputs": [
    {
     "data": {
      "text/plain": [
       "1.0"
      ]
     },
     "execution_count": 144,
     "metadata": {},
     "output_type": "execute_result"
    }
   ],
   "source": [
    "entropie(the_set)"
   ]
  },
  {
   "cell_type": "markdown",
   "metadata": {},
   "source": [
    "Cette fonction <code>entropie</code> permet dont de calculer le désordre des classes dans le LabeledSet considéré."
   ]
  },
  {
   "cell_type": "markdown",
   "metadata": {},
   "source": [
    "### Discrétisation des attributs numériques"
   ]
  },
  {
   "cell_type": "markdown",
   "metadata": {
    "collapsed": true
   },
   "source": [
    "Comme on l'a vu en cours, discrétiser un attribut numérique consiste en trouver un seuil de coupure dans son ensemble de valeurs. \n",
    "\n",
    "Par exemple, soit l'attribut Age contenant les valeurs 17, 18, 20, 27, 35, 37, 40. On discrétise cet attribut en 2 valeurs en prenant, par exemple, le seuil 30: cela permet de séparer d'un côté les valeurs inférieures ou égales à 30, et de l'autre les valeurs strictement supérieures à 30.\n",
    "\n",
    "Le seuil est choisi afin d'optimiser la distribution des classes des exemples qui se trouvent de chaque côté du seuil. Une fois un seuil choisi, on calcule le désordre des classes associées aux exemples de chaque côté du seuil et on agrège les 2 valeurs de désordre obtenues pour déterminer la qualité de la coupure à l'aide de la mesure $Q$ vue en cours.\n",
    "\n",
    "\n",
    "Soit $X$ un ensemble d'exemples, et soit $A$ un attribut que l'on souhaite discrétiser. Pour cela, on constitue l'ensemble des valeurs prises par les exemples de $X$ pour l'attribut $A$. Soit $A_X$ cet ensemble de valeurs.\n",
    "\n",
    "La discrétisation de $A_X$ s'effectue par les étapes suivantes:\n",
    "- Etape 1: ordonner de façon croissante les valeurs de $A_X$;\n",
    "- Etape 2: regarder tous les seuils possibles de coupure entre 2 valeurs consécutives de $A_X$ (on prend comme seuil de coupure la valeur médiane entre ces 2 valeurs). Chaque seuil trouvé créé 2 intervalles qui générent 2 sous-ensembles de $X$: l'ensemble $X_1$ des exemples dont la valeur pour $A$ et inférieure ou égale au seuil, et l'ensemble $X_2$ des exemples dont la valeur pour $A$ et supérieure au seuil. On détermine la qualité du seuil par la mesure de qualité d'un test vue en cours. On note $Q(seuil)$ cette valeur.\n",
    "\n",
    "\n",
    "La meilleure coupure pour discrétiser $A_X$ est celle qui minimise la valeur $Q(seuil)$.\n",
    "\n",
    "\n",
    "Par exemple, soit $X=\\{17, 18, 20, 27, 35, 37, 40\\}$, chaque valeur étant associées aux classes +1, +1, -1, -1, +1, +1, -1 respectivement. Un seuil de coupure possible est $31$ ($31 = \\frac{27+35}{2}$). Ce seuil coupe $X$ en $X_1=\\{17, 18, 20, 27\\}$ et $X_2=\\{35, 37, 40\\}$.\n",
    "\n",
    "- pour $X_1$, la probabilité de chaque classe est: $p(+1)= 0.5$ et $p(-1)=0.5$ donc, $H_S(X_1)=1$;\n",
    "- pour $X_2$, la probabilité de chaque classe est: $p(+1)= \\frac{1}{3}$ et $p(-1)=\\frac{2}{3}$ donc, $H_S(X_2)=0.9182958340544896$;\n",
    "- on a donc: $$Q(seuil=31) = \\frac{4}{7} H_S(X_1) + \\frac{3}{7} H_S(X_2);$$\n",
    "soit $Q(seuil=31) = 0.9182958340544896$"
   ]
  },
  {
   "cell_type": "markdown",
   "metadata": {},
   "source": [
    "On considère que <code>the_set</code> est un LabeledSet construit précédement. Il contient deux variables de type array: $x$ et $y$.\n",
    "\n",
    "Regarder et tester les instructions suivantes, il faut bien comprendre comment elles fonctionnent car on va utiliser les mêmes principes dans les fonctions à écrire."
   ]
  },
  {
   "cell_type": "code",
   "execution_count": 145,
   "metadata": {},
   "outputs": [
    {
     "data": {
      "text/plain": [
       "array([0, 1, 2, 4, 3], dtype=int64)"
      ]
     },
     "execution_count": 145,
     "metadata": {},
     "output_type": "execute_result"
    }
   ],
   "source": [
    "#tab=[5,2,7,6,8,9]\n",
    "#print(np.argsort(tab,axis=0))\n",
    "\n",
    "tab=[0,2,5,8,6]\n",
    "tri=np.argsort(tab,axis=0)\n",
    "tri\n"
   ]
  },
  {
   "cell_type": "code",
   "execution_count": 146,
   "metadata": {},
   "outputs": [
    {
     "data": {
      "text/plain": [
       "array([[0, 0],\n",
       "       [1, 1]], dtype=int64)"
      ]
     },
     "execution_count": 146,
     "metadata": {},
     "output_type": "execute_result"
    }
   ],
   "source": [
    "tab2=np.array([1,5])\n",
    "tab3=np.array([2,6])\n",
    "tab4=np.array([tab2,tab3])\n",
    "tab5=tri=np.argsort(tab4,axis=0)\n",
    "tab5\n"
   ]
  },
  {
   "cell_type": "code",
   "execution_count": 147,
   "metadata": {},
   "outputs": [
    {
     "data": {
      "text/plain": [
       "array([[-0.73100421,  0.44750648],\n",
       "       [ 0.37656111, -0.92064482],\n",
       "       [ 0.08627417,  0.87047664],\n",
       "       [-0.86287645, -0.03253031],\n",
       "       [-0.80884067, -0.00464595],\n",
       "       [ 0.02267912,  0.57695462],\n",
       "       [ 0.40302492,  0.53409288],\n",
       "       [ 0.6459984 , -0.27140529],\n",
       "       [ 0.68369123,  0.63019791],\n",
       "       [-0.70224413,  0.60567829],\n",
       "       [ 0.51935457, -0.25123464],\n",
       "       [ 0.01567177,  1.08762598],\n",
       "       [ 0.44030742, -0.81856248],\n",
       "       [ 0.62141982, -0.2063792 ],\n",
       "       [-3.74461303, -2.65602643],\n",
       "       [-2.21612245, -4.04343485],\n",
       "       [-1.21304496,  0.62111606],\n",
       "       [ 1.36310083,  0.19301239],\n",
       "       [-1.80219665, -1.2780272 ],\n",
       "       [-2.03675273, -0.921797  ]])"
      ]
     },
     "execution_count": 147,
     "metadata": {},
     "output_type": "execute_result"
    }
   ],
   "source": [
    "the_set.x"
   ]
  },
  {
   "cell_type": "code",
   "execution_count": 148,
   "metadata": {},
   "outputs": [
    {
     "data": {
      "text/plain": [
       "array([[14, 15],\n",
       "       [15, 14],\n",
       "       [19, 18],\n",
       "       [18, 19],\n",
       "       [16,  1],\n",
       "       [ 3, 12],\n",
       "       [ 4,  7],\n",
       "       [ 0, 10],\n",
       "       [ 9, 13],\n",
       "       [11,  3],\n",
       "       [ 5,  4],\n",
       "       [ 2, 17],\n",
       "       [ 1,  0],\n",
       "       [ 6,  6],\n",
       "       [12,  5],\n",
       "       [10,  9],\n",
       "       [13, 16],\n",
       "       [ 7,  8],\n",
       "       [ 8,  2],\n",
       "       [17, 11]], dtype=int64)"
      ]
     },
     "execution_count": 148,
     "metadata": {},
     "output_type": "execute_result"
    }
   ],
   "source": [
    "ind= np.argsort(the_set.x,axis=0)   # Tri des valeurs de the_set.x selon les colonnes. \n",
    "                                    # La fonction rend un numpy.ndarray contenant autant de \n",
    "                                    # colonnes que the_set.x et dans chaque colonne, on a \n",
    "                           # la position de l'exemple dans l'ordonnancement croissant.\n",
    "ind # pour afficher"
   ]
  },
  {
   "cell_type": "code",
   "execution_count": 149,
   "metadata": {},
   "outputs": [
    {
     "data": {
      "text/plain": [
       "array([[-3.74461303, -2.65602643],\n",
       "       [-2.21612245, -4.04343485],\n",
       "       [-2.03675273, -0.921797  ],\n",
       "       [-1.80219665, -1.2780272 ],\n",
       "       [-1.21304496,  0.62111606],\n",
       "       [-0.86287645, -0.03253031],\n",
       "       [-0.80884067, -0.00464595],\n",
       "       [-0.73100421,  0.44750648],\n",
       "       [-0.70224413,  0.60567829],\n",
       "       [ 0.01567177,  1.08762598],\n",
       "       [ 0.02267912,  0.57695462],\n",
       "       [ 0.08627417,  0.87047664],\n",
       "       [ 0.37656111, -0.92064482],\n",
       "       [ 0.40302492,  0.53409288],\n",
       "       [ 0.44030742, -0.81856248],\n",
       "       [ 0.51935457, -0.25123464],\n",
       "       [ 0.62141982, -0.2063792 ],\n",
       "       [ 0.6459984 , -0.27140529],\n",
       "       [ 0.68369123,  0.63019791],\n",
       "       [ 1.36310083,  0.19301239]])"
      ]
     },
     "execution_count": 149,
     "metadata": {},
     "output_type": "execute_result"
    }
   ],
   "source": [
    "the_set.x[ind[0:len(the_set.x),0] ] # Rend le numpy.array des exemples de the_set.x ordonnés\n",
    "                                    # selon les indices donnés dans ind (colonne 0)\n"
   ]
  },
  {
   "cell_type": "code",
   "execution_count": 150,
   "metadata": {},
   "outputs": [
    {
     "data": {
      "text/plain": [
       "array([[ 1],\n",
       "       [-1],\n",
       "       [-1],\n",
       "       [ 1],\n",
       "       [ 1],\n",
       "       [-1],\n",
       "       [ 1],\n",
       "       [ 1],\n",
       "       [-1],\n",
       "       [-1],\n",
       "       [-1],\n",
       "       [ 1],\n",
       "       [-1],\n",
       "       [ 1],\n",
       "       [ 1],\n",
       "       [ 1],\n",
       "       [-1],\n",
       "       [-1],\n",
       "       [ 1],\n",
       "       [-1]])"
      ]
     },
     "execution_count": 150,
     "metadata": {},
     "output_type": "execute_result"
    }
   ],
   "source": [
    "the_set.y[ind[0:len(the_set.y),0]]  # Rend le numpy.array des exemples de the_set.y ordonnés\n",
    "                                    # selon les indices donnés dans ind (colonne 0)"
   ]
  },
  {
   "cell_type": "code",
   "execution_count": 151,
   "metadata": {},
   "outputs": [
    {
     "name": "stdout",
     "output_type": "stream",
     "text": [
      "valeur= -3.7446130267601836 classe=  1\n",
      "valeur= -2.216122454740551 classe=  -1\n",
      "valeur= -2.0367527341509577 classe=  -1\n",
      "valeur= -1.8021966505479265 classe=  1\n",
      "valeur= -1.213044960867996 classe=  1\n",
      "valeur= -0.8628764541228986 classe=  -1\n",
      "valeur= -0.8088406673099892 classe=  1\n",
      "valeur= -0.7310042056488631 classe=  1\n",
      "valeur= -0.7022441309346606 classe=  -1\n",
      "valeur= 0.01567176853430887 classe=  -1\n",
      "valeur= 0.02267912290248549 classe=  -1\n",
      "valeur= 0.08627416703865176 classe=  1\n",
      "valeur= 0.37656110839478285 classe=  -1\n",
      "valeur= 0.4030249204598176 classe=  1\n",
      "valeur= 0.4403074166758965 classe=  1\n",
      "valeur= 0.5193545708880546 classe=  1\n",
      "valeur= 0.6214198181416486 classe=  -1\n",
      "valeur= 0.645998396667071 classe=  -1\n",
      "valeur= 0.6836912324986167 classe=  1\n",
      "valeur= 1.3631008268765719 classe=  -1\n"
     ]
    }
   ],
   "source": [
    "colonne = 0    # numéro de la colonne de the_set.x à considérer\n",
    "for v_i in ind[0:len(the_set.x)]:\n",
    "    i = v_i[colonne]\n",
    "    exem = the_set.getX(i)\n",
    "    clas = the_set.getY(i)\n",
    "    print(\"valeur=\",exem[colonne], \"classe= \", clas[0])"
   ]
  },
  {
   "cell_type": "markdown",
   "metadata": {},
   "source": [
    "Etant donné un LabeledSet, ainsi qu'un numéro de colonne à considérer (qui correspond à un des attributs de description), la fonction <code>discrétise()</code> rend un tuple constitué de la valeur de coupure qui optimise la mesure de qualité, et de la valeur trouvée pour cette mesure."
   ]
  },
  {
   "cell_type": "code",
   "execution_count": 152,
   "metadata": {},
   "outputs": [],
   "source": [
    "def discretise(LSet, col):\n",
    "    \"\"\" LabelledSet * int -> tuple[float, float]\n",
    "        Hypothèse: LSet.size() >= 2\n",
    "        col est le numéro de colonne sur X à discrétiser\n",
    "        rend la valeur de coupure qui minimise l'entropie ainsi que son entropie.\n",
    "    \"\"\"\n",
    "    # initialisation:\n",
    "    min_entropie = 1.1  # on met à une valeur max car on veut minimiser\n",
    "    min_seuil = 0.0     \n",
    "    # trie des valeurs:\n",
    "    ind= np.argsort(LSet.x,axis=0)\n",
    "    \n",
    "    # calcul des distributions des classes pour E1 et E2:\n",
    "    inf_plus  = 0               # nombre de +1 dans E1\n",
    "    inf_moins = 0               # nombre de -1 dans E1\n",
    "    sup_plus  = 0               # nombre de +1 dans E2\n",
    "    sup_moins = 0               # nombre de -1 dans E2       \n",
    "    # remarque: au départ on considère que E1 est vide et donc E2 correspond à E. \n",
    "    # Ainsi inf_plus et inf_moins valent 0. Il reste à calculer sup_plus et sup_moins \n",
    "    # dans E.\n",
    "    for j in range(0,LSet.size()):\n",
    "        if (LSet.getY(j) == -1):\n",
    "            sup_moins += 1\n",
    "        else:\n",
    "            sup_plus += 1\n",
    "    nb_total = (sup_plus + sup_moins) # nombre d'exemples total dans E\n",
    "    \n",
    "    # parcours pour trouver le meilleur seuil:\n",
    "    for i in range(len(LSet.x)-1):\n",
    "        v_ind_i = ind[i]   # vecteur d'indices\n",
    "        courant = LSet.getX(v_ind_i[col])[col]\n",
    "        lookahead = LSet.getX(ind[i+1][col])[col]\n",
    "        val_seuil = (courant + lookahead) / 2.0;\n",
    "        # M-A-J de la distrib. des classes:\n",
    "        # pour réduire les traitements: on retire un exemple de E2 et on le place\n",
    "        # dans E1, c'est ainsi que l'on déplace donc le seuil de coupure.\n",
    "        if LSet.getY(ind[i][col])[0] == -1:\n",
    "            inf_moins += 1\n",
    "            sup_moins -= 1\n",
    "        else:\n",
    "            inf_plus += 1\n",
    "            sup_plus -= 1\n",
    "        # calcul de la distribution des classes de chaque côté du seuil:\n",
    "        nb_inf = (inf_moins + inf_plus)*1.0     # rem: on en fait un float pour éviter\n",
    "        nb_sup = (sup_moins + sup_plus)*1.0     # que ce soit une division entière.\n",
    "        # calcul de l'entropie de la coupure\n",
    "        val_entropie_inf = shannon([inf_moins / nb_inf, inf_plus  / nb_inf])\n",
    "        val_entropie_sup = shannon([sup_moins / nb_sup, sup_plus  / nb_sup])\n",
    "        val_entropie = (nb_inf / nb_total) * val_entropie_inf \\\n",
    "                       + (nb_sup / nb_total) * val_entropie_sup\n",
    "        # si cette coupure minimise l'entropie, on mémorise ce seuil et son entropie:\n",
    "        if (min_entropie > val_entropie):\n",
    "            min_entropie = val_entropie\n",
    "            min_seuil = val_seuil\n",
    "    return (min_seuil, min_entropie)"
   ]
  },
  {
   "cell_type": "code",
   "execution_count": 153,
   "metadata": {},
   "outputs": [
    {
     "data": {
      "text/plain": [
       "(-2.980367740750367, 0.9481008396786845)"
      ]
     },
     "execution_count": 153,
     "metadata": {},
     "output_type": "execute_result"
    }
   ],
   "source": [
    "discretise(the_set,0) # le résultat dépend, bien sûr, de la base jouet"
   ]
  },
  {
   "cell_type": "code",
   "execution_count": 154,
   "metadata": {},
   "outputs": [
    {
     "data": {
      "text/plain": [
       "(-3.349730640288824, 0.9481008396786845)"
      ]
     },
     "execution_count": 154,
     "metadata": {},
     "output_type": "execute_result"
    }
   ],
   "source": [
    "discretise(the_set,1) # le résultat dépend, bien sûr, de la base jouet"
   ]
  },
  {
   "cell_type": "markdown",
   "metadata": {},
   "source": [
    "Une dernière fonction utile permet de diviser une base d'exemples en 2 sous-bases en utilisant un seuil sur la valeur d'un attribut donné.\n",
    "\n",
    "<font color=\"RED\" size=\"+1\">**[Q]**</font> Ecrire la fonction divise() dont la spécification est:\n",
    "\n",
    "    def divise(LSet,att,seuil):\n",
    "        \"\"\" LSet: LabeledSet\n",
    "            att : numéro d'attribut\n",
    "            seuil : valeur de seuil\n",
    "            rend le tuple contenant les 2 sous-LabeledSet obtenus par la\n",
    "            division de LSet selon le seuil sur l'attribut att\n",
    "        \"\"\"\n",
    "\n"
   ]
  },
  {
   "cell_type": "code",
   "execution_count": 155,
   "metadata": {},
   "outputs": [],
   "source": [
    "def divise(LSet,att,seuil):\n",
    "    \"\"\" LSet: LabeledSet\n",
    "        att : numéro d'attribut\n",
    "        seuil : valeur de seuil\n",
    "        rend le tuple contenant les 2 sous-LabeledSet obtenus par la\n",
    "        division de LSet selon le seuil sur l'attribut att\n",
    "    \"\"\"\n",
    "    E1=ls.LabeledSet(LSet.input_dimension)\n",
    "    E2=ls.LabeledSet(LSet.input_dimension)\n",
    "    \n",
    "    for i in range(0,LSet.size()):\n",
    "        x=LSet.getX(i)\n",
    "        y=LSet.getY(i)\n",
    "        \n",
    "        if(x[att] <= seuil):\n",
    "            E1.addExample(x,y)\n",
    "        else:\n",
    "            E2.addExample(x,y)\n",
    "            \n",
    "    return (E1,E2)\n",
    "    \n",
    "    \n",
    "    "
   ]
  },
  {
   "cell_type": "code",
   "execution_count": 156,
   "metadata": {},
   "outputs": [
    {
     "name": "stdout",
     "output_type": "stream",
     "text": [
      "entropie inférieur: 0.9910760598382222  / entropie supérieur: 0.9940302114769565\n"
     ]
    }
   ],
   "source": [
    "Linf, Lsup = divise(the_set,0,-0.5)\n",
    "print(\"entropie inférieur:\",entropie(Linf),\" / entropie supérieur:\", entropie(Lsup))\n",
    "# remarque: les résultats dépendent de votre base jouet...\n",
    "#ut.affiche_base(Linf)\n",
    "#ut.affiche_base(Lsup)"
   ]
  },
  {
   "cell_type": "markdown",
   "metadata": {},
   "source": [
    "### Représentation d'un arbre en Python"
   ]
  },
  {
   "cell_type": "markdown",
   "metadata": {},
   "source": [
    "Un arbre de décision doit être représenté en Python, pour cela, on utilise la classe <code>ArbreBinaire</code> suivante:"
   ]
  },
  {
   "cell_type": "code",
   "execution_count": 157,
   "metadata": {},
   "outputs": [],
   "source": [
    "import graphviz as gv\n",
    "# Eventuellement, il peut être nécessaire d'installer graphviz sur votre compte:\n",
    "# pip install --user --install-option=\"--prefix=\" -U graphviz\n",
    "\n",
    "\n",
    "class ArbreBinaire:\n",
    "    def __init__(self):\n",
    "        self.attribut = None   # numéro de l'attribut\n",
    "        self.seuil = None\n",
    "        self.inferieur = None # ArbreBinaire Gauche (valeurs <= au seuil)\n",
    "        self.superieur = None # ArbreBinaire Gauche (valeurs > au seuil)\n",
    "        self.classe = None # Classe si c'est une feuille: -1 ou +1\n",
    "        \n",
    "    def est_feuille(self):\n",
    "        \"\"\" rend True si l'arbre est une feuille \"\"\"\n",
    "        return self.seuil == None\n",
    "    \n",
    "    def ajoute_fils(self,ABinf,ABsup,att,seuil):\n",
    "        \"\"\" ABinf, ABsup: 2 arbres binaires\n",
    "            att: numéro d'attribut\n",
    "            seuil: valeur de seuil\n",
    "        \"\"\"\n",
    "        self.attribut = att\n",
    "        self.seuil = seuil\n",
    "        self.inferieur = ABinf\n",
    "        self.superieur = ABsup\n",
    "    \n",
    "    def ajoute_feuille(self,classe):\n",
    "        \"\"\" classe: -1 ou + 1\n",
    "        \"\"\"\n",
    "        self.classe = classe\n",
    "        \n",
    "    def classifie(self,exemple):\n",
    "        \"\"\" exemple : numpy.array\n",
    "            rend la classe de l'exemple: +1 ou -1\n",
    "        \"\"\"\n",
    "        if self.est_feuille():\n",
    "            return self.classe\n",
    "        if exemple[self.attribut] <= self.seuil:\n",
    "            return self.inferieur.classifie(exemple)\n",
    "        return self.superieur.classifie(exemple)\n",
    "    \n",
    "    def to_graph(self, g, prefixe='A'):\n",
    "        \"\"\" construit une représentation de l'arbre pour pouvoir\n",
    "            l'afficher\n",
    "        \"\"\"\n",
    "        if self.est_feuille():\n",
    "            g.node(prefixe,str(self.classe),shape='box')\n",
    "        else:\n",
    "            g.node(prefixe, str(self.attribut))\n",
    "            self.inferieur.to_graph(g,prefixe+\"g\")\n",
    "            self.superieur.to_graph(g,prefixe+\"d\")\n",
    "            g.edge(prefixe,prefixe+\"g\", '<='+ str(self.seuil))\n",
    "            g.edge(prefixe,prefixe+\"d\", '>'+ str(self.seuil))\n",
    "        \n",
    "        return g"
   ]
  },
  {
   "cell_type": "code",
   "execution_count": 158,
   "metadata": {},
   "outputs": [
    {
     "data": {
      "image/svg+xml": [
       "<?xml version=\"1.0\" encoding=\"UTF-8\" standalone=\"no\"?>\r\n",
       "<!DOCTYPE svg PUBLIC \"-//W3C//DTD SVG 1.1//EN\"\r\n",
       " \"http://www.w3.org/Graphics/SVG/1.1/DTD/svg11.dtd\">\r\n",
       "<!-- Generated by graphviz version 2.38.0 (20140413.2041)\r\n",
       " -->\r\n",
       "<!-- Title: %3 Pages: 1 -->\r\n",
       "<svg width=\"134pt\" height=\"131pt\"\r\n",
       " viewBox=\"0.00 0.00 134.00 131.00\" xmlns=\"http://www.w3.org/2000/svg\" xmlns:xlink=\"http://www.w3.org/1999/xlink\">\r\n",
       "<g id=\"graph0\" class=\"graph\" transform=\"scale(1 1) rotate(0) translate(4 127)\">\r\n",
       "<title>%3</title>\r\n",
       "<polygon fill=\"white\" stroke=\"none\" points=\"-4,4 -4,-127 130,-127 130,4 -4,4\"/>\r\n",
       "<!-- A -->\r\n",
       "<g id=\"node1\" class=\"node\"><title>A</title>\r\n",
       "<ellipse fill=\"none\" stroke=\"black\" cx=\"63\" cy=\"-105\" rx=\"27\" ry=\"18\"/>\r\n",
       "<text text-anchor=\"middle\" x=\"63\" y=\"-101.3\" font-family=\"Times New Roman,serif\" font-size=\"14.00\">nom</text>\r\n",
       "</g>\r\n",
       "<!-- Ag -->\r\n",
       "<g id=\"node2\" class=\"node\"><title>Ag</title>\r\n",
       "<polygon fill=\"none\" stroke=\"black\" points=\"54,-36 0,-36 0,-0 54,-0 54,-36\"/>\r\n",
       "<text text-anchor=\"middle\" x=\"27\" y=\"-14.3\" font-family=\"Times New Roman,serif\" font-size=\"14.00\">1</text>\r\n",
       "</g>\r\n",
       "<!-- A&#45;&gt;Ag -->\r\n",
       "<g id=\"edge1\" class=\"edge\"><title>A&#45;&gt;Ag</title>\r\n",
       "<path fill=\"none\" stroke=\"black\" d=\"M49.171,-89.3516C44.2998,-83.4397 39.2368,-76.2955 36,-69 32.8522,-61.9053 30.8051,-53.78 29.4738,-46.171\"/>\r\n",
       "<polygon fill=\"black\" stroke=\"black\" points=\"32.9377,-45.6687 28.0661,-36.2603 26.0073,-46.6532 32.9377,-45.6687\"/>\r\n",
       "<text text-anchor=\"middle\" x=\"56.5\" y=\"-57.8\" font-family=\"Times New Roman,serif\" font-size=\"14.00\">&lt;=42.0</text>\r\n",
       "</g>\r\n",
       "<!-- Ad -->\r\n",
       "<g id=\"node3\" class=\"node\"><title>Ad</title>\r\n",
       "<polygon fill=\"none\" stroke=\"black\" points=\"126,-36 72,-36 72,-0 126,-0 126,-36\"/>\r\n",
       "<text text-anchor=\"middle\" x=\"99\" y=\"-14.3\" font-family=\"Times New Roman,serif\" font-size=\"14.00\">2</text>\r\n",
       "</g>\r\n",
       "<!-- A&#45;&gt;Ad -->\r\n",
       "<g id=\"edge2\" class=\"edge\"><title>A&#45;&gt;Ad</title>\r\n",
       "<path fill=\"none\" stroke=\"black\" d=\"M70.1124,-87.2067C75.1581,-75.2934 82.032,-59.0634 87.8086,-45.4242\"/>\r\n",
       "<polygon fill=\"black\" stroke=\"black\" points=\"91.102,-46.6225 91.7791,-36.0493 84.6563,-43.8925 91.102,-46.6225\"/>\r\n",
       "<text text-anchor=\"middle\" x=\"99.5\" y=\"-57.8\" font-family=\"Times New Roman,serif\" font-size=\"14.00\">&gt;42.0</text>\r\n",
       "</g>\r\n",
       "</g>\r\n",
       "</svg>\r\n"
      ],
      "text/plain": [
       "<graphviz.dot.Digraph at 0x1aa2677c470>"
      ]
     },
     "execution_count": 158,
     "metadata": {},
     "output_type": "execute_result"
    }
   ],
   "source": [
    "# Exemple d'utilisation: \n",
    "un_arbre= ArbreBinaire()\n",
    "un_arbre.ajoute_feuille(1)\n",
    "un_arbre.est_feuille()\n",
    "un_arbre1 = ArbreBinaire()\n",
    "un_arbre1.ajoute_feuille(2)\n",
    "un_arbre2 = ArbreBinaire()\n",
    "un_arbre2.ajoute_fils(un_arbre,un_arbre1,\"nom\",42.0)\n",
    "\n",
    "gtree = gv.Digraph(format='png')\n",
    "un_arbre2.to_graph(gtree)"
   ]
  },
  {
   "cell_type": "markdown",
   "metadata": {},
   "source": [
    "### Construction de l'arbre de décision"
   ]
  },
  {
   "cell_type": "markdown",
   "metadata": {},
   "source": [
    "Pour construire un arbre de décision, il faut réaliser les étapes suivantes:\n",
    "- si l'entropie de Shannon de la distribution des classes de l'ensemble courant est inférieure à epsilon (réel positif fixé et qui est un paramètre de l'algorithme), alors construire une feuille avec cet ensemble, la classe associée à cette feuille est la classe majoritaire;\n",
    "- sinon, pour chaque attribut, calculer le seuil de discrétisation et l'entropie de Shannon correspondante\n",
    "    - choisir l'attribut qui donne une valeur d'entropie minimale\n",
    "    - l'attribut choisi sert à constituer un noeud de l'arbre de décision, les arcs issus de ce noeud sont labeller par un test (inférieur ou égal ou supérieur) par rapport au seuil trouvé\n",
    "    \n",
    "    \n",
    "<font color=\"RED\" size=\"+1\">**[Q]**</font> Ecrire la fonction qui construit un arbre de décision (binaire) à partir d'une base d'exemples. En plus de la base d'exemples, on utilise un argument \"epsilon\" qui est un réel >0 et qui sert pour le critère d'arrêt.\n",
    "Cette fonction a la spécification suivante:\n",
    "\n",
    "    def construit_AD(LSet,epsilon):\n",
    "        \"\"\" LSet : LabeledSet\n",
    "            epsilon : seuil d'entropie pour le critère d'arrêt \n",
    "        \"\"\"\n"
   ]
  },
  {
   "cell_type": "code",
   "execution_count": 159,
   "metadata": {},
   "outputs": [],
   "source": [
    "def construit_AD(LSet,epsilon):\n",
    "    \"\"\" LSet : LabeledSet\n",
    "        epsilon : seuil d'entropie pour le critère d'arrêt \n",
    "    \"\"\"\n",
    "    un_arbre= ArbreBinaire()\n",
    "    \n",
    "    if(entropie(LSet)<epsilon):\n",
    "        #arbre=construit_AD(LSet,epsilon)\n",
    "        un_arbre.ajoute_feuille(classe_majoritaire(LSet))\n",
    "        return un_arbre\n",
    "    else:\n",
    "        min_entropie=10000000\n",
    "        for col in range(0,len(LSet.getX(0))):  #il y a autant d'attribut , que de coordonnées dans le vecteur x\n",
    "            mon_tuple=discretise(LSet, col)\n",
    "            seuil=mon_tuple[0]\n",
    "            entropiee=mon_tuple[1]\n",
    "            if(entropiee<min_entropie):\n",
    "                min_entropie=entropiee\n",
    "                seuil_min=seuil\n",
    "                att=col                \n",
    "        Linf, Lsup = divise(LSet,att,seuil_min)\n",
    "        un_arbre.ajoute_fils(construit_AD(Linf,min_entropie),construit_AD(Lsup,min_entropie),att,seuil_min)\n",
    "        return un_arbre\n",
    "#faire attention à ne pas faire le return directementsur un_arbre.ajoute_fils.....\n",
    "\n"
   ]
  },
  {
   "cell_type": "code",
   "execution_count": 160,
   "metadata": {},
   "outputs": [
    {
     "data": {
      "image/svg+xml": [
       "<?xml version=\"1.0\" encoding=\"UTF-8\" standalone=\"no\"?>\r\n",
       "<!DOCTYPE svg PUBLIC \"-//W3C//DTD SVG 1.1//EN\"\r\n",
       " \"http://www.w3.org/Graphics/SVG/1.1/DTD/svg11.dtd\">\r\n",
       "<!-- Generated by graphviz version 2.38.0 (20140413.2041)\r\n",
       " -->\r\n",
       "<!-- Title: %3 Pages: 1 -->\r\n",
       "<svg width=\"795pt\" height=\"1001pt\"\r\n",
       " viewBox=\"0.00 0.00 795.00 1001.00\" xmlns=\"http://www.w3.org/2000/svg\" xmlns:xlink=\"http://www.w3.org/1999/xlink\">\r\n",
       "<g id=\"graph0\" class=\"graph\" transform=\"scale(1 1) rotate(0) translate(4 997)\">\r\n",
       "<title>%3</title>\r\n",
       "<polygon fill=\"white\" stroke=\"none\" points=\"-4,4 -4,-997 791,-997 791,4 -4,4\"/>\r\n",
       "<!-- A -->\r\n",
       "<g id=\"node1\" class=\"node\"><title>A</title>\r\n",
       "<ellipse fill=\"none\" stroke=\"black\" cx=\"105\" cy=\"-975\" rx=\"27\" ry=\"18\"/>\r\n",
       "<text text-anchor=\"middle\" x=\"105\" y=\"-971.3\" font-family=\"Times New Roman,serif\" font-size=\"14.00\">0</text>\r\n",
       "</g>\r\n",
       "<!-- Ag -->\r\n",
       "<g id=\"node2\" class=\"node\"><title>Ag</title>\r\n",
       "<polygon fill=\"none\" stroke=\"black\" points=\"54,-906 0,-906 0,-870 54,-870 54,-906\"/>\r\n",
       "<text text-anchor=\"middle\" x=\"27\" y=\"-884.3\" font-family=\"Times New Roman,serif\" font-size=\"14.00\">1</text>\r\n",
       "</g>\r\n",
       "<!-- A&#45;&gt;Ag -->\r\n",
       "<g id=\"edge25\" class=\"edge\"><title>A&#45;&gt;Ag</title>\r\n",
       "<path fill=\"none\" stroke=\"black\" d=\"M78.8599,-969.531C61.271,-965.03 39.3021,-956.172 28,-939 23.6191,-932.344 22.2509,-924.033 22.2984,-916.11\"/>\r\n",
       "<polygon fill=\"black\" stroke=\"black\" points=\"25.7922,-916.322 23.0418,-906.09 18.8114,-915.804 25.7922,-916.322\"/>\r\n",
       "<text text-anchor=\"middle\" x=\"94.5\" y=\"-927.8\" font-family=\"Times New Roman,serif\" font-size=\"14.00\">&lt;=&#45;2.980367740750367</text>\r\n",
       "</g>\r\n",
       "<!-- Ad -->\r\n",
       "<g id=\"node3\" class=\"node\"><title>Ad</title>\r\n",
       "<ellipse fill=\"none\" stroke=\"black\" cx=\"183\" cy=\"-888\" rx=\"27\" ry=\"18\"/>\r\n",
       "<text text-anchor=\"middle\" x=\"183\" y=\"-884.3\" font-family=\"Times New Roman,serif\" font-size=\"14.00\">0</text>\r\n",
       "</g>\r\n",
       "<!-- A&#45;&gt;Ad -->\r\n",
       "<g id=\"edge26\" class=\"edge\"><title>A&#45;&gt;Ad</title>\r\n",
       "<path fill=\"none\" stroke=\"black\" d=\"M126.892,-964.254C138.268,-958.298 151.697,-949.75 161,-939 166.824,-932.27 171.334,-923.755 174.712,-915.669\"/>\r\n",
       "<polygon fill=\"black\" stroke=\"black\" points=\"178.041,-916.758 178.281,-906.166 171.488,-914.296 178.041,-916.758\"/>\r\n",
       "<text text-anchor=\"middle\" x=\"233.5\" y=\"-927.8\" font-family=\"Times New Roman,serif\" font-size=\"14.00\">&gt;&#45;2.980367740750367</text>\r\n",
       "</g>\r\n",
       "<!-- Adg -->\r\n",
       "<g id=\"node4\" class=\"node\"><title>Adg</title>\r\n",
       "<polygon fill=\"none\" stroke=\"black\" points=\"129,-819 75,-819 75,-783 129,-783 129,-819\"/>\r\n",
       "<text text-anchor=\"middle\" x=\"102\" y=\"-797.3\" font-family=\"Times New Roman,serif\" font-size=\"14.00\">&#45;1</text>\r\n",
       "</g>\r\n",
       "<!-- Ad&#45;&gt;Adg -->\r\n",
       "<g id=\"edge23\" class=\"edge\"><title>Ad&#45;&gt;Adg</title>\r\n",
       "<path fill=\"none\" stroke=\"black\" d=\"M156.653,-883.007C138.268,-878.709 114.962,-869.897 103,-852 98.5719,-845.375 97.1904,-837.073 97.2401,-829.149\"/>\r\n",
       "<polygon fill=\"black\" stroke=\"black\" points=\"100.734,-829.356 97.994,-819.122 93.754,-828.831 100.734,-829.356\"/>\r\n",
       "<text text-anchor=\"middle\" x=\"173\" y=\"-840.8\" font-family=\"Times New Roman,serif\" font-size=\"14.00\">&lt;=&#45;1.9194746923494421</text>\r\n",
       "</g>\r\n",
       "<!-- Add -->\r\n",
       "<g id=\"node5\" class=\"node\"><title>Add</title>\r\n",
       "<ellipse fill=\"none\" stroke=\"black\" cx=\"265\" cy=\"-801\" rx=\"27\" ry=\"18\"/>\r\n",
       "<text text-anchor=\"middle\" x=\"265\" y=\"-797.3\" font-family=\"Times New Roman,serif\" font-size=\"14.00\">0</text>\r\n",
       "</g>\r\n",
       "<!-- Ad&#45;&gt;Add -->\r\n",
       "<g id=\"edge24\" class=\"edge\"><title>Ad&#45;&gt;Add</title>\r\n",
       "<path fill=\"none\" stroke=\"black\" d=\"M205.583,-877.999C217.956,-872.13 232.802,-863.427 243,-852 249.016,-845.259 253.601,-836.611 256.987,-828.409\"/>\r\n",
       "<polygon fill=\"black\" stroke=\"black\" points=\"260.36,-829.377 260.538,-818.783 253.793,-826.954 260.36,-829.377\"/>\r\n",
       "<text text-anchor=\"middle\" x=\"319\" y=\"-840.8\" font-family=\"Times New Roman,serif\" font-size=\"14.00\">&gt;&#45;1.9194746923494421</text>\r\n",
       "</g>\r\n",
       "<!-- Addg -->\r\n",
       "<g id=\"node6\" class=\"node\"><title>Addg</title>\r\n",
       "<polygon fill=\"none\" stroke=\"black\" points=\"211,-732 157,-732 157,-696 211,-696 211,-732\"/>\r\n",
       "<text text-anchor=\"middle\" x=\"184\" y=\"-710.3\" font-family=\"Times New Roman,serif\" font-size=\"14.00\">1</text>\r\n",
       "</g>\r\n",
       "<!-- Add&#45;&gt;Addg -->\r\n",
       "<g id=\"edge21\" class=\"edge\"><title>Add&#45;&gt;Addg</title>\r\n",
       "<path fill=\"none\" stroke=\"black\" d=\"M238.653,-796.007C220.268,-791.709 196.962,-782.897 185,-765 180.572,-758.375 179.19,-750.073 179.24,-742.149\"/>\r\n",
       "<polygon fill=\"black\" stroke=\"black\" points=\"182.734,-742.356 179.994,-732.122 175.754,-741.831 182.734,-742.356\"/>\r\n",
       "<text text-anchor=\"middle\" x=\"255\" y=\"-753.8\" font-family=\"Times New Roman,serif\" font-size=\"14.00\">&lt;=&#45;1.0379607074954473</text>\r\n",
       "</g>\r\n",
       "<!-- Addd -->\r\n",
       "<g id=\"node7\" class=\"node\"><title>Addd</title>\r\n",
       "<ellipse fill=\"none\" stroke=\"black\" cx=\"347\" cy=\"-714\" rx=\"27\" ry=\"18\"/>\r\n",
       "<text text-anchor=\"middle\" x=\"347\" y=\"-710.3\" font-family=\"Times New Roman,serif\" font-size=\"14.00\">0</text>\r\n",
       "</g>\r\n",
       "<!-- Add&#45;&gt;Addd -->\r\n",
       "<g id=\"edge22\" class=\"edge\"><title>Add&#45;&gt;Addd</title>\r\n",
       "<path fill=\"none\" stroke=\"black\" d=\"M287.583,-790.999C299.956,-785.13 314.802,-776.427 325,-765 331.016,-758.259 335.601,-749.611 338.987,-741.409\"/>\r\n",
       "<polygon fill=\"black\" stroke=\"black\" points=\"342.36,-742.377 342.538,-731.783 335.793,-739.954 342.36,-742.377\"/>\r\n",
       "<text text-anchor=\"middle\" x=\"400\" y=\"-753.8\" font-family=\"Times New Roman,serif\" font-size=\"14.00\">&gt;&#45;1.0379607074954473</text>\r\n",
       "</g>\r\n",
       "<!-- Adddg -->\r\n",
       "<g id=\"node8\" class=\"node\"><title>Adddg</title>\r\n",
       "<polygon fill=\"none\" stroke=\"black\" points=\"293,-645 239,-645 239,-609 293,-609 293,-645\"/>\r\n",
       "<text text-anchor=\"middle\" x=\"266\" y=\"-623.3\" font-family=\"Times New Roman,serif\" font-size=\"14.00\">&#45;1</text>\r\n",
       "</g>\r\n",
       "<!-- Addd&#45;&gt;Adddg -->\r\n",
       "<g id=\"edge19\" class=\"edge\"><title>Addd&#45;&gt;Adddg</title>\r\n",
       "<path fill=\"none\" stroke=\"black\" d=\"M320.653,-709.007C302.268,-704.709 278.962,-695.897 267,-678 262.572,-671.375 261.19,-663.073 261.24,-655.149\"/>\r\n",
       "<polygon fill=\"black\" stroke=\"black\" points=\"264.734,-655.356 261.994,-645.122 257.754,-654.831 264.734,-655.356\"/>\r\n",
       "<text text-anchor=\"middle\" x=\"337\" y=\"-666.8\" font-family=\"Times New Roman,serif\" font-size=\"14.00\">&lt;=&#45;0.8358585607164439</text>\r\n",
       "</g>\r\n",
       "<!-- Adddd -->\r\n",
       "<g id=\"node9\" class=\"node\"><title>Adddd</title>\r\n",
       "<ellipse fill=\"none\" stroke=\"black\" cx=\"429\" cy=\"-627\" rx=\"27\" ry=\"18\"/>\r\n",
       "<text text-anchor=\"middle\" x=\"429\" y=\"-623.3\" font-family=\"Times New Roman,serif\" font-size=\"14.00\">0</text>\r\n",
       "</g>\r\n",
       "<!-- Addd&#45;&gt;Adddd -->\r\n",
       "<g id=\"edge20\" class=\"edge\"><title>Addd&#45;&gt;Adddd</title>\r\n",
       "<path fill=\"none\" stroke=\"black\" d=\"M369.583,-703.999C381.956,-698.13 396.802,-689.427 407,-678 413.016,-671.259 417.601,-662.611 420.987,-654.409\"/>\r\n",
       "<polygon fill=\"black\" stroke=\"black\" points=\"424.36,-655.377 424.538,-644.783 417.793,-652.954 424.36,-655.377\"/>\r\n",
       "<text text-anchor=\"middle\" x=\"482\" y=\"-666.8\" font-family=\"Times New Roman,serif\" font-size=\"14.00\">&gt;&#45;0.8358585607164439</text>\r\n",
       "</g>\r\n",
       "<!-- Addddg -->\r\n",
       "<g id=\"node10\" class=\"node\"><title>Addddg</title>\r\n",
       "<polygon fill=\"none\" stroke=\"black\" points=\"375,-558 321,-558 321,-522 375,-522 375,-558\"/>\r\n",
       "<text text-anchor=\"middle\" x=\"348\" y=\"-536.3\" font-family=\"Times New Roman,serif\" font-size=\"14.00\">1</text>\r\n",
       "</g>\r\n",
       "<!-- Adddd&#45;&gt;Addddg -->\r\n",
       "<g id=\"edge17\" class=\"edge\"><title>Adddd&#45;&gt;Addddg</title>\r\n",
       "<path fill=\"none\" stroke=\"black\" d=\"M402.653,-622.007C384.268,-617.709 360.962,-608.897 349,-591 344.572,-584.375 343.19,-576.073 343.24,-568.149\"/>\r\n",
       "<polygon fill=\"black\" stroke=\"black\" points=\"346.734,-568.356 343.994,-558.122 339.754,-567.831 346.734,-568.356\"/>\r\n",
       "<text text-anchor=\"middle\" x=\"419\" y=\"-579.8\" font-family=\"Times New Roman,serif\" font-size=\"14.00\">&lt;=&#45;0.7166241682917619</text>\r\n",
       "</g>\r\n",
       "<!-- Addddd -->\r\n",
       "<g id=\"node11\" class=\"node\"><title>Addddd</title>\r\n",
       "<ellipse fill=\"none\" stroke=\"black\" cx=\"511\" cy=\"-540\" rx=\"27\" ry=\"18\"/>\r\n",
       "<text text-anchor=\"middle\" x=\"511\" y=\"-536.3\" font-family=\"Times New Roman,serif\" font-size=\"14.00\">0</text>\r\n",
       "</g>\r\n",
       "<!-- Adddd&#45;&gt;Addddd -->\r\n",
       "<g id=\"edge18\" class=\"edge\"><title>Adddd&#45;&gt;Addddd</title>\r\n",
       "<path fill=\"none\" stroke=\"black\" d=\"M451.583,-616.999C463.956,-611.13 478.802,-602.427 489,-591 495.016,-584.259 499.601,-575.611 502.987,-567.409\"/>\r\n",
       "<polygon fill=\"black\" stroke=\"black\" points=\"506.36,-568.377 506.538,-557.783 499.793,-565.954 506.36,-568.377\"/>\r\n",
       "<text text-anchor=\"middle\" x=\"564\" y=\"-579.8\" font-family=\"Times New Roman,serif\" font-size=\"14.00\">&gt;&#45;0.7166241682917619</text>\r\n",
       "</g>\r\n",
       "<!-- Adddddg -->\r\n",
       "<g id=\"node12\" class=\"node\"><title>Adddddg</title>\r\n",
       "<polygon fill=\"none\" stroke=\"black\" points=\"456,-471 402,-471 402,-435 456,-435 456,-471\"/>\r\n",
       "<text text-anchor=\"middle\" x=\"429\" y=\"-449.3\" font-family=\"Times New Roman,serif\" font-size=\"14.00\">&#45;1</text>\r\n",
       "</g>\r\n",
       "<!-- Addddd&#45;&gt;Adddddg -->\r\n",
       "<g id=\"edge15\" class=\"edge\"><title>Addddd&#45;&gt;Adddddg</title>\r\n",
       "<path fill=\"none\" stroke=\"black\" d=\"M484.726,-535.192C466.057,-530.975 442.214,-522.185 430,-504 425.557,-497.385 424.171,-489.086 424.222,-481.162\"/>\r\n",
       "<polygon fill=\"black\" stroke=\"black\" points=\"427.716,-481.367 424.979,-471.132 420.736,-480.84 427.716,-481.367\"/>\r\n",
       "<text text-anchor=\"middle\" x=\"501\" y=\"-492.8\" font-family=\"Times New Roman,serif\" font-size=\"14.00\">&lt;=0.05447664497056862</text>\r\n",
       "</g>\r\n",
       "<!-- Adddddd -->\r\n",
       "<g id=\"node13\" class=\"node\"><title>Adddddd</title>\r\n",
       "<ellipse fill=\"none\" stroke=\"black\" cx=\"594\" cy=\"-453\" rx=\"27\" ry=\"18\"/>\r\n",
       "<text text-anchor=\"middle\" x=\"594\" y=\"-449.3\" font-family=\"Times New Roman,serif\" font-size=\"14.00\">1</text>\r\n",
       "</g>\r\n",
       "<!-- Addddd&#45;&gt;Adddddd -->\r\n",
       "<g id=\"edge16\" class=\"edge\"><title>Addddd&#45;&gt;Adddddd</title>\r\n",
       "<path fill=\"none\" stroke=\"black\" d=\"M533.961,-530.08C546.54,-524.236 561.634,-515.532 572,-504 578.04,-497.281 582.631,-488.638 586.015,-480.435\"/>\r\n",
       "<polygon fill=\"black\" stroke=\"black\" points=\"589.39,-481.398 589.561,-470.804 582.821,-478.979 589.39,-481.398\"/>\r\n",
       "<text text-anchor=\"middle\" x=\"648\" y=\"-492.8\" font-family=\"Times New Roman,serif\" font-size=\"14.00\">&gt;0.05447664497056862</text>\r\n",
       "</g>\r\n",
       "<!-- Addddddg -->\r\n",
       "<g id=\"node14\" class=\"node\"><title>Addddddg</title>\r\n",
       "<ellipse fill=\"none\" stroke=\"black\" cx=\"514\" cy=\"-366\" rx=\"27\" ry=\"18\"/>\r\n",
       "<text text-anchor=\"middle\" x=\"514\" y=\"-362.3\" font-family=\"Times New Roman,serif\" font-size=\"14.00\">0</text>\r\n",
       "</g>\r\n",
       "<!-- Adddddd&#45;&gt;Addddddg -->\r\n",
       "<g id=\"edge13\" class=\"edge\"><title>Adddddd&#45;&gt;Addddddg</title>\r\n",
       "<path fill=\"none\" stroke=\"black\" d=\"M567.791,-448.622C548.501,-444.613 523.538,-435.894 511,-417 506.47,-410.173 505.68,-401.598 506.492,-393.488\"/>\r\n",
       "<polygon fill=\"black\" stroke=\"black\" points=\"509.941,-394.081 508.215,-383.628 503.046,-392.876 509.941,-394.081\"/>\r\n",
       "<text text-anchor=\"middle\" x=\"579\" y=\"-405.8\" font-family=\"Times New Roman,serif\" font-size=\"14.00\">&lt;=0.3635526344866989</text>\r\n",
       "</g>\r\n",
       "<!-- Addddddd -->\r\n",
       "<g id=\"node27\" class=\"node\"><title>Addddddd</title>\r\n",
       "<polygon fill=\"none\" stroke=\"black\" points=\"700,-384 646,-384 646,-348 700,-348 700,-384\"/>\r\n",
       "<text text-anchor=\"middle\" x=\"673\" y=\"-362.3\" font-family=\"Times New Roman,serif\" font-size=\"14.00\">1</text>\r\n",
       "</g>\r\n",
       "<!-- Adddddd&#45;&gt;Addddddd -->\r\n",
       "<g id=\"edge14\" class=\"edge\"><title>Adddddd&#45;&gt;Addddddd</title>\r\n",
       "<path fill=\"none\" stroke=\"black\" d=\"M616.006,-442.478C627.644,-436.54 641.458,-427.939 651,-417 656.85,-410.293 661.368,-401.785 664.744,-393.697\"/>\r\n",
       "<polygon fill=\"black\" stroke=\"black\" points=\"668.075,-394.781 668.308,-384.189 661.52,-392.324 668.075,-394.781\"/>\r\n",
       "<text text-anchor=\"middle\" x=\"723.5\" y=\"-405.8\" font-family=\"Times New Roman,serif\" font-size=\"14.00\">&gt;0.3635526344866989</text>\r\n",
       "</g>\r\n",
       "<!-- Addddddgg -->\r\n",
       "<g id=\"node15\" class=\"node\"><title>Addddddgg</title>\r\n",
       "<ellipse fill=\"none\" stroke=\"black\" cx=\"435\" cy=\"-279\" rx=\"27\" ry=\"18\"/>\r\n",
       "<text text-anchor=\"middle\" x=\"435\" y=\"-275.3\" font-family=\"Times New Roman,serif\" font-size=\"14.00\">0</text>\r\n",
       "</g>\r\n",
       "<!-- Addddddg&#45;&gt;Addddddgg -->\r\n",
       "<g id=\"edge11\" class=\"edge\"><title>Addddddg&#45;&gt;Addddddgg</title>\r\n",
       "<path fill=\"none\" stroke=\"black\" d=\"M487.912,-360.723C470.037,-356.299 447.548,-347.454 436,-330 431.603,-323.354 430.23,-315.047 430.278,-307.124\"/>\r\n",
       "<polygon fill=\"black\" stroke=\"black\" points=\"433.772,-307.334 431.026,-297.101 426.792,-306.813 433.772,-307.334\"/>\r\n",
       "<text text-anchor=\"middle\" x=\"504\" y=\"-318.8\" font-family=\"Times New Roman,serif\" font-size=\"14.00\">&lt;=0.5703871945148515</text>\r\n",
       "</g>\r\n",
       "<!-- Addddddgd -->\r\n",
       "<g id=\"node26\" class=\"node\"><title>Addddddgd</title>\r\n",
       "<polygon fill=\"none\" stroke=\"black\" points=\"621,-297 567,-297 567,-261 621,-261 621,-297\"/>\r\n",
       "<text text-anchor=\"middle\" x=\"594\" y=\"-275.3\" font-family=\"Times New Roman,serif\" font-size=\"14.00\">&#45;1</text>\r\n",
       "</g>\r\n",
       "<!-- Addddddg&#45;&gt;Addddddgd -->\r\n",
       "<g id=\"edge12\" class=\"edge\"><title>Addddddg&#45;&gt;Addddddgd</title>\r\n",
       "<path fill=\"none\" stroke=\"black\" d=\"M536.394,-355.558C548.238,-349.644 562.293,-341.041 572,-330 577.876,-323.316 582.401,-314.813 585.775,-306.724\"/>\r\n",
       "<polygon fill=\"black\" stroke=\"black\" points=\"589.108,-307.803 589.333,-297.211 582.551,-305.351 589.108,-307.803\"/>\r\n",
       "<text text-anchor=\"middle\" x=\"644.5\" y=\"-318.8\" font-family=\"Times New Roman,serif\" font-size=\"14.00\">&gt;0.5703871945148515</text>\r\n",
       "</g>\r\n",
       "<!-- Addddddggg -->\r\n",
       "<g id=\"node16\" class=\"node\"><title>Addddddggg</title>\r\n",
       "<ellipse fill=\"none\" stroke=\"black\" cx=\"353\" cy=\"-192\" rx=\"27\" ry=\"18\"/>\r\n",
       "<text text-anchor=\"middle\" x=\"353\" y=\"-188.3\" font-family=\"Times New Roman,serif\" font-size=\"14.00\">0</text>\r\n",
       "</g>\r\n",
       "<!-- Addddddgg&#45;&gt;Addddddggg -->\r\n",
       "<g id=\"edge9\" class=\"edge\"><title>Addddddgg&#45;&gt;Addddddggg</title>\r\n",
       "<path fill=\"none\" stroke=\"black\" d=\"M408.726,-274.192C390.057,-269.975 366.214,-261.185 354,-243 349.557,-236.385 348.171,-228.086 348.222,-220.162\"/>\r\n",
       "<polygon fill=\"black\" stroke=\"black\" points=\"351.716,-220.367 348.979,-210.132 344.736,-219.84 351.716,-220.367\"/>\r\n",
       "<text text-anchor=\"middle\" x=\"425\" y=\"-231.8\" font-family=\"Times New Roman,serif\" font-size=\"14.00\">&lt;=0.40843426253533965</text>\r\n",
       "</g>\r\n",
       "<!-- Addddddggd -->\r\n",
       "<g id=\"node19\" class=\"node\"><title>Addddddggd</title>\r\n",
       "<ellipse fill=\"none\" stroke=\"black\" cx=\"518\" cy=\"-192\" rx=\"27\" ry=\"18\"/>\r\n",
       "<text text-anchor=\"middle\" x=\"518\" y=\"-188.3\" font-family=\"Times New Roman,serif\" font-size=\"14.00\">0</text>\r\n",
       "</g>\r\n",
       "<!-- Addddddgg&#45;&gt;Addddddggd -->\r\n",
       "<g id=\"edge10\" class=\"edge\"><title>Addddddgg&#45;&gt;Addddddggd</title>\r\n",
       "<path fill=\"none\" stroke=\"black\" d=\"M457.961,-269.08C470.54,-263.236 485.634,-254.532 496,-243 502.04,-236.281 506.631,-227.638 510.015,-219.435\"/>\r\n",
       "<polygon fill=\"black\" stroke=\"black\" points=\"513.39,-220.398 513.561,-209.804 506.821,-217.979 513.39,-220.398\"/>\r\n",
       "<text text-anchor=\"middle\" x=\"572\" y=\"-231.8\" font-family=\"Times New Roman,serif\" font-size=\"14.00\">&gt;0.40843426253533965</text>\r\n",
       "</g>\r\n",
       "<!-- Addddddgggg -->\r\n",
       "<g id=\"node17\" class=\"node\"><title>Addddddgggg</title>\r\n",
       "<polygon fill=\"none\" stroke=\"black\" points=\"344,-123 290,-123 290,-87 344,-87 344,-123\"/>\r\n",
       "<text text-anchor=\"middle\" x=\"317\" y=\"-101.3\" font-family=\"Times New Roman,serif\" font-size=\"14.00\">1</text>\r\n",
       "</g>\r\n",
       "<!-- Addddddggg&#45;&gt;Addddddgggg -->\r\n",
       "<g id=\"edge1\" class=\"edge\"><title>Addddddggg&#45;&gt;Addddddgggg</title>\r\n",
       "<path fill=\"none\" stroke=\"black\" d=\"M342.91,-174.986C339.486,-169.148 335.818,-162.406 333,-156 329.821,-148.773 326.961,-140.712 324.569,-133.209\"/>\r\n",
       "<polygon fill=\"black\" stroke=\"black\" points=\"327.862,-132.007 321.61,-123.454 321.163,-134.039 327.862,-132.007\"/>\r\n",
       "<text text-anchor=\"middle\" x=\"350\" y=\"-144.8\" font-family=\"Times New Roman,serif\" font-size=\"14.00\">&lt;=0.0</text>\r\n",
       "</g>\r\n",
       "<!-- Addddddgggd -->\r\n",
       "<g id=\"node18\" class=\"node\"><title>Addddddgggd</title>\r\n",
       "<polygon fill=\"none\" stroke=\"black\" points=\"416,-123 362,-123 362,-87 416,-87 416,-123\"/>\r\n",
       "<text text-anchor=\"middle\" x=\"389\" y=\"-101.3\" font-family=\"Times New Roman,serif\" font-size=\"14.00\">&#45;1</text>\r\n",
       "</g>\r\n",
       "<!-- Addddddggg&#45;&gt;Addddddgggd -->\r\n",
       "<g id=\"edge2\" class=\"edge\"><title>Addddddggg&#45;&gt;Addddddgggd</title>\r\n",
       "<path fill=\"none\" stroke=\"black\" d=\"M360.112,-174.207C365.158,-162.293 372.032,-146.063 377.809,-132.424\"/>\r\n",
       "<polygon fill=\"black\" stroke=\"black\" points=\"381.102,-133.622 381.779,-123.049 374.656,-130.893 381.102,-133.622\"/>\r\n",
       "<text text-anchor=\"middle\" x=\"386\" y=\"-144.8\" font-family=\"Times New Roman,serif\" font-size=\"14.00\">&gt;0.0</text>\r\n",
       "</g>\r\n",
       "<!-- Addddddggdg -->\r\n",
       "<g id=\"node20\" class=\"node\"><title>Addddddggdg</title>\r\n",
       "<ellipse fill=\"none\" stroke=\"black\" cx=\"489\" cy=\"-105\" rx=\"27\" ry=\"18\"/>\r\n",
       "<text text-anchor=\"middle\" x=\"489\" y=\"-101.3\" font-family=\"Times New Roman,serif\" font-size=\"14.00\">0</text>\r\n",
       "</g>\r\n",
       "<!-- Addddddggd&#45;&gt;Addddddggdg -->\r\n",
       "<g id=\"edge7\" class=\"edge\"><title>Addddddggd&#45;&gt;Addddddggdg</title>\r\n",
       "<path fill=\"none\" stroke=\"black\" d=\"M503.022,-176.684C497.893,-170.813 492.755,-163.609 490,-156 487.429,-148.898 486.489,-140.848 486.37,-133.315\"/>\r\n",
       "<polygon fill=\"black\" stroke=\"black\" points=\"489.873,-133.26 486.663,-123.163 482.876,-133.058 489.873,-133.26\"/>\r\n",
       "<text text-anchor=\"middle\" x=\"558\" y=\"-144.8\" font-family=\"Times New Roman,serif\" font-size=\"14.00\">&lt;=0.4798309937819756</text>\r\n",
       "</g>\r\n",
       "<!-- Addddddggdd -->\r\n",
       "<g id=\"node23\" class=\"node\"><title>Addddddggdd</title>\r\n",
       "<ellipse fill=\"none\" stroke=\"black\" cx=\"648\" cy=\"-105\" rx=\"27\" ry=\"18\"/>\r\n",
       "<text text-anchor=\"middle\" x=\"648\" y=\"-101.3\" font-family=\"Times New Roman,serif\" font-size=\"14.00\">0</text>\r\n",
       "</g>\r\n",
       "<!-- Addddddggd&#45;&gt;Addddddggdd -->\r\n",
       "<g id=\"edge8\" class=\"edge\"><title>Addddddggd&#45;&gt;Addddddggdd</title>\r\n",
       "<path fill=\"none\" stroke=\"black\" d=\"M544.583,-188.52C568.523,-184.993 603.333,-176.483 626,-156 632.878,-149.785 637.711,-141.026 641.058,-132.572\"/>\r\n",
       "<polygon fill=\"black\" stroke=\"black\" points=\"644.421,-133.553 644.338,-122.959 637.796,-131.293 644.421,-133.553\"/>\r\n",
       "<text text-anchor=\"middle\" x=\"699.5\" y=\"-144.8\" font-family=\"Times New Roman,serif\" font-size=\"14.00\">&gt;0.4798309937819756</text>\r\n",
       "</g>\r\n",
       "<!-- Addddddggdgg -->\r\n",
       "<g id=\"node21\" class=\"node\"><title>Addddddggdgg</title>\r\n",
       "<polygon fill=\"none\" stroke=\"black\" points=\"469,-36 415,-36 415,-0 469,-0 469,-36\"/>\r\n",
       "<text text-anchor=\"middle\" x=\"442\" y=\"-14.3\" font-family=\"Times New Roman,serif\" font-size=\"14.00\">1</text>\r\n",
       "</g>\r\n",
       "<!-- Addddddggdg&#45;&gt;Addddddggdgg -->\r\n",
       "<g id=\"edge3\" class=\"edge\"><title>Addddddggdg&#45;&gt;Addddddggdgg</title>\r\n",
       "<path fill=\"none\" stroke=\"black\" d=\"M475.933,-88.9663C471.155,-83.0071 465.957,-75.9311 462,-69 457.828,-61.6928 454.117,-53.3437 451.06,-45.5884\"/>\r\n",
       "<polygon fill=\"black\" stroke=\"black\" points=\"454.332,-44.3456 447.55,-36.2057 447.775,-46.7981 454.332,-44.3456\"/>\r\n",
       "<text text-anchor=\"middle\" x=\"479\" y=\"-57.8\" font-family=\"Times New Roman,serif\" font-size=\"14.00\">&lt;=0.0</text>\r\n",
       "</g>\r\n",
       "<!-- Addddddggdgd -->\r\n",
       "<g id=\"node22\" class=\"node\"><title>Addddddggdgd</title>\r\n",
       "<polygon fill=\"none\" stroke=\"black\" points=\"541,-36 487,-36 487,-0 541,-0 541,-36\"/>\r\n",
       "<text text-anchor=\"middle\" x=\"514\" y=\"-14.3\" font-family=\"Times New Roman,serif\" font-size=\"14.00\">1</text>\r\n",
       "</g>\r\n",
       "<!-- Addddddggdg&#45;&gt;Addddddggdgd -->\r\n",
       "<g id=\"edge4\" class=\"edge\"><title>Addddddggdg&#45;&gt;Addddddggdgd</title>\r\n",
       "<path fill=\"none\" stroke=\"black\" d=\"M493.939,-87.2067C497.409,-75.4091 502.124,-59.3781 506.111,-45.8221\"/>\r\n",
       "<polygon fill=\"black\" stroke=\"black\" points=\"509.522,-46.6306 508.985,-36.0493 502.806,-44.6554 509.522,-46.6306\"/>\r\n",
       "<text text-anchor=\"middle\" x=\"515\" y=\"-57.8\" font-family=\"Times New Roman,serif\" font-size=\"14.00\">&gt;0.0</text>\r\n",
       "</g>\r\n",
       "<!-- Addddddggddg -->\r\n",
       "<g id=\"node24\" class=\"node\"><title>Addddddggddg</title>\r\n",
       "<polygon fill=\"none\" stroke=\"black\" points=\"639,-36 585,-36 585,-0 639,-0 639,-36\"/>\r\n",
       "<text text-anchor=\"middle\" x=\"612\" y=\"-14.3\" font-family=\"Times New Roman,serif\" font-size=\"14.00\">1</text>\r\n",
       "</g>\r\n",
       "<!-- Addddddggdd&#45;&gt;Addddddggddg -->\r\n",
       "<g id=\"edge5\" class=\"edge\"><title>Addddddggdd&#45;&gt;Addddddggddg</title>\r\n",
       "<path fill=\"none\" stroke=\"black\" d=\"M637.91,-87.9858C634.486,-82.148 630.818,-75.4061 628,-69 624.821,-61.7732 621.961,-53.7122 619.569,-46.209\"/>\r\n",
       "<polygon fill=\"black\" stroke=\"black\" points=\"622.862,-45.0074 616.61,-36.4538 616.163,-47.0392 622.862,-45.0074\"/>\r\n",
       "<text text-anchor=\"middle\" x=\"645\" y=\"-57.8\" font-family=\"Times New Roman,serif\" font-size=\"14.00\">&lt;=0.0</text>\r\n",
       "</g>\r\n",
       "<!-- Addddddggddd -->\r\n",
       "<g id=\"node25\" class=\"node\"><title>Addddddggddd</title>\r\n",
       "<polygon fill=\"none\" stroke=\"black\" points=\"711,-36 657,-36 657,-0 711,-0 711,-36\"/>\r\n",
       "<text text-anchor=\"middle\" x=\"684\" y=\"-14.3\" font-family=\"Times New Roman,serif\" font-size=\"14.00\">1</text>\r\n",
       "</g>\r\n",
       "<!-- Addddddggdd&#45;&gt;Addddddggddd -->\r\n",
       "<g id=\"edge6\" class=\"edge\"><title>Addddddggdd&#45;&gt;Addddddggddd</title>\r\n",
       "<path fill=\"none\" stroke=\"black\" d=\"M655.112,-87.2067C660.158,-75.2934 667.032,-59.0634 672.809,-45.4242\"/>\r\n",
       "<polygon fill=\"black\" stroke=\"black\" points=\"676.102,-46.6225 676.779,-36.0493 669.656,-43.8925 676.102,-46.6225\"/>\r\n",
       "<text text-anchor=\"middle\" x=\"681\" y=\"-57.8\" font-family=\"Times New Roman,serif\" font-size=\"14.00\">&gt;0.0</text>\r\n",
       "</g>\r\n",
       "</g>\r\n",
       "</svg>\r\n"
      ],
      "text/plain": [
       "<graphviz.dot.Digraph at 0x1aa266a5358>"
      ]
     },
     "execution_count": 160,
     "metadata": {},
     "output_type": "execute_result"
    }
   ],
   "source": [
    "#test de l'affichage \n",
    "abin = construit_AD(the_set,0.0)\n",
    "gtree = gv.Digraph(format='png')\n",
    "abin.to_graph(gtree)"
   ]
  },
  {
   "cell_type": "markdown",
   "metadata": {},
   "source": [
    "### Classification avec arbre de décision\n"
   ]
  },
  {
   "cell_type": "markdown",
   "metadata": {},
   "source": [
    "Pour classer un nouvel exemple avec un arbre de décision, il faut parcourir l'arbre, de la racine vers une feuille en respectant les tests rencontrés dans chaque arc. Une fois atteint une feuille, la classe de l'exemple est celle présente dans la feuille.\n",
    "\n",
    "La classe ArbreBinaire contient déjà une fonction <code>classifie</code> qui permet de classer un nouvel exemple et de renvoyer la classe +1 ou -1 selon le cas."
   ]
  },
  {
   "cell_type": "markdown",
   "metadata": {},
   "source": [
    "### Implémentation"
   ]
  },
  {
   "cell_type": "markdown",
   "metadata": {},
   "source": [
    "On définit le classifieur <code>ArbreDecision</code> comme suit.\n",
    "\n",
    "Si toutes les fonctions précédentes ont été écrites correctement, il est maintenant possible de construire un arbre de décision à partir de la base jouet.\n"
   ]
  },
  {
   "cell_type": "markdown",
   "metadata": {},
   "source": [
    "## Applications à des données réelles"
   ]
  },
  {
   "cell_type": "code",
   "execution_count": 1,
   "metadata": {},
   "outputs": [
    {
     "ename": "NameError",
     "evalue": "name 'cl' is not defined",
     "output_type": "error",
     "traceback": [
      "\u001b[0;31m---------------------------------------------------------------------------\u001b[0m",
      "\u001b[0;31mNameError\u001b[0m                                 Traceback (most recent call last)",
      "\u001b[0;32m<ipython-input-1-1a75426b1dec>\u001b[0m in \u001b[0;36m<module>\u001b[0;34m\u001b[0m\n\u001b[0;32m----> 1\u001b[0;31m \u001b[0;32mclass\u001b[0m \u001b[0mArbreDecision\u001b[0m\u001b[0;34m(\u001b[0m\u001b[0mcl\u001b[0m\u001b[0;34m.\u001b[0m\u001b[0mClassifier\u001b[0m\u001b[0;34m)\u001b[0m\u001b[0;34m:\u001b[0m\u001b[0;34m\u001b[0m\u001b[0;34m\u001b[0m\u001b[0m\n\u001b[0m\u001b[1;32m      2\u001b[0m     \u001b[0;31m# Constructeur\u001b[0m\u001b[0;34m\u001b[0m\u001b[0;34m\u001b[0m\u001b[0;34m\u001b[0m\u001b[0m\n\u001b[1;32m      3\u001b[0m     \u001b[0;32mdef\u001b[0m \u001b[0m__init__\u001b[0m\u001b[0;34m(\u001b[0m\u001b[0mself\u001b[0m\u001b[0;34m,\u001b[0m\u001b[0mepsilon\u001b[0m\u001b[0;34m)\u001b[0m\u001b[0;34m:\u001b[0m\u001b[0;34m\u001b[0m\u001b[0;34m\u001b[0m\u001b[0m\n\u001b[1;32m      4\u001b[0m         \u001b[0;31m# valeur seuil d'entropie pour arrêter la construction\u001b[0m\u001b[0;34m\u001b[0m\u001b[0;34m\u001b[0m\u001b[0;34m\u001b[0m\u001b[0m\n\u001b[1;32m      5\u001b[0m         \u001b[0mself\u001b[0m\u001b[0;34m.\u001b[0m\u001b[0mepsilon\u001b[0m\u001b[0;34m=\u001b[0m \u001b[0mepsilon\u001b[0m\u001b[0;34m\u001b[0m\u001b[0;34m\u001b[0m\u001b[0m\n",
      "\u001b[0;31mNameError\u001b[0m: name 'cl' is not defined"
     ]
    }
   ],
   "source": [
    "class ArbreDecision(cl.Classifier):\n",
    "    # Constructeur\n",
    "    def __init__(self,epsilon):\n",
    "        # valeur seuil d'entropie pour arrêter la construction\n",
    "        self.epsilon= epsilon\n",
    "        self.racine = None\n",
    "    \n",
    "    # Permet de calculer la prediction sur x => renvoie un score\n",
    "    def predict(self,x):\n",
    "        # classification de l'exemple x avec l'arbre de décision\n",
    "        # on rend 0 (classe -1) ou 1 (classe 1)\n",
    "        classe = self.racine.classifie(x)\n",
    "        if (classe == 1):\n",
    "            return(1)\n",
    "        else:\n",
    "            return(-1)\n",
    "    \n",
    "    # Permet d'entrainer le modele sur un ensemble de données\n",
    "    def train(self,sett):\n",
    "        # construction de l'arbre de décision \n",
    "        self.set=sett\n",
    "        self.racine = construit_AD(set,self.epsilon)\n",
    "\n",
    "    # Permet d'afficher l'arbre\n",
    "    def plot(self):\n",
    "        gtree = gv.Digraph(format='png')\n",
    "        return self.racine.to_graph(gtree)\n",
    "        "
   ]
  },
  {
   "cell_type": "code",
   "execution_count": 162,
   "metadata": {},
   "outputs": [
    {
     "data": {
      "image/png": "[encoded data removed]",
      "text/plain": [
       "<Figure size 432x288 with 1 Axes>"
      ]
     },
     "metadata": {
      "needs_background": "light"
     },
     "output_type": "display_data"
    }
   ],
   "source": [
    "# un exemple d'utilisation:\n",
    "ad=ArbreDecision(0.0)          # initialiation d'un arbre binaire qui utilisera epsilon= 0.0\n",
    "ad.train(the_set)              # construction de l'arbre à partir de la base jouet\n",
    "ut.plot_frontiere(the_set,ad,20)  # tracé graphique de la frontière de décision\n",
    "ut.plot2DSet(the_set) "
   ]
  },
  {
   "cell_type": "code",
   "execution_count": 163,
   "metadata": {},
   "outputs": [
    {
     "data": {
      "image/svg+xml": [
       "<?xml version=\"1.0\" encoding=\"UTF-8\" standalone=\"no\"?>\r\n",
       "<!DOCTYPE svg PUBLIC \"-//W3C//DTD SVG 1.1//EN\"\r\n",
       " \"http://www.w3.org/Graphics/SVG/1.1/DTD/svg11.dtd\">\r\n",
       "<!-- Generated by graphviz version 2.38.0 (20140413.2041)\r\n",
       " -->\r\n",
       "<!-- Title: %3 Pages: 1 -->\r\n",
       "<svg width=\"795pt\" height=\"1001pt\"\r\n",
       " viewBox=\"0.00 0.00 795.00 1001.00\" xmlns=\"http://www.w3.org/2000/svg\" xmlns:xlink=\"http://www.w3.org/1999/xlink\">\r\n",
       "<g id=\"graph0\" class=\"graph\" transform=\"scale(1 1) rotate(0) translate(4 997)\">\r\n",
       "<title>%3</title>\r\n",
       "<polygon fill=\"white\" stroke=\"none\" points=\"-4,4 -4,-997 791,-997 791,4 -4,4\"/>\r\n",
       "<!-- A -->\r\n",
       "<g id=\"node1\" class=\"node\"><title>A</title>\r\n",
       "<ellipse fill=\"none\" stroke=\"black\" cx=\"105\" cy=\"-975\" rx=\"27\" ry=\"18\"/>\r\n",
       "<text text-anchor=\"middle\" x=\"105\" y=\"-971.3\" font-family=\"Times New Roman,serif\" font-size=\"14.00\">0</text>\r\n",
       "</g>\r\n",
       "<!-- Ag -->\r\n",
       "<g id=\"node2\" class=\"node\"><title>Ag</title>\r\n",
       "<polygon fill=\"none\" stroke=\"black\" points=\"54,-906 0,-906 0,-870 54,-870 54,-906\"/>\r\n",
       "<text text-anchor=\"middle\" x=\"27\" y=\"-884.3\" font-family=\"Times New Roman,serif\" font-size=\"14.00\">1</text>\r\n",
       "</g>\r\n",
       "<!-- A&#45;&gt;Ag -->\r\n",
       "<g id=\"edge25\" class=\"edge\"><title>A&#45;&gt;Ag</title>\r\n",
       "<path fill=\"none\" stroke=\"black\" d=\"M78.8599,-969.531C61.271,-965.03 39.3021,-956.172 28,-939 23.6191,-932.344 22.2509,-924.033 22.2984,-916.11\"/>\r\n",
       "<polygon fill=\"black\" stroke=\"black\" points=\"25.7922,-916.322 23.0418,-906.09 18.8114,-915.804 25.7922,-916.322\"/>\r\n",
       "<text text-anchor=\"middle\" x=\"94.5\" y=\"-927.8\" font-family=\"Times New Roman,serif\" font-size=\"14.00\">&lt;=&#45;2.980367740750367</text>\r\n",
       "</g>\r\n",
       "<!-- Ad -->\r\n",
       "<g id=\"node3\" class=\"node\"><title>Ad</title>\r\n",
       "<ellipse fill=\"none\" stroke=\"black\" cx=\"183\" cy=\"-888\" rx=\"27\" ry=\"18\"/>\r\n",
       "<text text-anchor=\"middle\" x=\"183\" y=\"-884.3\" font-family=\"Times New Roman,serif\" font-size=\"14.00\">0</text>\r\n",
       "</g>\r\n",
       "<!-- A&#45;&gt;Ad -->\r\n",
       "<g id=\"edge26\" class=\"edge\"><title>A&#45;&gt;Ad</title>\r\n",
       "<path fill=\"none\" stroke=\"black\" d=\"M126.892,-964.254C138.268,-958.298 151.697,-949.75 161,-939 166.824,-932.27 171.334,-923.755 174.712,-915.669\"/>\r\n",
       "<polygon fill=\"black\" stroke=\"black\" points=\"178.041,-916.758 178.281,-906.166 171.488,-914.296 178.041,-916.758\"/>\r\n",
       "<text text-anchor=\"middle\" x=\"233.5\" y=\"-927.8\" font-family=\"Times New Roman,serif\" font-size=\"14.00\">&gt;&#45;2.980367740750367</text>\r\n",
       "</g>\r\n",
       "<!-- Adg -->\r\n",
       "<g id=\"node4\" class=\"node\"><title>Adg</title>\r\n",
       "<polygon fill=\"none\" stroke=\"black\" points=\"129,-819 75,-819 75,-783 129,-783 129,-819\"/>\r\n",
       "<text text-anchor=\"middle\" x=\"102\" y=\"-797.3\" font-family=\"Times New Roman,serif\" font-size=\"14.00\">&#45;1</text>\r\n",
       "</g>\r\n",
       "<!-- Ad&#45;&gt;Adg -->\r\n",
       "<g id=\"edge23\" class=\"edge\"><title>Ad&#45;&gt;Adg</title>\r\n",
       "<path fill=\"none\" stroke=\"black\" d=\"M156.653,-883.007C138.268,-878.709 114.962,-869.897 103,-852 98.5719,-845.375 97.1904,-837.073 97.2401,-829.149\"/>\r\n",
       "<polygon fill=\"black\" stroke=\"black\" points=\"100.734,-829.356 97.994,-819.122 93.754,-828.831 100.734,-829.356\"/>\r\n",
       "<text text-anchor=\"middle\" x=\"173\" y=\"-840.8\" font-family=\"Times New Roman,serif\" font-size=\"14.00\">&lt;=&#45;1.9194746923494421</text>\r\n",
       "</g>\r\n",
       "<!-- Add -->\r\n",
       "<g id=\"node5\" class=\"node\"><title>Add</title>\r\n",
       "<ellipse fill=\"none\" stroke=\"black\" cx=\"265\" cy=\"-801\" rx=\"27\" ry=\"18\"/>\r\n",
       "<text text-anchor=\"middle\" x=\"265\" y=\"-797.3\" font-family=\"Times New Roman,serif\" font-size=\"14.00\">0</text>\r\n",
       "</g>\r\n",
       "<!-- Ad&#45;&gt;Add -->\r\n",
       "<g id=\"edge24\" class=\"edge\"><title>Ad&#45;&gt;Add</title>\r\n",
       "<path fill=\"none\" stroke=\"black\" d=\"M205.583,-877.999C217.956,-872.13 232.802,-863.427 243,-852 249.016,-845.259 253.601,-836.611 256.987,-828.409\"/>\r\n",
       "<polygon fill=\"black\" stroke=\"black\" points=\"260.36,-829.377 260.538,-818.783 253.793,-826.954 260.36,-829.377\"/>\r\n",
       "<text text-anchor=\"middle\" x=\"319\" y=\"-840.8\" font-family=\"Times New Roman,serif\" font-size=\"14.00\">&gt;&#45;1.9194746923494421</text>\r\n",
       "</g>\r\n",
       "<!-- Addg -->\r\n",
       "<g id=\"node6\" class=\"node\"><title>Addg</title>\r\n",
       "<polygon fill=\"none\" stroke=\"black\" points=\"211,-732 157,-732 157,-696 211,-696 211,-732\"/>\r\n",
       "<text text-anchor=\"middle\" x=\"184\" y=\"-710.3\" font-family=\"Times New Roman,serif\" font-size=\"14.00\">1</text>\r\n",
       "</g>\r\n",
       "<!-- Add&#45;&gt;Addg -->\r\n",
       "<g id=\"edge21\" class=\"edge\"><title>Add&#45;&gt;Addg</title>\r\n",
       "<path fill=\"none\" stroke=\"black\" d=\"M238.653,-796.007C220.268,-791.709 196.962,-782.897 185,-765 180.572,-758.375 179.19,-750.073 179.24,-742.149\"/>\r\n",
       "<polygon fill=\"black\" stroke=\"black\" points=\"182.734,-742.356 179.994,-732.122 175.754,-741.831 182.734,-742.356\"/>\r\n",
       "<text text-anchor=\"middle\" x=\"255\" y=\"-753.8\" font-family=\"Times New Roman,serif\" font-size=\"14.00\">&lt;=&#45;1.0379607074954473</text>\r\n",
       "</g>\r\n",
       "<!-- Addd -->\r\n",
       "<g id=\"node7\" class=\"node\"><title>Addd</title>\r\n",
       "<ellipse fill=\"none\" stroke=\"black\" cx=\"347\" cy=\"-714\" rx=\"27\" ry=\"18\"/>\r\n",
       "<text text-anchor=\"middle\" x=\"347\" y=\"-710.3\" font-family=\"Times New Roman,serif\" font-size=\"14.00\">0</text>\r\n",
       "</g>\r\n",
       "<!-- Add&#45;&gt;Addd -->\r\n",
       "<g id=\"edge22\" class=\"edge\"><title>Add&#45;&gt;Addd</title>\r\n",
       "<path fill=\"none\" stroke=\"black\" d=\"M287.583,-790.999C299.956,-785.13 314.802,-776.427 325,-765 331.016,-758.259 335.601,-749.611 338.987,-741.409\"/>\r\n",
       "<polygon fill=\"black\" stroke=\"black\" points=\"342.36,-742.377 342.538,-731.783 335.793,-739.954 342.36,-742.377\"/>\r\n",
       "<text text-anchor=\"middle\" x=\"400\" y=\"-753.8\" font-family=\"Times New Roman,serif\" font-size=\"14.00\">&gt;&#45;1.0379607074954473</text>\r\n",
       "</g>\r\n",
       "<!-- Adddg -->\r\n",
       "<g id=\"node8\" class=\"node\"><title>Adddg</title>\r\n",
       "<polygon fill=\"none\" stroke=\"black\" points=\"293,-645 239,-645 239,-609 293,-609 293,-645\"/>\r\n",
       "<text text-anchor=\"middle\" x=\"266\" y=\"-623.3\" font-family=\"Times New Roman,serif\" font-size=\"14.00\">&#45;1</text>\r\n",
       "</g>\r\n",
       "<!-- Addd&#45;&gt;Adddg -->\r\n",
       "<g id=\"edge19\" class=\"edge\"><title>Addd&#45;&gt;Adddg</title>\r\n",
       "<path fill=\"none\" stroke=\"black\" d=\"M320.653,-709.007C302.268,-704.709 278.962,-695.897 267,-678 262.572,-671.375 261.19,-663.073 261.24,-655.149\"/>\r\n",
       "<polygon fill=\"black\" stroke=\"black\" points=\"264.734,-655.356 261.994,-645.122 257.754,-654.831 264.734,-655.356\"/>\r\n",
       "<text text-anchor=\"middle\" x=\"337\" y=\"-666.8\" font-family=\"Times New Roman,serif\" font-size=\"14.00\">&lt;=&#45;0.8358585607164439</text>\r\n",
       "</g>\r\n",
       "<!-- Adddd -->\r\n",
       "<g id=\"node9\" class=\"node\"><title>Adddd</title>\r\n",
       "<ellipse fill=\"none\" stroke=\"black\" cx=\"429\" cy=\"-627\" rx=\"27\" ry=\"18\"/>\r\n",
       "<text text-anchor=\"middle\" x=\"429\" y=\"-623.3\" font-family=\"Times New Roman,serif\" font-size=\"14.00\">0</text>\r\n",
       "</g>\r\n",
       "<!-- Addd&#45;&gt;Adddd -->\r\n",
       "<g id=\"edge20\" class=\"edge\"><title>Addd&#45;&gt;Adddd</title>\r\n",
       "<path fill=\"none\" stroke=\"black\" d=\"M369.583,-703.999C381.956,-698.13 396.802,-689.427 407,-678 413.016,-671.259 417.601,-662.611 420.987,-654.409\"/>\r\n",
       "<polygon fill=\"black\" stroke=\"black\" points=\"424.36,-655.377 424.538,-644.783 417.793,-652.954 424.36,-655.377\"/>\r\n",
       "<text text-anchor=\"middle\" x=\"482\" y=\"-666.8\" font-family=\"Times New Roman,serif\" font-size=\"14.00\">&gt;&#45;0.8358585607164439</text>\r\n",
       "</g>\r\n",
       "<!-- Addddg -->\r\n",
       "<g id=\"node10\" class=\"node\"><title>Addddg</title>\r\n",
       "<polygon fill=\"none\" stroke=\"black\" points=\"375,-558 321,-558 321,-522 375,-522 375,-558\"/>\r\n",
       "<text text-anchor=\"middle\" x=\"348\" y=\"-536.3\" font-family=\"Times New Roman,serif\" font-size=\"14.00\">1</text>\r\n",
       "</g>\r\n",
       "<!-- Adddd&#45;&gt;Addddg -->\r\n",
       "<g id=\"edge17\" class=\"edge\"><title>Adddd&#45;&gt;Addddg</title>\r\n",
       "<path fill=\"none\" stroke=\"black\" d=\"M402.653,-622.007C384.268,-617.709 360.962,-608.897 349,-591 344.572,-584.375 343.19,-576.073 343.24,-568.149\"/>\r\n",
       "<polygon fill=\"black\" stroke=\"black\" points=\"346.734,-568.356 343.994,-558.122 339.754,-567.831 346.734,-568.356\"/>\r\n",
       "<text text-anchor=\"middle\" x=\"419\" y=\"-579.8\" font-family=\"Times New Roman,serif\" font-size=\"14.00\">&lt;=&#45;0.7166241682917619</text>\r\n",
       "</g>\r\n",
       "<!-- Addddd -->\r\n",
       "<g id=\"node11\" class=\"node\"><title>Addddd</title>\r\n",
       "<ellipse fill=\"none\" stroke=\"black\" cx=\"511\" cy=\"-540\" rx=\"27\" ry=\"18\"/>\r\n",
       "<text text-anchor=\"middle\" x=\"511\" y=\"-536.3\" font-family=\"Times New Roman,serif\" font-size=\"14.00\">0</text>\r\n",
       "</g>\r\n",
       "<!-- Adddd&#45;&gt;Addddd -->\r\n",
       "<g id=\"edge18\" class=\"edge\"><title>Adddd&#45;&gt;Addddd</title>\r\n",
       "<path fill=\"none\" stroke=\"black\" d=\"M451.583,-616.999C463.956,-611.13 478.802,-602.427 489,-591 495.016,-584.259 499.601,-575.611 502.987,-567.409\"/>\r\n",
       "<polygon fill=\"black\" stroke=\"black\" points=\"506.36,-568.377 506.538,-557.783 499.793,-565.954 506.36,-568.377\"/>\r\n",
       "<text text-anchor=\"middle\" x=\"564\" y=\"-579.8\" font-family=\"Times New Roman,serif\" font-size=\"14.00\">&gt;&#45;0.7166241682917619</text>\r\n",
       "</g>\r\n",
       "<!-- Adddddg -->\r\n",
       "<g id=\"node12\" class=\"node\"><title>Adddddg</title>\r\n",
       "<polygon fill=\"none\" stroke=\"black\" points=\"456,-471 402,-471 402,-435 456,-435 456,-471\"/>\r\n",
       "<text text-anchor=\"middle\" x=\"429\" y=\"-449.3\" font-family=\"Times New Roman,serif\" font-size=\"14.00\">&#45;1</text>\r\n",
       "</g>\r\n",
       "<!-- Addddd&#45;&gt;Adddddg -->\r\n",
       "<g id=\"edge15\" class=\"edge\"><title>Addddd&#45;&gt;Adddddg</title>\r\n",
       "<path fill=\"none\" stroke=\"black\" d=\"M484.726,-535.192C466.057,-530.975 442.214,-522.185 430,-504 425.557,-497.385 424.171,-489.086 424.222,-481.162\"/>\r\n",
       "<polygon fill=\"black\" stroke=\"black\" points=\"427.716,-481.367 424.979,-471.132 420.736,-480.84 427.716,-481.367\"/>\r\n",
       "<text text-anchor=\"middle\" x=\"501\" y=\"-492.8\" font-family=\"Times New Roman,serif\" font-size=\"14.00\">&lt;=0.05447664497056862</text>\r\n",
       "</g>\r\n",
       "<!-- Adddddd -->\r\n",
       "<g id=\"node13\" class=\"node\"><title>Adddddd</title>\r\n",
       "<ellipse fill=\"none\" stroke=\"black\" cx=\"594\" cy=\"-453\" rx=\"27\" ry=\"18\"/>\r\n",
       "<text text-anchor=\"middle\" x=\"594\" y=\"-449.3\" font-family=\"Times New Roman,serif\" font-size=\"14.00\">1</text>\r\n",
       "</g>\r\n",
       "<!-- Addddd&#45;&gt;Adddddd -->\r\n",
       "<g id=\"edge16\" class=\"edge\"><title>Addddd&#45;&gt;Adddddd</title>\r\n",
       "<path fill=\"none\" stroke=\"black\" d=\"M533.961,-530.08C546.54,-524.236 561.634,-515.532 572,-504 578.04,-497.281 582.631,-488.638 586.015,-480.435\"/>\r\n",
       "<polygon fill=\"black\" stroke=\"black\" points=\"589.39,-481.398 589.561,-470.804 582.821,-478.979 589.39,-481.398\"/>\r\n",
       "<text text-anchor=\"middle\" x=\"648\" y=\"-492.8\" font-family=\"Times New Roman,serif\" font-size=\"14.00\">&gt;0.05447664497056862</text>\r\n",
       "</g>\r\n",
       "<!-- Addddddg -->\r\n",
       "<g id=\"node14\" class=\"node\"><title>Addddddg</title>\r\n",
       "<ellipse fill=\"none\" stroke=\"black\" cx=\"514\" cy=\"-366\" rx=\"27\" ry=\"18\"/>\r\n",
       "<text text-anchor=\"middle\" x=\"514\" y=\"-362.3\" font-family=\"Times New Roman,serif\" font-size=\"14.00\">0</text>\r\n",
       "</g>\r\n",
       "<!-- Adddddd&#45;&gt;Addddddg -->\r\n",
       "<g id=\"edge13\" class=\"edge\"><title>Adddddd&#45;&gt;Addddddg</title>\r\n",
       "<path fill=\"none\" stroke=\"black\" d=\"M567.791,-448.622C548.501,-444.613 523.538,-435.894 511,-417 506.47,-410.173 505.68,-401.598 506.492,-393.488\"/>\r\n",
       "<polygon fill=\"black\" stroke=\"black\" points=\"509.941,-394.081 508.215,-383.628 503.046,-392.876 509.941,-394.081\"/>\r\n",
       "<text text-anchor=\"middle\" x=\"579\" y=\"-405.8\" font-family=\"Times New Roman,serif\" font-size=\"14.00\">&lt;=0.3635526344866989</text>\r\n",
       "</g>\r\n",
       "<!-- Addddddd -->\r\n",
       "<g id=\"node27\" class=\"node\"><title>Addddddd</title>\r\n",
       "<polygon fill=\"none\" stroke=\"black\" points=\"700,-384 646,-384 646,-348 700,-348 700,-384\"/>\r\n",
       "<text text-anchor=\"middle\" x=\"673\" y=\"-362.3\" font-family=\"Times New Roman,serif\" font-size=\"14.00\">1</text>\r\n",
       "</g>\r\n",
       "<!-- Adddddd&#45;&gt;Addddddd -->\r\n",
       "<g id=\"edge14\" class=\"edge\"><title>Adddddd&#45;&gt;Addddddd</title>\r\n",
       "<path fill=\"none\" stroke=\"black\" d=\"M616.006,-442.478C627.644,-436.54 641.458,-427.939 651,-417 656.85,-410.293 661.368,-401.785 664.744,-393.697\"/>\r\n",
       "<polygon fill=\"black\" stroke=\"black\" points=\"668.075,-394.781 668.308,-384.189 661.52,-392.324 668.075,-394.781\"/>\r\n",
       "<text text-anchor=\"middle\" x=\"723.5\" y=\"-405.8\" font-family=\"Times New Roman,serif\" font-size=\"14.00\">&gt;0.3635526344866989</text>\r\n",
       "</g>\r\n",
       "<!-- Addddddgg -->\r\n",
       "<g id=\"node15\" class=\"node\"><title>Addddddgg</title>\r\n",
       "<ellipse fill=\"none\" stroke=\"black\" cx=\"435\" cy=\"-279\" rx=\"27\" ry=\"18\"/>\r\n",
       "<text text-anchor=\"middle\" x=\"435\" y=\"-275.3\" font-family=\"Times New Roman,serif\" font-size=\"14.00\">0</text>\r\n",
       "</g>\r\n",
       "<!-- Addddddg&#45;&gt;Addddddgg -->\r\n",
       "<g id=\"edge11\" class=\"edge\"><title>Addddddg&#45;&gt;Addddddgg</title>\r\n",
       "<path fill=\"none\" stroke=\"black\" d=\"M487.912,-360.723C470.037,-356.299 447.548,-347.454 436,-330 431.603,-323.354 430.23,-315.047 430.278,-307.124\"/>\r\n",
       "<polygon fill=\"black\" stroke=\"black\" points=\"433.772,-307.334 431.026,-297.101 426.792,-306.813 433.772,-307.334\"/>\r\n",
       "<text text-anchor=\"middle\" x=\"504\" y=\"-318.8\" font-family=\"Times New Roman,serif\" font-size=\"14.00\">&lt;=0.5703871945148515</text>\r\n",
       "</g>\r\n",
       "<!-- Addddddgd -->\r\n",
       "<g id=\"node26\" class=\"node\"><title>Addddddgd</title>\r\n",
       "<polygon fill=\"none\" stroke=\"black\" points=\"621,-297 567,-297 567,-261 621,-261 621,-297\"/>\r\n",
       "<text text-anchor=\"middle\" x=\"594\" y=\"-275.3\" font-family=\"Times New Roman,serif\" font-size=\"14.00\">&#45;1</text>\r\n",
       "</g>\r\n",
       "<!-- Addddddg&#45;&gt;Addddddgd -->\r\n",
       "<g id=\"edge12\" class=\"edge\"><title>Addddddg&#45;&gt;Addddddgd</title>\r\n",
       "<path fill=\"none\" stroke=\"black\" d=\"M536.394,-355.558C548.238,-349.644 562.293,-341.041 572,-330 577.876,-323.316 582.401,-314.813 585.775,-306.724\"/>\r\n",
       "<polygon fill=\"black\" stroke=\"black\" points=\"589.108,-307.803 589.333,-297.211 582.551,-305.351 589.108,-307.803\"/>\r\n",
       "<text text-anchor=\"middle\" x=\"644.5\" y=\"-318.8\" font-family=\"Times New Roman,serif\" font-size=\"14.00\">&gt;0.5703871945148515</text>\r\n",
       "</g>\r\n",
       "<!-- Addddddggg -->\r\n",
       "<g id=\"node16\" class=\"node\"><title>Addddddggg</title>\r\n",
       "<ellipse fill=\"none\" stroke=\"black\" cx=\"353\" cy=\"-192\" rx=\"27\" ry=\"18\"/>\r\n",
       "<text text-anchor=\"middle\" x=\"353\" y=\"-188.3\" font-family=\"Times New Roman,serif\" font-size=\"14.00\">0</text>\r\n",
       "</g>\r\n",
       "<!-- Addddddgg&#45;&gt;Addddddggg -->\r\n",
       "<g id=\"edge9\" class=\"edge\"><title>Addddddgg&#45;&gt;Addddddggg</title>\r\n",
       "<path fill=\"none\" stroke=\"black\" d=\"M408.726,-274.192C390.057,-269.975 366.214,-261.185 354,-243 349.557,-236.385 348.171,-228.086 348.222,-220.162\"/>\r\n",
       "<polygon fill=\"black\" stroke=\"black\" points=\"351.716,-220.367 348.979,-210.132 344.736,-219.84 351.716,-220.367\"/>\r\n",
       "<text text-anchor=\"middle\" x=\"425\" y=\"-231.8\" font-family=\"Times New Roman,serif\" font-size=\"14.00\">&lt;=0.40843426253533965</text>\r\n",
       "</g>\r\n",
       "<!-- Addddddggd -->\r\n",
       "<g id=\"node19\" class=\"node\"><title>Addddddggd</title>\r\n",
       "<ellipse fill=\"none\" stroke=\"black\" cx=\"518\" cy=\"-192\" rx=\"27\" ry=\"18\"/>\r\n",
       "<text text-anchor=\"middle\" x=\"518\" y=\"-188.3\" font-family=\"Times New Roman,serif\" font-size=\"14.00\">0</text>\r\n",
       "</g>\r\n",
       "<!-- Addddddgg&#45;&gt;Addddddggd -->\r\n",
       "<g id=\"edge10\" class=\"edge\"><title>Addddddgg&#45;&gt;Addddddggd</title>\r\n",
       "<path fill=\"none\" stroke=\"black\" d=\"M457.961,-269.08C470.54,-263.236 485.634,-254.532 496,-243 502.04,-236.281 506.631,-227.638 510.015,-219.435\"/>\r\n",
       "<polygon fill=\"black\" stroke=\"black\" points=\"513.39,-220.398 513.561,-209.804 506.821,-217.979 513.39,-220.398\"/>\r\n",
       "<text text-anchor=\"middle\" x=\"572\" y=\"-231.8\" font-family=\"Times New Roman,serif\" font-size=\"14.00\">&gt;0.40843426253533965</text>\r\n",
       "</g>\r\n",
       "<!-- Addddddgggg -->\r\n",
       "<g id=\"node17\" class=\"node\"><title>Addddddgggg</title>\r\n",
       "<polygon fill=\"none\" stroke=\"black\" points=\"344,-123 290,-123 290,-87 344,-87 344,-123\"/>\r\n",
       "<text text-anchor=\"middle\" x=\"317\" y=\"-101.3\" font-family=\"Times New Roman,serif\" font-size=\"14.00\">1</text>\r\n",
       "</g>\r\n",
       "<!-- Addddddggg&#45;&gt;Addddddgggg -->\r\n",
       "<g id=\"edge1\" class=\"edge\"><title>Addddddggg&#45;&gt;Addddddgggg</title>\r\n",
       "<path fill=\"none\" stroke=\"black\" d=\"M342.91,-174.986C339.486,-169.148 335.818,-162.406 333,-156 329.821,-148.773 326.961,-140.712 324.569,-133.209\"/>\r\n",
       "<polygon fill=\"black\" stroke=\"black\" points=\"327.862,-132.007 321.61,-123.454 321.163,-134.039 327.862,-132.007\"/>\r\n",
       "<text text-anchor=\"middle\" x=\"350\" y=\"-144.8\" font-family=\"Times New Roman,serif\" font-size=\"14.00\">&lt;=0.0</text>\r\n",
       "</g>\r\n",
       "<!-- Addddddgggd -->\r\n",
       "<g id=\"node18\" class=\"node\"><title>Addddddgggd</title>\r\n",
       "<polygon fill=\"none\" stroke=\"black\" points=\"416,-123 362,-123 362,-87 416,-87 416,-123\"/>\r\n",
       "<text text-anchor=\"middle\" x=\"389\" y=\"-101.3\" font-family=\"Times New Roman,serif\" font-size=\"14.00\">&#45;1</text>\r\n",
       "</g>\r\n",
       "<!-- Addddddggg&#45;&gt;Addddddgggd -->\r\n",
       "<g id=\"edge2\" class=\"edge\"><title>Addddddggg&#45;&gt;Addddddgggd</title>\r\n",
       "<path fill=\"none\" stroke=\"black\" d=\"M360.112,-174.207C365.158,-162.293 372.032,-146.063 377.809,-132.424\"/>\r\n",
       "<polygon fill=\"black\" stroke=\"black\" points=\"381.102,-133.622 381.779,-123.049 374.656,-130.893 381.102,-133.622\"/>\r\n",
       "<text text-anchor=\"middle\" x=\"386\" y=\"-144.8\" font-family=\"Times New Roman,serif\" font-size=\"14.00\">&gt;0.0</text>\r\n",
       "</g>\r\n",
       "<!-- Addddddggdg -->\r\n",
       "<g id=\"node20\" class=\"node\"><title>Addddddggdg</title>\r\n",
       "<ellipse fill=\"none\" stroke=\"black\" cx=\"489\" cy=\"-105\" rx=\"27\" ry=\"18\"/>\r\n",
       "<text text-anchor=\"middle\" x=\"489\" y=\"-101.3\" font-family=\"Times New Roman,serif\" font-size=\"14.00\">0</text>\r\n",
       "</g>\r\n",
       "<!-- Addddddggd&#45;&gt;Addddddggdg -->\r\n",
       "<g id=\"edge7\" class=\"edge\"><title>Addddddggd&#45;&gt;Addddddggdg</title>\r\n",
       "<path fill=\"none\" stroke=\"black\" d=\"M503.022,-176.684C497.893,-170.813 492.755,-163.609 490,-156 487.429,-148.898 486.489,-140.848 486.37,-133.315\"/>\r\n",
       "<polygon fill=\"black\" stroke=\"black\" points=\"489.873,-133.26 486.663,-123.163 482.876,-133.058 489.873,-133.26\"/>\r\n",
       "<text text-anchor=\"middle\" x=\"558\" y=\"-144.8\" font-family=\"Times New Roman,serif\" font-size=\"14.00\">&lt;=0.4798309937819756</text>\r\n",
       "</g>\r\n",
       "<!-- Addddddggdd -->\r\n",
       "<g id=\"node23\" class=\"node\"><title>Addddddggdd</title>\r\n",
       "<ellipse fill=\"none\" stroke=\"black\" cx=\"648\" cy=\"-105\" rx=\"27\" ry=\"18\"/>\r\n",
       "<text text-anchor=\"middle\" x=\"648\" y=\"-101.3\" font-family=\"Times New Roman,serif\" font-size=\"14.00\">0</text>\r\n",
       "</g>\r\n",
       "<!-- Addddddggd&#45;&gt;Addddddggdd -->\r\n",
       "<g id=\"edge8\" class=\"edge\"><title>Addddddggd&#45;&gt;Addddddggdd</title>\r\n",
       "<path fill=\"none\" stroke=\"black\" d=\"M544.583,-188.52C568.523,-184.993 603.333,-176.483 626,-156 632.878,-149.785 637.711,-141.026 641.058,-132.572\"/>\r\n",
       "<polygon fill=\"black\" stroke=\"black\" points=\"644.421,-133.553 644.338,-122.959 637.796,-131.293 644.421,-133.553\"/>\r\n",
       "<text text-anchor=\"middle\" x=\"699.5\" y=\"-144.8\" font-family=\"Times New Roman,serif\" font-size=\"14.00\">&gt;0.4798309937819756</text>\r\n",
       "</g>\r\n",
       "<!-- Addddddggdgg -->\r\n",
       "<g id=\"node21\" class=\"node\"><title>Addddddggdgg</title>\r\n",
       "<polygon fill=\"none\" stroke=\"black\" points=\"469,-36 415,-36 415,-0 469,-0 469,-36\"/>\r\n",
       "<text text-anchor=\"middle\" x=\"442\" y=\"-14.3\" font-family=\"Times New Roman,serif\" font-size=\"14.00\">1</text>\r\n",
       "</g>\r\n",
       "<!-- Addddddggdg&#45;&gt;Addddddggdgg -->\r\n",
       "<g id=\"edge3\" class=\"edge\"><title>Addddddggdg&#45;&gt;Addddddggdgg</title>\r\n",
       "<path fill=\"none\" stroke=\"black\" d=\"M475.933,-88.9663C471.155,-83.0071 465.957,-75.9311 462,-69 457.828,-61.6928 454.117,-53.3437 451.06,-45.5884\"/>\r\n",
       "<polygon fill=\"black\" stroke=\"black\" points=\"454.332,-44.3456 447.55,-36.2057 447.775,-46.7981 454.332,-44.3456\"/>\r\n",
       "<text text-anchor=\"middle\" x=\"479\" y=\"-57.8\" font-family=\"Times New Roman,serif\" font-size=\"14.00\">&lt;=0.0</text>\r\n",
       "</g>\r\n",
       "<!-- Addddddggdgd -->\r\n",
       "<g id=\"node22\" class=\"node\"><title>Addddddggdgd</title>\r\n",
       "<polygon fill=\"none\" stroke=\"black\" points=\"541,-36 487,-36 487,-0 541,-0 541,-36\"/>\r\n",
       "<text text-anchor=\"middle\" x=\"514\" y=\"-14.3\" font-family=\"Times New Roman,serif\" font-size=\"14.00\">1</text>\r\n",
       "</g>\r\n",
       "<!-- Addddddggdg&#45;&gt;Addddddggdgd -->\r\n",
       "<g id=\"edge4\" class=\"edge\"><title>Addddddggdg&#45;&gt;Addddddggdgd</title>\r\n",
       "<path fill=\"none\" stroke=\"black\" d=\"M493.939,-87.2067C497.409,-75.4091 502.124,-59.3781 506.111,-45.8221\"/>\r\n",
       "<polygon fill=\"black\" stroke=\"black\" points=\"509.522,-46.6306 508.985,-36.0493 502.806,-44.6554 509.522,-46.6306\"/>\r\n",
       "<text text-anchor=\"middle\" x=\"515\" y=\"-57.8\" font-family=\"Times New Roman,serif\" font-size=\"14.00\">&gt;0.0</text>\r\n",
       "</g>\r\n",
       "<!-- Addddddggddg -->\r\n",
       "<g id=\"node24\" class=\"node\"><title>Addddddggddg</title>\r\n",
       "<polygon fill=\"none\" stroke=\"black\" points=\"639,-36 585,-36 585,-0 639,-0 639,-36\"/>\r\n",
       "<text text-anchor=\"middle\" x=\"612\" y=\"-14.3\" font-family=\"Times New Roman,serif\" font-size=\"14.00\">1</text>\r\n",
       "</g>\r\n",
       "<!-- Addddddggdd&#45;&gt;Addddddggddg -->\r\n",
       "<g id=\"edge5\" class=\"edge\"><title>Addddddggdd&#45;&gt;Addddddggddg</title>\r\n",
       "<path fill=\"none\" stroke=\"black\" d=\"M637.91,-87.9858C634.486,-82.148 630.818,-75.4061 628,-69 624.821,-61.7732 621.961,-53.7122 619.569,-46.209\"/>\r\n",
       "<polygon fill=\"black\" stroke=\"black\" points=\"622.862,-45.0074 616.61,-36.4538 616.163,-47.0392 622.862,-45.0074\"/>\r\n",
       "<text text-anchor=\"middle\" x=\"645\" y=\"-57.8\" font-family=\"Times New Roman,serif\" font-size=\"14.00\">&lt;=0.0</text>\r\n",
       "</g>\r\n",
       "<!-- Addddddggddd -->\r\n",
       "<g id=\"node25\" class=\"node\"><title>Addddddggddd</title>\r\n",
       "<polygon fill=\"none\" stroke=\"black\" points=\"711,-36 657,-36 657,-0 711,-0 711,-36\"/>\r\n",
       "<text text-anchor=\"middle\" x=\"684\" y=\"-14.3\" font-family=\"Times New Roman,serif\" font-size=\"14.00\">1</text>\r\n",
       "</g>\r\n",
       "<!-- Addddddggdd&#45;&gt;Addddddggddd -->\r\n",
       "<g id=\"edge6\" class=\"edge\"><title>Addddddggdd&#45;&gt;Addddddggddd</title>\r\n",
       "<path fill=\"none\" stroke=\"black\" d=\"M655.112,-87.2067C660.158,-75.2934 667.032,-59.0634 672.809,-45.4242\"/>\r\n",
       "<polygon fill=\"black\" stroke=\"black\" points=\"676.102,-46.6225 676.779,-36.0493 669.656,-43.8925 676.102,-46.6225\"/>\r\n",
       "<text text-anchor=\"middle\" x=\"681\" y=\"-57.8\" font-family=\"Times New Roman,serif\" font-size=\"14.00\">&gt;0.0</text>\r\n",
       "</g>\r\n",
       "</g>\r\n",
       "</svg>\r\n"
      ],
      "text/plain": [
       "<graphviz.dot.Digraph at 0x1aa26680f60>"
      ]
     },
     "execution_count": 163,
     "metadata": {},
     "output_type": "execute_result"
    }
   ],
   "source": [
    "ad.plot()"
   ]
  },
  {
   "cell_type": "markdown",
   "metadata": {},
   "source": [
    "<font color=\"RED\" size=\"+1\">**[Q]**</font> Appliquer l'algorithme des arbres de décision à des données réelles (par exemple, celles utilisées avec les k-nn) et comparer les résultats obtenus par les 2 algorithmes.\n",
    "\n",
    "Un autre exemple d'utilisation sur une base plus grande:"
   ]
  },
  {
   "cell_type": "code",
   "execution_count": 166,
   "metadata": {},
   "outputs": [],
   "source": [
    "def createGaussianDataset(positive_center, positive_sigma, negative_center, negative_sigma, nb_points):\n",
    "    \"\"\" \n",
    "        rend un LabeledSet 2D généré aléatoirement.\n",
    "        Arguments:\n",
    "        - positive_center (vecteur taille 2): centre de la gaussienne des points positifs\n",
    "        - positive_sigma (matrice 2*2): variance de la gaussienne des points positifs\n",
    "        - negative_center (vecteur taille 2): centre de la gaussienne des points négative\n",
    "        - negative_sigma (matrice 2*2): variance de la gaussienne des points négative\n",
    "        - nb_points (int):  nombre de points de chaque classe à générer\n",
    "    \"\"\"\n",
    "    \n",
    "    une_base = ls.LabeledSet(2)        # définition d'une base pour contenir des exemples en 2D\n",
    "    \n",
    "    #j'ajoute les points positifs à ma base \n",
    "    for i in range(0,nb_points):\n",
    "        points_pos=np.random.multivariate_normal(positive_center, positive_sigma) #jobtient un ensemble d'exemple positif de dim 2\n",
    "        points_neg=np.random.multivariate_normal(negative_center,negative_sigma)\n",
    "        une_base.addExample(points_pos,1)   # ajout de l'exemple de classe +1\n",
    "        une_base.addExample(points_neg,-1)   # ajout de l'exemple de classe +1\n",
    "   \n",
    "    #je retourne mon objet LabeledSet qui m'a servit à stocker mes couples d'exemples \n",
    "    return une_base"
   ]
  },
  {
   "cell_type": "code",
   "execution_count": 167,
   "metadata": {
    "scrolled": true
   },
   "outputs": [
    {
     "name": "stdout",
     "output_type": "stream",
     "text": [
      "Taille de la base générée : 200 exemples\n"
     ]
    },
    {
     "data": {
      "image/png": "[encoded data removed]",
      "text/plain": [
       "<Figure size 432x288 with 1 Axes>"
      ]
     },
     "metadata": {
      "needs_background": "light"
     },
     "output_type": "display_data"
    }
   ],
   "source": [
    "autre_set=createGaussianDataset(np.array([1,1]),np.array([[1,0],[0,1]]),np.array([-1,-1]),np.array([[1,0],[0,1]]),100)\n",
    "print(\"Taille de la base générée :\", autre_set.size(), \"exemples\")\n",
    "adautre=ArbreDecision(0.0)          \n",
    "adautre.train(autre_set)            \n",
    "ut.plot_frontiere(autre_set,adautre,20)\n",
    "ut.plot2DSet(autre_set) "
   ]
  },
  {
   "cell_type": "code",
   "execution_count": 168,
   "metadata": {},
   "outputs": [
    {
     "data": {
      "image/svg+xml": [
       "<?xml version=\"1.0\" encoding=\"UTF-8\" standalone=\"no\"?>\r\n",
       "<!DOCTYPE svg PUBLIC \"-//W3C//DTD SVG 1.1//EN\"\r\n",
       " \"http://www.w3.org/Graphics/SVG/1.1/DTD/svg11.dtd\">\r\n",
       "<!-- Generated by graphviz version 2.38.0 (20140413.2041)\r\n",
       " -->\r\n",
       "<!-- Title: %3 Pages: 1 -->\r\n",
       "<svg width=\"399pt\" height=\"653pt\"\r\n",
       " viewBox=\"0.00 0.00 399.00 653.00\" xmlns=\"http://www.w3.org/2000/svg\" xmlns:xlink=\"http://www.w3.org/1999/xlink\">\r\n",
       "<g id=\"graph0\" class=\"graph\" transform=\"scale(1 1) rotate(0) translate(4 649)\">\r\n",
       "<title>%3</title>\r\n",
       "<polygon fill=\"white\" stroke=\"none\" points=\"-4,4 -4,-649 395,-649 395,4 -4,4\"/>\r\n",
       "<!-- A -->\r\n",
       "<g id=\"node1\" class=\"node\"><title>A</title>\r\n",
       "<ellipse fill=\"none\" stroke=\"black\" cx=\"108\" cy=\"-627\" rx=\"27\" ry=\"18\"/>\r\n",
       "<text text-anchor=\"middle\" x=\"108\" y=\"-623.3\" font-family=\"Times New Roman,serif\" font-size=\"14.00\">0</text>\r\n",
       "</g>\r\n",
       "<!-- Ag -->\r\n",
       "<g id=\"node2\" class=\"node\"><title>Ag</title>\r\n",
       "<polygon fill=\"none\" stroke=\"black\" points=\"54,-558 0,-558 0,-522 54,-522 54,-558\"/>\r\n",
       "<text text-anchor=\"middle\" x=\"27\" y=\"-536.3\" font-family=\"Times New Roman,serif\" font-size=\"14.00\">&#45;1</text>\r\n",
       "</g>\r\n",
       "<!-- A&#45;&gt;Ag -->\r\n",
       "<g id=\"edge15\" class=\"edge\"><title>A&#45;&gt;Ag</title>\r\n",
       "<path fill=\"none\" stroke=\"black\" d=\"M81.6529,-622.007C63.2683,-617.709 39.9624,-608.897 28,-591 23.5719,-584.375 22.1904,-576.073 22.2401,-568.149\"/>\r\n",
       "<polygon fill=\"black\" stroke=\"black\" points=\"25.7343,-568.356 22.994,-558.122 18.754,-567.831 25.7343,-568.356\"/>\r\n",
       "<text text-anchor=\"middle\" x=\"98\" y=\"-579.8\" font-family=\"Times New Roman,serif\" font-size=\"14.00\">&lt;=&#45;0.4251705268341933</text>\r\n",
       "</g>\r\n",
       "<!-- Ad -->\r\n",
       "<g id=\"node3\" class=\"node\"><title>Ad</title>\r\n",
       "<ellipse fill=\"none\" stroke=\"black\" cx=\"190\" cy=\"-540\" rx=\"27\" ry=\"18\"/>\r\n",
       "<text text-anchor=\"middle\" x=\"190\" y=\"-536.3\" font-family=\"Times New Roman,serif\" font-size=\"14.00\">1</text>\r\n",
       "</g>\r\n",
       "<!-- A&#45;&gt;Ad -->\r\n",
       "<g id=\"edge16\" class=\"edge\"><title>A&#45;&gt;Ad</title>\r\n",
       "<path fill=\"none\" stroke=\"black\" d=\"M130.583,-616.999C142.956,-611.13 157.802,-602.427 168,-591 174.016,-584.259 178.601,-575.611 181.987,-567.409\"/>\r\n",
       "<polygon fill=\"black\" stroke=\"black\" points=\"185.36,-568.377 185.538,-557.783 178.793,-565.954 185.36,-568.377\"/>\r\n",
       "<text text-anchor=\"middle\" x=\"244\" y=\"-579.8\" font-family=\"Times New Roman,serif\" font-size=\"14.00\">&gt;&#45;0.4251705268341933</text>\r\n",
       "</g>\r\n",
       "<!-- Adg -->\r\n",
       "<g id=\"node4\" class=\"node\"><title>Adg</title>\r\n",
       "<ellipse fill=\"none\" stroke=\"black\" cx=\"108\" cy=\"-453\" rx=\"27\" ry=\"18\"/>\r\n",
       "<text text-anchor=\"middle\" x=\"108\" y=\"-449.3\" font-family=\"Times New Roman,serif\" font-size=\"14.00\">1</text>\r\n",
       "</g>\r\n",
       "<!-- Ad&#45;&gt;Adg -->\r\n",
       "<g id=\"edge13\" class=\"edge\"><title>Ad&#45;&gt;Adg</title>\r\n",
       "<path fill=\"none\" stroke=\"black\" d=\"M163.587,-535.89C143.789,-532.021 117.965,-523.36 105,-504 100.441,-497.192 99.644,-488.623 100.458,-480.511\"/>\r\n",
       "<polygon fill=\"black\" stroke=\"black\" points=\"103.907,-481.101 102.188,-470.647 97.0126,-479.892 103.907,-481.101\"/>\r\n",
       "<text text-anchor=\"middle\" x=\"175\" y=\"-492.8\" font-family=\"Times New Roman,serif\" font-size=\"14.00\">&lt;=&#45;0.6027626029753218</text>\r\n",
       "</g>\r\n",
       "<!-- Add -->\r\n",
       "<g id=\"node17\" class=\"node\"><title>Add</title>\r\n",
       "<polygon fill=\"none\" stroke=\"black\" points=\"298,-471 244,-471 244,-435 298,-435 298,-471\"/>\r\n",
       "<text text-anchor=\"middle\" x=\"271\" y=\"-449.3\" font-family=\"Times New Roman,serif\" font-size=\"14.00\">1</text>\r\n",
       "</g>\r\n",
       "<!-- Ad&#45;&gt;Add -->\r\n",
       "<g id=\"edge14\" class=\"edge\"><title>Ad&#45;&gt;Add</title>\r\n",
       "<path fill=\"none\" stroke=\"black\" d=\"M212.493,-529.78C224.601,-523.887 239.049,-515.233 249,-504 254.901,-497.338 259.433,-488.841 262.805,-480.75\"/>\r\n",
       "<polygon fill=\"black\" stroke=\"black\" points=\"266.139,-481.826 266.358,-471.233 259.582,-479.377 266.139,-481.826\"/>\r\n",
       "<text text-anchor=\"middle\" x=\"325\" y=\"-492.8\" font-family=\"Times New Roman,serif\" font-size=\"14.00\">&gt;&#45;0.6027626029753218</text>\r\n",
       "</g>\r\n",
       "<!-- Adgg -->\r\n",
       "<g id=\"node5\" class=\"node\"><title>Adgg</title>\r\n",
       "<polygon fill=\"none\" stroke=\"black\" points=\"54,-384 0,-384 0,-348 54,-348 54,-384\"/>\r\n",
       "<text text-anchor=\"middle\" x=\"27\" y=\"-362.3\" font-family=\"Times New Roman,serif\" font-size=\"14.00\">&#45;1</text>\r\n",
       "</g>\r\n",
       "<!-- Adg&#45;&gt;Adgg -->\r\n",
       "<g id=\"edge11\" class=\"edge\"><title>Adg&#45;&gt;Adgg</title>\r\n",
       "<path fill=\"none\" stroke=\"black\" d=\"M81.6529,-448.007C63.2683,-443.709 39.9624,-434.897 28,-417 23.5719,-410.375 22.1904,-402.073 22.2401,-394.149\"/>\r\n",
       "<polygon fill=\"black\" stroke=\"black\" points=\"25.7343,-394.356 22.994,-384.122 18.754,-393.831 25.7343,-394.356\"/>\r\n",
       "<text text-anchor=\"middle\" x=\"98\" y=\"-405.8\" font-family=\"Times New Roman,serif\" font-size=\"14.00\">&lt;=&#45;1.1561198146512575</text>\r\n",
       "</g>\r\n",
       "<!-- Adgd -->\r\n",
       "<g id=\"node6\" class=\"node\"><title>Adgd</title>\r\n",
       "<ellipse fill=\"none\" stroke=\"black\" cx=\"190\" cy=\"-366\" rx=\"27\" ry=\"18\"/>\r\n",
       "<text text-anchor=\"middle\" x=\"190\" y=\"-362.3\" font-family=\"Times New Roman,serif\" font-size=\"14.00\">1</text>\r\n",
       "</g>\r\n",
       "<!-- Adg&#45;&gt;Adgd -->\r\n",
       "<g id=\"edge12\" class=\"edge\"><title>Adg&#45;&gt;Adgd</title>\r\n",
       "<path fill=\"none\" stroke=\"black\" d=\"M130.583,-442.999C142.956,-437.13 157.802,-428.427 168,-417 174.016,-410.259 178.601,-401.611 181.987,-393.409\"/>\r\n",
       "<polygon fill=\"black\" stroke=\"black\" points=\"185.36,-394.377 185.538,-383.783 178.793,-391.954 185.36,-394.377\"/>\r\n",
       "<text text-anchor=\"middle\" x=\"244\" y=\"-405.8\" font-family=\"Times New Roman,serif\" font-size=\"14.00\">&gt;&#45;1.1561198146512575</text>\r\n",
       "</g>\r\n",
       "<!-- Adgdg -->\r\n",
       "<g id=\"node7\" class=\"node\"><title>Adgdg</title>\r\n",
       "<ellipse fill=\"none\" stroke=\"black\" cx=\"112\" cy=\"-279\" rx=\"27\" ry=\"18\"/>\r\n",
       "<text text-anchor=\"middle\" x=\"112\" y=\"-275.3\" font-family=\"Times New Roman,serif\" font-size=\"14.00\">0</text>\r\n",
       "</g>\r\n",
       "<!-- Adgd&#45;&gt;Adgdg -->\r\n",
       "<g id=\"edge9\" class=\"edge\"><title>Adgd&#45;&gt;Adgdg</title>\r\n",
       "<path fill=\"none\" stroke=\"black\" d=\"M163.86,-360.531C146.271,-356.03 124.302,-347.172 113,-330 108.619,-323.344 107.251,-315.033 107.298,-307.11\"/>\r\n",
       "<polygon fill=\"black\" stroke=\"black\" points=\"110.792,-307.322 108.042,-297.09 103.811,-306.804 110.792,-307.322\"/>\r\n",
       "<text text-anchor=\"middle\" x=\"179.5\" y=\"-318.8\" font-family=\"Times New Roman,serif\" font-size=\"14.00\">&lt;=&#45;0.848294805385988</text>\r\n",
       "</g>\r\n",
       "<!-- Adgdd -->\r\n",
       "<g id=\"node16\" class=\"node\"><title>Adgdd</title>\r\n",
       "<polygon fill=\"none\" stroke=\"black\" points=\"295,-297 241,-297 241,-261 295,-261 295,-297\"/>\r\n",
       "<text text-anchor=\"middle\" x=\"268\" y=\"-275.3\" font-family=\"Times New Roman,serif\" font-size=\"14.00\">&#45;1</text>\r\n",
       "</g>\r\n",
       "<!-- Adgd&#45;&gt;Adgdd -->\r\n",
       "<g id=\"edge10\" class=\"edge\"><title>Adgd&#45;&gt;Adgdd</title>\r\n",
       "<path fill=\"none\" stroke=\"black\" d=\"M211.892,-355.254C223.268,-349.298 236.697,-340.75 246,-330 251.824,-323.27 256.334,-314.755 259.712,-306.669\"/>\r\n",
       "<polygon fill=\"black\" stroke=\"black\" points=\"263.041,-307.758 263.281,-297.166 256.488,-305.296 263.041,-307.758\"/>\r\n",
       "<text text-anchor=\"middle\" x=\"318.5\" y=\"-318.8\" font-family=\"Times New Roman,serif\" font-size=\"14.00\">&gt;&#45;0.848294805385988</text>\r\n",
       "</g>\r\n",
       "<!-- Adgdgg -->\r\n",
       "<g id=\"node8\" class=\"node\"><title>Adgdgg</title>\r\n",
       "<polygon fill=\"none\" stroke=\"black\" points=\"60,-210 6,-210 6,-174 60,-174 60,-210\"/>\r\n",
       "<text text-anchor=\"middle\" x=\"33\" y=\"-188.3\" font-family=\"Times New Roman,serif\" font-size=\"14.00\">1</text>\r\n",
       "</g>\r\n",
       "<!-- Adgdg&#45;&gt;Adgdgg -->\r\n",
       "<g id=\"edge7\" class=\"edge\"><title>Adgdg&#45;&gt;Adgdgg</title>\r\n",
       "<path fill=\"none\" stroke=\"black\" d=\"M85.9119,-273.723C68.037,-269.299 45.5477,-260.454 34,-243 29.603,-236.354 28.2303,-228.047 28.2785,-220.124\"/>\r\n",
       "<polygon fill=\"black\" stroke=\"black\" points=\"31.7725,-220.334 29.0255,-210.101 24.7918,-219.813 31.7725,-220.334\"/>\r\n",
       "<text text-anchor=\"middle\" x=\"102\" y=\"-231.8\" font-family=\"Times New Roman,serif\" font-size=\"14.00\">&lt;=0.6252546910619468</text>\r\n",
       "</g>\r\n",
       "<!-- Adgdgd -->\r\n",
       "<g id=\"node9\" class=\"node\"><title>Adgdgd</title>\r\n",
       "<ellipse fill=\"none\" stroke=\"black\" cx=\"192\" cy=\"-192\" rx=\"27\" ry=\"18\"/>\r\n",
       "<text text-anchor=\"middle\" x=\"192\" y=\"-188.3\" font-family=\"Times New Roman,serif\" font-size=\"14.00\">0</text>\r\n",
       "</g>\r\n",
       "<!-- Adgdg&#45;&gt;Adgdgd -->\r\n",
       "<g id=\"edge8\" class=\"edge\"><title>Adgdg&#45;&gt;Adgdgd</title>\r\n",
       "<path fill=\"none\" stroke=\"black\" d=\"M134.394,-268.558C146.238,-262.644 160.293,-254.041 170,-243 175.876,-236.316 180.401,-227.813 183.775,-219.724\"/>\r\n",
       "<polygon fill=\"black\" stroke=\"black\" points=\"187.108,-220.803 187.333,-210.211 180.551,-218.351 187.108,-220.803\"/>\r\n",
       "<text text-anchor=\"middle\" x=\"243.5\" y=\"-231.8\" font-family=\"Times New Roman,serif\" font-size=\"14.00\">&gt;0.6252546910619468</text>\r\n",
       "</g>\r\n",
       "<!-- Adgdgdg -->\r\n",
       "<g id=\"node10\" class=\"node\"><title>Adgdgdg</title>\r\n",
       "<ellipse fill=\"none\" stroke=\"black\" cx=\"113\" cy=\"-105\" rx=\"27\" ry=\"18\"/>\r\n",
       "<text text-anchor=\"middle\" x=\"113\" y=\"-101.3\" font-family=\"Times New Roman,serif\" font-size=\"14.00\">0</text>\r\n",
       "</g>\r\n",
       "<!-- Adgdgd&#45;&gt;Adgdgdg -->\r\n",
       "<g id=\"edge5\" class=\"edge\"><title>Adgdgd&#45;&gt;Adgdgdg</title>\r\n",
       "<path fill=\"none\" stroke=\"black\" d=\"M165.912,-186.723C148.037,-182.299 125.548,-173.454 114,-156 109.603,-149.354 108.23,-141.047 108.278,-133.124\"/>\r\n",
       "<polygon fill=\"black\" stroke=\"black\" points=\"111.772,-133.334 109.026,-123.101 104.792,-132.813 111.772,-133.334\"/>\r\n",
       "<text text-anchor=\"middle\" x=\"182\" y=\"-144.8\" font-family=\"Times New Roman,serif\" font-size=\"14.00\">&lt;=2.0424136744552657</text>\r\n",
       "</g>\r\n",
       "<!-- Adgdgdd -->\r\n",
       "<g id=\"node13\" class=\"node\"><title>Adgdgdd</title>\r\n",
       "<ellipse fill=\"none\" stroke=\"black\" cx=\"272\" cy=\"-105\" rx=\"27\" ry=\"18\"/>\r\n",
       "<text text-anchor=\"middle\" x=\"272\" y=\"-101.3\" font-family=\"Times New Roman,serif\" font-size=\"14.00\">0</text>\r\n",
       "</g>\r\n",
       "<!-- Adgdgd&#45;&gt;Adgdgdd -->\r\n",
       "<g id=\"edge6\" class=\"edge\"><title>Adgdgd&#45;&gt;Adgdgdd</title>\r\n",
       "<path fill=\"none\" stroke=\"black\" d=\"M214.394,-181.558C226.238,-175.644 240.293,-167.041 250,-156 255.876,-149.316 260.401,-140.813 263.775,-132.724\"/>\r\n",
       "<polygon fill=\"black\" stroke=\"black\" points=\"267.108,-133.803 267.333,-123.211 260.551,-131.351 267.108,-133.803\"/>\r\n",
       "<text text-anchor=\"middle\" x=\"323.5\" y=\"-144.8\" font-family=\"Times New Roman,serif\" font-size=\"14.00\">&gt;2.0424136744552657</text>\r\n",
       "</g>\r\n",
       "<!-- Adgdgdgg -->\r\n",
       "<g id=\"node11\" class=\"node\"><title>Adgdgdgg</title>\r\n",
       "<polygon fill=\"none\" stroke=\"black\" points=\"112,-36 58,-36 58,-0 112,-0 112,-36\"/>\r\n",
       "<text text-anchor=\"middle\" x=\"85\" y=\"-14.3\" font-family=\"Times New Roman,serif\" font-size=\"14.00\">1</text>\r\n",
       "</g>\r\n",
       "<!-- Adgdgdg&#45;&gt;Adgdgdgg -->\r\n",
       "<g id=\"edge1\" class=\"edge\"><title>Adgdgdg&#45;&gt;Adgdgdgg</title>\r\n",
       "<path fill=\"none\" stroke=\"black\" d=\"M107.192,-87.289C105.203,-81.5052 102.98,-74.9756 101,-69 98.5164,-61.5056 95.8817,-53.3581 93.4823,-45.8576\"/>\r\n",
       "<polygon fill=\"black\" stroke=\"black\" points=\"96.7614,-44.6198 90.3928,-36.1527 90.0913,-46.7433 96.7614,-44.6198\"/>\r\n",
       "<text text-anchor=\"middle\" x=\"118\" y=\"-57.8\" font-family=\"Times New Roman,serif\" font-size=\"14.00\">&lt;=0.0</text>\r\n",
       "</g>\r\n",
       "<!-- Adgdgdgd -->\r\n",
       "<g id=\"node12\" class=\"node\"><title>Adgdgdgd</title>\r\n",
       "<polygon fill=\"none\" stroke=\"black\" points=\"184,-36 130,-36 130,-0 184,-0 184,-36\"/>\r\n",
       "<text text-anchor=\"middle\" x=\"157\" y=\"-14.3\" font-family=\"Times New Roman,serif\" font-size=\"14.00\">&#45;1</text>\r\n",
       "</g>\r\n",
       "<!-- Adgdgdg&#45;&gt;Adgdgdgd -->\r\n",
       "<g id=\"edge2\" class=\"edge\"><title>Adgdgdg&#45;&gt;Adgdgdgd</title>\r\n",
       "<path fill=\"none\" stroke=\"black\" d=\"M123.58,-88.2617C127.379,-82.3366 131.569,-75.4667 135,-69 138.938,-61.5781 142.785,-53.305 146.133,-45.6587\"/>\r\n",
       "<polygon fill=\"black\" stroke=\"black\" points=\"149.37,-46.9912 150.075,-36.4199 142.931,-44.2439 149.37,-46.9912\"/>\r\n",
       "<text text-anchor=\"middle\" x=\"156\" y=\"-57.8\" font-family=\"Times New Roman,serif\" font-size=\"14.00\">&gt;0.0</text>\r\n",
       "</g>\r\n",
       "<!-- Adgdgddg -->\r\n",
       "<g id=\"node14\" class=\"node\"><title>Adgdgddg</title>\r\n",
       "<polygon fill=\"none\" stroke=\"black\" points=\"277,-36 223,-36 223,-0 277,-0 277,-36\"/>\r\n",
       "<text text-anchor=\"middle\" x=\"250\" y=\"-14.3\" font-family=\"Times New Roman,serif\" font-size=\"14.00\">1</text>\r\n",
       "</g>\r\n",
       "<!-- Adgdgdd&#45;&gt;Adgdgddg -->\r\n",
       "<g id=\"edge3\" class=\"edge\"><title>Adgdgdd&#45;&gt;Adgdgddg</title>\r\n",
       "<path fill=\"none\" stroke=\"black\" d=\"M267.654,-87.2067C264.6,-75.4091 260.451,-59.3781 256.942,-45.8221\"/>\r\n",
       "<polygon fill=\"black\" stroke=\"black\" points=\"260.307,-44.8533 254.413,-36.0493 253.53,-46.6073 260.307,-44.8533\"/>\r\n",
       "<text text-anchor=\"middle\" x=\"280\" y=\"-57.8\" font-family=\"Times New Roman,serif\" font-size=\"14.00\">&lt;=0.0</text>\r\n",
       "</g>\r\n",
       "<!-- Adgdgddd -->\r\n",
       "<g id=\"node15\" class=\"node\"><title>Adgdgddd</title>\r\n",
       "<polygon fill=\"none\" stroke=\"black\" points=\"349,-36 295,-36 295,-0 349,-0 349,-36\"/>\r\n",
       "<text text-anchor=\"middle\" x=\"322\" y=\"-14.3\" font-family=\"Times New Roman,serif\" font-size=\"14.00\">1</text>\r\n",
       "</g>\r\n",
       "<!-- Adgdgdd&#45;&gt;Adgdgddd -->\r\n",
       "<g id=\"edge4\" class=\"edge\"><title>Adgdgdd&#45;&gt;Adgdgddd</title>\r\n",
       "<path fill=\"none\" stroke=\"black\" d=\"M285.457,-88.9566C290.4,-82.9962 295.807,-75.922 300,-69 304.422,-61.6996 308.454,-53.3524 311.824,-45.5969\"/>\r\n",
       "<polygon fill=\"black\" stroke=\"black\" points=\"315.117,-46.7907 315.717,-36.2129 308.652,-44.1082 315.117,-46.7907\"/>\r\n",
       "<text text-anchor=\"middle\" x=\"321\" y=\"-57.8\" font-family=\"Times New Roman,serif\" font-size=\"14.00\">&gt;0.0</text>\r\n",
       "</g>\r\n",
       "</g>\r\n",
       "</svg>\r\n"
      ],
      "text/plain": [
       "<graphviz.dot.Digraph at 0x1aa26ac20b8>"
      ]
     },
     "execution_count": 168,
     "metadata": {},
     "output_type": "execute_result"
    }
   ],
   "source": [
    "adautre.plot()"
   ]
  },
  {
   "cell_type": "code",
   "execution_count": null,
   "metadata": {},
   "outputs": [],
   "source": [
    "#On peut remarquer que la frontière de décision tracé par l'arbre de décision est plus proche des points du nuages de points\n",
    "#(en comparaison avec le classifieur knn , ici on obtient une droite mieux ajusté)"
   ]
  },
  {
   "cell_type": "markdown",
   "metadata": {},
   "source": [
    "### Améliorations (facultatif)"
   ]
  },
  {
   "cell_type": "markdown",
   "metadata": {},
   "source": [
    "Adapter votre algorithme afin de pouvoir construire des arbres de décision avec des attributs catégoriels. Dans un premier temps, vous considèrerez des attributs catégoriels à 2 valeurs. Ensuite, pour considérer des attributs à plus de 2 valeurs, vous devrez écrire une classe <code>ArbreGeneral</code> pour remplacer la classe <code>ArbreBinaire</code>."
   ]
  },
  {
   "cell_type": "markdown",
   "metadata": {},
   "source": [
    "## Etape 3: Expérimentation"
   ]
  },
  {
   "cell_type": "markdown",
   "metadata": {
    "collapsed": true
   },
   "source": [
    "Comparez le résultat obtenu avec ceux obtenus avec les 2 classifiers implémentés lors des TD-TME précédents. Ensuite, utilisez votre implémentation sur d'autres bases de données que vous avez déjà trouvées ou que vous pourrez trouver sur le web."
   ]
  },
  {
   "cell_type": "code",
   "execution_count": 200,
   "metadata": {},
   "outputs": [
    {
     "data": {
      "image/png": "[encoded data removed]",
      "text/plain": [
       "<Figure size 432x288 with 1 Axes>"
      ]
     },
     "metadata": {
      "needs_background": "light"
     },
     "output_type": "display_data"
    }
   ],
   "source": [
    "k=cl.KernelPoly()\n",
    "perceptron_k=cl.ClassifierPerceptronKernel(6,0.1,k)\n",
    "\n",
    "set1=createGaussianDataset(np.array([1,1]),np.array([[1,0],[0,1]]),np.array([-1,-1]),np.array([[1,0],[0,1]]),10)         \n",
    "perceptron_k.train(set1)\n",
    "ut.plot_frontiere(set1,perceptron_k)\n",
    "ut.plot2DSet(set1)"
   ]
  },
  {
   "cell_type": "code",
   "execution_count": 201,
   "metadata": {},
   "outputs": [
    {
     "data": {
      "image/png": "[encoded data removed]",
      "text/plain": [
       "<Figure size 432x288 with 1 Axes>"
      ]
     },
     "metadata": {
      "needs_background": "light"
     },
     "output_type": "display_data"
    }
   ],
   "source": [
    "adautre.train(set1)            \n",
    "ut.plot_frontiere(set1,adautre,20)\n",
    "ut.plot2DSet(set1) "
   ]
  },
  {
   "cell_type": "code",
   "execution_count": 202,
   "metadata": {},
   "outputs": [
    {
     "name": "stdout",
     "output_type": "stream",
     "text": [
      "Somme des carré des erreurs 1587.889844447116\n"
     ]
    },
    {
     "data": {
      "image/png": "[encoded data removed]",
      "text/plain": [
       "<Figure size 432x288 with 1 Axes>"
      ]
     },
     "metadata": {
      "needs_background": "light"
     },
     "output_type": "display_data"
    }
   ],
   "source": [
    "\n",
    "perceptron_kBatch=cl.ClassifierPerceptronKernelBatch(6,0.1,k)\n",
    "perceptron_kBatch.train(set1)\n",
    "print(\"Somme des carré des erreurs\",perceptron_kBatch.cout)\n",
    "ut.plot_frontiere(set1,perceptron_k)\n",
    "ut.plot2DSet(set1)"
   ]
  },
  {
   "cell_type": "code",
   "execution_count": null,
   "metadata": {},
   "outputs": [],
   "source": [
    "#On remarque que pour les deux perceptrons (stocastique et batch) , notre droite des moindres carré n'est correctement ajusté.\n",
    "#Contrairement à la droite de l'arbre de décision, qui arrive à passer au plus près de chacun des poitns.\n",
    "#de plus pour un  ensemble de point très grands , les deuxperceptrons ne sont pas capable de tracer une frontière."
   ]
  }
 ],
 "metadata": {
  "kernelspec": {
   "display_name": "Python 3",
   "language": "python",
   "name": "python3"
  },
  "language_info": {
   "codemirror_mode": {
    "name": "ipython",
    "version": 3
   },
   "file_extension": ".py",
   "mimetype": "text/x-python",
   "name": "python",
   "nbconvert_exporter": "python",
   "pygments_lexer": "ipython3",
   "version": "3.7.2"
  }
 },
 "nbformat": 4,
 "nbformat_minor": 1
}
