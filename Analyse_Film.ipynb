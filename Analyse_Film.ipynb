{
 "cells": [
  {
   "cell_type": "markdown",
   "metadata": {},
   "source": [
    "# Analyse de données de films"
   ]
  },
  {
   "cell_type": "markdown",
   "metadata": {},
   "source": [
    "Nous proposons de travailler sur des données décrivant des films. Les possibilités sont larges et vous êtes évalués sur vos propositions et votre méthodologie plus que sur vos résultats.\n",
    "\n",
    "Les données de départ sont disponibles sur:\n",
    "https://grouplens.org/datasets/movielens/\n",
    "au format CSV. \n",
    "\n",
    "Nous nous intéresserons en particulier au jeu de données: **MovieLens 20M Dataset**. Dans ce jeu de données, vous disposez entre autre de:\n",
    "* Idendifiant du film dans IMdb et TMdb (ça sera important ensuite)\n",
    "* Catégorie(s) du film\n",
    "* Titre du film\n",
    "* Notes données par les internautes aux films\n",
    "\n",
    "Afin de rendre le projet plus intéressant, nous ajoutons des données sur les acteurs et producteurs associés aux films (récupéré sur TMdb). Ces données sont disponibles sur les liens suivants:\n",
    "\n",
    "http://webia.lip6.fr/~guigue/film_v2.pkl <br>\n",
    "http://webia.lip6.fr/~guigue/act_v2.pkl <br>\n",
    "http://webia.lip6.fr/~guigue/crew_v2.pkl\n",
    "\n",
    "Ces fichiers contiennent respectivement : une nouvelle description des films (dont l'identifiant TMdb et la note moyenne donnée par les internautes, la date de sortie,...), une description des acteurs de chaque film et une description des équipes (scénariste, producteur, metteur en scène) pour chaque film.\n",
    "\n",
    "Ces données sont des listes de taille 26908, chaque élément de la liste correspondant à un dictionnaire dont vous étudierez les clés pour récupérer les informations utiles.\n",
    "\n",
    "**ATTENTION** Les contraintes de récupération d'informations en ligne font que la base MovieLens compte 27278 films mais les fichiers ci-dessus n'en comptent que 26908. Le plus simple est probablement d'éliminer les films de MovieLens qui ne sont pas dans cette seconde base."
   ]
  },
  {
   "cell_type": "markdown",
   "metadata": {},
   "source": [
    "## Consignes générales pour l'analyse des données\n",
    "\n",
    "Vous devez proposer plusieurs analyses des données, qui devront à minima utiliser les\n",
    " techniques suivantes:\n",
    " \n",
    "1. Mettre en forme les données pour identifier les acteurs et les catégories, les indexer\n",
    "1. Traiter au moins un problème de régression supervisé (par exemple la prédiction de la note moyenne donnée à un film par les internautes).\n",
    "1. Traiter au moins un problème de classification supervisé (par exemple la prédiction de la catégorie d'un film)\n",
    "1. Utiliser les données catégorielles (catégories, acteurs,...) de manière discrète ET de manière coninue (*dummy coding*) dans des approches différentes\n",
    "1. Proposer au moins une approche de catégorisation non supervisée (pour regrouper les acteurs par exemple)\n",
    "1. Mener une campagne d'expérience permettant de comparer les performances sur un problème en fonction des valeurs d'un paramètre (et donc, in fine, trouver la meilleure valeur du paramètre)\n",
    "1. Proposer quelques illustrations"
   ]
  },
  {
   "cell_type": "code",
   "execution_count": 13,
   "metadata": {},
   "outputs": [],
   "source": [
    "import numpy as np\n",
    "import pandas as pd\n",
    "import matplotlib.pyplot as plt\n",
    "%matplotlib inline\n",
    "import pickle as pkl\n",
    "import graphviz as gv\n",
    "import random\n",
    "import scipy.cluster.hierarchy\n",
    "# La ligne suivante permet de préciser le chemin d'accès à la librairie iads\n",
    "import sys\n",
    "sys.path.append('../')\n",
    "\n",
    "# Importation de la librairie iads\n",
    "import iads as iads\n",
    "\n",
    "# importation de LabeledSet\n",
    "from iads import LabeledSet as ls\n",
    "\n",
    "# importation de Classifiers\n",
    "from iads import Classifiers as cl\n",
    "\n",
    "# importation de utils\n",
    "\n",
    "# importation de arbre\n",
    "from iads import Arbre as ar\n",
    "\n",
    "# importation de Clusters\n",
    "from iads import Classifiers as clu\n",
    "\n"
   ]
  },
  {
   "cell_type": "markdown",
   "metadata": {},
   "source": [
    "## Chargement des données (base MovieLens + enrichissements)"
   ]
  },
  {
   "cell_type": "code",
   "execution_count": 15,
   "metadata": {},
   "outputs": [
    {
     "ename": "ParserError",
     "evalue": "Error tokenizing data. C error: Calling read(nbytes) on source failed. Try engine='python'.",
     "output_type": "error",
     "traceback": [
      "\u001b[0;31m---------------------------------------------------------------------------\u001b[0m",
      "\u001b[0;31mParserError\u001b[0m                               Traceback (most recent call last)",
      "\u001b[0;32m<ipython-input-15-46ccba940d42>\u001b[0m in \u001b[0;36m<module>\u001b[0;34m\u001b[0m\n\u001b[1;32m      1\u001b[0m \u001b[0;31m# Chargement des données MovieLens\u001b[0m\u001b[0;34m\u001b[0m\u001b[0;34m\u001b[0m\u001b[0;34m\u001b[0m\u001b[0m\n\u001b[1;32m      2\u001b[0m \u001b[0mfname_links\u001b[0m \u001b[0;34m=\u001b[0m\u001b[0;34m\"/Users/Nathanbrami/Desktop/3I026/projet/ml-20m\"\u001b[0m\u001b[0;34m\u001b[0m\u001b[0;34m\u001b[0m\u001b[0m\n\u001b[0;32m----> 3\u001b[0;31m \u001b[0mlinks\u001b[0m \u001b[0;34m=\u001b[0m \u001b[0mpd\u001b[0m\u001b[0;34m.\u001b[0m\u001b[0mread_csv\u001b[0m\u001b[0;34m(\u001b[0m\u001b[0mfname_links\u001b[0m\u001b[0;34m,\u001b[0m \u001b[0mencoding\u001b[0m\u001b[0;34m=\u001b[0m\u001b[0;34m'utf8'\u001b[0m\u001b[0;34m)\u001b[0m\u001b[0;34m\u001b[0m\u001b[0;34m\u001b[0m\u001b[0m\n\u001b[0m\u001b[1;32m      4\u001b[0m \u001b[0mlinks\u001b[0m\u001b[0;34m.\u001b[0m\u001b[0mhead\u001b[0m\u001b[0;34m(\u001b[0m\u001b[0;34m)\u001b[0m\u001b[0;34m\u001b[0m\u001b[0;34m\u001b[0m\u001b[0m\n",
      "\u001b[0;32m/Library/Frameworks/Python.framework/Versions/3.7/lib/python3.7/site-packages/pandas/io/parsers.py\u001b[0m in \u001b[0;36mparser_f\u001b[0;34m(filepath_or_buffer, sep, delimiter, header, names, index_col, usecols, squeeze, prefix, mangle_dupe_cols, dtype, engine, converters, true_values, false_values, skipinitialspace, skiprows, skipfooter, nrows, na_values, keep_default_na, na_filter, verbose, skip_blank_lines, parse_dates, infer_datetime_format, keep_date_col, date_parser, dayfirst, iterator, chunksize, compression, thousands, decimal, lineterminator, quotechar, quoting, doublequote, escapechar, comment, encoding, dialect, tupleize_cols, error_bad_lines, warn_bad_lines, delim_whitespace, low_memory, memory_map, float_precision)\u001b[0m\n\u001b[1;32m    700\u001b[0m                     skip_blank_lines=skip_blank_lines)\n\u001b[1;32m    701\u001b[0m \u001b[0;34m\u001b[0m\u001b[0m\n\u001b[0;32m--> 702\u001b[0;31m         \u001b[0;32mreturn\u001b[0m \u001b[0m_read\u001b[0m\u001b[0;34m(\u001b[0m\u001b[0mfilepath_or_buffer\u001b[0m\u001b[0;34m,\u001b[0m \u001b[0mkwds\u001b[0m\u001b[0;34m)\u001b[0m\u001b[0;34m\u001b[0m\u001b[0;34m\u001b[0m\u001b[0m\n\u001b[0m\u001b[1;32m    703\u001b[0m \u001b[0;34m\u001b[0m\u001b[0m\n\u001b[1;32m    704\u001b[0m     \u001b[0mparser_f\u001b[0m\u001b[0;34m.\u001b[0m\u001b[0m__name__\u001b[0m \u001b[0;34m=\u001b[0m \u001b[0mname\u001b[0m\u001b[0;34m\u001b[0m\u001b[0;34m\u001b[0m\u001b[0m\n",
      "\u001b[0;32m/Library/Frameworks/Python.framework/Versions/3.7/lib/python3.7/site-packages/pandas/io/parsers.py\u001b[0m in \u001b[0;36m_read\u001b[0;34m(filepath_or_buffer, kwds)\u001b[0m\n\u001b[1;32m    427\u001b[0m \u001b[0;34m\u001b[0m\u001b[0m\n\u001b[1;32m    428\u001b[0m     \u001b[0;31m# Create the parser.\u001b[0m\u001b[0;34m\u001b[0m\u001b[0;34m\u001b[0m\u001b[0;34m\u001b[0m\u001b[0m\n\u001b[0;32m--> 429\u001b[0;31m     \u001b[0mparser\u001b[0m \u001b[0;34m=\u001b[0m \u001b[0mTextFileReader\u001b[0m\u001b[0;34m(\u001b[0m\u001b[0mfilepath_or_buffer\u001b[0m\u001b[0;34m,\u001b[0m \u001b[0;34m**\u001b[0m\u001b[0mkwds\u001b[0m\u001b[0;34m)\u001b[0m\u001b[0;34m\u001b[0m\u001b[0;34m\u001b[0m\u001b[0m\n\u001b[0m\u001b[1;32m    430\u001b[0m \u001b[0;34m\u001b[0m\u001b[0m\n\u001b[1;32m    431\u001b[0m     \u001b[0;32mif\u001b[0m \u001b[0mchunksize\u001b[0m \u001b[0;32mor\u001b[0m \u001b[0miterator\u001b[0m\u001b[0;34m:\u001b[0m\u001b[0;34m\u001b[0m\u001b[0;34m\u001b[0m\u001b[0m\n",
      "\u001b[0;32m/Library/Frameworks/Python.framework/Versions/3.7/lib/python3.7/site-packages/pandas/io/parsers.py\u001b[0m in \u001b[0;36m__init__\u001b[0;34m(self, f, engine, **kwds)\u001b[0m\n\u001b[1;32m    893\u001b[0m             \u001b[0mself\u001b[0m\u001b[0;34m.\u001b[0m\u001b[0moptions\u001b[0m\u001b[0;34m[\u001b[0m\u001b[0;34m'has_index_names'\u001b[0m\u001b[0;34m]\u001b[0m \u001b[0;34m=\u001b[0m \u001b[0mkwds\u001b[0m\u001b[0;34m[\u001b[0m\u001b[0;34m'has_index_names'\u001b[0m\u001b[0;34m]\u001b[0m\u001b[0;34m\u001b[0m\u001b[0;34m\u001b[0m\u001b[0m\n\u001b[1;32m    894\u001b[0m \u001b[0;34m\u001b[0m\u001b[0m\n\u001b[0;32m--> 895\u001b[0;31m         \u001b[0mself\u001b[0m\u001b[0;34m.\u001b[0m\u001b[0m_make_engine\u001b[0m\u001b[0;34m(\u001b[0m\u001b[0mself\u001b[0m\u001b[0;34m.\u001b[0m\u001b[0mengine\u001b[0m\u001b[0;34m)\u001b[0m\u001b[0;34m\u001b[0m\u001b[0;34m\u001b[0m\u001b[0m\n\u001b[0m\u001b[1;32m    896\u001b[0m \u001b[0;34m\u001b[0m\u001b[0m\n\u001b[1;32m    897\u001b[0m     \u001b[0;32mdef\u001b[0m \u001b[0mclose\u001b[0m\u001b[0;34m(\u001b[0m\u001b[0mself\u001b[0m\u001b[0;34m)\u001b[0m\u001b[0;34m:\u001b[0m\u001b[0;34m\u001b[0m\u001b[0;34m\u001b[0m\u001b[0m\n",
      "\u001b[0;32m/Library/Frameworks/Python.framework/Versions/3.7/lib/python3.7/site-packages/pandas/io/parsers.py\u001b[0m in \u001b[0;36m_make_engine\u001b[0;34m(self, engine)\u001b[0m\n\u001b[1;32m   1120\u001b[0m     \u001b[0;32mdef\u001b[0m \u001b[0m_make_engine\u001b[0m\u001b[0;34m(\u001b[0m\u001b[0mself\u001b[0m\u001b[0;34m,\u001b[0m \u001b[0mengine\u001b[0m\u001b[0;34m=\u001b[0m\u001b[0;34m'c'\u001b[0m\u001b[0;34m)\u001b[0m\u001b[0;34m:\u001b[0m\u001b[0;34m\u001b[0m\u001b[0;34m\u001b[0m\u001b[0m\n\u001b[1;32m   1121\u001b[0m         \u001b[0;32mif\u001b[0m \u001b[0mengine\u001b[0m \u001b[0;34m==\u001b[0m \u001b[0;34m'c'\u001b[0m\u001b[0;34m:\u001b[0m\u001b[0;34m\u001b[0m\u001b[0;34m\u001b[0m\u001b[0m\n\u001b[0;32m-> 1122\u001b[0;31m             \u001b[0mself\u001b[0m\u001b[0;34m.\u001b[0m\u001b[0m_engine\u001b[0m \u001b[0;34m=\u001b[0m \u001b[0mCParserWrapper\u001b[0m\u001b[0;34m(\u001b[0m\u001b[0mself\u001b[0m\u001b[0;34m.\u001b[0m\u001b[0mf\u001b[0m\u001b[0;34m,\u001b[0m \u001b[0;34m**\u001b[0m\u001b[0mself\u001b[0m\u001b[0;34m.\u001b[0m\u001b[0moptions\u001b[0m\u001b[0;34m)\u001b[0m\u001b[0;34m\u001b[0m\u001b[0;34m\u001b[0m\u001b[0m\n\u001b[0m\u001b[1;32m   1123\u001b[0m         \u001b[0;32melse\u001b[0m\u001b[0;34m:\u001b[0m\u001b[0;34m\u001b[0m\u001b[0;34m\u001b[0m\u001b[0m\n\u001b[1;32m   1124\u001b[0m             \u001b[0;32mif\u001b[0m \u001b[0mengine\u001b[0m \u001b[0;34m==\u001b[0m \u001b[0;34m'python'\u001b[0m\u001b[0;34m:\u001b[0m\u001b[0;34m\u001b[0m\u001b[0;34m\u001b[0m\u001b[0m\n",
      "\u001b[0;32m/Library/Frameworks/Python.framework/Versions/3.7/lib/python3.7/site-packages/pandas/io/parsers.py\u001b[0m in \u001b[0;36m__init__\u001b[0;34m(self, src, **kwds)\u001b[0m\n\u001b[1;32m   1851\u001b[0m         \u001b[0mkwds\u001b[0m\u001b[0;34m[\u001b[0m\u001b[0;34m'usecols'\u001b[0m\u001b[0;34m]\u001b[0m \u001b[0;34m=\u001b[0m \u001b[0mself\u001b[0m\u001b[0;34m.\u001b[0m\u001b[0musecols\u001b[0m\u001b[0;34m\u001b[0m\u001b[0;34m\u001b[0m\u001b[0m\n\u001b[1;32m   1852\u001b[0m \u001b[0;34m\u001b[0m\u001b[0m\n\u001b[0;32m-> 1853\u001b[0;31m         \u001b[0mself\u001b[0m\u001b[0;34m.\u001b[0m\u001b[0m_reader\u001b[0m \u001b[0;34m=\u001b[0m \u001b[0mparsers\u001b[0m\u001b[0;34m.\u001b[0m\u001b[0mTextReader\u001b[0m\u001b[0;34m(\u001b[0m\u001b[0msrc\u001b[0m\u001b[0;34m,\u001b[0m \u001b[0;34m**\u001b[0m\u001b[0mkwds\u001b[0m\u001b[0;34m)\u001b[0m\u001b[0;34m\u001b[0m\u001b[0;34m\u001b[0m\u001b[0m\n\u001b[0m\u001b[1;32m   1854\u001b[0m         \u001b[0mself\u001b[0m\u001b[0;34m.\u001b[0m\u001b[0munnamed_cols\u001b[0m \u001b[0;34m=\u001b[0m \u001b[0mself\u001b[0m\u001b[0;34m.\u001b[0m\u001b[0m_reader\u001b[0m\u001b[0;34m.\u001b[0m\u001b[0munnamed_cols\u001b[0m\u001b[0;34m\u001b[0m\u001b[0;34m\u001b[0m\u001b[0m\n\u001b[1;32m   1855\u001b[0m \u001b[0;34m\u001b[0m\u001b[0m\n",
      "\u001b[0;32mpandas/_libs/parsers.pyx\u001b[0m in \u001b[0;36mpandas._libs.parsers.TextReader.__cinit__\u001b[0;34m()\u001b[0m\n",
      "\u001b[0;32mpandas/_libs/parsers.pyx\u001b[0m in \u001b[0;36mpandas._libs.parsers.TextReader._get_header\u001b[0;34m()\u001b[0m\n",
      "\u001b[0;32mpandas/_libs/parsers.pyx\u001b[0m in \u001b[0;36mpandas._libs.parsers.TextReader._tokenize_rows\u001b[0;34m()\u001b[0m\n",
      "\u001b[0;32mpandas/_libs/parsers.pyx\u001b[0m in \u001b[0;36mpandas._libs.parsers.raise_parser_error\u001b[0;34m()\u001b[0m\n",
      "\u001b[0;31mParserError\u001b[0m: Error tokenizing data. C error: Calling read(nbytes) on source failed. Try engine='python'."
     ]
    }
   ],
   "source": [
    "# Chargement des données MovieLens\n",
    "fname_links =\"/Users/Nathanbrami/Desktop/3I026/projet/ml-20m\"\n",
    "links = pd.read_csv(fname_links, encoding='utf8')\n",
    "links.head()"
   ]
  },
  {
   "cell_type": "code",
   "execution_count": null,
   "metadata": {},
   "outputs": [],
   "source": [
    "print(\"Il y a\", len(links), \"exemples dans la base links.\")"
   ]
  },
  {
   "cell_type": "code",
   "execution_count": null,
   "metadata": {},
   "outputs": [],
   "source": [
    "# Chargement des données MovieLens\n",
    "fname_movies =\"C:/Users/oussamasahli/3i026/projet/ml-20m/movies.csv\"\n",
    "movies = pd.read_csv(fname_movies, encoding='utf8')\n",
    "movies.head()"
   ]
  },
  {
   "cell_type": "code",
   "execution_count": null,
   "metadata": {},
   "outputs": [],
   "source": [
    "print(\"Il y a\", len(movies), \"exemples dans la base movies.\")"
   ]
  },
  {
   "cell_type": "code",
   "execution_count": 6,
   "metadata": {},
   "outputs": [
    {
     "ename": "FileNotFoundError",
     "evalue": "[Errno 2] File b'C:/Users/oussamasahli/3i026/projet/ml-20m/ratings.csv' does not exist: b'C:/Users/oussamasahli/3i026/projet/ml-20m/ratings.csv'",
     "output_type": "error",
     "traceback": [
      "\u001b[0;31m---------------------------------------------------------------------------\u001b[0m",
      "\u001b[0;31mFileNotFoundError\u001b[0m                         Traceback (most recent call last)",
      "\u001b[0;32m<ipython-input-6-e136a29d52ba>\u001b[0m in \u001b[0;36m<module>\u001b[0;34m\u001b[0m\n\u001b[1;32m      2\u001b[0m \u001b[0;31m#la note attribué par chacun des internautes aux différents films\u001b[0m\u001b[0;34m\u001b[0m\u001b[0;34m\u001b[0m\u001b[0;34m\u001b[0m\u001b[0m\n\u001b[1;32m      3\u001b[0m \u001b[0mfname_ratings\u001b[0m \u001b[0;34m=\u001b[0m\u001b[0;34m\"C:/Users/oussamasahli/3i026/projet/ml-20m/ratings.csv\"\u001b[0m\u001b[0;34m\u001b[0m\u001b[0;34m\u001b[0m\u001b[0m\n\u001b[0;32m----> 4\u001b[0;31m \u001b[0mratings\u001b[0m \u001b[0;34m=\u001b[0m \u001b[0mpd\u001b[0m\u001b[0;34m.\u001b[0m\u001b[0mread_csv\u001b[0m\u001b[0;34m(\u001b[0m\u001b[0mfname_ratings\u001b[0m\u001b[0;34m,\u001b[0m \u001b[0mencoding\u001b[0m\u001b[0;34m=\u001b[0m\u001b[0;34m'utf8'\u001b[0m\u001b[0;34m)\u001b[0m\u001b[0;34m\u001b[0m\u001b[0;34m\u001b[0m\u001b[0m\n\u001b[0m\u001b[1;32m      5\u001b[0m \u001b[0mratings\u001b[0m\u001b[0;34m.\u001b[0m\u001b[0mhead\u001b[0m\u001b[0;34m(\u001b[0m\u001b[0;34m)\u001b[0m\u001b[0;34m\u001b[0m\u001b[0;34m\u001b[0m\u001b[0m\n",
      "\u001b[0;32m/Library/Frameworks/Python.framework/Versions/3.7/lib/python3.7/site-packages/pandas/io/parsers.py\u001b[0m in \u001b[0;36mparser_f\u001b[0;34m(filepath_or_buffer, sep, delimiter, header, names, index_col, usecols, squeeze, prefix, mangle_dupe_cols, dtype, engine, converters, true_values, false_values, skipinitialspace, skiprows, skipfooter, nrows, na_values, keep_default_na, na_filter, verbose, skip_blank_lines, parse_dates, infer_datetime_format, keep_date_col, date_parser, dayfirst, iterator, chunksize, compression, thousands, decimal, lineterminator, quotechar, quoting, doublequote, escapechar, comment, encoding, dialect, tupleize_cols, error_bad_lines, warn_bad_lines, delim_whitespace, low_memory, memory_map, float_precision)\u001b[0m\n\u001b[1;32m    700\u001b[0m                     skip_blank_lines=skip_blank_lines)\n\u001b[1;32m    701\u001b[0m \u001b[0;34m\u001b[0m\u001b[0m\n\u001b[0;32m--> 702\u001b[0;31m         \u001b[0;32mreturn\u001b[0m \u001b[0m_read\u001b[0m\u001b[0;34m(\u001b[0m\u001b[0mfilepath_or_buffer\u001b[0m\u001b[0;34m,\u001b[0m \u001b[0mkwds\u001b[0m\u001b[0;34m)\u001b[0m\u001b[0;34m\u001b[0m\u001b[0;34m\u001b[0m\u001b[0m\n\u001b[0m\u001b[1;32m    703\u001b[0m \u001b[0;34m\u001b[0m\u001b[0m\n\u001b[1;32m    704\u001b[0m     \u001b[0mparser_f\u001b[0m\u001b[0;34m.\u001b[0m\u001b[0m__name__\u001b[0m \u001b[0;34m=\u001b[0m \u001b[0mname\u001b[0m\u001b[0;34m\u001b[0m\u001b[0;34m\u001b[0m\u001b[0m\n",
      "\u001b[0;32m/Library/Frameworks/Python.framework/Versions/3.7/lib/python3.7/site-packages/pandas/io/parsers.py\u001b[0m in \u001b[0;36m_read\u001b[0;34m(filepath_or_buffer, kwds)\u001b[0m\n\u001b[1;32m    427\u001b[0m \u001b[0;34m\u001b[0m\u001b[0m\n\u001b[1;32m    428\u001b[0m     \u001b[0;31m# Create the parser.\u001b[0m\u001b[0;34m\u001b[0m\u001b[0;34m\u001b[0m\u001b[0;34m\u001b[0m\u001b[0m\n\u001b[0;32m--> 429\u001b[0;31m     \u001b[0mparser\u001b[0m \u001b[0;34m=\u001b[0m \u001b[0mTextFileReader\u001b[0m\u001b[0;34m(\u001b[0m\u001b[0mfilepath_or_buffer\u001b[0m\u001b[0;34m,\u001b[0m \u001b[0;34m**\u001b[0m\u001b[0mkwds\u001b[0m\u001b[0;34m)\u001b[0m\u001b[0;34m\u001b[0m\u001b[0;34m\u001b[0m\u001b[0m\n\u001b[0m\u001b[1;32m    430\u001b[0m \u001b[0;34m\u001b[0m\u001b[0m\n\u001b[1;32m    431\u001b[0m     \u001b[0;32mif\u001b[0m \u001b[0mchunksize\u001b[0m \u001b[0;32mor\u001b[0m \u001b[0miterator\u001b[0m\u001b[0;34m:\u001b[0m\u001b[0;34m\u001b[0m\u001b[0;34m\u001b[0m\u001b[0m\n",
      "\u001b[0;32m/Library/Frameworks/Python.framework/Versions/3.7/lib/python3.7/site-packages/pandas/io/parsers.py\u001b[0m in \u001b[0;36m__init__\u001b[0;34m(self, f, engine, **kwds)\u001b[0m\n\u001b[1;32m    893\u001b[0m             \u001b[0mself\u001b[0m\u001b[0;34m.\u001b[0m\u001b[0moptions\u001b[0m\u001b[0;34m[\u001b[0m\u001b[0;34m'has_index_names'\u001b[0m\u001b[0;34m]\u001b[0m \u001b[0;34m=\u001b[0m \u001b[0mkwds\u001b[0m\u001b[0;34m[\u001b[0m\u001b[0;34m'has_index_names'\u001b[0m\u001b[0;34m]\u001b[0m\u001b[0;34m\u001b[0m\u001b[0;34m\u001b[0m\u001b[0m\n\u001b[1;32m    894\u001b[0m \u001b[0;34m\u001b[0m\u001b[0m\n\u001b[0;32m--> 895\u001b[0;31m         \u001b[0mself\u001b[0m\u001b[0;34m.\u001b[0m\u001b[0m_make_engine\u001b[0m\u001b[0;34m(\u001b[0m\u001b[0mself\u001b[0m\u001b[0;34m.\u001b[0m\u001b[0mengine\u001b[0m\u001b[0;34m)\u001b[0m\u001b[0;34m\u001b[0m\u001b[0;34m\u001b[0m\u001b[0m\n\u001b[0m\u001b[1;32m    896\u001b[0m \u001b[0;34m\u001b[0m\u001b[0m\n\u001b[1;32m    897\u001b[0m     \u001b[0;32mdef\u001b[0m \u001b[0mclose\u001b[0m\u001b[0;34m(\u001b[0m\u001b[0mself\u001b[0m\u001b[0;34m)\u001b[0m\u001b[0;34m:\u001b[0m\u001b[0;34m\u001b[0m\u001b[0;34m\u001b[0m\u001b[0m\n",
      "\u001b[0;32m/Library/Frameworks/Python.framework/Versions/3.7/lib/python3.7/site-packages/pandas/io/parsers.py\u001b[0m in \u001b[0;36m_make_engine\u001b[0;34m(self, engine)\u001b[0m\n\u001b[1;32m   1120\u001b[0m     \u001b[0;32mdef\u001b[0m \u001b[0m_make_engine\u001b[0m\u001b[0;34m(\u001b[0m\u001b[0mself\u001b[0m\u001b[0;34m,\u001b[0m \u001b[0mengine\u001b[0m\u001b[0;34m=\u001b[0m\u001b[0;34m'c'\u001b[0m\u001b[0;34m)\u001b[0m\u001b[0;34m:\u001b[0m\u001b[0;34m\u001b[0m\u001b[0;34m\u001b[0m\u001b[0m\n\u001b[1;32m   1121\u001b[0m         \u001b[0;32mif\u001b[0m \u001b[0mengine\u001b[0m \u001b[0;34m==\u001b[0m \u001b[0;34m'c'\u001b[0m\u001b[0;34m:\u001b[0m\u001b[0;34m\u001b[0m\u001b[0;34m\u001b[0m\u001b[0m\n\u001b[0;32m-> 1122\u001b[0;31m             \u001b[0mself\u001b[0m\u001b[0;34m.\u001b[0m\u001b[0m_engine\u001b[0m \u001b[0;34m=\u001b[0m \u001b[0mCParserWrapper\u001b[0m\u001b[0;34m(\u001b[0m\u001b[0mself\u001b[0m\u001b[0;34m.\u001b[0m\u001b[0mf\u001b[0m\u001b[0;34m,\u001b[0m \u001b[0;34m**\u001b[0m\u001b[0mself\u001b[0m\u001b[0;34m.\u001b[0m\u001b[0moptions\u001b[0m\u001b[0;34m)\u001b[0m\u001b[0;34m\u001b[0m\u001b[0;34m\u001b[0m\u001b[0m\n\u001b[0m\u001b[1;32m   1123\u001b[0m         \u001b[0;32melse\u001b[0m\u001b[0;34m:\u001b[0m\u001b[0;34m\u001b[0m\u001b[0;34m\u001b[0m\u001b[0m\n\u001b[1;32m   1124\u001b[0m             \u001b[0;32mif\u001b[0m \u001b[0mengine\u001b[0m \u001b[0;34m==\u001b[0m \u001b[0;34m'python'\u001b[0m\u001b[0;34m:\u001b[0m\u001b[0;34m\u001b[0m\u001b[0;34m\u001b[0m\u001b[0m\n",
      "\u001b[0;32m/Library/Frameworks/Python.framework/Versions/3.7/lib/python3.7/site-packages/pandas/io/parsers.py\u001b[0m in \u001b[0;36m__init__\u001b[0;34m(self, src, **kwds)\u001b[0m\n\u001b[1;32m   1851\u001b[0m         \u001b[0mkwds\u001b[0m\u001b[0;34m[\u001b[0m\u001b[0;34m'usecols'\u001b[0m\u001b[0;34m]\u001b[0m \u001b[0;34m=\u001b[0m \u001b[0mself\u001b[0m\u001b[0;34m.\u001b[0m\u001b[0musecols\u001b[0m\u001b[0;34m\u001b[0m\u001b[0;34m\u001b[0m\u001b[0m\n\u001b[1;32m   1852\u001b[0m \u001b[0;34m\u001b[0m\u001b[0m\n\u001b[0;32m-> 1853\u001b[0;31m         \u001b[0mself\u001b[0m\u001b[0;34m.\u001b[0m\u001b[0m_reader\u001b[0m \u001b[0;34m=\u001b[0m \u001b[0mparsers\u001b[0m\u001b[0;34m.\u001b[0m\u001b[0mTextReader\u001b[0m\u001b[0;34m(\u001b[0m\u001b[0msrc\u001b[0m\u001b[0;34m,\u001b[0m \u001b[0;34m**\u001b[0m\u001b[0mkwds\u001b[0m\u001b[0;34m)\u001b[0m\u001b[0;34m\u001b[0m\u001b[0;34m\u001b[0m\u001b[0m\n\u001b[0m\u001b[1;32m   1854\u001b[0m         \u001b[0mself\u001b[0m\u001b[0;34m.\u001b[0m\u001b[0munnamed_cols\u001b[0m \u001b[0;34m=\u001b[0m \u001b[0mself\u001b[0m\u001b[0;34m.\u001b[0m\u001b[0m_reader\u001b[0m\u001b[0;34m.\u001b[0m\u001b[0munnamed_cols\u001b[0m\u001b[0;34m\u001b[0m\u001b[0;34m\u001b[0m\u001b[0m\n\u001b[1;32m   1855\u001b[0m \u001b[0;34m\u001b[0m\u001b[0m\n",
      "\u001b[0;32mpandas/_libs/parsers.pyx\u001b[0m in \u001b[0;36mpandas._libs.parsers.TextReader.__cinit__\u001b[0;34m()\u001b[0m\n",
      "\u001b[0;32mpandas/_libs/parsers.pyx\u001b[0m in \u001b[0;36mpandas._libs.parsers.TextReader._setup_parser_source\u001b[0;34m()\u001b[0m\n",
      "\u001b[0;31mFileNotFoundError\u001b[0m: [Errno 2] File b'C:/Users/oussamasahli/3i026/projet/ml-20m/ratings.csv' does not exist: b'C:/Users/oussamasahli/3i026/projet/ml-20m/ratings.csv'"
     ]
    }
   ],
   "source": [
    "# Chargement des données MovieLens  , rating -> score \n",
    "#la note attribué par chacun des internautes aux différents films\n",
    "fname_ratings =\"C:/Users/oussamasahli/3i026/projet/ml-20m/ratings.csv\"\n",
    "ratings = pd.read_csv(fname_ratings, encoding='utf8')\n",
    "ratings.head()"
   ]
  },
  {
   "cell_type": "code",
   "execution_count": null,
   "metadata": {},
   "outputs": [],
   "source": [
    "print(\"Il y a\", len(ratings), \"exemples dans la base ratings.\")"
   ]
  },
  {
   "cell_type": "code",
   "execution_count": null,
   "metadata": {},
   "outputs": [],
   "source": [
    "# Chargement des données MovieLens\n",
    "#les internautes attributs un tag à chacun ds films qu'ils ont vues\n",
    "fname_tags =\"C:/Users/oussamasahli/3i026/projet/ml-20m/tags.csv\"\n",
    "tags = pd.read_csv(fname_tags, encoding='utf8')\n",
    "tags.head()"
   ]
  },
  {
   "cell_type": "code",
   "execution_count": null,
   "metadata": {},
   "outputs": [],
   "source": [
    "print(\"Il y a\", len(tags), \"exemples dans la base tags.\")"
   ]
  },
  {
   "cell_type": "code",
   "execution_count": null,
   "metadata": {},
   "outputs": [],
   "source": [
    "# Chargement des données MovieLens\n",
    "fname_genome_tags =\"C:/Users/oussamasahli/3i026/projet/ml-20m/genome-tags.csv\"\n",
    "genome_tags = pd.read_csv(fname_genome_tags, encoding='utf8')\n",
    "genome_tags.head()\n"
   ]
  },
  {
   "cell_type": "code",
   "execution_count": null,
   "metadata": {},
   "outputs": [],
   "source": [
    "print(\"Il y a\", len(genome_tags), \"exemples dans la base genome_tags.\")"
   ]
  },
  {
   "cell_type": "code",
   "execution_count": null,
   "metadata": {},
   "outputs": [],
   "source": [
    "# Chargement des données MovieLens , relevance =pertinance \n",
    "fname_genome_scores =\"C:/Users/oussamasahli/3i026/projet/ml-20m/genome-scores.csv\"\n",
    "genome_scores = pd.read_csv(fname_genome_scores, encoding='utf8')\n",
    "print(\"Il y a\", len(genome_scores), \"exemples dans la base genome_scores.\")\n",
    "genome_scores.head()"
   ]
  },
  {
   "cell_type": "code",
   "execution_count": null,
   "metadata": {},
   "outputs": [],
   "source": [
    "print(\"Il y a\", len(genome_scores), \"exemples dans la base genome_scores.\")\n"
   ]
  },
  {
   "cell_type": "code",
   "execution_count": null,
   "metadata": {},
   "outputs": [],
   "source": [
    "# Chargement des données complémentaires , liste de liste de dictionnaire donnant des infos sur les acteur de chaque films\n",
    "fname_acteurs =\"C:/Users/oussamasahli/3i026/projet/ml-20m/act_v2.pkl\"\n",
    "acteurs = pkl.load(open(fname_acteurs, \"rb\"))\n",
    "acteurs[0][0]"
   ]
  },
  {
   "cell_type": "code",
   "execution_count": null,
   "metadata": {},
   "outputs": [],
   "source": [
    "#attention dans chacunes de ces 26908 listes il y a plusieurs dico , dont chaque dico correspond à un acteurs\n",
    "print(\"Il y a\", len(acteurs), \"exemples dans la base acteurs.\")"
   ]
  },
  {
   "cell_type": "code",
   "execution_count": null,
   "metadata": {},
   "outputs": [],
   "source": [
    "# Chargement des données complémentaires  , liste de liste de dictionnaire donnant des infos sur description des equipes\n",
    "fname_crews =\"C:/Users/oussamasahli/3i026/projet/ml-20m/crew_v2.pkl\"\n",
    "crews = pkl.load(open(fname_crews, \"rb\"))\n",
    "crews[0][0]\n",
    "#chaque liste de cette base contient une liste de dico , où chaque dico est asscocié à un membre de l'équipe\n",
    "#il y a autant de liste que de films\n",
    "#pour chaque films on decrit la liste de lequipe qui l'a réalisé"
   ]
  },
  {
   "cell_type": "code",
   "execution_count": null,
   "metadata": {},
   "outputs": [],
   "source": [
    "print(\"Il y a\", len(crews), \"exemples dans la base crews.\")"
   ]
  },
  {
   "cell_type": "code",
   "execution_count": null,
   "metadata": {},
   "outputs": [],
   "source": [
    "# Chargement des données complémentaires  , liste de dictionnaires donnant des infos sur nouvelles descriptions des films\n",
    "fname_movies2 =\"C:/Users/oussamasahli/3i026/projet/ml-20m/film_v2.pkl\"\n",
    "movies2 = pkl.load(open(fname_movies2, \"rb\"))\n",
    "movies2[0]\n"
   ]
  },
  {
   "cell_type": "code",
   "execution_count": null,
   "metadata": {},
   "outputs": [],
   "source": [
    "print(\"Il y a\", len(movies2), \"exemples dans la base movies2.\")"
   ]
  },
  {
   "cell_type": "raw",
   "metadata": {},
   "source": [
    "Les contraintes de récupération d'informations en ligne font que la base MovieLens compte 27278 films mais les fichiers ci-dessus n'en comptent que 26908. Le plus simple est probablement d'éliminer les films de MovieLens qui ne sont pas dans cette seconde base"
   ]
  },
  {
   "cell_type": "code",
   "execution_count": null,
   "metadata": {},
   "outputs": [],
   "source": [
    "m=movies['movieId']==862\n",
    "movies[m]"
   ]
  },
  {
   "cell_type": "code",
   "execution_count": null,
   "metadata": {},
   "outputs": [],
   "source": [
    "#on va construire un liste contenant les id des  films de la base 2 , afin denlever les id des films de la base1 (movies)\n",
    "#qui ne sont pas dans la base 2\n",
    "listes_id_base2=[]\n",
    "\n",
    "for i in range(0,len(movies2)):\n",
    "    dico=movies2[i]\n",
    "    listes_id_base2.append(dico['id'])\n",
    "\n",
    "ids_base2=np.unique(listes_id_base2)\n",
    "ids_base2.sort()\n",
    "ids_base1=np.unique(movies[\"movieId\"].values)\n",
    "\n",
    "#ids_diffs=np.setdiff1d(ids_base1, ids_base2)\n",
    "#print(len(ids_diffs))\n"
   ]
  },
  {
   "cell_type": "markdown",
   "metadata": {},
   "source": [
    "dans la base moviLens original on a 27278 exemple\n",
    "dans la base 2 (celle où il y a plus de description sur le film)  il y a 26908 exemple\n",
    "quand je fais la difference entre ces deux ensembles , jen obtient 22435 exemples de la base original quine sont pas dans la base2\n",
    "ce resultat est faux parceque en fait les id ds films de la base original et ceux de la base 2 ne sont pas identique pour \n",
    "le meme film"
   ]
  },
  {
   "cell_type": "markdown",
   "metadata": {},
   "source": [
    "Cest parceque en fait les ids de la base2 sont décrit par la colonne tmdbId dans la base links (où chaque liens est associé \n",
    "à un fillm )."
   ]
  },
  {
   "cell_type": "code",
   "execution_count": null,
   "metadata": {},
   "outputs": [],
   "source": [
    "tmdbids_base1=np.unique(links[\"tmdbId\"].values)\n",
    "#jenleve les valeurs nan\n",
    "tmdbids_base1= tmdbids_base1[np.logical_not(np.isnan(tmdbids_base1))] \n",
    "print(len(tmdbids_base1))\n",
    "#Certain films nont pas de tmdbid ->valeur nan"
   ]
  },
  {
   "cell_type": "code",
   "execution_count": 7,
   "metadata": {},
   "outputs": [
    {
     "ename": "NameError",
     "evalue": "name 'tmdbids_base1' is not defined",
     "output_type": "error",
     "traceback": [
      "\u001b[0;31m---------------------------------------------------------------------------\u001b[0m",
      "\u001b[0;31mNameError\u001b[0m                                 Traceback (most recent call last)",
      "\u001b[0;32m<ipython-input-7-db4a4d4839a2>\u001b[0m in \u001b[0;36m<module>\u001b[0;34m\u001b[0m\n\u001b[0;32m----> 1\u001b[0;31m \u001b[0mtmdbids_base1\u001b[0m\u001b[0;34m.\u001b[0m\u001b[0msort\u001b[0m\u001b[0;34m(\u001b[0m\u001b[0;34m)\u001b[0m\u001b[0;34m\u001b[0m\u001b[0;34m\u001b[0m\u001b[0m\n\u001b[0m\u001b[1;32m      2\u001b[0m \u001b[0;31m#ids_base2=ids_base2.astype(float)\u001b[0m\u001b[0;34m\u001b[0m\u001b[0;34m\u001b[0m\u001b[0;34m\u001b[0m\u001b[0m\n\u001b[1;32m      3\u001b[0m \u001b[0mids_diffs\u001b[0m\u001b[0;34m=\u001b[0m\u001b[0mnp\u001b[0m\u001b[0;34m.\u001b[0m\u001b[0msetdiff1d\u001b[0m\u001b[0;34m(\u001b[0m\u001b[0mtmdbids_base1\u001b[0m\u001b[0;34m,\u001b[0m \u001b[0mids_base2\u001b[0m\u001b[0;34m)\u001b[0m\u001b[0;34m\u001b[0m\u001b[0;34m\u001b[0m\u001b[0m\n\u001b[1;32m      4\u001b[0m \u001b[0mprint\u001b[0m\u001b[0;34m(\u001b[0m\u001b[0;34m\"il y a \"\u001b[0m\u001b[0;34m,\u001b[0m\u001b[0mlen\u001b[0m\u001b[0;34m(\u001b[0m\u001b[0mids_diffs\u001b[0m\u001b[0;34m)\u001b[0m\u001b[0;34m,\u001b[0m\u001b[0;34m\" films de la base originale Movielens(movies) qui ne sont pas dans la base movies2\"\u001b[0m\u001b[0;34m)\u001b[0m\u001b[0;34m\u001b[0m\u001b[0;34m\u001b[0m\u001b[0m\n",
      "\u001b[0;31mNameError\u001b[0m: name 'tmdbids_base1' is not defined"
     ]
    }
   ],
   "source": [
    "tmdbids_base1.sort()\n",
    "#ids_base2=ids_base2.astype(float)\n",
    "ids_diffs=np.setdiff1d(tmdbids_base1, ids_base2)\n",
    "print(\"il y a \",len(ids_diffs),\" films de la base originale Movielens(movies) qui ne sont pas dans la base movies2\")"
   ]
  },
  {
   "cell_type": "markdown",
   "metadata": {},
   "source": [
    "je retire tous les tmdbids de links qui sont dans ids_diffs"
   ]
  },
  {
   "cell_type": "code",
   "execution_count": null,
   "metadata": {},
   "outputs": [],
   "source": [
    "tmdbids_garder=np.setdiff1d(tmdbids_base1, ids_diffs)\n",
    "print(\"on ne garde que \",len(tmdbids_garder),\" films de la base movilens originale\")\n",
    "#cest normal quon n'en pas 26908 car certains tmbdid sont nuls dans la base links"
   ]
  },
  {
   "cell_type": "code",
   "execution_count": null,
   "metadata": {},
   "outputs": [],
   "source": [
    "tmdbids_garder"
   ]
  },
  {
   "cell_type": "code",
   "execution_count": null,
   "metadata": {},
   "outputs": [],
   "source": [
    "#nouvelle base links avec que les ids de films quon garde\n",
    "frame=[]\n",
    "\n",
    "for x in tmdbids_garder:\n",
    "    m=(links['tmdbId'] ==x)\n",
    "    frame.append(links[m])\n",
    "\n",
    "res=pd.concat(frame)\n",
    "res=res.sort_index(axis = 0)\n",
    "res.head()\n"
   ]
  },
  {
   "cell_type": "code",
   "execution_count": null,
   "metadata": {},
   "outputs": [],
   "source": [
    "#ca va me permettre de garder que les titre des film sans les annnées en paranthèses\n",
    "r=movies[movies[\"movieId\"]==5][\"title\"].values[0]\n",
    "tab=r.split('(')\n",
    "tab[0]"
   ]
  },
  {
   "cell_type": "code",
   "execution_count": null,
   "metadata": {},
   "outputs": [],
   "source": [
    "r=movies[movies[\"movieId\"]==5][\"movieId\"].values[0]\n",
    "r\n"
   ]
  },
  {
   "cell_type": "code",
   "execution_count": null,
   "metadata": {},
   "outputs": [],
   "source": [
    "\n",
    "my_ids=np.unique(res[\"movieId\"])\n",
    "tab_movie_ids=[]\n",
    "tab_title=[]\n",
    "tab_genre=[]\n",
    "\n",
    "for x in my_ids:\n",
    "    m=(movies['movieId'] ==x)\n",
    "    ligne=movies[m]\n",
    "    tab_movie_ids.append(ligne[\"movieId\"].values[0])\n",
    "    tab_title.append(ligne[\"title\"].values[0].split('(')[0].strip())  #strip permet denlever les espaces à la fin et au debut de la chaine\n",
    "    tab_genre.append(ligne[\"genres\"].values[0])\n",
    "\n",
    "\n"
   ]
  },
  {
   "cell_type": "code",
   "execution_count": null,
   "metadata": {},
   "outputs": [],
   "source": [
    "MoviesSansParenthese= pd.DataFrame({'movieId': tab_movie_ids, 'title':tab_title, 'genres':tab_genre})"
   ]
  },
  {
   "cell_type": "markdown",
   "metadata": {},
   "source": [
    "La base MoviesSansParenthese va nous permettre plus loin , de pouvoir associé les ids_genres aux genres à qui \n",
    "ils font références"
   ]
  },
  {
   "cell_type": "code",
   "execution_count": null,
   "metadata": {},
   "outputs": [],
   "source": [
    "MoviesSansParenthese.head()"
   ]
  },
  {
   "cell_type": "code",
   "execution_count": null,
   "metadata": {},
   "outputs": [],
   "source": [
    "print('Il y a ',len(MoviesSansParenthese),'exemples dans la base MoviesSansParenthese')"
   ]
  },
  {
   "cell_type": "code",
   "execution_count": null,
   "metadata": {},
   "outputs": [],
   "source": [
    "my_ids=np.unique(res[\"movieId\"])\n",
    "frame=[]\n",
    "\n",
    "for x in my_ids:\n",
    "    m=(movies['movieId'] ==x)\n",
    "    frame.append(movies[m])\n",
    "\n",
    "New_movieLens=pd.concat(frame)\n",
    "New_movieLens=New_movieLens.sort_index(axis = 0)\n",
    "\n"
   ]
  },
  {
   "cell_type": "code",
   "execution_count": null,
   "metadata": {},
   "outputs": [],
   "source": [
    "New_movieLens.head()"
   ]
  },
  {
   "cell_type": "code",
   "execution_count": null,
   "metadata": {},
   "outputs": [],
   "source": [
    "print(\"Il y a \",len(New_movieLens),\" exemples dans ma nouvelle base New_movieLens\")"
   ]
  },
  {
   "cell_type": "markdown",
   "metadata": {},
   "source": [
    "## Feature engineering\n",
    "A vous de créer les caractéristiques de description des données qui permettront d'améliorer les performances dans les tâches que vous aurez choisi d'aborder dans le projet."
   ]
  },
  {
   "cell_type": "code",
   "execution_count": null,
   "metadata": {},
   "outputs": [],
   "source": [
    "# Faire un dictionnaire avec tous les acteurs (acteur => indice)\n",
    "# + un dictionnaire inversé (indice => acteur)\n",
    "actors = dict()\n",
    "actors_inv = dict()\n",
    "for lista in acteurs:\n",
    "    for a in lista:\n",
    "        # affecte une valeur à une clé si la clé n'est pas utilisée\n",
    "        res = actors.setdefault(a['name'], len(actors))\n",
    "        if res == len(actors)-1:\n",
    "            actors_inv[len(actors)-1] = a['name']\n",
    "\n",
    "# Exemple de transformation supplémentaire\n",
    "# Dans combien de films de base joue Tom Hanks? (Réponse 57)\n",
    "# Dans combien de comédies...\n",
    "\n",
    "# => On voit qu'il est possible de créer facilement des nouvelles caractéristiques qui\n",
    "# apporteront des informations utiles pour certaines tâches"
   ]
  },
  {
   "cell_type": "code",
   "execution_count": null,
   "metadata": {},
   "outputs": [],
   "source": [
    "#cest un dictionnaire contenant le noms des acteurs\n",
    "print(\"Il y a\", len(actors_inv), \"exemples dans la base actors_inv.\")\n",
    "print(actors_inv[0])"
   ]
  },
  {
   "cell_type": "code",
   "execution_count": null,
   "metadata": {},
   "outputs": [],
   "source": [
    "# Dans combien de films de base joue Tom Hanks? (Réponse 57)\n",
    "cpt=0\n",
    "for lista in acteurs:\n",
    "    for a in lista:\n",
    "        if(a['name']=='Tom Hanks'):\n",
    "            cpt=cpt+1\n",
    "print(\"Tom Hanks a joué dans \",cpt,\" films\")"
   ]
  },
  {
   "cell_type": "code",
   "execution_count": null,
   "metadata": {},
   "outputs": [],
   "source": [
    "categories=np.unique(New_movieLens['genres'])\n",
    "print(\"il y a \",len(categories),\"catégories différentes de films\")"
   ]
  },
  {
   "cell_type": "markdown",
   "metadata": {},
   "source": [
    "En fait il y en a 19 mais certaines sont rassemblé avec des |"
   ]
  },
  {
   "cell_type": "markdown",
   "metadata": {},
   "source": [
    "Regression Linéaire\n",
    "etape1:\n",
    "on cherche à prédire la note moyenne donné à un film par les internautes\n"
   ]
  },
  {
   "cell_type": "code",
   "execution_count": null,
   "metadata": {},
   "outputs": [],
   "source": [
    "movies2[0]\n"
   ]
  },
  {
   "cell_type": "code",
   "execution_count": null,
   "metadata": {},
   "outputs": [],
   "source": [
    "notes_moyennes=dict()\n",
    "for film in movies2:\n",
    "    notes_moyennes[film['title']]=film['vote_average']\n",
    "\n",
    "#affichage du debut du dico\n",
    "i=0\n",
    "n=5\n",
    "for cle in notes_moyennes:\n",
    "    print('le film  ',cle,' a obtenue une note de ',notes_moyennes[cle])\n",
    "    if(i==n):\n",
    "        break\n",
    "    i=i+1"
   ]
  },
  {
   "cell_type": "markdown",
   "metadata": {},
   "source": [
    "On constate que les notes sont comprisent entre 0 et 10 ,alors que les notes attribuées par le public sont comprises\n",
    "entre 0 et 5 dans la base ratings"
   ]
  },
  {
   "cell_type": "code",
   "execution_count": null,
   "metadata": {},
   "outputs": [],
   "source": [
    "#je vais reconstituer la note du film toy storie dont le movieId=1\n",
    "m=ratings[\"movieId\"]==1\n",
    "notes=np.array(ratings[m][\"rating\"])\n",
    "notes\n",
    "s=0\n",
    "for note in notes:\n",
    "    s=s+note\n",
    "    \n",
    "print('le film Toy Storie a obtenue un note moyenne de ',s/len(notes),'/5 ')\n",
    "print('le film Toy Storie a obtenue un note moyenne de ',s/len(notes)*2,'/10 ')"
   ]
  },
  {
   "cell_type": "markdown",
   "metadata": {},
   "source": [
    "on va visualiser la note moyenne attribuée à un film en fonction de sa popularitée"
   ]
  },
  {
   "cell_type": "code",
   "execution_count": null,
   "metadata": {},
   "outputs": [],
   "source": [
    "notes_moyennes= []\n",
    "popularites=[]\n",
    "cle='popularity' # certain film nont pas dattribut popularity (2 seulement)\n",
    "\n",
    "for film in movies2:\n",
    "    if cle in film:\n",
    "        popularites.append(film['popularity'])\n",
    "        notes_moyennes.append(film['vote_average'])\n",
    "\n",
    "notes_moyennes=np.array(notes_moyennes)\n",
    "popularites=np.array(popularites)\n"
   ]
  },
  {
   "cell_type": "code",
   "execution_count": null,
   "metadata": {},
   "outputs": [],
   "source": [
    "\"\"\" ici je visualise la note moyenne des films en fonction de leus popularitées\n",
    "\"\"\"\n",
    "\n",
    "colors=np.random.rand(len(popularites))\n",
    "area= np.pi * (15 * np.random.rand(len(popularites)))**2\n",
    "#En abcisse on veut les popularites , et en ordonnée les notes\n",
    "plt.scatter(popularites,notes_moyennes,s=area, c=colors, alpha=0.5)\n",
    "\n",
    "plt.title('Note en fonction de la popularité')\n",
    "plt.xlabel('popularity')\n",
    "plt.ylabel('note_moyenne')\n",
    "plt.show()"
   ]
  },
  {
   "cell_type": "markdown",
   "metadata": {},
   "source": [
    "on observe une linéarité des points -- > on peut dire que plus la popularité est élevée et meilleur\n",
    "sera la note_moyenne"
   ]
  },
  {
   "cell_type": "code",
   "execution_count": 4,
   "metadata": {},
   "outputs": [
    {
     "ename": "NameError",
     "evalue": "name 'movies2' is not defined",
     "output_type": "error",
     "traceback": [
      "\u001b[0;31m---------------------------------------------------------------------------\u001b[0m",
      "\u001b[0;31mNameError\u001b[0m                                 Traceback (most recent call last)",
      "\u001b[0;32m<ipython-input-4-aea257a6ded0>\u001b[0m in \u001b[0;36m<module>\u001b[0;34m\u001b[0m\n\u001b[1;32m      3\u001b[0m \u001b[0mcle\u001b[0m\u001b[0;34m=\u001b[0m\u001b[0;34m'popularity'\u001b[0m \u001b[0;31m# certain film nont pas dattribut popularity (2 seulement)\u001b[0m\u001b[0;34m\u001b[0m\u001b[0;34m\u001b[0m\u001b[0m\n\u001b[1;32m      4\u001b[0m \u001b[0;34m\u001b[0m\u001b[0m\n\u001b[0;32m----> 5\u001b[0;31m \u001b[0;32mfor\u001b[0m \u001b[0mfilm\u001b[0m \u001b[0;32min\u001b[0m \u001b[0mmovies2\u001b[0m\u001b[0;34m:\u001b[0m\u001b[0;34m\u001b[0m\u001b[0;34m\u001b[0m\u001b[0m\n\u001b[0m\u001b[1;32m      6\u001b[0m     \u001b[0;32mif\u001b[0m \u001b[0mcle\u001b[0m \u001b[0;32min\u001b[0m \u001b[0mfilm\u001b[0m\u001b[0;34m:\u001b[0m\u001b[0;34m\u001b[0m\u001b[0;34m\u001b[0m\u001b[0m\n\u001b[1;32m      7\u001b[0m         \u001b[0mvotans\u001b[0m\u001b[0;34m.\u001b[0m\u001b[0mappend\u001b[0m\u001b[0;34m(\u001b[0m\u001b[0mfilm\u001b[0m\u001b[0;34m[\u001b[0m\u001b[0;34m'vote_count'\u001b[0m\u001b[0;34m]\u001b[0m\u001b[0;34m)\u001b[0m\u001b[0;34m\u001b[0m\u001b[0;34m\u001b[0m\u001b[0m\n",
      "\u001b[0;31mNameError\u001b[0m: name 'movies2' is not defined"
     ]
    }
   ],
   "source": [
    "notes_moyennes= []\n",
    "votans=[]\n",
    "cle='popularity' # certain film nont pas dattribut popularity (2 seulement)\n",
    "\n",
    "for film in movies2:\n",
    "    if cle in film:\n",
    "        votans.append(film['vote_count'])\n",
    "        notes_moyennes.append(film['vote_average'])\n",
    "\n",
    "notes_moyennes=np.array(notes_moyennes)\n",
    "votans=np.array(votans)\n",
    "\n",
    "\n",
    "\n",
    "\"\"\" ici je visualise la note moyenne des films en fonction du nombres de votants\n",
    "\"\"\"\n",
    "\n",
    "colors=np.random.rand(len(votans))\n",
    "area= np.pi * (15 * np.random.rand(len(votans)))**2\n",
    "#En abcisse on veut les votans , et en ordonnée les notes\n",
    "plt.scatter(votans,notes_moyennes,s=area, c=colors, alpha=0.5)\n",
    "\n",
    "plt.title('Note en fonction du nombre de votant')\n",
    "plt.xlabel('nombre_de_votans')\n",
    "plt.ylabel('note_moyenne')\n",
    "plt.show()"
   ]
  },
  {
   "cell_type": "code",
   "execution_count": null,
   "metadata": {},
   "outputs": [],
   "source": []
  },
  {
   "cell_type": "markdown",
   "metadata": {},
   "source": [
    "On observe que plus les gens aiment un film et + ils seront nombreux à voter"
   ]
  },
  {
   "cell_type": "code",
   "execution_count": 46,
   "metadata": {},
   "outputs": [
    {
     "data": {
      "text/plain": [
       "Text(0.5, 1.0, 'nombres de personnes par notes')"
      ]
     },
     "execution_count": 46,
     "metadata": {},
     "output_type": "execute_result"
    },
    {
     "data": {
      "image/png": "[encoded data removed]",
      "text/plain": [
       "<Figure size 432x288 with 1 Axes>"
      ]
     },
     "metadata": {
      "needs_background": "light"
     },
     "output_type": "display_data"
    }
   ],
   "source": [
    "\"\"\"Ici on visualise le nombre de fois où une note a été donné\"\"\"\n",
    "\n",
    "plt.hist(notes_moyennes,color = 'yellow',edgecolor = 'red')\n",
    "plt.xlabel('note')\n",
    "plt.ylabel('nombres')\n",
    "plt.title('nombres de personnes par notes') "
   ]
  },
  {
   "cell_type": "markdown",
   "metadata": {},
   "source": [
    "On remarque que la plupart des gens mettent une note entre 6 et 8."
   ]
  },
  {
   "cell_type": "markdown",
   "metadata": {},
   "source": [
    "''"
   ]
  },
  {
   "cell_type": "markdown",
   "metadata": {},
   "source": [
    "Etape 2:\n",
    "On va essayer de faire de la classification avec des classifieurs"
   ]
  },
  {
   "cell_type": "markdown",
   "metadata": {},
   "source": [
    "je vais prédire la catégorie dun film à partir des acteurs qui jouent dans ce film .\n",
    "Pour cela il faut regarder pour quel genre de film chaque acteurs est le + succeptible de jouer"
   ]
  },
  {
   "cell_type": "code",
   "execution_count": 47,
   "metadata": {},
   "outputs": [
    {
     "data": {
      "text/html": [
       "<div>\n",
       "<style scoped>\n",
       "    .dataframe tbody tr th:only-of-type {\n",
       "        vertical-align: middle;\n",
       "    }\n",
       "\n",
       "    .dataframe tbody tr th {\n",
       "        vertical-align: top;\n",
       "    }\n",
       "\n",
       "    .dataframe thead th {\n",
       "        text-align: right;\n",
       "    }\n",
       "</style>\n",
       "<table border=\"1\" class=\"dataframe\">\n",
       "  <thead>\n",
       "    <tr style=\"text-align: right;\">\n",
       "      <th></th>\n",
       "      <th>movieId</th>\n",
       "      <th>title</th>\n",
       "      <th>genres</th>\n",
       "    </tr>\n",
       "  </thead>\n",
       "  <tbody>\n",
       "    <tr>\n",
       "      <th>0</th>\n",
       "      <td>1</td>\n",
       "      <td>Toy Story (1995)</td>\n",
       "      <td>Adventure|Animation|Children|Comedy|Fantasy</td>\n",
       "    </tr>\n",
       "    <tr>\n",
       "      <th>1</th>\n",
       "      <td>2</td>\n",
       "      <td>Jumanji (1995)</td>\n",
       "      <td>Adventure|Children|Fantasy</td>\n",
       "    </tr>\n",
       "    <tr>\n",
       "      <th>2</th>\n",
       "      <td>3</td>\n",
       "      <td>Grumpier Old Men (1995)</td>\n",
       "      <td>Comedy|Romance</td>\n",
       "    </tr>\n",
       "    <tr>\n",
       "      <th>3</th>\n",
       "      <td>4</td>\n",
       "      <td>Waiting to Exhale (1995)</td>\n",
       "      <td>Comedy|Drama|Romance</td>\n",
       "    </tr>\n",
       "    <tr>\n",
       "      <th>4</th>\n",
       "      <td>5</td>\n",
       "      <td>Father of the Bride Part II (1995)</td>\n",
       "      <td>Comedy</td>\n",
       "    </tr>\n",
       "  </tbody>\n",
       "</table>\n",
       "</div>"
      ],
      "text/plain": [
       "   movieId                               title  \\\n",
       "0        1                    Toy Story (1995)   \n",
       "1        2                      Jumanji (1995)   \n",
       "2        3             Grumpier Old Men (1995)   \n",
       "3        4            Waiting to Exhale (1995)   \n",
       "4        5  Father of the Bride Part II (1995)   \n",
       "\n",
       "                                        genres  \n",
       "0  Adventure|Animation|Children|Comedy|Fantasy  \n",
       "1                   Adventure|Children|Fantasy  \n",
       "2                               Comedy|Romance  \n",
       "3                         Comedy|Drama|Romance  \n",
       "4                                       Comedy  "
      ]
     },
     "execution_count": 47,
     "metadata": {},
     "output_type": "execute_result"
    }
   ],
   "source": [
    "New_movieLens.head()"
   ]
  },
  {
   "cell_type": "markdown",
   "metadata": {},
   "source": [
    "on observe qu'un film peut être associé à plusieurs catégories"
   ]
  },
  {
   "cell_type": "code",
   "execution_count": 48,
   "metadata": {},
   "outputs": [
    {
     "data": {
      "text/plain": [
       "array(['Adventure|Animation|Children|Comedy|Fantasy',\n",
       "       'Adventure|Children|Fantasy', 'Comedy|Romance', ..., 'Adventure',\n",
       "       '(no genres listed)', 'Adventure|Fantasy|Horror'], dtype=object)"
      ]
     },
     "execution_count": 48,
     "metadata": {},
     "output_type": "execute_result"
    }
   ],
   "source": [
    "genres=New_movieLens[\"genres\"].values\n",
    "genres"
   ]
  },
  {
   "cell_type": "code",
   "execution_count": 49,
   "metadata": {},
   "outputs": [],
   "source": [
    "liste_genres=[]\n",
    "\n",
    "for genre in genres:\n",
    "    if(genre!='(no genres listed)'):\n",
    "        tab=genre.split('|')\n",
    "        for elem in tab:\n",
    "            liste_genres.append(elem)\n",
    "\n",
    "liste_genres=np.unique(liste_genres)"
   ]
  },
  {
   "cell_type": "code",
   "execution_count": 50,
   "metadata": {},
   "outputs": [
    {
     "data": {
      "text/plain": [
       "array(['Action', 'Adventure', 'Animation', 'Children', 'Comedy', 'Crime',\n",
       "       'Documentary', 'Drama', 'Fantasy', 'Film-Noir', 'Horror', 'IMAX',\n",
       "       'Musical', 'Mystery', 'Romance', 'Sci-Fi', 'Thriller', 'War',\n",
       "       'Western'], dtype='<U11')"
      ]
     },
     "execution_count": 50,
     "metadata": {},
     "output_type": "execute_result"
    }
   ],
   "source": [
    "liste_genres"
   ]
  },
  {
   "cell_type": "code",
   "execution_count": 51,
   "metadata": {},
   "outputs": [
    {
     "name": "stdout",
     "output_type": "stream",
     "text": [
      "il y a  19  genres différents de films\n"
     ]
    }
   ],
   "source": [
    "print('il y a ',len(liste_genres),' genres différents de films')"
   ]
  },
  {
   "cell_type": "markdown",
   "metadata": {},
   "source": [
    "L'objectif de la classification supervisée est principalement de définir des règles permettant de classer des objets dans des classes à partir de variables qualitatives ou quantitatives caractérisant ces objets.\n",
    "Ici les objets qu'on cherche à classer sont titres de films, et les classes qui leur sont associées sont les genres de films.\n",
    "Et ce qui va caractériser un film , ce sont les acteurs qui y jouent.\n",
    "Pour chaque acteur on déterminera la catégorie de film où il a le plus joué.l'acteur sera associé à cette catégorie.\n",
    "Pour chaque film , on liste les catégorie associée à chaque acteurs de ce film , et on récup la catégorie qui apprait le +\n",
    "de fois, et on l'associe au film.\n",
    "On a vue qu'un film peut être associé à plusieurs catégories , il faudra faire en sorte de ne l'associer qu'à une seule \n",
    "catégorie.\n",
    "\n"
   ]
  },
  {
   "cell_type": "code",
   "execution_count": 52,
   "metadata": {},
   "outputs": [],
   "source": [
    "\n",
    "genre_ids=dict()\n",
    "for movie in movies2:\n",
    "       genre_ids[movie['title']]=movie['genre_ids']\n",
    "        \n"
   ]
  },
  {
   "cell_type": "markdown",
   "metadata": {},
   "source": [
    "Par  exemple on cherche à retrouver la categorie du film :Father of the Bride Part II (1995)  (Comedy)\n"
   ]
  },
  {
   "cell_type": "code",
   "execution_count": 53,
   "metadata": {},
   "outputs": [
    {
     "data": {
      "text/html": [
       "<div>\n",
       "<style scoped>\n",
       "    .dataframe tbody tr th:only-of-type {\n",
       "        vertical-align: middle;\n",
       "    }\n",
       "\n",
       "    .dataframe tbody tr th {\n",
       "        vertical-align: top;\n",
       "    }\n",
       "\n",
       "    .dataframe thead th {\n",
       "        text-align: right;\n",
       "    }\n",
       "</style>\n",
       "<table border=\"1\" class=\"dataframe\">\n",
       "  <thead>\n",
       "    <tr style=\"text-align: right;\">\n",
       "      <th></th>\n",
       "      <th>movieId</th>\n",
       "      <th>title</th>\n",
       "      <th>genres</th>\n",
       "    </tr>\n",
       "  </thead>\n",
       "  <tbody>\n",
       "    <tr>\n",
       "      <th>0</th>\n",
       "      <td>1</td>\n",
       "      <td>Toy Story (1995)</td>\n",
       "      <td>Adventure|Animation|Children|Comedy|Fantasy</td>\n",
       "    </tr>\n",
       "    <tr>\n",
       "      <th>1</th>\n",
       "      <td>2</td>\n",
       "      <td>Jumanji (1995)</td>\n",
       "      <td>Adventure|Children|Fantasy</td>\n",
       "    </tr>\n",
       "    <tr>\n",
       "      <th>2</th>\n",
       "      <td>3</td>\n",
       "      <td>Grumpier Old Men (1995)</td>\n",
       "      <td>Comedy|Romance</td>\n",
       "    </tr>\n",
       "    <tr>\n",
       "      <th>3</th>\n",
       "      <td>4</td>\n",
       "      <td>Waiting to Exhale (1995)</td>\n",
       "      <td>Comedy|Drama|Romance</td>\n",
       "    </tr>\n",
       "    <tr>\n",
       "      <th>4</th>\n",
       "      <td>5</td>\n",
       "      <td>Father of the Bride Part II (1995)</td>\n",
       "      <td>Comedy</td>\n",
       "    </tr>\n",
       "  </tbody>\n",
       "</table>\n",
       "</div>"
      ],
      "text/plain": [
       "   movieId                               title  \\\n",
       "0        1                    Toy Story (1995)   \n",
       "1        2                      Jumanji (1995)   \n",
       "2        3             Grumpier Old Men (1995)   \n",
       "3        4            Waiting to Exhale (1995)   \n",
       "4        5  Father of the Bride Part II (1995)   \n",
       "\n",
       "                                        genres  \n",
       "0  Adventure|Animation|Children|Comedy|Fantasy  \n",
       "1                   Adventure|Children|Fantasy  \n",
       "2                               Comedy|Romance  \n",
       "3                         Comedy|Drama|Romance  \n",
       "4                                       Comedy  "
      ]
     },
     "execution_count": 53,
     "metadata": {},
     "output_type": "execute_result"
    }
   ],
   "source": [
    "New_movieLens.head()"
   ]
  },
  {
   "cell_type": "code",
   "execution_count": 54,
   "metadata": {},
   "outputs": [
    {
     "name": "stdout",
     "output_type": "stream",
     "text": [
      "il y a  12  acteurs qui ont joué dans le film Father of the Bride Part II (1995)\n"
     ]
    }
   ],
   "source": [
    "print('il y a ',len(acteurs[4]),' acteurs qui ont joué dans le film Father of the Bride Part II (1995)') # on sait que ce film est à la 4 eme position dans cette liste de liste de dico , dapres sa position dans la base movies2 "
   ]
  },
  {
   "cell_type": "code",
   "execution_count": 55,
   "metadata": {},
   "outputs": [],
   "source": [
    "id_acteurs=[]\n",
    "name_acteurs=[]\n",
    "for acteur in acteurs[4]:\n",
    "    id_acteurs.append(acteur['id'])\n",
    "    name_acteurs.append(acteur['name'])"
   ]
  },
  {
   "cell_type": "code",
   "execution_count": 56,
   "metadata": {},
   "outputs": [
    {
     "name": "stdout",
     "output_type": "stream",
     "text": [
      "[67773, 3092, 519, 70696, 59222, 18793, 14592, 20906, 54348, 209, 26510, 24358]\n",
      "['Steve Martin', 'Diane Keaton', 'Martin Short', 'Kimberly Williams-Paisley', 'George Newbern', 'Kieran Culkin', 'BD Wong', 'Peter Michael Goetz', 'Kate McGregor-Stewart', 'Jane Adams', 'Eugene Levy', 'Lori Alan']\n"
     ]
    }
   ],
   "source": [
    "print(id_acteurs)\n",
    "print(name_acteurs)"
   ]
  },
  {
   "cell_type": "markdown",
   "metadata": {},
   "source": [
    "Pour chacun de ces acteurs je regardes dans quelles genre de film il a joué.\n",
    "Je sais que chaque ligne dans la base acteurs correspond à un film dans la base movies2.\n",
    "Le but cest de regarder dans quel genre de film joue lacteur"
   ]
  },
  {
   "cell_type": "markdown",
   "metadata": {},
   "source": [
    "On va essayer de construire un dictionnaire dont les clés sont les ids_genres de chaque genre , et la valeur associé sera le genre"
   ]
  },
  {
   "cell_type": "code",
   "execution_count": 57,
   "metadata": {},
   "outputs": [],
   "source": [
    "#je pars à la recherche des films dans lesquels Steve Martin a joué , pour en récup les genres\n",
    "\n",
    "Liste_film_genre_Steve_Martin=[]\n",
    "i=0\n",
    "\n",
    "for lista in acteurs:\n",
    "    for dico_acteur in lista:\n",
    "        if (dico_acteur['name']=='Steve Martin'):\n",
    "            Liste_film_genre_Steve_Martin.append(movies2[i]['genre_ids'])\n",
    "    i=i+1       \n",
    "        \n"
   ]
  },
  {
   "cell_type": "markdown",
   "metadata": {},
   "source": [
    "Ici j'ai récuperer les id des genres associé aux films dans lesquels steve Martin a joué"
   ]
  },
  {
   "cell_type": "code",
   "execution_count": 58,
   "metadata": {},
   "outputs": [
    {
     "data": {
      "text/plain": [
       "[35, 18, 10749]"
      ]
     },
     "execution_count": 58,
     "metadata": {},
     "output_type": "execute_result"
    }
   ],
   "source": [
    "Liste_film_genre_Steve_Martin[1]"
   ]
  },
  {
   "cell_type": "markdown",
   "metadata": {},
   "source": [
    "Il nous reste à determiner le genre dun film à partir de son id_genre "
   ]
  },
  {
   "cell_type": "code",
   "execution_count": 59,
   "metadata": {},
   "outputs": [],
   "source": [
    "Liste_ids_genre=[]\n",
    "Liste_name_movie=[]\n",
    "\n",
    "for movie in movies2:\n",
    "    Liste_ids_genre.append(movie['genre_ids'])\n",
    "    Liste_name_movie.append(movie['title'])\n",
    "\n"
   ]
  },
  {
   "cell_type": "code",
   "execution_count": 60,
   "metadata": {},
   "outputs": [
    {
     "data": {
      "text/plain": [
       "['Toy Story',\n",
       " 'Jumanji',\n",
       " 'Grumpier Old Men',\n",
       " 'Waiting to Exhale',\n",
       " 'Father of the Bride Part II']"
      ]
     },
     "execution_count": 60,
     "metadata": {},
     "output_type": "execute_result"
    }
   ],
   "source": [
    "Liste_name_movie[0:5]"
   ]
  },
  {
   "cell_type": "code",
   "execution_count": 61,
   "metadata": {},
   "outputs": [
    {
     "data": {
      "text/plain": [
       "[[16, 35, 10751], [12, 14, 10751], [35, 10749], [35, 18, 10749], [35]]"
      ]
     },
     "execution_count": 61,
     "metadata": {},
     "output_type": "execute_result"
    }
   ],
   "source": [
    "Liste_ids_genre[0:5]"
   ]
  },
  {
   "cell_type": "code",
   "execution_count": 62,
   "metadata": {},
   "outputs": [
    {
     "data": {
      "text/plain": [
       "'16|35|10751'"
      ]
     },
     "execution_count": 62,
     "metadata": {},
     "output_type": "execute_result"
    }
   ],
   "source": [
    "for i in range (0,len(Liste_ids_genre[0])):\n",
    "    Liste_ids_genre[0][i]=str(Liste_ids_genre[0][i])\n",
    "ch=\"|\".join(Liste_ids_genre[0])\n",
    "ch"
   ]
  },
  {
   "cell_type": "code",
   "execution_count": 63,
   "metadata": {},
   "outputs": [
    {
     "data": {
      "text/plain": [
       "[['16', '35', '10751'], [12, 14, 10751], [35, 10749], [35, 18, 10749], [35]]"
      ]
     },
     "execution_count": 63,
     "metadata": {},
     "output_type": "execute_result"
    }
   ],
   "source": [
    "Liste_ids_genre[0:5]"
   ]
  },
  {
   "cell_type": "code",
   "execution_count": 64,
   "metadata": {},
   "outputs": [],
   "source": [
    "Liste_ids_genres_chaine=[]\n",
    "\n",
    "for i in range (0,len(Liste_ids_genre)):\n",
    "    for j in range (0,len(Liste_ids_genre[i])):\n",
    "        Liste_ids_genre[i][j]=str(Liste_ids_genre[i][j])\n",
    "    ch=\"|\".join(Liste_ids_genre[i])\n",
    "    Liste_ids_genres_chaine.append(ch)\n",
    "    "
   ]
  },
  {
   "cell_type": "code",
   "execution_count": 65,
   "metadata": {},
   "outputs": [
    {
     "data": {
      "text/plain": [
       "['16|35|10751', '12|14|10751', '35|10749', '35|18|10749', '35']"
      ]
     },
     "execution_count": 65,
     "metadata": {},
     "output_type": "execute_result"
    }
   ],
   "source": [
    "Liste_ids_genres_chaine[0:5]"
   ]
  },
  {
   "cell_type": "code",
   "execution_count": 66,
   "metadata": {},
   "outputs": [
    {
     "data": {
      "text/plain": [
       "{'adult': False,\n",
       " 'backdrop_path': '/dji4Fm0gCDVb9DQQMRvAI8YNnTz.jpg',\n",
       " 'genre_ids': ['16', '35', '10751'],\n",
       " 'id': 862,\n",
       " 'original_language': 'en',\n",
       " 'original_title': 'Toy Story',\n",
       " 'overview': \"Led by Woody, Andy's toys live happily in his room until Andy's birthday brings Buzz Lightyear onto the scene. Afraid of losing his place in Andy's heart, Woody plots against Buzz. But when circumstances separate Buzz and Woody from their owner, the duo eventually learns to put aside their differences.\",\n",
       " 'poster_path': '/rhIRbceoE9lR4veEXuwCC2wARtG.jpg',\n",
       " 'release_date': '1995-10-30',\n",
       " 'title': 'Toy Story',\n",
       " 'video': False,\n",
       " 'vote_average': 7.9,\n",
       " 'vote_count': 9550,\n",
       " 'popularity': 22.773}"
      ]
     },
     "execution_count": 66,
     "metadata": {},
     "output_type": "execute_result"
    }
   ],
   "source": [
    "movies2[0]"
   ]
  },
  {
   "cell_type": "code",
   "execution_count": 67,
   "metadata": {},
   "outputs": [
    {
     "data": {
      "text/html": [
       "<div>\n",
       "<style scoped>\n",
       "    .dataframe tbody tr th:only-of-type {\n",
       "        vertical-align: middle;\n",
       "    }\n",
       "\n",
       "    .dataframe tbody tr th {\n",
       "        vertical-align: top;\n",
       "    }\n",
       "\n",
       "    .dataframe thead th {\n",
       "        text-align: right;\n",
       "    }\n",
       "</style>\n",
       "<table border=\"1\" class=\"dataframe\">\n",
       "  <thead>\n",
       "    <tr style=\"text-align: right;\">\n",
       "      <th></th>\n",
       "      <th>movieId</th>\n",
       "      <th>title</th>\n",
       "      <th>genres</th>\n",
       "    </tr>\n",
       "  </thead>\n",
       "  <tbody>\n",
       "    <tr>\n",
       "      <th>0</th>\n",
       "      <td>1</td>\n",
       "      <td>Toy Story</td>\n",
       "      <td>Adventure|Animation|Children|Comedy|Fantasy</td>\n",
       "    </tr>\n",
       "    <tr>\n",
       "      <th>1</th>\n",
       "      <td>2</td>\n",
       "      <td>Jumanji</td>\n",
       "      <td>Adventure|Children|Fantasy</td>\n",
       "    </tr>\n",
       "    <tr>\n",
       "      <th>2</th>\n",
       "      <td>3</td>\n",
       "      <td>Grumpier Old Men</td>\n",
       "      <td>Comedy|Romance</td>\n",
       "    </tr>\n",
       "    <tr>\n",
       "      <th>3</th>\n",
       "      <td>4</td>\n",
       "      <td>Waiting to Exhale</td>\n",
       "      <td>Comedy|Drama|Romance</td>\n",
       "    </tr>\n",
       "    <tr>\n",
       "      <th>4</th>\n",
       "      <td>5</td>\n",
       "      <td>Father of the Bride Part II</td>\n",
       "      <td>Comedy</td>\n",
       "    </tr>\n",
       "  </tbody>\n",
       "</table>\n",
       "</div>"
      ],
      "text/plain": [
       "   movieId                        title  \\\n",
       "0        1                    Toy Story   \n",
       "1        2                      Jumanji   \n",
       "2        3             Grumpier Old Men   \n",
       "3        4            Waiting to Exhale   \n",
       "4        5  Father of the Bride Part II   \n",
       "\n",
       "                                        genres  \n",
       "0  Adventure|Animation|Children|Comedy|Fantasy  \n",
       "1                   Adventure|Children|Fantasy  \n",
       "2                               Comedy|Romance  \n",
       "3                         Comedy|Drama|Romance  \n",
       "4                                       Comedy  "
      ]
     },
     "execution_count": 67,
     "metadata": {},
     "output_type": "execute_result"
    }
   ],
   "source": [
    "MoviesSansParenthese.head()"
   ]
  },
  {
   "cell_type": "code",
   "execution_count": 68,
   "metadata": {},
   "outputs": [],
   "source": [
    "#prend un peu de temps\n",
    "\n",
    "i=0\n",
    "Liste_names_genre=[]\n",
    "for name in Liste_name_movie:\n",
    "    tab=MoviesSansParenthese[MoviesSansParenthese['title']==name][\"genres\"].values\n",
    "    if(len(tab)!=0):\n",
    "        Liste_names_genre.append(tab[0])\n",
    "    else:\n",
    "        Liste_names_genre.append('') #pour certaines lignes le genre est vide dans le dataframe\n",
    "    \n",
    "    \n",
    "    \n",
    "    "
   ]
  },
  {
   "cell_type": "code",
   "execution_count": 69,
   "metadata": {},
   "outputs": [
    {
     "data": {
      "text/plain": [
       "['Adventure|Animation|Children|Comedy|Fantasy',\n",
       " 'Adventure|Children|Fantasy',\n",
       " 'Comedy|Romance',\n",
       " 'Comedy|Drama|Romance',\n",
       " 'Comedy']"
      ]
     },
     "execution_count": 69,
     "metadata": {},
     "output_type": "execute_result"
    }
   ],
   "source": [
    "Liste_names_genre[0:5]"
   ]
  },
  {
   "cell_type": "code",
   "execution_count": 70,
   "metadata": {},
   "outputs": [],
   "source": [
    "Data_genre=pd.DataFrame({'genres': Liste_names_genre,  'genre_ids':Liste_ids_genres_chaine})"
   ]
  },
  {
   "cell_type": "code",
   "execution_count": 71,
   "metadata": {},
   "outputs": [
    {
     "name": "stdout",
     "output_type": "stream",
     "text": [
      "film:  Toy Story\n",
      "id_genres associé : ['16', '35', '10751']\n",
      "genre associé dans la base movie : ['Adventure|Animation|Children|Comedy|Fantasy']\n"
     ]
    }
   ],
   "source": [
    "print('film: ',movies2[0][\"title\"])\n",
    "print('id_genres associé :', movies2[0][\"genre_ids\"])\n",
    "print('genre associé dans la base movie :',MoviesSansParenthese[MoviesSansParenthese[\"title\"]==\"Toy Story\"][\"genres\"].values)"
   ]
  },
  {
   "cell_type": "markdown",
   "metadata": {},
   "source": [
    " Si on part du principe que les genres_ids de la base movies2 (descriptif plus approfondit du film) font reférences aux genres du film , on voit bien que dans ce cas 3!=5.\n",
    " \n",
    " on va donc  partir à la recherche de l'id  majoritaire dun genre pour faire lassociation entre les deux et réduire l'erreur"
   ]
  },
  {
   "cell_type": "code",
   "execution_count": 72,
   "metadata": {},
   "outputs": [
    {
     "data": {
      "text/html": [
       "<div>\n",
       "<style scoped>\n",
       "    .dataframe tbody tr th:only-of-type {\n",
       "        vertical-align: middle;\n",
       "    }\n",
       "\n",
       "    .dataframe tbody tr th {\n",
       "        vertical-align: top;\n",
       "    }\n",
       "\n",
       "    .dataframe thead th {\n",
       "        text-align: right;\n",
       "    }\n",
       "</style>\n",
       "<table border=\"1\" class=\"dataframe\">\n",
       "  <thead>\n",
       "    <tr style=\"text-align: right;\">\n",
       "      <th></th>\n",
       "      <th>genres</th>\n",
       "      <th>genre_ids</th>\n",
       "    </tr>\n",
       "  </thead>\n",
       "  <tbody>\n",
       "    <tr>\n",
       "      <th>0</th>\n",
       "      <td>Adventure|Animation|Children|Comedy|Fantasy</td>\n",
       "      <td>16|35|10751</td>\n",
       "    </tr>\n",
       "    <tr>\n",
       "      <th>1</th>\n",
       "      <td>Adventure|Children|Fantasy</td>\n",
       "      <td>12|14|10751</td>\n",
       "    </tr>\n",
       "    <tr>\n",
       "      <th>2</th>\n",
       "      <td>Comedy|Romance</td>\n",
       "      <td>35|10749</td>\n",
       "    </tr>\n",
       "    <tr>\n",
       "      <th>3</th>\n",
       "      <td>Comedy|Drama|Romance</td>\n",
       "      <td>35|18|10749</td>\n",
       "    </tr>\n",
       "    <tr>\n",
       "      <th>4</th>\n",
       "      <td>Comedy</td>\n",
       "      <td>35</td>\n",
       "    </tr>\n",
       "  </tbody>\n",
       "</table>\n",
       "</div>"
      ],
      "text/plain": [
       "                                        genres    genre_ids\n",
       "0  Adventure|Animation|Children|Comedy|Fantasy  16|35|10751\n",
       "1                   Adventure|Children|Fantasy  12|14|10751\n",
       "2                               Comedy|Romance     35|10749\n",
       "3                         Comedy|Drama|Romance  35|18|10749\n",
       "4                                       Comedy           35"
      ]
     },
     "execution_count": 72,
     "metadata": {},
     "output_type": "execute_result"
    }
   ],
   "source": [
    "Data_genre.head()"
   ]
  },
  {
   "cell_type": "markdown",
   "metadata": {},
   "source": [
    "on voit bien qu'il y a un probleme sur le dataFrame , si on prend la premiere ligne , on voit que dun coté\n",
    "on a 5 genres et de lautre côté on a 3 genre_id qui ont eté récupéré dan sla base movies2.\n",
    "Pour arranger ça on va essayer de faire en sorte de récup l'id majoritaire pour chaque genre(de cette manière on réduira lerreur quand on associera un id  à une catégorie de film(genre)).\n",
    "\n",
    "Par exemple pour le film Toy Story ; dans la Base movie il y a 5 genres qui lui sont associé (Adventure|Animation|Children|Comedy|Fantasy)  , alors que quand on regarde la desccription du film dans la base movies2\n",
    "il n'y a que que 3 genres qui lui sont associé "
   ]
  },
  {
   "cell_type": "markdown",
   "metadata": {},
   "source": [
    "je vais faire en sorte que pour chaque catégorie il y ait un seul id\n"
   ]
  },
  {
   "cell_type": "code",
   "execution_count": 73,
   "metadata": {},
   "outputs": [
    {
     "data": {
      "text/plain": [
       "['Action',\n",
       " 'Adventure',\n",
       " 'Animation',\n",
       " 'Children',\n",
       " 'Comedy',\n",
       " 'Crime',\n",
       " 'Documentary',\n",
       " 'Drama',\n",
       " 'Fantasy',\n",
       " 'Film-Noir',\n",
       " 'Horror',\n",
       " 'IMAX',\n",
       " 'Musical',\n",
       " 'Mystery',\n",
       " 'Romance',\n",
       " 'Sci-Fi',\n",
       " 'Thriller',\n",
       " 'War',\n",
       " 'Western']"
      ]
     },
     "execution_count": 73,
     "metadata": {},
     "output_type": "execute_result"
    }
   ],
   "source": [
    "liste_genres=liste_genres\n",
    "my_liste_genre=liste_genres.tolist()\n",
    "my_liste_genre"
   ]
  },
  {
   "cell_type": "code",
   "execution_count": 74,
   "metadata": {},
   "outputs": [
    {
     "data": {
      "text/html": [
       "<div>\n",
       "<style scoped>\n",
       "    .dataframe tbody tr th:only-of-type {\n",
       "        vertical-align: middle;\n",
       "    }\n",
       "\n",
       "    .dataframe tbody tr th {\n",
       "        vertical-align: top;\n",
       "    }\n",
       "\n",
       "    .dataframe thead th {\n",
       "        text-align: right;\n",
       "    }\n",
       "</style>\n",
       "<table border=\"1\" class=\"dataframe\">\n",
       "  <thead>\n",
       "    <tr style=\"text-align: right;\">\n",
       "      <th></th>\n",
       "      <th>genres</th>\n",
       "      <th>genre_ids</th>\n",
       "    </tr>\n",
       "  </thead>\n",
       "  <tbody>\n",
       "    <tr>\n",
       "      <th>25883</th>\n",
       "      <td>Comedy</td>\n",
       "      <td>16</td>\n",
       "    </tr>\n",
       "    <tr>\n",
       "      <th>25886</th>\n",
       "      <td></td>\n",
       "      <td>16</td>\n",
       "    </tr>\n",
       "    <tr>\n",
       "      <th>25892</th>\n",
       "      <td>Animation</td>\n",
       "      <td>16</td>\n",
       "    </tr>\n",
       "    <tr>\n",
       "      <th>25893</th>\n",
       "      <td>Animation</td>\n",
       "      <td>16</td>\n",
       "    </tr>\n",
       "    <tr>\n",
       "      <th>26860</th>\n",
       "      <td>(no genres listed)</td>\n",
       "      <td>16</td>\n",
       "    </tr>\n",
       "  </tbody>\n",
       "</table>\n",
       "</div>"
      ],
      "text/plain": [
       "                   genres genre_ids\n",
       "25883              Comedy        16\n",
       "25886                            16\n",
       "25892           Animation        16\n",
       "25893           Animation        16\n",
       "26860  (no genres listed)        16"
      ]
     },
     "execution_count": 74,
     "metadata": {},
     "output_type": "execute_result"
    }
   ],
   "source": [
    "Data_genre[Data_genre[\"genre_ids\"]==\"16\"].tail()\n",
    "#on verra par la suite que le genre Animation apparait le + de fois pour lid 16 , donc id_genre_Animation=16"
   ]
  },
  {
   "cell_type": "markdown",
   "metadata": {},
   "source": [
    "Le Dataframe obtenue n'est pas tous a fait correct , du coup pour chaque id on récupère le genre majoritaire qui lui correspond.\n",
    "A la fin le but cest de construire un Dataframe où chaque genre est associé à un id"
   ]
  },
  {
   "cell_type": "code",
   "execution_count": 75,
   "metadata": {},
   "outputs": [
    {
     "data": {
      "text/plain": [
       "array(['16|35|10751', '12|14|10751', '35|10749', '35|18|10749', '35'],\n",
       "      dtype=object)"
      ]
     },
     "execution_count": 75,
     "metadata": {},
     "output_type": "execute_result"
    }
   ],
   "source": [
    "mes_genres_ids=Data_genre[\"genre_ids\"].values\n",
    "mes_genres_ids[0:5]"
   ]
  },
  {
   "cell_type": "code",
   "execution_count": 76,
   "metadata": {},
   "outputs": [],
   "source": [
    "Liste_ids_genre_unique=[]\n",
    "\n",
    "for x in mes_genres_ids:\n",
    "    tab=x.split('|')\n",
    "    for elem in tab:\n",
    "        if(elem not in Liste_ids_genre_unique and elem!=''):\n",
    "            Liste_ids_genre_unique.append(elem)"
   ]
  },
  {
   "cell_type": "code",
   "execution_count": 77,
   "metadata": {},
   "outputs": [
    {
     "name": "stdout",
     "output_type": "stream",
     "text": [
      "je retrouve bien  mes 19 genres\n"
     ]
    }
   ],
   "source": [
    " print('je retrouve bien  mes',len(Liste_ids_genre_unique),'genres')"
   ]
  },
  {
   "cell_type": "code",
   "execution_count": 78,
   "metadata": {},
   "outputs": [
    {
     "data": {
      "text/plain": [
       "19"
      ]
     },
     "execution_count": 78,
     "metadata": {},
     "output_type": "execute_result"
    }
   ],
   "source": [
    "len(Liste_ids_genre_unique)"
   ]
  },
  {
   "cell_type": "code",
   "execution_count": 79,
   "metadata": {},
   "outputs": [],
   "source": [
    "def genreMajoritaire(Liste):  #on a vue que dans le datframe un id se retrouve parfois associé à plusieur genres , ce phénomène a du se passer lors du tri, on va dnc faire que chaque id correspond bien à un seul genre\n",
    "    dico=dict()\n",
    "    for i in range(0,len(Liste)):\n",
    "        if(Liste[i]!='' and ('|' not in Liste[i])):   #plusieurs on retrouve '' qui est associé à un id genre , or c'est faux. et Egalement il se peut que le genre qui appparait le plus ne soit pas unique , du coup il faut eliminer ces possibiilités\n",
    "            dico[Liste[i]]=0\n",
    "        \n",
    "    for x  in Liste:\n",
    "        if(x!='' and ('|' not in x)):\n",
    "            dico[x]=dico[x]+1\n",
    "    \n",
    "    maxx=-10000\n",
    "    majo=''\n",
    "    for x in Liste:\n",
    "        \n",
    "        if(x!='' and ('|' not in x)):\n",
    "            if(dico[x]>maxx):\n",
    "                maxx=dico[x]\n",
    "                majo=x\n",
    "    \n",
    "    return majo  \n",
    "        \n",
    "        \n",
    "        "
   ]
  },
  {
   "cell_type": "code",
   "execution_count": 80,
   "metadata": {},
   "outputs": [
    {
     "data": {
      "text/plain": [
       "['Comedy', 'Comedy|Crime', 'Comedy', 'Comedy', 'Comedy']"
      ]
     },
     "execution_count": 80,
     "metadata": {},
     "output_type": "execute_result"
    }
   ],
   "source": [
    "liste_valeurs=Data_genre[Data_genre[\"genre_ids\"]==\"35\"][\"genres\"].values\n",
    "liste_valeurs=liste_valeurs.tolist()\n",
    "liste_valeurs[0:5]"
   ]
  },
  {
   "cell_type": "code",
   "execution_count": 81,
   "metadata": {},
   "outputs": [],
   "source": [
    "dictionaire_genre_idgenre=dict()\n",
    "\n",
    "for x in Liste_ids_genre_unique: \n",
    "    liste_valeurs=Data_genre[Data_genre[\"genre_ids\"]==x][\"genres\"].values\n",
    "    liste_valeurs=liste_valeurs.tolist()\n",
    "    genre_majoritaire=genreMajoritaire(liste_valeurs)\n",
    "    dictionaire_genre_idgenre[x]=genre_majoritaire"
   ]
  },
  {
   "cell_type": "code",
   "execution_count": 82,
   "metadata": {},
   "outputs": [
    {
     "data": {
      "text/plain": [
       "{'16': 'Animation',\n",
       " '35': 'Comedy',\n",
       " '10751': 'Children',\n",
       " '12': 'Adventure',\n",
       " '14': 'Fantasy',\n",
       " '10749': 'Romance',\n",
       " '18': 'Drama',\n",
       " '28': 'Action',\n",
       " '80': 'Crime',\n",
       " '53': 'Thriller',\n",
       " '27': 'Horror',\n",
       " '36': '',\n",
       " '878': 'Sci-Fi',\n",
       " '9648': 'Mystery',\n",
       " '10752': 'War',\n",
       " '10402': 'Musical',\n",
       " '99': 'Documentary',\n",
       " '37': 'Western',\n",
       " '10770': 'Drama'}"
      ]
     },
     "execution_count": 82,
     "metadata": {},
     "output_type": "execute_result"
    }
   ],
   "source": [
    "dictionaire_genre_idgenre"
   ]
  },
  {
   "cell_type": "code",
   "execution_count": 83,
   "metadata": {},
   "outputs": [
    {
     "data": {
      "text/plain": [
       "19"
      ]
     },
     "execution_count": 83,
     "metadata": {},
     "output_type": "execute_result"
    }
   ],
   "source": [
    "l=[]\n",
    "for key in dictionaire_genre_idgenre.keys():\n",
    "    l.append(key)\n",
    "tab=np.array(l)\n",
    "tab=np.unique(tab)\n",
    "len(tab)"
   ]
  },
  {
   "cell_type": "markdown",
   "metadata": {},
   "source": [
    "On a reussit à associé à chacun des genre l'id qui lui correspond , ça facilitera des traitements futur sur les données\n",
    "On a presque finit le tri , on voit que pour lid 36 il y a une erreur , du coup on va lui asscoié le dernier genre qui n'a pas été choisit parmis les 19 possibles.\n",
    "On s'apercoit aussi que Dram est associé à 18 et 10770"
   ]
  },
  {
   "cell_type": "code",
   "execution_count": 84,
   "metadata": {},
   "outputs": [
    {
     "data": {
      "text/plain": [
       "16785                 \n",
       "19418                 \n",
       "22837    Drama|Fantasy\n",
       "Name: genres, dtype: object"
      ]
     },
     "execution_count": 84,
     "metadata": {},
     "output_type": "execute_result"
    }
   ],
   "source": [
    "Data_genre[Data_genre[\"genre_ids\"]==\"36\"][\"genres\"]"
   ]
  },
  {
   "cell_type": "code",
   "execution_count": 85,
   "metadata": {},
   "outputs": [],
   "source": [
    "Liste_genre_non_selectionne=[]\n",
    "\n",
    "Liste_key=[ dictionaire_genre_idgenre[key] for key in dictionaire_genre_idgenre.keys()]\n",
    "\n",
    "for elem in my_liste_genre:\n",
    "    if(elem not in Liste_key):\n",
    "        Liste_genre_non_selectionne.append(elem)\n",
    "        "
   ]
  },
  {
   "cell_type": "code",
   "execution_count": 86,
   "metadata": {},
   "outputs": [
    {
     "data": {
      "text/plain": [
       "['Film-Noir', 'IMAX']"
      ]
     },
     "execution_count": 86,
     "metadata": {},
     "output_type": "execute_result"
    }
   ],
   "source": [
    "Liste_genre_non_selectionne"
   ]
  },
  {
   "cell_type": "markdown",
   "metadata": {},
   "source": [
    "Tous ls ids ont été attribué sauf que 36-->'' , 18 et 10770-->'Drama' , donc on se retrouve avec deux genres sans id (['Film-Noir', 'IMAX']) et un id qui pointe vers aucun genre et un deux id qui pointe vers le meme genre"
   ]
  },
  {
   "cell_type": "code",
   "execution_count": 87,
   "metadata": {},
   "outputs": [
    {
     "data": {
      "text/html": [
       "<div>\n",
       "<style scoped>\n",
       "    .dataframe tbody tr th:only-of-type {\n",
       "        vertical-align: middle;\n",
       "    }\n",
       "\n",
       "    .dataframe tbody tr th {\n",
       "        vertical-align: top;\n",
       "    }\n",
       "\n",
       "    .dataframe thead th {\n",
       "        text-align: right;\n",
       "    }\n",
       "</style>\n",
       "<table border=\"1\" class=\"dataframe\">\n",
       "  <thead>\n",
       "    <tr style=\"text-align: right;\">\n",
       "      <th></th>\n",
       "      <th>genres</th>\n",
       "      <th>genre_ids</th>\n",
       "    </tr>\n",
       "  </thead>\n",
       "  <tbody>\n",
       "    <tr>\n",
       "      <th>4342</th>\n",
       "      <td>IMAX</td>\n",
       "      <td>99</td>\n",
       "    </tr>\n",
       "  </tbody>\n",
       "</table>\n",
       "</div>"
      ],
      "text/plain": [
       "     genres genre_ids\n",
       "4342   IMAX        99"
      ]
     },
     "execution_count": 87,
     "metadata": {},
     "output_type": "execute_result"
    }
   ],
   "source": [
    "Data_genre[Data_genre[\"genres\"]==\"IMAX\"]"
   ]
  },
  {
   "cell_type": "code",
   "execution_count": 88,
   "metadata": {},
   "outputs": [
    {
     "data": {
      "text/html": [
       "<div>\n",
       "<style scoped>\n",
       "    .dataframe tbody tr th:only-of-type {\n",
       "        vertical-align: middle;\n",
       "    }\n",
       "\n",
       "    .dataframe tbody tr th {\n",
       "        vertical-align: top;\n",
       "    }\n",
       "\n",
       "    .dataframe thead th {\n",
       "        text-align: right;\n",
       "    }\n",
       "</style>\n",
       "<table border=\"1\" class=\"dataframe\">\n",
       "  <thead>\n",
       "    <tr style=\"text-align: right;\">\n",
       "      <th></th>\n",
       "      <th>genres</th>\n",
       "      <th>genre_ids</th>\n",
       "    </tr>\n",
       "  </thead>\n",
       "  <tbody>\n",
       "    <tr>\n",
       "      <th>730</th>\n",
       "      <td>Film-Noir</td>\n",
       "      <td>28|80|18</td>\n",
       "    </tr>\n",
       "    <tr>\n",
       "      <th>1123</th>\n",
       "      <td>Film-Noir</td>\n",
       "      <td>80|53</td>\n",
       "    </tr>\n",
       "    <tr>\n",
       "      <th>1124</th>\n",
       "      <td>Film-Noir</td>\n",
       "      <td>80|53</td>\n",
       "    </tr>\n",
       "    <tr>\n",
       "      <th>1968</th>\n",
       "      <td>Film-Noir</td>\n",
       "      <td>18|9648|53</td>\n",
       "    </tr>\n",
       "    <tr>\n",
       "      <th>3271</th>\n",
       "      <td>Film-Noir</td>\n",
       "      <td>18|53</td>\n",
       "    </tr>\n",
       "    <tr>\n",
       "      <th>4308</th>\n",
       "      <td>Film-Noir</td>\n",
       "      <td>18|9648|53</td>\n",
       "    </tr>\n",
       "    <tr>\n",
       "      <th>5050</th>\n",
       "      <td>Film-Noir</td>\n",
       "      <td>18</td>\n",
       "    </tr>\n",
       "    <tr>\n",
       "      <th>7167</th>\n",
       "      <td>Film-Noir</td>\n",
       "      <td>28|80|53</td>\n",
       "    </tr>\n",
       "    <tr>\n",
       "      <th>7192</th>\n",
       "      <td>Film-Noir</td>\n",
       "      <td>80|18|53</td>\n",
       "    </tr>\n",
       "    <tr>\n",
       "      <th>18206</th>\n",
       "      <td>Film-Noir</td>\n",
       "      <td>53|80|18</td>\n",
       "    </tr>\n",
       "    <tr>\n",
       "      <th>18440</th>\n",
       "      <td>Film-Noir</td>\n",
       "      <td>14|80|18|9648</td>\n",
       "    </tr>\n",
       "    <tr>\n",
       "      <th>19987</th>\n",
       "      <td>Film-Noir</td>\n",
       "      <td>27|53</td>\n",
       "    </tr>\n",
       "    <tr>\n",
       "      <th>22912</th>\n",
       "      <td>Film-Noir</td>\n",
       "      <td>80|18</td>\n",
       "    </tr>\n",
       "  </tbody>\n",
       "</table>\n",
       "</div>"
      ],
      "text/plain": [
       "          genres      genre_ids\n",
       "730    Film-Noir       28|80|18\n",
       "1123   Film-Noir          80|53\n",
       "1124   Film-Noir          80|53\n",
       "1968   Film-Noir     18|9648|53\n",
       "3271   Film-Noir          18|53\n",
       "4308   Film-Noir     18|9648|53\n",
       "5050   Film-Noir             18\n",
       "7167   Film-Noir       28|80|53\n",
       "7192   Film-Noir       80|18|53\n",
       "18206  Film-Noir       53|80|18\n",
       "18440  Film-Noir  14|80|18|9648\n",
       "19987  Film-Noir          27|53\n",
       "22912  Film-Noir          80|18"
      ]
     },
     "execution_count": 88,
     "metadata": {},
     "output_type": "execute_result"
    }
   ],
   "source": [
    "Data_genre[Data_genre[\"genres\"]==\"Film-Noir\"]"
   ]
  },
  {
   "cell_type": "code",
   "execution_count": 89,
   "metadata": {},
   "outputs": [
    {
     "data": {
      "text/html": [
       "<div>\n",
       "<style scoped>\n",
       "    .dataframe tbody tr th:only-of-type {\n",
       "        vertical-align: middle;\n",
       "    }\n",
       "\n",
       "    .dataframe tbody tr th {\n",
       "        vertical-align: top;\n",
       "    }\n",
       "\n",
       "    .dataframe thead th {\n",
       "        text-align: right;\n",
       "    }\n",
       "</style>\n",
       "<table border=\"1\" class=\"dataframe\">\n",
       "  <thead>\n",
       "    <tr style=\"text-align: right;\">\n",
       "      <th></th>\n",
       "      <th>movieId</th>\n",
       "      <th>title</th>\n",
       "      <th>genres</th>\n",
       "    </tr>\n",
       "  </thead>\n",
       "  <tbody>\n",
       "    <tr>\n",
       "      <th>4365</th>\n",
       "      <td>4460</td>\n",
       "      <td>Encounter in the Third Dimension (1999)</td>\n",
       "      <td>IMAX</td>\n",
       "    </tr>\n",
       "  </tbody>\n",
       "</table>\n",
       "</div>"
      ],
      "text/plain": [
       "      movieId                                    title genres\n",
       "4365     4460  Encounter in the Third Dimension (1999)   IMAX"
      ]
     },
     "execution_count": 89,
     "metadata": {},
     "output_type": "execute_result"
    }
   ],
   "source": [
    "movies[movies[\"genres\"]==\"IMAX\"]"
   ]
  },
  {
   "cell_type": "code",
   "execution_count": 90,
   "metadata": {},
   "outputs": [
    {
     "name": "stdout",
     "output_type": "stream",
     "text": [
      "gennres-ids : ['99']  | title: Encounter in the Third Dimension\n"
     ]
    }
   ],
   "source": [
    "for dico in movies2:\n",
    "    if dico['title']==\"Encounter in the Third Dimension\":\n",
    "        print('gennres-ids :',dico['genre_ids'],' | title:',dico[\"title\"])"
   ]
  },
  {
   "cell_type": "markdown",
   "metadata": {},
   "source": [
    "On voit bien que lagorithme qu'on a mit en place (touvé l'id majoritaire dun genre) laisse apparaitre encore quelques petites erreurs.\n",
    "Mais on va garder notre 'dictionaire_genre_idgenre' en souligant que les film de genre IMAX et Film-Noir ne feront pas parties  de nos exemples futur car notre algorithme n'a pas pu retrouvé lid qui leur correspondait le mieux. Et de même pour un film dont le genre_id majoritaire est 36  , on prendra la valeur du genre-id pour lequel il y a un genre qui lui est associé."
   ]
  },
  {
   "cell_type": "markdown",
   "metadata": {},
   "source": [
    "PREMIERE CLASSIFICATION SUPERVISEE: ARBRE DE DECISIONS\n",
    "    \n",
    "Protocole:\n",
    "        \n",
    "        question : Est-ce que cet acteur est succeptible de jouer dans ce film ?\n",
    "        attribues : catégorie (genre de film) spécifique à l'acteur (celle dans laquelle il a le plus l'habitude de jouer),\n",
    "                    genre(Homme,Femme,?) -> 2,1,0\n",
    "        Décision: peut jouer dans ce film.\n",
    "        \n",
    "        Préparation des données: chaque acteur est composé d'un vecteur en deux dimension (catégorie spécifique,sexe).\n",
    "                                 le label associé à l'acteur sera 1 si l'acteur est présent dans le film, sinon -1.\n",
    "                             \n",
    "        Objectif: Arriver à savoir si un acteur peut jouer un film en particulier , à partir des données relatés sur lui\n",
    "                  (catégorie spécifique, sexe).\n",
    "               \n",
    "        Les questions qui seront amenées à être posées seront : quel est le sexe de l'acteur , quel est la catégorie spécifique de l'acteur.\n",
    "        \n",
    "        Le but étant de construire notre arbre en lui faisant poser les bonnes questions afin de savoir si l'acteur peut jouer dans le film.\n",
    "    (En quelques sorte on cherche à determiner quel seront les meilleur questions à poser )"
   ]
  },
  {
   "cell_type": "markdown",
   "metadata": {},
   "source": [
    "Pour illustrer notre Démarche , on va prendre le film : Toy Story"
   ]
  },
  {
   "cell_type": "markdown",
   "metadata": {},
   "source": [
    "Etape1 :\n",
    "    Commençons par définir la catégorie scpéfique à chaque acteur (Tous et pas juste ceux qui sont dans le film).\n",
    "    puis leur sexe.\n",
    "    L'objectif est de constuire un Datframe avec comme attribut : idActeur , nomActeur, Categoriespécifique,sexe"
   ]
  },
  {
   "cell_type": "code",
   "execution_count": 91,
   "metadata": {},
   "outputs": [],
   "source": [
    "#le traitement est long 10 min , jai restreint à 1000 parceque cest trop long si je veux recup tous les acteurs\n",
    "ListeNameActeur=[]\n",
    "ListeIdActeur=[]\n",
    "ListeGenderActeur=[]\n",
    "\n",
    "for i in range(0,1000):    \n",
    "    for dicoActeur in acteurs[i]:\n",
    "        if(dicoActeur[\"name\"] not in ListeNameActeur):\n",
    "            ListeNameActeur.append(dicoActeur[\"name\"])\n",
    "            ListeIdActeur.append(dicoActeur[\"id\"])\n",
    "            ListeGenderActeur.append(dicoActeur['gender'])\n",
    "        "
   ]
  },
  {
   "cell_type": "code",
   "execution_count": 92,
   "metadata": {},
   "outputs": [
    {
     "name": "stdout",
     "output_type": "stream",
     "text": [
      "13672\n"
     ]
    }
   ],
   "source": [
    "print(len(ListeNameActeur))"
   ]
  },
  {
   "cell_type": "markdown",
   "metadata": {},
   "source": [
    "Pour chaque acteur récuperer les films dans lequel il a joué(et leur genre)"
   ]
  },
  {
   "cell_type": "markdown",
   "metadata": {},
   "source": [
    "Ecrire une fonction qui prend en argument un nom dacteur  et retourne la liste des id-genres de films dans lequel il a joué "
   ]
  },
  {
   "cell_type": "code",
   "execution_count": 93,
   "metadata": {},
   "outputs": [],
   "source": [
    "def IdActeur(name):\n",
    "    ListeId=[]\n",
    "    ListeFilms=[]\n",
    "    \n",
    "    for i in range(0,len(acteurs)):\n",
    "        for dicoActeur in acteurs[i]:\n",
    "            if(dicoActeur[\"name\"]==name):\n",
    "                tab=movies2[i][\"genre_ids\"]\n",
    "                ListeFilms.append(movies2[i][\"title\"])\n",
    "                for k in range(0,len(tab)):\n",
    "                    if(tab[k]!=''):\n",
    "                        ListeId.append(int(tab[k]))\n",
    "                        \n",
    "        \n",
    "    return (ListeId,ListeFilms)"
   ]
  },
  {
   "cell_type": "code",
   "execution_count": 94,
   "metadata": {},
   "outputs": [
    {
     "name": "stdout",
     "output_type": "stream",
     "text": [
      "Tom hanks a joué dans  57  films\n"
     ]
    }
   ],
   "source": [
    "l1, l2 =IdActeur(\"Tom Hanks\")\n",
    "print(\"Tom hanks a joué dans \",len(l2),\" films\")"
   ]
  },
  {
   "cell_type": "markdown",
   "metadata": {},
   "source": [
    "Ecrire une fonction indMajoritaire qui prend en argument une liste d'id et retourne l'id qui apprait le plus dans la liste"
   ]
  },
  {
   "cell_type": "code",
   "execution_count": 95,
   "metadata": {},
   "outputs": [],
   "source": [
    "def indMajoritaire(Liste):\n",
    "    dico=dict()\n",
    "    #initialisation\n",
    "    for i in range(0,len(Liste)):\n",
    "        dico[Liste[i]]=0\n",
    "    \n",
    "    for i in range(0,len(Liste)):\n",
    "        dico[Liste[i]]=dico[Liste[i]]+1\n",
    "        \n",
    "    #recherche de lelement qui apparait le + de fois\n",
    "    maxx=-10000\n",
    "    for key in dico.keys():\n",
    "        if(dico[key]>maxx):\n",
    "            maxx=key\n",
    "    return maxx"
   ]
  },
  {
   "cell_type": "code",
   "execution_count": 96,
   "metadata": {},
   "outputs": [
    {
     "data": {
      "text/plain": [
       "4"
      ]
     },
     "execution_count": 96,
     "metadata": {},
     "output_type": "execute_result"
    }
   ],
   "source": [
    "indMajoritaire([1,5,4,8,6,8,4,4,5,4,8,9,4,4])"
   ]
  },
  {
   "cell_type": "code",
   "execution_count": 97,
   "metadata": {},
   "outputs": [
    {
     "data": {
      "text/plain": [
       "35"
      ]
     },
     "execution_count": 97,
     "metadata": {},
     "output_type": "execute_result"
    }
   ],
   "source": [
    "indMajoritaire(l1)"
   ]
  },
  {
   "cell_type": "code",
   "execution_count": 98,
   "metadata": {},
   "outputs": [
    {
     "name": "stdout",
     "output_type": "stream",
     "text": [
      "Tom Hanks a lhabitude de jouer dans des films de genre  Comedy\n"
     ]
    }
   ],
   "source": [
    "print(\"Tom Hanks a lhabitude de jouer dans des films de genre \",dictionaire_genre_idgenre[\"35\"])"
   ]
  },
  {
   "cell_type": "markdown",
   "metadata": {},
   "source": [
    "Definir pour chaque nom dacteur lid_genre majoritaire qui lui est associé"
   ]
  },
  {
   "cell_type": "code",
   "execution_count": 99,
   "metadata": {},
   "outputs": [],
   "source": [
    "def IdGenreMajoritaire(name):\n",
    "    listeId, listeNameFilm=IdActeur(name)\n",
    "    return indMajoritaire(listeId)"
   ]
  },
  {
   "cell_type": "code",
   "execution_count": 100,
   "metadata": {},
   "outputs": [
    {
     "data": {
      "text/plain": [
       "35"
      ]
     },
     "execution_count": 100,
     "metadata": {},
     "output_type": "execute_result"
    }
   ],
   "source": [
    "IdGenreMajoritaire(\"Tom Hanks\")"
   ]
  },
  {
   "cell_type": "markdown",
   "metadata": {},
   "source": [
    "Generer un dataframe avec comme attribut : idActeur , nomActeur, Categoriespécifique,sexe"
   ]
  },
  {
   "cell_type": "code",
   "execution_count": 101,
   "metadata": {},
   "outputs": [
    {
     "name": "stdout",
     "output_type": "stream",
     "text": [
      "[31, 'Tom Hanks', 35, 2]\n"
     ]
    },
    {
     "data": {
      "text/html": [
       "<div>\n",
       "<style scoped>\n",
       "    .dataframe tbody tr th:only-of-type {\n",
       "        vertical-align: middle;\n",
       "    }\n",
       "\n",
       "    .dataframe tbody tr th {\n",
       "        vertical-align: top;\n",
       "    }\n",
       "\n",
       "    .dataframe thead th {\n",
       "        text-align: right;\n",
       "    }\n",
       "</style>\n",
       "<table border=\"1\" class=\"dataframe\">\n",
       "  <thead>\n",
       "    <tr style=\"text-align: right;\">\n",
       "      <th></th>\n",
       "      <th>id</th>\n",
       "      <th>nom</th>\n",
       "      <th>id_genre</th>\n",
       "      <th>sexe</th>\n",
       "    </tr>\n",
       "  </thead>\n",
       "  <tbody>\n",
       "    <tr>\n",
       "      <th>0</th>\n",
       "      <td>31</td>\n",
       "      <td>Tom Hanks</td>\n",
       "      <td>35</td>\n",
       "      <td>2</td>\n",
       "    </tr>\n",
       "  </tbody>\n",
       "</table>\n",
       "</div>"
      ],
      "text/plain": [
       "   id        nom id_genre sexe\n",
       "0  31  Tom Hanks       35    2"
      ]
     },
     "execution_count": 101,
     "metadata": {},
     "output_type": "execute_result"
    }
   ],
   "source": [
    "L=['id' , 'nom', 'id_genre', 'sexe']\n",
    "Liste=[]\n",
    "Liste.append(ListeIdActeur[0])\n",
    "Liste.append(ListeNameActeur[0])\n",
    "Liste.append(IdGenreMajoritaire(ListeNameActeur[0]))\n",
    "Liste.append(ListeGenderActeur[0])\n",
    "print(Liste)\n",
    "Matrice=np.array([Liste])\n",
    "ligne=pd.DataFrame(Matrice, columns = L)\n",
    "ligne"
   ]
  },
  {
   "cell_type": "markdown",
   "metadata": {},
   "source": [
    "Le temps de Construction du Datframe est beaucoup trop si je garde les 162000 acteurs je vais en garder que quelques pour reduire le temps d'attente (assezpour avoir de bon resultats , voir dans le for)"
   ]
  },
  {
   "cell_type": "code",
   "execution_count": 102,
   "metadata": {},
   "outputs": [],
   "source": [
    "#temps de traitement long\n",
    "#ListeNameActeur  --> liste de tous les noms des acteurs\n",
    "#ListeIdActeur  ---> liste des ids de chaque acteurs\n",
    "#ListeGenderActeur  --> le sexe de chaque acteurs\n",
    "#Ces liste ont toutes la meme taille \n",
    "\n",
    "\n",
    "#temps attente tres long car 162000 acteur à traiter  # des que jobtient le dataframe je vais le sauvegarder dans un fichier csv comme ca la prochaine fois ca ira vite\n",
    "frames=[] #on y ajoute les lignes du Datframe au fur et à mesure\n",
    "       \n",
    "for i in range(0,1000):  #ici je prend 1000 acteurs mais larbre ne supporte pas un grand nombre de recusrsions , je vais donc devoir selectionner qulques acteurs dont la classe est 1 et quelques acetrrus dont la classe est -1 pour voir apparaitre une frontiere de decision       \n",
    "    #Construction de la ligne\n",
    "    Liste=[]\n",
    "    Liste.append(ListeIdActeur[i])\n",
    "    Liste.append(ListeNameActeur[i])\n",
    "    Liste.append(IdGenreMajoritaire(ListeNameActeur[i]))\n",
    "    Liste.append(ListeGenderActeur[i])\n",
    "    Matrice=np.array([Liste])\n",
    "    ligne=pd.DataFrame(Matrice)\n",
    "    frames.append(ligne)\n",
    "\n",
    "Data_Acteurs=pd.concat(frames)\n",
    "    "
   ]
  },
  {
   "cell_type": "code",
   "execution_count": 103,
   "metadata": {},
   "outputs": [],
   "source": [
    "Data_Acteurs.columns = ['id' , 'name', 'id_genre', 'sexe']"
   ]
  },
  {
   "cell_type": "code",
   "execution_count": 104,
   "metadata": {},
   "outputs": [
    {
     "data": {
      "text/html": [
       "<div>\n",
       "<style scoped>\n",
       "    .dataframe tbody tr th:only-of-type {\n",
       "        vertical-align: middle;\n",
       "    }\n",
       "\n",
       "    .dataframe tbody tr th {\n",
       "        vertical-align: top;\n",
       "    }\n",
       "\n",
       "    .dataframe thead th {\n",
       "        text-align: right;\n",
       "    }\n",
       "</style>\n",
       "<table border=\"1\" class=\"dataframe\">\n",
       "  <thead>\n",
       "    <tr style=\"text-align: right;\">\n",
       "      <th></th>\n",
       "      <th>id</th>\n",
       "      <th>name</th>\n",
       "      <th>id_genre</th>\n",
       "      <th>sexe</th>\n",
       "    </tr>\n",
       "  </thead>\n",
       "  <tbody>\n",
       "    <tr>\n",
       "      <th>0</th>\n",
       "      <td>31</td>\n",
       "      <td>Tom Hanks</td>\n",
       "      <td>35</td>\n",
       "      <td>2</td>\n",
       "    </tr>\n",
       "    <tr>\n",
       "      <th>0</th>\n",
       "      <td>12898</td>\n",
       "      <td>Tim Allen</td>\n",
       "      <td>35</td>\n",
       "      <td>2</td>\n",
       "    </tr>\n",
       "    <tr>\n",
       "      <th>0</th>\n",
       "      <td>7167</td>\n",
       "      <td>Don Rickles</td>\n",
       "      <td>16</td>\n",
       "      <td>2</td>\n",
       "    </tr>\n",
       "    <tr>\n",
       "      <th>0</th>\n",
       "      <td>12899</td>\n",
       "      <td>Jim Varney</td>\n",
       "      <td>35</td>\n",
       "      <td>2</td>\n",
       "    </tr>\n",
       "    <tr>\n",
       "      <th>0</th>\n",
       "      <td>12900</td>\n",
       "      <td>Wallace Shawn</td>\n",
       "      <td>35</td>\n",
       "      <td>2</td>\n",
       "    </tr>\n",
       "  </tbody>\n",
       "</table>\n",
       "</div>"
      ],
      "text/plain": [
       "      id           name id_genre sexe\n",
       "0     31      Tom Hanks       35    2\n",
       "0  12898      Tim Allen       35    2\n",
       "0   7167    Don Rickles       16    2\n",
       "0  12899     Jim Varney       35    2\n",
       "0  12900  Wallace Shawn       35    2"
      ]
     },
     "execution_count": 104,
     "metadata": {},
     "output_type": "execute_result"
    }
   ],
   "source": [
    "Data_Acteurs.head()"
   ]
  },
  {
   "cell_type": "markdown",
   "metadata": {},
   "source": [
    "Etape2:\n",
    "    Une fois l'ensemble de données contenant tous les acteurs de la base généré:\n",
    "    Le Label associé à l'acteur sera 1 si lacteur est présent dans le film, -1 sinon.\n",
    "    "
   ]
  },
  {
   "cell_type": "markdown",
   "metadata": {},
   "source": [
    "Ecrire une fonction prenant en argument un nom d'acteur et un tritre de film .\n",
    "Cette fonction retourne 1 si l'acteur joue dans le film , -1 sinon."
   ]
  },
  {
   "cell_type": "code",
   "execution_count": 105,
   "metadata": {},
   "outputs": [],
   "source": [
    "def ActeurActInFilm(nameA,title):\n",
    "    l1 , l2=IdActeur(nameA)\n",
    "    if(title in l2): #l2 = liste des films dans lesquel lacteur a joué\n",
    "        return 1\n",
    "    else:\n",
    "        return -1"
   ]
  },
  {
   "cell_type": "code",
   "execution_count": 106,
   "metadata": {},
   "outputs": [
    {
     "data": {
      "text/plain": [
       "1"
      ]
     },
     "execution_count": 106,
     "metadata": {},
     "output_type": "execute_result"
    }
   ],
   "source": [
    "ActeurActInFilm(\"Tom Hanks\",\"Toy Story\")"
   ]
  },
  {
   "cell_type": "markdown",
   "metadata": {},
   "source": [
    "Ecrire une fonction GenereDonne prenant en argument un ensemble de données(sous la forme dun dataframe) , et un titre de film.\n",
    "Elle retourne un ensemble de données sous la forme d'un LabelSet ,  avec comme attribues : catégorie spécifique , sexe"
   ]
  },
  {
   "cell_type": "code",
   "execution_count": 107,
   "metadata": {},
   "outputs": [],
   "source": [
    "def GenereDonne(DF,title):\n",
    "    set_exemples = ls.LabeledSet(2)\n",
    "\n",
    "    for i in range(0,len(DF)):\n",
    "        id_genre=DF.iloc[i][\"id_genre\"]\n",
    "        sexe=DF.iloc[i][\"sexe\"]\n",
    "        id_genre=int(id_genre)\n",
    "        sexe=int(sexe)\n",
    "        nameA=DF.iloc[i][\"name\"]\n",
    "        label=ActeurActInFilm(nameA,title)\n",
    "        vecteur=[]\n",
    "        vecteur.append(id_genre)\n",
    "        vecteur.append(sexe)\n",
    "        set_exemples.addExample(vecteur,label)\n",
    "        \n",
    "    return set_exemples\n",
    "        "
   ]
  },
  {
   "cell_type": "markdown",
   "metadata": {},
   "source": [
    "Maintenant on a notre ensemble de données , on peut travailler"
   ]
  },
  {
   "cell_type": "markdown",
   "metadata": {},
   "source": [
    "Construction de larbre  \n",
    "\n",
    "    Attention en haut on a généré 1000 acteurs mais l'arbre ne peut supporter qu'un certains nombre de récursions\n",
    "    .C'est pourquoi on va prélevé un échantillon de 20 exemples (acteurs) dans lensemble de 1000 exemples(acteurs).\n",
    "    On va en sorte que l'echantillon soit homogène --> c'est à dire qu'il contient assez d'exemple dont la classe est 1 et assez d'exemples dont la classe est -1"
   ]
  },
  {
   "cell_type": "code",
   "execution_count": 108,
   "metadata": {},
   "outputs": [],
   "source": [
    "def normalisation(Dataf):\n",
    "    M_Dataf=Dataf.as_matrix()\n",
    "    L=[]\n",
    "    for x in Dataf:\n",
    "        L.append(x) # recup le nom de la colonne\n",
    "    \n",
    "    for j in range(0,len(M_Dataf[0])):\n",
    "        colonne=M_Dataf[0: , j]\n",
    "        maxx=colonne.max()\n",
    "        minn=colonne.min()\n",
    "       \n",
    "        for i in range(0,len(colonne)):\n",
    "            \n",
    "            M_Dataf[i][j]=(M_Dataf[i][j]-minn)/(maxx-minn)\n",
    "            \n",
    "    \n",
    "    df= pd.DataFrame(M_Dataf, columns = L)\n",
    "    return df"
   ]
  },
  {
   "cell_type": "code",
   "execution_count": 109,
   "metadata": {},
   "outputs": [],
   "source": [
    "the_set=GenereDonne(Data_Acteurs,\"Toy Story\")"
   ]
  },
  {
   "cell_type": "code",
   "execution_count": 110,
   "metadata": {},
   "outputs": [],
   "source": [
    "#ls.affiche_base(the_set)"
   ]
  },
  {
   "cell_type": "code",
   "execution_count": 111,
   "metadata": {},
   "outputs": [],
   "source": [
    "Data_Acteurs2=Data_Acteurs[[\"id_genre\",\"sexe\"]]"
   ]
  },
  {
   "cell_type": "code",
   "execution_count": 112,
   "metadata": {},
   "outputs": [
    {
     "data": {
      "text/html": [
       "<div>\n",
       "<style scoped>\n",
       "    .dataframe tbody tr th:only-of-type {\n",
       "        vertical-align: middle;\n",
       "    }\n",
       "\n",
       "    .dataframe tbody tr th {\n",
       "        vertical-align: top;\n",
       "    }\n",
       "\n",
       "    .dataframe thead th {\n",
       "        text-align: right;\n",
       "    }\n",
       "</style>\n",
       "<table border=\"1\" class=\"dataframe\">\n",
       "  <thead>\n",
       "    <tr style=\"text-align: right;\">\n",
       "      <th></th>\n",
       "      <th>id_genre</th>\n",
       "      <th>sexe</th>\n",
       "    </tr>\n",
       "  </thead>\n",
       "  <tbody>\n",
       "    <tr>\n",
       "      <th>0</th>\n",
       "      <td>18</td>\n",
       "      <td>1</td>\n",
       "    </tr>\n",
       "    <tr>\n",
       "      <th>0</th>\n",
       "      <td>18</td>\n",
       "      <td>2</td>\n",
       "    </tr>\n",
       "    <tr>\n",
       "      <th>0</th>\n",
       "      <td>18</td>\n",
       "      <td>2</td>\n",
       "    </tr>\n",
       "    <tr>\n",
       "      <th>0</th>\n",
       "      <td>18</td>\n",
       "      <td>2</td>\n",
       "    </tr>\n",
       "    <tr>\n",
       "      <th>0</th>\n",
       "      <td>18</td>\n",
       "      <td>1</td>\n",
       "    </tr>\n",
       "  </tbody>\n",
       "</table>\n",
       "</div>"
      ],
      "text/plain": [
       "  id_genre sexe\n",
       "0       18    1\n",
       "0       18    2\n",
       "0       18    2\n",
       "0       18    2\n",
       "0       18    1"
      ]
     },
     "execution_count": 112,
     "metadata": {},
     "output_type": "execute_result"
    }
   ],
   "source": [
    "Data_Acteurs2.tail()"
   ]
  },
  {
   "cell_type": "code",
   "execution_count": 113,
   "metadata": {},
   "outputs": [],
   "source": [
    "Data_Acteurs2=Data_Acteurs2.astype(float)"
   ]
  },
  {
   "cell_type": "code",
   "execution_count": 114,
   "metadata": {},
   "outputs": [
    {
     "data": {
      "text/html": [
       "<div>\n",
       "<style scoped>\n",
       "    .dataframe tbody tr th:only-of-type {\n",
       "        vertical-align: middle;\n",
       "    }\n",
       "\n",
       "    .dataframe tbody tr th {\n",
       "        vertical-align: top;\n",
       "    }\n",
       "\n",
       "    .dataframe thead th {\n",
       "        text-align: right;\n",
       "    }\n",
       "</style>\n",
       "<table border=\"1\" class=\"dataframe\">\n",
       "  <thead>\n",
       "    <tr style=\"text-align: right;\">\n",
       "      <th></th>\n",
       "      <th>id_genre</th>\n",
       "      <th>sexe</th>\n",
       "    </tr>\n",
       "  </thead>\n",
       "  <tbody>\n",
       "    <tr>\n",
       "      <th>0</th>\n",
       "      <td>18.0</td>\n",
       "      <td>1.0</td>\n",
       "    </tr>\n",
       "    <tr>\n",
       "      <th>0</th>\n",
       "      <td>18.0</td>\n",
       "      <td>2.0</td>\n",
       "    </tr>\n",
       "    <tr>\n",
       "      <th>0</th>\n",
       "      <td>18.0</td>\n",
       "      <td>2.0</td>\n",
       "    </tr>\n",
       "    <tr>\n",
       "      <th>0</th>\n",
       "      <td>18.0</td>\n",
       "      <td>2.0</td>\n",
       "    </tr>\n",
       "    <tr>\n",
       "      <th>0</th>\n",
       "      <td>18.0</td>\n",
       "      <td>1.0</td>\n",
       "    </tr>\n",
       "  </tbody>\n",
       "</table>\n",
       "</div>"
      ],
      "text/plain": [
       "   id_genre  sexe\n",
       "0      18.0   1.0\n",
       "0      18.0   2.0\n",
       "0      18.0   2.0\n",
       "0      18.0   2.0\n",
       "0      18.0   1.0"
      ]
     },
     "execution_count": 114,
     "metadata": {},
     "output_type": "execute_result"
    }
   ],
   "source": [
    "Data_Acteurs2.tail()"
   ]
  },
  {
   "cell_type": "markdown",
   "metadata": {},
   "source": [
    "Affichage des données avant normalisation "
   ]
  },
  {
   "cell_type": "code",
   "execution_count": 115,
   "metadata": {},
   "outputs": [
    {
     "data": {
      "text/plain": [
       "<matplotlib.collections.PathCollection at 0x25271848438>"
      ]
     },
     "execution_count": 115,
     "metadata": {},
     "output_type": "execute_result"
    },
    {
     "data": {
      "image/png": "[encoded data removed]",
      "text/plain": [
       "<Figure size 432x288 with 1 Axes>"
      ]
     },
     "metadata": {
      "needs_background": "light"
     },
     "output_type": "display_data"
    }
   ],
   "source": [
    "plt.scatter(Data_Acteurs2['id_genre'],Data_Acteurs2['sexe'])"
   ]
  },
  {
   "cell_type": "markdown",
   "metadata": {},
   "source": [
    "plusieurs points se retrouve avec les mêmes coordonnées , c'est normal "
   ]
  },
  {
   "cell_type": "markdown",
   "metadata": {},
   "source": [
    "affichage des données après normalisation\n",
    "On normalise les données pour les projetés sur la même échelle"
   ]
  },
  {
   "cell_type": "code",
   "execution_count": 116,
   "metadata": {},
   "outputs": [
    {
     "name": "stderr",
     "output_type": "stream",
     "text": [
      "C:\\ProgramData\\Anaconda3\\lib\\site-packages\\ipykernel_launcher.py:2: FutureWarning: Method .as_matrix will be removed in a future version. Use .values instead.\n",
      "  \n"
     ]
    },
    {
     "data": {
      "text/html": [
       "<div>\n",
       "<style scoped>\n",
       "    .dataframe tbody tr th:only-of-type {\n",
       "        vertical-align: middle;\n",
       "    }\n",
       "\n",
       "    .dataframe tbody tr th {\n",
       "        vertical-align: top;\n",
       "    }\n",
       "\n",
       "    .dataframe thead th {\n",
       "        text-align: right;\n",
       "    }\n",
       "</style>\n",
       "<table border=\"1\" class=\"dataframe\">\n",
       "  <thead>\n",
       "    <tr style=\"text-align: right;\">\n",
       "      <th></th>\n",
       "      <th>id_genre</th>\n",
       "      <th>sexe</th>\n",
       "    </tr>\n",
       "  </thead>\n",
       "  <tbody>\n",
       "    <tr>\n",
       "      <th>0</th>\n",
       "      <td>0.002142</td>\n",
       "      <td>1.0</td>\n",
       "    </tr>\n",
       "    <tr>\n",
       "      <th>1</th>\n",
       "      <td>0.002142</td>\n",
       "      <td>1.0</td>\n",
       "    </tr>\n",
       "    <tr>\n",
       "      <th>2</th>\n",
       "      <td>0.000372</td>\n",
       "      <td>1.0</td>\n",
       "    </tr>\n",
       "    <tr>\n",
       "      <th>3</th>\n",
       "      <td>0.002142</td>\n",
       "      <td>1.0</td>\n",
       "    </tr>\n",
       "    <tr>\n",
       "      <th>4</th>\n",
       "      <td>0.002142</td>\n",
       "      <td>1.0</td>\n",
       "    </tr>\n",
       "  </tbody>\n",
       "</table>\n",
       "</div>"
      ],
      "text/plain": [
       "   id_genre  sexe\n",
       "0  0.002142   1.0\n",
       "1  0.002142   1.0\n",
       "2  0.000372   1.0\n",
       "3  0.002142   1.0\n",
       "4  0.002142   1.0"
      ]
     },
     "execution_count": 116,
     "metadata": {},
     "output_type": "execute_result"
    }
   ],
   "source": [
    "DataFnorm=normalisation(Data_Acteurs2)\n",
    "DataFnorm.head()"
   ]
  },
  {
   "cell_type": "code",
   "execution_count": 117,
   "metadata": {},
   "outputs": [
    {
     "data": {
      "text/plain": [
       "<matplotlib.collections.PathCollection at 0x252716e9160>"
      ]
     },
     "execution_count": 117,
     "metadata": {},
     "output_type": "execute_result"
    },
    {
     "data": {
      "image/png": "[encoded data removed]",
      "text/plain": [
       "<Figure size 432x288 with 1 Axes>"
      ]
     },
     "metadata": {
      "needs_background": "light"
     },
     "output_type": "display_data"
    }
   ],
   "source": [
    "plt.scatter(DataFnorm['id_genre'],DataFnorm['sexe'])"
   ]
  },
  {
   "cell_type": "code",
   "execution_count": 118,
   "metadata": {},
   "outputs": [
    {
     "data": {
      "text/plain": [
       "1000"
      ]
     },
     "execution_count": 118,
     "metadata": {},
     "output_type": "execute_result"
    }
   ],
   "source": [
    "the_set.size()"
   ]
  },
  {
   "cell_type": "markdown",
   "metadata": {},
   "source": [
    "Cette fonction prend en argument un dataframe et le labelset qui lui est associé , et retourne un nouveau labelSet avec les valeurs normalisés"
   ]
  },
  {
   "cell_type": "code",
   "execution_count": 119,
   "metadata": {},
   "outputs": [],
   "source": [
    "def NormalisationDonnee(DF,Lset):\n",
    "    set_Norm = ls.LabeledSet(2)\n",
    "    DNorm=normalisation(DF)\n",
    "    \n",
    "    \n",
    "    for i in range(0,len(DNorm)):\n",
    "        id_genre=DNorm.iloc[i][\"id_genre\"]\n",
    "        sexe=DNorm.iloc[i][\"sexe\"]\n",
    "        id_genre=float(id_genre)\n",
    "        sexe=float(sexe)\n",
    "        vecteur=[]\n",
    "        vecteur.append(id_genre)\n",
    "        vecteur.append(sexe)\n",
    "        set_Norm.addExample(vecteur,Lset.getY(i)[0])\n",
    "    \n",
    "    return set_Norm"
   ]
  },
  {
   "cell_type": "code",
   "execution_count": 120,
   "metadata": {},
   "outputs": [
    {
     "name": "stderr",
     "output_type": "stream",
     "text": [
      "C:\\ProgramData\\Anaconda3\\lib\\site-packages\\ipykernel_launcher.py:2: FutureWarning: Method .as_matrix will be removed in a future version. Use .values instead.\n",
      "  \n"
     ]
    }
   ],
   "source": [
    "the_set_Norm=NormalisationDonnee(Data_Acteurs2,the_set)"
   ]
  },
  {
   "cell_type": "code",
   "execution_count": 121,
   "metadata": {},
   "outputs": [],
   "source": [
    "#ls.affiche_base(the_set_Norm)"
   ]
  },
  {
   "cell_type": "code",
   "execution_count": 122,
   "metadata": {},
   "outputs": [],
   "source": [
    "def echantillonLS(X,m):  \n",
    "       \n",
    "    S_pos = X.x[np.where(X.y == 1),:][0]      # tous les exemples de label +1\n",
    "    S_neg = X.x[np.where(X.y == -1),:][0] \n",
    "    Lb=ls.LabeledSet(X.input_dimension)  \n",
    "    \n",
    "    for j in range(0,m):  \n",
    "        if(j>=len(S_pos)):\n",
    "            break\n",
    "        Lb.addExample(S_pos[j],1)\n",
    "    \n",
    "    for j in range(0,m):\n",
    "        if(j>=len(S_neg)):\n",
    "            break\n",
    "        Lb.addExample(S_neg[j],-1)\n",
    "\n",
    "    return Lb"
   ]
  },
  {
   "cell_type": "code",
   "execution_count": 123,
   "metadata": {},
   "outputs": [],
   "source": [
    "echl=echantillonLS(the_set_Norm,10) \n",
    "#ls.affiche_base(echl)\n",
    "#type(echl.getX(0)[0])"
   ]
  },
  {
   "cell_type": "code",
   "execution_count": 124,
   "metadata": {},
   "outputs": [],
   "source": [
    "#echl2=echantillonLS(the_set,10) \n",
    "#ls.affiche_base(echl2)"
   ]
  },
  {
   "cell_type": "markdown",
   "metadata": {},
   "source": [
    "Nos Affichages:  (ca marche pas tout le temps bizarre , et je peux pas le tester sur de grands ensemble)"
   ]
  },
  {
   "cell_type": "code",
   "execution_count": 125,
   "metadata": {},
   "outputs": [],
   "source": [
    "#test=ar.genereDonne(100,2)   cela ma apermis de voir que l'arbre a du mal à se construire à cause des valeurs des données\n",
    "#ls.affiche_base(test)"
   ]
  },
  {
   "cell_type": "code",
   "execution_count": 126,
   "metadata": {
    "scrolled": false
   },
   "outputs": [],
   "source": [
    "#abin = ar.construit_AD2(echl,0.0)\n",
    "#gtree = gv.Digraph(format='png')  # je comprend pas pourquoi quand je prend des gros echantillions , ça bug#\n",
    "#abin.to_graph(gtree)"
   ]
  },
  {
   "cell_type": "markdown",
   "metadata": {},
   "source": [
    "Affichage frontière de décision de l'arbre   #il y a un probleme au niveau des valeurs des données , car même en les normalisant l'arbre ne veut pas se contruire , jai fais un test avec des valeurs dun dataset du tme6 et j'ai compris que le problème venait des valeurs des exemples de notre dataset"
   ]
  },
  {
   "cell_type": "code",
   "execution_count": 127,
   "metadata": {},
   "outputs": [],
   "source": [
    "#ad=ar.ArbreDecision(0.0)          \n",
    "#ad.train(echl)            \n",
    "#ut.plot_frontiere(echl,ad,20)\n",
    "#ut.plot2DSet(echl) "
   ]
  },
  {
   "cell_type": "markdown",
   "metadata": {},
   "source": [
    "Conclusion:"
   ]
  },
  {
   "cell_type": "markdown",
   "metadata": {},
   "source": [
    "#On ne pourra conclure que sur de grand ensemble.\n",
    "IL aurait fallut observer la valeur en ordonné et en abcise des différents attribut pour essayer de déterminer quel sont les\n",
    "id_genre et le sexe quil faut avoir pour pouvoir jouer dans ce film"
   ]
  },
  {
   "cell_type": "markdown",
   "metadata": {},
   "source": [
    "CLASSIFICATION NON SUPERVISEE : CLUSTERING HIERARCHIQUE\n",
    "\n",
    "    Objectif: prédire la catégorie d'un film.\n",
    "    Protocole: \n",
    "           On récupère les acteurs qui sont présent dans ce film.\n",
    "           on définit un vecteur de coordonnées pour chacun de ces acteurs (catégorie spécifique de l'acteur et son sexe).\n",
    "           On normailse les données pour les ramener dans l'intervalle [0,1].\n",
    "           On applique l'algo  du clustering sur ces données.\n",
    "           "
   ]
  },
  {
   "cell_type": "markdown",
   "metadata": {},
   "source": [
    "Initialisation : \n",
    "    prenons le film Toy story et essayons de prédire la catégorie de ce film (genre).\n",
    "    Nous on sait d'avance que ce film est catégorié dan sles genres ['16', '35', '10751'] ( Animation,Comedy,Children).\n",
    "    Le but de notre démarche va être d'observer les distances entre les différentes fusion, Afin de conclure sur quel sera la catégorie qui semble la mieux collé avec le film.\n",
    "    "
   ]
  },
  {
   "cell_type": "markdown",
   "metadata": {},
   "source": [
    "Etape 1:\n",
    "Recuperer les acteurs du films , et construire le Dataframe associé avec l'id_genre majoritaire et le sexe comme attribues"
   ]
  },
  {
   "cell_type": "code",
   "execution_count": 128,
   "metadata": {},
   "outputs": [],
   "source": [
    "def TrouverPositionFilmDansBaseacteur(title):\n",
    "    for i in range (0,len(movies2)):\n",
    "        if(movies2[i][\"title\"]==title):\n",
    "            return i\n",
    "        \n",
    "    return nan"
   ]
  },
  {
   "cell_type": "code",
   "execution_count": 129,
   "metadata": {},
   "outputs": [
    {
     "data": {
      "text/plain": [
       "0"
      ]
     },
     "execution_count": 129,
     "metadata": {},
     "output_type": "execute_result"
    }
   ],
   "source": [
    "TrouverPositionFilmDansBaseacteur(\"Toy Story\")"
   ]
  },
  {
   "cell_type": "code",
   "execution_count": 130,
   "metadata": {},
   "outputs": [],
   "source": [
    "def ListActeursbyFilm(title):\n",
    "    ind=TrouverPositionFilmDansBaseacteur(title)\n",
    "    ListeNameActeurs=[]\n",
    "    ListeIdActeurs=[]\n",
    "    ListeGenderActeurs=[]\n",
    "    \n",
    "    \n",
    "    for acteur in acteurs[ind]:  #rappel --> la bases acteur est une liste de liste de dictionnaire , ou chaque liste représente un un film et les dico qui lui sont associés sont les acteurs qui y jouent\n",
    "        ListeNameActeurs.append(acteur[\"name\"])\n",
    "        ListeIdActeurs.append(acteur[\"id\"])\n",
    "        ListeGenderActeurs.append(acteur[\"gender\"])\n",
    "        \n",
    "    return(ListeNameActeurs,ListeIdActeurs,ListeGenderActeurs)\n",
    "        \n",
    "        "
   ]
  },
  {
   "cell_type": "code",
   "execution_count": 131,
   "metadata": {},
   "outputs": [],
   "source": [
    "noms,ids,sexes =ListActeursbyFilm(\"Toy Story\")\n"
   ]
  },
  {
   "cell_type": "code",
   "execution_count": 132,
   "metadata": {},
   "outputs": [
    {
     "name": "stdout",
     "output_type": "stream",
     "text": [
      "['Tom Hanks', 'Tim Allen', 'Don Rickles', 'Jim Varney', 'Wallace Shawn']\n",
      "[31, 12898, 7167, 12899, 12900]\n",
      "[2, 2, 2, 2, 2]\n"
     ]
    }
   ],
   "source": [
    "print(noms[0:5])\n",
    "print(ids[0:5])\n",
    "print(sexes[0:5])  #gender =2  --> cest un homme , gender=1 --cest une femme , gender =0 --> ?"
   ]
  },
  {
   "cell_type": "markdown",
   "metadata": {},
   "source": [
    "Maintenant on va générer un Datframe à partir de ces données.\n"
   ]
  },
  {
   "cell_type": "markdown",
   "metadata": {},
   "source": [
    "Ecrire une fonction GenereDataFrame qui à partir dune liste de nom d'acteurs , d'une liste d'idacteur et dune liste de genre d'acteurs , retourne le dataframe associé"
   ]
  },
  {
   "cell_type": "code",
   "execution_count": 133,
   "metadata": {},
   "outputs": [],
   "source": [
    "def GenereDataFrame(l_id,l_name,l_sexe):  # lid -->liste did acteur , lname --> liste nameacteurs , l_sexe--> liste sexes acteurs\n",
    "    frames=[] #on y ajoute les lignes du Datframe au fur et à mesure\n",
    "\n",
    "    for i in range(0,len(l_id)):  #ici je prend 1000 acteurs mais larbre ne supporte pas un grand nombre de recusrsions , je vais donc devoir selectionner qulques acteurs dont la classe est 1 et quelques acetrrus dont la classe est -1 pour voir apparaitre une frontiere de decision       \n",
    "        #Construction de la ligne\n",
    "        Liste=[]\n",
    "        Liste.append(l_id[i])\n",
    "        Liste.append(l_name[i])\n",
    "        Liste.append(IdGenreMajoritaire(l_name[i])) #retourne l'idgenre majoritaire pour cet acteur (catégorie spécifique --> le genre qui lui correspond le mieux)\n",
    "        Liste.append(l_sexe[i])\n",
    "        Matrice=np.array([Liste])\n",
    "        ligne=pd.DataFrame(Matrice)\n",
    "        frames.append(ligne)\n",
    "\n",
    "    res=pd.concat(frames)\n",
    "    res.columns = ['id' , 'name', 'id_genre', 'sexe']\n",
    "    return res\n",
    "    "
   ]
  },
  {
   "cell_type": "code",
   "execution_count": 134,
   "metadata": {},
   "outputs": [],
   "source": [
    "Data_Acteurs_Cluster=GenereDataFrame(ids,noms,sexes)"
   ]
  },
  {
   "cell_type": "code",
   "execution_count": 135,
   "metadata": {},
   "outputs": [
    {
     "data": {
      "text/html": [
       "<div>\n",
       "<style scoped>\n",
       "    .dataframe tbody tr th:only-of-type {\n",
       "        vertical-align: middle;\n",
       "    }\n",
       "\n",
       "    .dataframe tbody tr th {\n",
       "        vertical-align: top;\n",
       "    }\n",
       "\n",
       "    .dataframe thead th {\n",
       "        text-align: right;\n",
       "    }\n",
       "</style>\n",
       "<table border=\"1\" class=\"dataframe\">\n",
       "  <thead>\n",
       "    <tr style=\"text-align: right;\">\n",
       "      <th></th>\n",
       "      <th>id</th>\n",
       "      <th>name</th>\n",
       "      <th>id_genre</th>\n",
       "      <th>sexe</th>\n",
       "    </tr>\n",
       "  </thead>\n",
       "  <tbody>\n",
       "    <tr>\n",
       "      <th>0</th>\n",
       "      <td>31</td>\n",
       "      <td>Tom Hanks</td>\n",
       "      <td>35</td>\n",
       "      <td>2</td>\n",
       "    </tr>\n",
       "    <tr>\n",
       "      <th>0</th>\n",
       "      <td>12898</td>\n",
       "      <td>Tim Allen</td>\n",
       "      <td>35</td>\n",
       "      <td>2</td>\n",
       "    </tr>\n",
       "    <tr>\n",
       "      <th>0</th>\n",
       "      <td>7167</td>\n",
       "      <td>Don Rickles</td>\n",
       "      <td>16</td>\n",
       "      <td>2</td>\n",
       "    </tr>\n",
       "    <tr>\n",
       "      <th>0</th>\n",
       "      <td>12899</td>\n",
       "      <td>Jim Varney</td>\n",
       "      <td>35</td>\n",
       "      <td>2</td>\n",
       "    </tr>\n",
       "    <tr>\n",
       "      <th>0</th>\n",
       "      <td>12900</td>\n",
       "      <td>Wallace Shawn</td>\n",
       "      <td>35</td>\n",
       "      <td>2</td>\n",
       "    </tr>\n",
       "  </tbody>\n",
       "</table>\n",
       "</div>"
      ],
      "text/plain": [
       "      id           name id_genre sexe\n",
       "0     31      Tom Hanks       35    2\n",
       "0  12898      Tim Allen       35    2\n",
       "0   7167    Don Rickles       16    2\n",
       "0  12899     Jim Varney       35    2\n",
       "0  12900  Wallace Shawn       35    2"
      ]
     },
     "execution_count": 135,
     "metadata": {},
     "output_type": "execute_result"
    }
   ],
   "source": [
    "Data_Acteurs_Cluster.head()  #déjà quand on voit les id genres qui apparaissent dans ce \n",
    "                            #dataFrame on voit bien quon retourve les ids_genre 35,16,10751 associéau film toy story"
   ]
  },
  {
   "cell_type": "markdown",
   "metadata": {},
   "source": [
    "Maintenant on peut travaillesur ces données"
   ]
  },
  {
   "cell_type": "code",
   "execution_count": 136,
   "metadata": {},
   "outputs": [],
   "source": [
    "Data_Donnees_Cluster=Data_Acteurs_Cluster[[\"id_genre\",\"sexe\"]]"
   ]
  },
  {
   "cell_type": "code",
   "execution_count": 137,
   "metadata": {},
   "outputs": [
    {
     "data": {
      "text/html": [
       "<div>\n",
       "<style scoped>\n",
       "    .dataframe tbody tr th:only-of-type {\n",
       "        vertical-align: middle;\n",
       "    }\n",
       "\n",
       "    .dataframe tbody tr th {\n",
       "        vertical-align: top;\n",
       "    }\n",
       "\n",
       "    .dataframe thead th {\n",
       "        text-align: right;\n",
       "    }\n",
       "</style>\n",
       "<table border=\"1\" class=\"dataframe\">\n",
       "  <thead>\n",
       "    <tr style=\"text-align: right;\">\n",
       "      <th></th>\n",
       "      <th>id_genre</th>\n",
       "      <th>sexe</th>\n",
       "    </tr>\n",
       "  </thead>\n",
       "  <tbody>\n",
       "    <tr>\n",
       "      <th>0</th>\n",
       "      <td>35</td>\n",
       "      <td>2</td>\n",
       "    </tr>\n",
       "    <tr>\n",
       "      <th>0</th>\n",
       "      <td>35</td>\n",
       "      <td>2</td>\n",
       "    </tr>\n",
       "    <tr>\n",
       "      <th>0</th>\n",
       "      <td>16</td>\n",
       "      <td>2</td>\n",
       "    </tr>\n",
       "    <tr>\n",
       "      <th>0</th>\n",
       "      <td>35</td>\n",
       "      <td>2</td>\n",
       "    </tr>\n",
       "    <tr>\n",
       "      <th>0</th>\n",
       "      <td>35</td>\n",
       "      <td>2</td>\n",
       "    </tr>\n",
       "  </tbody>\n",
       "</table>\n",
       "</div>"
      ],
      "text/plain": [
       "  id_genre sexe\n",
       "0       35    2\n",
       "0       35    2\n",
       "0       16    2\n",
       "0       35    2\n",
       "0       35    2"
      ]
     },
     "execution_count": 137,
     "metadata": {},
     "output_type": "execute_result"
    }
   ],
   "source": [
    "Data_Donnees_Cluster.head()"
   ]
  },
  {
   "cell_type": "code",
   "execution_count": 138,
   "metadata": {},
   "outputs": [],
   "source": [
    "Data_Donnees_Cluster=Data_Donnees_Cluster.astype(float)"
   ]
  },
  {
   "cell_type": "markdown",
   "metadata": {},
   "source": [
    "Affichage des données avant Normalisation"
   ]
  },
  {
   "cell_type": "code",
   "execution_count": 139,
   "metadata": {},
   "outputs": [
    {
     "data": {
      "text/plain": [
       "<matplotlib.collections.PathCollection at 0x252718a9278>"
      ]
     },
     "execution_count": 139,
     "metadata": {},
     "output_type": "execute_result"
    },
    {
     "data": {
      "image/png": "[encoded data removed]",
      "text/plain": [
       "<Figure size 432x288 with 1 Axes>"
      ]
     },
     "metadata": {
      "needs_background": "light"
     },
     "output_type": "display_data"
    }
   ],
   "source": [
    "plt.scatter(Data_Donnees_Cluster['id_genre'],Data_Donnees_Cluster['sexe'])"
   ]
  },
  {
   "cell_type": "markdown",
   "metadata": {},
   "source": [
    "affichage des données après normalisation\n",
    "On normalise les données pour les projetés sur la même échelle"
   ]
  },
  {
   "cell_type": "code",
   "execution_count": 140,
   "metadata": {},
   "outputs": [
    {
     "name": "stderr",
     "output_type": "stream",
     "text": [
      "C:\\ProgramData\\Anaconda3\\lib\\site-packages\\ipykernel_launcher.py:2: FutureWarning: Method .as_matrix will be removed in a future version. Use .values instead.\n",
      "  \n"
     ]
    },
    {
     "data": {
      "text/html": [
       "<div>\n",
       "<style scoped>\n",
       "    .dataframe tbody tr th:only-of-type {\n",
       "        vertical-align: middle;\n",
       "    }\n",
       "\n",
       "    .dataframe tbody tr th {\n",
       "        vertical-align: top;\n",
       "    }\n",
       "\n",
       "    .dataframe thead th {\n",
       "        text-align: right;\n",
       "    }\n",
       "</style>\n",
       "<table border=\"1\" class=\"dataframe\">\n",
       "  <thead>\n",
       "    <tr style=\"text-align: right;\">\n",
       "      <th></th>\n",
       "      <th>id_genre</th>\n",
       "      <th>sexe</th>\n",
       "    </tr>\n",
       "  </thead>\n",
       "  <tbody>\n",
       "    <tr>\n",
       "      <th>0</th>\n",
       "      <td>0.00177</td>\n",
       "      <td>1.0</td>\n",
       "    </tr>\n",
       "    <tr>\n",
       "      <th>1</th>\n",
       "      <td>0.00177</td>\n",
       "      <td>1.0</td>\n",
       "    </tr>\n",
       "    <tr>\n",
       "      <th>2</th>\n",
       "      <td>0.00000</td>\n",
       "      <td>1.0</td>\n",
       "    </tr>\n",
       "    <tr>\n",
       "      <th>3</th>\n",
       "      <td>0.00177</td>\n",
       "      <td>1.0</td>\n",
       "    </tr>\n",
       "    <tr>\n",
       "      <th>4</th>\n",
       "      <td>0.00177</td>\n",
       "      <td>1.0</td>\n",
       "    </tr>\n",
       "  </tbody>\n",
       "</table>\n",
       "</div>"
      ],
      "text/plain": [
       "   id_genre  sexe\n",
       "0   0.00177   1.0\n",
       "1   0.00177   1.0\n",
       "2   0.00000   1.0\n",
       "3   0.00177   1.0\n",
       "4   0.00177   1.0"
      ]
     },
     "execution_count": 140,
     "metadata": {},
     "output_type": "execute_result"
    }
   ],
   "source": [
    "DataClusternorm=normalisation(Data_Donnees_Cluster)\n",
    "DataClusternorm.head()"
   ]
  },
  {
   "cell_type": "code",
   "execution_count": 141,
   "metadata": {},
   "outputs": [
    {
     "name": "stderr",
     "output_type": "stream",
     "text": [
      "C:\\ProgramData\\Anaconda3\\lib\\site-packages\\ipykernel_launcher.py:1: FutureWarning: Method .as_matrix will be removed in a future version. Use .values instead.\n",
      "  \"\"\"Entry point for launching an IPython kernel.\n"
     ]
    }
   ],
   "source": [
    "M_data2D= DataClusternorm.as_matrix() "
   ]
  },
  {
   "cell_type": "code",
   "execution_count": 142,
   "metadata": {},
   "outputs": [
    {
     "name": "stderr",
     "output_type": "stream",
     "text": [
      "..\\iads\\Clusters.py:26: FutureWarning: Method .as_matrix will be removed in a future version. Use .values instead.\n",
      "  M_Dataf=Dataf.as_matrix()\n"
     ]
    },
    {
     "name": "stdout",
     "output_type": "stream",
     "text": [
      "Fusion de   0   et   1   pour une distance de 0.0\n",
      "Fusion de   2   et   7   pour une distance de 0.0\n",
      "Fusion de   3   et   4   pour une distance de 0.0\n",
      "Fusion de   5   et   36   pour une distance de 0.0\n",
      "Fusion de   6   et   9   pour une distance de 0.0\n",
      "Fusion de   8   et   10   pour une distance de 0.0\n",
      "Fusion de   11   et   23   pour une distance de 0.0\n",
      "Fusion de   12   et   16   pour une distance de 0.0\n",
      "Fusion de   14   et   24   pour une distance de 0.0\n",
      "Fusion de   15   et   17   pour une distance de 0.0\n",
      "Fusion de   18   et   20   pour une distance de 0.0\n",
      "Fusion de   21   et   22   pour une distance de 0.0\n",
      "Fusion de   25   et   27   pour une distance de 0.0\n",
      "Fusion de   26   et   33   pour une distance de 0.0\n",
      "Fusion de   28   et   29   pour une distance de 0.0\n",
      "Fusion de   30   et   32   pour une distance de 0.0\n",
      "Fusion de   31   et   47   pour une distance de 0.0\n",
      "Fusion de   34   et   35   pour une distance de 0.0\n",
      "Fusion de   37   et   38   pour une distance de 0.0\n",
      "Fusion de   39   et   41   pour une distance de 0.0\n",
      "Fusion de   40   et   44   pour une distance de 0.0\n",
      "Fusion de   42   et   58   pour une distance de 0.0\n",
      "Fusion de   43   et   45   pour une distance de 0.0\n",
      "Fusion de   46   et   51   pour une distance de 0.0\n",
      "Fusion de   48   et   49   pour une distance de 0.0\n",
      "Fusion de   50   et   52   pour une distance de 0.0\n",
      "Fusion de   53   et   54   pour une distance de 0.0\n",
      "Fusion de   56   et   57   pour une distance de 0.0\n",
      "Fusion de   59   et   62   pour une distance de 0.0\n",
      "Fusion de   63   et   64   pour une distance de 0.0\n",
      "Fusion de   65   et   66   pour une distance de 0.0\n",
      "Fusion de   67   et   69   pour une distance de 0.0\n",
      "Fusion de   19   et   61   pour une distance de 0.0017699115044247787\n",
      "Fusion de   60   et   70   pour une distance de 0.0017699115044247787\n",
      "Fusion de   13   et   55   pour une distance de 0.5\n",
      "Fusion de   71   et   72   pour une distance de 0.5000000165690536\n",
      "Fusion de   68   et   74   pour une distance de 0.9074075234291309\n",
      "Fusion de   73   et   75   pour une distance de 1.0148483436955986\n",
      "\n",
      "La matrice M_Fusion obtenue :\n",
      " [[0.00000000e+00 1.00000000e+00 0.00000000e+00 2.00000000e+00]\n",
      " [2.00000000e+00 7.00000000e+00 0.00000000e+00 2.00000000e+00]\n",
      " [3.00000000e+00 4.00000000e+00 0.00000000e+00 2.00000000e+00]\n",
      " [5.00000000e+00 3.60000000e+01 0.00000000e+00 2.00000000e+00]\n",
      " [6.00000000e+00 9.00000000e+00 0.00000000e+00 2.00000000e+00]\n",
      " [8.00000000e+00 1.00000000e+01 0.00000000e+00 2.00000000e+00]\n",
      " [1.10000000e+01 2.30000000e+01 0.00000000e+00 2.00000000e+00]\n",
      " [1.20000000e+01 1.60000000e+01 0.00000000e+00 2.00000000e+00]\n",
      " [1.40000000e+01 2.40000000e+01 0.00000000e+00 2.00000000e+00]\n",
      " [1.50000000e+01 1.70000000e+01 0.00000000e+00 2.00000000e+00]\n",
      " [1.80000000e+01 2.00000000e+01 0.00000000e+00 2.00000000e+00]\n",
      " [2.10000000e+01 2.20000000e+01 0.00000000e+00 2.00000000e+00]\n",
      " [2.50000000e+01 2.70000000e+01 0.00000000e+00 2.00000000e+00]\n",
      " [2.60000000e+01 3.30000000e+01 0.00000000e+00 2.00000000e+00]\n",
      " [2.80000000e+01 2.90000000e+01 0.00000000e+00 2.00000000e+00]\n",
      " [3.00000000e+01 3.20000000e+01 0.00000000e+00 2.00000000e+00]\n",
      " [3.10000000e+01 4.70000000e+01 0.00000000e+00 2.00000000e+00]\n",
      " [3.40000000e+01 3.50000000e+01 0.00000000e+00 2.00000000e+00]\n",
      " [3.70000000e+01 3.80000000e+01 0.00000000e+00 2.00000000e+00]\n",
      " [3.90000000e+01 4.10000000e+01 0.00000000e+00 2.00000000e+00]\n",
      " [4.00000000e+01 4.40000000e+01 0.00000000e+00 2.00000000e+00]\n",
      " [4.20000000e+01 5.80000000e+01 0.00000000e+00 2.00000000e+00]\n",
      " [4.30000000e+01 4.50000000e+01 0.00000000e+00 2.00000000e+00]\n",
      " [4.60000000e+01 5.10000000e+01 0.00000000e+00 2.00000000e+00]\n",
      " [4.80000000e+01 4.90000000e+01 0.00000000e+00 2.00000000e+00]\n",
      " [5.00000000e+01 5.20000000e+01 0.00000000e+00 2.00000000e+00]\n",
      " [5.30000000e+01 5.40000000e+01 0.00000000e+00 2.00000000e+00]\n",
      " [5.60000000e+01 5.70000000e+01 0.00000000e+00 2.00000000e+00]\n",
      " [5.90000000e+01 6.20000000e+01 0.00000000e+00 2.00000000e+00]\n",
      " [6.30000000e+01 6.40000000e+01 0.00000000e+00 2.00000000e+00]\n",
      " [6.50000000e+01 6.60000000e+01 0.00000000e+00 2.00000000e+00]\n",
      " [6.70000000e+01 6.90000000e+01 0.00000000e+00 2.00000000e+00]\n",
      " [1.90000000e+01 6.10000000e+01 1.76991150e-03 2.00000000e+00]\n",
      " [6.00000000e+01 7.00000000e+01 1.76991150e-03 2.00000000e+00]\n",
      " [1.30000000e+01 5.50000000e+01 5.00000000e-01 2.00000000e+00]\n",
      " [7.10000000e+01 7.20000000e+01 5.00000017e-01 2.00000000e+00]\n",
      " [6.80000000e+01 7.40000000e+01 9.07407523e-01 2.00000000e+00]\n",
      " [7.30000000e+01 7.50000000e+01 1.01484834e+00 2.00000000e+00]]\n"
     ]
    },
    {
     "data": {
      "image/png": "[encoded data removed]",
      "text/plain": [
       "<Figure size 2160x1080 with 1 Axes>"
      ]
     },
     "metadata": {
      "needs_background": "light"
     },
     "output_type": "display_data"
    }
   ],
   "source": [
    "clu.clustering_hierarchique(Data_Donnees_Cluster,\"euclidienne\")"
   ]
  },
  {
   "cell_type": "markdown",
   "metadata": {},
   "source": [
    "Resusltat : il y a énormement de fusion (avec des petites distances proche de 0 , souvent 0) pour les données dont le genre_id valait 0,00176 (valeur non normalisé --> 35 genre Comédy).\n",
    "Du coup on peut donc dire que le film aura tendance à être un film de genre comedy (apres au nievau des autre fusion on voit que le genre Animation et children sont remarquables mais + minoritaire).\n",
    "\n",
    "Les acteurs dont la catégorie spécifique de genre comedy ont tendance a être majoritairement regroupé.\n",
    "Remarques:\n",
    "    Les fusion sont difficelement visbles sur l'axe des abcissses car les fuions sont très proches (distance 0)."
   ]
  },
  {
   "cell_type": "markdown",
   "metadata": {},
   "source": [
    " "
   ]
  },
  {
   "cell_type": "markdown",
   "metadata": {},
   "source": [
    "ClASSIFICATION SUPERVISEE:\n",
    "\n",
    "    On va tenter de prédire la catégorie d'un film en utilisant une approche supervisée"
   ]
  },
  {
   "cell_type": "markdown",
   "metadata": {},
   "source": [
    "Voici le plan de notre Démarche:\n",
    "    \n",
    "            Comme nous l'avons vu dans le cours n°10, notre objectif va être de transformer le problème multiclasse en un \n",
    "            problème de classe binaires. Initialement on a 19 genres , et on  veut pouvoir retrouver le genre d'un film parmis \n",
    "            ces 19 genres.\n",
    "            Pour cela on va utiliser l'approche du 1 contre tous.\n",
    "            \n",
    "            Protocole:\n",
    "            \n",
    "                Initialement on part d'une base d'exemples. Cette base contiendra tous les films pour lesquelles on souhaite \n",
    "                prédire le genre qui leur est associé. Pour chacun de ces films on déterminera un vecteur de coordonées.\n",
    "                Chaque vecteurs de coordonnées sera propre à chaque film. (Le but étant également de trouver les bons\n",
    "                paramètres que l'on associera à un film , afin d'améliorer sa classification  --> pour cela nous ferons\n",
    "                plusieurs essais sur différents vecteur de coordonées.). \n",
    "                \n",
    "                Nous sommes dans le cas d'une classification supervisée, c'est à dire que pour chaque film il sera nécessaire \n",
    "                de lui attribué une classe. On est dans la situation du 1 contre tous. C'est à dire que nous avons au total\n",
    "                19 genres , donc pour ces 19 genres il sera nécessaire de créer un classifieurs (un classifieurs pour chaque\n",
    "                genre). Ce classifieur nous permettra de savoir si le film qu'il traite fait partit d'un genre ou non.\n",
    "                On est donc ramener à un problème de classe binaire, car le classifieur qui représente un genre , va nous\n",
    "                permettre de savoir si un film fait partit d'un genre (son label sera 1) ou non(son label sera -1).\n",
    "                \n",
    "                Attention : Au début on part d'un ensemble commun de films où chacun est décrit à partir d'un vecteur de\n",
    "                            coordonées. Mais le label associé à ces films varie selon le classifieurs que l'on choisit.\n",
    "                            Par exemple si je tente de classer un film qui est du genre Action , lorsque je trnasmetrai\n",
    "                            au classifieur action il faudra que je lui attribue une classe 1. Mais lorsque je le transmettrai \n",
    "                            au classifieur de genre Drama il faudra que je lui attribue une classe -1.\n",
    "                            C'st à dire qu'il faudra associer à chaque classifieurs un jeu de données différents, dont les \n",
    "                            seules différences observées seront sur les labels des exemples.\n",
    "                            \n",
    "                Chaque classifieur agira sur l'ensemble de données qu'on lui fournira. On tracera la frontière de décision \n",
    "                que chaque classifieur aura déterminer à partir de l'ensemble de données qu'on lui aura fournit (et on \n",
    "                affichera le taux d'accuracy de ce classifieurs pour savoir si il  a bien fait son travail de classificatiopn).\n",
    "                \n",
    "                \n",
    "                Exploitation des données:\n",
    "                    Pour chaque classe prédit par un classifieur sur un film , on recupère  le score claculé par les \n",
    "                    classifieurs pour ce film , et on ne garde que le score maximale. Ainsi le score maximale calculé \n",
    "                    par un classifieur d'un genre , sera associé au genre du film .\n",
    "                    \n",
    "                    On peut par exemple stocker dans des ensembles les différents scores calculés pour \n",
    "                    chaques films calculés par chacun des classifieurs.Ainsi à la fin du travail de tous les classifieurs (\n",
    "                    19 genres -> 19 classifieurs) , on récupères l'ensembles des scores de chaque classifieurs.\n",
    "                    On aura 19 ensembles de scores , pour chaque valeur de ces 19 ensembles , on récup à chaque ittérations,\n",
    "                    le score maximale. Ainsi pour un classifieur de genre X dont le score est sup à tous les autres \n",
    "                    classifieurs , le film courant sera de genre X.\n",
    "                    \n",
    "                    \n",
    "         Conclusion : pour chaque film on aura le genre qui lui est associé ( Les valeurs des accuracy des différents\n",
    "         classifieurs nous donneront une indication pour savoir si on nos résultats trouvés sont fiables ou non).\n",
    "                            \n",
    "            \n",
    "\n",
    "\n"
   ]
  },
  {
   "cell_type": "code",
   "execution_count": 143,
   "metadata": {},
   "outputs": [
    {
     "data": {
      "text/plain": [
       "{'adult': False,\n",
       " 'backdrop_path': '/dji4Fm0gCDVb9DQQMRvAI8YNnTz.jpg',\n",
       " 'genre_ids': ['16', '35', '10751'],\n",
       " 'id': 862,\n",
       " 'original_language': 'en',\n",
       " 'original_title': 'Toy Story',\n",
       " 'overview': \"Led by Woody, Andy's toys live happily in his room until Andy's birthday brings Buzz Lightyear onto the scene. Afraid of losing his place in Andy's heart, Woody plots against Buzz. But when circumstances separate Buzz and Woody from their owner, the duo eventually learns to put aside their differences.\",\n",
       " 'poster_path': '/rhIRbceoE9lR4veEXuwCC2wARtG.jpg',\n",
       " 'release_date': '1995-10-30',\n",
       " 'title': 'Toy Story',\n",
       " 'video': False,\n",
       " 'vote_average': 7.9,\n",
       " 'vote_count': 9550,\n",
       " 'popularity': 22.773}"
      ]
     },
     "execution_count": 143,
     "metadata": {},
     "output_type": "execute_result"
    }
   ],
   "source": [
    "movies2[0]"
   ]
  },
  {
   "cell_type": "markdown",
   "metadata": {},
   "source": [
    "On va commencer par décrire un film à partir de sa note et deson nombre de vottant (vote_average,vote_count)"
   ]
  },
  {
   "cell_type": "code",
   "execution_count": 144,
   "metadata": {},
   "outputs": [],
   "source": [
    "tab_films_name=[]\n",
    "tab_films_note=[]\n",
    "tab_fims_vote=[]\n",
    "tab_films_genre=[] #va nous etre utile pour déterminer le label associé à une classe\n",
    "\n",
    "for movie in movies2:\n",
    "    tab_films_note.append(movie['vote_average'])\n",
    "    tab_fims_vote.append(movie['vote_count'])\n",
    "    tab_films_genre.append(movie['genre_ids'])\n",
    "    tab_films_name.append(movie['title'])"
   ]
  },
  {
   "cell_type": "markdown",
   "metadata": {},
   "source": [
    "On adapte le tableau associéaux genre_ids"
   ]
  },
  {
   "cell_type": "code",
   "execution_count": 145,
   "metadata": {},
   "outputs": [],
   "source": [
    "tab_film_genre_adapte=[]\n",
    "\n",
    "for tab in tab_films_genre:\n",
    "    ch='|'.join(tab)\n",
    "    tab_film_genre_adapte.append(ch)"
   ]
  },
  {
   "cell_type": "code",
   "execution_count": 146,
   "metadata": {},
   "outputs": [
    {
     "data": {
      "text/plain": [
       "['16|35|10751', '12|14|10751', '35|10749', '35|18|10749', '35']"
      ]
     },
     "execution_count": 146,
     "metadata": {},
     "output_type": "execute_result"
    }
   ],
   "source": [
    "tab_film_genre_adapte[0:5]"
   ]
  },
  {
   "cell_type": "markdown",
   "metadata": {},
   "source": [
    "On génère un Dataframe à partir des donnéesqu'on a récupéré"
   ]
  },
  {
   "cell_type": "code",
   "execution_count": 147,
   "metadata": {},
   "outputs": [],
   "source": [
    "frames=[] #on y ajoute les lignes du Datframe au fur et à mesure\n",
    "\n",
    "for i in range(0,len(tab_films_name)):  #ici je prend 1000 acteurs mais larbre ne supporte pas un grand nombre de recusrsions , je vais donc devoir selectionner qulques acteurs dont la classe est 1 et quelques acetrrus dont la classe est -1 pour voir apparaitre une frontiere de decision       \n",
    "    #Construction de la ligne\n",
    "    Liste=[]\n",
    "    Liste.append(tab_films_name[i])\n",
    "    Liste.append(tab_films_note[i])\n",
    "    Liste.append(tab_fims_vote[i])\n",
    "    Liste.append(tab_film_genre_adapte[i])\n",
    "    Matrice=np.array([Liste])\n",
    "    ligne=pd.DataFrame(Matrice)\n",
    "    frames.append(ligne)\n",
    "\n",
    "Ens_Donnee=pd.concat(frames)\n",
    "Ens_Donnee.columns = ['title' , 'vote_average', 'vote_count', 'genre_ids']"
   ]
  },
  {
   "cell_type": "code",
   "execution_count": 148,
   "metadata": {},
   "outputs": [
    {
     "data": {
      "text/html": [
       "<div>\n",
       "<style scoped>\n",
       "    .dataframe tbody tr th:only-of-type {\n",
       "        vertical-align: middle;\n",
       "    }\n",
       "\n",
       "    .dataframe tbody tr th {\n",
       "        vertical-align: top;\n",
       "    }\n",
       "\n",
       "    .dataframe thead th {\n",
       "        text-align: right;\n",
       "    }\n",
       "</style>\n",
       "<table border=\"1\" class=\"dataframe\">\n",
       "  <thead>\n",
       "    <tr style=\"text-align: right;\">\n",
       "      <th></th>\n",
       "      <th>title</th>\n",
       "      <th>vote_average</th>\n",
       "      <th>vote_count</th>\n",
       "      <th>genre_ids</th>\n",
       "    </tr>\n",
       "  </thead>\n",
       "  <tbody>\n",
       "    <tr>\n",
       "      <th>0</th>\n",
       "      <td>Toy Story</td>\n",
       "      <td>7.9</td>\n",
       "      <td>9550</td>\n",
       "      <td>16|35|10751</td>\n",
       "    </tr>\n",
       "    <tr>\n",
       "      <th>0</th>\n",
       "      <td>Jumanji</td>\n",
       "      <td>7.1</td>\n",
       "      <td>5594</td>\n",
       "      <td>12|14|10751</td>\n",
       "    </tr>\n",
       "    <tr>\n",
       "      <th>0</th>\n",
       "      <td>Grumpier Old Men</td>\n",
       "      <td>6.5</td>\n",
       "      <td>140</td>\n",
       "      <td>35|10749</td>\n",
       "    </tr>\n",
       "    <tr>\n",
       "      <th>0</th>\n",
       "      <td>Waiting to Exhale</td>\n",
       "      <td>6.1</td>\n",
       "      <td>55</td>\n",
       "      <td>35|18|10749</td>\n",
       "    </tr>\n",
       "    <tr>\n",
       "      <th>0</th>\n",
       "      <td>Father of the Bride Part II</td>\n",
       "      <td>6.1</td>\n",
       "      <td>288</td>\n",
       "      <td>35</td>\n",
       "    </tr>\n",
       "  </tbody>\n",
       "</table>\n",
       "</div>"
      ],
      "text/plain": [
       "                         title vote_average vote_count    genre_ids\n",
       "0                    Toy Story          7.9       9550  16|35|10751\n",
       "0                      Jumanji          7.1       5594  12|14|10751\n",
       "0             Grumpier Old Men          6.5        140     35|10749\n",
       "0            Waiting to Exhale          6.1         55  35|18|10749\n",
       "0  Father of the Bride Part II          6.1        288           35"
      ]
     },
     "execution_count": 148,
     "metadata": {},
     "output_type": "execute_result"
    }
   ],
   "source": [
    "Ens_Donnee.head()"
   ]
  },
  {
   "cell_type": "markdown",
   "metadata": {},
   "source": [
    "Comme on a dit on a dit on part d'un ensemble de données communs. Mais on doit adapté la derniere caractéristique (le label) en fonction du classifieur que l'on utilise.\n",
    "\n",
    "Rappel: 19 genres = 19 classifieurs --> ClassifieurDrama : genre Drama,...........,Classifieur Action: genre Action.\n"
   ]
  },
  {
   "cell_type": "markdown",
   "metadata": {},
   "source": [
    "Voici les differents classifieurs qu'il nous reste à faire.\n",
    "\n",
    "ClassifieurAnimation  -> genre 'Animation',\n",
    "ClassifieurComedy : -> genreComedy,\n",
    "ClassifieurChildren : -> genreChildren,\n",
    "ClassifieurAdventure -> genreAdventure\n",
    "ClassifieurFantasy: -> genreFantasy,\n",
    "ClassifieurRomance: -> Romance,\n",
    "ClassifieurDrama -> genreDrama,\n",
    "ClassifieurAction -> genreAction,\n",
    "ClassifieurCrime -> genreCrime,\n",
    "ClassifieurThriller -> Thriller,\n",
    "ClassifieurHorror  -> Horror,\n",
    "ClassifieurSci-Fi -> Sci-Fi,\n",
    "ClassifieurMystery -> genreMystery,\n",
    "ClassifieurWar -> genreWar,\n",
    "ClassifieurMusical  -> genreMusical,\n",
    "ClassifieurDocumentary -> genreDocumentary,\n",
    "ClassifieurWestern  -> genreWestern,\n",
    "ClassifieurDrama -> genreDrama,"
   ]
  },
  {
   "cell_type": "markdown",
   "metadata": {},
   "source": [
    "On a une base commune (Ens_Donnee) qu'il  va falloir transfomer en labelSet pour réaliser notre Classification.\n",
    "On aura besoin d'autant de jeu de donnée que de classifieur , car les label varie d'un classifieurs à un autre"
   ]
  },
  {
   "cell_type": "markdown",
   "metadata": {},
   "source": [
    "Avant de commencer notre classification , on va définir tous les Jeu de données dont on a besoin."
   ]
  },
  {
   "cell_type": "markdown",
   "metadata": {},
   "source": [
    "On va appliquer le 'one_Rot encoding' -> pour chaque film on lui attribue uun 1 si il fait partit d'un genre sinon 0."
   ]
  },
  {
   "cell_type": "code",
   "execution_count": 149,
   "metadata": {},
   "outputs": [],
   "source": [
    "List_id_genre=[]\n",
    "List_name_genre=[]\n",
    "\n",
    "for key in dictionaire_genre_idgenre.keys():\n",
    "    List_id_genre.append(key)\n",
    "    List_name_genre.append(dictionaire_genre_idgenre[key])\n",
    "    "
   ]
  },
  {
   "cell_type": "code",
   "execution_count": 150,
   "metadata": {},
   "outputs": [
    {
     "name": "stdout",
     "output_type": "stream",
     "text": [
      "List_id_genre:  ['16', '35', '10751', '12', '14', '10749', '18', '28', '80', '53', '27', '36', '878', '9648', '10752', '10402', '99', '37', '10770']\n",
      "List_name_genre:  ['Animation', 'Comedy', 'Children', 'Adventure', 'Fantasy', 'Romance', 'Drama', 'Action', 'Crime', 'Thriller', 'Horror', '', 'Sci-Fi', 'Mystery', 'War', 'Musical', 'Documentary', 'Western', 'Drama']\n"
     ]
    }
   ],
   "source": [
    "print('List_id_genre: ',List_id_genre)\n",
    "print('List_name_genre: ',List_name_genre)"
   ]
  },
  {
   "cell_type": "code",
   "execution_count": 151,
   "metadata": {},
   "outputs": [],
   "source": [
    "dico_one_rot_encoding=dict() #les clé seront les noms des films et les valurs -> un vecteur de valeur qui varient entre 0 et  1 pour savoir si le film fait partit du genre désigné\n",
    "\n",
    "for i in range (len(tab_films_name)): #pour chaque film je récup son vecteur de 0 et 1 afin de réaliser le one_rot encoding\n",
    "    movie=tab_films_name[i]\n",
    "    vec=[]\n",
    "    genre=tab_films_genre[i]\n",
    "    for genreid in List_id_genre:\n",
    "        if(genreid in genre):\n",
    "            vec.append(1)\n",
    "        else:\n",
    "            vec.append(0)\n",
    "    \n",
    "    dico_one_rot_encoding[movie]=vec\n",
    "\n"
   ]
  },
  {
   "cell_type": "code",
   "execution_count": 152,
   "metadata": {},
   "outputs": [
    {
     "name": "stdout",
     "output_type": "stream",
     "text": [
      "dico obtenue en sachant que on a cette liste dans cet ordre :\n",
      "List_name_genre:  ['Animation', 'Comedy', 'Children', 'Adventure', 'Fantasy', 'Romance', 'Drama', 'Action', 'Crime', 'Thriller', 'Horror', '', 'Sci-Fi', 'Mystery', 'War', 'Musical', 'Documentary', 'Western', 'Drama']\n",
      "Toy story : [1, 1, 1, 0, 0, 0, 0, 0, 0, 0, 0, 0, 0, 0, 0, 0, 0, 0, 0]\n"
     ]
    }
   ],
   "source": [
    "print('dico obtenue en sachant que on a cette liste dans cet ordre :')\n",
    "print('List_name_genre: ',List_name_genre)\n",
    "print('Toy story :',dico_one_rot_encoding['Toy Story'])"
   ]
  },
  {
   "cell_type": "markdown",
   "metadata": {},
   "source": [
    "Maintenant on peut travailler :\n",
    "    on a notre dico_one_rot_encoding , c'est ce qui va nous permettre de savoir si un film est de ce genre oui ou non,\n",
    "    Ainsi il va nous être facile de définir les labels pour notre jeu de données qu'on donne à l'entré d'un classifieur."
   ]
  },
  {
   "cell_type": "markdown",
   "metadata": {},
   "source": [
    "On peut commencer à Travailler:\n"
   ]
  },
  {
   "cell_type": "markdown",
   "metadata": {},
   "source": [
    "On va commencer par définir le jeu de données associé au genre Animation et le ClassieurAnimation.\n",
    "Animation est en position 0 du tableau."
   ]
  },
  {
   "cell_type": "code",
   "execution_count": 171,
   "metadata": {},
   "outputs": [],
   "source": [
    "liste_label=[]\n",
    "liste_donnees=[]\n",
    "for i in range(0,len(tab_films_name)):\n",
    "    movie=tab_films_name[i]\n",
    "    donne=[]\n",
    "    donne.append(tab_films_note[i])\n",
    "    donne.append(tab_fims_vote[i])\n",
    "    liste_donnees.append(donne)\n",
    "    if(dico_one_rot_encoding[movie][0]==1):\n",
    "        liste_label.append(1)\n",
    "    else:\n",
    "        liste_label.append(-1)\n",
    "    "
   ]
  },
  {
   "cell_type": "code",
   "execution_count": 176,
   "metadata": {},
   "outputs": [
    {
     "name": "stdout",
     "output_type": "stream",
     "text": [
      "Jeu de données du genre Animation:\n",
      "donnees:  [[7.9, 9550], [7.1, 5594], [6.5, 140], [6.1, 55], [6.1, 288]]\n",
      "labels:  [1, -1, 1, 1, 1]\n"
     ]
    }
   ],
   "source": [
    "print('Jeu de données du genre Animation:')\n",
    "print('donnees: ', liste_donnees[0:5])  #pour chaque film on a le label qui lui est associé \n",
    "print('labels: ',liste_label[0:5])   # dans cette exemple , pour chaque films on sait si oui ou non il est du genre Animation"
   ]
  },
  {
   "cell_type": "markdown",
   "metadata": {},
   "source": [
    "Il ne nous reste plus qu'a définir notre labelSet et notre classifieur (Nous allons enregistrer le score de chaque prédiction du classifieur dans un ensemble set) "
   ]
  },
  {
   "cell_type": "code",
   "execution_count": 155,
   "metadata": {},
   "outputs": [],
   "source": [
    "def GenereLabelSet(Donnes,Label):\n",
    "    dimension=len(Donnes[0])\n",
    "    Lset = ls.LabeledSet(dimension)\n",
    "    for i in range(0,len(Donnes)):\n",
    "        Lset.addExample(Donnes[i],Label[i])\n",
    "        \n",
    "    return Lset\n",
    "        "
   ]
  },
  {
   "cell_type": "markdown",
   "metadata": {},
   "source": [
    "On va normaliser les données"
   ]
  },
  {
   "cell_type": "code",
   "execution_count": 156,
   "metadata": {},
   "outputs": [],
   "source": [
    "liste_donnees=np.array(liste_donnees)"
   ]
  },
  {
   "cell_type": "code",
   "execution_count": 157,
   "metadata": {},
   "outputs": [],
   "source": [
    "import math\n",
    "\n",
    "def norma(M_Dataf):    \n",
    "    for j in range(0,len(M_Dataf[0])):\n",
    "        colonne=M_Dataf[0: , j]\n",
    "        maxx=colonne.max()\n",
    "        minn=colonne.min()\n",
    "        for i in range(0,len(colonne)):\n",
    "            M_Dataf[i][j]=(M_Dataf[i][j]-minn)/(maxx-minn)\n",
    "            \n",
    "    return M_Dataf"
   ]
  },
  {
   "cell_type": "code",
   "execution_count": 158,
   "metadata": {},
   "outputs": [],
   "source": [
    "liste_donnees_norma=norma(liste_donnees)\n",
    "#liste_donnees"
   ]
  },
  {
   "cell_type": "code",
   "execution_count": 159,
   "metadata": {},
   "outputs": [],
   "source": [
    "LsetAnimation=GenereLabelSet(liste_donnees,liste_label)"
   ]
  },
  {
   "cell_type": "code",
   "execution_count": 160,
   "metadata": {},
   "outputs": [],
   "source": [
    "#ls.affiche_base(LsetAnimation)"
   ]
  },
  {
   "cell_type": "code",
   "execution_count": 161,
   "metadata": {},
   "outputs": [],
   "source": [
    "k=cl.KernelPoly()"
   ]
  },
  {
   "cell_type": "code",
   "execution_count": 162,
   "metadata": {},
   "outputs": [
    {
     "name": "stdout",
     "output_type": "stream",
     "text": [
      "Accuracy: 100.0\n"
     ]
    },
    {
     "data": {
      "image/png": "[encoded data removed]",
      "text/plain": [
       "<Figure size 432x288 with 1 Axes>"
      ]
     },
     "metadata": {
      "needs_background": "light"
     },
     "output_type": "display_data"
    }
   ],
   "source": [
    "ClassifieurAnimation=cl.ClassifierPerceptronKernelBatch(6,0.1,k)\n",
    "ClassifieurAnimation.train(LsetAnimation)\n",
    "print(\"Accuracy:\",ClassifieurAnimation.accuracy(LsetAnimation))\n",
    "ut.plot_frontiere(LsetAnimation,ClassifieurAnimation)\n",
    "ut.plot2DSet(LsetAnimation)"
   ]
  },
  {
   "cell_type": "code",
   "execution_count": 181,
   "metadata": {},
   "outputs": [],
   "source": [
    "scoresAnimation=ClassifieurAnimation.scores"
   ]
  },
  {
   "cell_type": "markdown",
   "metadata": {},
   "source": [
    "CLASSIFIEURCOMEDY\n",
    "\n",
    "Comedy est en position 1 du tableau."
   ]
  },
  {
   "cell_type": "code",
   "execution_count": 173,
   "metadata": {},
   "outputs": [],
   "source": [
    "liste_label=[]\n",
    "liste_donnees=[]\n",
    "for i in range(0,len(tab_films_name)):\n",
    "    movie=tab_films_name[i]\n",
    "    donne=[]\n",
    "    donne.append(tab_films_note[i])\n",
    "    donne.append(tab_fims_vote[i])\n",
    "    liste_donnees.append(donne)\n",
    "    if(dico_one_rot_encoding[movie][1]==1): #on recup la valeur de la collone 1 car c'est elle qui correspond au genre Comedy \n",
    "        liste_label.append(1)\n",
    "    else:\n",
    "        liste_label.append(-1)\n",
    "    "
   ]
  },
  {
   "cell_type": "code",
   "execution_count": null,
   "metadata": {},
   "outputs": [],
   "source": [
    "def Test(norma,new2,classi):\n",
    "    \n",
    "    somme=0\n",
    "    tot=0\n",
    "    for i in range(0,len(norma)):\n",
    "        if(new2[i][0]==1):\n",
    "            #print('je suis la :',new2[i][0])\n",
    "            val=classi.predict(norma[i])\n",
    "            #print(val)\n",
    "            if(val>=0):\n",
    "                somme+=1\n",
    "            tot+=1\n",
    "    return tot/somme\n"
   ]
  },
  {
   "cell_type": "code",
   "execution_count": 175,
   "metadata": {},
   "outputs": [
    {
     "name": "stdout",
     "output_type": "stream",
     "text": [
      "Jeu de données du genre Comedy:\n",
      "donnees:  [[7.9, 9550], [7.1, 5594], [6.5, 140], [6.1, 55], [6.1, 288]]\n",
      "labels:  [1, -1, 1, 1, 1]\n"
     ]
    }
   ],
   "source": [
    "print('Jeu de données du genre Comedy:')\n",
    "print('donnees: ', liste_donnees[0:5])\n",
    "print('labels: ',liste_label[0:5])  "
   ]
  },
  {
   "cell_type": "code",
   "execution_count": 177,
   "metadata": {},
   "outputs": [],
   "source": [
    "liste_donnees=np.array(liste_donnees)"
   ]
  },
  {
   "cell_type": "code",
   "execution_count": 178,
   "metadata": {},
   "outputs": [],
   "source": [
    "liste_donnees_norma=norma(liste_donnees)"
   ]
  },
  {
   "cell_type": "code",
   "execution_count": 179,
   "metadata": {},
   "outputs": [],
   "source": [
    "LsetComedy=GenereLabelSet(liste_donnees,liste_label)"
   ]
  },
  {
   "cell_type": "code",
   "execution_count": 180,
   "metadata": {},
   "outputs": [
    {
     "name": "stdout",
     "output_type": "stream",
     "text": [
      "Accuracy: 68.63757990188792\n"
     ]
    },
    {
     "data": {
      "image/png": "[encoded data removed]",
      "text/plain": [
       "<Figure size 432x288 with 1 Axes>"
      ]
     },
     "metadata": {
      "needs_background": "light"
     },
     "output_type": "display_data"
    }
   ],
   "source": [
    "ClassifieurComedy=cl.ClassifierPerceptronKernelBatch(6,0.1,k)\n",
    "ClassifieurComedy.train(LsetComedy)\n",
    "print(\"Accuracy:\",ClassifieurComedy.accuracy(LsetComedy))\n",
    "ut.plot_frontiere(LsetComedy,ClassifieurComedy)\n",
    "ut.plot2DSet(LsetComedy)"
   ]
  },
  {
   "cell_type": "code",
   "execution_count": 182,
   "metadata": {},
   "outputs": [],
   "source": [
    "scoresComedy=ClassifieurComedy.scores"
   ]
  },
  {
   "cell_type": "markdown",
   "metadata": {},
   "source": [
    "CLASSIFIEURCHILDREN\n",
    "\n",
    "CHildren est en position 2 du tableau.  # je parle du vecteur des 19 valeurs ou 0->indique quil ne fait pas parti du genre et 1-> indique quil fait partit du genre"
   ]
  },
  {
   "cell_type": "code",
   "execution_count": 184,
   "metadata": {},
   "outputs": [],
   "source": [
    "liste_label=[]\n",
    "liste_donnees=[]\n",
    "for i in range(0,len(tab_films_name)):\n",
    "    movie=tab_films_name[i]\n",
    "    donne=[]\n",
    "    donne.append(tab_films_note[i])\n",
    "    donne.append(tab_fims_vote[i])\n",
    "    liste_donnees.append(donne)\n",
    "    if(dico_one_rot_encoding[movie][2]==1): #on recup la valeur de la collone 2 car c'est elle qui correspond au genre Children\n",
    "        liste_label.append(1)\n",
    "    else:\n",
    "        liste_label.append(-1)\n",
    "    "
   ]
  },
  {
   "cell_type": "code",
   "execution_count": null,
   "metadata": {},
   "outputs": [],
   "source": [
    "def Test(norma,new2,classi):\n",
    "    \n",
    "    somme=0\n",
    "    tot=0\n",
    "    for i in range(0,len(norma)):\n",
    "        if(new2[i][0]==1):\n",
    "            #print('je suis la :',new2[i][0])\n",
    "            val=classi.predict(norma[i])\n",
    "            #print(val)\n",
    "            if(val>=0):\n",
    "                somme+=1\n",
    "            tot+=1\n",
    "    return tot/somme\n"
   ]
  },
  {
   "cell_type": "code",
   "execution_count": 186,
   "metadata": {},
   "outputs": [
    {
     "name": "stdout",
     "output_type": "stream",
     "text": [
      "Jeu de données du genre Children:\n",
      "donnees:  [[7.9, 9550], [7.1, 5594], [6.5, 140], [6.1, 55], [6.1, 288]]\n",
      "labels:  [1, 1, -1, -1, -1]\n"
     ]
    }
   ],
   "source": [
    "print('Jeu de données du genre Children:')\n",
    "print('donnees: ', liste_donnees[0:5])\n",
    "print('labels: ',liste_label[0:5])  "
   ]
  },
  {
   "cell_type": "code",
   "execution_count": 187,
   "metadata": {},
   "outputs": [
    {
     "name": "stdout",
     "output_type": "stream",
     "text": [
      "Accuracy: 93.71933997324216\n"
     ]
    },
    {
     "data": {
      "image/png": "[encoded data removed]",
      "text/plain": [
       "<Figure size 432x288 with 1 Axes>"
      ]
     },
     "metadata": {
      "needs_background": "light"
     },
     "output_type": "display_data"
    }
   ],
   "source": [
    "liste_donnees=np.array(liste_donnees)\n",
    "liste_donnees_norma=norma(liste_donnees)\n",
    "LsetChildren=GenereLabelSet(liste_donnees,liste_label)\n",
    "\n",
    "\n",
    "ClassifieurChildren=cl.ClassifierPerceptronKernelBatch(6,0.1,k)\n",
    "ClassifieurChildren.train(LsetChildren)\n",
    "print(\"Accuracy:\",ClassifieurChildren.accuracy(LsetChildren))\n",
    "ut.plot_frontiere(LsetChildren,ClassifieurChildren)\n",
    "ut.plot2DSet(LsetChildren)"
   ]
  },
  {
   "cell_type": "code",
   "execution_count": 192,
   "metadata": {},
   "outputs": [],
   "source": [
    "scoresChildren=ClassifieurChildren.scores"
   ]
  },
  {
   "cell_type": "markdown",
   "metadata": {},
   "source": [
    "CLASSIFIEURADVENTURE\n",
    "\n",
    "Adventure est en position 3 du tableau.  # je parle du vecteur des 19 valeurs ou 0->indique quil ne fait pas parti du genre et 1-> indique quil fait partit du genre"
   ]
  },
  {
   "cell_type": "code",
   "execution_count": 188,
   "metadata": {},
   "outputs": [
    {
     "name": "stdout",
     "output_type": "stream",
     "text": [
      "Jeu de données du genre Advneture:\n",
      "donnees:  [[7.9, 9550], [7.1, 5594], [6.5, 140], [6.1, 55], [6.1, 288]]\n",
      "labels:  [-1, 1, -1, -1, -1]\n"
     ]
    }
   ],
   "source": [
    "liste_label=[]\n",
    "liste_donnees=[]\n",
    "for i in range(0,len(tab_films_name)):\n",
    "    movie=tab_films_name[i]\n",
    "    donne=[]\n",
    "    donne.append(tab_films_note[i])\n",
    "    donne.append(tab_fims_vote[i])\n",
    "    liste_donnees.append(donne)\n",
    "    if(dico_one_rot_encoding[movie][3]==1):\n",
    "        liste_label.append(1)\n",
    "    else:\n",
    "        liste_label.append(-1)\n",
    "    \n",
    "    \n",
    "print('Jeu de données du genre Advneture:')\n",
    "print('donnees: ', liste_donnees[0:5])\n",
    "print('labels: ',liste_label[0:5]) "
   ]
  },
  {
   "cell_type": "code",
   "execution_count": 191,
   "metadata": {},
   "outputs": [
    {
     "name": "stdout",
     "output_type": "stream",
     "text": [
      "Accuracy: 91.16991229374163\n"
     ]
    },
    {
     "data": {
      "image/png": "[encoded data removed]",
      "text/plain": [
       "<Figure size 432x288 with 1 Axes>"
      ]
     },
     "metadata": {
      "needs_background": "light"
     },
     "output_type": "display_data"
    }
   ],
   "source": [
    "liste_donnees=np.array(liste_donnees)\n",
    "liste_donnees_norma=norma(liste_donnees)\n",
    "LsetAdventure=GenereLabelSet(liste_donnees,liste_label)\n",
    "\n",
    "\n",
    "ClassifieurAdventure=cl.ClassifierPerceptronKernelBatch(6,0.1,k)\n",
    "ClassifieurAdventure.train(LsetAdventure)\n",
    "print(\"Accuracy:\",ClassifieurAdventure.accuracy(LsetAdventure))\n",
    "ut.plot_frontiere(LsetAdventure,ClassifieurAdventure)\n",
    "ut.plot2DSet(LsetAdventure)"
   ]
  },
  {
   "cell_type": "code",
   "execution_count": 193,
   "metadata": {},
   "outputs": [],
   "source": [
    "scoresAdventure=ClassifieurAdventure.scores"
   ]
  },
  {
   "cell_type": "markdown",
   "metadata": {},
   "source": [
    "CLASSIFIEURFANTASY\n",
    "\n",
    "Adventure est en position 4 du tableau.  # je parle du vecteur des 19 valeurs ou 0->indique quil ne fait pas parti du genre et 1-> indique quil fait partit du genre"
   ]
  },
  {
   "cell_type": "code",
   "execution_count": 194,
   "metadata": {},
   "outputs": [
    {
     "name": "stdout",
     "output_type": "stream",
     "text": [
      "Jeu de données du genre Fantasy:\n",
      "donnees:  [[7.9, 9550], [7.1, 5594], [6.5, 140], [6.1, 55], [6.1, 288]]\n",
      "labels:  [-1, 1, -1, -1, -1]\n",
      "Accuracy: 94.5183588523859\n"
     ]
    },
    {
     "data": {
      "image/png": "[encoded data removed]",
      "text/plain": [
       "<Figure size 432x288 with 1 Axes>"
      ]
     },
     "metadata": {
      "needs_background": "light"
     },
     "output_type": "display_data"
    }
   ],
   "source": [
    "liste_label=[]\n",
    "liste_donnees=[]\n",
    "for i in range(0,len(tab_films_name)):\n",
    "    movie=tab_films_name[i]\n",
    "    donne=[]\n",
    "    donne.append(tab_films_note[i])\n",
    "    donne.append(tab_fims_vote[i])\n",
    "    liste_donnees.append(donne)\n",
    "    if(dico_one_rot_encoding[movie][4]==1):\n",
    "        liste_label.append(1)\n",
    "    else:\n",
    "        liste_label.append(-1)\n",
    "    \n",
    "    \n",
    "print('Jeu de données du genre Fantasy:')\n",
    "print('donnees: ', liste_donnees[0:5])\n",
    "print('labels: ',liste_label[0:5]) \n",
    "\n",
    "\n",
    "liste_donnees=np.array(liste_donnees)\n",
    "liste_donnees_norma=norma(liste_donnees)\n",
    "LsetFantasy=GenereLabelSet(liste_donnees,liste_label)\n",
    "\n",
    "\n",
    "ClassifieurFantasy=cl.ClassifierPerceptronKernelBatch(6,0.1,k)\n",
    "ClassifieurFantasy.train(LsetFantasy)\n",
    "print(\"Accuracy:\",ClassifieurFantasy.accuracy(LsetFantasy))\n",
    "ut.plot_frontiere(LsetFantasy,ClassifieurFantasy)\n",
    "ut.plot2DSet(LsetFantasy)\n",
    "\n",
    "\n",
    "scoresFantasy=ClassifieurFantasy.scores"
   ]
  },
  {
   "cell_type": "markdown",
   "metadata": {},
   "source": [
    "CLASSIFIEURRomance\n",
    "\n",
    "Romance est en position 5 du tableau.  # je parle du vecteur des 19 valeurs ou 0->indique quil ne fait pas parti du genre et 1-> indique quil fait partit du genre"
   ]
  },
  {
   "cell_type": "code",
   "execution_count": 196,
   "metadata": {},
   "outputs": [
    {
     "name": "stdout",
     "output_type": "stream",
     "text": [
      "Jeu de données du genre Romance:\n",
      "donnees:  [[7.9, 9550], [7.1, 5594], [6.5, 140], [6.1, 55], [6.1, 288]]\n",
      "labels:  [-1, -1, 1, 1, -1]\n",
      "Accuracy: 82.60740300282444\n"
     ]
    },
    {
     "data": {
      "image/png": "[encoded data removed]",
      "text/plain": [
       "<Figure size 432x288 with 1 Axes>"
      ]
     },
     "metadata": {
      "needs_background": "light"
     },
     "output_type": "display_data"
    }
   ],
   "source": [
    "liste_label=[]\n",
    "liste_donnees=[]\n",
    "for i in range(0,len(tab_films_name)):\n",
    "    movie=tab_films_name[i]\n",
    "    donne=[]\n",
    "    donne.append(tab_films_note[i])\n",
    "    donne.append(tab_fims_vote[i])\n",
    "    liste_donnees.append(donne)\n",
    "    if(dico_one_rot_encoding[movie][5]==1):\n",
    "        liste_label.append(1)\n",
    "    else:\n",
    "        liste_label.append(-1)\n",
    "    \n",
    "    \n",
    "print('Jeu de données du genre Romance:')\n",
    "print('donnees: ', liste_donnees[0:5])\n",
    "print('labels: ',liste_label[0:5]) \n",
    "\n",
    "\n",
    "liste_donnees=np.array(liste_donnees)\n",
    "liste_donnees_norma=norma(liste_donnees)\n",
    "LsetRomance=GenereLabelSet(liste_donnees,liste_label)\n",
    "\n",
    "\n",
    "ClassifieurRomance=cl.ClassifierPerceptronKernelBatch(6,0.1,k)\n",
    "ClassifieurRomance.train(LsetRomance)\n",
    "print(\"Accuracy:\",ClassifieurRomance.accuracy(LsetRomance))\n",
    "ut.plot_frontiere(LsetRomance,ClassifieurRomance)\n",
    "ut.plot2DSet(LsetRomance)\n",
    "\n",
    "\n",
    "scoresRomance=ClassifieurRomance.scores"
   ]
  },
  {
   "cell_type": "markdown",
   "metadata": {},
   "source": [
    "CLASSIFIEURDrama\n",
    "\n",
    "Drama est en position 6 du tableau.  # je parle du vecteur des 19 valeurs ou 0->indique quil ne fait pas parti du genre et 1-> indique quil fait partit du genre"
   ]
  },
  {
   "cell_type": "code",
   "execution_count": 199,
   "metadata": {},
   "outputs": [
    {
     "name": "stdout",
     "output_type": "stream",
     "text": [
      "Jeu de données du genre Drama:\n",
      "donnees:  [[7.9, 9550], [7.1, 5594], [6.5, 140], [6.1, 55], [6.1, 288]]\n",
      "labels:  [-1, -1, -1, 1, -1]\n",
      "Accuracy: 50.38278578861305\n"
     ]
    },
    {
     "data": {
      "image/png": "[encoded data removed]",
      "text/plain": [
       "<Figure size 432x288 with 1 Axes>"
      ]
     },
     "metadata": {
      "needs_background": "light"
     },
     "output_type": "display_data"
    }
   ],
   "source": [
    "liste_label=[]\n",
    "liste_donnees=[]\n",
    "for i in range(0,len(tab_films_name)):\n",
    "    movie=tab_films_name[i]\n",
    "    donne=[]\n",
    "    donne.append(tab_films_note[i])\n",
    "    donne.append(tab_fims_vote[i])\n",
    "    liste_donnees.append(donne)\n",
    "    if(dico_one_rot_encoding[movie][6]==1):\n",
    "        liste_label.append(1)\n",
    "    else:\n",
    "        liste_label.append(-1)\n",
    "    \n",
    "    \n",
    "print('Jeu de données du genre Drama:')\n",
    "print('donnees: ', liste_donnees[0:5])\n",
    "print('labels: ',liste_label[0:5]) \n",
    "\n",
    "\n",
    "liste_donnees=np.array(liste_donnees)\n",
    "liste_donnees_norma=norma(liste_donnees)\n",
    "LsetDrama=GenereLabelSet(liste_donnees,liste_label)\n",
    "\n",
    "\n",
    "ClassifieurDrama=cl.ClassifierPerceptronKernelBatch(6,0.1,k)\n",
    "ClassifieurDrama.train(LsetRomance)\n",
    "print(\"Accuracy:\",ClassifieurDrama.accuracy(LsetDrama))\n",
    "ut.plot_frontiere(LsetDrama,ClassifieurDrama)\n",
    "ut.plot2DSet(LsetDrama)\n",
    "\n",
    "\n",
    "scoresDrama=ClassifieurDrama.scores"
   ]
  },
  {
   "cell_type": "markdown",
   "metadata": {},
   "source": [
    "CLASSIFIEURAction\n",
    "\n",
    "Action est en position 7 du tableau.  # je parle du vecteur des 19 valeurs ou 0->indique quil ne fait pas parti du genre et 1-> indique quil fait partit du genre"
   ]
  },
  {
   "cell_type": "code",
   "execution_count": 200,
   "metadata": {},
   "outputs": [
    {
     "name": "stdout",
     "output_type": "stream",
     "text": [
      "Jeu de données du genre Action:\n",
      "donnees:  [[7.9, 9550], [7.1, 5594], [6.5, 140], [6.1, 55], [6.1, 288]]\n",
      "labels:  [-1, -1, -1, -1, -1]\n",
      "Accuracy: 84.59565928348447\n"
     ]
    },
    {
     "data": {
      "image/png": "[encoded data removed]",
      "text/plain": [
       "<Figure size 432x288 with 1 Axes>"
      ]
     },
     "metadata": {
      "needs_background": "light"
     },
     "output_type": "display_data"
    }
   ],
   "source": [
    "liste_label=[]\n",
    "liste_donnees=[]\n",
    "for i in range(0,len(tab_films_name)):\n",
    "    movie=tab_films_name[i]\n",
    "    donne=[]\n",
    "    donne.append(tab_films_note[i])\n",
    "    donne.append(tab_fims_vote[i])\n",
    "    liste_donnees.append(donne)\n",
    "    if(dico_one_rot_encoding[movie][7]==1):\n",
    "        liste_label.append(1)\n",
    "    else:\n",
    "        liste_label.append(-1)\n",
    "    \n",
    "    \n",
    "print('Jeu de données du genre Action:')\n",
    "print('donnees: ', liste_donnees[0:5])\n",
    "print('labels: ',liste_label[0:5]) \n",
    "\n",
    "\n",
    "liste_donnees=np.array(liste_donnees)\n",
    "liste_donnees_norma=norma(liste_donnees)\n",
    "LsetAction=GenereLabelSet(liste_donnees,liste_label)\n",
    "\n",
    "\n",
    "ClassifieurAction=cl.ClassifierPerceptronKernelBatch(6,0.1,k)\n",
    "ClassifieurAction.train(LsetAction)\n",
    "print(\"Accuracy:\",ClassifieurAction.accuracy(LsetAction))\n",
    "ut.plot_frontiere(LsetAction,ClassifieurAction)\n",
    "ut.plot2DSet(LsetAction)\n",
    "\n",
    "\n",
    "scoresAction=ClassifieurAction.scores"
   ]
  },
  {
   "cell_type": "markdown",
   "metadata": {},
   "source": [
    "CLASSIFIEURCrime\n",
    "\n",
    "Crime est en position 8 du tableau.  # je parle du vecteur des 19 valeurs ou 0->indique quil ne fait pas parti du genre et 1-> indique quil fait partit du genre"
   ]
  },
  {
   "cell_type": "code",
   "execution_count": 201,
   "metadata": {},
   "outputs": [
    {
     "name": "stdout",
     "output_type": "stream",
     "text": [
      "Jeu de données du genre Crime:\n",
      "donnees:  [[7.9, 9550], [7.1, 5594], [6.5, 140], [6.1, 55], [6.1, 288]]\n",
      "labels:  [-1, -1, -1, -1, -1]\n",
      "Accuracy: 88.79887022446856\n"
     ]
    },
    {
     "data": {
      "image/png": "[encoded data removed]",
      "text/plain": [
       "<Figure size 432x288 with 1 Axes>"
      ]
     },
     "metadata": {
      "needs_background": "light"
     },
     "output_type": "display_data"
    }
   ],
   "source": [
    "liste_label=[]\n",
    "liste_donnees=[]\n",
    "for i in range(0,len(tab_films_name)):\n",
    "    movie=tab_films_name[i]\n",
    "    donne=[]\n",
    "    donne.append(tab_films_note[i])\n",
    "    donne.append(tab_fims_vote[i])\n",
    "    liste_donnees.append(donne)\n",
    "    if(dico_one_rot_encoding[movie][8]==1):\n",
    "        liste_label.append(1)\n",
    "    else:\n",
    "        liste_label.append(-1)\n",
    "    \n",
    "    \n",
    "print('Jeu de données du genre Crime:')\n",
    "print('donnees: ', liste_donnees[0:5])\n",
    "print('labels: ',liste_label[0:5]) \n",
    "\n",
    "\n",
    "liste_donnees=np.array(liste_donnees)\n",
    "liste_donnees_norma=norma(liste_donnees)\n",
    "LsetCrime=GenereLabelSet(liste_donnees,liste_label)\n",
    "\n",
    "\n",
    "ClassifieurCrime=cl.ClassifierPerceptronKernelBatch(6,0.1,k)\n",
    "ClassifieurCrime.train(LsetCrime)\n",
    "print(\"Accuracy:\",ClassifieurCrime.accuracy(LsetCrime))\n",
    "ut.plot_frontiere(LsetAction,ClassifieurCrime)\n",
    "ut.plot2DSet(LsetCrime)\n",
    "\n",
    "\n",
    "scoresCrime=ClassifieurCrime.scores"
   ]
  },
  {
   "cell_type": "markdown",
   "metadata": {},
   "source": [
    "CLASSIFIEURThriller\n",
    "\n",
    "Thriller est en position 9 du tableau.  # je parle du vecteur des 19 valeurs ou 0->indique quil ne fait pas parti du genre et 1-> indique quil fait partit du genre"
   ]
  },
  {
   "cell_type": "code",
   "execution_count": 204,
   "metadata": {},
   "outputs": [
    {
     "name": "stdout",
     "output_type": "stream",
     "text": [
      "Jeu de données du genre Thriller:\n",
      "donnees:  [[7.9, 9550], [7.1, 5594], [6.5, 140], [6.1, 55], [6.1, 288]]\n",
      "labels:  [-1, -1, -1, -1, -1]\n",
      "Accuracy: 81.78236955552252\n"
     ]
    },
    {
     "data": {
      "image/png": "[encoded data removed]",
      "text/plain": [
       "<Figure size 432x288 with 1 Axes>"
      ]
     },
     "metadata": {
      "needs_background": "light"
     },
     "output_type": "display_data"
    }
   ],
   "source": [
    "liste_label=[]\n",
    "liste_donnees=[]\n",
    "for i in range(0,len(tab_films_name)):\n",
    "    movie=tab_films_name[i]\n",
    "    donne=[]\n",
    "    donne.append(tab_films_note[i])\n",
    "    donne.append(tab_fims_vote[i])\n",
    "    liste_donnees.append(donne)\n",
    "    if(dico_one_rot_encoding[movie][9]==1):\n",
    "        liste_label.append(1)\n",
    "    else:\n",
    "        liste_label.append(-1)\n",
    "    \n",
    "    \n",
    "print('Jeu de données du genre Thriller:')\n",
    "print('donnees: ', liste_donnees[0:5])\n",
    "print('labels: ',liste_label[0:5]) \n",
    "\n",
    "\n",
    "liste_donnees=np.array(liste_donnees)\n",
    "liste_donnees_norma=norma(liste_donnees)\n",
    "LsetThriler=GenereLabelSet(liste_donnees,liste_label)\n",
    "\n",
    "\n",
    "ClassifieurThriler=cl.ClassifierPerceptronKernelBatch(6,0.1,k)\n",
    "ClassifieurThriler.train(LsetThriler)\n",
    "print(\"Accuracy:\",ClassifieurThriler.accuracy(LsetThriler))\n",
    "ut.plot_frontiere(LsetThriler,ClassifieurThriler)\n",
    "ut.plot2DSet(LsetThriler)\n",
    "\n",
    "\n",
    "scoresThriler=ClassifieurThriler.scores"
   ]
  },
  {
   "cell_type": "markdown",
   "metadata": {},
   "source": [
    "CLASSIFIEURTHorror\n",
    "\n",
    "Horror est en position 10 du tableau.  # je parle du vecteur des 19 valeurs ou 0->indique quil ne fait pas parti du genre et 1-> indique quil fait partit du genre"
   ]
  },
  {
   "cell_type": "code",
   "execution_count": 206,
   "metadata": {},
   "outputs": [
    {
     "name": "stdout",
     "output_type": "stream",
     "text": [
      "Jeu de données du genre Horror:\n",
      "donnees:  [[7.9, 9550], [7.1, 5594], [6.5, 140], [6.1, 55], [6.1, 288]]\n",
      "labels:  [-1, -1, -1, -1, -1]\n",
      "Accuracy: 89.73911104504236\n"
     ]
    },
    {
     "data": {
      "image/png": "[encoded data removed]",
      "text/plain": [
       "<Figure size 432x288 with 1 Axes>"
      ]
     },
     "metadata": {
      "needs_background": "light"
     },
     "output_type": "display_data"
    }
   ],
   "source": [
    "liste_label=[]\n",
    "liste_donnees=[]\n",
    "for i in range(0,len(tab_films_name)):\n",
    "    movie=tab_films_name[i]\n",
    "    donne=[]\n",
    "    donne.append(tab_films_note[i])\n",
    "    donne.append(tab_fims_vote[i])\n",
    "    liste_donnees.append(donne)\n",
    "    if(dico_one_rot_encoding[movie][10]==1):\n",
    "        liste_label.append(1)\n",
    "    else:\n",
    "        liste_label.append(-1)\n",
    "    \n",
    "    \n",
    "print('Jeu de données du genre Horror:')\n",
    "print('donnees: ', liste_donnees[0:5])\n",
    "print('labels: ',liste_label[0:5]) \n",
    "\n",
    "\n",
    "liste_donnees=np.array(liste_donnees)\n",
    "liste_donnees_norma=norma(liste_donnees)\n",
    "LsetHorror=GenereLabelSet(liste_donnees,liste_label)\n",
    "\n",
    "\n",
    "ClassifieurHorror=cl.ClassifierPerceptronKernelBatch(6,0.1,k)\n",
    "ClassifieurHorror.train(LsetHorror)\n",
    "print(\"Accuracy:\",ClassifieurHorror.accuracy(LsetHorror))\n",
    "ut.plot_frontiere(LsetHorror,ClassifieurHorror)\n",
    "ut.plot2DSet(LsetHorror)\n",
    "\n",
    "\n",
    "scoresHorror=ClassifieurHorror.scores"
   ]
  },
  {
   "cell_type": "markdown",
   "metadata": {},
   "source": [
    "CLASSIFIEURSansgenre\n",
    "\n",
    "Sansgenre est en position 11 du tableau.  # je parle du vecteur des 19 valeurs ou 0->indique quil ne fait pas parti du genre et 1-> indique quil fait partit du genre"
   ]
  },
  {
   "cell_type": "code",
   "execution_count": 207,
   "metadata": {},
   "outputs": [
    {
     "name": "stdout",
     "output_type": "stream",
     "text": [
      "Jeu de données du genre Sansgenre:\n",
      "donnees:  [[7.9, 9550], [7.1, 5594], [6.5, 140], [6.1, 55], [6.1, 288]]\n",
      "labels:  [-1, -1, -1, -1, -1]\n",
      "Accuracy: 96.45830236360933\n"
     ]
    },
    {
     "data": {
      "image/png": "[encoded data removed]",
      "text/plain": [
       "<Figure size 432x288 with 1 Axes>"
      ]
     },
     "metadata": {
      "needs_background": "light"
     },
     "output_type": "display_data"
    }
   ],
   "source": [
    "liste_label=[]\n",
    "liste_donnees=[]\n",
    "for i in range(0,len(tab_films_name)):\n",
    "    movie=tab_films_name[i]\n",
    "    donne=[]\n",
    "    donne.append(tab_films_note[i])\n",
    "    donne.append(tab_fims_vote[i])\n",
    "    liste_donnees.append(donne)\n",
    "    if(dico_one_rot_encoding[movie][11]==1):\n",
    "        liste_label.append(1)\n",
    "    else:\n",
    "        liste_label.append(-1)\n",
    "    \n",
    "    \n",
    "print('Jeu de données du genre Sansgenre:')\n",
    "print('donnees: ', liste_donnees[0:5])\n",
    "print('labels: ',liste_label[0:5]) \n",
    "\n",
    "\n",
    "liste_donnees=np.array(liste_donnees)\n",
    "liste_donnees_norma=norma(liste_donnees)\n",
    "LsetSansgenre=GenereLabelSet(liste_donnees,liste_label)\n",
    "\n",
    "\n",
    "ClassifieurSansgenre=cl.ClassifierPerceptronKernelBatch(6,0.1,k)\n",
    "ClassifieurSansgenre.train(LsetSansgenre)\n",
    "print(\"Accuracy:\",ClassifieurSansgenre.accuracy(LsetSansgenre))\n",
    "ut.plot_frontiere(LsetSansgenre,ClassifieurSansgenre)\n",
    "ut.plot2DSet(LsetSansgenre)\n",
    "\n",
    "\n",
    "scoresSansgenre=ClassifieurSansgenre.scores"
   ]
  },
  {
   "cell_type": "markdown",
   "metadata": {},
   "source": [
    "CLASSIFIEURSciFI\n",
    "\n",
    "SciFi est en position 12 du tableau.  # je parle du vecteur des 19 valeurs ou 0->indique quil ne fait pas parti du genre et 1-> indique quil fait partit du genre"
   ]
  },
  {
   "cell_type": "code",
   "execution_count": 208,
   "metadata": {},
   "outputs": [
    {
     "name": "stdout",
     "output_type": "stream",
     "text": [
      "Jeu de données du genre SciFi:\n",
      "donnees:  [[7.9, 9550], [7.1, 5594], [6.5, 140], [6.1, 55], [6.1, 288]]\n",
      "labels:  [-1, -1, -1, -1, -1]\n",
      "Accuracy: 92.88687379218077\n"
     ]
    },
    {
     "data": {
      "image/png": "[encoded data removed]",
      "text/plain": [
       "<Figure size 432x288 with 1 Axes>"
      ]
     },
     "metadata": {
      "needs_background": "light"
     },
     "output_type": "display_data"
    }
   ],
   "source": [
    "liste_label=[]\n",
    "liste_donnees=[]\n",
    "for i in range(0,len(tab_films_name)):\n",
    "    movie=tab_films_name[i]\n",
    "    donne=[]\n",
    "    donne.append(tab_films_note[i])\n",
    "    donne.append(tab_fims_vote[i])\n",
    "    liste_donnees.append(donne)\n",
    "    if(dico_one_rot_encoding[movie][12]==1):\n",
    "        liste_label.append(1)\n",
    "    else:\n",
    "        liste_label.append(-1)\n",
    "    \n",
    "    \n",
    "print('Jeu de données du genre SciFi:')\n",
    "print('donnees: ', liste_donnees[0:5])\n",
    "print('labels: ',liste_label[0:5]) \n",
    "\n",
    "\n",
    "liste_donnees=np.array(liste_donnees)\n",
    "liste_donnees_norma=norma(liste_donnees)\n",
    "LsetSciFi=GenereLabelSet(liste_donnees,liste_label)\n",
    "\n",
    "\n",
    "ClassifieurSciFi=cl.ClassifierPerceptronKernelBatch(6,0.1,k)\n",
    "ClassifieurSciFi.train(LsetSciFi)\n",
    "print(\"Accuracy:\",ClassifieurSciFi.accuracy(LsetSciFi))\n",
    "ut.plot_frontiere(LsetSciFi,ClassifieurSciFi)\n",
    "ut.plot2DSet(LsetSciFi)\n",
    "\n",
    "\n",
    "scoresSciFi=ClassifieurSciFi.scores"
   ]
  },
  {
   "cell_type": "markdown",
   "metadata": {},
   "source": [
    "CLASSIFIEURMystery\n",
    "\n",
    "Mystery est en position 13 du tableau.  # je parle du vecteur des 19 valeurs ou 0->indique quil ne fait pas parti du genre et 1-> indique quil fait partit du genre"
   ]
  },
  {
   "cell_type": "code",
   "execution_count": 211,
   "metadata": {},
   "outputs": [
    {
     "name": "stdout",
     "output_type": "stream",
     "text": [
      "Jeu de données du genre Mystery:\n",
      "donnees:  [[7.9, 9550], [7.1, 5594], [6.5, 140], [6.1, 55], [6.1, 288]]\n",
      "labels:  [-1, -1, -1, -1, -1]\n",
      "Accuracy: 93.77136910955849\n"
     ]
    },
    {
     "data": {
      "image/png": "[encoded data removed]",
      "text/plain": [
       "<Figure size 432x288 with 1 Axes>"
      ]
     },
     "metadata": {
      "needs_background": "light"
     },
     "output_type": "display_data"
    }
   ],
   "source": [
    "liste_label=[]\n",
    "liste_donnees=[]\n",
    "for i in range(0,len(tab_films_name)):\n",
    "    movie=tab_films_name[i]\n",
    "    donne=[]\n",
    "    donne.append(tab_films_note[i])\n",
    "    donne.append(tab_fims_vote[i])\n",
    "    liste_donnees.append(donne)\n",
    "    if(dico_one_rot_encoding[movie][13]==1):\n",
    "        liste_label.append(1)\n",
    "    else:\n",
    "        liste_label.append(-1)\n",
    "    \n",
    "    \n",
    "print('Jeu de données du genre Mystery:')\n",
    "print('donnees: ', liste_donnees[0:5])\n",
    "print('labels: ',liste_label[0:5]) \n",
    "\n",
    "\n",
    "liste_donnees=np.array(liste_donnees)\n",
    "liste_donnees_norma=norma(liste_donnees)\n",
    "LsetMystery=GenereLabelSet(liste_donnees,liste_label)\n",
    "\n",
    "\n",
    "ClassifieurMystery=cl.ClassifierPerceptronKernelBatch(6,0.1,k)\n",
    "ClassifieurMystery.train(LsetMystery)\n",
    "print(\"Accuracy:\",ClassifieurMystery.accuracy(LsetMystery))\n",
    "ut.plot_frontiere(LsetMystery,ClassifieurMystery)\n",
    "ut.plot2DSet(LsetMystery)\n",
    "\n",
    "\n",
    "scoresMystery=ClassifieurMystery.scores"
   ]
  },
  {
   "cell_type": "markdown",
   "metadata": {},
   "source": [
    "CLASSIFIEURWar\n",
    "\n",
    "War est en position 14 du tableau.  # je parle du vecteur des 19 valeurs ou 0->indique quil ne fait pas parti du genre et 1-> indique quil fait partit du genre"
   ]
  },
  {
   "cell_type": "code",
   "execution_count": 212,
   "metadata": {},
   "outputs": [
    {
     "name": "stdout",
     "output_type": "stream",
     "text": [
      "Jeu de données du genre War:\n",
      "donnees:  [[7.9, 9550], [7.1, 5594], [6.5, 140], [6.1, 55], [6.1, 288]]\n",
      "labels:  [-1, -1, -1, -1, -1]\n",
      "Accuracy: 96.45458599672959\n"
     ]
    },
    {
     "data": {
      "image/png": "[encoded data removed]",
      "text/plain": [
       "<Figure size 432x288 with 1 Axes>"
      ]
     },
     "metadata": {
      "needs_background": "light"
     },
     "output_type": "display_data"
    }
   ],
   "source": [
    "liste_label=[]\n",
    "liste_donnees=[]\n",
    "for i in range(0,len(tab_films_name)):\n",
    "    movie=tab_films_name[i]\n",
    "    donne=[]\n",
    "    donne.append(tab_films_note[i])\n",
    "    donne.append(tab_fims_vote[i])\n",
    "    liste_donnees.append(donne)\n",
    "    if(dico_one_rot_encoding[movie][14]==1):\n",
    "        liste_label.append(1)\n",
    "    else:\n",
    "        liste_label.append(-1)\n",
    "    \n",
    "    \n",
    "print('Jeu de données du genre War:')\n",
    "print('donnees: ', liste_donnees[0:5])\n",
    "print('labels: ',liste_label[0:5]) \n",
    "\n",
    "\n",
    "liste_donnees=np.array(liste_donnees)\n",
    "liste_donnees_norma=norma(liste_donnees)\n",
    "LsetWar=GenereLabelSet(liste_donnees,liste_label)\n",
    "\n",
    "\n",
    "ClassifieurWar=cl.ClassifierPerceptronKernelBatch(6,0.1,k)\n",
    "ClassifieurWar.train(LsetWar)\n",
    "print(\"Accuracy:\",ClassifieurWar.accuracy(LsetWar))\n",
    "ut.plot_frontiere(LsetWar,ClassifieurWar)\n",
    "ut.plot2DSet(LsetWar)\n",
    "\n",
    "\n",
    "scoresWar=ClassifieurWar.scores"
   ]
  },
  {
   "cell_type": "markdown",
   "metadata": {},
   "source": [
    "CLASSIFIEURMusical\n",
    "\n",
    "Musical est en position 15 du tableau.  # je parle du vecteur des 19 valeurs ou 0->indique quil ne fait pas parti du genre et 1-> indique quil fait partit du genre"
   ]
  },
  {
   "cell_type": "code",
   "execution_count": 213,
   "metadata": {},
   "outputs": [
    {
     "name": "stdout",
     "output_type": "stream",
     "text": [
      "Jeu de données du genre Musical:\n",
      "donnees:  [[7.9, 9550], [7.1, 5594], [6.5, 140], [6.1, 55], [6.1, 288]]\n",
      "labels:  [-1, -1, -1, -1, -1]\n",
      "Accuracy: 95.6407016500669\n"
     ]
    },
    {
     "data": {
      "image/png": "[encoded data removed]",
      "text/plain": [
       "<Figure size 432x288 with 1 Axes>"
      ]
     },
     "metadata": {
      "needs_background": "light"
     },
     "output_type": "display_data"
    }
   ],
   "source": [
    "liste_label=[]\n",
    "liste_donnees=[]\n",
    "for i in range(0,len(tab_films_name)):\n",
    "    movie=tab_films_name[i]\n",
    "    donne=[]\n",
    "    donne.append(tab_films_note[i])\n",
    "    donne.append(tab_fims_vote[i])\n",
    "    liste_donnees.append(donne)\n",
    "    if(dico_one_rot_encoding[movie][15]==1):\n",
    "        liste_label.append(1)\n",
    "    else:\n",
    "        liste_label.append(-1)\n",
    "    \n",
    "    \n",
    "print('Jeu de données du genre Musical:')\n",
    "print('donnees: ', liste_donnees[0:5])\n",
    "print('labels: ',liste_label[0:5]) \n",
    "\n",
    "\n",
    "liste_donnees=np.array(liste_donnees)\n",
    "liste_donnees_norma=norma(liste_donnees)\n",
    "LsetMusical=GenereLabelSet(liste_donnees,liste_label)\n",
    "\n",
    "\n",
    "ClassifieurMusical=cl.ClassifierPerceptronKernelBatch(6,0.1,k)\n",
    "ClassifieurMusical.train(LsetMusical)\n",
    "print(\"Accuracy:\",ClassifieurMusical.accuracy(LsetMusical))\n",
    "ut.plot_frontiere(LsetMusical,ClassifieurMusical)\n",
    "ut.plot2DSet(LsetMusical)\n",
    "\n",
    "\n",
    "scoresMusical=ClassifieurMusical.scores"
   ]
  },
  {
   "cell_type": "markdown",
   "metadata": {},
   "source": [
    "CLASSIFIEURDocumentary\n",
    "\n",
    "Documentary est en position 16 du tableau.  # je parle du vecteur des 19 valeurs ou 0->indique quil ne fait pas parti du genre et 1-> indique quil fait partit du genre"
   ]
  },
  {
   "cell_type": "code",
   "execution_count": 214,
   "metadata": {},
   "outputs": [
    {
     "name": "stdout",
     "output_type": "stream",
     "text": [
      "Jeu de données du genre Documentary:\n",
      "donnees:  [[7.9, 9550], [7.1, 5594], [6.5, 140], [6.1, 55], [6.1, 288]]\n",
      "labels:  [-1, -1, -1, -1, -1]\n",
      "Accuracy: 95.6407016500669\n"
     ]
    },
    {
     "data": {
      "image/png": "[encoded data removed]",
      "text/plain": [
       "<Figure size 432x288 with 1 Axes>"
      ]
     },
     "metadata": {
      "needs_background": "light"
     },
     "output_type": "display_data"
    }
   ],
   "source": [
    "liste_donnees=[]\n",
    "for i in range(0,len(tab_films_name)):\n",
    "    movie=tab_films_name[i]\n",
    "    donne=[]\n",
    "    donne.append(tab_films_note[i])\n",
    "    donne.append(tab_fims_vote[i])\n",
    "    liste_donnees.append(donne)\n",
    "    if(dico_one_rot_encoding[movie][16]==1):\n",
    "        liste_label.append(1)\n",
    "    else:\n",
    "        liste_label.append(-1)\n",
    "    \n",
    "    \n",
    "print('Jeu de données du genre Documentary:')\n",
    "print('donnees: ', liste_donnees[0:5])\n",
    "print('labels: ',liste_label[0:5]) \n",
    "\n",
    "\n",
    "liste_donnees=np.array(liste_donnees)\n",
    "liste_donnees_norma=norma(liste_donnees)\n",
    "LsetDocumentary=GenereLabelSet(liste_donnees,liste_label)\n",
    "\n",
    "\n",
    "ClassifieurDocumentary=cl.ClassifierPerceptronKernelBatch(6,0.1,k)\n",
    "ClassifieurDocumentary.train(LsetDocumentary)\n",
    "print(\"Accuracy:\",ClassifieurDocumentary.accuracy(LsetDocumentary))\n",
    "ut.plot_frontiere(LsetDocumentary,ClassifieurDocumentary)\n",
    "ut.plot2DSet(LsetDocumentary)\n",
    "\n",
    "\n",
    "scoresDocumentary=ClassifieurDocumentary.scores"
   ]
  },
  {
   "cell_type": "markdown",
   "metadata": {},
   "source": [
    "CLASSIFIEURWestern\n",
    "\n",
    "Western est en position 17 du tableau.  # je parle du vecteur des 19 valeurs ou 0->indique quil ne fait pas parti du genre et 1-> indique quil fait partit du genre"
   ]
  },
  {
   "cell_type": "code",
   "execution_count": 215,
   "metadata": {},
   "outputs": [
    {
     "name": "stdout",
     "output_type": "stream",
     "text": [
      "Jeu de données du genre Western:\n",
      "donnees:  [[7.9, 9550], [7.1, 5594], [6.5, 140], [6.1, 55], [6.1, 288]]\n",
      "labels:  [-1, -1, -1, -1, -1]\n",
      "Accuracy: 95.6407016500669\n"
     ]
    },
    {
     "data": {
      "image/png": "[encoded data removed]",
      "text/plain": [
       "<Figure size 432x288 with 1 Axes>"
      ]
     },
     "metadata": {
      "needs_background": "light"
     },
     "output_type": "display_data"
    }
   ],
   "source": [
    "liste_donnees=[]\n",
    "for i in range(0,len(tab_films_name)):\n",
    "    movie=tab_films_name[i]\n",
    "    donne=[]\n",
    "    donne.append(tab_films_note[i])\n",
    "    donne.append(tab_fims_vote[i])\n",
    "    liste_donnees.append(donne)\n",
    "    if(dico_one_rot_encoding[movie][17]==1):\n",
    "        liste_label.append(1)\n",
    "    else:\n",
    "        liste_label.append(-1)\n",
    "    \n",
    "    \n",
    "print('Jeu de données du genre Western:')\n",
    "print('donnees: ', liste_donnees[0:5])\n",
    "print('labels: ',liste_label[0:5]) \n",
    "\n",
    "\n",
    "liste_donnees=np.array(liste_donnees)\n",
    "liste_donnees_norma=norma(liste_donnees)\n",
    "LsetWestern=GenereLabelSet(liste_donnees,liste_label)\n",
    "\n",
    "\n",
    "ClassifieurWestern=cl.ClassifierPerceptronKernelBatch(6,0.1,k)\n",
    "ClassifieurWestern.train(LsetWestern)\n",
    "print(\"Accuracy:\",ClassifieurWestern.accuracy(LsetWestern))\n",
    "ut.plot_frontiere(LsetWestern,ClassifieurWestern)\n",
    "ut.plot2DSet(LsetWestern)\n",
    "\n",
    "\n",
    "scoresWestern=ClassifieurWestern.scores"
   ]
  },
  {
   "cell_type": "markdown",
   "metadata": {},
   "source": [
    "On observe que dans la pluspart des cas on une bonne classification en raison du bon taux d'accuraacy"
   ]
  },
  {
   "cell_type": "markdown",
   "metadata": {},
   "source": [
    "Maintenant il ne nous reste plus qu'a récupérer le score max entre les différents classifieurs pour chacun des films, afin  de définir quel sera le genre prédit pour un film.\n",
    "Pour ce faire nous allons construire une matrice avec tous les tableaux de scores associés à chacun des classifieurs que l'on a récupéré."
   ]
  },
  {
   "cell_type": "code",
   "execution_count": 216,
   "metadata": {},
   "outputs": [],
   "source": [
    "Matrice=[]   #List contenant un ensemble de score associé à différent classifieur\n",
    "Matrice.append(scoresAnimation)\n",
    "Matrice.append(scoresComedy)\n",
    "Matrice.append(scoresChildren)\n",
    "Matrice.append(scoresAdventure)\n",
    "Matrice.append(scoresFantasy)\n",
    "Matrice.append(scoresRomance)\n",
    "Matrice.append(scoresDrama)\n",
    "Matrice.append(scoresAction)\n",
    "Matrice.append(scoresCrime)\n",
    "Matrice.append(scoresThriler)\n",
    "Matrice.append(scoresHorror)\n",
    "Matrice.append(scoresSansgenre)\n",
    "Matrice.append(scoresSciFi)\n",
    "Matrice.append(scoresMystery)\n",
    "Matrice.append(scoresWar)\n",
    "Matrice.append(scoresMusical)\n",
    "Matrice.append(scoresDocumentary)\n",
    "Matrice.append(scoresWestern)\n"
   ]
  },
  {
   "cell_type": "markdown",
   "metadata": {},
   "source": [
    "On récupère l'indice du score sur chacune des colonne , ainsi lindice nous permettra de connaitre le genre associé au film"
   ]
  },
  {
   "cell_type": "code",
   "execution_count": 218,
   "metadata": {},
   "outputs": [],
   "source": [
    "Matrice=np.array(Matrice)"
   ]
  },
  {
   "cell_type": "code",
   "execution_count": 226,
   "metadata": {},
   "outputs": [],
   "source": [
    "Mat=[]\n",
    "for ensemble in Matrice:\n",
    "    Mat.append(list(ensemble))"
   ]
  },
  {
   "cell_type": "code",
   "execution_count": 231,
   "metadata": {},
   "outputs": [],
   "source": [
    "def indMax(Liste):\n",
    "    \n",
    "    indmaxx=0\n",
    "    maxx=Liste[0]\n",
    "    \n",
    "    for i in range (0,len(Liste)):\n",
    "        if(Liste[i]>maxx):\n",
    "            maxx=Liste[i]\n",
    "            indmaxx=i\n",
    "    return indmaxx"
   ]
  },
  {
   "cell_type": "code",
   "execution_count": 233,
   "metadata": {},
   "outputs": [],
   "source": [
    "\n",
    "Mat=np.array(Mat)\n",
    "\n",
    "dicoFilmGenre=dict()\n",
    "\n",
    "for j in range(0,len(Mat[0])):\n",
    "    colonne=Mat[0: , j]\n",
    "    ind_max=indMax(colonne)\n",
    "    dicoFilmGenre[tab_films_name[j]]=List_name_genre[ind_max]\n",
    "    \n",
    "            \n"
   ]
  },
  {
   "cell_type": "code",
   "execution_count": 235,
   "metadata": {},
   "outputs": [],
   "source": [
    "#dicoFilmGenre"
   ]
  },
  {
   "cell_type": "markdown",
   "metadata": {},
   "source": [
    "Si on regarde le contenue de dicoFilmGenre on sapercoit que les genres trouvés ne sont pas les bons , il faudrait qu'on essaye avec d'autres paramètres que le nombre de votant et la note moyenne d'un film"
   ]
  },
  {
   "cell_type": "code",
   "execution_count": null,
   "metadata": {},
   "outputs": [],
   "source": []
  },
  {
   "cell_type": "code",
   "execution_count": null,
   "metadata": {},
   "outputs": [],
   "source": []
  },
  {
   "cell_type": "code",
   "execution_count": null,
   "metadata": {},
   "outputs": [],
   "source": []
  },
  {
   "cell_type": "code",
   "execution_count": null,
   "metadata": {},
   "outputs": [],
   "source": []
  },
  {
   "cell_type": "code",
   "execution_count": null,
   "metadata": {},
   "outputs": [],
   "source": []
  }
 ],
 "metadata": {
  "kernelspec": {
   "display_name": "Python 3",
   "language": "python",
   "name": "python3"
  },
  "language_info": {
   "codemirror_mode": {
    "name": "ipython",
    "version": 3
   },
   "file_extension": ".py",
   "mimetype": "text/x-python",
   "name": "python",
   "nbconvert_exporter": "python",
   "pygments_lexer": "ipython3",
   "version": "3.7.2"
  }
 },
 "nbformat": 4,
 "nbformat_minor": 2
}
