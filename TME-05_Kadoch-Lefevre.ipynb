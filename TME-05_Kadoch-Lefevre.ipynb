{
 "cells": [
  {
   "cell_type": "markdown",
   "metadata": {},
   "source": [
    "IA & Data science (3i026) -- 2018-2019\n",
    "--------\n",
    "*&copy; Equipe pédagogique: Manon Ansart, Vincent Guigue, Marie-Jeanne Lesot, Christophe Marsala, Olivier Schwander.*"
   ]
  },
  {
   "cell_type": "markdown",
   "metadata": {},
   "source": [
    "# TD-TME05: les arbres de décision\n",
    "\n",
    "L'objectif de ce TP est d'implémenter un algorithme d'apprentissage supervisé, l'algorithme de construction d'arbres de décision vu en cours.\n",
    "\n",
    "Dans un premier temps, nous allons nous restreindre à un cas binaire où les classes sont étiquetées $+1$ ou $-1$. De plus, nous allons ne considérer que le cas où les attributs sont tous numériques et on ne construit que des arbres avec des noeuds binaires (ie. qui ne contiennent que 2 branches sortantes)."
   ]
  },
  {
   "cell_type": "markdown",
   "metadata": {},
   "source": [
    "<font size=\"+1\" color=\"RED\">**[Q]**</font> **Indiquer dans la boîte ci-dessous vos noms et prénoms :**"
   ]
  },
  {
   "cell_type": "markdown",
   "metadata": {},
   "source": [
    "    KADOCH Daoud & LEFEVRE Sebastien"
   ]
  },
  {
   "cell_type": "markdown",
   "metadata": {},
   "source": [
    "<font color=\"RED\" size=\"+1\">**[Q]**</font> **Renommer ce fichier ipython**\n",
    "\n",
    "Tout en haut de cette page, cliquer sur <tt>tme-05</tt> et rajouter à la suite de <tt>tme-05</tt> les noms des membres du binômes séparés par un tiret."
   ]
  },
  {
   "cell_type": "markdown",
   "metadata": {},
   "source": [
    "<font color=\"RED\" size=\"+1\">IMPORTANT: soumission de votre fichier final</font>\n",
    "\n",
    "**Nom à donner au fichier à poster** : *tme-05-Nom1_Nom2.ipynb* \n",
    "- *Nom1* et *Nom2* : noms des membres du binôme\n",
    "- ne pas compresser ou faire une archive: il faut rendre le notebook tel quel, éventuellement, si vous avez d'autres fichiers vous les rendez séparément.\n",
    "\n",
    "**Echancier pour la soumission de votre compte-rendu:**\n",
    "- le compte-rendu d'une séance doit être remis obligatoirement <font color=\"RED\">** à la fin de la séance**</font>. C'est ce compte-rendu qui donne la note de base de la séance.\n",
    "- vous pouvez éventuellement compléter votre compte-rendu  pour obtenir des points bonus, dans ce cas, vous devez soumettre votre complément avant le début de la semaine suivante.\n",
    "\n",
    "** Sur la page Moodle de remise du travail <font color=\"RED\">ne pas oublier d'envoyer le compte rendu</font>** à la fin de la séance, la soumission de la version complémentaire post-séance se fera sur une page différente."
   ]
  },
  {
   "cell_type": "markdown",
   "metadata": {},
   "source": [
    "## Mise à jour de votre librairie IADS\n",
    "\n",
    "Comme lors des séances précédentes, vous devez utiliser les fonctions de la librairie IADS.\n",
    "\n",
    "<font color=\"RED\" size=\"+1\">**[Q]**</font> **Ouvrir et compléter les fichiers Classifiers.py et utils.py**\n",
    "\n",
    "Rajouter dans la librairie les fonctions et classes et que vous avez écrites lors de la séance précédente. \n",
    "\n",
    "**Rappel**: dans un premier temps, vous devez écrire les classes et fonctions demandées dans le notebook de la séance de TDTME en cours. Lors de la séance suivante, vous rajouterez tout cela, une fois que vous l'aurez bien testé, dans vos fichiers de la librairie IADS.\n",
    "\n"
   ]
  },
  {
   "cell_type": "code",
   "execution_count": 5,
   "metadata": {},
   "outputs": [],
   "source": [
    "import numpy as np\n",
    "import pandas as pd\n",
    "import matplotlib.pyplot as plt\n",
    "%matplotlib inline  \n",
    "\n",
    "# La ligne suivante permet de préciser le chemin d'accès à la librairie iads\n",
    "import sys\n",
    "sys.path.append('../')\n",
    "\n",
    "# Importation de la librairie iads\n",
    "import iads as iads\n",
    "\n",
    "# importation de LabeledSet\n",
    "from iads import LabeledSet as ls\n",
    "\n",
    "# importation de Classifiers\n",
    "from iads import Classifiers as cl\n",
    "\n",
    "# importation de utils\n",
    "from iads import utils_iads as ut"
   ]
  },
  {
   "cell_type": "markdown",
   "metadata": {},
   "source": [
    "### Génération de données Jouet\n",
    "\n",
    "<font color=\"RED\" size=\"+1\">**[Q]**</font>  Dans un premier temps, pour mettre au point les fonctions, générer une base jouet assez petite (par exemple, 10 exemples de chaque classe)."
   ]
  },
  {
   "cell_type": "code",
   "execution_count": 24,
   "metadata": {},
   "outputs": [],
   "source": [
    "def newSet(cov, nb_points):\n",
    "    pourcentage = np.random.uniform(0,1)\n",
    "    nb1 = int(nb_points*(pourcentage))\n",
    "    nb2 = int(nb_points*(1-pourcentage))\n",
    "    \"\"\" \n",
    "        rend un LabeledSet 2D généré aléatoirement.\n",
    "        Arguments:\n",
    "        - positive_center (vecteur taille 2): centre de la gaussienne des points positifs\n",
    "        - positive_sigma (matrice 2*2): variance de la gaussienne des points positifs\n",
    "        - negative_center (vecteur taille 2): centre de la gaussienne des points négative\n",
    "        - negative_sigma (matrice 2*2): variance de la gaussienne des points négative\n",
    "        - nb_points (int):  nombre de points de chaque classe à générer\n",
    "    \"\"\"\n",
    "    pointPos = np.random.multivariate_normal(np.array([1,1]), np.array([[cov,0],[0,cov]]), nb1)\n",
    "    pointNeg = np.random.multivariate_normal(np.array([-1,-1]), np.array([[cov,0],[0,cov]]), nb2)\n",
    "    dataSet  = ls.LabeledSet(2)\n",
    "    for i in range (nb1):\n",
    "        dataSet.addExample(pointPos[i],1)\n",
    "    for i in range (nb2):\n",
    "        dataSet.addExample(pointNeg[i],-1)\n",
    "    return dataSet"
   ]
  },
  {
   "cell_type": "markdown",
   "metadata": {},
   "source": [
    "<font color=\"BLUE\" size=\"+1\">*** [Reponse] ***</font> \n",
    " Methode de creation de dataset generique :: Pour une diversité des dataSet on choisit d'accorder une repartition des classes de maniere aleatoire. Cela permettra de mieux observer quelle classe est majoritaire par rapport à une autre.  "
   ]
  },
  {
   "cell_type": "code",
   "execution_count": 25,
   "metadata": {},
   "outputs": [
    {
     "data": {
      "text/plain": [
       "array([[ 2.29884989,  2.6074149 ],\n",
       "       [-0.55145803,  4.91458203],\n",
       "       [ 2.67804621,  3.81321224],\n",
       "       [ 1.2320602 ,  2.22643663],\n",
       "       [-2.25292148, -5.49291831],\n",
       "       [ 1.27240997, -3.15804545],\n",
       "       [ 0.56969835,  0.4888851 ],\n",
       "       [-0.02948921, -3.13532963]])"
      ]
     },
     "execution_count": 25,
     "metadata": {},
     "output_type": "execute_result"
    }
   ],
   "source": [
    "# définition d'un LabeledSet avec la fonction précédente\n",
    "the_set = newSet(10,10)\n",
    "S= the_set.x[np.where(the_set.y == 1),:]\n",
    "S[0]"
   ]
  },
  {
   "cell_type": "code",
   "execution_count": 26,
   "metadata": {},
   "outputs": [
    {
     "data": {
      "image/png": "[encoded data removed]",
      "text/plain": [
       "<Figure size 432x288 with 1 Axes>"
      ]
     },
     "metadata": {},
     "output_type": "display_data"
    }
   ],
   "source": [
    "# Affichage du dataset généré\n",
    "ut.plot2DSet(the_set)"
   ]
  },
  {
   "cell_type": "markdown",
   "metadata": {},
   "source": [
    "<font color=\"RED\" size=\"+1\">**[Q]**</font> Ecrire la fonction <code>classe_majoritaire()</code> qui, étant donné un LabeledSet rend la classe majoritaire dans l'ensemble (celle qui est possédée par le plus grand nombre d'exemples donc...). En cas d'égalité, cette fonction rend la classe +1."
   ]
  },
  {
   "cell_type": "code",
   "execution_count": 34,
   "metadata": {},
   "outputs": [],
   "source": [
    "def classe_majoritaire(labeled):\n",
    "    nbPos = 0\n",
    "    nbNeg = 0\n",
    "    for i in range(labeled.size()):\n",
    "        if labeled.getY(i) == 1:\n",
    "            nbPos += 1\n",
    "        else:\n",
    "            nbNeg += 1\n",
    "    \n",
    "    if nbPos >= nbNeg :\n",
    "        return 1\n",
    "    return -1\n",
    "    \n"
   ]
  },
  {
   "cell_type": "code",
   "execution_count": 35,
   "metadata": {},
   "outputs": [
    {
     "data": {
      "text/plain": [
       "-1"
      ]
     },
     "execution_count": 35,
     "metadata": {},
     "output_type": "execute_result"
    }
   ],
   "source": [
    "the_set = newSet(10,100)\n",
    "classe_majoritaire(the_set)"
   ]
  },
  {
   "cell_type": "markdown",
   "metadata": {},
   "source": [
    "<font color=\"BLUE\" size=\"+1\">*** [Reponse] ***</font>  Classe_majoritaire calcule la repartition des deux classes et rend celle predominante"
   ]
  },
  {
   "cell_type": "markdown",
   "metadata": {},
   "source": [
    "## Arbres de décision\n",
    "\n",
    "Dans cette étape, on réalise l'implémentation de l'algorithme de construction d'un arbre de décision."
   ]
  },
  {
   "cell_type": "markdown",
   "metadata": {},
   "source": [
    "### Entropie et gain d'information\n",
    "\n",
    "On note $\\{c_1, c_2,..., c_k\\}$, l'ensemble des classes possibles.\n",
    "\n",
    "Dans le cours, la mesure de désordre présentée utilise, pour toute valeur $c$ de la classe le ratio $\\frac{|Y(c)|}{|Y|}$ qui correspond à la probabilité de la classe $c$ parmi $Y$.\n",
    "On note dans ce qui suit $p_1$ la probabilité de la classe $c_1$ parmi $Y$, etc. \n",
    "\n",
    "Ainsi, on a $P=(p_1, p_2,..., p_k)$ la distribution de probabilités sur les classes ainsi définies.\n",
    "\n",
    "L'**entropie de Shannon** de la distribution $P$ est donnée par:\n",
    "\n",
    "$ H_S(P) = -\\sum_{i=1}^{k} p_i \\log_k(p_i)$\n",
    "\n",
    "Le logarithme utilisé est le logarithme en base $k$ afin d'obtenir une valeur normalisée de l'entropie. \n",
    "\n",
    "*Remarque:* avec les notations vues en cours, on a $D(Y) = H_S(P)$.\n",
    "\n",
    "Pour ce qui suit, une *distribution de probabilités* est représentée par une **liste** Python $P=[p_1,...,p_k]$ de valeurs réelles telle que\n",
    "* pour tout $i=1,..., k$ : $0 \\leq p_i \\leq 1$\n",
    "* $\\sum_{i=1}^{k}p_i = 1$\n"
   ]
  },
  {
   "cell_type": "markdown",
   "metadata": {},
   "source": [
    "<font color=\"RED\" size=\"+1\">**[Q]**</font> Ecrire la fonction <code>shannon()</code> qui, étant donné une distribution de probabilités $P$, rend la valeur de $H_S(P)$, l'entropie de Shannon de $P$."
   ]
  },
  {
   "cell_type": "code",
   "execution_count": 11,
   "metadata": {},
   "outputs": [],
   "source": [
    "import math\n",
    "\n",
    "def shannon(distr_p):\n",
    "    entropie = 0\n",
    "    k = len(distr_p)\n",
    "    for i in range(len(distr_p)):\n",
    "        pi = distr_p[i]\n",
    "        if pi != 0 :\n",
    "            entropie += pi*math.log(pi,k)         \n",
    "    return entropie*-1\n",
    "    "
   ]
  },
  {
   "cell_type": "markdown",
   "metadata": {},
   "source": [
    "<font color=\"BLUE\" size=\"+1\">*** [Reponse] ***</font>  Calcul de l'entropie de Shannon. A partir d'une distribution de probabilité des classes on mesure le niveau de dispersion."
   ]
  },
  {
   "cell_type": "code",
   "execution_count": 8,
   "metadata": {},
   "outputs": [
    {
     "name": "stdout",
     "output_type": "stream",
     "text": [
      "P=[1,0] :  -0.0\n",
      "P=[0.25, 0.25, 0.25, 0.25] :  1.0\n",
      "P=[0.7, 0.1, 0.2, 0.0] :  0.5783898247235197\n",
      "P=[1.0/3, 2.0/3] :  0.9182958340544896\n"
     ]
    }
   ],
   "source": [
    "# Exemples d'utilisation:\n",
    "print(\"P=[1,0] : \", shannon([1, 0]))\n",
    "print(\"P=[0.25, 0.25, 0.25, 0.25] : \", shannon([0.25, 0.25, 0.25, 0.25]))\n",
    "print(\"P=[0.7, 0.1, 0.2, 0.0] : \", shannon([0.7, 0.1, 0.2, 0.0]))\n",
    "print(\"P=[1.0/3, 2.0/3] : \", shannon([1.0/3, 2.0/3]))"
   ]
  },
  {
   "cell_type": "markdown",
   "metadata": {},
   "source": [
    "<font color=\"RED\" size=\"+1\">**[Q]**</font> Tracer, à l'aide de la fonction plot, la courbe donnant la valeur de <code>shannon([p, 1-p])</code> en fonction de <code>p</code>."
   ]
  },
  {
   "cell_type": "code",
   "execution_count": 12,
   "metadata": {},
   "outputs": [],
   "source": [
    "import matplotlib.pyplot as plt"
   ]
  },
  {
   "cell_type": "code",
   "execution_count": 13,
   "metadata": {},
   "outputs": [
    {
     "data": {
      "image/png": "[encoded data removed]",
      "text/plain": [
       "<Figure size 432x288 with 1 Axes>"
      ]
     },
     "metadata": {},
     "output_type": "display_data"
    }
   ],
   "source": [
    "step = 0.001\n",
    "p = 0\n",
    "liste_p = []\n",
    "liste_s = []\n",
    "while p <= 1:\n",
    "    liste_p.append(p)\n",
    "    liste_s.append(shannon([p,1-p]))\n",
    "    p = p + step\n",
    "\n",
    "plt.plot(liste_p,liste_s)\n",
    "plt.show()"
   ]
  },
  {
   "cell_type": "markdown",
   "metadata": {},
   "source": [
    "<font color=\"BLUE\" size=\"+1\">*** [Reponse] ***</font> On observe que le niveau d'entropie est a son maximum lorsque la dispersion des données est nul, c'est à dire lorsqu'on n'a pas de classe predominante (50,50). Il faudra donc par la suite minimiser cette entropie afin d'obtenir une meilleur decision."
   ]
  },
  {
   "cell_type": "markdown",
   "metadata": {},
   "source": [
    "<font color=\"RED\" size=\"+1\">**[Q]**</font> A l'aide de la fonction <code>shannon()</code>, écrire la fonction <code>entropie()</code> qui prend un LabeledSet en argument et renvoie l'entropie de la distribution des classes dans cet ensemble."
   ]
  },
  {
   "cell_type": "code",
   "execution_count": 36,
   "metadata": {},
   "outputs": [],
   "source": [
    "def entropie(labeled):\n",
    "    \n",
    "    nb_pos = 0\n",
    "    nb_neg = 0\n",
    "    for i in range(labeled.size()):\n",
    "        if labeled.getY(i) == 1:\n",
    "            nb_pos += 1\n",
    "        else:\n",
    "            nb_neg += 1\n",
    "   \n",
    "    taille = labeled.size()\n",
    "    proba_pos = nb_pos/taille*1.0\n",
    "    proba_neg = nb_neg/taille*1.0\n",
    "    \n",
    "    return shannon([proba_neg,proba_pos])\n"
   ]
  },
  {
   "cell_type": "code",
   "execution_count": 23,
   "metadata": {},
   "outputs": [
    {
     "name": "stdout",
     "output_type": "stream",
     "text": [
      "Entropie :: 0.32984607020714635\n"
     ]
    },
    {
     "data": {
      "image/png": "[encoded data removed]",
      "text/plain": [
       "<Figure size 432x288 with 1 Axes>"
      ]
     },
     "metadata": {},
     "output_type": "display_data"
    }
   ],
   "source": [
    "the_set2 = newSet(10,100)\n",
    "entr = entropie(the_set2)\n",
    "print(\"Entropie ::\",entr)\n",
    "ut.plot2DSet(the_set2)"
   ]
  },
  {
   "cell_type": "markdown",
   "metadata": {},
   "source": [
    "Cette fonction <code>entropie</code> permet dont de calculer le désordre des classes dans le LabeledSet considéré."
   ]
  },
  {
   "cell_type": "markdown",
   "metadata": {},
   "source": [
    "### Discrétisation des attributs numériques"
   ]
  },
  {
   "cell_type": "markdown",
   "metadata": {
    "collapsed": true
   },
   "source": [
    "Comme on l'a vu en cours, discrétiser un attribut numérique consiste en trouver un seuil de coupure dans son ensemble de valeurs. \n",
    "\n",
    "Par exemple, soit l'attribut Age contenant les valeurs 17, 18, 20, 27, 35, 37, 40. On discrétise cet attribut en 2 valeurs en prenant, par exemple, le seuil 30: cela permet de séparer d'un côté les valeurs inférieures ou égales à 30, et de l'autre les valeurs strictement supérieures à 30.\n",
    "\n",
    "Le seuil est choisi afin d'optimiser la distribution des classes des exemples qui se trouvent de chaque côté du seuil. Une fois un seuil choisi, on calcule le désordre des classes associées aux exemples de chaque côté du seuil et on agrège les 2 valeurs de désordre obtenues pour déterminer la qualité de la coupure à l'aide de la mesure $Q$ vue en cours.\n",
    "\n",
    "\n",
    "Soit $X$ un ensemble d'exemples, et soit $A$ un attribut que l'on souhaite discrétiser. Pour cela, on constitue l'ensemble des valeurs prises par les exemples de $X$ pour l'attribut $A$. Soit $A_X$ cet ensemble de valeurs.\n",
    "\n",
    "La discrétisation de $A_X$ s'effectue par les étapes suivantes:\n",
    "- Etape 1: ordonner de façon croissante les valeurs de $A_X$;\n",
    "- Etape 2: regarder tous les seuils possibles de coupure entre 2 valeurs consécutives de $A_X$ (on prend comme seuil de coupure la valeur médiane entre ces 2 valeurs). Chaque seuil trouvé créé 2 intervalles qui générent 2 sous-ensembles de $X$: l'ensemble $X_1$ des exemples dont la valeur pour $A$ et inférieure ou égale au seuil, et l'ensemble $X_2$ des exemples dont la valeur pour $A$ et supérieure au seuil. On détermine la qualité du seuil par la mesure de qualité d'un test vue en cours. On note $Q(seuil)$ cette valeur.\n",
    "\n",
    "\n",
    "La meilleure coupure pour discrétiser $A_X$ est celle qui minimise la valeur $Q(seuil)$.\n",
    "\n",
    "\n",
    "Par exemple, soit $X=\\{17, 18, 20, 27, 35, 37, 40\\}$, chaque valeur étant associées aux classes +1, +1, -1, -1, +1, +1, -1 respectivement. Un seuil de coupure possible est $31$ ($31 = \\frac{27+35}{2}$). Ce seuil coupe $X$ en $X_1=\\{17, 18, 20, 27\\}$ et $X_2=\\{35, 37, 40\\}$.\n",
    "\n",
    "- pour $X_1$, la probabilité de chaque classe est: $p(+1)= 0.5$ et $p(-1)=0.5$ donc, $H_S(X_1)=1$;\n",
    "- pour $X_2$, la probabilité de chaque classe est: $p(+1)= \\frac{1}{3}$ et $p(-1)=\\frac{2}{3}$ donc, $H_S(X_2)=0.9182958340544896$;\n",
    "- on a donc: $$Q(seuil=31) = \\frac{4}{7} H_S(X_1) + \\frac{3}{7} H_S(X_2);$$\n",
    "soit $Q(seuil=31) = 0.9182958340544896$"
   ]
  },
  {
   "cell_type": "markdown",
   "metadata": {},
   "source": [
    "On considère que <code>the_set</code> est un LabeledSet construit précédement. Il contient deux variables de type array: $x$ et $y$.\n",
    "\n",
    "Regarder et tester les instructions suivantes, il faut bien comprendre comment elles fonctionnent car on va utiliser les mêmes principes dans les fonctions à écrire."
   ]
  },
  {
   "cell_type": "code",
   "execution_count": 13,
   "metadata": {},
   "outputs": [
    {
     "data": {
      "text/plain": [
       "array([[15, 15],\n",
       "       [ 8, 13],\n",
       "       [10, 14],\n",
       "       [14, 17],\n",
       "       [16,  9],\n",
       "       [ 9, 16],\n",
       "       [11,  1],\n",
       "       [12,  7],\n",
       "       [13,  6],\n",
       "       [ 4, 12],\n",
       "       [ 3, 18],\n",
       "       [ 5,  5],\n",
       "       [ 7, 10],\n",
       "       [17,  0],\n",
       "       [ 6, 11],\n",
       "       [ 0,  8],\n",
       "       [ 2,  3],\n",
       "       [18,  2],\n",
       "       [ 1,  4]])"
      ]
     },
     "execution_count": 13,
     "metadata": {},
     "output_type": "execute_result"
    }
   ],
   "source": [
    "the_set = newSet(10,20)\n",
    "ind= np.argsort(the_set.x,axis=0)   # Tri des valeurs de the_set.x selon les colonnes. \n",
    "                                    # La fonction rend un numpy.ndarray contenant autant de \n",
    "                                    # colonnes que the_set.x et dans chaque colonne, on a \n",
    "                                    # la position de l'exemple dans l'ordonnancement croissant.\n",
    "ind # pour afficher"
   ]
  },
  {
   "cell_type": "code",
   "execution_count": 14,
   "metadata": {},
   "outputs": [
    {
     "data": {
      "text/plain": [
       "array([[-7.37233754, -9.12919892],\n",
       "       [-5.52582086,  2.02096413],\n",
       "       [-5.21592299,  1.42402126],\n",
       "       [-4.92515985, -4.75346886],\n",
       "       [-2.0133602 , -1.59974464],\n",
       "       [-1.95698871, -2.2841429 ],\n",
       "       [-1.4071803 ,  1.80651735],\n",
       "       [-0.75864091, -0.17347676],\n",
       "       [-0.73778376, -5.97535213],\n",
       "       [-0.65532575,  3.37275856],\n",
       "       [ 0.55973021,  2.7876853 ],\n",
       "       [ 0.6888481 ,  0.60105048],\n",
       "       [ 0.87010722, -1.29939125],\n",
       "       [ 1.39872137, -2.81987449],\n",
       "       [ 1.41736105, -0.79043036],\n",
       "       [ 2.17232365,  1.65753555],\n",
       "       [ 3.79996557,  3.04313861],\n",
       "       [ 4.19387818,  0.12092819],\n",
       "       [ 5.7983635 , -1.42653087]])"
      ]
     },
     "execution_count": 14,
     "metadata": {},
     "output_type": "execute_result"
    }
   ],
   "source": [
    "the_set.x[ind[0:len(the_set.x),0]]  # Rend le numpy.array des exemples de the_set.x ordonnés\n",
    "                                    # selon les indices donnés dans ind (colonne 0)\n"
   ]
  },
  {
   "cell_type": "code",
   "execution_count": 15,
   "metadata": {},
   "outputs": [
    {
     "data": {
      "text/plain": [
       "array([[-1],\n",
       "       [-1],\n",
       "       [-1],\n",
       "       [-1],\n",
       "       [-1],\n",
       "       [-1],\n",
       "       [-1],\n",
       "       [-1],\n",
       "       [-1],\n",
       "       [-1],\n",
       "       [ 1],\n",
       "       [-1],\n",
       "       [-1],\n",
       "       [-1],\n",
       "       [-1],\n",
       "       [ 1],\n",
       "       [ 1],\n",
       "       [-1],\n",
       "       [ 1]])"
      ]
     },
     "execution_count": 15,
     "metadata": {},
     "output_type": "execute_result"
    }
   ],
   "source": [
    "the_set.y[ind[0:len(the_set.y),0]]  # Rend le numpy.array des exemples de the_set.y ordonnés\n",
    "                                    # selon les indices donnés dans ind (colonne 0)"
   ]
  },
  {
   "cell_type": "code",
   "execution_count": 16,
   "metadata": {},
   "outputs": [
    {
     "name": "stdout",
     "output_type": "stream",
     "text": [
      "valeur= -9.129198923452613 classe=  -1\n",
      "valeur= -5.975352131547952 classe=  -1\n",
      "valeur= -4.753468855187165 classe=  -1\n",
      "valeur= -2.819874489887969 classe=  -1\n",
      "valeur= -2.2841429032048572 classe=  -1\n",
      "valeur= -1.5997446449474158 classe=  -1\n",
      "valeur= -1.4265308708882571 classe=  1\n",
      "valeur= -1.2993912453588032 classe=  -1\n",
      "valeur= -0.7904303646907158 classe=  -1\n",
      "valeur= -0.17347676406839907 classe=  -1\n",
      "valeur= 0.12092818602719935 classe=  -1\n",
      "valeur= 0.60105048248565 classe=  -1\n",
      "valeur= 1.4240212596289044 classe=  -1\n",
      "valeur= 1.6575355455453755 classe=  1\n",
      "valeur= 1.806517352497572 classe=  -1\n",
      "valeur= 2.020964132448097 classe=  -1\n",
      "valeur= 2.7876853011591534 classe=  1\n",
      "valeur= 3.043138605688688 classe=  1\n",
      "valeur= 3.372758559134023 classe=  -1\n"
     ]
    }
   ],
   "source": [
    "colonne = 1    # numéro de la colonne de the_set.x à considérer\n",
    "for v_i in ind[0:len(the_set.x)]:\n",
    "    i = v_i[colonne]\n",
    "    exem = the_set.getX(i)\n",
    "    clas = the_set.getY(i)\n",
    "    print(\"valeur=\",exem[colonne], \"classe= \", clas[0])"
   ]
  },
  {
   "cell_type": "markdown",
   "metadata": {},
   "source": [
    "Etant donné un LabeledSet, ainsi qu'un numéro de colonne à considérer (qui correspond à un des attributs de description), la fonction <code>discrétise()</code> rend un tuple constitué de la valeur de coupure qui optimise la mesure de qualité, et de la valeur trouvée pour cette mesure."
   ]
  },
  {
   "cell_type": "code",
   "execution_count": 17,
   "metadata": {},
   "outputs": [],
   "source": [
    "def discretise(LSet, col):\n",
    "    \"\"\" LabelledSet * int -> tuple[float, float]\n",
    "        Hypothèse: LSet.size() >= 2\n",
    "        col est le numéro de colonne sur X à discrétiser\n",
    "        rend la valeur de coupure qui minimise l'entropie ainsi que son entropie.\n",
    "    \"\"\"\n",
    "    # initialisation:\n",
    "    min_entropie = 1.1  # on met à une valeur max car on veut minimiser\n",
    "    min_seuil = 0.0     \n",
    "    # trie des valeurs:\n",
    "    ind= np.argsort(LSet.x,axis=0)\n",
    "    \n",
    "    # calcul des distributions des classes pour E1 et E2:\n",
    "    inf_plus  = 0               # nombre de +1 dans E1\n",
    "    inf_moins = 0               # nombre de -1 dans E1\n",
    "    sup_plus  = 0               # nombre de +1 dans E2\n",
    "    sup_moins = 0               # nombre de -1 dans E2       \n",
    "    # remarque: au départ on considère que E1 est vide et donc E2 correspond à E. \n",
    "    # Ainsi inf_plus et inf_moins valent 0. Il reste à calculer sup_plus et sup_moins \n",
    "    # dans E.\n",
    "    for j in range(0,LSet.size()):\n",
    "        if (LSet.getY(j) == -1):\n",
    "            sup_moins += 1\n",
    "        else:\n",
    "            sup_plus += 1\n",
    "    nb_total = (sup_plus + sup_moins) # nombre d'exemples total dans E\n",
    "    \n",
    "    # parcours pour trouver le meilleur seuil:\n",
    "    for i in range(len(LSet.x)-1):\n",
    "        v_ind_i = ind[i]   # vecteur d'indices\n",
    "        courant = LSet.getX(v_ind_i[col])[col]\n",
    "        lookahead = LSet.getX(ind[i+1][col])[col]\n",
    "        val_seuil = (courant + lookahead) / 2.0;\n",
    "        # M-A-J de la distrib. des classes:\n",
    "        # pour réduire les traitements: on retire un exemple de E2 et on le place\n",
    "        # dans E1, c'est ainsi que l'on déplace donc le seuil de coupure.\n",
    "        if LSet.getY(ind[i][col])[0] == -1:\n",
    "            inf_moins += 1\n",
    "            sup_moins -= 1\n",
    "        else:\n",
    "            inf_plus += 1\n",
    "            sup_plus -= 1\n",
    "        # calcul de la distribution des classes de chaque côté du seuil:\n",
    "        nb_inf = (inf_moins + inf_plus)*1.0     # rem: on en fait un float pour éviter\n",
    "        nb_sup = (sup_moins + sup_plus)*1.0     # que ce soit une division entière.\n",
    "        # calcul de l'entropie de la coupure\n",
    "        val_entropie_inf = shannon([inf_moins / nb_inf, inf_plus  / nb_inf])\n",
    "        val_entropie_sup = shannon([sup_moins / nb_sup, sup_plus  / nb_sup])\n",
    "        val_entropie = (nb_inf / nb_total) * val_entropie_inf \\\n",
    "                       + (nb_sup / nb_total) * val_entropie_sup\n",
    "        # si cette coupure minimise l'entropie, on mémorise ce seuil et son entropie:\n",
    "        if (min_entropie > val_entropie):\n",
    "            min_entropie = val_entropie\n",
    "            min_seuil = val_seuil\n",
    "    return (min_seuil, min_entropie)"
   ]
  },
  {
   "cell_type": "code",
   "execution_count": 18,
   "metadata": {},
   "outputs": [
    {
     "data": {
      "text/plain": [
       "(1.7948423482952536, 0.4497632906925185)"
      ]
     },
     "execution_count": 18,
     "metadata": {},
     "output_type": "execute_result"
    }
   ],
   "source": [
    "discretise(the_set,0) # le résultat dépend, bien sûr, de la base jouet"
   ]
  },
  {
   "cell_type": "code",
   "execution_count": 19,
   "metadata": {},
   "outputs": [
    {
     "data": {
      "text/plain": [
       "(1.54077840258714, 0.5834824382726487)"
      ]
     },
     "execution_count": 19,
     "metadata": {},
     "output_type": "execute_result"
    }
   ],
   "source": [
    "discretise(the_set,1) # le résultat dépend, bien sûr, de la base jouet"
   ]
  },
  {
   "cell_type": "markdown",
   "metadata": {},
   "source": [
    "<font color=\"BLUE\" size=\"+1\">*** [Reponse] ***</font> la methode discretise permet de trouver le seuil pour lequel l'entropie est minimale. Cela permettra de separer nos données en deux sous ensemble dans lesquels on fera nos decisions."
   ]
  },
  {
   "cell_type": "markdown",
   "metadata": {},
   "source": [
    "Une dernière fonction utile permet de diviser une base d'exemples en 2 sous-bases en utilisant un seuil sur la valeur d'un attribut donné.\n",
    "\n",
    "<font color=\"RED\" size=\"+1\">**[Q]**</font> Ecrire la fonction divise() dont la spécification est:\n",
    "\n",
    "    def divise(LSet,att,seuil):\n",
    "        \"\"\" LSet: LabeledSet\n",
    "            att : numéro d'attribut\n",
    "            seuil : valeur de seuil\n",
    "            rend le tuple contenant les 2 sous-LabeledSet obtenus par la\n",
    "            division de LSet selon le seuil sur l'attribut att\n",
    "        \"\"\"\n",
    "\n"
   ]
  },
  {
   "cell_type": "code",
   "execution_count": 20,
   "metadata": {},
   "outputs": [
    {
     "name": "stdout",
     "output_type": "stream",
     "text": [
      "1\n"
     ]
    }
   ],
   "source": [
    "test = ls.LabeledSet(2)\n",
    "test.addExample([1,1],1)\n",
    "print(test.getX(0)[0])"
   ]
  },
  {
   "cell_type": "code",
   "execution_count": 21,
   "metadata": {},
   "outputs": [],
   "source": [
    "def divise(LSet,att,seuil):\n",
    "    \"\"\" LSet: LabeledSet\n",
    "        att : numéro d'attribut\n",
    "        seuil : valeur de seuil\n",
    "        rend le tuple contenant les 2 sous-LabeledSet obtenus par la\n",
    "        division de LSet selon le seuil sur l'attribut att\n",
    "    \"\"\"\n",
    "    #Etape 1: ordonner de façon croissante les valeurs de  AXAX ;\n",
    "    label_inf = ls.LabeledSet(LSet.getInputDimension())\n",
    "    label_sup = ls.LabeledSet(LSet.getInputDimension())\n",
    "    \n",
    "    #ind= np.argsort(LSet.x,axis=0)\n",
    "    \n",
    "    for i in range(0,LSet.size()):\n",
    "        if (LSet.getX(i)[att] < seuil):\n",
    "            label_inf.addExample(LSet.getX(i), LSet.getY(i))\n",
    "        else : label_sup.addExample(LSet.getX(i), LSet.getY(i))\n",
    "            \n",
    "    return label_inf,label_sup"
   ]
  },
  {
   "cell_type": "code",
   "execution_count": 35,
   "metadata": {
    "scrolled": true
   },
   "outputs": [
    {
     "name": "stdout",
     "output_type": "stream",
     "text": [
      "entropie inférieur: 0.41381685030363374  / entropie supérieur: 0.9852281360342516\n"
     ]
    },
    {
     "data": {
      "image/png": "[encoded data removed]",
      "text/plain": [
       "<Figure size 432x288 with 1 Axes>"
      ]
     },
     "metadata": {},
     "output_type": "display_data"
    }
   ],
   "source": [
    "the_set = newSet(10,20)\n",
    "ut.plot2DSet(the_set)\n",
    "Linf, Lsup = divise(the_set,0,1)\n",
    "print(\"entropie inférieur:\",entropie(Linf),\" / entropie supérieur:\", entropie(Lsup))\n",
    "# remarque: les résultats dépendent de votre base jouet..."
   ]
  },
  {
   "cell_type": "markdown",
   "metadata": {},
   "source": [
    "<font color=\"BLUE\" >** [Reponse] **</font> \n",
    "\n",
    "Plus la classe est majoritaire moins l'entropie sera grande et inversement, si il n'y a pas beaucoup de predominance entre les classes l'entropie sera élevé."
   ]
  },
  {
   "cell_type": "markdown",
   "metadata": {},
   "source": [
    "### Représentation d'un arbre en Python"
   ]
  },
  {
   "cell_type": "markdown",
   "metadata": {},
   "source": [
    "Un arbre de décision doit être représenté en Python, pour cela, on utilise la classe <code>ArbreBinaire</code> suivante:"
   ]
  },
  {
   "cell_type": "code",
   "execution_count": 23,
   "metadata": {},
   "outputs": [],
   "source": [
    "import graphviz as gv\n",
    "# Eventuellement, il peut être nécessaire d'installer graphviz sur votre compte:\n",
    "# pip install --user --install-option=\"--prefix=\" -U graphviz\n",
    "\n",
    "\n",
    "class ArbreBinaire:\n",
    "    def __init__(self):\n",
    "        self.attribut = None   # numéro de l'attribut\n",
    "        self.seuil = None\n",
    "        self.inferieur = None # ArbreBinaire Gauche (valeurs <= au seuil)\n",
    "        self.superieur = None # ArbreBinaire Gauche (valeurs > au seuil)\n",
    "        self.classe = None # Classe si c'est une feuille: -1 ou +1\n",
    "        \n",
    "    def est_feuille(self):\n",
    "        \"\"\" rend True si l'arbre est une feuille \"\"\"\n",
    "        return self.seuil == None\n",
    "    \n",
    "    def ajoute_fils(self,ABinf,ABsup,att,seuil):\n",
    "        \"\"\" ABinf, ABsup: 2 arbres binaires\n",
    "            att: numéro d'attribut\n",
    "            seuil: valeur de seuil\n",
    "        \"\"\"\n",
    "        self.attribut = att\n",
    "        self.seuil = seuil\n",
    "        self.inferieur = ABinf\n",
    "        self.superieur = ABsup\n",
    "    \n",
    "    def ajoute_feuille(self,classe):\n",
    "        \"\"\" classe: -1 ou + 1\n",
    "        \"\"\"\n",
    "        self.classe = classe\n",
    "        \n",
    "    def classifie(self,exemple):\n",
    "        \"\"\" exemple : numpy.array\n",
    "            rend la classe de l'exemple: +1 ou -1\n",
    "        \"\"\"\n",
    "        if self.est_feuille():\n",
    "            return self.classe\n",
    "        if exemple[self.attribut] <= self.seuil:\n",
    "            return self.inferieur.classifie(exemple)\n",
    "        return self.superieur.classifie(exemple)\n",
    "    \n",
    "    def to_graph(self, g, prefixe='A'):\n",
    "        \"\"\" construit une représentation de l'arbre pour pouvoir\n",
    "            l'afficher\n",
    "        \"\"\"\n",
    "        if self.est_feuille():\n",
    "            g.node(prefixe,str(self.classe),shape='box')\n",
    "        else:\n",
    "            g.node(prefixe, str(self.attribut))\n",
    "            self.inferieur.to_graph(g,prefixe+\"g\")\n",
    "            self.superieur.to_graph(g,prefixe+\"d\")\n",
    "            g.edge(prefixe,prefixe+\"g\", '<='+ str(self.seuil))\n",
    "            g.edge(prefixe,prefixe+\"d\", '>'+ str(self.seuil))\n",
    "        \n",
    "        return g"
   ]
  },
  {
   "cell_type": "code",
   "execution_count": 24,
   "metadata": {},
   "outputs": [
    {
     "data": {
      "image/svg+xml": [
       "<?xml version=\"1.0\" encoding=\"UTF-8\" standalone=\"no\"?>\n",
       "<!DOCTYPE svg PUBLIC \"-//W3C//DTD SVG 1.1//EN\"\n",
       " \"http://www.w3.org/Graphics/SVG/1.1/DTD/svg11.dtd\">\n",
       "<!-- Generated by graphviz version 2.38.0 (20140413.2041)\n",
       " -->\n",
       "<!-- Title: %3 Pages: 1 -->\n",
       "<svg width=\"134pt\" height=\"131pt\"\n",
       " viewBox=\"0.00 0.00 134.00 131.00\" xmlns=\"http://www.w3.org/2000/svg\" xmlns:xlink=\"http://www.w3.org/1999/xlink\">\n",
       "<g id=\"graph0\" class=\"graph\" transform=\"scale(1 1) rotate(0) translate(4 127)\">\n",
       "<title>%3</title>\n",
       "<polygon fill=\"white\" stroke=\"none\" points=\"-4,4 -4,-127 130,-127 130,4 -4,4\"/>\n",
       "<!-- A -->\n",
       "<g id=\"node1\" class=\"node\"><title>A</title>\n",
       "<ellipse fill=\"none\" stroke=\"black\" cx=\"63\" cy=\"-105\" rx=\"27\" ry=\"18\"/>\n",
       "<text text-anchor=\"middle\" x=\"63\" y=\"-101.3\" font-family=\"Times,serif\" font-size=\"14.00\">nom</text>\n",
       "</g>\n",
       "<!-- Ag -->\n",
       "<g id=\"node2\" class=\"node\"><title>Ag</title>\n",
       "<polygon fill=\"none\" stroke=\"black\" points=\"54,-36 0,-36 0,-0 54,-0 54,-36\"/>\n",
       "<text text-anchor=\"middle\" x=\"27\" y=\"-14.3\" font-family=\"Times,serif\" font-size=\"14.00\">1</text>\n",
       "</g>\n",
       "<!-- A&#45;&gt;Ag -->\n",
       "<g id=\"edge1\" class=\"edge\"><title>A&#45;&gt;Ag</title>\n",
       "<path fill=\"none\" stroke=\"black\" d=\"M49.171,-89.3516C44.2998,-83.4397 39.2368,-76.2955 36,-69 32.8522,-61.9053 30.8051,-53.78 29.4738,-46.171\"/>\n",
       "<polygon fill=\"black\" stroke=\"black\" points=\"32.9377,-45.6687 28.0661,-36.2603 26.0073,-46.6532 32.9377,-45.6687\"/>\n",
       "<text text-anchor=\"middle\" x=\"56.5\" y=\"-57.8\" font-family=\"Times,serif\" font-size=\"14.00\">&lt;=42.0</text>\n",
       "</g>\n",
       "<!-- Ad -->\n",
       "<g id=\"node3\" class=\"node\"><title>Ad</title>\n",
       "<polygon fill=\"none\" stroke=\"black\" points=\"126,-36 72,-36 72,-0 126,-0 126,-36\"/>\n",
       "<text text-anchor=\"middle\" x=\"99\" y=\"-14.3\" font-family=\"Times,serif\" font-size=\"14.00\">2</text>\n",
       "</g>\n",
       "<!-- A&#45;&gt;Ad -->\n",
       "<g id=\"edge2\" class=\"edge\"><title>A&#45;&gt;Ad</title>\n",
       "<path fill=\"none\" stroke=\"black\" d=\"M70.1124,-87.2067C75.1581,-75.2934 82.032,-59.0634 87.8086,-45.4242\"/>\n",
       "<polygon fill=\"black\" stroke=\"black\" points=\"91.102,-46.6225 91.7791,-36.0493 84.6563,-43.8925 91.102,-46.6225\"/>\n",
       "<text text-anchor=\"middle\" x=\"99.5\" y=\"-57.8\" font-family=\"Times,serif\" font-size=\"14.00\">&gt;42.0</text>\n",
       "</g>\n",
       "</g>\n",
       "</svg>\n"
      ],
      "text/plain": [
       "<graphviz.dot.Digraph at 0x7f814a78ac88>"
      ]
     },
     "execution_count": 24,
     "metadata": {},
     "output_type": "execute_result"
    }
   ],
   "source": [
    "# Exemple d'utilisation: \n",
    "un_arbre= ArbreBinaire()\n",
    "un_arbre.ajoute_feuille(1)\n",
    "un_arbre.est_feuille()\n",
    "un_arbre1 = ArbreBinaire()\n",
    "un_arbre1.ajoute_feuille(2)\n",
    "un_arbre2 = ArbreBinaire()\n",
    "un_arbre2.ajoute_fils(un_arbre,un_arbre1,\"nom\",42.0)\n",
    "\n",
    "gtree = gv.Digraph(format='png')\n",
    "un_arbre2.to_graph(gtree)"
   ]
  },
  {
   "cell_type": "markdown",
   "metadata": {},
   "source": [
    "### Construction de l'arbre de décision"
   ]
  },
  {
   "cell_type": "markdown",
   "metadata": {},
   "source": [
    "Pour construire un arbre de décision, il faut réaliser les étapes suivantes:\n",
    "- si l'entropie de Shannon de la distribution des classes de l'ensemble courant est inférieure à epsilon (réel positif fixé et qui est un paramètre de l'algorithme), alors construire une feuille avec cet ensemble, la classe associée à cette feuille est la classe majoritaire;\n",
    "- sinon, pour chaque attribut, calculer le seuil de discrétisation et l'entropie de Shannon correspondante\n",
    "    - choisir l'attribut qui donne une valeur d'entropie minimale\n",
    "    - l'attribut choisi sert à constituer un noeud de l'arbre de décision, les arcs issus de ce noeud sont labeller par un test (inférieur ou égal ou supérieur) par rapport au seuil trouvé\n",
    "    \n",
    "    \n",
    "<font color=\"RED\" size=\"+1\">**[Q]**</font> Ecrire la fonction qui construit un arbre de décision (binaire) à partir d'une base d'exemples. En plus de la base d'exemples, on utilise un argument \"epsilon\" qui est un réel >0 et qui sert pour le critère d'arrêt.\n",
    "Cette fonction a la spécification suivante:\n",
    "\n",
    "    def construit_AD(LSet,epsilon):\n",
    "        \"\"\" LSet : LabeledSet\n",
    "            epsilon : seuil d'entropie pour le critère d'arrêt \n",
    "        \"\"\"\n"
   ]
  },
  {
   "cell_type": "code",
   "execution_count": 25,
   "metadata": {},
   "outputs": [],
   "source": [
    "def construit_AD(LSet,epsilon):\n",
    "    \"\"\" LSet : LabeledSet\n",
    "        epsilon : seuil d'entropie pour le critère d'arrêt \n",
    "    \"\"\"\n",
    "    arbre = ArbreBinaire()\n",
    "    \n",
    "    entro = entropie(LSet)\n",
    "    if entro <= epsilon :\n",
    "        #construction\n",
    "        classe = classe_majoritaire(LSet)\n",
    "        arbre.ajoute_feuille(classe)\n",
    "        \n",
    "    else : \n",
    "        l_seuil = []\n",
    "        l_entropie = []\n",
    "        for attr in range(LSet.input_dimension):\n",
    "            seuil, entro = discretise(LSet, attr)\n",
    "            l_seuil.append(seuil), l_entropie.append(entro)\n",
    "    \n",
    "        att_min = np.argmin(np.array(l_entropie))\n",
    "        seuil_min = l_seuil[att_min]\n",
    "        inf, sup = divise(LSet,att_min,seuil_min)\n",
    "        \n",
    "        \n",
    "        ab_inf = construit_AD(inf,epsilon)\n",
    "\n",
    "        ab_sup = construit_AD(sup,epsilon)\n",
    "        \n",
    "        arbre.ajoute_fils(ab_inf,ab_sup,att_min,seuil_min)\n",
    "    \n",
    "    return arbre"
   ]
  },
  {
   "cell_type": "markdown",
   "metadata": {},
   "source": [
    "<font color=\"BLUE\" size=\"+1\">*** [Reponse] ***</font> \n",
    "\n",
    "La construction de l'arbre se fait de maniere recursive. C'est un arbre binaire. On aura donc pour chaque noeud, 2 noeuds fils permettant de separer à chaque fois nos sous ensemble via la methode discretise jusqu'a arriver à une entropie inferieur ou égale a epsilon, dans ce cas la on aura un noeud terminal (feuille). Avant de separer nos sous ensemble à chaque niveau de l'arbre (hormis les feuilles) on cherche l'attribut permettant de minimiser l'entropie (dans une certaine maniere classifier notre ensemble en 2 sous ensembles). Tout ceci nous permettra de construire un arbre de decision pour lequel on stockera les attributs trouvés (\"la question à poser\") pour la decision en chaque noeud.  "
   ]
  },
  {
   "cell_type": "code",
   "execution_count": 26,
   "metadata": {},
   "outputs": [
    {
     "data": {
      "image/svg+xml": [
       "<?xml version=\"1.0\" encoding=\"UTF-8\" standalone=\"no\"?>\n",
       "<!DOCTYPE svg PUBLIC \"-//W3C//DTD SVG 1.1//EN\"\n",
       " \"http://www.w3.org/Graphics/SVG/1.1/DTD/svg11.dtd\">\n",
       "<!-- Generated by graphviz version 2.38.0 (20140413.2041)\n",
       " -->\n",
       "<!-- Title: %3 Pages: 1 -->\n",
       "<svg width=\"1193pt\" height=\"914pt\"\n",
       " viewBox=\"0.00 0.00 1193.00 914.00\" xmlns=\"http://www.w3.org/2000/svg\" xmlns:xlink=\"http://www.w3.org/1999/xlink\">\n",
       "<g id=\"graph0\" class=\"graph\" transform=\"scale(1 1) rotate(0) translate(4 910)\">\n",
       "<title>%3</title>\n",
       "<polygon fill=\"white\" stroke=\"none\" points=\"-4,4 -4,-910 1189,-910 1189,4 -4,4\"/>\n",
       "<!-- A -->\n",
       "<g id=\"node1\" class=\"node\"><title>A</title>\n",
       "<ellipse fill=\"none\" stroke=\"black\" cx=\"565\" cy=\"-888\" rx=\"27\" ry=\"18\"/>\n",
       "<text text-anchor=\"middle\" x=\"565\" y=\"-884.3\" font-family=\"Times,serif\" font-size=\"14.00\">1</text>\n",
       "</g>\n",
       "<!-- Ag -->\n",
       "<g id=\"node2\" class=\"node\"><title>Ag</title>\n",
       "<ellipse fill=\"none\" stroke=\"black\" cx=\"489\" cy=\"-801\" rx=\"27\" ry=\"18\"/>\n",
       "<text text-anchor=\"middle\" x=\"489\" y=\"-797.3\" font-family=\"Times,serif\" font-size=\"14.00\">0</text>\n",
       "</g>\n",
       "<!-- A&#45;&gt;Ag -->\n",
       "<g id=\"edge31\" class=\"edge\"><title>A&#45;&gt;Ag</title>\n",
       "<path fill=\"none\" stroke=\"black\" d=\"M539.15,-882.239C522.071,-877.618 500.897,-868.738 490,-852 485.652,-845.322 484.294,-837.005 484.34,-829.084\"/>\n",
       "<polygon fill=\"black\" stroke=\"black\" points=\"487.833,-829.298 485.076,-819.068 480.852,-828.785 487.833,-829.298\"/>\n",
       "<text text-anchor=\"middle\" x=\"554.5\" y=\"-840.8\" font-family=\"Times,serif\" font-size=\"14.00\">&lt;=4.107776313699334</text>\n",
       "</g>\n",
       "<!-- Ad -->\n",
       "<g id=\"node33\" class=\"node\"><title>Ad</title>\n",
       "<polygon fill=\"none\" stroke=\"black\" points=\"668,-819 614,-819 614,-783 668,-783 668,-819\"/>\n",
       "<text text-anchor=\"middle\" x=\"641\" y=\"-797.3\" font-family=\"Times,serif\" font-size=\"14.00\">1</text>\n",
       "</g>\n",
       "<!-- A&#45;&gt;Ad -->\n",
       "<g id=\"edge32\" class=\"edge\"><title>A&#45;&gt;Ad</title>\n",
       "<path fill=\"none\" stroke=\"black\" d=\"M586.37,-876.949C597.28,-870.953 610.094,-862.465 619,-852 624.768,-845.222 629.264,-836.695 632.645,-828.611\"/>\n",
       "<polygon fill=\"black\" stroke=\"black\" points=\"635.971,-829.71 636.226,-819.118 629.421,-827.239 635.971,-829.71\"/>\n",
       "<text text-anchor=\"middle\" x=\"689.5\" y=\"-840.8\" font-family=\"Times,serif\" font-size=\"14.00\">&gt;4.107776313699334</text>\n",
       "</g>\n",
       "<!-- Agg -->\n",
       "<g id=\"node3\" class=\"node\"><title>Agg</title>\n",
       "<ellipse fill=\"none\" stroke=\"black\" cx=\"417\" cy=\"-714\" rx=\"27\" ry=\"18\"/>\n",
       "<text text-anchor=\"middle\" x=\"417\" y=\"-710.3\" font-family=\"Times,serif\" font-size=\"14.00\">0</text>\n",
       "</g>\n",
       "<!-- Ag&#45;&gt;Agg -->\n",
       "<g id=\"edge29\" class=\"edge\"><title>Ag&#45;&gt;Agg</title>\n",
       "<path fill=\"none\" stroke=\"black\" d=\"M463.435,-794.535C447.44,-789.664 428.029,-780.771 418,-765 413.724,-758.276 412.386,-749.946 412.428,-742.027\"/>\n",
       "<polygon fill=\"black\" stroke=\"black\" points=\"415.921,-742.247 413.148,-732.022 408.939,-741.744 415.921,-742.247\"/>\n",
       "<text text-anchor=\"middle\" x=\"479\" y=\"-753.8\" font-family=\"Times,serif\" font-size=\"14.00\">&lt;=4.18150958077989</text>\n",
       "</g>\n",
       "<!-- Agd -->\n",
       "<g id=\"node32\" class=\"node\"><title>Agd</title>\n",
       "<polygon fill=\"none\" stroke=\"black\" points=\"589,-732 535,-732 535,-696 589,-696 589,-732\"/>\n",
       "<text text-anchor=\"middle\" x=\"562\" y=\"-710.3\" font-family=\"Times,serif\" font-size=\"14.00\">1</text>\n",
       "</g>\n",
       "<!-- Ag&#45;&gt;Agd -->\n",
       "<g id=\"edge30\" class=\"edge\"><title>Ag&#45;&gt;Agd</title>\n",
       "<path fill=\"none\" stroke=\"black\" d=\"M509.673,-789.413C519.863,-783.372 531.71,-775.005 540,-765 545.678,-758.147 550.15,-749.599 553.536,-741.52\"/>\n",
       "<polygon fill=\"black\" stroke=\"black\" points=\"556.857,-742.635 557.137,-732.044 550.313,-740.148 556.857,-742.635\"/>\n",
       "<text text-anchor=\"middle\" x=\"606\" y=\"-753.8\" font-family=\"Times,serif\" font-size=\"14.00\">&gt;4.18150958077989</text>\n",
       "</g>\n",
       "<!-- Aggg -->\n",
       "<g id=\"node4\" class=\"node\"><title>Aggg</title>\n",
       "<ellipse fill=\"none\" stroke=\"black\" cx=\"338\" cy=\"-627\" rx=\"27\" ry=\"18\"/>\n",
       "<text text-anchor=\"middle\" x=\"338\" y=\"-623.3\" font-family=\"Times,serif\" font-size=\"14.00\">1</text>\n",
       "</g>\n",
       "<!-- Agg&#45;&gt;Aggg -->\n",
       "<g id=\"edge27\" class=\"edge\"><title>Agg&#45;&gt;Aggg</title>\n",
       "<path fill=\"none\" stroke=\"black\" d=\"M390.912,-708.723C373.037,-704.299 350.548,-695.454 339,-678 334.603,-671.354 333.23,-663.047 333.278,-655.124\"/>\n",
       "<polygon fill=\"black\" stroke=\"black\" points=\"336.772,-655.334 334.026,-645.101 329.792,-654.813 336.772,-655.334\"/>\n",
       "<text text-anchor=\"middle\" x=\"407\" y=\"-666.8\" font-family=\"Times,serif\" font-size=\"14.00\">&lt;=2.3267447257148177</text>\n",
       "</g>\n",
       "<!-- Aggd -->\n",
       "<g id=\"node31\" class=\"node\"><title>Aggd</title>\n",
       "<polygon fill=\"none\" stroke=\"black\" points=\"524,-645 470,-645 470,-609 524,-609 524,-645\"/>\n",
       "<text text-anchor=\"middle\" x=\"497\" y=\"-623.3\" font-family=\"Times,serif\" font-size=\"14.00\">&#45;1</text>\n",
       "</g>\n",
       "<!-- Agg&#45;&gt;Aggd -->\n",
       "<g id=\"edge28\" class=\"edge\"><title>Agg&#45;&gt;Aggd</title>\n",
       "<path fill=\"none\" stroke=\"black\" d=\"M439.394,-703.558C451.238,-697.644 465.293,-689.041 475,-678 480.876,-671.316 485.401,-662.813 488.775,-654.724\"/>\n",
       "<polygon fill=\"black\" stroke=\"black\" points=\"492.108,-655.803 492.333,-645.211 485.551,-653.351 492.108,-655.803\"/>\n",
       "<text text-anchor=\"middle\" x=\"548.5\" y=\"-666.8\" font-family=\"Times,serif\" font-size=\"14.00\">&gt;2.3267447257148177</text>\n",
       "</g>\n",
       "<!-- Agggg -->\n",
       "<g id=\"node5\" class=\"node\"><title>Agggg</title>\n",
       "<ellipse fill=\"none\" stroke=\"black\" cx=\"245\" cy=\"-540\" rx=\"27\" ry=\"18\"/>\n",
       "<text text-anchor=\"middle\" x=\"245\" y=\"-536.3\" font-family=\"Times,serif\" font-size=\"14.00\">0</text>\n",
       "</g>\n",
       "<!-- Aggg&#45;&gt;Agggg -->\n",
       "<g id=\"edge25\" class=\"edge\"><title>Aggg&#45;&gt;Agggg</title>\n",
       "<path fill=\"none\" stroke=\"black\" d=\"M316.852,-615.647C305.473,-609.457 291.634,-600.881 281,-591 273.091,-583.651 265.822,-574.324 259.918,-565.721\"/>\n",
       "<polygon fill=\"black\" stroke=\"black\" points=\"262.698,-563.578 254.29,-557.132 256.843,-567.414 262.698,-563.578\"/>\n",
       "<text text-anchor=\"middle\" x=\"351\" y=\"-579.8\" font-family=\"Times,serif\" font-size=\"14.00\">&lt;=&#45;0.6804466326939393</text>\n",
       "</g>\n",
       "<!-- Agggd -->\n",
       "<g id=\"node12\" class=\"node\"><title>Agggd</title>\n",
       "<ellipse fill=\"none\" stroke=\"black\" cx=\"449\" cy=\"-540\" rx=\"27\" ry=\"18\"/>\n",
       "<text text-anchor=\"middle\" x=\"449\" y=\"-536.3\" font-family=\"Times,serif\" font-size=\"14.00\">1</text>\n",
       "</g>\n",
       "<!-- Aggg&#45;&gt;Agggd -->\n",
       "<g id=\"edge26\" class=\"edge\"><title>Aggg&#45;&gt;Agggd</title>\n",
       "<path fill=\"none\" stroke=\"black\" d=\"M363.249,-620.056C381.054,-614.824 404.564,-605.699 421,-591 428.328,-584.446 434.17,-575.503 438.582,-566.99\"/>\n",
       "<polygon fill=\"black\" stroke=\"black\" points=\"441.858,-568.251 442.959,-557.714 435.527,-565.264 441.858,-568.251\"/>\n",
       "<text text-anchor=\"middle\" x=\"499\" y=\"-579.8\" font-family=\"Times,serif\" font-size=\"14.00\">&gt;&#45;0.6804466326939393</text>\n",
       "</g>\n",
       "<!-- Aggggg -->\n",
       "<g id=\"node6\" class=\"node\"><title>Aggggg</title>\n",
       "<polygon fill=\"none\" stroke=\"black\" points=\"116,-471 62,-471 62,-435 116,-435 116,-471\"/>\n",
       "<text text-anchor=\"middle\" x=\"89\" y=\"-449.3\" font-family=\"Times,serif\" font-size=\"14.00\">1</text>\n",
       "</g>\n",
       "<!-- Agggg&#45;&gt;Aggggg -->\n",
       "<g id=\"edge5\" class=\"edge\"><title>Agggg&#45;&gt;Aggggg</title>\n",
       "<path fill=\"none\" stroke=\"black\" d=\"M217.919,-539.317C187.278,-538.218 137.662,-531.818 107,-504 100.393,-498.006 96.2097,-489.408 93.561,-481.027\"/>\n",
       "<polygon fill=\"black\" stroke=\"black\" points=\"96.8929,-479.928 91.0318,-471.102 90.1097,-481.656 96.8929,-479.928\"/>\n",
       "<text text-anchor=\"middle\" x=\"173.5\" y=\"-492.8\" font-family=\"Times,serif\" font-size=\"14.00\">&lt;=&#45;4.794440012147129</text>\n",
       "</g>\n",
       "<!-- Aggggd -->\n",
       "<g id=\"node7\" class=\"node\"><title>Aggggd</title>\n",
       "<ellipse fill=\"none\" stroke=\"black\" cx=\"242\" cy=\"-453\" rx=\"27\" ry=\"18\"/>\n",
       "<text text-anchor=\"middle\" x=\"242\" y=\"-449.3\" font-family=\"Times,serif\" font-size=\"14.00\">0</text>\n",
       "</g>\n",
       "<!-- Agggg&#45;&gt;Aggggd -->\n",
       "<g id=\"edge6\" class=\"edge\"><title>Agggg&#45;&gt;Aggggd</title>\n",
       "<path fill=\"none\" stroke=\"black\" d=\"M244.393,-521.799C243.982,-510.163 243.431,-494.548 242.961,-481.237\"/>\n",
       "<polygon fill=\"black\" stroke=\"black\" points=\"246.457,-481.046 242.606,-471.175 239.461,-481.293 246.457,-481.046\"/>\n",
       "<text text-anchor=\"middle\" x=\"306.5\" y=\"-492.8\" font-family=\"Times,serif\" font-size=\"14.00\">&gt;&#45;4.794440012147129</text>\n",
       "</g>\n",
       "<!-- Aggggdg -->\n",
       "<g id=\"node8\" class=\"node\"><title>Aggggdg</title>\n",
       "<polygon fill=\"none\" stroke=\"black\" points=\"106,-384 52,-384 52,-348 106,-348 106,-384\"/>\n",
       "<text text-anchor=\"middle\" x=\"79\" y=\"-362.3\" font-family=\"Times,serif\" font-size=\"14.00\">&#45;1</text>\n",
       "</g>\n",
       "<!-- Aggggd&#45;&gt;Aggggdg -->\n",
       "<g id=\"edge3\" class=\"edge\"><title>Aggggd&#45;&gt;Aggggdg</title>\n",
       "<path fill=\"none\" stroke=\"black\" d=\"M215.642,-448.284C171.069,-441.734 84.7668,-427.808 76,-417 70.8385,-410.637 69.8827,-402.185 70.7359,-394.043\"/>\n",
       "<polygon fill=\"black\" stroke=\"black\" points=\"74.2016,-394.551 72.6038,-384.077 67.3214,-393.261 74.2016,-394.551\"/>\n",
       "<text text-anchor=\"middle\" x=\"146\" y=\"-405.8\" font-family=\"Times,serif\" font-size=\"14.00\">&lt;=&#45;1.1422491451946943</text>\n",
       "</g>\n",
       "<!-- Aggggdd -->\n",
       "<g id=\"node9\" class=\"node\"><title>Aggggdd</title>\n",
       "<ellipse fill=\"none\" stroke=\"black\" cx=\"190\" cy=\"-366\" rx=\"27\" ry=\"18\"/>\n",
       "<text text-anchor=\"middle\" x=\"190\" y=\"-362.3\" font-family=\"Times,serif\" font-size=\"14.00\">0</text>\n",
       "</g>\n",
       "<!-- Aggggd&#45;&gt;Aggggdd -->\n",
       "<g id=\"edge4\" class=\"edge\"><title>Aggggd&#45;&gt;Aggggdd</title>\n",
       "<path fill=\"none\" stroke=\"black\" d=\"M236.029,-435.17C232.136,-425.166 226.565,-412.435 220,-402 217.318,-397.737 214.141,-393.454 210.875,-389.419\"/>\n",
       "<polygon fill=\"black\" stroke=\"black\" points=\"213.331,-386.905 204.176,-381.572 208.007,-391.45 213.331,-386.905\"/>\n",
       "<text text-anchor=\"middle\" x=\"294\" y=\"-405.8\" font-family=\"Times,serif\" font-size=\"14.00\">&gt;&#45;1.1422491451946943</text>\n",
       "</g>\n",
       "<!-- Aggggddg -->\n",
       "<g id=\"node10\" class=\"node\"><title>Aggggddg</title>\n",
       "<polygon fill=\"none\" stroke=\"black\" points=\"54,-297 0,-297 0,-261 54,-261 54,-297\"/>\n",
       "<text text-anchor=\"middle\" x=\"27\" y=\"-275.3\" font-family=\"Times,serif\" font-size=\"14.00\">1</text>\n",
       "</g>\n",
       "<!-- Aggggdd&#45;&gt;Aggggddg -->\n",
       "<g id=\"edge1\" class=\"edge\"><title>Aggggdd&#45;&gt;Aggggddg</title>\n",
       "<path fill=\"none\" stroke=\"black\" d=\"M164.747,-359.176C124.052,-349.748 48.2546,-331.99 46,-330 39.1939,-323.994 34.8153,-315.285 32.0026,-306.812\"/>\n",
       "<polygon fill=\"black\" stroke=\"black\" points=\"35.3758,-305.878 29.3685,-297.151 28.6224,-307.72 35.3758,-305.878\"/>\n",
       "<text text-anchor=\"middle\" x=\"116\" y=\"-318.8\" font-family=\"Times,serif\" font-size=\"14.00\">&lt;=&#45;0.5874866810187174</text>\n",
       "</g>\n",
       "<!-- Aggggddd -->\n",
       "<g id=\"node11\" class=\"node\"><title>Aggggddd</title>\n",
       "<polygon fill=\"none\" stroke=\"black\" points=\"217,-297 163,-297 163,-261 217,-261 217,-297\"/>\n",
       "<text text-anchor=\"middle\" x=\"190\" y=\"-275.3\" font-family=\"Times,serif\" font-size=\"14.00\">&#45;1</text>\n",
       "</g>\n",
       "<!-- Aggggdd&#45;&gt;Aggggddd -->\n",
       "<g id=\"edge2\" class=\"edge\"><title>Aggggdd&#45;&gt;Aggggddd</title>\n",
       "<path fill=\"none\" stroke=\"black\" d=\"M190,-347.799C190,-336.163 190,-320.548 190,-307.237\"/>\n",
       "<polygon fill=\"black\" stroke=\"black\" points=\"193.5,-307.175 190,-297.175 186.5,-307.175 193.5,-307.175\"/>\n",
       "<text text-anchor=\"middle\" x=\"256\" y=\"-318.8\" font-family=\"Times,serif\" font-size=\"14.00\">&gt;&#45;0.5874866810187174</text>\n",
       "</g>\n",
       "<!-- Agggdg -->\n",
       "<g id=\"node13\" class=\"node\"><title>Agggdg</title>\n",
       "<ellipse fill=\"none\" stroke=\"black\" cx=\"470\" cy=\"-453\" rx=\"27\" ry=\"18\"/>\n",
       "<text text-anchor=\"middle\" x=\"470\" y=\"-449.3\" font-family=\"Times,serif\" font-size=\"14.00\">0</text>\n",
       "</g>\n",
       "<!-- Agggd&#45;&gt;Agggdg -->\n",
       "<g id=\"edge23\" class=\"edge\"><title>Agggd&#45;&gt;Agggdg</title>\n",
       "<path fill=\"none\" stroke=\"black\" d=\"M447.28,-522.034C446.79,-512.212 447.04,-499.712 450,-489 450.961,-485.522 452.346,-482.025 453.946,-478.658\"/>\n",
       "<polygon fill=\"black\" stroke=\"black\" points=\"457.149,-480.094 458.847,-469.636 450.998,-476.752 457.149,-480.094\"/>\n",
       "<text text-anchor=\"middle\" x=\"514.5\" y=\"-492.8\" font-family=\"Times,serif\" font-size=\"14.00\">&lt;=3.467520082616111</text>\n",
       "</g>\n",
       "<!-- Agggdd -->\n",
       "<g id=\"node30\" class=\"node\"><title>Agggdd</title>\n",
       "<polygon fill=\"none\" stroke=\"black\" points=\"628,-471 574,-471 574,-435 628,-435 628,-471\"/>\n",
       "<text text-anchor=\"middle\" x=\"601\" y=\"-449.3\" font-family=\"Times,serif\" font-size=\"14.00\">&#45;1</text>\n",
       "</g>\n",
       "<!-- Agggd&#45;&gt;Agggdd -->\n",
       "<g id=\"edge24\" class=\"edge\"><title>Agggd&#45;&gt;Agggdd</title>\n",
       "<path fill=\"none\" stroke=\"black\" d=\"M476.035,-538.365C504.748,-536.315 549.922,-528.976 579,-504 586.032,-497.96 590.902,-489.242 594.235,-480.773\"/>\n",
       "<polygon fill=\"black\" stroke=\"black\" points=\"597.611,-481.714 597.479,-471.12 590.976,-479.484 597.611,-481.714\"/>\n",
       "<text text-anchor=\"middle\" x=\"650.5\" y=\"-492.8\" font-family=\"Times,serif\" font-size=\"14.00\">&gt;3.467520082616111</text>\n",
       "</g>\n",
       "<!-- Agggdgg -->\n",
       "<g id=\"node14\" class=\"node\"><title>Agggdgg</title>\n",
       "<ellipse fill=\"none\" stroke=\"black\" cx=\"470\" cy=\"-366\" rx=\"27\" ry=\"18\"/>\n",
       "<text text-anchor=\"middle\" x=\"470\" y=\"-362.3\" font-family=\"Times,serif\" font-size=\"14.00\">1</text>\n",
       "</g>\n",
       "<!-- Agggdg&#45;&gt;Agggdgg -->\n",
       "<g id=\"edge21\" class=\"edge\"><title>Agggdg&#45;&gt;Agggdgg</title>\n",
       "<path fill=\"none\" stroke=\"black\" d=\"M470,-434.799C470,-423.163 470,-407.548 470,-394.237\"/>\n",
       "<polygon fill=\"black\" stroke=\"black\" points=\"473.5,-394.175 470,-384.175 466.5,-394.175 473.5,-394.175\"/>\n",
       "<text text-anchor=\"middle\" x=\"540\" y=\"-405.8\" font-family=\"Times,serif\" font-size=\"14.00\">&lt;=&#45;1.1014160710656138</text>\n",
       "</g>\n",
       "<!-- Agggdgd -->\n",
       "<g id=\"node21\" class=\"node\"><title>Agggdgd</title>\n",
       "<ellipse fill=\"none\" stroke=\"black\" cx=\"654\" cy=\"-366\" rx=\"27\" ry=\"18\"/>\n",
       "<text text-anchor=\"middle\" x=\"654\" y=\"-362.3\" font-family=\"Times,serif\" font-size=\"14.00\">0</text>\n",
       "</g>\n",
       "<!-- Agggdg&#45;&gt;Agggdgd -->\n",
       "<g id=\"edge22\" class=\"edge\"><title>Agggdg&#45;&gt;Agggdgd</title>\n",
       "<path fill=\"none\" stroke=\"black\" d=\"M495.873,-447.612C531.315,-441.268 592.763,-428.978 612,-417 622.315,-410.577 631.356,-400.767 638.38,-391.533\"/>\n",
       "<polygon fill=\"black\" stroke=\"black\" points=\"641.277,-393.499 644.243,-383.327 635.582,-389.429 641.277,-393.499\"/>\n",
       "<text text-anchor=\"middle\" x=\"696\" y=\"-405.8\" font-family=\"Times,serif\" font-size=\"14.00\">&gt;&#45;1.1014160710656138</text>\n",
       "</g>\n",
       "<!-- Agggdggg -->\n",
       "<g id=\"node15\" class=\"node\"><title>Agggdggg</title>\n",
       "<polygon fill=\"none\" stroke=\"black\" points=\"372,-297 318,-297 318,-261 372,-261 372,-297\"/>\n",
       "<text text-anchor=\"middle\" x=\"345\" y=\"-275.3\" font-family=\"Times,serif\" font-size=\"14.00\">1</text>\n",
       "</g>\n",
       "<!-- Agggdgg&#45;&gt;Agggdggg -->\n",
       "<g id=\"edge11\" class=\"edge\"><title>Agggdgg&#45;&gt;Agggdggg</title>\n",
       "<path fill=\"none\" stroke=\"black\" d=\"M443.672,-361.38C410.645,-356.237 356.882,-345.666 345,-330 340.185,-323.652 338.823,-315.429 339.056,-307.491\"/>\n",
       "<polygon fill=\"black\" stroke=\"black\" points=\"342.552,-307.716 340.126,-297.403 335.591,-306.978 342.552,-307.716\"/>\n",
       "<text text-anchor=\"middle\" x=\"413\" y=\"-318.8\" font-family=\"Times,serif\" font-size=\"14.00\">&lt;=0.5563758623077191</text>\n",
       "</g>\n",
       "<!-- Agggdggd -->\n",
       "<g id=\"node16\" class=\"node\"><title>Agggdggd</title>\n",
       "<ellipse fill=\"none\" stroke=\"black\" cx=\"504\" cy=\"-279\" rx=\"27\" ry=\"18\"/>\n",
       "<text text-anchor=\"middle\" x=\"504\" y=\"-275.3\" font-family=\"Times,serif\" font-size=\"14.00\">0</text>\n",
       "</g>\n",
       "<!-- Agggdgg&#45;&gt;Agggdggd -->\n",
       "<g id=\"edge12\" class=\"edge\"><title>Agggdgg&#45;&gt;Agggdggd</title>\n",
       "<path fill=\"none\" stroke=\"black\" d=\"M476.717,-348.207C481.545,-336.138 488.145,-319.638 493.644,-305.891\"/>\n",
       "<polygon fill=\"black\" stroke=\"black\" points=\"496.948,-307.054 497.412,-296.469 490.449,-304.454 496.948,-307.054\"/>\n",
       "<text text-anchor=\"middle\" x=\"553.5\" y=\"-318.8\" font-family=\"Times,serif\" font-size=\"14.00\">&gt;0.5563758623077191</text>\n",
       "</g>\n",
       "<!-- Agggdggdg -->\n",
       "<g id=\"node17\" class=\"node\"><title>Agggdggdg</title>\n",
       "<ellipse fill=\"none\" stroke=\"black\" cx=\"385\" cy=\"-192\" rx=\"27\" ry=\"18\"/>\n",
       "<text text-anchor=\"middle\" x=\"385\" y=\"-188.3\" font-family=\"Times,serif\" font-size=\"14.00\">1</text>\n",
       "</g>\n",
       "<!-- Agggdggd&#45;&gt;Agggdggdg -->\n",
       "<g id=\"edge9\" class=\"edge\"><title>Agggdggd&#45;&gt;Agggdggdg</title>\n",
       "<path fill=\"none\" stroke=\"black\" d=\"M476.744,-278.878C447.967,-278.146 403.812,-271.95 382,-243 377.069,-236.456 376.175,-227.956 377.013,-219.827\"/>\n",
       "<polygon fill=\"black\" stroke=\"black\" points=\"380.472,-220.369 378.828,-209.902 373.586,-219.11 380.472,-220.369\"/>\n",
       "<text text-anchor=\"middle\" x=\"452\" y=\"-231.8\" font-family=\"Times,serif\" font-size=\"14.00\">&lt;=&#45;3.2848030660127847</text>\n",
       "</g>\n",
       "<!-- Agggdggdd -->\n",
       "<g id=\"node20\" class=\"node\"><title>Agggdggdd</title>\n",
       "<polygon fill=\"none\" stroke=\"black\" points=\"575,-210 521,-210 521,-174 575,-174 575,-210\"/>\n",
       "<text text-anchor=\"middle\" x=\"548\" y=\"-188.3\" font-family=\"Times,serif\" font-size=\"14.00\">&#45;1</text>\n",
       "</g>\n",
       "<!-- Agggdggd&#45;&gt;Agggdggdd -->\n",
       "<g id=\"edge10\" class=\"edge\"><title>Agggdggd&#45;&gt;Agggdggdd</title>\n",
       "<path fill=\"none\" stroke=\"black\" d=\"M514.58,-262.262C518.379,-256.337 522.569,-249.467 526,-243 529.938,-235.578 533.785,-227.305 537.133,-219.659\"/>\n",
       "<polygon fill=\"black\" stroke=\"black\" points=\"540.37,-220.991 541.075,-210.42 533.931,-218.244 540.37,-220.991\"/>\n",
       "<text text-anchor=\"middle\" x=\"600\" y=\"-231.8\" font-family=\"Times,serif\" font-size=\"14.00\">&gt;&#45;3.2848030660127847</text>\n",
       "</g>\n",
       "<!-- Agggdggdgg -->\n",
       "<g id=\"node18\" class=\"node\"><title>Agggdggdgg</title>\n",
       "<polygon fill=\"none\" stroke=\"black\" points=\"333,-123 279,-123 279,-87 333,-87 333,-123\"/>\n",
       "<text text-anchor=\"middle\" x=\"306\" y=\"-101.3\" font-family=\"Times,serif\" font-size=\"14.00\">&#45;1</text>\n",
       "</g>\n",
       "<!-- Agggdggdg&#45;&gt;Agggdggdgg -->\n",
       "<g id=\"edge7\" class=\"edge\"><title>Agggdggdg&#45;&gt;Agggdggdgg</title>\n",
       "<path fill=\"none\" stroke=\"black\" d=\"M358.912,-186.723C341.037,-182.299 318.548,-173.454 307,-156 302.603,-149.354 301.23,-141.047 301.278,-133.124\"/>\n",
       "<polygon fill=\"black\" stroke=\"black\" points=\"304.772,-133.334 302.026,-123.101 297.792,-132.813 304.772,-133.334\"/>\n",
       "<text text-anchor=\"middle\" x=\"375\" y=\"-144.8\" font-family=\"Times,serif\" font-size=\"14.00\">&lt;=1.8997845928352914</text>\n",
       "</g>\n",
       "<!-- Agggdggdgd -->\n",
       "<g id=\"node19\" class=\"node\"><title>Agggdggdgd</title>\n",
       "<polygon fill=\"none\" stroke=\"black\" points=\"492,-123 438,-123 438,-87 492,-87 492,-123\"/>\n",
       "<text text-anchor=\"middle\" x=\"465\" y=\"-101.3\" font-family=\"Times,serif\" font-size=\"14.00\">1</text>\n",
       "</g>\n",
       "<!-- Agggdggdg&#45;&gt;Agggdggdgd -->\n",
       "<g id=\"edge8\" class=\"edge\"><title>Agggdggdg&#45;&gt;Agggdggdgd</title>\n",
       "<path fill=\"none\" stroke=\"black\" d=\"M407.394,-181.558C419.238,-175.644 433.293,-167.041 443,-156 448.876,-149.316 453.401,-140.813 456.775,-132.724\"/>\n",
       "<polygon fill=\"black\" stroke=\"black\" points=\"460.108,-133.803 460.333,-123.211 453.551,-131.351 460.108,-133.803\"/>\n",
       "<text text-anchor=\"middle\" x=\"516.5\" y=\"-144.8\" font-family=\"Times,serif\" font-size=\"14.00\">&gt;1.8997845928352914</text>\n",
       "</g>\n",
       "<!-- Agggdgdg -->\n",
       "<g id=\"node22\" class=\"node\"><title>Agggdgdg</title>\n",
       "<polygon fill=\"none\" stroke=\"black\" points=\"681,-297 627,-297 627,-261 681,-261 681,-297\"/>\n",
       "<text text-anchor=\"middle\" x=\"654\" y=\"-275.3\" font-family=\"Times,serif\" font-size=\"14.00\">1</text>\n",
       "</g>\n",
       "<!-- Agggdgd&#45;&gt;Agggdgdg -->\n",
       "<g id=\"edge19\" class=\"edge\"><title>Agggdgd&#45;&gt;Agggdgdg</title>\n",
       "<path fill=\"none\" stroke=\"black\" d=\"M654,-347.799C654,-336.163 654,-320.548 654,-307.237\"/>\n",
       "<polygon fill=\"black\" stroke=\"black\" points=\"657.5,-307.175 654,-297.175 650.5,-307.175 657.5,-307.175\"/>\n",
       "<text text-anchor=\"middle\" x=\"731\" y=\"-318.8\" font-family=\"Times,serif\" font-size=\"14.00\">&lt;=&#45;0.041322567234471363</text>\n",
       "</g>\n",
       "<!-- Agggdgdd -->\n",
       "<g id=\"node23\" class=\"node\"><title>Agggdgdd</title>\n",
       "<ellipse fill=\"none\" stroke=\"black\" cx=\"831\" cy=\"-279\" rx=\"27\" ry=\"18\"/>\n",
       "<text text-anchor=\"middle\" x=\"831\" y=\"-275.3\" font-family=\"Times,serif\" font-size=\"14.00\">0</text>\n",
       "</g>\n",
       "<!-- Agggdgd&#45;&gt;Agggdgdd -->\n",
       "<g id=\"edge20\" class=\"edge\"><title>Agggdgd&#45;&gt;Agggdgdd</title>\n",
       "<path fill=\"none\" stroke=\"black\" d=\"M681.285,-365.914C714.998,-365.601 772.38,-360.174 809,-330 816.154,-324.105 821.053,-315.422 824.375,-306.939\"/>\n",
       "<polygon fill=\"black\" stroke=\"black\" points=\"827.762,-307.846 827.591,-297.253 821.118,-305.64 827.762,-307.846\"/>\n",
       "<text text-anchor=\"middle\" x=\"892.5\" y=\"-318.8\" font-family=\"Times,serif\" font-size=\"14.00\">&gt;&#45;0.041322567234471363</text>\n",
       "</g>\n",
       "<!-- Agggdgddg -->\n",
       "<g id=\"node24\" class=\"node\"><title>Agggdgddg</title>\n",
       "<polygon fill=\"none\" stroke=\"black\" points=\"775,-210 721,-210 721,-174 775,-174 775,-210\"/>\n",
       "<text text-anchor=\"middle\" x=\"748\" y=\"-188.3\" font-family=\"Times,serif\" font-size=\"14.00\">&#45;1</text>\n",
       "</g>\n",
       "<!-- Agggdgdd&#45;&gt;Agggdgddg -->\n",
       "<g id=\"edge17\" class=\"edge\"><title>Agggdgdd&#45;&gt;Agggdgddg</title>\n",
       "<path fill=\"none\" stroke=\"black\" d=\"M804.286,-274.983C784.261,-271.166 758.136,-262.528 745,-243 740.545,-236.377 739.67,-228.077 740.381,-220.152\"/>\n",
       "<polygon fill=\"black\" stroke=\"black\" points=\"743.86,-220.565 742.061,-210.125 736.957,-219.409 743.86,-220.565\"/>\n",
       "<text text-anchor=\"middle\" x=\"816\" y=\"-231.8\" font-family=\"Times,serif\" font-size=\"14.00\">&lt;=0.12640135029204053</text>\n",
       "</g>\n",
       "<!-- Agggdgddd -->\n",
       "<g id=\"node25\" class=\"node\"><title>Agggdgddd</title>\n",
       "<ellipse fill=\"none\" stroke=\"black\" cx=\"913\" cy=\"-192\" rx=\"27\" ry=\"18\"/>\n",
       "<text text-anchor=\"middle\" x=\"913\" y=\"-188.3\" font-family=\"Times,serif\" font-size=\"14.00\">0</text>\n",
       "</g>\n",
       "<!-- Agggdgdd&#45;&gt;Agggdgddd -->\n",
       "<g id=\"edge18\" class=\"edge\"><title>Agggdgdd&#45;&gt;Agggdgddd</title>\n",
       "<path fill=\"none\" stroke=\"black\" d=\"M853.583,-268.999C865.956,-263.13 880.802,-254.427 891,-243 897.016,-236.259 901.601,-227.611 904.987,-219.409\"/>\n",
       "<polygon fill=\"black\" stroke=\"black\" points=\"908.36,-220.377 908.538,-209.783 901.793,-217.954 908.36,-220.377\"/>\n",
       "<text text-anchor=\"middle\" x=\"967\" y=\"-231.8\" font-family=\"Times,serif\" font-size=\"14.00\">&gt;0.12640135029204053</text>\n",
       "</g>\n",
       "<!-- Agggdgdddg -->\n",
       "<g id=\"node26\" class=\"node\"><title>Agggdgdddg</title>\n",
       "<polygon fill=\"none\" stroke=\"black\" points=\"860,-123 806,-123 806,-87 860,-87 860,-123\"/>\n",
       "<text text-anchor=\"middle\" x=\"833\" y=\"-101.3\" font-family=\"Times,serif\" font-size=\"14.00\">1</text>\n",
       "</g>\n",
       "<!-- Agggdgddd&#45;&gt;Agggdgdddg -->\n",
       "<g id=\"edge15\" class=\"edge\"><title>Agggdgddd&#45;&gt;Agggdgdddg</title>\n",
       "<path fill=\"none\" stroke=\"black\" d=\"M886.791,-187.622C867.501,-183.613 842.538,-174.894 830,-156 825.587,-149.35 824.724,-141.041 825.432,-133.118\"/>\n",
       "<polygon fill=\"black\" stroke=\"black\" points=\"828.911,-133.536 827.103,-123.096 822.006,-132.385 828.911,-133.536\"/>\n",
       "<text text-anchor=\"middle\" x=\"898\" y=\"-144.8\" font-family=\"Times,serif\" font-size=\"14.00\">&lt;=0.5210146347040887</text>\n",
       "</g>\n",
       "<!-- Agggdgdddd -->\n",
       "<g id=\"node27\" class=\"node\"><title>Agggdgdddd</title>\n",
       "<ellipse fill=\"none\" stroke=\"black\" cx=\"992\" cy=\"-105\" rx=\"27\" ry=\"18\"/>\n",
       "<text text-anchor=\"middle\" x=\"992\" y=\"-101.3\" font-family=\"Times,serif\" font-size=\"14.00\">0</text>\n",
       "</g>\n",
       "<!-- Agggdgddd&#45;&gt;Agggdgdddd -->\n",
       "<g id=\"edge16\" class=\"edge\"><title>Agggdgddd&#45;&gt;Agggdgdddd</title>\n",
       "<path fill=\"none\" stroke=\"black\" d=\"M935.006,-181.478C946.644,-175.54 960.458,-166.939 970,-156 975.85,-149.293 980.368,-140.785 983.744,-132.697\"/>\n",
       "<polygon fill=\"black\" stroke=\"black\" points=\"987.075,-133.781 987.308,-123.189 980.52,-131.324 987.075,-133.781\"/>\n",
       "<text text-anchor=\"middle\" x=\"1042.5\" y=\"-144.8\" font-family=\"Times,serif\" font-size=\"14.00\">&gt;0.5210146347040887</text>\n",
       "</g>\n",
       "<!-- Agggdgddddg -->\n",
       "<g id=\"node28\" class=\"node\"><title>Agggdgddddg</title>\n",
       "<polygon fill=\"none\" stroke=\"black\" points=\"939,-36 885,-36 885,-0 939,-0 939,-36\"/>\n",
       "<text text-anchor=\"middle\" x=\"912\" y=\"-14.3\" font-family=\"Times,serif\" font-size=\"14.00\">&#45;1</text>\n",
       "</g>\n",
       "<!-- Agggdgdddd&#45;&gt;Agggdgddddg -->\n",
       "<g id=\"edge13\" class=\"edge\"><title>Agggdgdddd&#45;&gt;Agggdgddddg</title>\n",
       "<path fill=\"none\" stroke=\"black\" d=\"M965.791,-100.622C946.501,-96.6134 921.538,-87.8942 909,-69 904.587,-62.3496 903.724,-54.041 904.432,-46.1179\"/>\n",
       "<polygon fill=\"black\" stroke=\"black\" points=\"907.911,-46.5358 906.103,-36.0964 901.006,-45.3847 907.911,-46.5358\"/>\n",
       "<text text-anchor=\"middle\" x=\"977\" y=\"-57.8\" font-family=\"Times,serif\" font-size=\"14.00\">&lt;=1.5267739440451178</text>\n",
       "</g>\n",
       "<!-- Agggdgddddd -->\n",
       "<g id=\"node29\" class=\"node\"><title>Agggdgddddd</title>\n",
       "<polygon fill=\"none\" stroke=\"black\" points=\"1098,-36 1044,-36 1044,-0 1098,-0 1098,-36\"/>\n",
       "<text text-anchor=\"middle\" x=\"1071\" y=\"-14.3\" font-family=\"Times,serif\" font-size=\"14.00\">1</text>\n",
       "</g>\n",
       "<!-- Agggdgdddd&#45;&gt;Agggdgddddd -->\n",
       "<g id=\"edge14\" class=\"edge\"><title>Agggdgdddd&#45;&gt;Agggdgddddd</title>\n",
       "<path fill=\"none\" stroke=\"black\" d=\"M1014.01,-94.4779C1025.64,-88.5396 1039.46,-79.9386 1049,-69 1054.85,-62.2933 1059.37,-53.7847 1062.74,-45.6965\"/>\n",
       "<polygon fill=\"black\" stroke=\"black\" points=\"1066.07,-46.7809 1066.31,-36.1886 1059.52,-44.3238 1066.07,-46.7809\"/>\n",
       "<text text-anchor=\"middle\" x=\"1121.5\" y=\"-57.8\" font-family=\"Times,serif\" font-size=\"14.00\">&gt;1.5267739440451178</text>\n",
       "</g>\n",
       "</g>\n",
       "</svg>\n"
      ],
      "text/plain": [
       "<graphviz.dot.Digraph at 0x7f814a7ec6d8>"
      ]
     },
     "execution_count": 26,
     "metadata": {},
     "output_type": "execute_result"
    }
   ],
   "source": [
    "#test de l'affichage \n",
    "the_set = newSet(10,50)\n",
    "abin = construit_AD(the_set,0.0)\n",
    "gtree = gv.Digraph(format='png')\n",
    "abin.to_graph(gtree)\n"
   ]
  },
  {
   "cell_type": "code",
   "execution_count": 27,
   "metadata": {},
   "outputs": [
    {
     "data": {
      "image/png": "[encoded data removed]",
      "text/plain": [
       "<Figure size 432x288 with 1 Axes>"
      ]
     },
     "metadata": {},
     "output_type": "display_data"
    }
   ],
   "source": [
    "ut.plot2DSet(the_set)"
   ]
  },
  {
   "cell_type": "markdown",
   "metadata": {},
   "source": [
    "### Classification avec arbre de décision\n"
   ]
  },
  {
   "cell_type": "markdown",
   "metadata": {},
   "source": [
    "Pour classer un nouvel exemple avec un arbre de décision, il faut parcourir l'arbre, de la racine vers une feuille en respectant les tests rencontrés dans chaque arc. Une fois atteint une feuille, la classe de l'exemple est celle présente dans la feuille.\n",
    "\n",
    "La classe ArbreBinaire contient déjà une fonction <code>classifie</code> qui permet de classer un nouvel exemple et de renvoyer la classe +1 ou -1 selon le cas."
   ]
  },
  {
   "cell_type": "markdown",
   "metadata": {},
   "source": [
    "### Implémentation"
   ]
  },
  {
   "cell_type": "markdown",
   "metadata": {},
   "source": [
    "On définit le classifieur <code>ArbreDecision</code> comme suit.\n",
    "\n",
    "Si toutes les fonctions précédentes ont été écrites correctement, il est maintenant possible de construire un arbre de décision à partir de la base jouet.\n"
   ]
  },
  {
   "cell_type": "markdown",
   "metadata": {},
   "source": [
    "## Applications à des données réelles"
   ]
  },
  {
   "cell_type": "code",
   "execution_count": 28,
   "metadata": {},
   "outputs": [],
   "source": [
    "class ArbreDecision(cl.Classifier):\n",
    "    # Constructeur\n",
    "    def __init__(self,epsilon):\n",
    "        # valeur seuil d'entropie pour arrêter la construction\n",
    "        self.epsilon= epsilon\n",
    "        self.racine = None\n",
    "    \n",
    "    # Permet de calculer la prediction sur x => renvoie un score\n",
    "    def predict(self,x):\n",
    "        # classification de l'exemple x avec l'arbre de décision\n",
    "        # on rend 0 (classe -1) ou 1 (classe 1)\n",
    "        classe = self.racine.classifie(x)\n",
    "        if (classe == 1):\n",
    "            return(1)\n",
    "        else:\n",
    "            return(-1)\n",
    "    \n",
    "    # Permet d'entrainer le modele sur un ensemble de données\n",
    "    def train(self,set):\n",
    "        # construction de l'arbre de décision \n",
    "        self.set=set\n",
    "        self.racine = construit_AD(set,self.epsilon)\n",
    "\n",
    "    # Permet d'afficher l'arbre\n",
    "    def plot(self):\n",
    "        gtree = gv.Digraph(format='png')\n",
    "        return self.racine.to_graph(gtree)\n",
    "        "
   ]
  },
  {
   "cell_type": "code",
   "execution_count": 29,
   "metadata": {},
   "outputs": [
    {
     "data": {
      "image/png": "[encoded data removed]",
      "text/plain": [
       "<Figure size 432x288 with 1 Axes>"
      ]
     },
     "metadata": {},
     "output_type": "display_data"
    }
   ],
   "source": [
    "# un exemple d'utilisation:\n",
    "the_set = newSet(1,100)\n",
    "ad=ArbreDecision(0.0)          # initialiation d'un arbre binaire qui utilisera epsilon= 0.0\n",
    "ad.train(the_set)              # construction de l'arbre à partir de la base jouet\n",
    "ut.plot_frontiere(the_set,ad,20)  # tracé graphique de la frontière de décision\n",
    "ut.plot2DSet(the_set) "
   ]
  },
  {
   "cell_type": "code",
   "execution_count": 30,
   "metadata": {},
   "outputs": [
    {
     "data": {
      "image/svg+xml": [
       "<?xml version=\"1.0\" encoding=\"UTF-8\" standalone=\"no\"?>\n",
       "<!DOCTYPE svg PUBLIC \"-//W3C//DTD SVG 1.1//EN\"\n",
       " \"http://www.w3.org/Graphics/SVG/1.1/DTD/svg11.dtd\">\n",
       "<!-- Generated by graphviz version 2.38.0 (20140413.2041)\n",
       " -->\n",
       "<!-- Title: %3 Pages: 1 -->\n",
       "<svg width=\"921pt\" height=\"566pt\"\n",
       " viewBox=\"0.00 0.00 921.00 566.00\" xmlns=\"http://www.w3.org/2000/svg\" xmlns:xlink=\"http://www.w3.org/1999/xlink\">\n",
       "<g id=\"graph0\" class=\"graph\" transform=\"scale(1 1) rotate(0) translate(4 562)\">\n",
       "<title>%3</title>\n",
       "<polygon fill=\"white\" stroke=\"none\" points=\"-4,4 -4,-562 917,-562 917,4 -4,4\"/>\n",
       "<!-- A -->\n",
       "<g id=\"node1\" class=\"node\"><title>A</title>\n",
       "<ellipse fill=\"none\" stroke=\"black\" cx=\"317\" cy=\"-540\" rx=\"27\" ry=\"18\"/>\n",
       "<text text-anchor=\"middle\" x=\"317\" y=\"-536.3\" font-family=\"Times,serif\" font-size=\"14.00\">0</text>\n",
       "</g>\n",
       "<!-- Ag -->\n",
       "<g id=\"node2\" class=\"node\"><title>Ag</title>\n",
       "<ellipse fill=\"none\" stroke=\"black\" cx=\"232\" cy=\"-453\" rx=\"27\" ry=\"18\"/>\n",
       "<text text-anchor=\"middle\" x=\"232\" y=\"-449.3\" font-family=\"Times,serif\" font-size=\"14.00\">1</text>\n",
       "</g>\n",
       "<!-- A&#45;&gt;Ag -->\n",
       "<g id=\"edge19\" class=\"edge\"><title>A&#45;&gt;Ag</title>\n",
       "<path fill=\"none\" stroke=\"black\" d=\"M290.592,-535.644C271.133,-531.647 245.897,-522.933 233,-504 228.514,-497.414 227.116,-489.124 227.168,-481.198\"/>\n",
       "<polygon fill=\"black\" stroke=\"black\" points=\"230.663,-481.399 227.935,-471.162 223.683,-480.866 230.663,-481.399\"/>\n",
       "<text text-anchor=\"middle\" x=\"306.5\" y=\"-492.8\" font-family=\"Times,serif\" font-size=\"14.00\">&lt;=&#45;0.07628849659162368</text>\n",
       "</g>\n",
       "<!-- Ad -->\n",
       "<g id=\"node11\" class=\"node\"><title>Ad</title>\n",
       "<ellipse fill=\"none\" stroke=\"black\" cx=\"402\" cy=\"-453\" rx=\"27\" ry=\"18\"/>\n",
       "<text text-anchor=\"middle\" x=\"402\" y=\"-449.3\" font-family=\"Times,serif\" font-size=\"14.00\">1</text>\n",
       "</g>\n",
       "<!-- A&#45;&gt;Ad -->\n",
       "<g id=\"edge20\" class=\"edge\"><title>A&#45;&gt;Ad</title>\n",
       "<path fill=\"none\" stroke=\"black\" d=\"M340.103,-530.513C353.215,-524.723 369.127,-515.929 380,-504 386.086,-497.323 390.689,-488.691 394.07,-480.484\"/>\n",
       "<polygon fill=\"black\" stroke=\"black\" points=\"397.448,-481.438 397.605,-470.844 390.876,-479.028 397.448,-481.438\"/>\n",
       "<text text-anchor=\"middle\" x=\"459.5\" y=\"-492.8\" font-family=\"Times,serif\" font-size=\"14.00\">&gt;&#45;0.07628849659162368</text>\n",
       "</g>\n",
       "<!-- Agg -->\n",
       "<g id=\"node3\" class=\"node\"><title>Agg</title>\n",
       "<polygon fill=\"none\" stroke=\"black\" points=\"93,-384 39,-384 39,-348 93,-348 93,-384\"/>\n",
       "<text text-anchor=\"middle\" x=\"66\" y=\"-362.3\" font-family=\"Times,serif\" font-size=\"14.00\">&#45;1</text>\n",
       "</g>\n",
       "<!-- Ag&#45;&gt;Agg -->\n",
       "<g id=\"edge7\" class=\"edge\"><title>Ag&#45;&gt;Agg</title>\n",
       "<path fill=\"none\" stroke=\"black\" d=\"M205.399,-448.868C167.549,-443.905 100.76,-433.115 83,-417 76.435,-411.043 72.404,-402.453 69.9294,-394.07\"/>\n",
       "<polygon fill=\"black\" stroke=\"black\" points=\"73.2932,-393.082 67.6171,-384.136 66.4755,-394.669 73.2932,-393.082\"/>\n",
       "<text text-anchor=\"middle\" x=\"156.5\" y=\"-405.8\" font-family=\"Times,serif\" font-size=\"14.00\">&lt;=&#45;0.23963318025027464</text>\n",
       "</g>\n",
       "<!-- Agd -->\n",
       "<g id=\"node4\" class=\"node\"><title>Agd</title>\n",
       "<ellipse fill=\"none\" stroke=\"black\" cx=\"236\" cy=\"-366\" rx=\"27\" ry=\"18\"/>\n",
       "<text text-anchor=\"middle\" x=\"236\" y=\"-362.3\" font-family=\"Times,serif\" font-size=\"14.00\">0</text>\n",
       "</g>\n",
       "<!-- Ag&#45;&gt;Agd -->\n",
       "<g id=\"edge8\" class=\"edge\"><title>Ag&#45;&gt;Agd</title>\n",
       "<path fill=\"none\" stroke=\"black\" d=\"M232.809,-434.799C233.357,-423.163 234.092,-407.548 234.718,-394.237\"/>\n",
       "<polygon fill=\"black\" stroke=\"black\" points=\"238.218,-394.329 235.192,-384.175 231.225,-394 238.218,-394.329\"/>\n",
       "<text text-anchor=\"middle\" x=\"304.5\" y=\"-405.8\" font-family=\"Times,serif\" font-size=\"14.00\">&gt;&#45;0.23963318025027464</text>\n",
       "</g>\n",
       "<!-- Agdg -->\n",
       "<g id=\"node5\" class=\"node\"><title>Agdg</title>\n",
       "<polygon fill=\"none\" stroke=\"black\" points=\"104,-297 50,-297 50,-261 104,-261 104,-297\"/>\n",
       "<text text-anchor=\"middle\" x=\"77\" y=\"-275.3\" font-family=\"Times,serif\" font-size=\"14.00\">&#45;1</text>\n",
       "</g>\n",
       "<!-- Agd&#45;&gt;Agdg -->\n",
       "<g id=\"edge5\" class=\"edge\"><title>Agd&#45;&gt;Agdg</title>\n",
       "<path fill=\"none\" stroke=\"black\" d=\"M208.902,-365.672C177.376,-364.97 125.619,-359.008 94,-330 87.4677,-324.007 83.4447,-315.409 80.9674,-307.028\"/>\n",
       "<polygon fill=\"black\" stroke=\"black\" points=\"84.3317,-306.044 78.6474,-297.103 77.5155,-307.637 84.3317,-306.044\"/>\n",
       "<text text-anchor=\"middle\" x=\"164\" y=\"-318.8\" font-family=\"Times,serif\" font-size=\"14.00\">&lt;=&#45;1.1315436222359696</text>\n",
       "</g>\n",
       "<!-- Agdd -->\n",
       "<g id=\"node6\" class=\"node\"><title>Agdd</title>\n",
       "<ellipse fill=\"none\" stroke=\"black\" cx=\"240\" cy=\"-279\" rx=\"27\" ry=\"18\"/>\n",
       "<text text-anchor=\"middle\" x=\"240\" y=\"-275.3\" font-family=\"Times,serif\" font-size=\"14.00\">1</text>\n",
       "</g>\n",
       "<!-- Agd&#45;&gt;Agdd -->\n",
       "<g id=\"edge6\" class=\"edge\"><title>Agd&#45;&gt;Agdd</title>\n",
       "<path fill=\"none\" stroke=\"black\" d=\"M236.809,-347.799C237.357,-336.163 238.092,-320.548 238.718,-307.237\"/>\n",
       "<polygon fill=\"black\" stroke=\"black\" points=\"242.218,-307.329 239.192,-297.175 235.225,-307 242.218,-307.329\"/>\n",
       "<text text-anchor=\"middle\" x=\"305\" y=\"-318.8\" font-family=\"Times,serif\" font-size=\"14.00\">&gt;&#45;1.1315436222359696</text>\n",
       "</g>\n",
       "<!-- Agddg -->\n",
       "<g id=\"node7\" class=\"node\"><title>Agddg</title>\n",
       "<ellipse fill=\"none\" stroke=\"black\" cx=\"108\" cy=\"-192\" rx=\"27\" ry=\"18\"/>\n",
       "<text text-anchor=\"middle\" x=\"108\" y=\"-188.3\" font-family=\"Times,serif\" font-size=\"14.00\">0</text>\n",
       "</g>\n",
       "<!-- Agdd&#45;&gt;Agddg -->\n",
       "<g id=\"edge3\" class=\"edge\"><title>Agdd&#45;&gt;Agddg</title>\n",
       "<path fill=\"none\" stroke=\"black\" d=\"M213.413,-274.939C177.966,-270.249 118.151,-259.995 105,-243 99.9858,-236.52 99.0688,-228.037 99.9124,-219.903\"/>\n",
       "<polygon fill=\"black\" stroke=\"black\" points=\"103.374,-220.433 101.747,-209.964 96.4898,-219.163 103.374,-220.433\"/>\n",
       "<text text-anchor=\"middle\" x=\"179.5\" y=\"-231.8\" font-family=\"Times,serif\" font-size=\"14.00\">&lt;=0.061269705238854166</text>\n",
       "</g>\n",
       "<!-- Agddd -->\n",
       "<g id=\"node10\" class=\"node\"><title>Agddd</title>\n",
       "<polygon fill=\"none\" stroke=\"black\" points=\"307,-210 253,-210 253,-174 307,-174 307,-210\"/>\n",
       "<text text-anchor=\"middle\" x=\"280\" y=\"-188.3\" font-family=\"Times,serif\" font-size=\"14.00\">1</text>\n",
       "</g>\n",
       "<!-- Agdd&#45;&gt;Agddd -->\n",
       "<g id=\"edge4\" class=\"edge\"><title>Agdd&#45;&gt;Agddd</title>\n",
       "<path fill=\"none\" stroke=\"black\" d=\"M248.631,-261.721C251.671,-255.858 255.06,-249.168 258,-243 261.615,-235.415 265.363,-227.092 268.718,-219.45\"/>\n",
       "<polygon fill=\"black\" stroke=\"black\" points=\"271.944,-220.807 272.719,-210.241 265.524,-218.018 271.944,-220.807\"/>\n",
       "<text text-anchor=\"middle\" x=\"335.5\" y=\"-231.8\" font-family=\"Times,serif\" font-size=\"14.00\">&gt;0.061269705238854166</text>\n",
       "</g>\n",
       "<!-- Agddgg -->\n",
       "<g id=\"node8\" class=\"node\"><title>Agddgg</title>\n",
       "<polygon fill=\"none\" stroke=\"black\" points=\"54,-123 0,-123 0,-87 54,-87 54,-123\"/>\n",
       "<text text-anchor=\"middle\" x=\"27\" y=\"-101.3\" font-family=\"Times,serif\" font-size=\"14.00\">1</text>\n",
       "</g>\n",
       "<!-- Agddg&#45;&gt;Agddgg -->\n",
       "<g id=\"edge1\" class=\"edge\"><title>Agddg&#45;&gt;Agddgg</title>\n",
       "<path fill=\"none\" stroke=\"black\" d=\"M81.6529,-187.007C63.2683,-182.709 39.9624,-173.897 28,-156 23.5719,-149.375 22.1904,-141.073 22.2401,-133.149\"/>\n",
       "<polygon fill=\"black\" stroke=\"black\" points=\"25.7343,-133.356 22.994,-123.122 18.754,-132.831 25.7343,-133.356\"/>\n",
       "<text text-anchor=\"middle\" x=\"98\" y=\"-144.8\" font-family=\"Times,serif\" font-size=\"14.00\">&lt;=&#45;1.0099878197610546</text>\n",
       "</g>\n",
       "<!-- Agddgd -->\n",
       "<g id=\"node9\" class=\"node\"><title>Agddgd</title>\n",
       "<polygon fill=\"none\" stroke=\"black\" points=\"217,-123 163,-123 163,-87 217,-87 217,-123\"/>\n",
       "<text text-anchor=\"middle\" x=\"190\" y=\"-101.3\" font-family=\"Times,serif\" font-size=\"14.00\">&#45;1</text>\n",
       "</g>\n",
       "<!-- Agddg&#45;&gt;Agddgd -->\n",
       "<g id=\"edge2\" class=\"edge\"><title>Agddg&#45;&gt;Agddgd</title>\n",
       "<path fill=\"none\" stroke=\"black\" d=\"M130.583,-181.999C142.956,-176.13 157.802,-167.427 168,-156 173.926,-149.36 178.463,-140.869 181.834,-132.777\"/>\n",
       "<polygon fill=\"black\" stroke=\"black\" points=\"185.17,-133.847 185.382,-123.254 178.611,-131.403 185.17,-133.847\"/>\n",
       "<text text-anchor=\"middle\" x=\"244\" y=\"-144.8\" font-family=\"Times,serif\" font-size=\"14.00\">&gt;&#45;1.0099878197610546</text>\n",
       "</g>\n",
       "<!-- Adg -->\n",
       "<g id=\"node12\" class=\"node\"><title>Adg</title>\n",
       "<ellipse fill=\"none\" stroke=\"black\" cx=\"400\" cy=\"-366\" rx=\"27\" ry=\"18\"/>\n",
       "<text text-anchor=\"middle\" x=\"400\" y=\"-362.3\" font-family=\"Times,serif\" font-size=\"14.00\">0</text>\n",
       "</g>\n",
       "<!-- Ad&#45;&gt;Adg -->\n",
       "<g id=\"edge17\" class=\"edge\"><title>Ad&#45;&gt;Adg</title>\n",
       "<path fill=\"none\" stroke=\"black\" d=\"M401.482,-434.911C401.318,-429.214 401.142,-422.834 401,-417 400.822,-409.652 400.652,-401.696 400.504,-394.338\"/>\n",
       "<polygon fill=\"black\" stroke=\"black\" points=\"404,-394.055 400.306,-384.125 397.001,-394.191 404,-394.055\"/>\n",
       "<text text-anchor=\"middle\" x=\"471\" y=\"-405.8\" font-family=\"Times,serif\" font-size=\"14.00\">&lt;=&#45;0.5427295110585993</text>\n",
       "</g>\n",
       "<!-- Add -->\n",
       "<g id=\"node21\" class=\"node\"><title>Add</title>\n",
       "<polygon fill=\"none\" stroke=\"black\" points=\"590,-384 536,-384 536,-348 590,-348 590,-384\"/>\n",
       "<text text-anchor=\"middle\" x=\"563\" y=\"-362.3\" font-family=\"Times,serif\" font-size=\"14.00\">1</text>\n",
       "</g>\n",
       "<!-- Ad&#45;&gt;Add -->\n",
       "<g id=\"edge18\" class=\"edge\"><title>Ad&#45;&gt;Add</title>\n",
       "<path fill=\"none\" stroke=\"black\" d=\"M429.208,-451.975C459.775,-450.542 509.254,-443.82 541,-417 548.081,-411.017 552.963,-402.314 556.291,-393.839\"/>\n",
       "<polygon fill=\"black\" stroke=\"black\" points=\"559.672,-394.766 559.524,-384.173 553.033,-392.546 559.672,-394.766\"/>\n",
       "<text text-anchor=\"middle\" x=\"617\" y=\"-405.8\" font-family=\"Times,serif\" font-size=\"14.00\">&gt;&#45;0.5427295110585993</text>\n",
       "</g>\n",
       "<!-- Adgg -->\n",
       "<g id=\"node13\" class=\"node\"><title>Adgg</title>\n",
       "<polygon fill=\"none\" stroke=\"black\" points=\"425,-297 371,-297 371,-261 425,-261 425,-297\"/>\n",
       "<text text-anchor=\"middle\" x=\"398\" y=\"-275.3\" font-family=\"Times,serif\" font-size=\"14.00\">&#45;1</text>\n",
       "</g>\n",
       "<!-- Adg&#45;&gt;Adgg -->\n",
       "<g id=\"edge15\" class=\"edge\"><title>Adg&#45;&gt;Adgg</title>\n",
       "<path fill=\"none\" stroke=\"black\" d=\"M399.482,-347.911C399.318,-342.214 399.142,-335.834 399,-330 398.822,-322.652 398.652,-314.696 398.504,-307.338\"/>\n",
       "<polygon fill=\"black\" stroke=\"black\" points=\"402,-307.055 398.306,-297.125 395.001,-307.191 402,-307.055\"/>\n",
       "<text text-anchor=\"middle\" x=\"470\" y=\"-318.8\" font-family=\"Times,serif\" font-size=\"14.00\">&lt;=0.13726330590417718</text>\n",
       "</g>\n",
       "<!-- Adgd -->\n",
       "<g id=\"node14\" class=\"node\"><title>Adgd</title>\n",
       "<ellipse fill=\"none\" stroke=\"black\" cx=\"563\" cy=\"-279\" rx=\"27\" ry=\"18\"/>\n",
       "<text text-anchor=\"middle\" x=\"563\" y=\"-275.3\" font-family=\"Times,serif\" font-size=\"14.00\">1</text>\n",
       "</g>\n",
       "<!-- Adg&#45;&gt;Adgd -->\n",
       "<g id=\"edge16\" class=\"edge\"><title>Adg&#45;&gt;Adgd</title>\n",
       "<path fill=\"none\" stroke=\"black\" d=\"M427.038,-365.111C457.992,-363.836 508.586,-357.291 541,-330 548.092,-324.029 552.975,-315.328 556.303,-306.853\"/>\n",
       "<polygon fill=\"black\" stroke=\"black\" points=\"559.684,-307.777 559.534,-297.183 553.045,-305.559 559.684,-307.777\"/>\n",
       "<text text-anchor=\"middle\" x=\"618\" y=\"-318.8\" font-family=\"Times,serif\" font-size=\"14.00\">&gt;0.13726330590417718</text>\n",
       "</g>\n",
       "<!-- Adgdg -->\n",
       "<g id=\"node15\" class=\"node\"><title>Adgdg</title>\n",
       "<polygon fill=\"none\" stroke=\"black\" points=\"512,-210 458,-210 458,-174 512,-174 512,-210\"/>\n",
       "<text text-anchor=\"middle\" x=\"485\" y=\"-188.3\" font-family=\"Times,serif\" font-size=\"14.00\">&#45;1</text>\n",
       "</g>\n",
       "<!-- Adgd&#45;&gt;Adgdg -->\n",
       "<g id=\"edge13\" class=\"edge\"><title>Adgd&#45;&gt;Adgdg</title>\n",
       "<path fill=\"none\" stroke=\"black\" d=\"M536.86,-273.531C519.271,-269.03 497.302,-260.172 486,-243 481.619,-236.344 480.251,-228.033 480.298,-220.11\"/>\n",
       "<polygon fill=\"black\" stroke=\"black\" points=\"483.792,-220.322 481.042,-210.09 476.811,-219.804 483.792,-220.322\"/>\n",
       "<text text-anchor=\"middle\" x=\"552.5\" y=\"-231.8\" font-family=\"Times,serif\" font-size=\"14.00\">&lt;=&#45;1.494403059979792</text>\n",
       "</g>\n",
       "<!-- Adgdd -->\n",
       "<g id=\"node16\" class=\"node\"><title>Adgdd</title>\n",
       "<ellipse fill=\"none\" stroke=\"black\" cx=\"641\" cy=\"-192\" rx=\"27\" ry=\"18\"/>\n",
       "<text text-anchor=\"middle\" x=\"641\" y=\"-188.3\" font-family=\"Times,serif\" font-size=\"14.00\">0</text>\n",
       "</g>\n",
       "<!-- Adgd&#45;&gt;Adgdd -->\n",
       "<g id=\"edge14\" class=\"edge\"><title>Adgd&#45;&gt;Adgdd</title>\n",
       "<path fill=\"none\" stroke=\"black\" d=\"M584.892,-268.254C596.268,-262.298 609.697,-253.75 619,-243 624.824,-236.27 629.334,-227.755 632.712,-219.669\"/>\n",
       "<polygon fill=\"black\" stroke=\"black\" points=\"636.041,-220.758 636.281,-210.166 629.488,-218.296 636.041,-220.758\"/>\n",
       "<text text-anchor=\"middle\" x=\"690.5\" y=\"-231.8\" font-family=\"Times,serif\" font-size=\"14.00\">&gt;&#45;1.494403059979792</text>\n",
       "</g>\n",
       "<!-- Adgddg -->\n",
       "<g id=\"node17\" class=\"node\"><title>Adgddg</title>\n",
       "<polygon fill=\"none\" stroke=\"black\" points=\"588,-123 534,-123 534,-87 588,-87 588,-123\"/>\n",
       "<text text-anchor=\"middle\" x=\"561\" y=\"-101.3\" font-family=\"Times,serif\" font-size=\"14.00\">1</text>\n",
       "</g>\n",
       "<!-- Adgdd&#45;&gt;Adgddg -->\n",
       "<g id=\"edge11\" class=\"edge\"><title>Adgdd&#45;&gt;Adgddg</title>\n",
       "<path fill=\"none\" stroke=\"black\" d=\"M614.791,-187.622C595.501,-183.613 570.538,-174.894 558,-156 553.587,-149.35 552.724,-141.041 553.432,-133.118\"/>\n",
       "<polygon fill=\"black\" stroke=\"black\" points=\"556.911,-133.536 555.103,-123.096 550.006,-132.385 556.911,-133.536\"/>\n",
       "<text text-anchor=\"middle\" x=\"626\" y=\"-144.8\" font-family=\"Times,serif\" font-size=\"14.00\">&lt;=1.7976270113484663</text>\n",
       "</g>\n",
       "<!-- Adgddd -->\n",
       "<g id=\"node18\" class=\"node\"><title>Adgddd</title>\n",
       "<ellipse fill=\"none\" stroke=\"black\" cx=\"720\" cy=\"-105\" rx=\"27\" ry=\"18\"/>\n",
       "<text text-anchor=\"middle\" x=\"720\" y=\"-101.3\" font-family=\"Times,serif\" font-size=\"14.00\">0</text>\n",
       "</g>\n",
       "<!-- Adgdd&#45;&gt;Adgddd -->\n",
       "<g id=\"edge12\" class=\"edge\"><title>Adgdd&#45;&gt;Adgddd</title>\n",
       "<path fill=\"none\" stroke=\"black\" d=\"M663.006,-181.478C674.644,-175.54 688.458,-166.939 698,-156 703.85,-149.293 708.368,-140.785 711.744,-132.697\"/>\n",
       "<polygon fill=\"black\" stroke=\"black\" points=\"715.075,-133.781 715.308,-123.189 708.52,-131.324 715.075,-133.781\"/>\n",
       "<text text-anchor=\"middle\" x=\"770.5\" y=\"-144.8\" font-family=\"Times,serif\" font-size=\"14.00\">&gt;1.7976270113484663</text>\n",
       "</g>\n",
       "<!-- Adgdddg -->\n",
       "<g id=\"node19\" class=\"node\"><title>Adgdddg</title>\n",
       "<polygon fill=\"none\" stroke=\"black\" points=\"667,-36 613,-36 613,-0 667,-0 667,-36\"/>\n",
       "<text text-anchor=\"middle\" x=\"640\" y=\"-14.3\" font-family=\"Times,serif\" font-size=\"14.00\">&#45;1</text>\n",
       "</g>\n",
       "<!-- Adgddd&#45;&gt;Adgdddg -->\n",
       "<g id=\"edge9\" class=\"edge\"><title>Adgddd&#45;&gt;Adgdddg</title>\n",
       "<path fill=\"none\" stroke=\"black\" d=\"M693.791,-100.622C674.501,-96.6134 649.538,-87.8942 637,-69 632.587,-62.3496 631.724,-54.041 632.432,-46.1179\"/>\n",
       "<polygon fill=\"black\" stroke=\"black\" points=\"635.911,-46.5358 634.103,-36.0964 629.006,-45.3847 635.911,-46.5358\"/>\n",
       "<text text-anchor=\"middle\" x=\"705\" y=\"-57.8\" font-family=\"Times,serif\" font-size=\"14.00\">&lt;=2.1379609064738307</text>\n",
       "</g>\n",
       "<!-- Adgdddd -->\n",
       "<g id=\"node20\" class=\"node\"><title>Adgdddd</title>\n",
       "<polygon fill=\"none\" stroke=\"black\" points=\"826,-36 772,-36 772,-0 826,-0 826,-36\"/>\n",
       "<text text-anchor=\"middle\" x=\"799\" y=\"-14.3\" font-family=\"Times,serif\" font-size=\"14.00\">1</text>\n",
       "</g>\n",
       "<!-- Adgddd&#45;&gt;Adgdddd -->\n",
       "<g id=\"edge10\" class=\"edge\"><title>Adgddd&#45;&gt;Adgdddd</title>\n",
       "<path fill=\"none\" stroke=\"black\" d=\"M742.006,-94.4779C753.644,-88.5396 767.458,-79.9386 777,-69 782.85,-62.2933 787.368,-53.7847 790.744,-45.6965\"/>\n",
       "<polygon fill=\"black\" stroke=\"black\" points=\"794.075,-46.7809 794.308,-36.1886 787.52,-44.3238 794.075,-46.7809\"/>\n",
       "<text text-anchor=\"middle\" x=\"849.5\" y=\"-57.8\" font-family=\"Times,serif\" font-size=\"14.00\">&gt;2.1379609064738307</text>\n",
       "</g>\n",
       "</g>\n",
       "</svg>\n"
      ],
      "text/plain": [
       "<graphviz.dot.Digraph at 0x7f814a777320>"
      ]
     },
     "execution_count": 30,
     "metadata": {},
     "output_type": "execute_result"
    }
   ],
   "source": [
    "ad.plot()"
   ]
  },
  {
   "cell_type": "markdown",
   "metadata": {},
   "source": [
    "<font color=\"RED\" size=\"+1\">**[Q]**</font> Appliquer l'algorithme des arbres de décision à des données réelles (par exemple, celles utilisées avec les k-nn) et comparer les résultats obtenus par les 2 algorithmes.\n",
    "\n",
    "Un autre exemple d'utilisation sur une base plus grande:"
   ]
  },
  {
   "cell_type": "markdown",
   "metadata": {},
   "source": [
    "<font color=\"BLUE\" size=\"+1\">***** [ATTENTION] *****</font> \n",
    "## Calcul du knn  "
   ]
  },
  {
   "cell_type": "code",
   "execution_count": 36,
   "metadata": {},
   "outputs": [
    {
     "data": {
      "image/png": "[encoded data removed]",
      "text/plain": [
       "<Figure size 432x288 with 1 Axes>"
      ]
     },
     "metadata": {},
     "output_type": "display_data"
    },
    {
     "data": {
      "image/png": "[encoded data removed]",
      "text/plain": [
       "<Figure size 432x288 with 1 Axes>"
      ]
     },
     "metadata": {},
     "output_type": "display_data"
    },
    {
     "data": {
      "image/png": "[encoded data removed]",
      "text/plain": [
       "<Figure size 432x288 with 1 Axes>"
      ]
     },
     "metadata": {},
     "output_type": "display_data"
    }
   ],
   "source": [
    "data = pd.read_csv('velib-disponibilite-en-temps-reel.csv', delimiter= ';')\n",
    "\n",
    "res = data['geo'] # On récupère les coordonnées géographiques des vélibs (str)\n",
    "classes = data['Achat possible en station (CB)']\n",
    "dataSet = ls.LabeledSet(2) # on crée un dataSet\n",
    "\n",
    "# On essaye d'espacer les données\n",
    "COEF_X = 48\n",
    "COEF_Y =  2\n",
    "MILIEU_X = 48.850 - COEF_X\n",
    "MILIEU_Y = 2.325 - COEF_Y\n",
    "\n",
    "epsilon = 0.7\n",
    "\n",
    "for i in range(0,len(res)-1):\n",
    "    if (np.random.uniform(0,1)>epsilon):\n",
    "        tmp_list = res[i].split(\",\")  # on split car les coordonnées sont séparées par un point virgule\n",
    "        x = float(tmp_list[0]) - COEF_X\n",
    "        y = float(tmp_list[1])- COEF_Y\n",
    "\n",
    "        # Effectue une séparation des données à la manière d'un XOR\n",
    "        if (x < MILIEU_X and y > MILIEU_Y) or (x > MILIEU_X and y< MILIEU_Y): \n",
    "            classe = -1\n",
    "        else :\n",
    "            classe = 1\n",
    "        dataSet.addExample([x, y], classe) # On remplit notre dataSet\n",
    "    \n",
    "plt.title(\"Représentation des points\")\n",
    "ut.plot2DSet(dataSet)\n",
    "plt.show()\n",
    "\n",
    "######### ARBRE ############\n",
    "adautre=ArbreDecision(0.0)          \n",
    "adautre.train(dataSet)            \n",
    "ut.plot_frontiere(dataSet,adautre,20)\n",
    "ut.plot2DSet(dataSet) \n",
    "adautre.plot()\n",
    "plt.show()\n",
    "\n",
    "######### VERSION KNNL #####classifie\n",
    "NB_VOISINS = 3\n",
    "knn = cl.ClassifierKNN(2,NB_VOISINS)\n",
    "data_app , data_test = ut.split(dataSet,0.85)\n",
    "knn.train(data_app)\n",
    "evol_accuracy_train = []\n",
    "\n",
    "ite= []\n",
    "for i in range (2):\n",
    "    ite.append(i)\n",
    "    evol_accuracy_train.append(knn.accuracy(data_test))\n",
    "\"\"\"\n",
    "plt.title(\"Accuracy pour la version KNN\")\n",
    "plt.plot(ite, evol_accuracy_train)\n",
    "plt.show()\n",
    "\"\"\"\n",
    "ut.plot_frontiere(data_test,knn,500)\n",
    "ut.plot2DSet(data_test)\n",
    "plt.show()\n"
   ]
  },
  {
   "cell_type": "markdown",
   "metadata": {},
   "source": [
    "## REMARQUE\n",
    "\n",
    "On a pu voir que l'implementation d'arbre de decision est tres efficace (et meme beaucoup mieux que les autres classifieurs) dans le sens ou les données des dataset peuvent etre tres bien séparé en plusieurs ensemble et sous ensemble. Le fait de ne traiter que des groupes de données, amene a avoir un algorithme beaucoup plus efficace en terme de complexité comparé a un classifieur knn qui lui doit calculer l'ensemble des voisins de chacune des données, tout en etant aussi efficace voir beaucoup plus dans la classification de ses données. "
   ]
  },
  {
   "cell_type": "code",
   "execution_count": null,
   "metadata": {},
   "outputs": [],
   "source": []
  },
  {
   "cell_type": "code",
   "execution_count": null,
   "metadata": {
    "scrolled": true
   },
   "outputs": [],
   "source": [
    "autre_set=ut.createGaussianDataset(np.array([1,1]),np.array([[1,0],[0,1]]),np.array([-1,-1]),np.array([[1,0],[0,1]]),100)\n",
    "print(\"Taille de la base générée :\", autre_set.size(), \"exemples\")\n",
    "adautre=ArbreDecision(0.0)          \n",
    "adautre.train(autre_set)            \n",
    "ut.plot_frontiere(autre_set,adautre,20)\n",
    "ut.plot2DSet(autre_set) "
   ]
  },
  {
   "cell_type": "code",
   "execution_count": null,
   "metadata": {},
   "outputs": [],
   "source": [
    "adautre.plot()"
   ]
  },
  {
   "cell_type": "markdown",
   "metadata": {},
   "source": [
    "### Améliorations (facultatif)"
   ]
  },
  {
   "cell_type": "markdown",
   "metadata": {},
   "source": [
    "Adapter votre algorithme afin de pouvoir construire des arbres de décision avec des attributs catégoriels. Dans un premier temps, vous considèrerez des attributs catégoriels à 2 valeurs. Ensuite, pour considérer des attributs à plus de 2 valeurs, vous devrez écrire une classe <code>ArbreGeneral</code> pour remplacer la classe <code>ArbreBinaire</code>."
   ]
  },
  {
   "cell_type": "code",
   "execution_count": null,
   "metadata": {},
   "outputs": [],
   "source": [
    "import graphviz as gv\n",
    "# Eventuellement, il peut être nécessaire d'installer graphviz sur votre compte:\n",
    "# pip install --user --install-option=\"--prefix=\" -U graphviz\n",
    "\n",
    "\n",
    "class ArbreGeneral:\n",
    "    def __init__(self):\n",
    "        self.attribut = None   # numéro de l'attribut\n",
    "        self.seuil = None\n",
    "        self.inferieur = None # ArbreBinaire Gauche (valeurs <= au seuil)\n",
    "        self.superieur = None # ArbreBinaire Droit (valeurs > au seuil)\n",
    "        self.classe = None # Classe si c'est une feuille: -1 ou +1\n",
    "        \n",
    "    def est_feuille(self):\n",
    "        \"\"\" rend True si l'arbre est une feuille \"\"\"\n",
    "        return self.seuil == None\n",
    "    \n",
    "    def ajoute_fils(self,ABinf,ABsup,att,seuil):\n",
    "        \"\"\" ABinf, ABsup: 2 arbres binaires\n",
    "            att: numéro d'attribut\n",
    "            seuil: valeur de seuil\n",
    "        \"\"\"\n",
    "        self.attribut = att\n",
    "        self.seuil = seuil\n",
    "        self.inferieur = ABinf\n",
    "        self.superieur = ABsup\n",
    "    \n",
    "    def ajoute_feuille(self,classe):\n",
    "        \"\"\" classe: -1 ou + 1\n",
    "        \"\"\"\n",
    "        self.classe = classe\n",
    "        \n",
    "    def classifie(self,exemple):\n",
    "        \"\"\" exemple : numpy.array\n",
    "            rend la classe de l'exemple: +1 ou -1\n",
    "        \"\"\"\n",
    "        if self.est_feuille():\n",
    "            return self.classe\n",
    "        if exemple[self.attribut] <= self.seuil:\n",
    "            return self.inferieur.classifie(exemple)\n",
    "        return self.superieur.classifie(exemple)\n",
    "    \n",
    "    def to_graph(self, g, prefixe='A'):\n",
    "        \"\"\" construit une représentation de l'arbre pour pouvoir\n",
    "            l'afficher\n",
    "        \"\"\"\n",
    "        if self.est_feuille():\n",
    "            g.node(prefixe,str(self.classe),shape='box')\n",
    "        else:\n",
    "            g.node(prefixe, str(self.attribut))\n",
    "            self.inferieur.to_graph(g,prefixe+\"g\")\n",
    "            self.superieur.to_graph(g,prefixe+\"d\")\n",
    "            g.edge(prefixe,prefixe+\"g\", '<='+ str(self.seuil))\n",
    "            g.edge(prefixe,prefixe+\"d\", '>'+ str(self.seuil))\n",
    "        \n",
    "        return g"
   ]
  },
  {
   "cell_type": "markdown",
   "metadata": {},
   "source": [
    "## Etape 3: Expérimentation"
   ]
  },
  {
   "cell_type": "markdown",
   "metadata": {
    "collapsed": true
   },
   "source": [
    "Comparez le résultat obtenu avec ceux obtenus avec les 2 classifiers implémentés lors des TD-TME précédents. Ensuite, utilisez votre implémentation sur d'autres bases de données que vous avez déjà trouvées ou que vous pourrez trouver sur le web."
   ]
  },
  {
   "cell_type": "code",
   "execution_count": null,
   "metadata": {},
   "outputs": [],
   "source": []
  }
 ],
 "metadata": {
  "kernelspec": {
   "display_name": "Python 3",
   "language": "python",
   "name": "python3"
  },
  "language_info": {
   "codemirror_mode": {
    "name": "ipython",
    "version": 3
   },
   "file_extension": ".py",
   "mimetype": "text/x-python",
   "name": "python",
   "nbconvert_exporter": "python",
   "pygments_lexer": "ipython3",
   "version": "3.7.2"
  }
 },
 "nbformat": 4,
 "nbformat_minor": 1
}
