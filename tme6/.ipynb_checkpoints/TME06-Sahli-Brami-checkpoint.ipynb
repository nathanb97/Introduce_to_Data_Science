{
 "cells": [
  {
   "cell_type": "markdown",
   "metadata": {},
   "source": [
    "IA & Data science (3i026) -- 2018-2019\n",
    "--------\n",
    "*&copy; Equipe pédagogique: Manon Ansart, Vincent Guigue, Marie-Jeanne Lesot, Christophe Marsala, Olivier Schwander.*"
   ]
  },
  {
   "cell_type": "markdown",
   "metadata": {},
   "source": [
    "# TD-TME06: méthodes d'ensembles\n",
    "\n",
    "L'objectif de ce TP est d'implémenter des méthodes d'ensembles et de les évaluer. Dans un premier temps, on se focalisera sur l'algorithme de bagging appliqué aux arbres de décision, puis on passera au random forests.\n",
    "\n",
    "Comme précédemment, on ne considére que le cas où les attributs sont tous numériques."
   ]
  },
  {
   "cell_type": "markdown",
   "metadata": {},
   "source": [
    "<font size=\"+1\">**[Q]**</font> **Indiquer dans la boîte ci-dessous vos noms et prénoms :**"
   ]
  },
  {
   "cell_type": "markdown",
   "metadata": {},
   "source": [
    "*Double-cliquer ici et insérer les noms et prénoms de votre binôme*"
   ]
  },
  {
   "cell_type": "code",
   "execution_count": 3,
   "metadata": {},
   "outputs": [],
   "source": [
    "#Sahli Oussama\n",
    "#Brami Nathan"
   ]
  },
  {
   "cell_type": "markdown",
   "metadata": {},
   "source": [
    "<font color=\"RED\" size=\"+1\">**[Q]**</font> **Renommer ce fichier ipython**\n",
    "\n",
    "Tout en haut de cette page, cliquer sur <tt>tme-06</tt> et rajouter à la suite de <tt>tme-06</tt> les noms des membres du binômes séparés par un tiret."
   ]
  },
  {
   "cell_type": "markdown",
   "metadata": {},
   "source": [
    "Charger la librairie <code>iads</code> pour avoir accès aux fonctions déjà écrites."
   ]
  },
  {
   "cell_type": "code",
   "execution_count": 95,
   "metadata": {},
   "outputs": [],
   "source": [
    "import numpy as np\n",
    "import pandas as pd\n",
    "import matplotlib.pyplot as plt\n",
    "%matplotlib inline  \n",
    "\n",
    "# La ligne suivante permet de préciser le chemin d'accès à la librairie iads\n",
    "import sys\n",
    "sys.path.append('../')\n",
    "\n",
    "# Importation de la librairie iads\n",
    "import iads as iads\n",
    "\n",
    "# importation de LabeledSet\n",
    "from iads import LabeledSet as ls\n",
    "\n",
    "# importation de Classifiers\n",
    "from iads import Classifiers as cl\n",
    "\n",
    "# importation de utils\n",
    "from iads import utils as ut"
   ]
  },
  {
   "cell_type": "markdown",
   "metadata": {},
   "source": [
    "Pour tester les fonctions à implémenter dans cette séance, on utilise la base d'exemples suivante :"
   ]
  },
  {
   "cell_type": "code",
   "execution_count": 96,
   "metadata": {},
   "outputs": [],
   "source": [
    "# Base d'exemples pour tester les fonctions:\n",
    "set_exemples = ls.LabeledSet(2)\n",
    "set_exemples.addExample([2.10492662303,1.10648470933],1)\n",
    "set_exemples.addExample([0.297525816499,-0.662504551625],1)\n",
    "set_exemples.addExample([1.6694258992,0.313687975072],1)\n",
    "set_exemples.addExample([1.20583098523,3.50817309097],1)\n",
    "set_exemples.addExample([1.13739407316,1.96688273992],1)\n",
    "set_exemples.addExample([2.32319808376,0.536577798714],1)\n",
    "set_exemples.addExample([-0.953004346997,0.596926923927],1)\n",
    "set_exemples.addExample([1.00574784804,-0.0959606771199],1)\n",
    "set_exemples.addExample([0.747509778063,0.429544908608],1)\n",
    "set_exemples.addExample([1.39048336283,0.442578873406],1)\n",
    "set_exemples.addExample([0.0470799329584,-1.97596265858],-1)\n",
    "set_exemples.addExample([-0.673998013071,0.0693931940855],-1)\n",
    "set_exemples.addExample([-0.84587451642,0.761766191612],-1)\n",
    "set_exemples.addExample([-1.39596839858,-0.943807082082],-1)\n",
    "set_exemples.addExample([0.319301767707,0.566169775123],-1)\n",
    "set_exemples.addExample([1.43459714786,0.935712030926],-1)\n",
    "set_exemples.addExample([-1.69323475458,-1.89563184035],-1)\n",
    "set_exemples.addExample([0.81167008598,-1.17927660655],-1)\n",
    "set_exemples.addExample([-1.03264043689,-1.08118488864],-1)\n",
    "set_exemples.addExample([0.609517439986,-2.88593327349],-1)"
   ]
  },
  {
   "cell_type": "markdown",
   "metadata": {},
   "source": [
    "## Etape 1: retours sur la séance 5\n"
   ]
  },
  {
   "cell_type": "markdown",
   "metadata": {},
   "source": [
    "<font color=\"RED\" size=\"+1\">**[Q]**</font> Modifier la fonction <code>shannon()</code> afin qu'elle puisse s'appliquer sur une liste vide ou sur une liste à un seul élément: dans ce cas-là, la fonction rend $0.0$."
   ]
  },
  {
   "cell_type": "code",
   "execution_count": 97,
   "metadata": {},
   "outputs": [],
   "source": [
    "import math\n",
    "\n",
    "def shannon(P):     #attention log(0) ne marche pas\n",
    "    \n",
    "    if((len(P)==0)or(len(P)==1)):\n",
    "        return 0.0\n",
    "    \n",
    "    \n",
    "    k=len(P)\n",
    "    s=0\n",
    "    for i in range(0,k):\n",
    "        if((P[i]!=0) and (k!=0)):\n",
    "            if((math.log(P[i])!=0) and (math.log(k)!=0)):\n",
    "                s=s+(P[i]*(math.log(P[i])/math.log(k)))\n",
    "        \n",
    "    return -s   "
   ]
  },
  {
   "cell_type": "code",
   "execution_count": 98,
   "metadata": {},
   "outputs": [
    {
     "name": "stdout",
     "output_type": "stream",
     "text": [
      "P=[]  :  0.0\n",
      "P=[1] :  0.0\n",
      "P=[1,0] :  0\n",
      "P=[0.25, 0.25, 0.25, 0.25] :  1.0\n",
      "P=[0.7, 0.1, 0.2, 0.0] :  0.5783898247235197\n",
      "P=[1.0/3, 2.0/3] :  0.9182958340544896\n"
     ]
    }
   ],
   "source": [
    "# Exemples d'utilisation:\n",
    "print(\"P=[]  : \", shannon([]))\n",
    "print(\"P=[1] : \", shannon([1]))\n",
    "# Exemples d'utilisation:\n",
    "print(\"P=[1,0] : \", shannon([1, 0]))\n",
    "print(\"P=[0.25, 0.25, 0.25, 0.25] : \", shannon([0.25, 0.25, 0.25, 0.25]))\n",
    "print(\"P=[0.7, 0.1, 0.2, 0.0] : \", shannon([0.7, 0.1, 0.2, 0.0]))\n",
    "print(\"P=[1.0/3, 2.0/3] : \", shannon([1.0/3, 2.0/3]))"
   ]
  },
  {
   "cell_type": "markdown",
   "metadata": {},
   "source": [
    "Recopier les fonctions suivantes à partir de votre notebook du TD-TME05.\n",
    "- classe_majoritaire(LSet)\n",
    "- entropie(LSet)\n",
    "- discretise(LSet, col)\n",
    "- divise(LSet,att,seuil)\n",
    "- construit_AD(LSet,epsilon)\n",
    "\n",
    "ainsi que les classes:\n",
    "- class ArbreBinaire\n",
    "- class ArbreDecision\n",
    "\n",
    "Remplissez la boite suivante en recopiant toutes ces fonctions et classes du TD_TME05."
   ]
  },
  {
   "cell_type": "code",
   "execution_count": 99,
   "metadata": {},
   "outputs": [],
   "source": [
    "def entropie(labeledset):    #the set -->[0.5,0.5] \n",
    "    s1=0 #nb element de la classe1\n",
    "    s2=0 #nb element de la classe-1\n",
    "    total=labeledset.size()\n",
    "    for i in range(0,labeledset.size()):\n",
    "        if(labeledset.getY(i)==1):\n",
    "            s1+=1\n",
    "        else:\n",
    "            s2+=1\n",
    "    p1=0\n",
    "    p2=0\n",
    "    \n",
    "    if((s1!=0) and (total!=0)):\n",
    "        p1=s1/total\n",
    "    if((s2!=0) and (total!=0)):\n",
    "        p2=s2/total\n",
    "\n",
    "    tab=[p1,p2]\n",
    "    return shannon(tab)\n",
    "    "
   ]
  },
  {
   "cell_type": "code",
   "execution_count": 100,
   "metadata": {},
   "outputs": [],
   "source": [
    "def classe_majoritaire(labeledset):\n",
    "    score1=0\n",
    "    score2=0\n",
    "    for i in range(0,labeledset.size()):\n",
    "        if(labeledset.getY(i)==1):\n",
    "            score1+=1\n",
    "        else:\n",
    "            score2+=1\n",
    "            \n",
    "    if(score1>score2):\n",
    "        return 1\n",
    "    elif(score2>score1):\n",
    "        return -1\n",
    "    \n",
    "    return 1\n",
    "    \n",
    "\n"
   ]
  },
  {
   "cell_type": "code",
   "execution_count": 101,
   "metadata": {},
   "outputs": [],
   "source": [
    "def discretise(LSet, col):\n",
    "    \"\"\" LabelledSet * int -> tuple[float, float]\n",
    "        Hypothèse: LSet.size() >= 2\n",
    "        col est le numéro de colonne sur X à discrétiser\n",
    "        rend la valeur de coupure qui minimise l'entropie ainsi que son entropie.\n",
    "    \"\"\"\n",
    "    # initialisation:\n",
    "    min_entropie = 1.1  # on met à une valeur max car on veut minimiser\n",
    "    min_seuil = 0.0     \n",
    "    # trie des valeurs:\n",
    "    ind= np.argsort(LSet.x,axis=0)\n",
    "    \n",
    "    # calcul des distributions des classes pour E1 et E2:\n",
    "    inf_plus  = 0               # nombre de +1 dans E1\n",
    "    inf_moins = 0               # nombre de -1 dans E1\n",
    "    sup_plus  = 0               # nombre de +1 dans E2\n",
    "    sup_moins = 0               # nombre de -1 dans E2       \n",
    "    # remarque: au départ on considère que E1 est vide et donc E2 correspond à E. \n",
    "    # Ainsi inf_plus et inf_moins valent 0. Il reste à calculer sup_plus et sup_moins \n",
    "    # dans E.\n",
    "    for j in range(0,LSet.size()):\n",
    "        if (LSet.getY(j) == -1):\n",
    "            sup_moins += 1\n",
    "        else:\n",
    "            sup_plus += 1\n",
    "    nb_total = (sup_plus + sup_moins) # nombre d'exemples total dans E\n",
    "    \n",
    "    # parcours pour trouver le meilleur seuil:\n",
    "    for i in range(len(LSet.x)-1):\n",
    "        v_ind_i = ind[i]   # vecteur d'indices\n",
    "        courant = LSet.getX(v_ind_i[col])[col]\n",
    "        lookahead = LSet.getX(ind[i+1][col])[col]\n",
    "        val_seuil = (courant + lookahead) / 2.0;\n",
    "        # M-A-J de la distrib. des classes:\n",
    "        # pour réduire les traitements: on retire un exemple de E2 et on le place\n",
    "        # dans E1, c'est ainsi que l'on déplace donc le seuil de coupure.\n",
    "        if LSet.getY(ind[i][col])[0] == -1:\n",
    "            inf_moins += 1\n",
    "            sup_moins -= 1\n",
    "        else:\n",
    "            inf_plus += 1\n",
    "            sup_plus -= 1\n",
    "        # calcul de la distribution des classes de chaque côté du seuil:\n",
    "        nb_inf = (inf_moins + inf_plus)*1.0     # rem: on en fait un float pour éviter\n",
    "        nb_sup = (sup_moins + sup_plus)*1.0     # que ce soit une division entière.\n",
    "        # calcul de l'entropie de la coupure\n",
    "        val_entropie_inf = shannon([inf_moins / nb_inf, inf_plus  / nb_inf])\n",
    "        val_entropie_sup = shannon([sup_moins / nb_sup, sup_plus  / nb_sup])\n",
    "        val_entropie = (nb_inf / nb_total) * val_entropie_inf \\\n",
    "                       + (nb_sup / nb_total) * val_entropie_sup\n",
    "        # si cette coupure minimise l'entropie, on mémorise ce seuil et son entropie:\n",
    "        if (min_entropie > val_entropie):\n",
    "            min_entropie = val_entropie\n",
    "            min_seuil = val_seuil\n",
    "    return (min_seuil, min_entropie)"
   ]
  },
  {
   "cell_type": "code",
   "execution_count": 102,
   "metadata": {},
   "outputs": [],
   "source": [
    "def divise(LSet,att,seuil):\n",
    "    \"\"\" LSet: LabeledSet\n",
    "        att : numéro d'attribut\n",
    "        seuil : valeur de seuil\n",
    "        rend le tuple contenant les 2 sous-LabeledSet obtenus par la\n",
    "        division de LSet selon le seuil sur l'attribut att\n",
    "    \"\"\"\n",
    "    E1=ls.LabeledSet(LSet.input_dimension)\n",
    "    E2=ls.LabeledSet(LSet.input_dimension)\n",
    "    \n",
    "    for i in range(0,LSet.size()):\n",
    "        x=LSet.getX(i)\n",
    "        y=LSet.getY(i)\n",
    "        \n",
    "        if(x[att] <= seuil):\n",
    "            E1.addExample(x,y)\n",
    "        else:\n",
    "            E2.addExample(x,y)\n",
    "            \n",
    "    return (E1,E2)\n",
    "    \n",
    "    \n",
    "    "
   ]
  },
  {
   "cell_type": "code",
   "execution_count": 103,
   "metadata": {},
   "outputs": [],
   "source": [
    "def construit_AD(LSet,epsilon):\n",
    "    \"\"\" LSet : LabeledSet\n",
    "        epsilon : seuil d'entropie pour le critère d'arrêt \n",
    "    \"\"\"\n",
    "    un_arbre= ArbreBinaire()\n",
    "    \n",
    "    if(entropie(LSet)<=epsilon):\n",
    "        #arbre=construit_AD(LSet,epsilon)\n",
    "        un_arbre.ajoute_feuille(classe_majoritaire(LSet))\n",
    "        return un_arbre\n",
    "    else:\n",
    "        min_entropie=10000000\n",
    "        for col in range(0,len(LSet.getX(0))):  #il y a autant d'attribut , que de coordonnées dans le vecteur x\n",
    "            mon_tuple=discretise(LSet, col)\n",
    "            seuil=mon_tuple[0]\n",
    "            entropiee=mon_tuple[1]\n",
    "            if(entropiee<min_entropie):\n",
    "                min_entropie=entropiee\n",
    "                seuil_min=seuil\n",
    "                att=col                \n",
    "        Linf, Lsup = divise(LSet,att,seuil_min)\n",
    "        un_arbre.ajoute_fils(construit_AD(Linf,epsilon),construit_AD(Lsup,epsilon),att,seuil_min)\n",
    "        return un_arbre\n",
    "#faire attention à ne pas faire le return directementsur un_arbre.ajoute_fils.....\n",
    "\n"
   ]
  },
  {
   "cell_type": "code",
   "execution_count": 104,
   "metadata": {},
   "outputs": [],
   "source": [
    "import graphviz as gv\n",
    "# Eventuellement, il peut être nécessaire d'installer graphviz sur votre compte:\n",
    "# pip install --user --install-option=\"--prefix=\" -U graphviz\n",
    "\n",
    "\n",
    "class ArbreBinaire:\n",
    "    def __init__(self):\n",
    "        self.attribut = None   # numéro de l'attribut\n",
    "        self.seuil = None\n",
    "        self.inferieur = None # ArbreBinaire Gauche (valeurs <= au seuil)\n",
    "        self.superieur = None # ArbreBinaire Gauche (valeurs > au seuil)\n",
    "        self.classe = None # Classe si c'est une feuille: -1 ou +1\n",
    "        \n",
    "    def est_feuille(self):\n",
    "        \"\"\" rend True si l'arbre est une feuille \"\"\"\n",
    "        return self.seuil == None\n",
    "    \n",
    "    def ajoute_fils(self,ABinf,ABsup,att,seuil):\n",
    "        \"\"\" ABinf, ABsup: 2 arbres binaires\n",
    "            att: numéro d'attribut\n",
    "            seuil: valeur de seuil\n",
    "        \"\"\"\n",
    "        self.attribut = att\n",
    "        self.seuil = seuil\n",
    "        self.inferieur = ABinf\n",
    "        self.superieur = ABsup\n",
    "    \n",
    "    def ajoute_feuille(self,classe):\n",
    "        \"\"\" classe: -1 ou + 1\n",
    "        \"\"\"\n",
    "        self.classe = classe\n",
    "        \n",
    "    def classifie(self,exemple):\n",
    "        \"\"\" exemple : numpy.array\n",
    "            rend la classe de l'exemple: +1 ou -1\n",
    "        \"\"\"\n",
    "        if self.est_feuille():\n",
    "            return self.classe\n",
    "        if exemple[self.attribut] <= self.seuil:\n",
    "            return self.inferieur.classifie(exemple)\n",
    "        return self.superieur.classifie(exemple)\n",
    "    \n",
    "    def to_graph(self, g, prefixe='A'):\n",
    "        \"\"\" construit une représentation de l'arbre pour pouvoir\n",
    "            l'afficher\n",
    "        \"\"\"\n",
    "        if self.est_feuille():\n",
    "            g.node(prefixe,str(self.classe),shape='box')\n",
    "        else:\n",
    "            g.node(prefixe, str(self.attribut))\n",
    "            self.inferieur.to_graph(g,prefixe+\"g\")\n",
    "            self.superieur.to_graph(g,prefixe+\"d\")\n",
    "            g.edge(prefixe,prefixe+\"g\", '<='+ str(self.seuil))\n",
    "            g.edge(prefixe,prefixe+\"d\", '>'+ str(self.seuil))\n",
    "        \n",
    "        return g"
   ]
  },
  {
   "cell_type": "code",
   "execution_count": 105,
   "metadata": {},
   "outputs": [],
   "source": [
    "class ArbreDecision(cl.Classifier):\n",
    "    # Constructeur\n",
    "    def __init__(self,epsilon):\n",
    "        # valeur seuil d'entropie pour arrêter la construction\n",
    "        self.epsilon= epsilon\n",
    "        self.racine = None\n",
    "    \n",
    "    # Permet de calculer la prediction sur x => renvoie un score\n",
    "    def predict(self,x):\n",
    "        # classification de l'exemple x avec l'arbre de décision\n",
    "        # on rend 0 (classe -1) ou 1 (classe 1)\n",
    "        classe = self.racine.classifie(x)\n",
    "        if (classe == 1):\n",
    "            return(1)\n",
    "        else:\n",
    "            return(-1)\n",
    "    \n",
    "    # Permet d'entrainer le modele sur un ensemble de données\n",
    "    def train(self,set):\n",
    "        # construction de l'arbre de décision \n",
    "        self.set=set\n",
    "        self.racine = construit_AD2(set,self.epsilon)\n",
    "\n",
    "    # Permet d'afficher l'arbre\n",
    "    def plot(self):\n",
    "        gtree = gv.Digraph(format='png')\n",
    "        return self.racine.to_graph(gtree)\n",
    "        "
   ]
  },
  {
   "cell_type": "code",
   "execution_count": 106,
   "metadata": {},
   "outputs": [],
   "source": [
    "def genereDonne(nb_point,dim):\n",
    "    ens_set=ls.LabeledSet(dim)\n",
    "    for i in range (0,nb_point):\n",
    "        v = np.random.rand(dim)    \n",
    "        w= (2* v - 1) / np.linalg.norm(v)\n",
    "        v2 = np.random.rand(dim)    \n",
    "        w2= (2* v2 - 1) / np.linalg.norm(v)\n",
    "        \n",
    "        ens_set.addExample(w,1) \n",
    "        ens_set.addExample(w2,-1) \n",
    "    return ens_set\n",
    "    "
   ]
  },
  {
   "cell_type": "code",
   "execution_count": 107,
   "metadata": {},
   "outputs": [
    {
     "data": {
      "image/png": "[encoded data removed]",
      "text/plain": [
       "<Figure size 432x288 with 1 Axes>"
      ]
     },
     "metadata": {
      "needs_background": "light"
     },
     "output_type": "display_data"
    }
   ],
   "source": [
    "# un exemple d'utilisation:\n",
    "the_set = genereDonne(10,2)# définition d'un LabeledSet avec la fonction précédente\n",
    "\n",
    "ad=ArbreDecision(0.0)          # initialiation d'un arbre binaire qui utilisera epsilon= 0.0\n",
    "ad.train(the_set)              # construction de l'arbre à partir de la base jouet\n",
    "ut.plot_frontiere(the_set,ad,20)  # tracé graphique de la frontière de décision\n",
    "ut.plot2DSet(the_set) "
   ]
  },
  {
   "cell_type": "markdown",
   "metadata": {},
   "source": [
    "<font color=\"RED\" size=\"+1\">**[Q]**</font> Modifier la fonction <code>construit_ad</code> afin d'utiliser le gain d'information comme critère d'arrêt. \n",
    "\n",
    "L'algorithme est modifié ainsi:\n",
    "\n",
    "Pour construire un arbre de décision, il faut réaliser les étapes suivantes:\n",
    "- si l'entropie de Shannon de l'ensemble courant est inférieure à epsilon (réel positif fixé et qui est un paramètre de l'algorithme), alors construire une feuille avec cet ensemble, la classe associée à cette feuille est la classe majoritaire;\n",
    "- sinon, pour chaque attribut, calculer le seuil de discrétisation et l'entropie de Shannon correspondante\n",
    "    - choisir l'attribut qui donne une valeur d'entropie minimale\n",
    "    - regarder le gain d'information apporté par le test sur les valeurs de cet attribut\n",
    "        - si ce gain est inférieur à epsilon alors construire une feuille avec l'ensemble\n",
    "        - sinon l'attribut choisi sert à constituer un noeud de l'arbre de décision, les arcs issus de ce noeud sont labeller par un test (inférieur ou égal ou supérieur) par rapport au seuil trouvé\n",
    "    \n",
    "On rappelle (cf. cours) que le gain d'information vaut:\n",
    "\n",
    "$$I-s(A_j,Y) = D(Y) - Q_Y(A_j)$$\n",
    "\n",
    "avec $D(Y)$, l'entropie de Shannon de l'ensemble courant, et $Q_Y(A_j)$ l'entropie de de la classe pour la coupure par le seuil trouvé sur l'attribut $A_j$).\n",
    "\n"
   ]
  },
  {
   "cell_type": "code",
   "execution_count": 108,
   "metadata": {},
   "outputs": [],
   "source": [
    "def construit_AD2(LSet,epsilon):\n",
    "    \"\"\" LSet : LabeledSet\n",
    "        epsilon : seuil d'entropie pour le critère d'arrêt \n",
    "    \"\"\"\n",
    "    un_arbre= ArbreBinaire()\n",
    "    \n",
    "    if(entropie(LSet)<=epsilon):\n",
    "        #arbre=construit_AD(LSet,epsilon)\n",
    "        un_arbre.ajoute_feuille(classe_majoritaire(LSet))\n",
    "        return un_arbre\n",
    "    else:\n",
    "        min_entropie=10000000\n",
    "        for col in range(0,len(LSet.getX(0))):  #il y a autant d'attribut , que de coordonnées dans le vecteur x\n",
    "            mon_tuple=discretise(LSet, col)\n",
    "            seuil=mon_tuple[0]                 #lattribut qui minimise lentropi corrspond à la meilleur question quon pourrait poser\n",
    "            entropiee=mon_tuple[1]\n",
    "            if(entropiee<min_entropie):\n",
    "                min_entropie=entropiee\n",
    "                seuil_min=seuil\n",
    "                att=col    \n",
    "                \n",
    "        if(entropie(LSet)-min_entropie <=epsilon):       \n",
    "            un_arbre.ajoute_feuille(classe_majoritaire(LSet))\n",
    "            return un_arbre\n",
    "                \n",
    "        else:     \n",
    "            Linf, Lsup = divise(LSet,att,seuil_min)\n",
    "            un_arbre.ajoute_fils(construit_AD2(Linf,epsilon),construit_AD2(Lsup,epsilon),att,seuil_min)\n",
    "            return un_arbre\n",
    "            #faire attention à ne pas faire le return directementsur un_arbre.ajoute_fils.....\n",
    "\n",
    "\n",
    "\n"
   ]
  },
  {
   "cell_type": "code",
   "execution_count": 109,
   "metadata": {},
   "outputs": [
    {
     "data": {
      "image/svg+xml": [
       "<?xml version=\"1.0\" encoding=\"UTF-8\" standalone=\"no\"?>\r\n",
       "<!DOCTYPE svg PUBLIC \"-//W3C//DTD SVG 1.1//EN\"\r\n",
       " \"http://www.w3.org/Graphics/SVG/1.1/DTD/svg11.dtd\">\r\n",
       "<!-- Generated by graphviz version 2.38.0 (20140413.2041)\r\n",
       " -->\r\n",
       "<!-- Title: %3 Pages: 1 -->\r\n",
       "<svg width=\"636pt\" height=\"479pt\"\r\n",
       " viewBox=\"0.00 0.00 636.00 479.00\" xmlns=\"http://www.w3.org/2000/svg\" xmlns:xlink=\"http://www.w3.org/1999/xlink\">\r\n",
       "<g id=\"graph0\" class=\"graph\" transform=\"scale(1 1) rotate(0) translate(4 475)\">\r\n",
       "<title>%3</title>\r\n",
       "<polygon fill=\"white\" stroke=\"none\" points=\"-4,4 -4,-475 632,-475 632,4 -4,4\"/>\r\n",
       "<!-- A -->\r\n",
       "<g id=\"node1\" class=\"node\"><title>A</title>\r\n",
       "<ellipse fill=\"none\" stroke=\"black\" cx=\"271\" cy=\"-453\" rx=\"27\" ry=\"18\"/>\r\n",
       "<text text-anchor=\"middle\" x=\"271\" y=\"-449.3\" font-family=\"Times New Roman,serif\" font-size=\"14.00\">1</text>\r\n",
       "</g>\r\n",
       "<!-- Ag -->\r\n",
       "<g id=\"node2\" class=\"node\"><title>Ag</title>\r\n",
       "<ellipse fill=\"none\" stroke=\"black\" cx=\"186\" cy=\"-366\" rx=\"27\" ry=\"18\"/>\r\n",
       "<text text-anchor=\"middle\" x=\"186\" y=\"-362.3\" font-family=\"Times New Roman,serif\" font-size=\"14.00\">0</text>\r\n",
       "</g>\r\n",
       "<!-- A&#45;&gt;Ag -->\r\n",
       "<g id=\"edge15\" class=\"edge\"><title>A&#45;&gt;Ag</title>\r\n",
       "<path fill=\"none\" stroke=\"black\" d=\"M244.592,-448.644C225.133,-444.647 199.897,-435.933 187,-417 182.514,-410.414 181.116,-402.124 181.168,-394.198\"/>\r\n",
       "<polygon fill=\"black\" stroke=\"black\" points=\"184.663,-394.399 181.935,-384.162 177.683,-393.866 184.663,-394.399\"/>\r\n",
       "<text text-anchor=\"middle\" x=\"260.5\" y=\"-405.8\" font-family=\"Times New Roman,serif\" font-size=\"14.00\">&lt;=&#45;0.41123879823555476</text>\r\n",
       "</g>\r\n",
       "<!-- Ad -->\r\n",
       "<g id=\"node11\" class=\"node\"><title>Ad</title>\r\n",
       "<ellipse fill=\"none\" stroke=\"black\" cx=\"356\" cy=\"-366\" rx=\"27\" ry=\"18\"/>\r\n",
       "<text text-anchor=\"middle\" x=\"356\" y=\"-362.3\" font-family=\"Times New Roman,serif\" font-size=\"14.00\">1</text>\r\n",
       "</g>\r\n",
       "<!-- A&#45;&gt;Ad -->\r\n",
       "<g id=\"edge16\" class=\"edge\"><title>A&#45;&gt;Ad</title>\r\n",
       "<path fill=\"none\" stroke=\"black\" d=\"M294.103,-443.513C307.215,-437.723 323.127,-428.929 334,-417 340.086,-410.323 344.689,-401.691 348.07,-393.484\"/>\r\n",
       "<polygon fill=\"black\" stroke=\"black\" points=\"351.448,-394.438 351.605,-383.844 344.876,-392.028 351.448,-394.438\"/>\r\n",
       "<text text-anchor=\"middle\" x=\"413.5\" y=\"-405.8\" font-family=\"Times New Roman,serif\" font-size=\"14.00\">&gt;&#45;0.41123879823555476</text>\r\n",
       "</g>\r\n",
       "<!-- Agg -->\r\n",
       "<g id=\"node3\" class=\"node\"><title>Agg</title>\r\n",
       "<polygon fill=\"none\" stroke=\"black\" points=\"54,-297 0,-297 0,-261 54,-261 54,-297\"/>\r\n",
       "<text text-anchor=\"middle\" x=\"27\" y=\"-275.3\" font-family=\"Times New Roman,serif\" font-size=\"14.00\">&#45;1</text>\r\n",
       "</g>\r\n",
       "<!-- Ag&#45;&gt;Agg -->\r\n",
       "<g id=\"edge7\" class=\"edge\"><title>Ag&#45;&gt;Agg</title>\r\n",
       "<path fill=\"none\" stroke=\"black\" d=\"M158.906,-365.833C127.1,-365.312 74.6821,-359.548 43,-330 36.5556,-323.99 32.6967,-315.387 30.3897,-307.008\"/>\r\n",
       "<polygon fill=\"black\" stroke=\"black\" points=\"33.7829,-306.137 28.2757,-297.086 26.9366,-307.596 33.7829,-306.137\"/>\r\n",
       "<text text-anchor=\"middle\" x=\"114\" y=\"-318.8\" font-family=\"Times New Roman,serif\" font-size=\"14.00\">&lt;=0.11259211051605891</text>\r\n",
       "</g>\r\n",
       "<!-- Agd -->\r\n",
       "<g id=\"node4\" class=\"node\"><title>Agd</title>\r\n",
       "<ellipse fill=\"none\" stroke=\"black\" cx=\"192\" cy=\"-279\" rx=\"27\" ry=\"18\"/>\r\n",
       "<text text-anchor=\"middle\" x=\"192\" y=\"-275.3\" font-family=\"Times New Roman,serif\" font-size=\"14.00\">0</text>\r\n",
       "</g>\r\n",
       "<!-- Ag&#45;&gt;Agd -->\r\n",
       "<g id=\"edge8\" class=\"edge\"><title>Ag&#45;&gt;Agd</title>\r\n",
       "<path fill=\"none\" stroke=\"black\" d=\"M187.214,-347.799C188.036,-336.163 189.138,-320.548 190.077,-307.237\"/>\r\n",
       "<polygon fill=\"black\" stroke=\"black\" points=\"193.575,-307.397 190.788,-297.175 186.592,-306.904 193.575,-307.397\"/>\r\n",
       "<text text-anchor=\"middle\" x=\"257\" y=\"-318.8\" font-family=\"Times New Roman,serif\" font-size=\"14.00\">&gt;0.11259211051605891</text>\r\n",
       "</g>\r\n",
       "<!-- Agdg -->\r\n",
       "<g id=\"node5\" class=\"node\"><title>Agdg</title>\r\n",
       "<polygon fill=\"none\" stroke=\"black\" points=\"65,-210 11,-210 11,-174 65,-174 65,-210\"/>\r\n",
       "<text text-anchor=\"middle\" x=\"38\" y=\"-188.3\" font-family=\"Times New Roman,serif\" font-size=\"14.00\">1</text>\r\n",
       "</g>\r\n",
       "<!-- Agd&#45;&gt;Agdg -->\r\n",
       "<g id=\"edge5\" class=\"edge\"><title>Agd&#45;&gt;Agdg</title>\r\n",
       "<path fill=\"none\" stroke=\"black\" d=\"M164.749,-278.346C134.224,-277.253 85.0916,-270.842 55,-243 48.4931,-236.98 44.4764,-228.374 41.9969,-219.996\"/>\r\n",
       "<polygon fill=\"black\" stroke=\"black\" points=\"45.3617,-219.014 39.671,-210.077 38.5466,-220.612 45.3617,-219.014\"/>\r\n",
       "<text text-anchor=\"middle\" x=\"123\" y=\"-231.8\" font-family=\"Times New Roman,serif\" font-size=\"14.00\">&lt;=0.4231253311318892</text>\r\n",
       "</g>\r\n",
       "<!-- Agdd -->\r\n",
       "<g id=\"node6\" class=\"node\"><title>Agdd</title>\r\n",
       "<ellipse fill=\"none\" stroke=\"black\" cx=\"197\" cy=\"-192\" rx=\"27\" ry=\"18\"/>\r\n",
       "<text text-anchor=\"middle\" x=\"197\" y=\"-188.3\" font-family=\"Times New Roman,serif\" font-size=\"14.00\">0</text>\r\n",
       "</g>\r\n",
       "<!-- Agd&#45;&gt;Agdd -->\r\n",
       "<g id=\"edge6\" class=\"edge\"><title>Agd&#45;&gt;Agdd</title>\r\n",
       "<path fill=\"none\" stroke=\"black\" d=\"M193.012,-260.799C193.696,-249.163 194.615,-233.548 195.398,-220.237\"/>\r\n",
       "<polygon fill=\"black\" stroke=\"black\" points=\"198.896,-220.364 195.99,-210.175 191.908,-219.953 198.896,-220.364\"/>\r\n",
       "<text text-anchor=\"middle\" x=\"258.5\" y=\"-231.8\" font-family=\"Times New Roman,serif\" font-size=\"14.00\">&gt;0.4231253311318892</text>\r\n",
       "</g>\r\n",
       "<!-- Agddg -->\r\n",
       "<g id=\"node7\" class=\"node\"><title>Agddg</title>\r\n",
       "<polygon fill=\"none\" stroke=\"black\" points=\"66,-123 12,-123 12,-87 66,-87 66,-123\"/>\r\n",
       "<text text-anchor=\"middle\" x=\"39\" y=\"-101.3\" font-family=\"Times New Roman,serif\" font-size=\"14.00\">&#45;1</text>\r\n",
       "</g>\r\n",
       "<!-- Agdd&#45;&gt;Agddg -->\r\n",
       "<g id=\"edge3\" class=\"edge\"><title>Agdd&#45;&gt;Agddg</title>\r\n",
       "<path fill=\"none\" stroke=\"black\" d=\"M169.814,-191.278C139.037,-190.142 89.1397,-183.709 58,-156 51.2187,-149.966 46.8459,-141.25 44.0311,-132.78\"/>\r\n",
       "<polygon fill=\"black\" stroke=\"black\" points=\"47.4048,-131.848 41.3913,-123.125 40.6527,-133.694 47.4048,-131.848\"/>\r\n",
       "<text text-anchor=\"middle\" x=\"126\" y=\"-144.8\" font-family=\"Times New Roman,serif\" font-size=\"14.00\">&lt;=0.5866381809415396</text>\r\n",
       "</g>\r\n",
       "<!-- Agddd -->\r\n",
       "<g id=\"node8\" class=\"node\"><title>Agddd</title>\r\n",
       "<ellipse fill=\"none\" stroke=\"black\" cx=\"198\" cy=\"-105\" rx=\"27\" ry=\"18\"/>\r\n",
       "<text text-anchor=\"middle\" x=\"198\" y=\"-101.3\" font-family=\"Times New Roman,serif\" font-size=\"14.00\">0</text>\r\n",
       "</g>\r\n",
       "<!-- Agdd&#45;&gt;Agddd -->\r\n",
       "<g id=\"edge4\" class=\"edge\"><title>Agdd&#45;&gt;Agddd</title>\r\n",
       "<path fill=\"none\" stroke=\"black\" d=\"M197.202,-173.799C197.339,-162.163 197.523,-146.548 197.68,-133.237\"/>\r\n",
       "<polygon fill=\"black\" stroke=\"black\" points=\"201.18,-133.216 197.798,-123.175 194.18,-133.134 201.18,-133.216\"/>\r\n",
       "<text text-anchor=\"middle\" x=\"261.5\" y=\"-144.8\" font-family=\"Times New Roman,serif\" font-size=\"14.00\">&gt;0.5866381809415396</text>\r\n",
       "</g>\r\n",
       "<!-- Agdddg -->\r\n",
       "<g id=\"node9\" class=\"node\"><title>Agdddg</title>\r\n",
       "<polygon fill=\"none\" stroke=\"black\" points=\"146,-36 92,-36 92,-0 146,-0 146,-36\"/>\r\n",
       "<text text-anchor=\"middle\" x=\"119\" y=\"-14.3\" font-family=\"Times New Roman,serif\" font-size=\"14.00\">1</text>\r\n",
       "</g>\r\n",
       "<!-- Agddd&#45;&gt;Agdddg -->\r\n",
       "<g id=\"edge1\" class=\"edge\"><title>Agddd&#45;&gt;Agdddg</title>\r\n",
       "<path fill=\"none\" stroke=\"black\" d=\"M171.912,-99.7231C154.037,-95.2986 131.548,-86.4536 120,-69 115.603,-62.3542 114.23,-54.0469 114.278,-46.1236\"/>\r\n",
       "<polygon fill=\"black\" stroke=\"black\" points=\"117.772,-46.3336 115.026,-36.101 110.792,-45.8132 117.772,-46.3336\"/>\r\n",
       "<text text-anchor=\"middle\" x=\"188\" y=\"-57.8\" font-family=\"Times New Roman,serif\" font-size=\"14.00\">&lt;=0.7151491067537132</text>\r\n",
       "</g>\r\n",
       "<!-- Agdddd -->\r\n",
       "<g id=\"node10\" class=\"node\"><title>Agdddd</title>\r\n",
       "<polygon fill=\"none\" stroke=\"black\" points=\"305,-36 251,-36 251,-0 305,-0 305,-36\"/>\r\n",
       "<text text-anchor=\"middle\" x=\"278\" y=\"-14.3\" font-family=\"Times New Roman,serif\" font-size=\"14.00\">&#45;1</text>\r\n",
       "</g>\r\n",
       "<!-- Agddd&#45;&gt;Agdddd -->\r\n",
       "<g id=\"edge2\" class=\"edge\"><title>Agddd&#45;&gt;Agdddd</title>\r\n",
       "<path fill=\"none\" stroke=\"black\" d=\"M220.394,-94.5582C232.238,-88.6443 246.293,-80.0409 256,-69 261.876,-62.316 266.401,-53.8134 269.775,-45.7238\"/>\r\n",
       "<polygon fill=\"black\" stroke=\"black\" points=\"273.108,-46.8035 273.333,-36.211 266.551,-44.3508 273.108,-46.8035\"/>\r\n",
       "<text text-anchor=\"middle\" x=\"329.5\" y=\"-57.8\" font-family=\"Times New Roman,serif\" font-size=\"14.00\">&gt;0.7151491067537132</text>\r\n",
       "</g>\r\n",
       "<!-- Adg -->\r\n",
       "<g id=\"node12\" class=\"node\"><title>Adg</title>\r\n",
       "<ellipse fill=\"none\" stroke=\"black\" cx=\"353\" cy=\"-279\" rx=\"27\" ry=\"18\"/>\r\n",
       "<text text-anchor=\"middle\" x=\"353\" y=\"-275.3\" font-family=\"Times New Roman,serif\" font-size=\"14.00\">1</text>\r\n",
       "</g>\r\n",
       "<!-- Ad&#45;&gt;Adg -->\r\n",
       "<g id=\"edge13\" class=\"edge\"><title>Ad&#45;&gt;Adg</title>\r\n",
       "<path fill=\"none\" stroke=\"black\" d=\"M354.897,-347.916C354.563,-342.22 354.225,-335.839 354,-330 353.717,-322.655 353.512,-314.701 353.364,-307.342\"/>\r\n",
       "<polygon fill=\"black\" stroke=\"black\" points=\"356.859,-307.066 353.186,-297.129 349.861,-307.189 356.859,-307.066\"/>\r\n",
       "<text text-anchor=\"middle\" x=\"422\" y=\"-318.8\" font-family=\"Times New Roman,serif\" font-size=\"14.00\">&lt;=0.9634181116954166</text>\r\n",
       "</g>\r\n",
       "<!-- Add -->\r\n",
       "<g id=\"node17\" class=\"node\"><title>Add</title>\r\n",
       "<polygon fill=\"none\" stroke=\"black\" points=\"539,-297 485,-297 485,-261 539,-261 539,-297\"/>\r\n",
       "<text text-anchor=\"middle\" x=\"512\" y=\"-275.3\" font-family=\"Times New Roman,serif\" font-size=\"14.00\">&#45;1</text>\r\n",
       "</g>\r\n",
       "<!-- Ad&#45;&gt;Add -->\r\n",
       "<g id=\"edge14\" class=\"edge\"><title>Ad&#45;&gt;Add</title>\r\n",
       "<path fill=\"none\" stroke=\"black\" d=\"M383.045,-364.649C412.584,-362.88 459.716,-355.814 490,-330 497.055,-323.986 501.93,-315.275 505.261,-306.803\"/>\r\n",
       "<polygon fill=\"black\" stroke=\"black\" points=\"508.639,-307.738 508.5,-297.144 502.002,-305.512 508.639,-307.738\"/>\r\n",
       "<text text-anchor=\"middle\" x=\"564.5\" y=\"-318.8\" font-family=\"Times New Roman,serif\" font-size=\"14.00\">&gt;0.9634181116954166</text>\r\n",
       "</g>\r\n",
       "<!-- Adgg -->\r\n",
       "<g id=\"node13\" class=\"node\"><title>Adgg</title>\r\n",
       "<ellipse fill=\"none\" stroke=\"black\" cx=\"352\" cy=\"-192\" rx=\"27\" ry=\"18\"/>\r\n",
       "<text text-anchor=\"middle\" x=\"352\" y=\"-188.3\" font-family=\"Times New Roman,serif\" font-size=\"14.00\">1</text>\r\n",
       "</g>\r\n",
       "<!-- Adg&#45;&gt;Adgg -->\r\n",
       "<g id=\"edge11\" class=\"edge\"><title>Adg&#45;&gt;Adgg</title>\r\n",
       "<path fill=\"none\" stroke=\"black\" d=\"M352.798,-260.799C352.661,-249.163 352.477,-233.548 352.32,-220.237\"/>\r\n",
       "<polygon fill=\"black\" stroke=\"black\" points=\"355.82,-220.134 352.202,-210.175 348.82,-220.216 355.82,-220.134\"/>\r\n",
       "<text text-anchor=\"middle\" x=\"417.5\" y=\"-231.8\" font-family=\"Times New Roman,serif\" font-size=\"14.00\">&lt;=0.627334710628596</text>\r\n",
       "</g>\r\n",
       "<!-- Adgd -->\r\n",
       "<g id=\"node16\" class=\"node\"><title>Adgd</title>\r\n",
       "<polygon fill=\"none\" stroke=\"black\" points=\"531,-210 477,-210 477,-174 531,-174 531,-210\"/>\r\n",
       "<text text-anchor=\"middle\" x=\"504\" y=\"-188.3\" font-family=\"Times New Roman,serif\" font-size=\"14.00\">1</text>\r\n",
       "</g>\r\n",
       "<!-- Adg&#45;&gt;Adgd -->\r\n",
       "<g id=\"edge12\" class=\"edge\"><title>Adg&#45;&gt;Adgd</title>\r\n",
       "<path fill=\"none\" stroke=\"black\" d=\"M380.091,-277.287C408.599,-275.162 453.242,-267.749 482,-243 489.027,-236.953 493.895,-228.234 497.228,-219.765\"/>\r\n",
       "<polygon fill=\"black\" stroke=\"black\" points=\"500.604,-220.708 500.474,-210.113 493.969,-218.476 500.604,-220.708\"/>\r\n",
       "<text text-anchor=\"middle\" x=\"553.5\" y=\"-231.8\" font-family=\"Times New Roman,serif\" font-size=\"14.00\">&gt;0.627334710628596</text>\r\n",
       "</g>\r\n",
       "<!-- Adggg -->\r\n",
       "<g id=\"node14\" class=\"node\"><title>Adggg</title>\r\n",
       "<polygon fill=\"none\" stroke=\"black\" points=\"376,-123 322,-123 322,-87 376,-87 376,-123\"/>\r\n",
       "<text text-anchor=\"middle\" x=\"349\" y=\"-101.3\" font-family=\"Times New Roman,serif\" font-size=\"14.00\">1</text>\r\n",
       "</g>\r\n",
       "<!-- Adgg&#45;&gt;Adggg -->\r\n",
       "<g id=\"edge9\" class=\"edge\"><title>Adgg&#45;&gt;Adggg</title>\r\n",
       "<path fill=\"none\" stroke=\"black\" d=\"M350.897,-173.916C350.563,-168.22 350.225,-161.839 350,-156 349.717,-148.655 349.512,-140.701 349.364,-133.342\"/>\r\n",
       "<polygon fill=\"black\" stroke=\"black\" points=\"352.859,-133.066 349.186,-123.129 345.861,-133.189 352.859,-133.066\"/>\r\n",
       "<text text-anchor=\"middle\" x=\"418\" y=\"-144.8\" font-family=\"Times New Roman,serif\" font-size=\"14.00\">&lt;=0.2881407588841953</text>\r\n",
       "</g>\r\n",
       "<!-- Adggd -->\r\n",
       "<g id=\"node15\" class=\"node\"><title>Adggd</title>\r\n",
       "<polygon fill=\"none\" stroke=\"black\" points=\"535,-123 481,-123 481,-87 535,-87 535,-123\"/>\r\n",
       "<text text-anchor=\"middle\" x=\"508\" y=\"-101.3\" font-family=\"Times New Roman,serif\" font-size=\"14.00\">&#45;1</text>\r\n",
       "</g>\r\n",
       "<!-- Adgg&#45;&gt;Adggd -->\r\n",
       "<g id=\"edge10\" class=\"edge\"><title>Adgg&#45;&gt;Adggd</title>\r\n",
       "<path fill=\"none\" stroke=\"black\" d=\"M379.045,-190.649C408.584,-188.88 455.716,-181.814 486,-156 493.055,-149.986 497.93,-141.275 501.261,-132.803\"/>\r\n",
       "<polygon fill=\"black\" stroke=\"black\" points=\"504.639,-133.738 504.5,-123.144 498.002,-131.512 504.639,-133.738\"/>\r\n",
       "<text text-anchor=\"middle\" x=\"560.5\" y=\"-144.8\" font-family=\"Times New Roman,serif\" font-size=\"14.00\">&gt;0.2881407588841953</text>\r\n",
       "</g>\r\n",
       "</g>\r\n",
       "</svg>\r\n"
      ],
      "text/plain": [
       "<graphviz.dot.Digraph at 0x173bdcb0d30>"
      ]
     },
     "execution_count": 109,
     "metadata": {},
     "output_type": "execute_result"
    }
   ],
   "source": [
    "#test de l'affichage \n",
    "abin = construit_AD2(the_set,0.0)\n",
    "gtree = gv.Digraph(format='png')\n",
    "abin.to_graph(gtree)"
   ]
  },
  {
   "cell_type": "markdown",
   "metadata": {},
   "source": [
    "## Etape 2: Bagging d'arbres de décision\n",
    "\n",
    "### Tirage aléatoire d'exemples\n",
    "\n",
    "Le bootstrap s'effectue en tirant aléatoirement un échantillon de $m$ exemples à partir de la base d'apprentissage $X$. Cet échantillon sert ensuite à construire un classifieur.\n",
    "\n",
    "Dans l'algorithme du bagging, ce processus est répété $B$ fois.\n",
    "\n",
    "Afin de ne pas alourdir la place mémoire nécessaire pour réaliser un tel tirage, on ne travaille que sur les indices des exemples dans la base. Un **échantillon de $X$ est donc un vecteur d'entiers** qui représentent les indices des exemples choisis.\n"
   ]
  },
  {
   "cell_type": "markdown",
   "metadata": {},
   "source": [
    "#### Tirages aléatoires en Python\n",
    "\n",
    "Consulter la librairie Python random qui propose différentes fonctions utiles pour implémenter le tirage aléatoire du bootstrap.\n",
    "\n",
    "Par exemple, la fonction <code>sample()</code> de la librairie <code>random</code> rend une sélection aléatoire dans une population donnée en réalisant un tirage sans remise.\n",
    "\n",
    "Pour tester, exécuter plusieurs fois les instructions de la boîte suivante :"
   ]
  },
  {
   "cell_type": "code",
   "execution_count": 110,
   "metadata": {},
   "outputs": [
    {
     "name": "stdout",
     "output_type": "stream",
     "text": [
      "La liste L de départ:  [0, 1, 2, 3, 4, 5, 6, 7, 8, 9, 10]\n",
      "Echantillon:  [1, 0, 3, 9, 5, 2]\n"
     ]
    }
   ],
   "source": [
    "import random\n",
    "L= [i for i in range(0,11)]             # construction de la liste des entiers de 0 à 10\n",
    "print(\"La liste L de départ: \",L)\n",
    "EchL = random.sample(L,6)               # tirage de 6 éléments de L\n",
    "print(\"Echantillon: \",EchL)"
   ]
  },
  {
   "cell_type": "markdown",
   "metadata": {},
   "source": [
    "La fonction <code>choice()</code> permet de choisir aléatoirement un élément:"
   ]
  },
  {
   "cell_type": "code",
   "execution_count": 111,
   "metadata": {},
   "outputs": [
    {
     "name": "stdout",
     "output_type": "stream",
     "text": [
      "La liste L de départ:  [0, 1, 2, 3, 4, 5, 6, 7, 8, 9, 10]\n",
      "Element choisi:  3\n"
     ]
    }
   ],
   "source": [
    "L= [i for i in range(0,11)]             # construction de la liste des entiers de 0 à 10\n",
    "print(\"La liste L de départ: \",L)\n",
    "elt = random.choice(L)                  # choix d'un élémént\n",
    "print(\"Element choisi: \",elt)"
   ]
  },
  {
   "cell_type": "markdown",
   "metadata": {},
   "source": [
    "<font color=\"RED\" size=\"+1\">**[Q]**</font> Ecrire une fonction <code>tirage()</code> qui étant donné un vecteur d'entiers $VX$ qui représente l'ensemble des indices des exemples d'une base d'apprentissage $X$, un entier $m$, et un booléen $r$, rend un vecteur de $m$ indices choisis aléatoirement dans $VX$. Si le booléen $r$ est vrai, le tirage s'effectue *avec remise*, sinon il s'effectue *sans remise*."
   ]
  },
  {
   "cell_type": "code",
   "execution_count": 112,
   "metadata": {},
   "outputs": [],
   "source": [
    "def tirage(VX,m,r):\n",
    "    EchL = random.sample(VX,m) \n",
    "    if(r==True):\n",
    "        l=[]\n",
    "        for i in range(0,m):\n",
    "            l.append(random.choice(EchL))\n",
    "        return l\n",
    "    else:\n",
    "        return EchL\n",
    "    \n",
    "\n",
    "\n"
   ]
  },
  {
   "cell_type": "markdown",
   "metadata": {},
   "source": [
    "Exemples :"
   ]
  },
  {
   "cell_type": "code",
   "execution_count": 113,
   "metadata": {},
   "outputs": [
    {
     "data": {
      "text/plain": [
       "[9, 0, 2, 5, 8, 0, 0, 3]"
      ]
     },
     "execution_count": 113,
     "metadata": {},
     "output_type": "execute_result"
    }
   ],
   "source": [
    "L= [i for i in range(0,10)]    # construction de la liste des entiers de 0 à 100\n",
    "tirage(L,8,True)               # tirage avec remise"
   ]
  },
  {
   "cell_type": "code",
   "execution_count": 117,
   "metadata": {},
   "outputs": [
    {
     "name": "stdout",
     "output_type": "stream",
     "text": [
      "[3, 8, 4, 5, 2, 1, 7, 0]\n"
     ]
    }
   ],
   "source": [
    "l=tirage(L,8,False)  \n",
    "print(l)# tirage sans remise"
   ]
  },
  {
   "cell_type": "markdown",
   "metadata": {
    "collapsed": true
   },
   "source": [
    "<font color=\"RED\" size=\"+1\">**[Q]**</font> En utilisant la fonction précédente, écrire la fonction <code>echantillonLS()</code> qui, étant donné un <code>LabeledSet</code> $X$, un nombre entier $m$, et un booléen rend un échantillon de $X$ de taille $m$ sous la forme d'un <code>LabeledSet</code>. L'échantillon est obtenu par un tirage avec remise si le booléen est True, sinon, il est obtenu sans remise."
   ]
  },
  {
   "cell_type": "code",
   "execution_count": 24,
   "metadata": {},
   "outputs": [],
   "source": [
    "def echantillonLS(X,m,r):\n",
    "    L= [i for i in range(0,X.size())] \n",
    "    t=tirage(L,m,r)\n",
    "    Lb=ls.LabeledSet(X.input_dimension)\n",
    "    for j in range(0,len(t)):\n",
    "        Lb.addExample(X.getX(t[j]),X.getY(t[j]))\n",
    "        \n",
    "    \n",
    "    \n",
    "    \n",
    "    return Lb\n",
    "   \n",
    "\n",
    "\n",
    "\n"
   ]
  },
  {
   "cell_type": "code",
   "execution_count": 25,
   "metadata": {},
   "outputs": [
    {
     "name": "stdout",
     "output_type": "stream",
     "text": [
      "[0.08490624 0.78601711] [-1]\n",
      "[0.08490624 0.78601711] [-1]\n",
      "[0.13522895 3.62660569] [-1]\n",
      "[-0.72700216 -0.97632721] [-1]\n",
      "[0.59483168 0.59407915] [1]\n"
     ]
    }
   ],
   "source": [
    "ut.affiche_base(echantillonLS(the_set,5,True))"
   ]
  },
  {
   "cell_type": "markdown",
   "metadata": {},
   "source": [
    "<font color=\"RED\" size=\"+1\">**[Q]**</font> Ecrire la classe <code>ClassifierBaggingTree</code>, dérivée de la classe <code>Classifier</code>, qui permet d'implémenter un bagging d'arbres de décision. Les spécifications de cette classe sont :\n",
    "- la création de l'ensemble nécessite les paramètres suivants : \n",
    "    - le nombre $B$ d'arbres à construire, \n",
    "    - le pourcentage d'exemples de la base d'apprentissage utilisés pour constituer un échantillon, \n",
    "    - un booléen qui précise si un échantillon est tiré avec ou sans remise\n",
    "    - et la valeur de seuil d'entropie pour arrêter la construction de chaque arbre, \n",
    "- l'apprentissage (méthode <code>train()</code>) construit autant d'arbres que précisé à la création. Chaque arbre est construit à partir d'un échantillon de la base d'apprentissage (<code>LabeledSet</code>) donnée en argument. Les arbres construits sont stockés dans un ensemble Python.\n",
    "- la prédiction (méthode <code>predict()</code>) classe un exemple par vote de tous les arbres de la forêt. Si la somme des votes est positive ou nulle, la classe rendue est +1, sinon, la classe rendue est -1."
   ]
  },
  {
   "cell_type": "code",
   "execution_count": 26,
   "metadata": {},
   "outputs": [
    {
     "name": "stdout",
     "output_type": "stream",
     "text": [
      "1\n",
      "2\n",
      "3\n",
      "4\n"
     ]
    }
   ],
   "source": [
    "set1=set()\n",
    "set1.add(1)\n",
    "set1.add(2)\n",
    "set1.add(3)\n",
    "set1.add(4)\n",
    "for item in set1:\n",
    "    print(item)"
   ]
  },
  {
   "cell_type": "code",
   "execution_count": 27,
   "metadata": {},
   "outputs": [],
   "source": [
    "class ClassifierBaggingTree(cl.Classifier):\n",
    "    \n",
    "    def __init__(self, B,p,seuil,r):\n",
    "        \"\"\" Constructeur de Classifier\n",
    "            Argument:\n",
    "                - intput_dimension (int) : dimension d'entrée des exemples\n",
    "            Hypothèse : input_dimension > 0\n",
    "        \"\"\"\n",
    "        self.B=B\n",
    "        self.p=p\n",
    "        self.r=r\n",
    "        self.seuil=seuil\n",
    "        \n",
    "    def predict(self, x):\n",
    "        \"\"\" rend la prediction sur x (-1 ou +1)\n",
    "        \"\"\"\n",
    "        s=0\n",
    "        for item in self.set1:\n",
    "            s=s+item.predict(x)\n",
    "\n",
    "                \n",
    "        if(s>=0):\n",
    "            return 1\n",
    "        else:\n",
    "            return -1\n",
    "\n",
    "    def train(self, labeledSet):\n",
    "        \"\"\" Permet d'entrainer le modele sur l'ensemble donné\n",
    "        \"\"\"\n",
    "        self.set1=set()\n",
    "        \n",
    "        for i in range(0,self.B):\n",
    "            L=echantillonLS(labeledSet,int(labeledSet.size()*self.p),self.r) \n",
    "            #ls.affiche_base(L)\n",
    "            abin = ArbreDecision(self.seuil)\n",
    "            abin.train(L)\n",
    "            self.set1.add(abin)\n",
    "        \n",
    "    \n",
    "    def accuracy(self, dataset):\n",
    "        s=0\n",
    "        for i in range(0,dataset.size()):\n",
    "            x=self.predict(dataset.getX(i))\n",
    "            \n",
    "            if(x==dataset.getY(i)):\n",
    "                s=s+1\n",
    "                \n",
    "        return (s/dataset.size())*100\n",
    "    \n",
    "\n",
    "\n",
    "\n"
   ]
  },
  {
   "cell_type": "code",
   "execution_count": 28,
   "metadata": {},
   "outputs": [
    {
     "name": "stdout",
     "output_type": "stream",
     "text": [
      "<iads.LabeledSet.LabeledSet object at 0x00000173BDCB08D0>\n"
     ]
    }
   ],
   "source": [
    "echl=echantillonLS(the_set,round(3.0),True) # attention ne pas pas mettre m en float\n",
    "print(echl)\n",
    "l=ls.LabeledSet(2)"
   ]
  },
  {
   "cell_type": "code",
   "execution_count": 29,
   "metadata": {},
   "outputs": [
    {
     "name": "stdout",
     "output_type": "stream",
     "text": [
      "[-1.98717521 -2.5256705 ] [1]\n",
      "[0.06636795 0.16541287] [-1]\n",
      "[0.06636795 0.16541287] [-1]\n",
      "[ 0.33605237 -1.46660786] [1]\n",
      "[0.06636795 0.16541287] [-1]\n"
     ]
    },
    {
     "data": {
      "image/svg+xml": [
       "<?xml version=\"1.0\" encoding=\"UTF-8\" standalone=\"no\"?>\r\n",
       "<!DOCTYPE svg PUBLIC \"-//W3C//DTD SVG 1.1//EN\"\r\n",
       " \"http://www.w3.org/Graphics/SVG/1.1/DTD/svg11.dtd\">\r\n",
       "<!-- Generated by graphviz version 2.38.0 (20140413.2041)\r\n",
       " -->\r\n",
       "<!-- Title: %3 Pages: 1 -->\r\n",
       "<svg width=\"303pt\" height=\"131pt\"\r\n",
       " viewBox=\"0.00 0.00 303.00 131.00\" xmlns=\"http://www.w3.org/2000/svg\" xmlns:xlink=\"http://www.w3.org/1999/xlink\">\r\n",
       "<g id=\"graph0\" class=\"graph\" transform=\"scale(1 1) rotate(0) translate(4 127)\">\r\n",
       "<title>%3</title>\r\n",
       "<polygon fill=\"white\" stroke=\"none\" points=\"-4,4 -4,-127 299,-127 299,4 -4,4\"/>\r\n",
       "<!-- A -->\r\n",
       "<g id=\"node1\" class=\"node\"><title>A</title>\r\n",
       "<ellipse fill=\"none\" stroke=\"black\" cx=\"105\" cy=\"-105\" rx=\"27\" ry=\"18\"/>\r\n",
       "<text text-anchor=\"middle\" x=\"105\" y=\"-101.3\" font-family=\"Times New Roman,serif\" font-size=\"14.00\">1</text>\r\n",
       "</g>\r\n",
       "<!-- Ag -->\r\n",
       "<g id=\"node2\" class=\"node\"><title>Ag</title>\r\n",
       "<polygon fill=\"none\" stroke=\"black\" points=\"54,-36 0,-36 0,-0 54,-0 54,-36\"/>\r\n",
       "<text text-anchor=\"middle\" x=\"27\" y=\"-14.3\" font-family=\"Times New Roman,serif\" font-size=\"14.00\">1</text>\r\n",
       "</g>\r\n",
       "<!-- A&#45;&gt;Ag -->\r\n",
       "<g id=\"edge1\" class=\"edge\"><title>A&#45;&gt;Ag</title>\r\n",
       "<path fill=\"none\" stroke=\"black\" d=\"M78.8599,-99.5314C61.271,-95.0301 39.3021,-86.1725 28,-69 23.6191,-62.3436 22.2509,-54.0332 22.2984,-46.1105\"/>\r\n",
       "<polygon fill=\"black\" stroke=\"black\" points=\"25.7922,-46.3219 23.0418,-36.0903 18.8114,-45.8039 25.7922,-46.3219\"/>\r\n",
       "<text text-anchor=\"middle\" x=\"94.5\" y=\"-57.8\" font-family=\"Times New Roman,serif\" font-size=\"14.00\">&lt;=&#45;0.650597497995936</text>\r\n",
       "</g>\r\n",
       "<!-- Ad -->\r\n",
       "<g id=\"node3\" class=\"node\"><title>Ad</title>\r\n",
       "<polygon fill=\"none\" stroke=\"black\" points=\"210,-36 156,-36 156,-0 210,-0 210,-36\"/>\r\n",
       "<text text-anchor=\"middle\" x=\"183\" y=\"-14.3\" font-family=\"Times New Roman,serif\" font-size=\"14.00\">&#45;1</text>\r\n",
       "</g>\r\n",
       "<!-- A&#45;&gt;Ad -->\r\n",
       "<g id=\"edge2\" class=\"edge\"><title>A&#45;&gt;Ad</title>\r\n",
       "<path fill=\"none\" stroke=\"black\" d=\"M126.892,-94.2543C138.268,-88.2977 151.697,-79.7501 161,-69 166.824,-62.2702 171.334,-53.7554 174.712,-45.6687\"/>\r\n",
       "<polygon fill=\"black\" stroke=\"black\" points=\"178.041,-46.7578 178.281,-36.1657 171.488,-44.2962 178.041,-46.7578\"/>\r\n",
       "<text text-anchor=\"middle\" x=\"232.5\" y=\"-57.8\" font-family=\"Times New Roman,serif\" font-size=\"14.00\">&gt;&#45;0.650597497995936</text>\r\n",
       "</g>\r\n",
       "</g>\r\n",
       "</svg>\r\n"
      ],
      "text/plain": [
       "<graphviz.dot.Digraph at 0x173bdc973c8>"
      ]
     },
     "execution_count": 29,
     "metadata": {},
     "output_type": "execute_result"
    }
   ],
   "source": [
    "L=echantillonLS(the_set,5,True)\n",
    "ut.affiche_base(L)\n",
    "abin = construit_AD2(L,0.0)\n",
    "gtree = gv.Digraph(format='png')\n",
    "abin.to_graph(gtree)"
   ]
  },
  {
   "cell_type": "code",
   "execution_count": 30,
   "metadata": {},
   "outputs": [
    {
     "name": "stdout",
     "output_type": "stream",
     "text": [
      "exemple: 0  vraie classe =  [1] - classe trouvee =  1\n",
      "exemple: 1  vraie classe =  [1] - classe trouvee =  1\n",
      "exemple: 2  vraie classe =  [1] - classe trouvee =  1\n",
      "exemple: 3  vraie classe =  [1] - classe trouvee =  1\n",
      "exemple: 4  vraie classe =  [1] - classe trouvee =  1\n",
      "exemple: 5  vraie classe =  [1] - classe trouvee =  1\n",
      "exemple: 6  vraie classe =  [1] - classe trouvee =  1\n",
      "exemple: 7  vraie classe =  [1] - classe trouvee =  1\n",
      "exemple: 8  vraie classe =  [1] - classe trouvee =  1\n",
      "exemple: 9  vraie classe =  [1] - classe trouvee =  1\n",
      "exemple: 10  vraie classe =  [-1] - classe trouvee =  -1\n",
      "exemple: 11  vraie classe =  [-1] - classe trouvee =  -1\n",
      "exemple: 12  vraie classe =  [-1] - classe trouvee =  -1\n",
      "exemple: 13  vraie classe =  [-1] - classe trouvee =  -1\n",
      "exemple: 14  vraie classe =  [-1] - classe trouvee =  -1\n",
      "exemple: 15  vraie classe =  [-1] - classe trouvee =  -1\n",
      "exemple: 16  vraie classe =  [-1] - classe trouvee =  -1\n",
      "exemple: 17  vraie classe =  [-1] - classe trouvee =  -1\n",
      "exemple: 18  vraie classe =  [-1] - classe trouvee =  -1\n",
      "exemple: 19  vraie classe =  [-1] - classe trouvee =  -1\n",
      "\n",
      "accuracy totale: 100.0\n"
     ]
    },
    {
     "data": {
      "image/png": "[encoded data removed]",
      "text/plain": [
       "<Figure size 432x288 with 1 Axes>"
      ]
     },
     "metadata": {
      "needs_background": "light"
     },
     "output_type": "display_data"
    }
   ],
   "source": [
    "foret = ClassifierBaggingTree(10,0.95,0.0,True)\n",
    "foret.train(set_exemples)\n",
    "\n",
    "for i in range(set_exemples.size()):\n",
    "    print(\"exemple:\",i,\" vraie classe = \", set_exemples.getY(i), \"- classe trouvee = \", foret.predict(set_exemples.getX(i)))\n",
    "    \n",
    "ut.plot_frontiere(set_exemples,foret,20)\n",
    "ut.plot2DSet(set_exemples) \n",
    "\n",
    "print(\"\\naccuracy totale:\",foret.accuracy(set_exemples))"
   ]
  },
  {
   "cell_type": "code",
   "execution_count": 31,
   "metadata": {},
   "outputs": [
    {
     "name": "stdout",
     "output_type": "stream",
     "text": [
      "[454, 36, 313, 932, 609, 795, 883, 471, 428, 87, 704, 88, 99, 880, 180, 804, 155, 549, 270, 604, 499, 457, 369, 766, 514, 887, 678, 127, 309, 440, 926, 886, 410, 494, 683, 984, 94, 752, 227, 985, 445, 585, 394, 29, 765, 598, 831, 156, 562, 824, 723, 443, 49, 623, 85, 719, 828, 641, 527, 911, 830, 842, 5, 266, 983, 728, 344, 777, 708, 306, 877, 100, 153, 884, 580, 865, 666, 638, 595, 820, 383, 862, 244, 52, 501, 545, 304, 631, 712, 599, 509, 608, 955, 998, 362, 960, 448, 349, 351, 667]\n"
     ]
    }
   ],
   "source": [
    "l=[i for i in range(0,1000)]\n",
    "print(random.sample(l,100))"
   ]
  },
  {
   "cell_type": "markdown",
   "metadata": {},
   "source": [
    "### Expérimentations\n",
    "\n",
    "<font color=\"RED\" size=\"+1\">**[Q]**</font> Expérimenter l'algorithme précédent de la façon suivante :\n",
    "- générer une base d'apprentissage $X$ contenant au moins 1000 exemples ;\n",
    "- réaliser un échantillon de cette base contenant 50 exemples de chaque classe. Soit $E$ cet échantillon, et soit $F$ l'ensemble des exemples de $X$ qui ne sont pas dans $E$ ;\n",
    "- réaliser un apprentissage par bagging sur $F$ et évaluer le taux de prédiction du modèle obtenu sur $E$ ;\n",
    "- construire la courbe donnant le taux de prédiction obtenu en augmentant la taille de la forêt d'arbres de 1 à 20 arbres. "
   ]
  },
  {
   "cell_type": "code",
   "execution_count": 76,
   "metadata": {},
   "outputs": [],
   "source": [
    "#je pars du principe que j'ai un Labelset. j'en extrait un echantillon , et je veux récup ceux qui sont dans le Labelset de Bae mais pasdans l'echantillon prélevé\n",
    "\n",
    "\n",
    "def LabeltoList(L):\n",
    "    l=[]\n",
    "    for i in range (0,L.size()):\n",
    "        l.append((L.getX(i)[0],L.getX(i)[1],L.getY(i)[0]))\n",
    "    return l\n",
    "\n",
    "\n",
    "def Lminusl(L,l):\n",
    "    f=[]\n",
    "    for i in range (0,len(L)):\n",
    "        if L[i] not in l:\n",
    "            f.append(L[i])\n",
    "    return f  \n",
    "\n",
    "\n",
    "def ListoLabel(l):   # je transforme ma liste en labelset\n",
    "    F=ls.LabeledSet(2) \n",
    "    for i in range(0,len(l)):\n",
    "        F.addExample([l[i][0],l[i][1]],l[i][2])\n",
    "    return F \n",
    "\n"
   ]
  },
  {
   "cell_type": "code",
   "execution_count": 32,
   "metadata": {},
   "outputs": [
    {
     "data": {
      "image/png": "[encoded data removed]",
      "text/plain": [
       "<Figure size 432x288 with 1 Axes>"
      ]
     },
     "metadata": {
      "needs_background": "light"
     },
     "output_type": "display_data"
    }
   ],
   "source": [
    "\n",
    "base=genereDonne(500,2)\n",
    "\n",
    "E=ls.LabeledSet(2)\n",
    "F=ls.LabeledSet(2)\n",
    "\n",
    "for i in range(0,100):\n",
    "    E.addExample(base.getX(i),base.getY(i))\n",
    "\n",
    "for i in range(100,1000):\n",
    "    F.addExample(base.getX(i),base.getY(i))\n",
    "\n",
    "\n",
    "foret = ClassifierBaggingTree(10,0.95,0.0,True)\n",
    "foret.train(F)\n",
    "#print(foret.accuracy(E))\n",
    "\n",
    "arbres=[i for i in range(1,21)]\n",
    "acc=[]\n",
    "for i in range(1,21):\n",
    "    foret = ClassifierBaggingTree(i,0.95,0.0,True)\n",
    "    foret.train(F)\n",
    "    acc.append(foret.accuracy(E))    \n",
    "\n",
    "\n",
    "\n",
    "plt.plot(arbres, acc)\n",
    "plt.show()\n",
    "\n",
    "\n"
   ]
  },
  {
   "cell_type": "code",
   "execution_count": 33,
   "metadata": {},
   "outputs": [
    {
     "name": "stdout",
     "output_type": "stream",
     "text": [
      "Bagging : 20 trees: accuracy totale: train=76.0000 test=60.8889\n"
     ]
    }
   ],
   "source": [
    "# Réaliser un apprentissage par bagging sur E et évaluer le taux de prédiction du modèle sur F\n",
    "foret20 =  ClassifierBaggingTree(20,0.3,0.0,True)\n",
    "foret20.train(E)\n",
    "print(\"Bagging : 20 trees: accuracy totale: train=%.4f test=%.4f\"%(foret20.accuracy(E),foret20.accuracy(F)))"
   ]
  },
  {
   "cell_type": "markdown",
   "metadata": {},
   "source": [
    "### Evaluation par la méthode \"Out Of Bags\"\n",
    "\n",
    "<font color=\"RED\" size=\"+1\">**[Q]**</font> Sur les mêmes données, réaliser une évaluation par la méthode \"Out Of Bags\" vue en cours. Construire la courbe donnant le taux de prédiction OOB en fonction de la taille de la forêt d'arbres.\n",
    "\n",
    "Pour cela, écrire la classe <code>ClassifierBaggingTreeOOB</code> qui étend la classe d'un classifieur bagging pour prendre en compte la spécificité de l'approche OOB.\n",
    "Ainsi, à partir de $\\mathcal{X}$, l'ensemble des données d'apprentissage, chaque arbre $A_i$ de la forêt est associé à 2 sous-ensembles de $\\mathcal{X}$: \n",
    "- $\\mathcal{X}_i$: l'échantillon bootstrap qui sert à construire l'arbre $A_i$\n",
    "- $\\mathcal{T}_i$: l'ensemble des exemples OOB associés à l'arbre $A_i$\n",
    "\n",
    "Le calcul du taux de bonne classification s'effectuera comme suit:\n",
    "- soit $t_i$ le taux de bonne classification de $A_i$ pour l'ensemble OOB $\\mathcal{T}_i$\n",
    "- le taux de global de bonne classification de la forêt d'arbres $A_1$,..., $A_B$ est donné par $\\frac{1}{B}\\sum_{i=1}^{B} t_i$\n"
   ]
  },
  {
   "cell_type": "code",
   "execution_count": 83,
   "metadata": {},
   "outputs": [],
   "source": [
    "class ClassifierBaggingTreeOOB(ClassifierBaggingTree):\n",
    "    \n",
    "    def __init__(self, B,p,seuil,r):\n",
    "        \"\"\" Constructeur de Classifier\n",
    "            Argument:\n",
    "                - intput_dimension (int) : dimension d'entrée des exemples\n",
    "            Hypothèse : input_dimension > 0\n",
    "        \"\"\"\n",
    "        self.B=B\n",
    "        self.p=p\n",
    "        self.r=r\n",
    "        self.seuil=seuil\n",
    "        self.set1=set()\n",
    "        self.set2=set() \n",
    "        \n",
    "    def predict(self, x):\n",
    "        \"\"\" rend la prediction sur x (-1 ou +1)\n",
    "        \"\"\"\n",
    "        s=0\n",
    "        for item in self.set1:\n",
    "            s=s+item.predict(x)\n",
    "\n",
    "                \n",
    "        if(s>=0):\n",
    "            return 1\n",
    "        else:\n",
    "            return -1\n",
    "\n",
    "    def train(self, labeledSet):\n",
    "        \"\"\" Permet d'entrainer le modele sur l'ensemble donné\n",
    "        \"\"\"\n",
    "        self.set1=set()\n",
    "        self.set2=set() \n",
    "        self.ListBase=LabeltoList(labeledSet)\n",
    "        \n",
    "        for i in range(0,self.B):\n",
    "            L=echantillonLS(labeledSet,int(labeledSet.size()*self.p),self.r) \n",
    "            abin = ArbreDecision(self.seuil)\n",
    "            abin.train(L)  #construction de larbre associé  à lexemple\n",
    "            self.set1.add(abin)\n",
    "            #deuxiemme echantillon associé à larbre construit , maisn'est pas utilisé mais pour sa creation\n",
    "            l=LabeltoList(L)\n",
    "            f=Lminusl(self.ListBase,l)\n",
    "            F=ListoLabel(f)\n",
    "            self.set2.add(F) #à chaque arbre on associe son deuxième sous ensemble\n",
    "    \n",
    "    def accuracy(self, dataset):\n",
    "        s=0\n",
    "        for i in range(0,dataset.size()):\n",
    "            x=self.predict(dataset.getX(i))\n",
    "            \n",
    "            if(x==dataset.getY(i)):\n",
    "                s=s+1\n",
    "                \n",
    "        return (s/dataset.size())*100\n",
    "    "
   ]
  },
  {
   "cell_type": "code",
   "execution_count": 133,
   "metadata": {},
   "outputs": [
    {
     "data": {
      "image/png": "[encoded data removed]",
      "text/plain": [
       "<Figure size 432x288 with 1 Axes>"
      ]
     },
     "metadata": {
      "needs_background": "light"
     },
     "output_type": "display_data"
    }
   ],
   "source": [
    "Base=genereDonne(500,2)\n",
    "arbres=[i for i in range(1,21)] # on fait varier la longueur de larbre de 0 à 21\n",
    "taux_globaux=[] # recupere le taux global obtebue pour une foret de n arbre\n",
    "\n",
    "for i in range(1,21):\n",
    "    foret = ClassifierBaggingTreeOOB(i,0.95,0.0,True)\n",
    "    foret.train(Base)\n",
    "    acc=[]\n",
    "    for item in foret.set2: # contient tous les Ti associé à tous les Ai\n",
    "        acc.append(foret.accuracy(item)) \n",
    "    #taux global\n",
    "    s=0\n",
    "    for i in range(0,len(acc)):\n",
    "        s=s+acc[i]\n",
    "    taux_global=s/len(acc)  \n",
    "    taux_globaux.append(taux_global)\n",
    "    \n",
    "\n",
    "plt.plot(arbres, taux_globaux)\n",
    "plt.show()\n",
    "   \n",
    "\n",
    "\n",
    "   \n",
    "    "
   ]
  },
  {
   "cell_type": "markdown",
   "metadata": {
    "collapsed": true
   },
   "source": [
    "## Etape 3: Random forests\n",
    "\n",
    "<font color=\"RED\" size=\"+1\">**[Q]**</font> Ecrire et tester la classe <code>ClassifierRandomForest</code> qui implémente l'algorithme des random forests vu en cours.\n",
    "\n",
    "Pour cela, vous devrez:\n",
    "- définir une méthode <code>construit_AD_aleatoire(LSet,epsilon,nbatt)</code> qui utilise $nbatt$ attributs choisis aléatoirement à chaque niveau de la construction de l'arbre\n",
    "- définir une nouvelle classe <code>ArbreDecisionAleatoire</code> qui étend la classe <code>ArbreDecision</code> en surchargeant la méthode <code>train</code>. Le constructeur d'un tel arbre prendra en argument le nombre d'attributs à utiliser lors de la construction de l'arbre."
   ]
  },
  {
   "cell_type": "code",
   "execution_count": 134,
   "metadata": {},
   "outputs": [],
   "source": [
    "def construit_AD_aleatoire(LSet,epsilon,nbatt):\n",
    "    \"\"\" LSet : LabeledSet\n",
    "        epsilon : seuil d'entropie pour le critère d'arrêt \n",
    "    \"\"\"\n",
    "    un_arbre= ArbreBinaire()\n",
    "    \n",
    "    if(entropie(LSet)<=epsilon):\n",
    "        #arbre=construit_AD(LSet,epsilon)\n",
    "        un_arbre.ajoute_feuille(classe_majoritaire(LSet))\n",
    "        return un_arbre\n",
    "    else:\n",
    "        min_entropie=10000000\n",
    "        #on cherche l'attribue de larbre qui donne l'entropie la plus basse\n",
    "        #Mais cette fois ci , on ne vas pas chercher le chercher parmis tous les attribue de larbre\n",
    "        #on va le chercher parmis une poignée de nbatt choisie aléatoirement\n",
    "        l=tirage([0,1],1,False) # on sais qu'il y a que deux attribue , donc pour que ce soit intéressant\n",
    "        #choisir parmis un seul , permettrait peut etre d'exclure celui qui est tout le temps \n",
    "        #choisit , si celui ci possédait une entropie inférieur à lattribut choisit\n",
    "        \n",
    "        #on détermine lentropie la plus basse parmis les len(l) attribut gardés\n",
    "        #on en a gardé que un seul parcequil n'y a que 2 attributs\n",
    "        #on examine 1 attribut au lieu de 2\n",
    "        for col in range(0,len(l)):  #il y a autant d'attribut , que de coordonnées dans le vecteur x\n",
    "            mon_tuple=discretise(LSet, l[col])\n",
    "            seuil=mon_tuple[0]                 #lattribut qui minimise lentropi corrspond à la meilleur question quon pourrait poser\n",
    "            entropiee=mon_tuple[1]\n",
    "            if(entropiee<min_entropie):\n",
    "                min_entropie=entropiee\n",
    "                seuil_min=seuil\n",
    "                att=l[col]    \n",
    "                \n",
    "        if(entropie(LSet)-min_entropie <=epsilon):       \n",
    "            un_arbre.ajoute_feuille(classe_majoritaire(LSet))\n",
    "            return un_arbre\n",
    "                \n",
    "        else:     \n",
    "            Linf, Lsup = divise(LSet,att,seuil_min)\n",
    "            un_arbre.ajoute_fils(construit_AD2(Linf,epsilon),construit_AD2(Lsup,epsilon),att,seuil_min)\n",
    "            return un_arbre\n",
    "            #faire attention à ne pas faire le return directementsur un_arbre.ajoute_fils.....\n"
   ]
  },
  {
   "cell_type": "code",
   "execution_count": 135,
   "metadata": {},
   "outputs": [
    {
     "data": {
      "image/svg+xml": [
       "<?xml version=\"1.0\" encoding=\"UTF-8\" standalone=\"no\"?>\r\n",
       "<!DOCTYPE svg PUBLIC \"-//W3C//DTD SVG 1.1//EN\"\r\n",
       " \"http://www.w3.org/Graphics/SVG/1.1/DTD/svg11.dtd\">\r\n",
       "<!-- Generated by graphviz version 2.38.0 (20140413.2041)\r\n",
       " -->\r\n",
       "<!-- Title: %3 Pages: 1 -->\r\n",
       "<svg width=\"568pt\" height=\"740pt\"\r\n",
       " viewBox=\"0.00 0.00 568.00 740.00\" xmlns=\"http://www.w3.org/2000/svg\" xmlns:xlink=\"http://www.w3.org/1999/xlink\">\r\n",
       "<g id=\"graph0\" class=\"graph\" transform=\"scale(1 1) rotate(0) translate(4 736)\">\r\n",
       "<title>%3</title>\r\n",
       "<polygon fill=\"white\" stroke=\"none\" points=\"-4,4 -4,-736 564,-736 564,4 -4,4\"/>\r\n",
       "<!-- A -->\r\n",
       "<g id=\"node1\" class=\"node\"><title>A</title>\r\n",
       "<ellipse fill=\"none\" stroke=\"black\" cx=\"267\" cy=\"-714\" rx=\"27\" ry=\"18\"/>\r\n",
       "<text text-anchor=\"middle\" x=\"267\" y=\"-710.3\" font-family=\"Times New Roman,serif\" font-size=\"14.00\">1</text>\r\n",
       "</g>\r\n",
       "<!-- Ag -->\r\n",
       "<g id=\"node2\" class=\"node\"><title>Ag</title>\r\n",
       "<ellipse fill=\"none\" stroke=\"black\" cx=\"188\" cy=\"-627\" rx=\"27\" ry=\"18\"/>\r\n",
       "<text text-anchor=\"middle\" x=\"188\" y=\"-623.3\" font-family=\"Times New Roman,serif\" font-size=\"14.00\">0</text>\r\n",
       "</g>\r\n",
       "<!-- A&#45;&gt;Ag -->\r\n",
       "<g id=\"edge15\" class=\"edge\"><title>A&#45;&gt;Ag</title>\r\n",
       "<path fill=\"none\" stroke=\"black\" d=\"M240.912,-708.723C223.037,-704.299 200.548,-695.454 189,-678 184.603,-671.354 183.23,-663.047 183.278,-655.124\"/>\r\n",
       "<polygon fill=\"black\" stroke=\"black\" points=\"186.772,-655.334 184.026,-645.101 179.792,-654.813 186.772,-655.334\"/>\r\n",
       "<text text-anchor=\"middle\" x=\"257\" y=\"-666.8\" font-family=\"Times New Roman,serif\" font-size=\"14.00\">&lt;=0.9078970757434105</text>\r\n",
       "</g>\r\n",
       "<!-- Ad -->\r\n",
       "<g id=\"node17\" class=\"node\"><title>Ad</title>\r\n",
       "<polygon fill=\"none\" stroke=\"black\" points=\"374,-645 320,-645 320,-609 374,-609 374,-645\"/>\r\n",
       "<text text-anchor=\"middle\" x=\"347\" y=\"-623.3\" font-family=\"Times New Roman,serif\" font-size=\"14.00\">&#45;1</text>\r\n",
       "</g>\r\n",
       "<!-- A&#45;&gt;Ad -->\r\n",
       "<g id=\"edge16\" class=\"edge\"><title>A&#45;&gt;Ad</title>\r\n",
       "<path fill=\"none\" stroke=\"black\" d=\"M289.394,-703.558C301.238,-697.644 315.293,-689.041 325,-678 330.876,-671.316 335.401,-662.813 338.775,-654.724\"/>\r\n",
       "<polygon fill=\"black\" stroke=\"black\" points=\"342.108,-655.803 342.333,-645.211 335.551,-653.351 342.108,-655.803\"/>\r\n",
       "<text text-anchor=\"middle\" x=\"398.5\" y=\"-666.8\" font-family=\"Times New Roman,serif\" font-size=\"14.00\">&gt;0.9078970757434105</text>\r\n",
       "</g>\r\n",
       "<!-- Agg -->\r\n",
       "<g id=\"node3\" class=\"node\"><title>Agg</title>\r\n",
       "<polygon fill=\"none\" stroke=\"black\" points=\"134,-558 80,-558 80,-522 134,-522 134,-558\"/>\r\n",
       "<text text-anchor=\"middle\" x=\"107\" y=\"-536.3\" font-family=\"Times New Roman,serif\" font-size=\"14.00\">&#45;1</text>\r\n",
       "</g>\r\n",
       "<!-- Ag&#45;&gt;Agg -->\r\n",
       "<g id=\"edge13\" class=\"edge\"><title>Ag&#45;&gt;Agg</title>\r\n",
       "<path fill=\"none\" stroke=\"black\" d=\"M161.653,-622.007C143.268,-617.709 119.962,-608.897 108,-591 103.572,-584.375 102.19,-576.073 102.24,-568.149\"/>\r\n",
       "<polygon fill=\"black\" stroke=\"black\" points=\"105.734,-568.356 102.994,-558.122 98.754,-567.831 105.734,-568.356\"/>\r\n",
       "<text text-anchor=\"middle\" x=\"178\" y=\"-579.8\" font-family=\"Times New Roman,serif\" font-size=\"14.00\">&lt;=&#45;0.7367203987695325</text>\r\n",
       "</g>\r\n",
       "<!-- Agd -->\r\n",
       "<g id=\"node4\" class=\"node\"><title>Agd</title>\r\n",
       "<ellipse fill=\"none\" stroke=\"black\" cx=\"270\" cy=\"-540\" rx=\"27\" ry=\"18\"/>\r\n",
       "<text text-anchor=\"middle\" x=\"270\" y=\"-536.3\" font-family=\"Times New Roman,serif\" font-size=\"14.00\">0</text>\r\n",
       "</g>\r\n",
       "<!-- Ag&#45;&gt;Agd -->\r\n",
       "<g id=\"edge14\" class=\"edge\"><title>Ag&#45;&gt;Agd</title>\r\n",
       "<path fill=\"none\" stroke=\"black\" d=\"M210.583,-616.999C222.956,-611.13 237.802,-602.427 248,-591 254.016,-584.259 258.601,-575.611 261.987,-567.409\"/>\r\n",
       "<polygon fill=\"black\" stroke=\"black\" points=\"265.36,-568.377 265.538,-557.783 258.793,-565.954 265.36,-568.377\"/>\r\n",
       "<text text-anchor=\"middle\" x=\"324\" y=\"-579.8\" font-family=\"Times New Roman,serif\" font-size=\"14.00\">&gt;&#45;0.7367203987695325</text>\r\n",
       "</g>\r\n",
       "<!-- Agdg -->\r\n",
       "<g id=\"node5\" class=\"node\"><title>Agdg</title>\r\n",
       "<ellipse fill=\"none\" stroke=\"black\" cx=\"191\" cy=\"-453\" rx=\"27\" ry=\"18\"/>\r\n",
       "<text text-anchor=\"middle\" x=\"191\" y=\"-449.3\" font-family=\"Times New Roman,serif\" font-size=\"14.00\">0</text>\r\n",
       "</g>\r\n",
       "<!-- Agd&#45;&gt;Agdg -->\r\n",
       "<g id=\"edge11\" class=\"edge\"><title>Agd&#45;&gt;Agdg</title>\r\n",
       "<path fill=\"none\" stroke=\"black\" d=\"M243.912,-534.723C226.037,-530.299 203.548,-521.454 192,-504 187.603,-497.354 186.23,-489.047 186.278,-481.124\"/>\r\n",
       "<polygon fill=\"black\" stroke=\"black\" points=\"189.772,-481.334 187.026,-471.101 182.792,-480.813 189.772,-481.334\"/>\r\n",
       "<text text-anchor=\"middle\" x=\"260\" y=\"-492.8\" font-family=\"Times New Roman,serif\" font-size=\"14.00\">&lt;=0.8121217590358296</text>\r\n",
       "</g>\r\n",
       "<!-- Agdd -->\r\n",
       "<g id=\"node16\" class=\"node\"><title>Agdd</title>\r\n",
       "<polygon fill=\"none\" stroke=\"black\" points=\"377,-471 323,-471 323,-435 377,-435 377,-471\"/>\r\n",
       "<text text-anchor=\"middle\" x=\"350\" y=\"-449.3\" font-family=\"Times New Roman,serif\" font-size=\"14.00\">&#45;1</text>\r\n",
       "</g>\r\n",
       "<!-- Agd&#45;&gt;Agdd -->\r\n",
       "<g id=\"edge12\" class=\"edge\"><title>Agd&#45;&gt;Agdd</title>\r\n",
       "<path fill=\"none\" stroke=\"black\" d=\"M292.394,-529.558C304.238,-523.644 318.293,-515.041 328,-504 333.876,-497.316 338.401,-488.813 341.775,-480.724\"/>\r\n",
       "<polygon fill=\"black\" stroke=\"black\" points=\"345.108,-481.803 345.333,-471.211 338.551,-479.351 345.108,-481.803\"/>\r\n",
       "<text text-anchor=\"middle\" x=\"401.5\" y=\"-492.8\" font-family=\"Times New Roman,serif\" font-size=\"14.00\">&gt;0.8121217590358296</text>\r\n",
       "</g>\r\n",
       "<!-- Agdgg -->\r\n",
       "<g id=\"node6\" class=\"node\"><title>Agdgg</title>\r\n",
       "<ellipse fill=\"none\" stroke=\"black\" cx=\"112\" cy=\"-366\" rx=\"27\" ry=\"18\"/>\r\n",
       "<text text-anchor=\"middle\" x=\"112\" y=\"-362.3\" font-family=\"Times New Roman,serif\" font-size=\"14.00\">0</text>\r\n",
       "</g>\r\n",
       "<!-- Agdg&#45;&gt;Agdgg -->\r\n",
       "<g id=\"edge9\" class=\"edge\"><title>Agdg&#45;&gt;Agdgg</title>\r\n",
       "<path fill=\"none\" stroke=\"black\" d=\"M164.912,-447.723C147.037,-443.299 124.548,-434.454 113,-417 108.603,-410.354 107.23,-402.047 107.278,-394.124\"/>\r\n",
       "<polygon fill=\"black\" stroke=\"black\" points=\"110.772,-394.334 108.026,-384.101 103.792,-393.813 110.772,-394.334\"/>\r\n",
       "<text text-anchor=\"middle\" x=\"181\" y=\"-405.8\" font-family=\"Times New Roman,serif\" font-size=\"14.00\">&lt;=0.5093731068249234</text>\r\n",
       "</g>\r\n",
       "<!-- Agdgd -->\r\n",
       "<g id=\"node15\" class=\"node\"><title>Agdgd</title>\r\n",
       "<polygon fill=\"none\" stroke=\"black\" points=\"298,-384 244,-384 244,-348 298,-348 298,-384\"/>\r\n",
       "<text text-anchor=\"middle\" x=\"271\" y=\"-362.3\" font-family=\"Times New Roman,serif\" font-size=\"14.00\">1</text>\r\n",
       "</g>\r\n",
       "<!-- Agdg&#45;&gt;Agdgd -->\r\n",
       "<g id=\"edge10\" class=\"edge\"><title>Agdg&#45;&gt;Agdgd</title>\r\n",
       "<path fill=\"none\" stroke=\"black\" d=\"M213.394,-442.558C225.238,-436.644 239.293,-428.041 249,-417 254.876,-410.316 259.401,-401.813 262.775,-393.724\"/>\r\n",
       "<polygon fill=\"black\" stroke=\"black\" points=\"266.108,-394.803 266.333,-384.211 259.551,-392.351 266.108,-394.803\"/>\r\n",
       "<text text-anchor=\"middle\" x=\"322.5\" y=\"-405.8\" font-family=\"Times New Roman,serif\" font-size=\"14.00\">&gt;0.5093731068249234</text>\r\n",
       "</g>\r\n",
       "<!-- Agdggg -->\r\n",
       "<g id=\"node7\" class=\"node\"><title>Agdggg</title>\r\n",
       "<polygon fill=\"none\" stroke=\"black\" points=\"54,-297 0,-297 0,-261 54,-261 54,-297\"/>\r\n",
       "<text text-anchor=\"middle\" x=\"27\" y=\"-275.3\" font-family=\"Times New Roman,serif\" font-size=\"14.00\">1</text>\r\n",
       "</g>\r\n",
       "<!-- Agdgg&#45;&gt;Agdggg -->\r\n",
       "<g id=\"edge7\" class=\"edge\"><title>Agdgg&#45;&gt;Agdggg</title>\r\n",
       "<path fill=\"none\" stroke=\"black\" d=\"M85.592,-361.644C66.1327,-357.647 40.897,-348.933 28,-330 23.5137,-323.414 22.1157,-315.124 22.1682,-307.198\"/>\r\n",
       "<polygon fill=\"black\" stroke=\"black\" points=\"25.6629,-307.399 22.9351,-297.162 18.6833,-306.866 25.6629,-307.399\"/>\r\n",
       "<text text-anchor=\"middle\" x=\"101.5\" y=\"-318.8\" font-family=\"Times New Roman,serif\" font-size=\"14.00\">&lt;=&#45;0.39624806818851077</text>\r\n",
       "</g>\r\n",
       "<!-- Agdggd -->\r\n",
       "<g id=\"node8\" class=\"node\"><title>Agdggd</title>\r\n",
       "<ellipse fill=\"none\" stroke=\"black\" cx=\"197\" cy=\"-279\" rx=\"27\" ry=\"18\"/>\r\n",
       "<text text-anchor=\"middle\" x=\"197\" y=\"-275.3\" font-family=\"Times New Roman,serif\" font-size=\"14.00\">0</text>\r\n",
       "</g>\r\n",
       "<!-- Agdgg&#45;&gt;Agdggd -->\r\n",
       "<g id=\"edge8\" class=\"edge\"><title>Agdgg&#45;&gt;Agdggd</title>\r\n",
       "<path fill=\"none\" stroke=\"black\" d=\"M135.103,-356.513C148.215,-350.723 164.127,-341.929 175,-330 181.086,-323.323 185.689,-314.691 189.07,-306.484\"/>\r\n",
       "<polygon fill=\"black\" stroke=\"black\" points=\"192.448,-307.438 192.605,-296.844 185.876,-305.028 192.448,-307.438\"/>\r\n",
       "<text text-anchor=\"middle\" x=\"254.5\" y=\"-318.8\" font-family=\"Times New Roman,serif\" font-size=\"14.00\">&gt;&#45;0.39624806818851077</text>\r\n",
       "</g>\r\n",
       "<!-- Agdggdg -->\r\n",
       "<g id=\"node9\" class=\"node\"><title>Agdggdg</title>\r\n",
       "<polygon fill=\"none\" stroke=\"black\" points=\"139,-210 85,-210 85,-174 139,-174 139,-210\"/>\r\n",
       "<text text-anchor=\"middle\" x=\"112\" y=\"-188.3\" font-family=\"Times New Roman,serif\" font-size=\"14.00\">&#45;1</text>\r\n",
       "</g>\r\n",
       "<!-- Agdggd&#45;&gt;Agdggdg -->\r\n",
       "<g id=\"edge5\" class=\"edge\"><title>Agdggd&#45;&gt;Agdggdg</title>\r\n",
       "<path fill=\"none\" stroke=\"black\" d=\"M170.592,-274.644C151.133,-270.647 125.897,-261.933 113,-243 108.514,-236.414 107.116,-228.124 107.168,-220.198\"/>\r\n",
       "<polygon fill=\"black\" stroke=\"black\" points=\"110.663,-220.399 107.935,-210.162 103.683,-219.866 110.663,-220.399\"/>\r\n",
       "<text text-anchor=\"middle\" x=\"186.5\" y=\"-231.8\" font-family=\"Times New Roman,serif\" font-size=\"14.00\">&lt;=&#45;0.04649558274890946</text>\r\n",
       "</g>\r\n",
       "<!-- Agdggdd -->\r\n",
       "<g id=\"node10\" class=\"node\"><title>Agdggdd</title>\r\n",
       "<ellipse fill=\"none\" stroke=\"black\" cx=\"282\" cy=\"-192\" rx=\"27\" ry=\"18\"/>\r\n",
       "<text text-anchor=\"middle\" x=\"282\" y=\"-188.3\" font-family=\"Times New Roman,serif\" font-size=\"14.00\">0</text>\r\n",
       "</g>\r\n",
       "<!-- Agdggd&#45;&gt;Agdggdd -->\r\n",
       "<g id=\"edge6\" class=\"edge\"><title>Agdggd&#45;&gt;Agdggdd</title>\r\n",
       "<path fill=\"none\" stroke=\"black\" d=\"M220.103,-269.513C233.215,-263.723 249.127,-254.929 260,-243 266.086,-236.323 270.689,-227.691 274.07,-219.484\"/>\r\n",
       "<polygon fill=\"black\" stroke=\"black\" points=\"277.448,-220.438 277.605,-209.844 270.876,-218.028 277.448,-220.438\"/>\r\n",
       "<text text-anchor=\"middle\" x=\"339.5\" y=\"-231.8\" font-family=\"Times New Roman,serif\" font-size=\"14.00\">&gt;&#45;0.04649558274890946</text>\r\n",
       "</g>\r\n",
       "<!-- Agdggddg -->\r\n",
       "<g id=\"node11\" class=\"node\"><title>Agdggddg</title>\r\n",
       "<polygon fill=\"none\" stroke=\"black\" points=\"227,-123 173,-123 173,-87 227,-87 227,-123\"/>\r\n",
       "<text text-anchor=\"middle\" x=\"200\" y=\"-101.3\" font-family=\"Times New Roman,serif\" font-size=\"14.00\">1</text>\r\n",
       "</g>\r\n",
       "<!-- Agdggdd&#45;&gt;Agdggddg -->\r\n",
       "<g id=\"edge3\" class=\"edge\"><title>Agdggdd&#45;&gt;Agdggddg</title>\r\n",
       "<path fill=\"none\" stroke=\"black\" d=\"M255.726,-187.192C237.057,-182.975 213.214,-174.185 201,-156 196.557,-149.385 195.171,-141.086 195.222,-133.162\"/>\r\n",
       "<polygon fill=\"black\" stroke=\"black\" points=\"198.716,-133.367 195.979,-123.132 191.736,-132.84 198.716,-133.367\"/>\r\n",
       "<text text-anchor=\"middle\" x=\"272\" y=\"-144.8\" font-family=\"Times New Roman,serif\" font-size=\"14.00\">&lt;=0.12111446571638214</text>\r\n",
       "</g>\r\n",
       "<!-- Agdggddd -->\r\n",
       "<g id=\"node12\" class=\"node\"><title>Agdggddd</title>\r\n",
       "<ellipse fill=\"none\" stroke=\"black\" cx=\"365\" cy=\"-105\" rx=\"27\" ry=\"18\"/>\r\n",
       "<text text-anchor=\"middle\" x=\"365\" y=\"-101.3\" font-family=\"Times New Roman,serif\" font-size=\"14.00\">1</text>\r\n",
       "</g>\r\n",
       "<!-- Agdggdd&#45;&gt;Agdggddd -->\r\n",
       "<g id=\"edge4\" class=\"edge\"><title>Agdggdd&#45;&gt;Agdggddd</title>\r\n",
       "<path fill=\"none\" stroke=\"black\" d=\"M304.961,-182.08C317.54,-176.236 332.634,-167.532 343,-156 349.04,-149.281 353.631,-140.638 357.015,-132.435\"/>\r\n",
       "<polygon fill=\"black\" stroke=\"black\" points=\"360.39,-133.398 360.561,-122.804 353.821,-130.979 360.39,-133.398\"/>\r\n",
       "<text text-anchor=\"middle\" x=\"420\" y=\"-144.8\" font-family=\"Times New Roman,serif\" font-size=\"14.00\">&gt;0.12111446571638214</text>\r\n",
       "</g>\r\n",
       "<!-- Agdggdddg -->\r\n",
       "<g id=\"node13\" class=\"node\"><title>Agdggdddg</title>\r\n",
       "<polygon fill=\"none\" stroke=\"black\" points=\"313,-36 259,-36 259,-0 313,-0 313,-36\"/>\r\n",
       "<text text-anchor=\"middle\" x=\"286\" y=\"-14.3\" font-family=\"Times New Roman,serif\" font-size=\"14.00\">&#45;1</text>\r\n",
       "</g>\r\n",
       "<!-- Agdggddd&#45;&gt;Agdggdddg -->\r\n",
       "<g id=\"edge1\" class=\"edge\"><title>Agdggddd&#45;&gt;Agdggdddg</title>\r\n",
       "<path fill=\"none\" stroke=\"black\" d=\"M338.912,-99.7231C321.037,-95.2986 298.548,-86.4536 287,-69 282.603,-62.3542 281.23,-54.0469 281.278,-46.1236\"/>\r\n",
       "<polygon fill=\"black\" stroke=\"black\" points=\"284.772,-46.3336 282.026,-36.101 277.792,-45.8132 284.772,-46.3336\"/>\r\n",
       "<text text-anchor=\"middle\" x=\"355\" y=\"-57.8\" font-family=\"Times New Roman,serif\" font-size=\"14.00\">&lt;=0.4547570532405961</text>\r\n",
       "</g>\r\n",
       "<!-- Agdggdddd -->\r\n",
       "<g id=\"node14\" class=\"node\"><title>Agdggdddd</title>\r\n",
       "<polygon fill=\"none\" stroke=\"black\" points=\"472,-36 418,-36 418,-0 472,-0 472,-36\"/>\r\n",
       "<text text-anchor=\"middle\" x=\"445\" y=\"-14.3\" font-family=\"Times New Roman,serif\" font-size=\"14.00\">1</text>\r\n",
       "</g>\r\n",
       "<!-- Agdggddd&#45;&gt;Agdggdddd -->\r\n",
       "<g id=\"edge2\" class=\"edge\"><title>Agdggddd&#45;&gt;Agdggdddd</title>\r\n",
       "<path fill=\"none\" stroke=\"black\" d=\"M387.394,-94.5582C399.238,-88.6443 413.293,-80.0409 423,-69 428.876,-62.316 433.401,-53.8134 436.775,-45.7238\"/>\r\n",
       "<polygon fill=\"black\" stroke=\"black\" points=\"440.108,-46.8035 440.333,-36.211 433.551,-44.3508 440.108,-46.8035\"/>\r\n",
       "<text text-anchor=\"middle\" x=\"496.5\" y=\"-57.8\" font-family=\"Times New Roman,serif\" font-size=\"14.00\">&gt;0.4547570532405961</text>\r\n",
       "</g>\r\n",
       "</g>\r\n",
       "</svg>\r\n"
      ],
      "text/plain": [
       "<graphviz.dot.Digraph at 0x173be0e9860>"
      ]
     },
     "execution_count": 135,
     "metadata": {},
     "output_type": "execute_result"
    }
   ],
   "source": [
    "\n",
    "#mettre nbatt=1 car on a que deux attribut \n",
    "#au lieu de faire le choix de lentropie minimale parmis les 2 attribut lors de la construction d'1 \n",
    "#niveau de larbre , on réduit le nombre d'attribut , commeça on fait en sorte de ne pas garder\n",
    "#les attributs tout le temps choisit\n",
    "ex=genereDonne(15,2)\n",
    "abin = construit_AD_aleatoire(ex,0.0,1)\n",
    "gtree = gv.Digraph(format='png')\n",
    "abin.to_graph(gtree)"
   ]
  },
  {
   "cell_type": "code",
   "execution_count": 136,
   "metadata": {},
   "outputs": [],
   "source": [
    "class ArbreDecisionAleatoire(ArbreDecision):\n",
    "    # Constructeur\n",
    "    def __init__(self,epsilon,nbatt):\n",
    "        # valeur seuil d'entropie pour arrêter la construction\n",
    "        self.epsilon= epsilon\n",
    "        self.racine = None\n",
    "        self.nbatt=nbatt\n",
    "    \n",
    "    # Permet de calculer la prediction sur x => renvoie un score\n",
    "    def predict(self,x):\n",
    "        # classification de l'exemple x avec l'arbre de décision\n",
    "        # on rend 0 (classe -1) ou 1 (classe 1)\n",
    "        classe = self.racine.classifie(x)\n",
    "        if (classe == 1):\n",
    "            return(1)\n",
    "        else:\n",
    "            return(-1)\n",
    "    \n",
    "    # Permet d'entrainer le modele sur un ensemble de données\n",
    "    def train(self,set):\n",
    "        # construction de l'arbre de décision \n",
    "        self.set=set\n",
    "        self.racine = construit_AD_aleatoire(set,self.epsilon,self.nbatt)\n",
    "\n",
    "    # Permet d'afficher l'arbre\n",
    "    def plot(self):\n",
    "        gtree = gv.Digraph(format='png')\n",
    "        return self.racine.to_graph(gtree)\n",
    "        "
   ]
  },
  {
   "cell_type": "code",
   "execution_count": 139,
   "metadata": {},
   "outputs": [],
   "source": [
    "class ClassifierRandomForest(cl.Classifier):\n",
    "    \n",
    "    def __init__(self, B,p,seuil,r,nbatt):\n",
    "        \"\"\" Constructeur de Classifier\n",
    "            Argument:\n",
    "                - intput_dimension (int) : dimension d'entrée des exemples\n",
    "            Hypothèse : input_dimension > 0\n",
    "        \"\"\"\n",
    "        self.B=B\n",
    "        self.p=p\n",
    "        self.r=r\n",
    "        self.seuil=seuil\n",
    "        self.nbatt=nbatt\n",
    "        \n",
    "    def predict(self, x):\n",
    "        \"\"\" rend la prediction sur x (-1 ou +1)\n",
    "        \"\"\"\n",
    "        s=0\n",
    "        for item in self.set1:\n",
    "            s=s+item.predict(x)\n",
    "\n",
    "                \n",
    "        if(s>=0):\n",
    "            return 1\n",
    "        else:\n",
    "            return -1\n",
    "\n",
    "    def train(self, labeledSet):\n",
    "        \"\"\" Permet d'entrainer le modele sur l'ensemble donné\n",
    "        \"\"\"\n",
    "        self.set1=set()\n",
    "        \n",
    "        for i in range(0,self.B):\n",
    "            L=echantillonLS(labeledSet,int(labeledSet.size()*self.p),self.r) \n",
    "            #ls.affiche_base(L)\n",
    "            abin = ArbreDecisionAleatoire(self.seuil,self.nbatt) #je met nbatt=1 parceque on est dans classes binaires, on il n'y a que 2 attributs,ainsi lors de la construction de larbre je choissirait 1 seul attribue parmis les deux , pour determiner lattribut qui lentropie la plus basse(etvu que lattribue est seul , ca sera forcement lui qui sera choisit pour créer le niveau de larbre)\n",
    "            abin.train(L)\n",
    "            self.set1.add(abin)\n",
    "        \n",
    "    \n",
    "    def accuracy(self, dataset):\n",
    "        s=0\n",
    "        for i in range(0,dataset.size()):\n",
    "            x=self.predict(dataset.getX(i))\n",
    "            \n",
    "            if(x==dataset.getY(i)):\n",
    "                s=s+1\n",
    "                \n",
    "        return (s/dataset.size())*100\n",
    "    \n",
    "\n",
    "\n",
    "\n"
   ]
  },
  {
   "cell_type": "markdown",
   "metadata": {},
   "source": [
    "## Etape 4: expérimentation\n",
    "\n",
    "<font color=\"RED\" size=\"+1\">**[Q]**</font> Comparer le bagging d'arbres et les random forests sur d'autres bases d'apprentissage (réelles ou générées aléatoirement). Construire la courbe donnant le taux de prédiction pour une forêt d'arbres variant de 1 à 100 arbres (cela peut prendre du temps, tester sur un nombre réduit d'arbres dans un premier temps)."
   ]
  },
  {
   "cell_type": "code",
   "execution_count": 142,
   "metadata": {},
   "outputs": [
    {
     "data": {
      "image/png": "[encoded data removed]",
      "text/plain": [
       "<Figure size 432x288 with 1 Axes>"
      ]
     },
     "metadata": {
      "needs_background": "light"
     },
     "output_type": "display_data"
    }
   ],
   "source": [
    "#taux de prédiction en utilisant le classifieur random forest\n",
    "\n",
    "\n",
    "Base=genereDonne(500,2)\n",
    "arbres=[i for i in range(1,100)] # on fait varier la longueur de larbre de 0 à 21\n",
    "acc=[]\n",
    "\n",
    "\n",
    "for i in range(1,100):\n",
    "    foret = ClassifierRandomForest(i,0.95,0.0,True,1) #je met nbatt=1 parceque on est dans classes binaires, on il n'y a que 2 attributs,ainsi lors de la construction de larbre je choissirait 1 seul attribue parmis les deux , pour determiner lattribut qui lentropie la plus basse(etvu que lattribue est seul , ca sera forcement lui qui sera choisit pour créer le niveau de larbre)\n",
    "    foret.train(F)\n",
    "    acc.append(foret.accuracy(E))    \n",
    "\n",
    "\n",
    "\n",
    "plt.plot(arbres, acc)\n",
    "plt.show()\n"
   ]
  },
  {
   "cell_type": "code",
   "execution_count": 143,
   "metadata": {},
   "outputs": [
    {
     "data": {
      "image/png": "[encoded data removed]",
      "text/plain": [
       "<Figure size 432x288 with 1 Axes>"
      ]
     },
     "metadata": {
      "needs_background": "light"
     },
     "output_type": "display_data"
    }
   ],
   "source": [
    "#taux de prédiction en utilisant le classifieur OUt of Bags\n",
    "\n",
    "Base=genereDonne(500,2)\n",
    "arbres=[i for i in range(1,21)] # on fait varier la longueur de larbre de 0 à 21\n",
    "taux_globaux=[] # recupere le taux global obtebue pour une foret de n arbre\n",
    "\n",
    "for i in range(1,21):\n",
    "    foret = ClassifierBaggingTreeOOB(i,0.95,0.0,True)\n",
    "    foret.train(Base)\n",
    "    acc=[]\n",
    "    for item in foret.set2: # contient tous les Ti associé à tous les Ai\n",
    "        acc.append(foret.accuracy(item)) \n",
    "    #taux global\n",
    "    s=0\n",
    "    for i in range(0,len(acc)):\n",
    "        s=s+acc[i]\n",
    "    taux_global=s/len(acc)  \n",
    "    taux_globaux.append(taux_global)\n",
    "    \n",
    "\n",
    "plt.plot(arbres, taux_globaux)\n",
    "plt.show()\n",
    "   "
   ]
  },
  {
   "cell_type": "code",
   "execution_count": 144,
   "metadata": {},
   "outputs": [],
   "source": [
    "#on remarque que le classifieur OUt of bags est meilleurs que le classifieurs random Forest\"\n",
    "#c'est bizarre parceque le random forest devrai être une amélioration du bagging"
   ]
  },
  {
   "cell_type": "markdown",
   "metadata": {},
   "source": [
    "## Exercices à faire chez vous (sur papier)\n",
    "\n",
    "Pour vous entraîner sans machine... *(exercice de l'examen 2017)*\n",
    "\n",
    "Soit $V=\\{v_{1}, v_{2},..., v_{n}\\}$ un ensemble de $n$ valeurs réelles ordonnées,\n",
    "  telles que $v_1 \\geq v_2 \\geq \\ldots \\geq v_{n}$.. On note $\\bar{v}$ la valeur moyenne de $V$. La variance de $V$, $var(V)$ est définie par:\n",
    "$var(V) = \\frac{1}{n} \\sum_{i=1}^{n} (v_{i} - \\bar{v})^2$. \n",
    "\n",
    "Et soit $W=\\{w_{1}, w_{2},..., w_{n}\\}$ tel que,pour tout $i=1,...,n$.\n",
    "\n",
    "\n",
    "** [Q] ** Donner l'expression de $\\bar{v}$ en fonction des valeurs de $V$.\n",
    "\n",
    "** [Q] **  Montrer que $var(aV+b) = a^2 var(V)$.\n",
    "\n",
    "** [Q] ** Donner l'expression de $V\\cdot W$ (le produit scalaire) en fonction des coordonnées\n",
    "   de $V$ et de $W$.\n",
    "   \n",
    "** [Q] ** Comment doit-on définir $W$ si on souhaite que $V\\cdot W = \\bar{v}$ ?\n",
    "\n",
    "\n",
    "** [Q] ** Comment doit-on définir $W$ si on souhaite que\n",
    "   $V\\cdot W = \\displaystyle\\max_{i=1,...n} v_i$ ? Même question si on souhaite que\n",
    "   $V\\cdot W = \\displaystyle\\min_{i=1,...n} v_i$ ?\n",
    "\n",
    "** [Q] ** Soit un entier $k$ tel que $0<k\\leq n$. Proposer une définition de $W$ qui, par le\n",
    "   calcul du produit scalaire, permet de ne tenir compte, de façon équitable, que des $k$\n",
    "   valeurs les plus élevées de $V$.\n",
    "\n"
   ]
  },
  {
   "cell_type": "code",
   "execution_count": null,
   "metadata": {},
   "outputs": [],
   "source": []
  }
 ],
 "metadata": {
  "kernelspec": {
   "display_name": "Python 3",
   "language": "python",
   "name": "python3"
  },
  "language_info": {
   "codemirror_mode": {
    "name": "ipython",
    "version": 3
   },
   "file_extension": ".py",
   "mimetype": "text/x-python",
   "name": "python",
   "nbconvert_exporter": "python",
   "pygments_lexer": "ipython3",
   "version": "3.7.1"
  }
 },
 "nbformat": 4,
 "nbformat_minor": 1
}
