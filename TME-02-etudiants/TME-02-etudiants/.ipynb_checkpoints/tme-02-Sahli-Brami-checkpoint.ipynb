{
 "cells": [
  {
   "cell_type": "markdown",
   "metadata": {},
   "source": [
    "IA & Data science (3i026) -- 2018-2019\n",
    "--------\n",
    "*&copy; Equipe pédagogique: Manon Ansart, Vincent Guigue, Marie-Jeanne Lesot, Christophe Marsala, Olivier Schwander.*\n"
   ]
  },
  {
   "cell_type": "markdown",
   "metadata": {},
   "source": [
    "# TD-TME02: les k-plus proches voisins (*k-NN*)"
   ]
  },
  {
   "cell_type": "markdown",
   "metadata": {},
   "source": [
    "<font size=\"+1\" color=\"RED\">**[Q]**</font> **Indiquer dans la boîte ci-dessous vos noms et prénoms :**"
   ]
  },
  {
   "cell_type": "code",
   "execution_count": 3,
   "metadata": {},
   "outputs": [],
   "source": [
    "#Sahli oussama\n",
    "#Nathan Brami"
   ]
  },
  {
   "cell_type": "markdown",
   "metadata": {},
   "source": [
    "*Double-cliquer ici et insérer les noms et prénoms de votre binôme*"
   ]
  },
  {
   "cell_type": "markdown",
   "metadata": {},
   "source": [
    "<font color=\"RED\" size=\"+1\">**[Q]**</font> **Renommer ce fichier ipython**\n",
    "\n",
    "Tout en haut de cette page, cliquer sur <tt>tme-02</tt> et rajouter à la suite de <tt>tme-02</tt> les noms des membres du binômes séparés par un tiret.\n",
    "\n",
    "Par exemple, pour le binôme Luke Skywalker et Han Solo, le nom de fichier devient : <pre>tme-02-Skywalker-Solo</pre>\n",
    "\n",
    "Penser à sauvegarder fréquemment le fichier en cours de travail :\n",
    "- soit en cliquant sur l'icône \"disquette\"\n",
    "- soit par la combinaison de touches [Ctrl]-S"
   ]
  },
  {
   "cell_type": "markdown",
   "metadata": {},
   "source": [
    "<font color=\"RED\" size=\"+1\">IMPORTANT: soumission de votre fichier final</font>\n",
    "\n",
    "**Nom à donner au fichier à poster** : *tme-02-Nom1_Nom2.ipynb* \n",
    "- *Nom1* et *Nom2* : noms des membres du binôme\n",
    "- ne pas compresser ou faire une archive: il faut rendre le fichier ipython tel quel, éventuellement, si vous avez d'autres fichiers vous les rendez séparément.\n",
    "\n",
    "**Echancier pour la soumission de votre compte-rendu:**\n",
    "- le compte-rendu d'une séance doit être remis obligatoirement <font color=\"RED\">** à la fin de la séance**</font>. C'est ce compte-rendu qui donne la note de base de la séance.\n",
    "- vous pouvez éventuellement compléter votre compte-rendu  pour obtenir des points bonus, dans ce cas, vous devez soumettre votre complément avant le début de la semaine suivante.\n",
    "\n",
    "** Sur la page Moodle de remise du travail <font color=\"RED\">ne pas oublier d'envoyer le compte rendu</font>** à la fin de la séance, la soumission de la version complémentaire post-séance se fera sur une page différente."
   ]
  },
  {
   "cell_type": "markdown",
   "metadata": {},
   "source": [
    "## Présentation ##\n",
    "\n",
    "Dans ce TME, nous allons mettre en place une \"architecture\" de code nous permettant petit à petit de tester différents modèles d'apprentissage supervisé et programmer les k-NN. Nous allons nous restreindre au cas binaire où les données sont étiquetées $+1$ ou $-1$.\n",
    "\n",
    "\n",
    "### Objectifs de ce TME 1\n",
    "\n",
    "Le travail à réaliser est le suivant :\n",
    "- apprendre à utiliser jupyter notebook\n",
    "- se documenter sur les structures de données qui seront utilisées pour programmer tout au long du semestre\n",
    "- implémenter des fonctions pour les mesures vues en cours "
   ]
  },
  {
   "cell_type": "code",
   "execution_count": 2,
   "metadata": {},
   "outputs": [],
   "source": [
    "import numpy as np\n",
    "import pandas as pd\n",
    "from datetime import datetime as dt\n",
    "import matplotlib.pyplot as plt\n",
    "%matplotlib inline  "
   ]
  },
  {
   "cell_type": "markdown",
   "metadata": {},
   "source": [
    "**Remarque :** La concaténation de vecteurs s'obtient à l'aide de la fonction `vstack` de numpy."
   ]
  },
  {
   "cell_type": "code",
   "execution_count": 9,
   "metadata": {},
   "outputs": [
    {
     "name": "stdout",
     "output_type": "stream",
     "text": [
      "[[ 0.    1.5   4.2 ]\n",
      " [ 1.1   3.8  20.01]\n",
      " [ 1.1   5.3  24.21]]\n"
     ]
    }
   ],
   "source": [
    "# Exemple d'utilisation de vstack (pour plus de détails, chercher la documentation sur le web)\n",
    "\n",
    "vecteur_1 = np.array([0, 1.5, 4.2])\n",
    "vecteur_2 = np.array([1.1, 3.8, 20.01])\n",
    "\n",
    "vecteur_3 = vecteur_1 + vecteur_2\n",
    "\n",
    "v=np.vstack( (vecteur_1, vecteur_2, vecteur_3) )\n",
    "print(v)"
   ]
  },
  {
   "cell_type": "markdown",
   "metadata": {},
   "source": [
    "### Représentation orientée objets\n",
    "\n",
    "\n",
    "Pour implémenter nos algorithmes d'apprentissage et pour représenter les données, nous allons utiliser quelques éléments de programmation orientée objet (POO) qu'autorise le langage Python. \n",
    "\n",
    "Si vous ne connaissez rien à la POO, il est fortement conseillé de lire une documentation ou suivre un tutorial sur le web (par exemple, http://apprendre-python.com/page-apprendre-programmation-orientee-objet-poo-classes-python-cours-debutants).\n"
   ]
  },
  {
   "cell_type": "markdown",
   "metadata": {},
   "source": [
    "## Étape 1: dataset\n",
    "\n",
    "La première étape consiste à définir une classe, la classe LabelSet, pour stocker les données d'apprentissage, de validation et de test. Nous considérerons que les données tiennent en mémoire.\n",
    "\n",
    "La classe LabelSet sert donc à stocker des couples $\\{(x_1,y_1),...,(x_n,y_n)\\}$. Les $x_i$ et $y_i$ seront des tableaux numpy.\n",
    "\n",
    "**A noter : ** la méthode <tt>\\_\\_init\\_\\_</tt> est le constructeur de la classe.\n"
   ]
  },
  {
   "cell_type": "code",
   "execution_count": 4,
   "metadata": {},
   "outputs": [],
   "source": [
    "class LabeledSet:  \n",
    "    \"\"\" Classe pour représenter un ensemble d'exemples (base d'apprentissage)\n",
    "        Variables d'instance :\n",
    "            - input_dimension (int) : dimension de la description d'un exemple (x)\n",
    "            - nb_examples (int) : nombre d'exemples dans l'ensemble\n",
    "    \"\"\"\n",
    "    \n",
    "    def __init__(self, input_dimension):\n",
    "        \"\"\" Constructeur de LabeledSet\n",
    "            Argument: \n",
    "                - intput_dimension (int) : dimension de x\n",
    "            Hypothèse : input_dimension > 0\n",
    "        \"\"\"\n",
    "        self.input_dimension = input_dimension\n",
    "        self.nb_examples = 0\n",
    "    \n",
    "    def addExample(self,vector,label):\n",
    "        \"\"\" Ajout d'un exemple dans l'ensemble\n",
    "            Argument: \n",
    "                - vector ()\n",
    "                - label (int) : classe de l'exemple (+1 ou -1)\n",
    "            \n",
    "        \"\"\"\n",
    "        if (self.nb_examples == 0):\n",
    "            self.x = np.array([vector])\n",
    "            self.y = np.array([label])\n",
    "        else:\n",
    "            self.x = np.vstack((self.x, vector))  \n",
    "            self.y = np.vstack((self.y, label))\n",
    "        \n",
    "        self.nb_examples = self.nb_examples + 1   \n",
    "    \n",
    "    def getInputDimension(self):\n",
    "        \"\"\" Renvoie la dimension de l'espace d'entrée\n",
    "        \"\"\"\n",
    "        return self.input_dimension\n",
    "    \n",
    "    def size(self):\n",
    "        \"\"\" Renvoie le nombre d'exemples dans l'ensemble\n",
    "        \"\"\"\n",
    "        return self.nb_examples\n",
    "    \n",
    "    def getX(self, i):\n",
    "        \"\"\" Renvoie la description du i-eme exemple (x_i)\n",
    "        \"\"\"\n",
    "        return self.x[i]             \n",
    "    \n",
    "    #\n",
    "    def getY(self, i):\n",
    "        \"\"\" Renvoie la classe de du i-eme exemple (y_i)\n",
    "        \"\"\"\n",
    "        return(self.y[i])"
   ]
  },
  {
   "cell_type": "code",
   "execution_count": 44,
   "metadata": {},
   "outputs": [
    {
     "name": "stdout",
     "output_type": "stream",
     "text": [
      "[[[0 1]\n",
      "  [2 3]]\n",
      "\n",
      " [[0 1]\n",
      "  [0 1]]]\n"
     ]
    }
   ],
   "source": [
    "# Exemple d'utilisation de LabeledSet\n",
    "\n",
    "une_base = LabeledSet(2)        # définition d'une base pour contenir des exemples en 2D\n",
    "une_base.addExample([0, 1],1)   # ajout de l'exemple (0, 1) de classe +#1\n",
    "#print(une_base.getX(0))\n",
    "une_base.addExample([2, 3],1)   # ajout de l'exemple (2, 3) de classe +#1\n",
    "#print(une_base.getX(1))\n",
    "une_base.addExample([1, 2],-1)  # ajout de l'exemple (1, 2) de classe -1#\n",
    "#print(une_base.getX(2))\n",
    "une_base.addExample([2, 2],-1)  # ajout de l'exemple (2, 2) de classe -1\n",
    "#print(une_base.getX(3))\n",
    "\n",
    "S_pos = une_base.x[np.where(une_base.y == 1),:][0]\n",
    "print(S_pos)\n",
    "#print(une_base.x) # affiche tous les points sans leur classe\n",
    "#print(une_base.x[np.where(une_base.y==1)])\n",
    "#print(np.where(une_base.y==1))\n",
    "#print(une_base)\n"
   ]
  },
  {
   "cell_type": "markdown",
   "metadata": {},
   "source": [
    "<font color=\"RED\" size=\"+1\">**[Q]**</font> Ecrire la fonction <tt>affiche_base</tt> qui, étant donné un LabelSet, permet d'afficher tous les exemples qu'il contient."
   ]
  },
  {
   "cell_type": "code",
   "execution_count": 34,
   "metadata": {},
   "outputs": [],
   "source": [
    "def affiche_base(objetLabelSet):\n",
    "    #lse exemples de l'objet labeldset sont stocké dans sa variable x\n",
    "    nb_exemples=objetLabelSet.size()\n",
    "    for i in range(0,nb_exemples):\n",
    "        ex_i=objetLabelSet.getX(i)\n",
    "        print(ex_i,objetLabelSet.getY(i))\n",
    "     \n",
    "\n",
    "\n",
    "\n"
   ]
  },
  {
   "cell_type": "code",
   "execution_count": 35,
   "metadata": {},
   "outputs": [
    {
     "name": "stdout",
     "output_type": "stream",
     "text": [
      "[0 1] [1]\n",
      "[2 3] [1]\n",
      "[1 2] [-1]\n",
      "[2 2] [-1]\n"
     ]
    }
   ],
   "source": [
    "affiche_base(une_base)"
   ]
  },
  {
   "cell_type": "markdown",
   "metadata": {},
   "source": [
    "Un dataset en 2 dimensions pourra être affiché en utilisant matplotlib et plus précisément la fonction `matplotlib.pyplot.scatter` permettant de dessiner un nuage de points - http://matplotlib.org/api/pyplot_api.html#matplotlib.pyplot.scatter -"
   ]
  },
  {
   "cell_type": "code",
   "execution_count": 150,
   "metadata": {},
   "outputs": [],
   "source": [
    "import matplotlib.pyplot as plt\n",
    "%matplotlib inline \n",
    "\n",
    "def plot2DSet(set):\n",
    "    \"\"\" LabeledSet -> NoneType\n",
    "        Hypothèse: set est de dimension 2\n",
    "        affiche une représentation graphique du LabeledSet\n",
    "        remarque: l'ordre des labels dans set peut être quelconque\n",
    "    \"\"\"\n",
    "    S_pos = set.x[np.where(set.y == 1),:][0]      # tous les exemples de label +1\n",
    "    #print(S_pos)\n",
    "    S_neg = set.x[np.where(set.y == -1),:][0]     # tous les exemples de label -1\n",
    "    plt.scatter(S_pos[:,0],S_pos[:,1],marker='o') # 'o' pour la classe +1\n",
    "    plt.scatter(S_neg[:,0],S_neg[:,1],marker='x') # 'x' pour la classe -1\n"
   ]
  },
  {
   "cell_type": "code",
   "execution_count": 151,
   "metadata": {},
   "outputs": [
    {
     "data": {
      "image/png": "[encoded data removed]",
      "text/plain": [
       "<Figure size 432x288 with 1 Axes>"
      ]
     },
     "metadata": {
      "needs_background": "light"
     },
     "output_type": "display_data"
    }
   ],
   "source": [
    "# Par exemple :len(data)\n",
    "plot2DSet(une_base)"
   ]
  },
  {
   "cell_type": "markdown",
   "metadata": {},
   "source": [
    "### Génération de données ''Jouet''\n",
    "\n",
    "Nous allons pour l'instant nous intéresser à des datasets \"jouet\" générés selon des distributions choisies à la main. \n",
    "\n",
    "Commençons par un dataset en 2 dimensions (entrée) et 1 dimension (sortie): $x_i \\in \\mathbb{R}^2$, $y_i \\in \\{-1;+1\\}$ tel que les données sont générées selon deux gaussiennes. Pour cela, nous utiliserons la fonction `numpy.random.multivariate_normal` - http://docs.scipy.org/doc/numpy/reference/generated/numpy.random.multivariate_normal.html"
   ]
  },
  {
   "cell_type": "markdown",
   "metadata": {},
   "source": [
    "<font color=\"RED\" size=\"+1\">**[Q]**</font> Ecrire la fonction <tt>createGaussianDataset</tt> qui, étant donné 5 arguments:\n",
    "- `positive_center` est le centre de la gaussienne des points positifs (vecteur de taille 2)\n",
    "- `positive_sigma` est la variance de la gaussienne des points positifs (sous forme de matrice 2*2)\n",
    "- `negative_center` est le centre de la gaussienne des points négative (vecteur de taille 2)\n",
    "- `negative_sigma` est la variance de la gaussienne des points négative (sous forme de matrice 2*2)\n",
    "- `nb_points` est le nombre de points de chaque classe à générer\n",
    "\n",
    "rend un dataset généré aléatoirement."
   ]
  },
  {
   "cell_type": "code",
   "execution_count": 152,
   "metadata": {},
   "outputs": [],
   "source": [
    "def createGaussianDataset(positive_center,positive_sigma,negative_center,negative_sigma,nb_points):\n",
    "    #on doit générer 10 point négatif et 10 point positifs\n",
    "    #on doit les générer autour de leur centre respectifs\n",
    "    #retourne un ensemble de point associé à une moyenne et une covariance\n",
    "    #+ la covariance est grande + lespace de valeurs est grand\n",
    "    points_pos=np.random.multivariate_normal(positive_center, positive_sigma,nb_points) #jobtient un ensemble d'exemple positif de dim 2\n",
    "    points_neg=np.random.multivariate_normal(negative_center,negative_sigma, nb_points)\n",
    "    #est ce uq les points généré sont de dim 2?\n",
    "    \n",
    "    une_base = LabeledSet(2)        # définition d'une base pour contenir des exemples en 2D\n",
    "    \n",
    "    #j'ajoute les points positifs à ma base \n",
    "    for i in range(0,len(points_pos)):\n",
    "        une_base.addExample(points_pos[i],1)   # ajout de l'exemple de classe +1\n",
    "    \n",
    "    #JAJOUTE LES POINTS NÉGAtifs\n",
    "    for i in range(0,len(points_neg)):\n",
    "        une_base.addExample(points_neg[i],-1)   # ajout de l'exemple de classe +1\n",
    "        \n",
    "    #je retourne mon objet LabeledSet qui m'a servit à stocker mes couples d'exemples \n",
    "    return une_base\n",
    "\n",
    "\n",
    "\n",
    "\n",
    "\n",
    "\n",
    "\n",
    "\n",
    "\n"
   ]
  },
  {
   "cell_type": "code",
   "execution_count": 153,
   "metadata": {},
   "outputs": [
    {
     "name": "stdout",
     "output_type": "stream",
     "text": [
      "Taille de la base jouet générée : 20 exemples\n"
     ]
    },
    {
     "data": {
      "image/png": "[encoded data removed]",
      "text/plain": [
       "<Figure size 432x288 with 1 Axes>"
      ]
     },
     "metadata": {
      "needs_background": "light"
     },
     "output_type": "display_data"
    }
   ],
   "source": [
    "# Exemple d'utilisation:\n",
    "\n",
    "\n",
    "#the_set = createGaussianDataset(np.array([1,1]),np.array([[1,0],[0,1]]),np.array([-1,-1]),np.array([[1,0],[0,1]]),10)\n",
    "the_set = createGaussianDataset(np.array([1,1]),np.array([[0.01,0],[0,0.001]]),np.array([4,4]),np.array([[0.1,0],[0,0.01]]),10)\n",
    "# remarque: \n",
    "\"la variance est une mesure de la dispersion des valeurs d'un échantillion autour de la moyenne.\"\n",
    "\"Elle représente la moynne des carrés des écart à la moyenne.\"\n",
    "\"Si la variance est faible , alors les valeurs sont très centré autour de la moyenne\"\n",
    "\"Si la variance est grande, les valeurs seront très espacés\"\n",
    "\"L'écart type renseigne sur la dispersion des valeurs de la série par rapport à la moyenn.\"\n",
    "\"+ l'écart type est petit , + les valeurs sont regroupé autour de la moyenne , et inversement\"\n",
    "\n",
    "#Explication des veleur insérer dans la matrice 2*2\n",
    "#\"on a  une matrice 2*2 --> |variance_x ecart_type_x   |\"\n",
    "#                          \"|ecart_type_y variance_y   |\"\n",
    "\n",
    "\n",
    "\"Remarque importante --> dans la matrice 2*2 de covarince , on a 4 parametres : (variance de x(abcisse),ecart type associé au x,\"\n",
    "\"variance de y(ordonne),ecart type associé à y)\"\n",
    "\"Si on augmente la variance de x ,alors les point seront tres disperesé autour de la moyenne sur laxe des x\"\n",
    "\"Si on augmente lecart type de x alors les points seront tres dispereser autour de la moyenne sur laxe des x \"\n",
    "\"Si on augmente la variance de y alors les points seront tres dispereser autour de la moyenne sur laxe des y \"\n",
    "\"Si on augmente lecart type de y alors les points seront tres dispereser autour de la moyenne sur laxe des y\"\n",
    "    \n",
    "\"chaque point est repréenté par deux cordonnées(x ,y), ainsi si on s'amuse à modifier les valeurs associé à variance_x\"\n",
    "\"et à variance_y , on obtiendra le comportement décrit ci dessus\"\n",
    "\n",
    "print(\"Taille de la base jouet générée :\", the_set.size(), \"exemples\")\n",
    "\n",
    "# Affichage :\n",
    "plot2DSet(the_set)\n"
   ]
  },
  {
   "cell_type": "markdown",
   "metadata": {},
   "source": [
    "## Étape 2: les classifieurs\n",
    "\n",
    "Un classifieur (binaire dans ce cours) permet, pour chaque point d'entrée donné, de calculer un score. Si le score est négatif, la donnée est associée à la classe $-1$, sinon à la classe $+1$. \n",
    "\n",
    "Les classifieurs que l'on va implémenter seront définis à l'aide d'une classe qui va dériver de la classe Classifier suivante. Cette classe est une classe \"abstraite\", elle sera dérivée par héritage pour définir des classifieurs particuliers (knn, arbres de décision, etc.).\n",
    "\n",
    "Par conséquent, pour l'instant les méthodes `train` et `predict` ne seront pas définies car elles dépendent du modèle que l'on choisira.\n",
    "\n",
    "Par contre, la fonction `computeAccuracy` renvoie le pourcentage de points bien classés. Elle peut être définie dès maintenant.\n",
    "\n",
    "<font color=\"RED\" size=\"+1\">**[Q]**</font> Donner l'implémentation de la fonction `computeAccuracy`."
   ]
  },
  {
   "cell_type": "code",
   "execution_count": 154,
   "metadata": {},
   "outputs": [],
   "source": [
    "class Classifier:\n",
    "    \"\"\" Classe pour représenter un classifieur\n",
    "        Attention: cette classe est une classe abstraite, elle ne peut pas être\n",
    "        instanciée.\n",
    "    \"\"\"\n",
    "    \n",
    "    def __init__(self, input_dimension):\n",
    "        \"\"\" Constructeur de Classifier\n",
    "            Argument:\n",
    "                - intput_dimension (int) : dimension d'entrée des exemples\n",
    "            Hypothèse : input_dimension > 0\n",
    "        \"\"\"\n",
    "        raise NotImplementedError(\"Please Implement this method\")\n",
    "        \n",
    "    def predict(self, x):\n",
    "        \"\"\" rend la prediction sur x (-1 ou +1)\n",
    "        \"\"\"\n",
    "        raise NotImplementedError(\"Please Implement this method\")\n",
    "\n",
    "    def train(self, labeledSet):\n",
    "        \"\"\" Permet d'entrainer le modele sur l'ensemble donné  #cest lapprentissage\n",
    "        \"\"\"\n",
    "        \n",
    "        raise NotImplementedError(\"Please Implement this method\")\n",
    "    \n",
    "    def accuracy(self, dataset):\n",
    "        \"\"\" Permet de calculer la qualité du système \n",
    "        \"\"\"\n",
    "        #TODO !!!!\n",
    "        #on a un ensemble d'exemple dans le dataset , chacun de ces exemples sont associié à des classes --> \n",
    "        #ce sont les résultats attendues\n",
    "        #predict renvoie un score positif si cest positif , et négatif sinon\n",
    "        # pedict va faire une prédiction sur la classe de chacun des exemples contenue dans le dataset\n",
    "        #on fera une moyenne sur l'ensemble de ses prédiction qui ont étét juste\n",
    "        #dataset = ensemble dexemple de dim 2\n",
    "        #print(dataset.size())\n",
    "        total=dataset.size() #nombre d'exemple evalués\n",
    "        classe_ok=0 # si la prediction est correct sur la classe attendu , alors on incrémente de 1\n",
    "        for i in range (0,dataset.size()):\n",
    "            exemple_courant=dataset.getX(i)\n",
    "            classe_de_exemple_courant=dataset.getY(i)\n",
    "            score=self.predict(exemple_courant)\n",
    "            #print(\"score et classe\")\n",
    "           # print(score,classe_de_exemple_courant)\n",
    "            if(score>0):\n",
    "                res=1\n",
    "            else:\n",
    "                res=-1\n",
    "            #comparaison de la prédiction avec le résultat attendue \n",
    "            if(res==classe_de_exemple_courant):\n",
    "                classe_ok=classe_ok+1\n",
    "        \n",
    "        return (classe_ok*100)/total # pourcentage de classe correct predit \n",
    "        \n",
    "        \n",
    "        \n",
    "        "
   ]
  },
  {
   "cell_type": "code",
   "execution_count": 155,
   "metadata": {},
   "outputs": [
    {
     "name": "stdout",
     "output_type": "stream",
     "text": [
      "[-1  0]\n",
      "-1\n"
     ]
    }
   ],
   "source": [
    "#test sur le dataset base\n",
    "#je peux pas instancier un objet classifier car --> classe abstraite\n",
    "\n",
    "#objetClassifier=Classifier(2)  # dimension des exemples =2\n",
    "#res=objetClassifier.accuracy(une_base)\n",
    "#print(res)\n",
    "a = np.random.randint(-1,1,2)\n",
    "print(a)\n",
    "print(a[0])"
   ]
  },
  {
   "cell_type": "markdown",
   "metadata": {},
   "source": [
    "Nous allons maintenant définir un **classifieur linéaire aléatoire** en étendant la classe Classifier et en implémentant le constructeur ainsi que les 2 méthodes `predict` et `train`.\n",
    "\n",
    "Pour un classifieur linéaire aléatoire:\n",
    "- dans le constructeur, on doit générer aléatoirement un vecteur $w$ de taille `input_dimension` aléatoirement\n",
    "- pour ce classifieur, la méthode `train` ne fait rien. On ne mettra qu'un print permettant d'afficher le message \"Pas d'apprentissage pour ce classifieur\"\n",
    "- pour une description d'exemple $x$, la méthode `predict` doit utiliser la valeur de $\\langle x | w\\rangle$ pour prédire le label (+1 ou -1) associé\n"
   ]
  },
  {
   "cell_type": "markdown",
   "metadata": {},
   "source": [
    "<font color=\"RED\" size=\"+1\">**[Q]**</font> Donner l'implémentation de la classe ClassifierRandom qui hérite de la classe Classifier et permet de définir un classifieur linéaire aléatoire."
   ]
  },
  {
   "cell_type": "code",
   "execution_count": 156,
   "metadata": {
    "scrolled": true
   },
   "outputs": [],
   "source": [
    "class ClassifierRandom(Classifier):\n",
    "    \"\"\" Classe pour représenter un classifieur linéaire aléatoire\n",
    "        Cette classe hérite de la classe Classifier\n",
    "    \"\"\"\n",
    "    \n",
    "    #TODO: définir le constructeur, et les méthodes predict et train\n",
    "    \n",
    "    def __init__(self, input_dimension):\n",
    "        \"\"\" Constructeur de LabeledSet\n",
    "            Argument: \n",
    "                - intput_dimension (int) : dimension de x\n",
    "            Hypothèse : input_dimension > 0\n",
    "        \"\"\"\n",
    "        self.input_dimension = input_dimension\n",
    "        #on souhaite que w a des coordonnées comprise entre 1 et 1 (rappel vecteur w --> 2cordonnees (x,y))\n",
    "        self.w=np.random.randint(-1,1,2) #--> resultat accuracy : 50\n",
    "        #self.w=np.random.rand(1,2)\n",
    "        #print(self.w)\n",
    "       \n",
    "        \n",
    "    def train(self, labeledSet):\n",
    "        \"\"\" Permet d'entrainer le modele sur l'ensemble donné  #cest lapprentissage\n",
    "        \"\"\"\n",
    "        print(\"Pas d'apprentissage pour ce classifieur\")\n",
    "        \n",
    "    def predict(self, x):\n",
    "        \"\"\" rend la prediction sur x (-1 ou +1)\n",
    "        \"\"\"\n",
    "        #on calcule le produit scalaire de w avec x(lexemple contenu dans le dataset)\n",
    "        \n",
    "        produit_scalaire=np.dot(self.w,x)\n",
    "        return produit_scalaire\n",
    "\n",
    "        \n",
    "    "
   ]
  },
  {
   "cell_type": "code",
   "execution_count": 157,
   "metadata": {},
   "outputs": [],
   "source": [
    "#\"le role d'un classifieur est de classé dans des groupes des échantillons qui ont des propriété similaires,mesuré sur des observations.\"\n",
    "#\"Ici l'observations sur les échantillions du LabelSet peuvent portées sur la classe des points qui y sont compris.\"\n",
    "#\"Par exemple , on peut prendre plusieurs points , et selon leur positions , on aura établie un lien nous permettant de dire\"\n",
    "#\"si un point est dans cette zone de l'espace , alors il est de classe ....(ici choisir entre 1 ou -1) --> A titre d'exemple\"\n",
    "#\"Un classifieur linéaire est un type particulier de classifieur,il calcule la décision par combinaisons linéaires des échantillions\"\n",
    "#\"La combinaison linaire entre plusieurs termes est la somme de ces termes où chacun sera associé à une constante\"\n",
    "#\"Dans un classifieur linéaire , pour prendre une décision, on dénit un vecteur normal(ici w).\"\n",
    "#\"Pour chaque point comprit dans l'objet LabelSet , on calcule le produit scalaire entre le vecteur normal et le point\"\n",
    "# w est le vecteur normal à la pente(la pente est la frontiere de decision qui passe par l'origine)\n",
    "#la frontiere de decision sert à separer les points de classe 1 et les points de classe -1\n",
    "#\"On obtient la projection du point sur le vecteur normal , et le resultat obtenue fera référence à la valeur prise par la classe\"\n",
    "#un produit scalaire negatif --> fera référence à une classe -1\n",
    "#un produit scalire positif fera référence à une classe +1\n"
   ]
  },
  {
   "cell_type": "code",
   "execution_count": 158,
   "metadata": {},
   "outputs": [],
   "source": [
    "#La facon dont on a predit la classe de nos point:\n",
    "#En gros , on a un graphique avec plusieurs point dedans \n",
    "#chacun de ces points est associé à une classe (-1 ou 1)\n",
    "#on cherche à predire la classe de ces point"
   ]
  },
  {
   "cell_type": "code",
   "execution_count": 159,
   "metadata": {},
   "outputs": [],
   "source": [
    "# Création d'un classifieur linéaire aléatoire de dimension 2:\n",
    "\n",
    "un_classifieur = ClassifierRandom(2)"
   ]
  },
  {
   "cell_type": "markdown",
   "metadata": {},
   "source": [
    "<font color=\"RED\" size=\"+1\">**[Q]**</font> Calculer la performance (*accuracy*) d'un classifieur linéaire aléatoire sur un ensemble de 100 points générés aléatoirement."
   ]
  },
  {
   "cell_type": "code",
   "execution_count": 160,
   "metadata": {},
   "outputs": [
    {
     "name": "stdout",
     "output_type": "stream",
     "text": [
      "50.0\n"
     ]
    }
   ],
   "source": [
    "\n",
    "#génération de 100 point aléatoire de dimensions 2 car le classifieur est de dim 2\n",
    "\n",
    "mon_dataset= LabeledSet(2)  # définition d'une base pour contenir des exemples en 2D\n",
    "for i in range(0,50):\n",
    "    mon_dataset.addExample(np.random.randint(1,3,2),1)   # ajout de l'exemple # je met que des point positif de classe 1\n",
    "\n",
    "for i in range(0,50):\n",
    "    mon_dataset.addExample(np.random.randint(4,6,2),-1)   # ajout de l'exemple # je met que des point positif de classe -1\n",
    "#affiche_base(mon_dataset)\n",
    "pourcentage_ok=un_classifieur.accuracy(mon_dataset)\n",
    "#pourc=un_classifieur.accuracy(the_set)\n",
    "print(pourcentage_ok)\n",
    "\n",
    "#resulatat : 50 , quand la classe cest -1 il se trompe \n"
   ]
  },
  {
   "cell_type": "markdown",
   "metadata": {},
   "source": [
    "Voici une fonction qui permet de dessiner la frontière de decision d'un classifieur. La valeur `step` permet de choisir la précision du dessin."
   ]
  },
  {
   "cell_type": "code",
   "execution_count": 161,
   "metadata": {},
   "outputs": [],
   "source": [
    "\n",
    "# + step est grand et + plus la ligne tracé est droite\n",
    "def plot_frontiere(set,classifier,step=10):\n",
    "    \"\"\" LabeledSet * Classifier * int -> NoneType\n",
    "        Remarque: le 3e argument est optionnel et donne la \"résolution\" du tracé\n",
    "        affiche la frontière de décision associée au classifieur\n",
    "    \"\"\"\n",
    "    mmax=set.x.max(0) #l'exemple contenu dans le dataset quii contient les valeurs max\n",
    "    mmin=set.x.min(0)\n",
    "    x1grid,x2grid=np.meshgrid(np.linspace(mmin[0],mmax[0],step),np.linspace(mmin[1],mmax[1],step))\n",
    "    grid=np.hstack((x1grid.reshape(x1grid.size,1),x2grid.reshape(x2grid.size,1)))\n",
    "    \n",
    "    # calcul de la prediction pour chaque point de la grille\n",
    "    res=np.array([classifier.predict(grid[i,:]) for i in range(len(grid)) ])\n",
    "    res=res.reshape(x1grid.shape)\n",
    "    # tracer des frontieres\n",
    "    plt.contourf(x1grid,x2grid,res,colors=[\"red\",\"cyan\"],levels=[-1000,0,1000])"
   ]
  },
  {
   "cell_type": "code",
   "execution_count": 162,
   "metadata": {},
   "outputs": [
    {
     "data": {
      "image/png": "[encoded data removed]",
      "text/plain": [
       "<Figure size 432x288 with 1 Axes>"
      ]
     },
     "metadata": {
      "needs_background": "light"
     },
     "output_type": "display_data"
    }
   ],
   "source": [
    "classifieur_random=ClassifierRandom(2)\n",
    "\n",
    "plot_frontiere(the_set,classifieur_random)\n",
    "plot2DSet(the_set)"
   ]
  },
  {
   "cell_type": "markdown",
   "metadata": {},
   "source": [
    "## Étape 3 : k-NN\n",
    "\n",
    "De la même façon que nous avons défini un classifieur aléatoire, nosu allons maintenant un classifieur par $k$ plus proches voisins (ou k-NN). \n",
    "\n",
    "Pour cela nous allons construire un tableau de distances que nous trierons grâce à la méthode `numpy.argsort`.\n",
    "\n",
    "Pour un classifieur linéaire aléatoire:\n",
    "- dans le constructeur, on préciser, en plus de la dimension, le nombre de voisins à utiliser (valeur de $k$)\n",
    "- dans la méthode `train`, on constitue la base de points de référence en mémorisant le LabeledSet donné\n",
    "- pour une description d'exemple $x$, la méthode `predict` doit construire un tableau de distances aux points de référence, puis le trier grâce à la méthode `numpy.argsort`.\n"
   ]
  },
  {
   "cell_type": "markdown",
   "metadata": {},
   "source": [
    "<font color=\"RED\" size=\"+1\">**[Q]**</font> Donner l'implémentation de la classe ClassifierKNN qui hérite de la classe Classifier et permet de définir un classifieur par k-NN."
   ]
  },
  {
   "cell_type": "code",
   "execution_count": 163,
   "metadata": {},
   "outputs": [],
   "source": [
    "import math\n",
    "class ClassifierKNN(Classifier):\n",
    "    #TODO\n",
    "    def __init__(self, input_dimension,nb_voisins):\n",
    "        \"\"\" Constructeur de LabeledSet\n",
    "            Argument: \n",
    "                - intput_dimension (int) : dimension de x\n",
    "            Hypothèse : input_dimension > 0\n",
    "        \"\"\"\n",
    "        self.input_dimension = input_dimension\n",
    "        self.nb_voisins=nb_voisins\n",
    "    \n",
    "    def train(self, labeledSet):\n",
    "        \"\"\" Permet d'entrainer le modele sur l'ensemble donné  #cest lapprentissage\n",
    "        \"\"\"\n",
    "        self.dataset=labeledSet  #base de point , on mémorise le LabeledSet constitué d'exemples\n",
    "        \n",
    "    def predict(self, x):\n",
    "        \"\"\" rend la prediction sur x (-1 ou +1)\n",
    "        \"\"\"\n",
    "       #x est un exemple contenue dans le dataset\n",
    "       # on doit prédire la classe associé à cet exemple (1 ou -1)\n",
    "       # on a mémorisé le dataset dans une variable , en appelant la methode train\n",
    "        # on calcule les k distances les plus petites qui le séparent de k voisins parmis lensemble des voisins\n",
    "        #on récupere les classes associé à ces k voisins\n",
    "        #on fait la moyenne entre ces k vakeur --> et on obtient la valeur de la classe prédit pour notre exemple courant\n",
    "        \n",
    "        # je cherhce donc k exemples\n",
    "        #je calules tous les distances , je trie le tableau de distance obtenue , et je ne garde que les trois +petites\n",
    "        #jassocie ces distance aux k voisins , et la je peux recup leur classe \n",
    "        #je fais un dictionnaire ou la distance et la classe associé à l'exemple seront stocké, ca m'évitera daller cherhcer les valeurs de ces classes\n",
    "         \n",
    "        #récuperer les cordonnées de x car x peut avoir plusieurs dimensiosn\n",
    "        #ATTENTION:\n",
    "        # pas besopin de faire un dico , car argsort renvoir les indice des plus petite valeurs\n",
    "        #jai juste à calcuuler la liste des distances \n",
    "        coords_x=x #liste des coordonnées\n",
    "        distances=[]\n",
    "        #coords_p=[]\n",
    "        for i in range(0,self.dataset.size()):       \n",
    "            s=0 \n",
    "            \n",
    "            #je constitue la liste de coordonées du point courant\n",
    "            #faire attention a ne pas faire une comparaison avec soi meme\n",
    "            coords_p=self.dataset.getX(i)\n",
    "            #print(coords_p,coords_x)\n",
    "            #calcule la somme des coordonnées\n",
    "            for j in range(0,len(coords_p)):\n",
    "                #print(coords_x[i],coords_p[i])\n",
    "                #print(s)\n",
    "                s=s+((coords_x[j]-coords_p[j])**2)\n",
    "                #print(s)\n",
    "            s=math.sqrt(s)\n",
    "            distances.append(s)\n",
    "            \n",
    "        # la j'ai toute mes distances\n",
    "        index = np.argsort(distances) #indices des elements minum --> ordre croissant\n",
    "        k_voisins=[] # je recup mes k voisins\n",
    "        for i in range(0,self.nb_voisins):\n",
    "            k_voisins.append(index[i])\n",
    "            \n",
    "        classes=[] # je recup les cllasses associés à ces distance \n",
    "        for i in range(0,len(k_voisins)):\n",
    "            classes.append(self.dataset.getY(k_voisins[i]))\n",
    "        \n",
    "        somme_classes=0\n",
    "        for i in range(0,len(classes)):\n",
    "            somme_classes=somme_classes+classes[i]\n",
    "           \n",
    "        return somme_classes/len(somme_classes) # somme des classes associés au k + proche voisins/nbvoisins\n",
    "            \n",
    "        \n",
    "        \n",
    "        \n",
    "        \n",
    "        \n",
    "        \n",
    "    "
   ]
  },
  {
   "cell_type": "code",
   "execution_count": 164,
   "metadata": {},
   "outputs": [
    {
     "name": "stdout",
     "output_type": "stream",
     "text": [
      "[3 1 0 2]\n"
     ]
    }
   ],
   "source": [
    "T = np.array([16, 12, 18, 9])\n",
    "index = np.argsort(T)\n",
    "print(index)"
   ]
  },
  {
   "cell_type": "code",
   "execution_count": 165,
   "metadata": {},
   "outputs": [
    {
     "data": {
      "image/png": "[encoded data removed]",
      "text/plain": [
       "<Figure size 432x288 with 1 Axes>"
      ]
     },
     "metadata": {
      "needs_background": "light"
     },
     "output_type": "display_data"
    }
   ],
   "source": [
    "# Exemple d'utilisation :\n",
    "knn = ClassifierKNN(2,1)\n",
    "knn.train(the_set)\n",
    "\n",
    "plot_frontiere(the_set,knn,20)\n",
    "plot2DSet(the_set) "
   ]
  },
  {
   "cell_type": "markdown",
   "metadata": {},
   "source": [
    "## Étape 4: protocole expérimental\n",
    "\n",
    "Attention, lorsque l'on évalue un classifieur, il est nécessaire de considérer deux ensembles distincts: un ensemble d'apprentissage et un ensemble de test. La performance doit être évaluée sur l'ensemble de test (et non pas sur l'ensemble d'apprentissage)."
   ]
  },
  {
   "cell_type": "markdown",
   "metadata": {},
   "source": [
    "<font color=\"RED\" size=\"+1\">**[Q]**</font> Donner les instructions permettant d'évaluer un classifieur KNN et comparer les résultats obtenus avec ceux obtenus par un classifieur linéaire aléatoire sur le même jeu de données."
   ]
  },
  {
   "cell_type": "code",
   "execution_count": 170,
   "metadata": {},
   "outputs": [
    {
     "data": {
      "image/png": "[encoded data removed]",
      "text/plain": [
       "<Figure size 432x288 with 1 Axes>"
      ]
     },
     "metadata": {
      "needs_background": "light"
     },
     "output_type": "display_data"
    }
   ],
   "source": [
    "#instructions permettant d'évaluer un classifieur KNN \n",
    "mon_classifieur = ClassifierKNN(2,3)\n",
    "mon_classifieur.train(the_set)\n",
    "plot_frontiere(the_set,knn,20)\n",
    "plot2DSet(the_set) \n",
    "\n",
    "##ceux obtenus par un classifieur linéaire aléatoire sur le même jeu de données\n",
    "mon_classifieur_random=ClassifierRandom(2)\n",
    "\n",
    "#plot_frontiere(the_set,mon_classifieur_random)\n",
    "#plot2DSet(the_set)\n",
    " #On remarque que la frontiere établie par le clasiffieur Knn a tendance a resté la meme lors des différents tests, tandis\n",
    "    #que , la frontière établie par le classifieur linéaire alétoire change lors des différents appels la fonction plot_frontiere\n",
    "\n"
   ]
  },
  {
   "cell_type": "markdown",
   "metadata": {},
   "source": [
    "### Différentes expérimentations\n",
    "\n",
    "<font color=\"RED\" size=\"+1\">**[Q]**</font> Comparer la performance (en train et test) de plusieurs classifieurs KNN avec différentes valeurs de k. Que pouvez vous constater ?\n",
    "Idéalement, vous tracerez la performance (accuracy) en fonction de la valeur de k.\n",
    "Essayez avec différentes configurations de gaussiennes."
   ]
  },
  {
   "cell_type": "code",
   "execution_count": 216,
   "metadata": {},
   "outputs": [
    {
     "data": {
      "image/png": "[encoded data removed]",
      "text/plain": [
       "<Figure size 432x288 with 1 Axes>"
      ]
     },
     "metadata": {
      "needs_background": "light"
     },
     "output_type": "display_data"
    }
   ],
   "source": [
    "performances={}\n",
    "#on crée un dictionnaire --> cle:valeur  , k:perfommance obtenue par lafonction accuracy\n",
    "for i in range(1,the_set.size()-1):\n",
    "    mon_classifieur = ClassifierKNN(2,i)  # k varie de 1 à 50\n",
    "    mon_classifieur.train(the_set)     #--> entrainement  (le fait d'entrainer cest de memoriser lensemble de point (apprentissage))\n",
    "    performances[i]=mon_classifieur.accuracy(the_set)\n",
    "    \n",
    "#print(performances)\n",
    "k=[]\n",
    "perfs=[]\n",
    "for key,value in performances.items():\n",
    "    k.append(key)\n",
    "    perfs.append(value)\n",
    "\n",
    "#print(k)\n",
    "#print(perfs)\n",
    "\n",
    "plt.plot(k,perfs)\n",
    "plt.show()\n",
    "\n",
    "#cest bizarre que j'obtient toujours 100 , mais jai affiché les scores avec les classes dans la fonction currency , et ca correspondait\n"
   ]
  },
  {
   "cell_type": "markdown",
   "metadata": {},
   "source": [
    "## Étape 5 : données réelles UCI\n",
    "\n",
    "Plusieurs datasets sont téléchargeables depuis: http://mldata.org\n",
    "\n",
    "Voir : https://scikit-learn.org/0.19/datasets/mldata.html\n",
    "\n",
    "Voici la fonction permettant de les charger (en spécifiant leur nom). La fonction se charge de charger les données depuis le web."
   ]
  },
  {
   "cell_type": "code",
   "execution_count": 213,
   "metadata": {},
   "outputs": [
    {
     "name": "stderr",
     "output_type": "stream",
     "text": [
      "C:\\ProgramData\\Anaconda3\\lib\\site-packages\\sklearn\\utils\\deprecation.py:77: DeprecationWarning: Function fetch_mldata is deprecated; fetch_mldata was deprecated in version 0.20 and will be removed in version 0.22\n",
      "  warnings.warn(msg, category=DeprecationWarning)\n",
      "C:\\ProgramData\\Anaconda3\\lib\\site-packages\\sklearn\\utils\\deprecation.py:77: DeprecationWarning: Function mldata_filename is deprecated; mldata_filename was deprecated in version 0.20 and will be removed in version 0.22\n",
      "  warnings.warn(msg, category=DeprecationWarning)\n"
     ]
    },
    {
     "ename": "TimeoutError",
     "evalue": "[WinError 10060] Une tentative de connexion a échoué car le parti connecté n’a pas répondu convenablement au-delà d’une certaine durée ou une connexion établie a échoué car l’hôte de connexion n’a pas répondu",
     "output_type": "error",
     "traceback": [
      "\u001b[1;31m---------------------------------------------------------------------------\u001b[0m",
      "\u001b[1;31mTimeoutError\u001b[0m                              Traceback (most recent call last)",
      "\u001b[1;32m<ipython-input-213-ebbd0adb9177>\u001b[0m in \u001b[0;36m<module>\u001b[1;34m\u001b[0m\n\u001b[0;32m     11\u001b[0m             \u001b[0mdata\u001b[0m\u001b[1;33m.\u001b[0m\u001b[0mtarget\u001b[0m\u001b[1;33m[\u001b[0m\u001b[0mi\u001b[0m\u001b[1;33m]\u001b[0m\u001b[1;33m=\u001b[0m\u001b[1;33m-\u001b[0m\u001b[1;36m1\u001b[0m\u001b[1;33m\u001b[0m\u001b[1;33m\u001b[0m\u001b[0m\n\u001b[0;32m     12\u001b[0m \u001b[1;33m\u001b[0m\u001b[0m\n\u001b[1;32m---> 13\u001b[1;33m \u001b[0mloadFile\u001b[0m\u001b[1;33m(\u001b[0m\u001b[1;34m'breast-cancer_scale'\u001b[0m\u001b[1;33m)\u001b[0m\u001b[1;33m\u001b[0m\u001b[1;33m\u001b[0m\u001b[0m\n\u001b[0m\u001b[0;32m     14\u001b[0m \u001b[1;31m#Les donnees sont dans data.data et data.target\u001b[0m\u001b[1;33m\u001b[0m\u001b[1;33m\u001b[0m\u001b[1;33m\u001b[0m\u001b[0m\n",
      "\u001b[1;32m<ipython-input-213-ebbd0adb9177>\u001b[0m in \u001b[0;36mloadFile\u001b[1;34m(name)\u001b[0m\n\u001b[0;32m      2\u001b[0m \u001b[1;33m\u001b[0m\u001b[0m\n\u001b[0;32m      3\u001b[0m \u001b[1;32mdef\u001b[0m \u001b[0mloadFile\u001b[0m\u001b[1;33m(\u001b[0m\u001b[0mname\u001b[0m\u001b[1;33m)\u001b[0m\u001b[1;33m:\u001b[0m\u001b[1;33m\u001b[0m\u001b[1;33m\u001b[0m\u001b[0m\n\u001b[1;32m----> 4\u001b[1;33m     \u001b[0mdata\u001b[0m \u001b[1;33m=\u001b[0m \u001b[0mfetch_mldata\u001b[0m\u001b[1;33m(\u001b[0m\u001b[0mname\u001b[0m\u001b[1;33m,\u001b[0m \u001b[0mdata_home\u001b[0m\u001b[1;33m=\u001b[0m\u001b[1;34m'.'\u001b[0m\u001b[1;33m)\u001b[0m\u001b[1;33m\u001b[0m\u001b[1;33m\u001b[0m\u001b[0m\n\u001b[0m\u001b[0;32m      5\u001b[0m     \u001b[0mprint\u001b[0m\u001b[1;33m(\u001b[0m\u001b[0mdata\u001b[0m\u001b[1;33m.\u001b[0m\u001b[0mdata\u001b[0m\u001b[1;33m.\u001b[0m\u001b[0mshape\u001b[0m\u001b[1;33m)\u001b[0m\u001b[1;33m\u001b[0m\u001b[1;33m\u001b[0m\u001b[0m\n\u001b[0;32m      6\u001b[0m     \u001b[0munique\u001b[0m\u001b[1;33m=\u001b[0m\u001b[0mnp\u001b[0m\u001b[1;33m.\u001b[0m\u001b[0munique\u001b[0m\u001b[1;33m(\u001b[0m\u001b[0mdata\u001b[0m\u001b[1;33m.\u001b[0m\u001b[0mtarget\u001b[0m\u001b[1;33m)\u001b[0m\u001b[1;33m\u001b[0m\u001b[1;33m\u001b[0m\u001b[0m\n",
      "\u001b[1;32mC:\\ProgramData\\Anaconda3\\lib\\site-packages\\sklearn\\utils\\deprecation.py\u001b[0m in \u001b[0;36mwrapped\u001b[1;34m(*args, **kwargs)\u001b[0m\n\u001b[0;32m     76\u001b[0m         \u001b[1;32mdef\u001b[0m \u001b[0mwrapped\u001b[0m\u001b[1;33m(\u001b[0m\u001b[1;33m*\u001b[0m\u001b[0margs\u001b[0m\u001b[1;33m,\u001b[0m \u001b[1;33m**\u001b[0m\u001b[0mkwargs\u001b[0m\u001b[1;33m)\u001b[0m\u001b[1;33m:\u001b[0m\u001b[1;33m\u001b[0m\u001b[1;33m\u001b[0m\u001b[0m\n\u001b[0;32m     77\u001b[0m             \u001b[0mwarnings\u001b[0m\u001b[1;33m.\u001b[0m\u001b[0mwarn\u001b[0m\u001b[1;33m(\u001b[0m\u001b[0mmsg\u001b[0m\u001b[1;33m,\u001b[0m \u001b[0mcategory\u001b[0m\u001b[1;33m=\u001b[0m\u001b[0mDeprecationWarning\u001b[0m\u001b[1;33m)\u001b[0m\u001b[1;33m\u001b[0m\u001b[1;33m\u001b[0m\u001b[0m\n\u001b[1;32m---> 78\u001b[1;33m             \u001b[1;32mreturn\u001b[0m \u001b[0mfun\u001b[0m\u001b[1;33m(\u001b[0m\u001b[1;33m*\u001b[0m\u001b[0margs\u001b[0m\u001b[1;33m,\u001b[0m \u001b[1;33m**\u001b[0m\u001b[0mkwargs\u001b[0m\u001b[1;33m)\u001b[0m\u001b[1;33m\u001b[0m\u001b[1;33m\u001b[0m\u001b[0m\n\u001b[0m\u001b[0;32m     79\u001b[0m \u001b[1;33m\u001b[0m\u001b[0m\n\u001b[0;32m     80\u001b[0m         \u001b[0mwrapped\u001b[0m\u001b[1;33m.\u001b[0m\u001b[0m__doc__\u001b[0m \u001b[1;33m=\u001b[0m \u001b[0mself\u001b[0m\u001b[1;33m.\u001b[0m\u001b[0m_update_doc\u001b[0m\u001b[1;33m(\u001b[0m\u001b[0mwrapped\u001b[0m\u001b[1;33m.\u001b[0m\u001b[0m__doc__\u001b[0m\u001b[1;33m)\u001b[0m\u001b[1;33m\u001b[0m\u001b[1;33m\u001b[0m\u001b[0m\n",
      "\u001b[1;32mC:\\ProgramData\\Anaconda3\\lib\\site-packages\\sklearn\\datasets\\mldata.py\u001b[0m in \u001b[0;36mfetch_mldata\u001b[1;34m(dataname, target_name, data_name, transpose_data, data_home)\u001b[0m\n\u001b[0;32m    131\u001b[0m         \u001b[0murlname\u001b[0m \u001b[1;33m=\u001b[0m \u001b[0mMLDATA_BASE_URL\u001b[0m \u001b[1;33m%\u001b[0m \u001b[0mquote\u001b[0m\u001b[1;33m(\u001b[0m\u001b[0mdataname\u001b[0m\u001b[1;33m)\u001b[0m\u001b[1;33m\u001b[0m\u001b[1;33m\u001b[0m\u001b[0m\n\u001b[0;32m    132\u001b[0m         \u001b[1;32mtry\u001b[0m\u001b[1;33m:\u001b[0m\u001b[1;33m\u001b[0m\u001b[1;33m\u001b[0m\u001b[0m\n\u001b[1;32m--> 133\u001b[1;33m             \u001b[0mmldata_url\u001b[0m \u001b[1;33m=\u001b[0m \u001b[0murlopen\u001b[0m\u001b[1;33m(\u001b[0m\u001b[0murlname\u001b[0m\u001b[1;33m)\u001b[0m\u001b[1;33m\u001b[0m\u001b[1;33m\u001b[0m\u001b[0m\n\u001b[0m\u001b[0;32m    134\u001b[0m         \u001b[1;32mexcept\u001b[0m \u001b[0mHTTPError\u001b[0m \u001b[1;32mas\u001b[0m \u001b[0me\u001b[0m\u001b[1;33m:\u001b[0m\u001b[1;33m\u001b[0m\u001b[1;33m\u001b[0m\u001b[0m\n\u001b[0;32m    135\u001b[0m             \u001b[1;32mif\u001b[0m \u001b[0me\u001b[0m\u001b[1;33m.\u001b[0m\u001b[0mcode\u001b[0m \u001b[1;33m==\u001b[0m \u001b[1;36m404\u001b[0m\u001b[1;33m:\u001b[0m\u001b[1;33m\u001b[0m\u001b[1;33m\u001b[0m\u001b[0m\n",
      "\u001b[1;32mC:\\ProgramData\\Anaconda3\\lib\\urllib\\request.py\u001b[0m in \u001b[0;36murlopen\u001b[1;34m(url, data, timeout, cafile, capath, cadefault, context)\u001b[0m\n\u001b[0;32m    220\u001b[0m     \u001b[1;32melse\u001b[0m\u001b[1;33m:\u001b[0m\u001b[1;33m\u001b[0m\u001b[1;33m\u001b[0m\u001b[0m\n\u001b[0;32m    221\u001b[0m         \u001b[0mopener\u001b[0m \u001b[1;33m=\u001b[0m \u001b[0m_opener\u001b[0m\u001b[1;33m\u001b[0m\u001b[1;33m\u001b[0m\u001b[0m\n\u001b[1;32m--> 222\u001b[1;33m     \u001b[1;32mreturn\u001b[0m \u001b[0mopener\u001b[0m\u001b[1;33m.\u001b[0m\u001b[0mopen\u001b[0m\u001b[1;33m(\u001b[0m\u001b[0murl\u001b[0m\u001b[1;33m,\u001b[0m \u001b[0mdata\u001b[0m\u001b[1;33m,\u001b[0m \u001b[0mtimeout\u001b[0m\u001b[1;33m)\u001b[0m\u001b[1;33m\u001b[0m\u001b[1;33m\u001b[0m\u001b[0m\n\u001b[0m\u001b[0;32m    223\u001b[0m \u001b[1;33m\u001b[0m\u001b[0m\n\u001b[0;32m    224\u001b[0m \u001b[1;32mdef\u001b[0m \u001b[0minstall_opener\u001b[0m\u001b[1;33m(\u001b[0m\u001b[0mopener\u001b[0m\u001b[1;33m)\u001b[0m\u001b[1;33m:\u001b[0m\u001b[1;33m\u001b[0m\u001b[1;33m\u001b[0m\u001b[0m\n",
      "\u001b[1;32mC:\\ProgramData\\Anaconda3\\lib\\urllib\\request.py\u001b[0m in \u001b[0;36mopen\u001b[1;34m(self, fullurl, data, timeout)\u001b[0m\n\u001b[0;32m    523\u001b[0m             \u001b[0mreq\u001b[0m \u001b[1;33m=\u001b[0m \u001b[0mmeth\u001b[0m\u001b[1;33m(\u001b[0m\u001b[0mreq\u001b[0m\u001b[1;33m)\u001b[0m\u001b[1;33m\u001b[0m\u001b[1;33m\u001b[0m\u001b[0m\n\u001b[0;32m    524\u001b[0m \u001b[1;33m\u001b[0m\u001b[0m\n\u001b[1;32m--> 525\u001b[1;33m         \u001b[0mresponse\u001b[0m \u001b[1;33m=\u001b[0m \u001b[0mself\u001b[0m\u001b[1;33m.\u001b[0m\u001b[0m_open\u001b[0m\u001b[1;33m(\u001b[0m\u001b[0mreq\u001b[0m\u001b[1;33m,\u001b[0m \u001b[0mdata\u001b[0m\u001b[1;33m)\u001b[0m\u001b[1;33m\u001b[0m\u001b[1;33m\u001b[0m\u001b[0m\n\u001b[0m\u001b[0;32m    526\u001b[0m \u001b[1;33m\u001b[0m\u001b[0m\n\u001b[0;32m    527\u001b[0m         \u001b[1;31m# post-process response\u001b[0m\u001b[1;33m\u001b[0m\u001b[1;33m\u001b[0m\u001b[1;33m\u001b[0m\u001b[0m\n",
      "\u001b[1;32mC:\\ProgramData\\Anaconda3\\lib\\urllib\\request.py\u001b[0m in \u001b[0;36m_open\u001b[1;34m(self, req, data)\u001b[0m\n\u001b[0;32m    541\u001b[0m         \u001b[0mprotocol\u001b[0m \u001b[1;33m=\u001b[0m \u001b[0mreq\u001b[0m\u001b[1;33m.\u001b[0m\u001b[0mtype\u001b[0m\u001b[1;33m\u001b[0m\u001b[1;33m\u001b[0m\u001b[0m\n\u001b[0;32m    542\u001b[0m         result = self._call_chain(self.handle_open, protocol, protocol +\n\u001b[1;32m--> 543\u001b[1;33m                                   '_open', req)\n\u001b[0m\u001b[0;32m    544\u001b[0m         \u001b[1;32mif\u001b[0m \u001b[0mresult\u001b[0m\u001b[1;33m:\u001b[0m\u001b[1;33m\u001b[0m\u001b[1;33m\u001b[0m\u001b[0m\n\u001b[0;32m    545\u001b[0m             \u001b[1;32mreturn\u001b[0m \u001b[0mresult\u001b[0m\u001b[1;33m\u001b[0m\u001b[1;33m\u001b[0m\u001b[0m\n",
      "\u001b[1;32mC:\\ProgramData\\Anaconda3\\lib\\urllib\\request.py\u001b[0m in \u001b[0;36m_call_chain\u001b[1;34m(self, chain, kind, meth_name, *args)\u001b[0m\n\u001b[0;32m    501\u001b[0m         \u001b[1;32mfor\u001b[0m \u001b[0mhandler\u001b[0m \u001b[1;32min\u001b[0m \u001b[0mhandlers\u001b[0m\u001b[1;33m:\u001b[0m\u001b[1;33m\u001b[0m\u001b[1;33m\u001b[0m\u001b[0m\n\u001b[0;32m    502\u001b[0m             \u001b[0mfunc\u001b[0m \u001b[1;33m=\u001b[0m \u001b[0mgetattr\u001b[0m\u001b[1;33m(\u001b[0m\u001b[0mhandler\u001b[0m\u001b[1;33m,\u001b[0m \u001b[0mmeth_name\u001b[0m\u001b[1;33m)\u001b[0m\u001b[1;33m\u001b[0m\u001b[1;33m\u001b[0m\u001b[0m\n\u001b[1;32m--> 503\u001b[1;33m             \u001b[0mresult\u001b[0m \u001b[1;33m=\u001b[0m \u001b[0mfunc\u001b[0m\u001b[1;33m(\u001b[0m\u001b[1;33m*\u001b[0m\u001b[0margs\u001b[0m\u001b[1;33m)\u001b[0m\u001b[1;33m\u001b[0m\u001b[1;33m\u001b[0m\u001b[0m\n\u001b[0m\u001b[0;32m    504\u001b[0m             \u001b[1;32mif\u001b[0m \u001b[0mresult\u001b[0m \u001b[1;32mis\u001b[0m \u001b[1;32mnot\u001b[0m \u001b[1;32mNone\u001b[0m\u001b[1;33m:\u001b[0m\u001b[1;33m\u001b[0m\u001b[1;33m\u001b[0m\u001b[0m\n\u001b[0;32m    505\u001b[0m                 \u001b[1;32mreturn\u001b[0m \u001b[0mresult\u001b[0m\u001b[1;33m\u001b[0m\u001b[1;33m\u001b[0m\u001b[0m\n",
      "\u001b[1;32mC:\\ProgramData\\Anaconda3\\lib\\urllib\\request.py\u001b[0m in \u001b[0;36mhttp_open\u001b[1;34m(self, req)\u001b[0m\n\u001b[0;32m   1343\u001b[0m \u001b[1;33m\u001b[0m\u001b[0m\n\u001b[0;32m   1344\u001b[0m     \u001b[1;32mdef\u001b[0m \u001b[0mhttp_open\u001b[0m\u001b[1;33m(\u001b[0m\u001b[0mself\u001b[0m\u001b[1;33m,\u001b[0m \u001b[0mreq\u001b[0m\u001b[1;33m)\u001b[0m\u001b[1;33m:\u001b[0m\u001b[1;33m\u001b[0m\u001b[1;33m\u001b[0m\u001b[0m\n\u001b[1;32m-> 1345\u001b[1;33m         \u001b[1;32mreturn\u001b[0m \u001b[0mself\u001b[0m\u001b[1;33m.\u001b[0m\u001b[0mdo_open\u001b[0m\u001b[1;33m(\u001b[0m\u001b[0mhttp\u001b[0m\u001b[1;33m.\u001b[0m\u001b[0mclient\u001b[0m\u001b[1;33m.\u001b[0m\u001b[0mHTTPConnection\u001b[0m\u001b[1;33m,\u001b[0m \u001b[0mreq\u001b[0m\u001b[1;33m)\u001b[0m\u001b[1;33m\u001b[0m\u001b[1;33m\u001b[0m\u001b[0m\n\u001b[0m\u001b[0;32m   1346\u001b[0m \u001b[1;33m\u001b[0m\u001b[0m\n\u001b[0;32m   1347\u001b[0m     \u001b[0mhttp_request\u001b[0m \u001b[1;33m=\u001b[0m \u001b[0mAbstractHTTPHandler\u001b[0m\u001b[1;33m.\u001b[0m\u001b[0mdo_request_\u001b[0m\u001b[1;33m\u001b[0m\u001b[1;33m\u001b[0m\u001b[0m\n",
      "\u001b[1;32mC:\\ProgramData\\Anaconda3\\lib\\urllib\\request.py\u001b[0m in \u001b[0;36mdo_open\u001b[1;34m(self, http_class, req, **http_conn_args)\u001b[0m\n\u001b[0;32m   1318\u001b[0m             \u001b[1;32mexcept\u001b[0m \u001b[0mOSError\u001b[0m \u001b[1;32mas\u001b[0m \u001b[0merr\u001b[0m\u001b[1;33m:\u001b[0m \u001b[1;31m# timeout error\u001b[0m\u001b[1;33m\u001b[0m\u001b[1;33m\u001b[0m\u001b[0m\n\u001b[0;32m   1319\u001b[0m                 \u001b[1;32mraise\u001b[0m \u001b[0mURLError\u001b[0m\u001b[1;33m(\u001b[0m\u001b[0merr\u001b[0m\u001b[1;33m)\u001b[0m\u001b[1;33m\u001b[0m\u001b[1;33m\u001b[0m\u001b[0m\n\u001b[1;32m-> 1320\u001b[1;33m             \u001b[0mr\u001b[0m \u001b[1;33m=\u001b[0m \u001b[0mh\u001b[0m\u001b[1;33m.\u001b[0m\u001b[0mgetresponse\u001b[0m\u001b[1;33m(\u001b[0m\u001b[1;33m)\u001b[0m\u001b[1;33m\u001b[0m\u001b[1;33m\u001b[0m\u001b[0m\n\u001b[0m\u001b[0;32m   1321\u001b[0m         \u001b[1;32mexcept\u001b[0m\u001b[1;33m:\u001b[0m\u001b[1;33m\u001b[0m\u001b[1;33m\u001b[0m\u001b[0m\n\u001b[0;32m   1322\u001b[0m             \u001b[0mh\u001b[0m\u001b[1;33m.\u001b[0m\u001b[0mclose\u001b[0m\u001b[1;33m(\u001b[0m\u001b[1;33m)\u001b[0m\u001b[1;33m\u001b[0m\u001b[1;33m\u001b[0m\u001b[0m\n",
      "\u001b[1;32mC:\\ProgramData\\Anaconda3\\lib\\http\\client.py\u001b[0m in \u001b[0;36mgetresponse\u001b[1;34m(self)\u001b[0m\n\u001b[0;32m   1319\u001b[0m         \u001b[1;32mtry\u001b[0m\u001b[1;33m:\u001b[0m\u001b[1;33m\u001b[0m\u001b[1;33m\u001b[0m\u001b[0m\n\u001b[0;32m   1320\u001b[0m             \u001b[1;32mtry\u001b[0m\u001b[1;33m:\u001b[0m\u001b[1;33m\u001b[0m\u001b[1;33m\u001b[0m\u001b[0m\n\u001b[1;32m-> 1321\u001b[1;33m                 \u001b[0mresponse\u001b[0m\u001b[1;33m.\u001b[0m\u001b[0mbegin\u001b[0m\u001b[1;33m(\u001b[0m\u001b[1;33m)\u001b[0m\u001b[1;33m\u001b[0m\u001b[1;33m\u001b[0m\u001b[0m\n\u001b[0m\u001b[0;32m   1322\u001b[0m             \u001b[1;32mexcept\u001b[0m \u001b[0mConnectionError\u001b[0m\u001b[1;33m:\u001b[0m\u001b[1;33m\u001b[0m\u001b[1;33m\u001b[0m\u001b[0m\n\u001b[0;32m   1323\u001b[0m                 \u001b[0mself\u001b[0m\u001b[1;33m.\u001b[0m\u001b[0mclose\u001b[0m\u001b[1;33m(\u001b[0m\u001b[1;33m)\u001b[0m\u001b[1;33m\u001b[0m\u001b[1;33m\u001b[0m\u001b[0m\n",
      "\u001b[1;32mC:\\ProgramData\\Anaconda3\\lib\\http\\client.py\u001b[0m in \u001b[0;36mbegin\u001b[1;34m(self)\u001b[0m\n\u001b[0;32m    294\u001b[0m         \u001b[1;31m# read until we get a non-100 response\u001b[0m\u001b[1;33m\u001b[0m\u001b[1;33m\u001b[0m\u001b[1;33m\u001b[0m\u001b[0m\n\u001b[0;32m    295\u001b[0m         \u001b[1;32mwhile\u001b[0m \u001b[1;32mTrue\u001b[0m\u001b[1;33m:\u001b[0m\u001b[1;33m\u001b[0m\u001b[1;33m\u001b[0m\u001b[0m\n\u001b[1;32m--> 296\u001b[1;33m             \u001b[0mversion\u001b[0m\u001b[1;33m,\u001b[0m \u001b[0mstatus\u001b[0m\u001b[1;33m,\u001b[0m \u001b[0mreason\u001b[0m \u001b[1;33m=\u001b[0m \u001b[0mself\u001b[0m\u001b[1;33m.\u001b[0m\u001b[0m_read_status\u001b[0m\u001b[1;33m(\u001b[0m\u001b[1;33m)\u001b[0m\u001b[1;33m\u001b[0m\u001b[1;33m\u001b[0m\u001b[0m\n\u001b[0m\u001b[0;32m    297\u001b[0m             \u001b[1;32mif\u001b[0m \u001b[0mstatus\u001b[0m \u001b[1;33m!=\u001b[0m \u001b[0mCONTINUE\u001b[0m\u001b[1;33m:\u001b[0m\u001b[1;33m\u001b[0m\u001b[1;33m\u001b[0m\u001b[0m\n\u001b[0;32m    298\u001b[0m                 \u001b[1;32mbreak\u001b[0m\u001b[1;33m\u001b[0m\u001b[1;33m\u001b[0m\u001b[0m\n",
      "\u001b[1;32mC:\\ProgramData\\Anaconda3\\lib\\http\\client.py\u001b[0m in \u001b[0;36m_read_status\u001b[1;34m(self)\u001b[0m\n\u001b[0;32m    255\u001b[0m \u001b[1;33m\u001b[0m\u001b[0m\n\u001b[0;32m    256\u001b[0m     \u001b[1;32mdef\u001b[0m \u001b[0m_read_status\u001b[0m\u001b[1;33m(\u001b[0m\u001b[0mself\u001b[0m\u001b[1;33m)\u001b[0m\u001b[1;33m:\u001b[0m\u001b[1;33m\u001b[0m\u001b[1;33m\u001b[0m\u001b[0m\n\u001b[1;32m--> 257\u001b[1;33m         \u001b[0mline\u001b[0m \u001b[1;33m=\u001b[0m \u001b[0mstr\u001b[0m\u001b[1;33m(\u001b[0m\u001b[0mself\u001b[0m\u001b[1;33m.\u001b[0m\u001b[0mfp\u001b[0m\u001b[1;33m.\u001b[0m\u001b[0mreadline\u001b[0m\u001b[1;33m(\u001b[0m\u001b[0m_MAXLINE\u001b[0m \u001b[1;33m+\u001b[0m \u001b[1;36m1\u001b[0m\u001b[1;33m)\u001b[0m\u001b[1;33m,\u001b[0m \u001b[1;34m\"iso-8859-1\"\u001b[0m\u001b[1;33m)\u001b[0m\u001b[1;33m\u001b[0m\u001b[1;33m\u001b[0m\u001b[0m\n\u001b[0m\u001b[0;32m    258\u001b[0m         \u001b[1;32mif\u001b[0m \u001b[0mlen\u001b[0m\u001b[1;33m(\u001b[0m\u001b[0mline\u001b[0m\u001b[1;33m)\u001b[0m \u001b[1;33m>\u001b[0m \u001b[0m_MAXLINE\u001b[0m\u001b[1;33m:\u001b[0m\u001b[1;33m\u001b[0m\u001b[1;33m\u001b[0m\u001b[0m\n\u001b[0;32m    259\u001b[0m             \u001b[1;32mraise\u001b[0m \u001b[0mLineTooLong\u001b[0m\u001b[1;33m(\u001b[0m\u001b[1;34m\"status line\"\u001b[0m\u001b[1;33m)\u001b[0m\u001b[1;33m\u001b[0m\u001b[1;33m\u001b[0m\u001b[0m\n",
      "\u001b[1;32mC:\\ProgramData\\Anaconda3\\lib\\socket.py\u001b[0m in \u001b[0;36mreadinto\u001b[1;34m(self, b)\u001b[0m\n\u001b[0;32m    587\u001b[0m         \u001b[1;32mwhile\u001b[0m \u001b[1;32mTrue\u001b[0m\u001b[1;33m:\u001b[0m\u001b[1;33m\u001b[0m\u001b[1;33m\u001b[0m\u001b[0m\n\u001b[0;32m    588\u001b[0m             \u001b[1;32mtry\u001b[0m\u001b[1;33m:\u001b[0m\u001b[1;33m\u001b[0m\u001b[1;33m\u001b[0m\u001b[0m\n\u001b[1;32m--> 589\u001b[1;33m                 \u001b[1;32mreturn\u001b[0m \u001b[0mself\u001b[0m\u001b[1;33m.\u001b[0m\u001b[0m_sock\u001b[0m\u001b[1;33m.\u001b[0m\u001b[0mrecv_into\u001b[0m\u001b[1;33m(\u001b[0m\u001b[0mb\u001b[0m\u001b[1;33m)\u001b[0m\u001b[1;33m\u001b[0m\u001b[1;33m\u001b[0m\u001b[0m\n\u001b[0m\u001b[0;32m    590\u001b[0m             \u001b[1;32mexcept\u001b[0m \u001b[0mtimeout\u001b[0m\u001b[1;33m:\u001b[0m\u001b[1;33m\u001b[0m\u001b[1;33m\u001b[0m\u001b[0m\n\u001b[0;32m    591\u001b[0m                 \u001b[0mself\u001b[0m\u001b[1;33m.\u001b[0m\u001b[0m_timeout_occurred\u001b[0m \u001b[1;33m=\u001b[0m \u001b[1;32mTrue\u001b[0m\u001b[1;33m\u001b[0m\u001b[1;33m\u001b[0m\u001b[0m\n",
      "\u001b[1;31mTimeoutError\u001b[0m: [WinError 10060] Une tentative de connexion a échoué car le parti connecté n’a pas répondu convenablement au-delà d’une certaine durée ou une connexion établie a échoué car l’hôte de connexion n’a pas répondu"
     ]
    }
   ],
   "source": [
    "from sklearn.datasets import fetch_mldata\n",
    "\n",
    "def loadFile(name):\n",
    "    data = fetch_mldata(name, data_home='.')\n",
    "    print(data.data.shape)\n",
    "    unique=np.unique(data.target)\n",
    "    for i in range(len(data.target)):\n",
    "        if (data.target[i]==unique[0]):\n",
    "            data.target[i]=1\n",
    "        else:\n",
    "            data.target[i]=-1\n",
    "            \n",
    "loadFile('breast-cancer_scale')\n",
    "#Les donnees sont dans data.data et data.target"
   ]
  },
  {
   "cell_type": "markdown",
   "metadata": {},
   "source": [
    "<font color=\"RED\" size=\"+1\">**[Q]**</font> Écrire la fonction `split` permettant de découper un labeledSet données en 2: un ensemble d'apprentissage et un ensemble de test."
   ]
  },
  {
   "cell_type": "code",
   "execution_count": null,
   "metadata": {},
   "outputs": [],
   "source": []
  },
  {
   "cell_type": "markdown",
   "metadata": {},
   "source": [
    "<font color=\"RED\" size=\"+1\">**[Q]**</font> Tester différents k-NN , pour différentes valeurs de $k$, et tracer la courbe de performance (accuracy) pour les données d'apprentissage et les données de test."
   ]
  },
  {
   "cell_type": "code",
   "execution_count": null,
   "metadata": {},
   "outputs": [],
   "source": []
  },
  {
   "cell_type": "code",
   "execution_count": null,
   "metadata": {},
   "outputs": [],
   "source": []
  },
  {
   "cell_type": "code",
   "execution_count": null,
   "metadata": {},
   "outputs": [],
   "source": []
  },
  {
   "cell_type": "code",
   "execution_count": null,
   "metadata": {},
   "outputs": [],
   "source": []
  },
  {
   "cell_type": "code",
   "execution_count": null,
   "metadata": {},
   "outputs": [],
   "source": []
  },
  {
   "cell_type": "code",
   "execution_count": null,
   "metadata": {},
   "outputs": [],
   "source": []
  },
  {
   "cell_type": "code",
   "execution_count": null,
   "metadata": {},
   "outputs": [],
   "source": []
  },
  {
   "cell_type": "code",
   "execution_count": null,
   "metadata": {},
   "outputs": [],
   "source": []
  },
  {
   "cell_type": "code",
   "execution_count": null,
   "metadata": {},
   "outputs": [],
   "source": []
  }
 ],
 "metadata": {
  "kernelspec": {
   "display_name": "Python 3",
   "language": "python",
   "name": "python3"
  },
  "language_info": {
   "codemirror_mode": {
    "name": "ipython",
    "version": 3
   },
   "file_extension": ".py",
   "mimetype": "text/x-python",
   "name": "python",
   "nbconvert_exporter": "python",
   "pygments_lexer": "ipython3",
   "version": "3.7.1"
  }
 },
 "nbformat": 4,
 "nbformat_minor": 1
}
